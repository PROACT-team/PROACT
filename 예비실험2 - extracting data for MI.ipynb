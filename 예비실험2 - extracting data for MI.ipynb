{
 "cells": [
  {
   "cell_type": "code",
   "execution_count": 1,
   "metadata": {},
   "outputs": [],
   "source": [
    "import pandas as pd"
   ]
  },
  {
   "cell_type": "code",
   "execution_count": 2,
   "metadata": {},
   "outputs": [],
   "source": [
    "data_allforms_training2 = pd.read_csv('all_forms_PROACT_training2.txt', sep='|', header=0, dtype={\"feature_value\":str, \"feature_unit\":str}, low_memory = False)\n",
    "data_allforms_training = pd.read_csv('all_forms_PROACT_training.txt', sep='|', header=0, dtype={\"feature_value\":str, \"feature_unit\":str}, low_memory = False)"
   ]
  },
  {
   "cell_type": "code",
   "execution_count": 3,
   "metadata": {},
   "outputs": [],
   "source": [
    "p2_data_allforms = pd.concat([data_allforms_training, data_allforms_training2])"
   ]
  },
  {
   "cell_type": "code",
   "execution_count": 4,
   "metadata": {},
   "outputs": [],
   "source": [
    "extent = list(p2_data_allforms[\"SubjectID\"].unique())"
   ]
  },
  {
   "cell_type": "code",
   "execution_count": 5,
   "metadata": {},
   "outputs": [
    {
     "name": "stdout",
     "output_type": "stream",
     "text": [
      "8835\n"
     ]
    }
   ],
   "source": [
    "print(len(p2_data_allforms[\"SubjectID\"].unique()))"
   ]
  },
  {
   "cell_type": "markdown",
   "metadata": {},
   "source": [
    "Extract Static Features"
   ]
  },
  {
   "cell_type": "code",
   "execution_count": 6,
   "metadata": {},
   "outputs": [],
   "source": [
    "p2_demographic = pd.read_csv('demographic.csv')\n",
    "p2_family_hx = pd.read_csv('family_hx.csv')\n",
    "p2_als_hx = pd.read_csv('als_hx.csv')\n",
    "p2_riluzole = pd.read_csv('riluzole.csv')\n",
    "p2_treatment_group = pd.read_csv('treatment_group.csv')"
   ]
  },
  {
   "cell_type": "code",
   "execution_count": 7,
   "metadata": {},
   "outputs": [],
   "source": [
    "p2_demographic.query(\"SubjectID == {0}\".format(extent), inplace=True)\n",
    "p2_family_hx.query(\"SubjectID == {0}\".format(extent), inplace=True)\n",
    "p2_als_hx.query(\"SubjectID == {0}\".format(extent), inplace=True)\n",
    "p2_riluzole.query(\"SubjectID == {0}\".format(extent), inplace=True)\n",
    "p2_treatment_group.query(\"SubjectID == {0}\".format(extent), inplace=True)"
   ]
  },
  {
   "cell_type": "code",
   "execution_count": 8,
   "metadata": {},
   "outputs": [],
   "source": [
    "p2_static = pd.DataFrame(columns=['SubjectID'])\n",
    "static_list = [p2_demographic, p2_family_hx, p2_als_hx, p2_riluzole, p2_treatment_group]\n",
    "for i in static_list :\n",
    "    df = i\n",
    "    p2_static = p2_static.merge(df, on='SubjectID', how='outer')"
   ]
  },
  {
   "cell_type": "code",
   "execution_count": 9,
   "metadata": {},
   "outputs": [],
   "source": [
    "p2_static.to_csv('p2_static_features_with_nans.csv')"
   ]
  },
  {
   "cell_type": "markdown",
   "metadata": {},
   "source": [
    "Extract Time-resolved Features"
   ]
  },
  {
   "cell_type": "code",
   "execution_count": 10,
   "metadata": {},
   "outputs": [],
   "source": [
    "p2_alsfrs_3mo = pd.read_csv('alsfrs_total_3mo_meta_slope.csv')\n",
    "p2_fvc_3mo = pd.read_csv('fvc_3mo_meta.csv')\n",
    "p2_svc_3mo = pd.read_csv('svc_3mo_meta.csv')\n",
    "p2_vitals = pd.read_csv('vitals.csv')\n",
    "p2_weight = pd.read_csv('weight.csv')\n",
    "p2_bmi = pd.read_csv('bmi.csv')"
   ]
  },
  {
   "cell_type": "code",
   "execution_count": 11,
   "metadata": {},
   "outputs": [],
   "source": [
    "p2_alsfrs_3mo.query(\"SubjectID == {0}\".format(extent), inplace=True)\n",
    "p2_fvc_3mo.query(\"SubjectID == {0}\".format(extent), inplace=True)\n",
    "p2_svc_3mo.query(\"SubjectID == {0}\".format(extent), inplace=True)\n",
    "p2_vitals.query(\"SubjectID == {0}\".format(extent), inplace=True)\n",
    "p2_weight.query(\"SubjectID == {0}\".format(extent), inplace=True)\n",
    "p2_bmi.query(\"SubjectID == {0}\".format(extent), inplace=True)"
   ]
  },
  {
   "cell_type": "code",
   "execution_count": 12,
   "metadata": {},
   "outputs": [],
   "source": [
    "p2_vitals.query('feature_delta < 92', inplace=True)\n",
    "p2_weight.query('feature_delta < 92', inplace=True)\n",
    "p2_bmi.query('feature_delta < 92', inplace=True)"
   ]
  },
  {
   "cell_type": "code",
   "execution_count": 13,
   "metadata": {},
   "outputs": [
    {
     "name": "stdout",
     "output_type": "stream",
     "text": [
      "4996\n",
      "6281\n",
      "275\n",
      "5519\n",
      "6065\n",
      "3337\n"
     ]
    }
   ],
   "source": [
    "print(len(p2_alsfrs_3mo[\"SubjectID\"].unique()))\n",
    "print(len(p2_fvc_3mo[\"SubjectID\"].unique()))\n",
    "print(len(p2_svc_3mo[\"SubjectID\"].unique()))\n",
    "print(len(p2_vitals[\"SubjectID\"].unique()))\n",
    "print(len(p2_weight[\"SubjectID\"].unique()))\n",
    "print(len(p2_bmi[\"SubjectID\"].unique()))"
   ]
  },
  {
   "cell_type": "code",
   "execution_count": 14,
   "metadata": {},
   "outputs": [],
   "source": [
    "p2_alsfrs_3mo.set_index('SubjectID', inplace=True)\n",
    "p2_fvc_3mo.set_index('SubjectID', inplace=True)\n",
    "p2_svc_3mo.set_index('SubjectID', inplace=True)\n",
    "p2_vitals.set_index('SubjectID', inplace=True)\n",
    "p2_weight.set_index('SubjectID', inplace=True)\n",
    "p2_bmi.set_index('SubjectID', inplace=True)"
   ]
  },
  {
   "cell_type": "code",
   "execution_count": 15,
   "metadata": {},
   "outputs": [],
   "source": [
    "p2_alsfrs_3mo = p2_alsfrs_3mo.iloc[:,:4]\n",
    "p2_fvc_3mo = p2_fvc_3mo.iloc[:,:4]\n",
    "p2_svc_3mo = p2_svc_3mo.iloc[:,:4]"
   ]
  },
  {
   "cell_type": "code",
   "execution_count": 16,
   "metadata": {},
   "outputs": [],
   "source": [
    "p2_alsfrs_3mo.to_csv('p_alsfrs_total_3mo_meta_slope.csv')\n",
    "p2_fvc_3mo.to_csv('p_fvc_3mo_meta.csv')\n",
    "p2_svc_3mo.to_csv('p_svc_3mo_meta.csv')\n",
    "p2_vitals.to_csv('p_vitals.csv')\n",
    "p2_weight.to_csv('p_weight.csv')\n",
    "p2_bmi.to_csv('p_bmi.csv')"
   ]
  },
  {
   "cell_type": "markdown",
   "metadata": {},
   "source": [
    "Extract Target variable"
   ]
  },
  {
   "cell_type": "code",
   "execution_count": 17,
   "metadata": {},
   "outputs": [],
   "source": [
    "p_ALSFRS_slope = pd.read_csv('ALSFRS_slope.csv')"
   ]
  },
  {
   "cell_type": "code",
   "execution_count": 18,
   "metadata": {},
   "outputs": [],
   "source": [
    "p_ALSFRS_slope.query(\"SubjectID == {0}\".format(extent), inplace=True)"
   ]
  },
  {
   "cell_type": "code",
   "execution_count": 19,
   "metadata": {},
   "outputs": [
    {
     "name": "stdout",
     "output_type": "stream",
     "text": [
      "2281\n"
     ]
    }
   ],
   "source": [
    "print(len(p_ALSFRS_slope[\"SubjectID\"].unique()))"
   ]
  },
  {
   "cell_type": "markdown",
   "metadata": {},
   "source": [
    "Preprocessing time-resolved data"
   ]
  },
  {
   "cell_type": "markdown",
   "metadata": {},
   "source": [
    "1) Weight"
   ]
  },
  {
   "cell_type": "code",
   "execution_count": 20,
   "metadata": {},
   "outputs": [
    {
     "data": {
      "text/html": [
       "<div>\n",
       "<style scoped>\n",
       "    .dataframe tbody tr th:only-of-type {\n",
       "        vertical-align: middle;\n",
       "    }\n",
       "\n",
       "    .dataframe tbody tr th {\n",
       "        vertical-align: top;\n",
       "    }\n",
       "\n",
       "    .dataframe thead tr th {\n",
       "        text-align: left;\n",
       "    }\n",
       "</style>\n",
       "<table border=\"1\" class=\"dataframe\">\n",
       "  <thead>\n",
       "    <tr>\n",
       "      <th></th>\n",
       "      <th>SubjectID</th>\n",
       "      <th colspan=\"3\" halign=\"left\">weight</th>\n",
       "    </tr>\n",
       "    <tr>\n",
       "      <th></th>\n",
       "      <th></th>\n",
       "      <th>mean</th>\n",
       "      <th>max</th>\n",
       "      <th>min</th>\n",
       "    </tr>\n",
       "  </thead>\n",
       "  <tbody>\n",
       "    <tr>\n",
       "      <th>0</th>\n",
       "      <td>329</td>\n",
       "      <td>50.380000</td>\n",
       "      <td>52.2</td>\n",
       "      <td>45.8</td>\n",
       "    </tr>\n",
       "    <tr>\n",
       "      <th>1</th>\n",
       "      <td>533</td>\n",
       "      <td>51.000000</td>\n",
       "      <td>52.0</td>\n",
       "      <td>50.5</td>\n",
       "    </tr>\n",
       "    <tr>\n",
       "      <th>2</th>\n",
       "      <td>649</td>\n",
       "      <td>74.566667</td>\n",
       "      <td>75.6</td>\n",
       "      <td>73.7</td>\n",
       "    </tr>\n",
       "    <tr>\n",
       "      <th>3</th>\n",
       "      <td>708</td>\n",
       "      <td>60.450000</td>\n",
       "      <td>63.8</td>\n",
       "      <td>53.9</td>\n",
       "    </tr>\n",
       "    <tr>\n",
       "      <th>4</th>\n",
       "      <td>902</td>\n",
       "      <td>62.220000</td>\n",
       "      <td>63.5</td>\n",
       "      <td>61.7</td>\n",
       "    </tr>\n",
       "    <tr>\n",
       "      <th>...</th>\n",
       "      <td>...</td>\n",
       "      <td>...</td>\n",
       "      <td>...</td>\n",
       "      <td>...</td>\n",
       "    </tr>\n",
       "    <tr>\n",
       "      <th>6060</th>\n",
       "      <td>999308</td>\n",
       "      <td>72.300000</td>\n",
       "      <td>72.3</td>\n",
       "      <td>72.3</td>\n",
       "    </tr>\n",
       "    <tr>\n",
       "      <th>6061</th>\n",
       "      <td>999482</td>\n",
       "      <td>82.750000</td>\n",
       "      <td>85.0</td>\n",
       "      <td>82.0</td>\n",
       "    </tr>\n",
       "    <tr>\n",
       "      <th>6062</th>\n",
       "      <td>999823</td>\n",
       "      <td>70.460000</td>\n",
       "      <td>71.9</td>\n",
       "      <td>68.5</td>\n",
       "    </tr>\n",
       "    <tr>\n",
       "      <th>6063</th>\n",
       "      <td>999880</td>\n",
       "      <td>68.000000</td>\n",
       "      <td>68.2</td>\n",
       "      <td>67.7</td>\n",
       "    </tr>\n",
       "    <tr>\n",
       "      <th>6064</th>\n",
       "      <td>999990</td>\n",
       "      <td>56.720000</td>\n",
       "      <td>56.8</td>\n",
       "      <td>56.7</td>\n",
       "    </tr>\n",
       "  </tbody>\n",
       "</table>\n",
       "<p>6065 rows × 4 columns</p>\n",
       "</div>"
      ],
      "text/plain": [
       "     SubjectID     weight            \n",
       "                     mean   max   min\n",
       "0          329  50.380000  52.2  45.8\n",
       "1          533  51.000000  52.0  50.5\n",
       "2          649  74.566667  75.6  73.7\n",
       "3          708  60.450000  63.8  53.9\n",
       "4          902  62.220000  63.5  61.7\n",
       "...        ...        ...   ...   ...\n",
       "6060    999308  72.300000  72.3  72.3\n",
       "6061    999482  82.750000  85.0  82.0\n",
       "6062    999823  70.460000  71.9  68.5\n",
       "6063    999880  68.000000  68.2  67.7\n",
       "6064    999990  56.720000  56.8  56.7\n",
       "\n",
       "[6065 rows x 4 columns]"
      ]
     },
     "execution_count": 20,
     "metadata": {},
     "output_type": "execute_result"
    }
   ],
   "source": [
    "p2_weight_s1 = p2_weight.iloc[:,:1].groupby('SubjectID',group_keys=False).agg(['mean', 'max', 'min'])\n",
    "p2_weight_s1.reset_index()"
   ]
  },
  {
   "cell_type": "code",
   "execution_count": 21,
   "metadata": {},
   "outputs": [],
   "source": [
    "p2_weight_s2 = p2_weight.groupby('SubjectID').agg(['first', 'last'])\n",
    "p2_weight_s2.reset_index()\n",
    "p2_weight_s2['weight_change'] = p2_weight_s2.iloc[:,1] - p2_weight_s2.iloc[:,0]\n",
    "p2_weight_s2['interval'] = p2_weight_s2.iloc[:,3] - p2_weight_s2.iloc[:,2]\n",
    "p2_weight_s2['weight_slope'] = p2_weight_s2['weight_change']/p2_weight_s2['interval']"
   ]
  },
  {
   "cell_type": "code",
   "execution_count": 22,
   "metadata": {},
   "outputs": [],
   "source": [
    "p2_weight_stat = p2_weight_s1.merge(p2_weight_s2[['weight_slope']], on = 'SubjectID', how='outer')\n",
    "p2_weight_stat.columns = p2_weight_stat.columns.droplevel()\n",
    "p2_weight_stat.columns = ['mean_weight', 'max_weight', 'min_weight', 'slope_weight']"
   ]
  },
  {
   "cell_type": "code",
   "execution_count": 23,
   "metadata": {},
   "outputs": [],
   "source": [
    "p2_weight_stat.to_csv('p2_weight_stat.csv')"
   ]
  },
  {
   "cell_type": "code",
   "execution_count": 24,
   "metadata": {},
   "outputs": [
    {
     "name": "stdout",
     "output_type": "stream",
     "text": [
      "mean value of mean_weight is 73.16566579870472\n",
      "mean value of max_weight is 74.1169841379719\n",
      "mean value of min_weight is 72.07382980260513\n",
      "mean slope of weight is -0.012173493037189868\n"
     ]
    }
   ],
   "source": [
    "print(\"mean value of mean_weight is \"+str(p2_weight_stat[\"mean_weight\"].mean()))\n",
    "print(\"mean value of max_weight is \"+str(p2_weight_stat[\"max_weight\"].mean()))\n",
    "print(\"mean value of min_weight is \"+str(p2_weight_stat[\"min_weight\"].mean()))\n",
    "print(\"mean slope of weight is \"+str(p2_weight_stat[\"slope_weight\"].mean()))"
   ]
  },
  {
   "cell_type": "markdown",
   "metadata": {},
   "source": [
    "2) BMI"
   ]
  },
  {
   "cell_type": "code",
   "execution_count": 25,
   "metadata": {},
   "outputs": [],
   "source": [
    "p2_bmi_stat = p2_bmi.iloc[:,:1].groupby('SubjectID').mean()\n",
    "p2_bmi_stat.reset_index()\n",
    "p2_bmi_stat.columns = ['mean_BMI']"
   ]
  },
  {
   "cell_type": "code",
   "execution_count": 26,
   "metadata": {},
   "outputs": [],
   "source": [
    "p2_bmi_stat.to_csv('p2_bmi_stat.csv')"
   ]
  },
  {
   "cell_type": "code",
   "execution_count": 27,
   "metadata": {},
   "outputs": [
    {
     "name": "stdout",
     "output_type": "stream",
     "text": [
      "mean value of mean_bmi is 0.0025407999896009895\n"
     ]
    }
   ],
   "source": [
    "print(\"mean value of mean_bmi is \"+str(p2_bmi_stat[\"mean_BMI\"].mean()))"
   ]
  },
  {
   "cell_type": "markdown",
   "metadata": {},
   "source": [
    "3) Vitals"
   ]
  },
  {
   "cell_type": "code",
   "execution_count": 28,
   "metadata": {},
   "outputs": [],
   "source": [
    "p2_vitals_s1 = p2_vitals.iloc[:, [1,2,3,4,5]].groupby('SubjectID').agg(['mean','max', 'min'])\n",
    "p2_weight_s1.reset_index()\n",
    "p2_vitals_s1.columns = p2_vitals_s1.columns.droplevel()\n",
    "p2_vitals_s1.columns = ['mean_bp_d','max_bp_d', 'min_bp_d', 'mean_bp_s', 'max_bp_s', 'min_bp_s', 'mean_pulse', 'max_pulse', 'min_pulse', 'mean_resp_rate', 'max_resp_rate','min_resp_rate', 'mean_temp', 'max_temp', 'min_temp']"
   ]
  },
  {
   "cell_type": "code",
   "execution_count": 29,
   "metadata": {},
   "outputs": [],
   "source": [
    "p2_vitals_s2 = p2_vitals.groupby('SubjectID').agg(['first', 'last'])"
   ]
  },
  {
   "cell_type": "code",
   "execution_count": 30,
   "metadata": {},
   "outputs": [],
   "source": [
    "p2_vitals_s2['interval'] = p2_vitals_s2.iloc[:,1] - p2_vitals_s2.iloc[:,0]\n",
    "p2_vitals_s2['bp_d_slope'] = (p2_vitals_s2.iloc[:,3] - p2_vitals_s2.iloc[:,2])/p2_vitals_s2['interval']\n",
    "p2_vitals_s2['bp_s_slope'] = (p2_vitals_s2.iloc[:,5] - p2_vitals_s2.iloc[:,4])/p2_vitals_s2['interval']\n",
    "p2_vitals_s2['pulse_slope'] = (p2_vitals_s2.iloc[:,7] - p2_vitals_s2.iloc[:,6])/p2_vitals_s2['interval']\n",
    "p2_vitals_s2['resp_rate_slope'] = (p2_vitals_s2.iloc[:,9] - p2_vitals_s2.iloc[:,8])/p2_vitals_s2['interval']\n",
    "p2_vitals_s2['temp_slope'] = (p2_vitals_s2.iloc[:,11] - p2_vitals_s2.iloc[:,10])/p2_vitals_s2['interval']"
   ]
  },
  {
   "cell_type": "code",
   "execution_count": 31,
   "metadata": {},
   "outputs": [],
   "source": [
    "p2_vitals_s3 = p2_vitals_s2.iloc[:,13:]\n",
    "p2_vitals_s3.reset_index()\n",
    "p2_vitals_s3.columns = p2_vitals_s3.columns.droplevel()\n",
    "p2_vitals_s3.columns = ['bp_d_slope', 'bp_s_slope', 'pulse_slope', 'resp_rate_slope', 'temp_slope']"
   ]
  },
  {
   "cell_type": "code",
   "execution_count": 32,
   "metadata": {},
   "outputs": [],
   "source": [
    "p2_vitals_stat = p2_vitals_s1.merge(p2_vitals_s3, on='SubjectID', how='outer')"
   ]
  },
  {
   "cell_type": "code",
   "execution_count": 33,
   "metadata": {},
   "outputs": [
    {
     "name": "stdout",
     "output_type": "stream",
     "text": [
      "mean slope of bp_diastolic is -0.005486908160277516\n",
      "mean slope of bp_systolic is -0.03208867544810356\n",
      "mean slope of pulse is 0.018748461009642572\n",
      "mean slope of repiratory_rate is 0.007905405721869778\n",
      "mean slope of temperature is 0.0006912282390870383\n"
     ]
    }
   ],
   "source": [
    "print(\"mean slope of bp_diastolic is \"+str(p2_vitals_stat[\"bp_d_slope\"].mean()))\n",
    "print(\"mean slope of bp_systolic is \"+str(p2_vitals_stat[\"bp_s_slope\"].mean()))\n",
    "print(\"mean slope of pulse is \"+str(p2_vitals_stat[\"pulse_slope\"].mean()))\n",
    "print(\"mean slope of repiratory_rate is \"+str(p2_vitals_stat[\"resp_rate_slope\"].mean()))\n",
    "print(\"mean slope of temperature is \"+str(p2_vitals_stat[\"temp_slope\"].mean()))"
   ]
  },
  {
   "cell_type": "code",
   "execution_count": 34,
   "metadata": {},
   "outputs": [],
   "source": [
    "p2_vitals_stat.to_csv('p2_vitals_stat.csv')"
   ]
  },
  {
   "cell_type": "markdown",
   "metadata": {},
   "source": [
    "4) ALSFRS_3mo"
   ]
  },
  {
   "cell_type": "code",
   "execution_count": 35,
   "metadata": {},
   "outputs": [
    {
     "name": "stdout",
     "output_type": "stream",
     "text": [
      "mean slope of total alsfrs is -0.028024605618735862\n",
      "mean value of mean_alsfrs_total is 29.0226814785121\n",
      "mean value of max_alsfrs_total is 30.388877768875105\n",
      "mean value of min_alsfrs_total is 27.52341873498799\n"
     ]
    }
   ],
   "source": [
    "print(\"mean slope of total alsfrs is \"+str(p2_alsfrs_3mo[\"alsfrs_total_slope\"].mean()))\n",
    "print(\"mean value of mean_alsfrs_total is \"+str(p2_alsfrs_3mo[\"mean_alsfrs_total\"].mean()))\n",
    "print(\"mean value of max_alsfrs_total is \"+str(p2_alsfrs_3mo[\"max_alsfrs_total\"].mean()))\n",
    "print(\"mean value of min_alsfrs_total is \"+str(p2_alsfrs_3mo[\"min_alsfrs_total\"].mean()))"
   ]
  },
  {
   "cell_type": "markdown",
   "metadata": {},
   "source": [
    "5) FVC, SVC 3mo"
   ]
  },
  {
   "cell_type": "code",
   "execution_count": 36,
   "metadata": {},
   "outputs": [
    {
     "name": "stdout",
     "output_type": "stream",
     "text": [
      "mean slope of fvc is -0.09043775205298756\n",
      "mean value of mean_fvc is 79.2786074404287\n",
      "mean value of max_fvc is 83.39961789523961\n",
      "mean value of min_fvc is 74.92182773443719\n"
     ]
    }
   ],
   "source": [
    "print(\"mean slope of fvc is \"+str(p2_fvc_3mo[\"fvc_slope\"].mean()))\n",
    "print(\"mean value of mean_fvc is \"+str(p2_fvc_3mo[\"fvc_mean\"].mean()))\n",
    "print(\"mean value of max_fvc is \"+str(p2_fvc_3mo[\"fvc_max\"].mean()))\n",
    "print(\"mean value of min_fvc is \"+str(p2_fvc_3mo[\"fvc_min\"].mean()))"
   ]
  },
  {
   "cell_type": "code",
   "execution_count": 37,
   "metadata": {},
   "outputs": [
    {
     "name": "stdout",
     "output_type": "stream",
     "text": [
      "mean slope of svc is -0.09845913731248648\n",
      "mean value of mean_svc is 84.73484848484846\n",
      "mean value of max_svc is 90.57454545454546\n",
      "mean value of min_svc is 78.57818181818182\n"
     ]
    }
   ],
   "source": [
    "print(\"mean slope of svc is \"+str(p2_svc_3mo[\"svc_slope\"].mean()))\n",
    "print(\"mean value of mean_svc is \"+str(p2_svc_3mo[\"svc_mean\"].mean()))\n",
    "print(\"mean value of max_svc is \"+str(p2_svc_3mo[\"svc_max\"].mean()))\n",
    "print(\"mean value of min_svc is \"+str(p2_svc_3mo[\"svc_min\"].mean()))"
   ]
  },
  {
   "cell_type": "markdown",
   "metadata": {},
   "source": [
    "combine time-resolved features into one dataframe"
   ]
  },
  {
   "cell_type": "code",
   "execution_count": 38,
   "metadata": {},
   "outputs": [],
   "source": [
    "p2_time_res = pd.DataFrame(columns=['SubjectID'])\n",
    "time_res_list = [p2_alsfrs_3mo, p2_fvc_3mo, p2_svc_3mo, p2_vitals_stat, p2_weight_stat, p2_bmi_stat]\n",
    "for i in time_res_list :\n",
    "    df = i\n",
    "    p2_time_res = p2_time_res.merge(df, on='SubjectID', how='outer')"
   ]
  },
  {
   "cell_type": "code",
   "execution_count": 39,
   "metadata": {},
   "outputs": [],
   "source": [
    "p2_time_res.to_csv('p2_time_resolved_features_with_nans.csv')"
   ]
  },
  {
   "cell_type": "markdown",
   "metadata": {},
   "source": [
    "Merge all features into one dataframe"
   ]
  },
  {
   "cell_type": "code",
   "execution_count": 40,
   "metadata": {},
   "outputs": [],
   "source": [
    "p2_features_combined = p2_static.merge(p2_time_res, on='SubjectID', how='outer')"
   ]
  },
  {
   "cell_type": "code",
   "execution_count": 41,
   "metadata": {},
   "outputs": [],
   "source": [
    "p2_features_combined.to_csv('p2_features_combined_with_nans.csv')"
   ]
  },
  {
   "cell_type": "markdown",
   "metadata": {},
   "source": [
    "Subject count"
   ]
  },
  {
   "cell_type": "code",
   "execution_count": 43,
   "metadata": {},
   "outputs": [
    {
     "name": "stdout",
     "output_type": "stream",
     "text": [
      "8835\n",
      "7604\n",
      "8835\n"
     ]
    }
   ],
   "source": [
    "print(len(p2_static[\"SubjectID\"].unique()))\n",
    "print(len(p2_time_res[\"SubjectID\"].unique()))\n",
    "print(len(p2_features_combined[\"SubjectID\"].unique()))"
   ]
  }
 ],
 "metadata": {
  "kernelspec": {
   "display_name": "Python 3",
   "language": "python",
   "name": "python3"
  },
  "language_info": {
   "codemirror_mode": {
    "name": "ipython",
    "version": 3
   },
   "file_extension": ".py",
   "mimetype": "text/x-python",
   "name": "python",
   "nbconvert_exporter": "python",
   "pygments_lexer": "ipython3",
   "version": "3.8.5"
  }
 },
 "nbformat": 4,
 "nbformat_minor": 4
}

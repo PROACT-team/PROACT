{
  "nbformat": 4,
  "nbformat_minor": 0,
  "metadata": {
    "colab": {
      "name": "예비실험7 - 1st try on cph.ipynb",
      "provenance": []
    },
    "kernelspec": {
      "name": "python3",
      "display_name": "Python 3"
    },
    "language_info": {
      "name": "python"
    }
  },
  "cells": [
    {
      "cell_type": "code",
      "metadata": {
        "id": "K-cqqRcUk2uN"
      },
      "source": [
        "import pandas as pd\n",
        "import matplotlib.pyplot as plt\n",
        "import seaborn as sns\n",
        "import numpy as np"
      ],
      "execution_count": null,
      "outputs": []
    },
    {
      "cell_type": "code",
      "metadata": {
        "colab": {
          "resources": {
            "http://localhost:8080/nbextensions/google.colab/files.js": {
              "data": "Ly8gQ29weXJpZ2h0IDIwMTcgR29vZ2xlIExMQwovLwovLyBMaWNlbnNlZCB1bmRlciB0aGUgQXBhY2hlIExpY2Vuc2UsIFZlcnNpb24gMi4wICh0aGUgIkxpY2Vuc2UiKTsKLy8geW91IG1heSBub3QgdXNlIHRoaXMgZmlsZSBleGNlcHQgaW4gY29tcGxpYW5jZSB3aXRoIHRoZSBMaWNlbnNlLgovLyBZb3UgbWF5IG9idGFpbiBhIGNvcHkgb2YgdGhlIExpY2Vuc2UgYXQKLy8KLy8gICAgICBodHRwOi8vd3d3LmFwYWNoZS5vcmcvbGljZW5zZXMvTElDRU5TRS0yLjAKLy8KLy8gVW5sZXNzIHJlcXVpcmVkIGJ5IGFwcGxpY2FibGUgbGF3IG9yIGFncmVlZCB0byBpbiB3cml0aW5nLCBzb2Z0d2FyZQovLyBkaXN0cmlidXRlZCB1bmRlciB0aGUgTGljZW5zZSBpcyBkaXN0cmlidXRlZCBvbiBhbiAiQVMgSVMiIEJBU0lTLAovLyBXSVRIT1VUIFdBUlJBTlRJRVMgT1IgQ09ORElUSU9OUyBPRiBBTlkgS0lORCwgZWl0aGVyIGV4cHJlc3Mgb3IgaW1wbGllZC4KLy8gU2VlIHRoZSBMaWNlbnNlIGZvciB0aGUgc3BlY2lmaWMgbGFuZ3VhZ2UgZ292ZXJuaW5nIHBlcm1pc3Npb25zIGFuZAovLyBsaW1pdGF0aW9ucyB1bmRlciB0aGUgTGljZW5zZS4KCi8qKgogKiBAZmlsZW92ZXJ2aWV3IEhlbHBlcnMgZm9yIGdvb2dsZS5jb2xhYiBQeXRob24gbW9kdWxlLgogKi8KKGZ1bmN0aW9uKHNjb3BlKSB7CmZ1bmN0aW9uIHNwYW4odGV4dCwgc3R5bGVBdHRyaWJ1dGVzID0ge30pIHsKICBjb25zdCBlbGVtZW50ID0gZG9jdW1lbnQuY3JlYXRlRWxlbWVudCgnc3BhbicpOwogIGVsZW1lbnQudGV4dENvbnRlbnQgPSB0ZXh0OwogIGZvciAoY29uc3Qga2V5IG9mIE9iamVjdC5rZXlzKHN0eWxlQXR0cmlidXRlcykpIHsKICAgIGVsZW1lbnQuc3R5bGVba2V5XSA9IHN0eWxlQXR0cmlidXRlc1trZXldOwogIH0KICByZXR1cm4gZWxlbWVudDsKfQoKLy8gTWF4IG51bWJlciBvZiBieXRlcyB3aGljaCB3aWxsIGJlIHVwbG9hZGVkIGF0IGEgdGltZS4KY29uc3QgTUFYX1BBWUxPQURfU0laRSA9IDEwMCAqIDEwMjQ7CgpmdW5jdGlvbiBfdXBsb2FkRmlsZXMoaW5wdXRJZCwgb3V0cHV0SWQpIHsKICBjb25zdCBzdGVwcyA9IHVwbG9hZEZpbGVzU3RlcChpbnB1dElkLCBvdXRwdXRJZCk7CiAgY29uc3Qgb3V0cHV0RWxlbWVudCA9IGRvY3VtZW50LmdldEVsZW1lbnRCeUlkKG91dHB1dElkKTsKICAvLyBDYWNoZSBzdGVwcyBvbiB0aGUgb3V0cHV0RWxlbWVudCB0byBtYWtlIGl0IGF2YWlsYWJsZSBmb3IgdGhlIG5leHQgY2FsbAogIC8vIHRvIHVwbG9hZEZpbGVzQ29udGludWUgZnJvbSBQeXRob24uCiAgb3V0cHV0RWxlbWVudC5zdGVwcyA9IHN0ZXBzOwoKICByZXR1cm4gX3VwbG9hZEZpbGVzQ29udGludWUob3V0cHV0SWQpOwp9CgovLyBUaGlzIGlzIHJvdWdobHkgYW4gYXN5bmMgZ2VuZXJhdG9yIChub3Qgc3VwcG9ydGVkIGluIHRoZSBicm93c2VyIHlldCksCi8vIHdoZXJlIHRoZXJlIGFyZSBtdWx0aXBsZSBhc3luY2hyb25vdXMgc3RlcHMgYW5kIHRoZSBQeXRob24gc2lkZSBpcyBnb2luZwovLyB0byBwb2xsIGZvciBjb21wbGV0aW9uIG9mIGVhY2ggc3RlcC4KLy8gVGhpcyB1c2VzIGEgUHJvbWlzZSB0byBibG9jayB0aGUgcHl0aG9uIHNpZGUgb24gY29tcGxldGlvbiBvZiBlYWNoIHN0ZXAsCi8vIHRoZW4gcGFzc2VzIHRoZSByZXN1bHQgb2YgdGhlIHByZXZpb3VzIHN0ZXAgYXMgdGhlIGlucHV0IHRvIHRoZSBuZXh0IHN0ZXAuCmZ1bmN0aW9uIF91cGxvYWRGaWxlc0NvbnRpbnVlKG91dHB1dElkKSB7CiAgY29uc3Qgb3V0cHV0RWxlbWVudCA9IGRvY3VtZW50LmdldEVsZW1lbnRCeUlkKG91dHB1dElkKTsKICBjb25zdCBzdGVwcyA9IG91dHB1dEVsZW1lbnQuc3RlcHM7CgogIGNvbnN0IG5leHQgPSBzdGVwcy5uZXh0KG91dHB1dEVsZW1lbnQubGFzdFByb21pc2VWYWx1ZSk7CiAgcmV0dXJuIFByb21pc2UucmVzb2x2ZShuZXh0LnZhbHVlLnByb21pc2UpLnRoZW4oKHZhbHVlKSA9PiB7CiAgICAvLyBDYWNoZSB0aGUgbGFzdCBwcm9taXNlIHZhbHVlIHRvIG1ha2UgaXQgYXZhaWxhYmxlIHRvIHRoZSBuZXh0CiAgICAvLyBzdGVwIG9mIHRoZSBnZW5lcmF0b3IuCiAgICBvdXRwdXRFbGVtZW50Lmxhc3RQcm9taXNlVmFsdWUgPSB2YWx1ZTsKICAgIHJldHVybiBuZXh0LnZhbHVlLnJlc3BvbnNlOwogIH0pOwp9CgovKioKICogR2VuZXJhdG9yIGZ1bmN0aW9uIHdoaWNoIGlzIGNhbGxlZCBiZXR3ZWVuIGVhY2ggYXN5bmMgc3RlcCBvZiB0aGUgdXBsb2FkCiAqIHByb2Nlc3MuCiAqIEBwYXJhbSB7c3RyaW5nfSBpbnB1dElkIEVsZW1lbnQgSUQgb2YgdGhlIGlucHV0IGZpbGUgcGlja2VyIGVsZW1lbnQuCiAqIEBwYXJhbSB7c3RyaW5nfSBvdXRwdXRJZCBFbGVtZW50IElEIG9mIHRoZSBvdXRwdXQgZGlzcGxheS4KICogQHJldHVybiB7IUl0ZXJhYmxlPCFPYmplY3Q+fSBJdGVyYWJsZSBvZiBuZXh0IHN0ZXBzLgogKi8KZnVuY3Rpb24qIHVwbG9hZEZpbGVzU3RlcChpbnB1dElkLCBvdXRwdXRJZCkgewogIGNvbnN0IGlucHV0RWxlbWVudCA9IGRvY3VtZW50LmdldEVsZW1lbnRCeUlkKGlucHV0SWQpOwogIGlucHV0RWxlbWVudC5kaXNhYmxlZCA9IGZhbHNlOwoKICBjb25zdCBvdXRwdXRFbGVtZW50ID0gZG9jdW1lbnQuZ2V0RWxlbWVudEJ5SWQob3V0cHV0SWQpOwogIG91dHB1dEVsZW1lbnQuaW5uZXJIVE1MID0gJyc7CgogIGNvbnN0IHBpY2tlZFByb21pc2UgPSBuZXcgUHJvbWlzZSgocmVzb2x2ZSkgPT4gewogICAgaW5wdXRFbGVtZW50LmFkZEV2ZW50TGlzdGVuZXIoJ2NoYW5nZScsIChlKSA9PiB7CiAgICAgIHJlc29sdmUoZS50YXJnZXQuZmlsZXMpOwogICAgfSk7CiAgfSk7CgogIGNvbnN0IGNhbmNlbCA9IGRvY3VtZW50LmNyZWF0ZUVsZW1lbnQoJ2J1dHRvbicpOwogIGlucHV0RWxlbWVudC5wYXJlbnRFbGVtZW50LmFwcGVuZENoaWxkKGNhbmNlbCk7CiAgY2FuY2VsLnRleHRDb250ZW50ID0gJ0NhbmNlbCB1cGxvYWQnOwogIGNvbnN0IGNhbmNlbFByb21pc2UgPSBuZXcgUHJvbWlzZSgocmVzb2x2ZSkgPT4gewogICAgY2FuY2VsLm9uY2xpY2sgPSAoKSA9PiB7CiAgICAgIHJlc29sdmUobnVsbCk7CiAgICB9OwogIH0pOwoKICAvLyBXYWl0IGZvciB0aGUgdXNlciB0byBwaWNrIHRoZSBmaWxlcy4KICBjb25zdCBmaWxlcyA9IHlpZWxkIHsKICAgIHByb21pc2U6IFByb21pc2UucmFjZShbcGlja2VkUHJvbWlzZSwgY2FuY2VsUHJvbWlzZV0pLAogICAgcmVzcG9uc2U6IHsKICAgICAgYWN0aW9uOiAnc3RhcnRpbmcnLAogICAgfQogIH07CgogIGNhbmNlbC5yZW1vdmUoKTsKCiAgLy8gRGlzYWJsZSB0aGUgaW5wdXQgZWxlbWVudCBzaW5jZSBmdXJ0aGVyIHBpY2tzIGFyZSBub3QgYWxsb3dlZC4KICBpbnB1dEVsZW1lbnQuZGlzYWJsZWQgPSB0cnVlOwoKICBpZiAoIWZpbGVzKSB7CiAgICByZXR1cm4gewogICAgICByZXNwb25zZTogewogICAgICAgIGFjdGlvbjogJ2NvbXBsZXRlJywKICAgICAgfQogICAgfTsKICB9CgogIGZvciAoY29uc3QgZmlsZSBvZiBmaWxlcykgewogICAgY29uc3QgbGkgPSBkb2N1bWVudC5jcmVhdGVFbGVtZW50KCdsaScpOwogICAgbGkuYXBwZW5kKHNwYW4oZmlsZS5uYW1lLCB7Zm9udFdlaWdodDogJ2JvbGQnfSkpOwogICAgbGkuYXBwZW5kKHNwYW4oCiAgICAgICAgYCgke2ZpbGUudHlwZSB8fCAnbi9hJ30pIC0gJHtmaWxlLnNpemV9IGJ5dGVzLCBgICsKICAgICAgICBgbGFzdCBtb2RpZmllZDogJHsKICAgICAgICAgICAgZmlsZS5sYXN0TW9kaWZpZWREYXRlID8gZmlsZS5sYXN0TW9kaWZpZWREYXRlLnRvTG9jYWxlRGF0ZVN0cmluZygpIDoKICAgICAgICAgICAgICAgICAgICAgICAgICAgICAgICAgICAgJ24vYSd9IC0gYCkpOwogICAgY29uc3QgcGVyY2VudCA9IHNwYW4oJzAlIGRvbmUnKTsKICAgIGxpLmFwcGVuZENoaWxkKHBlcmNlbnQpOwoKICAgIG91dHB1dEVsZW1lbnQuYXBwZW5kQ2hpbGQobGkpOwoKICAgIGNvbnN0IGZpbGVEYXRhUHJvbWlzZSA9IG5ldyBQcm9taXNlKChyZXNvbHZlKSA9PiB7CiAgICAgIGNvbnN0IHJlYWRlciA9IG5ldyBGaWxlUmVhZGVyKCk7CiAgICAgIHJlYWRlci5vbmxvYWQgPSAoZSkgPT4gewogICAgICAgIHJlc29sdmUoZS50YXJnZXQucmVzdWx0KTsKICAgICAgfTsKICAgICAgcmVhZGVyLnJlYWRBc0FycmF5QnVmZmVyKGZpbGUpOwogICAgfSk7CiAgICAvLyBXYWl0IGZvciB0aGUgZGF0YSB0byBiZSByZWFkeS4KICAgIGxldCBmaWxlRGF0YSA9IHlpZWxkIHsKICAgICAgcHJvbWlzZTogZmlsZURhdGFQcm9taXNlLAogICAgICByZXNwb25zZTogewogICAgICAgIGFjdGlvbjogJ2NvbnRpbnVlJywKICAgICAgfQogICAgfTsKCiAgICAvLyBVc2UgYSBjaHVua2VkIHNlbmRpbmcgdG8gYXZvaWQgbWVzc2FnZSBzaXplIGxpbWl0cy4gU2VlIGIvNjIxMTU2NjAuCiAgICBsZXQgcG9zaXRpb24gPSAwOwogICAgd2hpbGUgKHBvc2l0aW9uIDwgZmlsZURhdGEuYnl0ZUxlbmd0aCkgewogICAgICBjb25zdCBsZW5ndGggPSBNYXRoLm1pbihmaWxlRGF0YS5ieXRlTGVuZ3RoIC0gcG9zaXRpb24sIE1BWF9QQVlMT0FEX1NJWkUpOwogICAgICBjb25zdCBjaHVuayA9IG5ldyBVaW50OEFycmF5KGZpbGVEYXRhLCBwb3NpdGlvbiwgbGVuZ3RoKTsKICAgICAgcG9zaXRpb24gKz0gbGVuZ3RoOwoKICAgICAgY29uc3QgYmFzZTY0ID0gYnRvYShTdHJpbmcuZnJvbUNoYXJDb2RlLmFwcGx5KG51bGwsIGNodW5rKSk7CiAgICAgIHlpZWxkIHsKICAgICAgICByZXNwb25zZTogewogICAgICAgICAgYWN0aW9uOiAnYXBwZW5kJywKICAgICAgICAgIGZpbGU6IGZpbGUubmFtZSwKICAgICAgICAgIGRhdGE6IGJhc2U2NCwKICAgICAgICB9LAogICAgICB9OwogICAgICBwZXJjZW50LnRleHRDb250ZW50ID0KICAgICAgICAgIGAke01hdGgucm91bmQoKHBvc2l0aW9uIC8gZmlsZURhdGEuYnl0ZUxlbmd0aCkgKiAxMDApfSUgZG9uZWA7CiAgICB9CiAgfQoKICAvLyBBbGwgZG9uZS4KICB5aWVsZCB7CiAgICByZXNwb25zZTogewogICAgICBhY3Rpb246ICdjb21wbGV0ZScsCiAgICB9CiAgfTsKfQoKc2NvcGUuZ29vZ2xlID0gc2NvcGUuZ29vZ2xlIHx8IHt9OwpzY29wZS5nb29nbGUuY29sYWIgPSBzY29wZS5nb29nbGUuY29sYWIgfHwge307CnNjb3BlLmdvb2dsZS5jb2xhYi5fZmlsZXMgPSB7CiAgX3VwbG9hZEZpbGVzLAogIF91cGxvYWRGaWxlc0NvbnRpbnVlLAp9Owp9KShzZWxmKTsK",
              "ok": true,
              "headers": [
                [
                  "content-type",
                  "application/javascript"
                ]
              ],
              "status": 200,
              "status_text": ""
            }
          },
          "base_uri": "https://localhost:8080/",
          "height": 75
        },
        "id": "-ee-N-5uG_9e",
        "outputId": "33b5df56-2ddf-492d-c1e9-ad554b50af2d"
      },
      "source": [
        "from google.colab import files \n",
        "uploaded = files.upload()"
      ],
      "execution_count": null,
      "outputs": [
        {
          "output_type": "display_data",
          "data": {
            "text/html": [
              "\n",
              "     <input type=\"file\" id=\"files-a881b049-0616-4b18-a3d2-3a1588db1bbc\" name=\"files[]\" multiple disabled\n",
              "        style=\"border:none\" />\n",
              "     <output id=\"result-a881b049-0616-4b18-a3d2-3a1588db1bbc\">\n",
              "      Upload widget is only available when the cell has been executed in the\n",
              "      current browser session. Please rerun this cell to enable.\n",
              "      </output>\n",
              "      <script src=\"/nbextensions/google.colab/files.js\"></script> "
            ],
            "text/plain": [
              "<IPython.core.display.HTML object>"
            ]
          },
          "metadata": {
            "tags": []
          }
        },
        {
          "output_type": "stream",
          "text": [
            "Saving _0415_features_without_nans_survival.csv to _0415_features_without_nans_survival.csv\n"
          ],
          "name": "stdout"
        }
      ]
    },
    {
      "cell_type": "code",
      "metadata": {
        "id": "_7gPUUHMlWWD"
      },
      "source": [
        "import io\n",
        "data = pd.read_csv(io.BytesIO(uploaded['_0415_features_without_nans_survival.csv']))"
      ],
      "execution_count": null,
      "outputs": []
    },
    {
      "cell_type": "code",
      "metadata": {
        "id": "KCKgGkL8llA0"
      },
      "source": [
        "data.drop(columns='Unnamed: 0', inplace=True)"
      ],
      "execution_count": null,
      "outputs": []
    },
    {
      "cell_type": "code",
      "metadata": {
        "colab": {
          "base_uri": "https://localhost:8080/",
          "height": 422
        },
        "id": "ElGbfc1hGlQe",
        "outputId": "73ca1cae-1b1d-4d8a-b80b-f6e3d68cfade"
      },
      "source": [
        "data"
      ],
      "execution_count": null,
      "outputs": [
        {
          "output_type": "execute_result",
          "data": {
            "text/html": [
              "<div>\n",
              "<style scoped>\n",
              "    .dataframe tbody tr th:only-of-type {\n",
              "        vertical-align: middle;\n",
              "    }\n",
              "\n",
              "    .dataframe tbody tr th {\n",
              "        vertical-align: top;\n",
              "    }\n",
              "\n",
              "    .dataframe thead th {\n",
              "        text-align: right;\n",
              "    }\n",
              "</style>\n",
              "<table border=\"1\" class=\"dataframe\">\n",
              "  <thead>\n",
              "    <tr style=\"text-align: right;\">\n",
              "      <th></th>\n",
              "      <th>Age</th>\n",
              "      <th>Gender</th>\n",
              "      <th>onset_delta</th>\n",
              "      <th>diag_delta</th>\n",
              "      <th>diag_minus_onset</th>\n",
              "      <th>mean_alsfrs_total</th>\n",
              "      <th>alsfrs_total_slope</th>\n",
              "      <th>fvc_slope</th>\n",
              "      <th>fvc_mean</th>\n",
              "      <th>mean_Q1_Speech</th>\n",
              "      <th>mean_Q2_Salivation</th>\n",
              "      <th>mean_Q3_Swallowing</th>\n",
              "      <th>mean_Q4_Handwriting</th>\n",
              "      <th>mean_Q5_Cutting</th>\n",
              "      <th>mean_Q6_Dressing_and_Hygiene</th>\n",
              "      <th>mean_Q7_Turning_in_Bed</th>\n",
              "      <th>mean_Q8_Walking</th>\n",
              "      <th>mean_Q9_Climbing_Stairs</th>\n",
              "      <th>mean_Q10_Respiratory</th>\n",
              "      <th>mean_Bulbar</th>\n",
              "      <th>mean_motor</th>\n",
              "      <th>slope_Q1_Speech</th>\n",
              "      <th>slope_Q2_Salivation</th>\n",
              "      <th>slope_Q3_Swallowing</th>\n",
              "      <th>slope_Q4_Handwriting</th>\n",
              "      <th>slope_Q5_Cutting</th>\n",
              "      <th>slope_Q6_Dressing_and_Hygiene</th>\n",
              "      <th>slope_Q7_Turning_in_Bed</th>\n",
              "      <th>slope_Q8_Walking</th>\n",
              "      <th>slope_Q9_Climbing_Stairs</th>\n",
              "      <th>slope_Q10_Respiratory</th>\n",
              "      <th>slope_Bulbar</th>\n",
              "      <th>slope_motor</th>\n",
              "      <th>time_event</th>\n",
              "      <th>status</th>\n",
              "      <th>onset_site_1</th>\n",
              "      <th>onset_site_2</th>\n",
              "      <th>onset_site_3</th>\n",
              "    </tr>\n",
              "  </thead>\n",
              "  <tbody>\n",
              "    <tr>\n",
              "      <th>0</th>\n",
              "      <td>52.0</td>\n",
              "      <td>0</td>\n",
              "      <td>-501.0</td>\n",
              "      <td>-302.0</td>\n",
              "      <td>199.0</td>\n",
              "      <td>30.250000</td>\n",
              "      <td>-0.009689</td>\n",
              "      <td>-0.931358</td>\n",
              "      <td>103.293488</td>\n",
              "      <td>4.00</td>\n",
              "      <td>4.000000</td>\n",
              "      <td>4.00</td>\n",
              "      <td>3.50</td>\n",
              "      <td>2.00</td>\n",
              "      <td>2.250000</td>\n",
              "      <td>3.50</td>\n",
              "      <td>2.000000</td>\n",
              "      <td>1.000000</td>\n",
              "      <td>4.00</td>\n",
              "      <td>8.00</td>\n",
              "      <td>14.250000</td>\n",
              "      <td>0.000000</td>\n",
              "      <td>0.000000</td>\n",
              "      <td>0.000000</td>\n",
              "      <td>0.016393</td>\n",
              "      <td>0.000000</td>\n",
              "      <td>-0.016393</td>\n",
              "      <td>0.016393</td>\n",
              "      <td>0.000000</td>\n",
              "      <td>0.000000</td>\n",
              "      <td>0.000000</td>\n",
              "      <td>0.000000</td>\n",
              "      <td>-0.016393</td>\n",
              "      <td>401</td>\n",
              "      <td>0</td>\n",
              "      <td>0</td>\n",
              "      <td>0</td>\n",
              "      <td>0</td>\n",
              "    </tr>\n",
              "    <tr>\n",
              "      <th>1</th>\n",
              "      <td>65.0</td>\n",
              "      <td>0</td>\n",
              "      <td>-1023.0</td>\n",
              "      <td>-44.0</td>\n",
              "      <td>979.0</td>\n",
              "      <td>28.666667</td>\n",
              "      <td>0.002114</td>\n",
              "      <td>-0.583333</td>\n",
              "      <td>73.500000</td>\n",
              "      <td>1.00</td>\n",
              "      <td>1.333333</td>\n",
              "      <td>2.00</td>\n",
              "      <td>4.00</td>\n",
              "      <td>4.00</td>\n",
              "      <td>3.333333</td>\n",
              "      <td>4.00</td>\n",
              "      <td>3.333333</td>\n",
              "      <td>2.666667</td>\n",
              "      <td>3.00</td>\n",
              "      <td>3.00</td>\n",
              "      <td>21.333333</td>\n",
              "      <td>-0.010989</td>\n",
              "      <td>-0.010989</td>\n",
              "      <td>0.000000</td>\n",
              "      <td>0.000000</td>\n",
              "      <td>0.000000</td>\n",
              "      <td>-0.010989</td>\n",
              "      <td>0.010989</td>\n",
              "      <td>0.010989</td>\n",
              "      <td>0.010989</td>\n",
              "      <td>0.000000</td>\n",
              "      <td>-0.010989</td>\n",
              "      <td>0.010989</td>\n",
              "      <td>378</td>\n",
              "      <td>0</td>\n",
              "      <td>1</td>\n",
              "      <td>0</td>\n",
              "      <td>0</td>\n",
              "    </tr>\n",
              "    <tr>\n",
              "      <th>2</th>\n",
              "      <td>66.0</td>\n",
              "      <td>0</td>\n",
              "      <td>-550.0</td>\n",
              "      <td>-462.0</td>\n",
              "      <td>88.0</td>\n",
              "      <td>32.000000</td>\n",
              "      <td>-0.043752</td>\n",
              "      <td>0.076462</td>\n",
              "      <td>52.652720</td>\n",
              "      <td>0.75</td>\n",
              "      <td>2.750000</td>\n",
              "      <td>0.75</td>\n",
              "      <td>4.00</td>\n",
              "      <td>4.00</td>\n",
              "      <td>4.000000</td>\n",
              "      <td>4.00</td>\n",
              "      <td>4.000000</td>\n",
              "      <td>4.000000</td>\n",
              "      <td>3.75</td>\n",
              "      <td>1.50</td>\n",
              "      <td>24.000000</td>\n",
              "      <td>0.000000</td>\n",
              "      <td>-0.014493</td>\n",
              "      <td>-0.014493</td>\n",
              "      <td>0.000000</td>\n",
              "      <td>0.000000</td>\n",
              "      <td>0.000000</td>\n",
              "      <td>0.000000</td>\n",
              "      <td>0.000000</td>\n",
              "      <td>0.000000</td>\n",
              "      <td>-0.014493</td>\n",
              "      <td>-0.014493</td>\n",
              "      <td>0.000000</td>\n",
              "      <td>434</td>\n",
              "      <td>0</td>\n",
              "      <td>1</td>\n",
              "      <td>0</td>\n",
              "      <td>0</td>\n",
              "    </tr>\n",
              "    <tr>\n",
              "      <th>3</th>\n",
              "      <td>41.0</td>\n",
              "      <td>1</td>\n",
              "      <td>-570.0</td>\n",
              "      <td>-511.0</td>\n",
              "      <td>59.0</td>\n",
              "      <td>16.500000</td>\n",
              "      <td>-0.104167</td>\n",
              "      <td>0.000000</td>\n",
              "      <td>71.000000</td>\n",
              "      <td>2.50</td>\n",
              "      <td>3.000000</td>\n",
              "      <td>3.00</td>\n",
              "      <td>1.50</td>\n",
              "      <td>1.00</td>\n",
              "      <td>1.000000</td>\n",
              "      <td>0.50</td>\n",
              "      <td>0.500000</td>\n",
              "      <td>0.000000</td>\n",
              "      <td>3.50</td>\n",
              "      <td>5.50</td>\n",
              "      <td>4.500000</td>\n",
              "      <td>-0.020833</td>\n",
              "      <td>-0.041667</td>\n",
              "      <td>0.000000</td>\n",
              "      <td>-0.020833</td>\n",
              "      <td>0.000000</td>\n",
              "      <td>0.000000</td>\n",
              "      <td>-0.020833</td>\n",
              "      <td>-0.020833</td>\n",
              "      <td>0.000000</td>\n",
              "      <td>0.020833</td>\n",
              "      <td>-0.020833</td>\n",
              "      <td>-0.062500</td>\n",
              "      <td>542</td>\n",
              "      <td>0</td>\n",
              "      <td>0</td>\n",
              "      <td>1</td>\n",
              "      <td>0</td>\n",
              "    </tr>\n",
              "    <tr>\n",
              "      <th>4</th>\n",
              "      <td>63.0</td>\n",
              "      <td>1</td>\n",
              "      <td>-365.0</td>\n",
              "      <td>-209.0</td>\n",
              "      <td>156.0</td>\n",
              "      <td>30.000000</td>\n",
              "      <td>0.000000</td>\n",
              "      <td>-0.235294</td>\n",
              "      <td>114.000000</td>\n",
              "      <td>4.00</td>\n",
              "      <td>4.000000</td>\n",
              "      <td>4.00</td>\n",
              "      <td>3.00</td>\n",
              "      <td>3.00</td>\n",
              "      <td>2.000000</td>\n",
              "      <td>3.00</td>\n",
              "      <td>3.000000</td>\n",
              "      <td>1.000000</td>\n",
              "      <td>3.00</td>\n",
              "      <td>8.00</td>\n",
              "      <td>15.000000</td>\n",
              "      <td>0.000000</td>\n",
              "      <td>0.000000</td>\n",
              "      <td>0.000000</td>\n",
              "      <td>0.000000</td>\n",
              "      <td>0.000000</td>\n",
              "      <td>0.000000</td>\n",
              "      <td>0.029412</td>\n",
              "      <td>0.000000</td>\n",
              "      <td>0.000000</td>\n",
              "      <td>0.000000</td>\n",
              "      <td>0.000000</td>\n",
              "      <td>0.000000</td>\n",
              "      <td>401</td>\n",
              "      <td>0</td>\n",
              "      <td>0</td>\n",
              "      <td>1</td>\n",
              "      <td>0</td>\n",
              "    </tr>\n",
              "    <tr>\n",
              "      <th>...</th>\n",
              "      <td>...</td>\n",
              "      <td>...</td>\n",
              "      <td>...</td>\n",
              "      <td>...</td>\n",
              "      <td>...</td>\n",
              "      <td>...</td>\n",
              "      <td>...</td>\n",
              "      <td>...</td>\n",
              "      <td>...</td>\n",
              "      <td>...</td>\n",
              "      <td>...</td>\n",
              "      <td>...</td>\n",
              "      <td>...</td>\n",
              "      <td>...</td>\n",
              "      <td>...</td>\n",
              "      <td>...</td>\n",
              "      <td>...</td>\n",
              "      <td>...</td>\n",
              "      <td>...</td>\n",
              "      <td>...</td>\n",
              "      <td>...</td>\n",
              "      <td>...</td>\n",
              "      <td>...</td>\n",
              "      <td>...</td>\n",
              "      <td>...</td>\n",
              "      <td>...</td>\n",
              "      <td>...</td>\n",
              "      <td>...</td>\n",
              "      <td>...</td>\n",
              "      <td>...</td>\n",
              "      <td>...</td>\n",
              "      <td>...</td>\n",
              "      <td>...</td>\n",
              "      <td>...</td>\n",
              "      <td>...</td>\n",
              "      <td>...</td>\n",
              "      <td>...</td>\n",
              "      <td>...</td>\n",
              "    </tr>\n",
              "    <tr>\n",
              "      <th>1645</th>\n",
              "      <td>43.0</td>\n",
              "      <td>1</td>\n",
              "      <td>-673.0</td>\n",
              "      <td>-293.0</td>\n",
              "      <td>380.0</td>\n",
              "      <td>22.750000</td>\n",
              "      <td>-0.033444</td>\n",
              "      <td>0.678853</td>\n",
              "      <td>95.564652</td>\n",
              "      <td>3.00</td>\n",
              "      <td>3.750000</td>\n",
              "      <td>3.00</td>\n",
              "      <td>2.00</td>\n",
              "      <td>1.25</td>\n",
              "      <td>1.000000</td>\n",
              "      <td>2.00</td>\n",
              "      <td>2.000000</td>\n",
              "      <td>0.750000</td>\n",
              "      <td>4.00</td>\n",
              "      <td>6.00</td>\n",
              "      <td>9.000000</td>\n",
              "      <td>0.000000</td>\n",
              "      <td>-0.012821</td>\n",
              "      <td>0.000000</td>\n",
              "      <td>0.000000</td>\n",
              "      <td>-0.012821</td>\n",
              "      <td>0.000000</td>\n",
              "      <td>0.012821</td>\n",
              "      <td>0.000000</td>\n",
              "      <td>-0.012821</td>\n",
              "      <td>0.000000</td>\n",
              "      <td>0.000000</td>\n",
              "      <td>-0.025641</td>\n",
              "      <td>384</td>\n",
              "      <td>0</td>\n",
              "      <td>0</td>\n",
              "      <td>1</td>\n",
              "      <td>0</td>\n",
              "    </tr>\n",
              "    <tr>\n",
              "      <th>1646</th>\n",
              "      <td>70.0</td>\n",
              "      <td>1</td>\n",
              "      <td>-332.0</td>\n",
              "      <td>-181.0</td>\n",
              "      <td>151.0</td>\n",
              "      <td>29.500000</td>\n",
              "      <td>-0.090079</td>\n",
              "      <td>-0.270229</td>\n",
              "      <td>65.989389</td>\n",
              "      <td>1.25</td>\n",
              "      <td>1.500000</td>\n",
              "      <td>2.50</td>\n",
              "      <td>4.00</td>\n",
              "      <td>2.75</td>\n",
              "      <td>3.500000</td>\n",
              "      <td>4.00</td>\n",
              "      <td>3.750000</td>\n",
              "      <td>3.000000</td>\n",
              "      <td>3.25</td>\n",
              "      <td>3.75</td>\n",
              "      <td>21.000000</td>\n",
              "      <td>-0.014085</td>\n",
              "      <td>-0.028169</td>\n",
              "      <td>-0.014085</td>\n",
              "      <td>0.000000</td>\n",
              "      <td>-0.014085</td>\n",
              "      <td>-0.014085</td>\n",
              "      <td>0.014085</td>\n",
              "      <td>-0.014085</td>\n",
              "      <td>0.000000</td>\n",
              "      <td>0.014085</td>\n",
              "      <td>-0.028169</td>\n",
              "      <td>-0.042254</td>\n",
              "      <td>436</td>\n",
              "      <td>0</td>\n",
              "      <td>1</td>\n",
              "      <td>0</td>\n",
              "      <td>0</td>\n",
              "    </tr>\n",
              "    <tr>\n",
              "      <th>1647</th>\n",
              "      <td>46.0</td>\n",
              "      <td>0</td>\n",
              "      <td>-274.0</td>\n",
              "      <td>-212.0</td>\n",
              "      <td>62.0</td>\n",
              "      <td>20.500000</td>\n",
              "      <td>-0.055424</td>\n",
              "      <td>-0.608825</td>\n",
              "      <td>89.564790</td>\n",
              "      <td>1.50</td>\n",
              "      <td>3.250000</td>\n",
              "      <td>3.00</td>\n",
              "      <td>2.25</td>\n",
              "      <td>1.00</td>\n",
              "      <td>0.500000</td>\n",
              "      <td>2.25</td>\n",
              "      <td>2.000000</td>\n",
              "      <td>0.750000</td>\n",
              "      <td>4.00</td>\n",
              "      <td>4.50</td>\n",
              "      <td>8.750000</td>\n",
              "      <td>0.000000</td>\n",
              "      <td>0.011765</td>\n",
              "      <td>-0.011765</td>\n",
              "      <td>-0.035294</td>\n",
              "      <td>0.000000</td>\n",
              "      <td>0.000000</td>\n",
              "      <td>0.011765</td>\n",
              "      <td>0.000000</td>\n",
              "      <td>-0.011765</td>\n",
              "      <td>0.000000</td>\n",
              "      <td>-0.011765</td>\n",
              "      <td>-0.058824</td>\n",
              "      <td>410</td>\n",
              "      <td>0</td>\n",
              "      <td>1</td>\n",
              "      <td>0</td>\n",
              "      <td>0</td>\n",
              "    </tr>\n",
              "    <tr>\n",
              "      <th>1648</th>\n",
              "      <td>62.0</td>\n",
              "      <td>1</td>\n",
              "      <td>-288.0</td>\n",
              "      <td>-110.0</td>\n",
              "      <td>178.0</td>\n",
              "      <td>36.000000</td>\n",
              "      <td>0.000000</td>\n",
              "      <td>0.086856</td>\n",
              "      <td>138.802286</td>\n",
              "      <td>4.00</td>\n",
              "      <td>4.000000</td>\n",
              "      <td>4.00</td>\n",
              "      <td>4.00</td>\n",
              "      <td>4.00</td>\n",
              "      <td>3.000000</td>\n",
              "      <td>3.50</td>\n",
              "      <td>3.000000</td>\n",
              "      <td>2.500000</td>\n",
              "      <td>4.00</td>\n",
              "      <td>8.00</td>\n",
              "      <td>20.000000</td>\n",
              "      <td>0.000000</td>\n",
              "      <td>0.000000</td>\n",
              "      <td>0.000000</td>\n",
              "      <td>0.000000</td>\n",
              "      <td>0.000000</td>\n",
              "      <td>0.000000</td>\n",
              "      <td>0.000000</td>\n",
              "      <td>0.000000</td>\n",
              "      <td>0.014085</td>\n",
              "      <td>0.000000</td>\n",
              "      <td>0.000000</td>\n",
              "      <td>0.000000</td>\n",
              "      <td>444</td>\n",
              "      <td>0</td>\n",
              "      <td>0</td>\n",
              "      <td>1</td>\n",
              "      <td>0</td>\n",
              "    </tr>\n",
              "    <tr>\n",
              "      <th>1649</th>\n",
              "      <td>61.0</td>\n",
              "      <td>0</td>\n",
              "      <td>-449.0</td>\n",
              "      <td>-134.0</td>\n",
              "      <td>315.0</td>\n",
              "      <td>36.250000</td>\n",
              "      <td>-0.016668</td>\n",
              "      <td>-0.377726</td>\n",
              "      <td>79.800058</td>\n",
              "      <td>1.75</td>\n",
              "      <td>3.250000</td>\n",
              "      <td>3.25</td>\n",
              "      <td>4.00</td>\n",
              "      <td>4.00</td>\n",
              "      <td>4.000000</td>\n",
              "      <td>4.00</td>\n",
              "      <td>4.000000</td>\n",
              "      <td>4.000000</td>\n",
              "      <td>4.00</td>\n",
              "      <td>5.00</td>\n",
              "      <td>24.000000</td>\n",
              "      <td>-0.014085</td>\n",
              "      <td>0.000000</td>\n",
              "      <td>0.000000</td>\n",
              "      <td>0.000000</td>\n",
              "      <td>0.000000</td>\n",
              "      <td>0.000000</td>\n",
              "      <td>0.000000</td>\n",
              "      <td>0.000000</td>\n",
              "      <td>0.000000</td>\n",
              "      <td>0.000000</td>\n",
              "      <td>-0.014085</td>\n",
              "      <td>0.000000</td>\n",
              "      <td>471</td>\n",
              "      <td>0</td>\n",
              "      <td>1</td>\n",
              "      <td>0</td>\n",
              "      <td>0</td>\n",
              "    </tr>\n",
              "  </tbody>\n",
              "</table>\n",
              "<p>1650 rows × 38 columns</p>\n",
              "</div>"
            ],
            "text/plain": [
              "       Age  Gender  onset_delta  ...  onset_site_1  onset_site_2  onset_site_3\n",
              "0     52.0       0       -501.0  ...             0             0             0\n",
              "1     65.0       0      -1023.0  ...             1             0             0\n",
              "2     66.0       0       -550.0  ...             1             0             0\n",
              "3     41.0       1       -570.0  ...             0             1             0\n",
              "4     63.0       1       -365.0  ...             0             1             0\n",
              "...    ...     ...          ...  ...           ...           ...           ...\n",
              "1645  43.0       1       -673.0  ...             0             1             0\n",
              "1646  70.0       1       -332.0  ...             1             0             0\n",
              "1647  46.0       0       -274.0  ...             1             0             0\n",
              "1648  62.0       1       -288.0  ...             0             1             0\n",
              "1649  61.0       0       -449.0  ...             1             0             0\n",
              "\n",
              "[1650 rows x 38 columns]"
            ]
          },
          "metadata": {
            "tags": []
          },
          "execution_count": 5
        }
      ]
    },
    {
      "cell_type": "code",
      "metadata": {
        "id": "v45QlEoy_p8p"
      },
      "source": [
        "y = data[['status']]"
      ],
      "execution_count": null,
      "outputs": []
    },
    {
      "cell_type": "code",
      "metadata": {
        "id": "WEnqPjDBGPLl"
      },
      "source": [
        "feat_list = ['Age', 'Gender', 'onset_site_1','onset_site_2', 'onset_site_3', 'onset_delta',\n",
        "       'diag_minus_onset', 'alsfrs_total_slope',\n",
        "       'fvc_slope', 'fvc_mean',  'mean_Q10_Respiratory',\n",
        "       'mean_Bulbar', 'mean_motor', 'slope_Q1_Speech', 'slope_Q2_Salivation',\n",
        "       'slope_Q3_Swallowing', 'slope_Q4_Handwriting', 'slope_Q5_Cutting',\n",
        "       'slope_Q6_Dressing_and_Hygiene', 'slope_Q7_Turning_in_Bed',\n",
        "       'slope_Q8_Walking', 'slope_Q9_Climbing_Stairs', 'slope_Q10_Respiratory', 'time_event', 'status'\n",
        "       ]"
      ],
      "execution_count": null,
      "outputs": []
    },
    {
      "cell_type": "markdown",
      "metadata": {
        "id": "xKPmWoaR-94G"
      },
      "source": [
        "Train/test 분할"
      ]
    },
    {
      "cell_type": "code",
      "metadata": {
        "id": "Y228xezB-9Zl"
      },
      "source": [
        "from sklearn.model_selection import train_test_split\n",
        "\n",
        "df_train, df_test, y_train, y_test = train_test_split(data[feat_list], y, train_size=0.8, test_size=0.2, random_state=11)"
      ],
      "execution_count": null,
      "outputs": []
    },
    {
      "cell_type": "markdown",
      "metadata": {
        "id": "8CfWnjxzFfyM"
      },
      "source": [
        "Sample size 계산"
      ]
    },
    {
      "cell_type": "code",
      "metadata": {
        "colab": {
          "base_uri": "https://localhost:8080/"
        },
        "id": "dTPLo6eVIf0W",
        "outputId": "b1797bca-858d-496b-d31c-4fff54481cdc"
      },
      "source": [
        "!pip install lifelines"
      ],
      "execution_count": null,
      "outputs": [
        {
          "output_type": "stream",
          "text": [
            "Collecting lifelines\n",
            "\u001b[?25l  Downloading https://files.pythonhosted.org/packages/51/af/6b2815701c12d6dc8be11c9234fe87bb55b51788d9cc41b39c92952d577a/lifelines-0.25.11-py3-none-any.whl (348kB)\n",
            "\r\u001b[K     |█                               | 10kB 13.1MB/s eta 0:00:01\r\u001b[K     |█▉                              | 20kB 18.9MB/s eta 0:00:01\r\u001b[K     |██▉                             | 30kB 14.2MB/s eta 0:00:01\r\u001b[K     |███▊                            | 40kB 9.4MB/s eta 0:00:01\r\u001b[K     |████▊                           | 51kB 5.4MB/s eta 0:00:01\r\u001b[K     |█████▋                          | 61kB 6.0MB/s eta 0:00:01\r\u001b[K     |██████▋                         | 71kB 6.3MB/s eta 0:00:01\r\u001b[K     |███████▌                        | 81kB 6.6MB/s eta 0:00:01\r\u001b[K     |████████▌                       | 92kB 5.9MB/s eta 0:00:01\r\u001b[K     |█████████▍                      | 102kB 6.4MB/s eta 0:00:01\r\u001b[K     |██████████▍                     | 112kB 6.4MB/s eta 0:00:01\r\u001b[K     |███████████▎                    | 122kB 6.4MB/s eta 0:00:01\r\u001b[K     |████████████▎                   | 133kB 6.4MB/s eta 0:00:01\r\u001b[K     |█████████████▏                  | 143kB 6.4MB/s eta 0:00:01\r\u001b[K     |██████████████▏                 | 153kB 6.4MB/s eta 0:00:01\r\u001b[K     |███████████████                 | 163kB 6.4MB/s eta 0:00:01\r\u001b[K     |████████████████                | 174kB 6.4MB/s eta 0:00:01\r\u001b[K     |█████████████████               | 184kB 6.4MB/s eta 0:00:01\r\u001b[K     |██████████████████              | 194kB 6.4MB/s eta 0:00:01\r\u001b[K     |██████████████████▉             | 204kB 6.4MB/s eta 0:00:01\r\u001b[K     |███████████████████▊            | 215kB 6.4MB/s eta 0:00:01\r\u001b[K     |████████████████████▊           | 225kB 6.4MB/s eta 0:00:01\r\u001b[K     |█████████████████████▋          | 235kB 6.4MB/s eta 0:00:01\r\u001b[K     |██████████████████████▋         | 245kB 6.4MB/s eta 0:00:01\r\u001b[K     |███████████████████████▌        | 256kB 6.4MB/s eta 0:00:01\r\u001b[K     |████████████████████████▌       | 266kB 6.4MB/s eta 0:00:01\r\u001b[K     |█████████████████████████▍      | 276kB 6.4MB/s eta 0:00:01\r\u001b[K     |██████████████████████████▍     | 286kB 6.4MB/s eta 0:00:01\r\u001b[K     |███████████████████████████▎    | 296kB 6.4MB/s eta 0:00:01\r\u001b[K     |████████████████████████████▎   | 307kB 6.4MB/s eta 0:00:01\r\u001b[K     |█████████████████████████████▏  | 317kB 6.4MB/s eta 0:00:01\r\u001b[K     |██████████████████████████████▏ | 327kB 6.4MB/s eta 0:00:01\r\u001b[K     |███████████████████████████████ | 337kB 6.4MB/s eta 0:00:01\r\u001b[K     |████████████████████████████████| 348kB 6.4MB/s \n",
            "\u001b[?25hRequirement already satisfied: pandas>=0.23.0 in /usr/local/lib/python3.7/dist-packages (from lifelines) (1.1.5)\n",
            "Requirement already satisfied: scipy>=1.2.0 in /usr/local/lib/python3.7/dist-packages (from lifelines) (1.4.1)\n",
            "Collecting autograd-gamma>=0.3\n",
            "  Downloading https://files.pythonhosted.org/packages/85/ae/7f2031ea76140444b2453fa139041e5afd4a09fc5300cfefeb1103291f80/autograd-gamma-0.5.0.tar.gz\n",
            "Requirement already satisfied: autograd>=1.3 in /usr/local/lib/python3.7/dist-packages (from lifelines) (1.3)\n",
            "Requirement already satisfied: matplotlib>=3.0 in /usr/local/lib/python3.7/dist-packages (from lifelines) (3.2.2)\n",
            "Collecting formulaic<0.3,>=0.2.2\n",
            "\u001b[?25l  Downloading https://files.pythonhosted.org/packages/02/64/6702b5cadc89ece93af2e01996504f3a895196354a35713e2ef22f089d3e/formulaic-0.2.3-py3-none-any.whl (55kB)\n",
            "\u001b[K     |████████████████████████████████| 61kB 6.1MB/s \n",
            "\u001b[?25hRequirement already satisfied: numpy>=1.14.0 in /usr/local/lib/python3.7/dist-packages (from lifelines) (1.19.5)\n",
            "Requirement already satisfied: pytz>=2017.2 in /usr/local/lib/python3.7/dist-packages (from pandas>=0.23.0->lifelines) (2018.9)\n",
            "Requirement already satisfied: python-dateutil>=2.7.3 in /usr/local/lib/python3.7/dist-packages (from pandas>=0.23.0->lifelines) (2.8.1)\n",
            "Requirement already satisfied: future>=0.15.2 in /usr/local/lib/python3.7/dist-packages (from autograd>=1.3->lifelines) (0.16.0)\n",
            "Requirement already satisfied: cycler>=0.10 in /usr/local/lib/python3.7/dist-packages (from matplotlib>=3.0->lifelines) (0.10.0)\n",
            "Requirement already satisfied: kiwisolver>=1.0.1 in /usr/local/lib/python3.7/dist-packages (from matplotlib>=3.0->lifelines) (1.3.1)\n",
            "Requirement already satisfied: pyparsing!=2.0.4,!=2.1.2,!=2.1.6,>=2.0.1 in /usr/local/lib/python3.7/dist-packages (from matplotlib>=3.0->lifelines) (2.4.7)\n",
            "Requirement already satisfied: astor in /usr/local/lib/python3.7/dist-packages (from formulaic<0.3,>=0.2.2->lifelines) (0.8.1)\n",
            "Collecting interface-meta>=1.2\n",
            "  Downloading https://files.pythonhosted.org/packages/71/31/5e474208f5df9012ebecfaa23884b14f93671ea4f4f6d468eb096b73e499/interface_meta-1.2.3-py2.py3-none-any.whl\n",
            "Requirement already satisfied: wrapt in /usr/local/lib/python3.7/dist-packages (from formulaic<0.3,>=0.2.2->lifelines) (1.12.1)\n",
            "Requirement already satisfied: six>=1.5 in /usr/local/lib/python3.7/dist-packages (from python-dateutil>=2.7.3->pandas>=0.23.0->lifelines) (1.15.0)\n",
            "Building wheels for collected packages: autograd-gamma\n",
            "  Building wheel for autograd-gamma (setup.py) ... \u001b[?25l\u001b[?25hdone\n",
            "  Created wheel for autograd-gamma: filename=autograd_gamma-0.5.0-cp37-none-any.whl size=4035 sha256=cfcab00704e306f689462c7c72ff7cbac3ec29e32e742d3c708251077955acb9\n",
            "  Stored in directory: /root/.cache/pip/wheels/dc/68/dc/91321c55fba449755524481854f5be70d41912b8f886f908bb\n",
            "Successfully built autograd-gamma\n",
            "Installing collected packages: autograd-gamma, interface-meta, formulaic, lifelines\n",
            "Successfully installed autograd-gamma-0.5.0 formulaic-0.2.3 interface-meta-1.2.3 lifelines-0.25.11\n"
          ],
          "name": "stdout"
        }
      ]
    },
    {
      "cell_type": "code",
      "metadata": {
        "id": "xnkZGQVRFfZM"
      },
      "source": [
        "from lifelines.statistics import sample_size_necessary_under_cph\n",
        "\n",
        "desired_power = 0.8\n",
        "ratio_of_participants = 1.\n",
        "p_exp = 0.25\n",
        "p_con = 0.35\n",
        "postulated_hazard_ratio = 0.7\n",
        "n_exp, n_con = sample_size_necessary_under_cph(desired_power, ratio_of_participants, p_exp, p_con, postulated_hazard_ratio)"
      ],
      "execution_count": null,
      "outputs": []
    },
    {
      "cell_type": "markdown",
      "metadata": {
        "id": "s-cctmZtCIp1"
      },
      "source": [
        "모델 적용하기"
      ]
    },
    {
      "cell_type": "code",
      "metadata": {
        "id": "KvcKV_HrxUOO"
      },
      "source": [
        "from lifelines import CoxPHFitter"
      ],
      "execution_count": null,
      "outputs": []
    },
    {
      "cell_type": "code",
      "metadata": {
        "colab": {
          "base_uri": "https://localhost:8080/",
          "height": 1000
        },
        "id": "frXTvhFL95dF",
        "outputId": "5c0afb32-4dcd-4a79-cedd-c8cbce8e9218"
      },
      "source": [
        "cph = CoxPHFitter(penalizer=0.01)\n",
        "cph.fit(df_train, 'time_event', event_col='status')\n",
        "cph.print_summary()"
      ],
      "execution_count": 33,
      "outputs": [
        {
          "output_type": "display_data",
          "data": {
            "text/latex": "\\begin{tabular}{lrrrrrrrrrr}\n\\toprule\n{} &   coef &  exp(coef) &  se(coef) &  coef lower 95\\% &  coef upper 95\\% &  exp(coef) lower 95\\% &  exp(coef) upper 95\\% &     z &    p &  -log2(p) \\\\\ncovariate                     &        &            &           &                 &                 &                      &                      &       &      &           \\\\\n\\midrule\nAge                           &   0.05 &       1.05 &      0.01 &            0.03 &            0.06 &                 1.03 &                 1.06 &  6.44 & 0.00 &     33.00 \\\\\nGender                        &   0.06 &       1.06 &      0.16 &           -0.25 &            0.37 &                 0.78 &                 1.45 &  0.37 & 0.71 &      0.49 \\\\\nonset\\_site\\_1                  &   0.34 &       1.40 &      0.33 &           -0.31 &            0.98 &                 0.74 &                 2.66 &  1.02 & 0.31 &      1.71 \\\\\nonset\\_site\\_2                  &   0.05 &       1.05 &      0.27 &           -0.48 &            0.58 &                 0.62 &                 1.78 &  0.19 & 0.85 &      0.24 \\\\\nonset\\_site\\_3                  &   0.76 &       2.15 &      0.66 &           -0.53 &            2.06 &                 0.59 &                 7.85 &  1.15 & 0.25 &      2.01 \\\\\nonset\\_delta                   &   0.00 &       1.00 &      0.00 &            0.00 &            0.00 &                 1.00 &                 1.00 &  2.29 & 0.02 &      5.50 \\\\\ndiag\\_minus\\_onset              &   0.00 &       1.00 &      0.00 &           -0.00 &            0.00 &                 1.00 &                 1.00 &  0.12 & 0.91 &      0.14 \\\\\nalsfrs\\_total\\_slope            &   0.01 &       1.01 &      2.71 &           -5.29 &            5.32 &                 0.01 &               204.23 &  0.00 & 1.00 &      0.01 \\\\\nfvc\\_slope                     &  -0.14 &       0.87 &      0.32 &           -0.77 &            0.50 &                 0.46 &                 1.65 & -0.42 & 0.67 &      0.57 \\\\\nfvc\\_mean                      &  -0.00 &       1.00 &      0.00 &           -0.01 &            0.00 &                 0.99 &                 1.00 & -1.02 & 0.31 &      1.71 \\\\\nmean\\_Q10\\_Respiratory          &   0.02 &       1.02 &      0.12 &           -0.22 &            0.26 &                 0.81 &                 1.30 &  0.19 & 0.85 &      0.23 \\\\\nmean\\_Bulbar                   &  -0.02 &       0.98 &      0.06 &           -0.15 &            0.10 &                 0.86 &                 1.10 & -0.39 & 0.70 &      0.52 \\\\\nmean\\_motor                    &  -0.05 &       0.95 &      0.02 &           -0.09 &           -0.02 &                 0.92 &                 0.98 & -3.06 & 0.00 &      8.82 \\\\\nslope\\_Q1\\_Speech               &  -0.45 &       0.63 &      6.68 &          -13.54 &           12.63 &                 0.00 &            305143.18 & -0.07 & 0.95 &      0.08 \\\\\nslope\\_Q2\\_Salivation           & -10.90 &       0.00 &      7.22 &          -25.06 &            3.26 &                 0.00 &                26.16 & -1.51 & 0.13 &      2.93 \\\\\nslope\\_Q3\\_Swallowing           &   7.50 &    1816.13 &      6.93 &           -6.07 &           21.08 &                 0.00 &        1425626805.39 &  1.08 & 0.28 &      1.84 \\\\\nslope\\_Q4\\_Handwriting          &  -1.35 &       0.26 &      5.92 &          -12.96 &           10.26 &                 0.00 &             28507.26 & -0.23 & 0.82 &      0.29 \\\\\nslope\\_Q5\\_Cutting              &  -0.02 &       0.98 &      7.06 &          -13.85 &           13.81 &                 0.00 &            995250.81 & -0.00 & 1.00 &      0.00 \\\\\nslope\\_Q6\\_Dressing\\_and\\_Hygiene &  -6.19 &       0.00 &      6.99 &          -19.90 &            7.51 &                 0.00 &              1834.94 & -0.89 & 0.38 &      1.41 \\\\\nslope\\_Q7\\_Turning\\_in\\_Bed       &  -2.02 &       0.13 &      4.12 &          -10.10 &            6.06 &                 0.00 &               427.94 & -0.49 & 0.62 &      0.68 \\\\\nslope\\_Q8\\_Walking              & -12.95 &       0.00 &      8.19 &          -29.00 &            3.10 &                 0.00 &                22.22 & -1.58 & 0.11 &      3.14 \\\\\nslope\\_Q9\\_Climbing\\_Stairs      &  -2.87 &       0.06 &      5.06 &          -12.78 &            7.04 &                 0.00 &              1139.00 & -0.57 & 0.57 &      0.81 \\\\\nslope\\_Q10\\_Respiratory         &  -9.97 &       0.00 &      5.62 &          -20.99 &            1.04 &                 0.00 &                 2.84 & -1.77 & 0.08 &      3.72 \\\\\n\\bottomrule\n\\end{tabular}\n",
            "text/html": [
              "<div>\n",
              "<style scoped>\n",
              "    .dataframe tbody tr th:only-of-type {\n",
              "        vertical-align: middle;\n",
              "    }\n",
              "\n",
              "    .dataframe tbody tr th {\n",
              "        vertical-align: top;\n",
              "    }\n",
              "\n",
              "    .dataframe thead th {\n",
              "        text-align: right;\n",
              "    }\n",
              "</style>\n",
              "<table border=\"1\" class=\"dataframe\">\n",
              "  <tbody>\n",
              "    <tr>\n",
              "      <th>model</th>\n",
              "      <td>lifelines.CoxPHFitter</td>\n",
              "    </tr>\n",
              "    <tr>\n",
              "      <th>duration col</th>\n",
              "      <td>'time_event'</td>\n",
              "    </tr>\n",
              "    <tr>\n",
              "      <th>event col</th>\n",
              "      <td>'status'</td>\n",
              "    </tr>\n",
              "    <tr>\n",
              "      <th>penalizer</th>\n",
              "      <td>0.01</td>\n",
              "    </tr>\n",
              "    <tr>\n",
              "      <th>l1 ratio</th>\n",
              "      <td>0</td>\n",
              "    </tr>\n",
              "    <tr>\n",
              "      <th>baseline estimation</th>\n",
              "      <td>breslow</td>\n",
              "    </tr>\n",
              "    <tr>\n",
              "      <th>number of observations</th>\n",
              "      <td>1320</td>\n",
              "    </tr>\n",
              "    <tr>\n",
              "      <th>number of events observed</th>\n",
              "      <td>190</td>\n",
              "    </tr>\n",
              "    <tr>\n",
              "      <th>partial log-likelihood</th>\n",
              "      <td>-980.60</td>\n",
              "    </tr>\n",
              "    <tr>\n",
              "      <th>time fit was run</th>\n",
              "      <td>2021-04-29 11:32:54 UTC</td>\n",
              "    </tr>\n",
              "  </tbody>\n",
              "</table>\n",
              "</div><table border=\"1\" class=\"dataframe\">\n",
              "  <thead>\n",
              "    <tr style=\"text-align: right;\">\n",
              "      <th style=\"min-width: 12px;\"></th>\n",
              "      <th style=\"min-width: 12px;\">coef</th>\n",
              "      <th style=\"min-width: 12px;\">exp(coef)</th>\n",
              "      <th style=\"min-width: 12px;\">se(coef)</th>\n",
              "      <th style=\"min-width: 12px;\">coef lower 95%</th>\n",
              "      <th style=\"min-width: 12px;\">coef upper 95%</th>\n",
              "      <th style=\"min-width: 12px;\">exp(coef) lower 95%</th>\n",
              "      <th style=\"min-width: 12px;\">exp(coef) upper 95%</th>\n",
              "      <th style=\"min-width: 12px;\">z</th>\n",
              "      <th style=\"min-width: 12px;\">p</th>\n",
              "      <th style=\"min-width: 12px;\">-log2(p)</th>\n",
              "    </tr>\n",
              "  </thead>\n",
              "  <tbody>\n",
              "    <tr>\n",
              "      <th>Age</th>\n",
              "      <td>0.05</td>\n",
              "      <td>1.05</td>\n",
              "      <td>0.01</td>\n",
              "      <td>0.03</td>\n",
              "      <td>0.06</td>\n",
              "      <td>1.03</td>\n",
              "      <td>1.06</td>\n",
              "      <td>6.44</td>\n",
              "      <td>&lt;0.005</td>\n",
              "      <td>33.00</td>\n",
              "    </tr>\n",
              "    <tr>\n",
              "      <th>Gender</th>\n",
              "      <td>0.06</td>\n",
              "      <td>1.06</td>\n",
              "      <td>0.16</td>\n",
              "      <td>-0.25</td>\n",
              "      <td>0.37</td>\n",
              "      <td>0.78</td>\n",
              "      <td>1.45</td>\n",
              "      <td>0.37</td>\n",
              "      <td>0.71</td>\n",
              "      <td>0.49</td>\n",
              "    </tr>\n",
              "    <tr>\n",
              "      <th>onset_site_1</th>\n",
              "      <td>0.34</td>\n",
              "      <td>1.40</td>\n",
              "      <td>0.33</td>\n",
              "      <td>-0.31</td>\n",
              "      <td>0.98</td>\n",
              "      <td>0.74</td>\n",
              "      <td>2.66</td>\n",
              "      <td>1.02</td>\n",
              "      <td>0.31</td>\n",
              "      <td>1.71</td>\n",
              "    </tr>\n",
              "    <tr>\n",
              "      <th>onset_site_2</th>\n",
              "      <td>0.05</td>\n",
              "      <td>1.05</td>\n",
              "      <td>0.27</td>\n",
              "      <td>-0.48</td>\n",
              "      <td>0.58</td>\n",
              "      <td>0.62</td>\n",
              "      <td>1.78</td>\n",
              "      <td>0.19</td>\n",
              "      <td>0.85</td>\n",
              "      <td>0.24</td>\n",
              "    </tr>\n",
              "    <tr>\n",
              "      <th>onset_site_3</th>\n",
              "      <td>0.76</td>\n",
              "      <td>2.15</td>\n",
              "      <td>0.66</td>\n",
              "      <td>-0.53</td>\n",
              "      <td>2.06</td>\n",
              "      <td>0.59</td>\n",
              "      <td>7.85</td>\n",
              "      <td>1.15</td>\n",
              "      <td>0.25</td>\n",
              "      <td>2.01</td>\n",
              "    </tr>\n",
              "    <tr>\n",
              "      <th>onset_delta</th>\n",
              "      <td>0.00</td>\n",
              "      <td>1.00</td>\n",
              "      <td>0.00</td>\n",
              "      <td>0.00</td>\n",
              "      <td>0.00</td>\n",
              "      <td>1.00</td>\n",
              "      <td>1.00</td>\n",
              "      <td>2.29</td>\n",
              "      <td>0.02</td>\n",
              "      <td>5.50</td>\n",
              "    </tr>\n",
              "    <tr>\n",
              "      <th>diag_minus_onset</th>\n",
              "      <td>0.00</td>\n",
              "      <td>1.00</td>\n",
              "      <td>0.00</td>\n",
              "      <td>-0.00</td>\n",
              "      <td>0.00</td>\n",
              "      <td>1.00</td>\n",
              "      <td>1.00</td>\n",
              "      <td>0.12</td>\n",
              "      <td>0.91</td>\n",
              "      <td>0.14</td>\n",
              "    </tr>\n",
              "    <tr>\n",
              "      <th>alsfrs_total_slope</th>\n",
              "      <td>0.01</td>\n",
              "      <td>1.01</td>\n",
              "      <td>2.71</td>\n",
              "      <td>-5.29</td>\n",
              "      <td>5.32</td>\n",
              "      <td>0.01</td>\n",
              "      <td>204.23</td>\n",
              "      <td>0.00</td>\n",
              "      <td>1.00</td>\n",
              "      <td>0.01</td>\n",
              "    </tr>\n",
              "    <tr>\n",
              "      <th>fvc_slope</th>\n",
              "      <td>-0.14</td>\n",
              "      <td>0.87</td>\n",
              "      <td>0.32</td>\n",
              "      <td>-0.77</td>\n",
              "      <td>0.50</td>\n",
              "      <td>0.46</td>\n",
              "      <td>1.65</td>\n",
              "      <td>-0.42</td>\n",
              "      <td>0.67</td>\n",
              "      <td>0.57</td>\n",
              "    </tr>\n",
              "    <tr>\n",
              "      <th>fvc_mean</th>\n",
              "      <td>-0.00</td>\n",
              "      <td>1.00</td>\n",
              "      <td>0.00</td>\n",
              "      <td>-0.01</td>\n",
              "      <td>0.00</td>\n",
              "      <td>0.99</td>\n",
              "      <td>1.00</td>\n",
              "      <td>-1.02</td>\n",
              "      <td>0.31</td>\n",
              "      <td>1.71</td>\n",
              "    </tr>\n",
              "    <tr>\n",
              "      <th>mean_Q10_Respiratory</th>\n",
              "      <td>0.02</td>\n",
              "      <td>1.02</td>\n",
              "      <td>0.12</td>\n",
              "      <td>-0.22</td>\n",
              "      <td>0.26</td>\n",
              "      <td>0.81</td>\n",
              "      <td>1.30</td>\n",
              "      <td>0.19</td>\n",
              "      <td>0.85</td>\n",
              "      <td>0.23</td>\n",
              "    </tr>\n",
              "    <tr>\n",
              "      <th>mean_Bulbar</th>\n",
              "      <td>-0.02</td>\n",
              "      <td>0.98</td>\n",
              "      <td>0.06</td>\n",
              "      <td>-0.15</td>\n",
              "      <td>0.10</td>\n",
              "      <td>0.86</td>\n",
              "      <td>1.10</td>\n",
              "      <td>-0.39</td>\n",
              "      <td>0.70</td>\n",
              "      <td>0.52</td>\n",
              "    </tr>\n",
              "    <tr>\n",
              "      <th>mean_motor</th>\n",
              "      <td>-0.05</td>\n",
              "      <td>0.95</td>\n",
              "      <td>0.02</td>\n",
              "      <td>-0.09</td>\n",
              "      <td>-0.02</td>\n",
              "      <td>0.92</td>\n",
              "      <td>0.98</td>\n",
              "      <td>-3.06</td>\n",
              "      <td>&lt;0.005</td>\n",
              "      <td>8.82</td>\n",
              "    </tr>\n",
              "    <tr>\n",
              "      <th>slope_Q1_Speech</th>\n",
              "      <td>-0.45</td>\n",
              "      <td>0.63</td>\n",
              "      <td>6.68</td>\n",
              "      <td>-13.54</td>\n",
              "      <td>12.63</td>\n",
              "      <td>0.00</td>\n",
              "      <td>3.05e+05</td>\n",
              "      <td>-0.07</td>\n",
              "      <td>0.95</td>\n",
              "      <td>0.08</td>\n",
              "    </tr>\n",
              "    <tr>\n",
              "      <th>slope_Q2_Salivation</th>\n",
              "      <td>-10.90</td>\n",
              "      <td>0.00</td>\n",
              "      <td>7.22</td>\n",
              "      <td>-25.06</td>\n",
              "      <td>3.26</td>\n",
              "      <td>0.00</td>\n",
              "      <td>26.16</td>\n",
              "      <td>-1.51</td>\n",
              "      <td>0.13</td>\n",
              "      <td>2.93</td>\n",
              "    </tr>\n",
              "    <tr>\n",
              "      <th>slope_Q3_Swallowing</th>\n",
              "      <td>7.50</td>\n",
              "      <td>1816.13</td>\n",
              "      <td>6.93</td>\n",
              "      <td>-6.07</td>\n",
              "      <td>21.08</td>\n",
              "      <td>0.00</td>\n",
              "      <td>1.43e+09</td>\n",
              "      <td>1.08</td>\n",
              "      <td>0.28</td>\n",
              "      <td>1.84</td>\n",
              "    </tr>\n",
              "    <tr>\n",
              "      <th>slope_Q4_Handwriting</th>\n",
              "      <td>-1.35</td>\n",
              "      <td>0.26</td>\n",
              "      <td>5.92</td>\n",
              "      <td>-12.96</td>\n",
              "      <td>10.26</td>\n",
              "      <td>0.00</td>\n",
              "      <td>28507.26</td>\n",
              "      <td>-0.23</td>\n",
              "      <td>0.82</td>\n",
              "      <td>0.29</td>\n",
              "    </tr>\n",
              "    <tr>\n",
              "      <th>slope_Q5_Cutting</th>\n",
              "      <td>-0.02</td>\n",
              "      <td>0.98</td>\n",
              "      <td>7.06</td>\n",
              "      <td>-13.85</td>\n",
              "      <td>13.81</td>\n",
              "      <td>0.00</td>\n",
              "      <td>9.95e+05</td>\n",
              "      <td>-0.00</td>\n",
              "      <td>1.00</td>\n",
              "      <td>0.00</td>\n",
              "    </tr>\n",
              "    <tr>\n",
              "      <th>slope_Q6_Dressing_and_Hygiene</th>\n",
              "      <td>-6.19</td>\n",
              "      <td>0.00</td>\n",
              "      <td>6.99</td>\n",
              "      <td>-19.90</td>\n",
              "      <td>7.51</td>\n",
              "      <td>0.00</td>\n",
              "      <td>1834.94</td>\n",
              "      <td>-0.89</td>\n",
              "      <td>0.38</td>\n",
              "      <td>1.41</td>\n",
              "    </tr>\n",
              "    <tr>\n",
              "      <th>slope_Q7_Turning_in_Bed</th>\n",
              "      <td>-2.02</td>\n",
              "      <td>0.13</td>\n",
              "      <td>4.12</td>\n",
              "      <td>-10.10</td>\n",
              "      <td>6.06</td>\n",
              "      <td>0.00</td>\n",
              "      <td>427.94</td>\n",
              "      <td>-0.49</td>\n",
              "      <td>0.62</td>\n",
              "      <td>0.68</td>\n",
              "    </tr>\n",
              "    <tr>\n",
              "      <th>slope_Q8_Walking</th>\n",
              "      <td>-12.95</td>\n",
              "      <td>0.00</td>\n",
              "      <td>8.19</td>\n",
              "      <td>-29.00</td>\n",
              "      <td>3.10</td>\n",
              "      <td>0.00</td>\n",
              "      <td>22.22</td>\n",
              "      <td>-1.58</td>\n",
              "      <td>0.11</td>\n",
              "      <td>3.14</td>\n",
              "    </tr>\n",
              "    <tr>\n",
              "      <th>slope_Q9_Climbing_Stairs</th>\n",
              "      <td>-2.87</td>\n",
              "      <td>0.06</td>\n",
              "      <td>5.06</td>\n",
              "      <td>-12.78</td>\n",
              "      <td>7.04</td>\n",
              "      <td>0.00</td>\n",
              "      <td>1139.00</td>\n",
              "      <td>-0.57</td>\n",
              "      <td>0.57</td>\n",
              "      <td>0.81</td>\n",
              "    </tr>\n",
              "    <tr>\n",
              "      <th>slope_Q10_Respiratory</th>\n",
              "      <td>-9.97</td>\n",
              "      <td>0.00</td>\n",
              "      <td>5.62</td>\n",
              "      <td>-20.99</td>\n",
              "      <td>1.04</td>\n",
              "      <td>0.00</td>\n",
              "      <td>2.84</td>\n",
              "      <td>-1.77</td>\n",
              "      <td>0.08</td>\n",
              "      <td>3.72</td>\n",
              "    </tr>\n",
              "  </tbody>\n",
              "</table><br><div>\n",
              "<style scoped>\n",
              "    .dataframe tbody tr th:only-of-type {\n",
              "        vertical-align: middle;\n",
              "    }\n",
              "\n",
              "    .dataframe tbody tr th {\n",
              "        vertical-align: top;\n",
              "    }\n",
              "\n",
              "    .dataframe thead th {\n",
              "        text-align: right;\n",
              "    }\n",
              "</style>\n",
              "<table border=\"1\" class=\"dataframe\">\n",
              "  <tbody>\n",
              "    <tr>\n",
              "      <th>Concordance</th>\n",
              "      <td>0.72</td>\n",
              "    </tr>\n",
              "    <tr>\n",
              "      <th>Partial AIC</th>\n",
              "      <td>2007.20</td>\n",
              "    </tr>\n",
              "    <tr>\n",
              "      <th>log-likelihood ratio test</th>\n",
              "      <td>78.53 on 23 df</td>\n",
              "    </tr>\n",
              "    <tr>\n",
              "      <th>-log2(p) of ll-ratio test</th>\n",
              "      <td>24.12</td>\n",
              "    </tr>\n",
              "  </tbody>\n",
              "</table>\n",
              "</div>"
            ],
            "text/plain": [
              "<lifelines.CoxPHFitter: fitted with 1320 total observations, 1130 right-censored observations>\n",
              "             duration col = 'time_event'\n",
              "                event col = 'status'\n",
              "                penalizer = 0.01\n",
              "                 l1 ratio = 0.0\n",
              "      baseline estimation = breslow\n",
              "   number of observations = 1320\n",
              "number of events observed = 190\n",
              "   partial log-likelihood = -980.60\n",
              "         time fit was run = 2021-04-29 11:32:54 UTC\n",
              "\n",
              "---\n",
              "                                coef  exp(coef)   se(coef)   coef lower 95%   coef upper 95%  exp(coef) lower 95%  exp(coef) upper 95%\n",
              "covariate                                                                                                                             \n",
              "Age                             0.05       1.05       0.01             0.03             0.06                 1.03                 1.06\n",
              "Gender                          0.06       1.06       0.16            -0.25             0.37                 0.78                 1.45\n",
              "onset_site_1                    0.34       1.40       0.33            -0.31             0.98                 0.74                 2.66\n",
              "onset_site_2                    0.05       1.05       0.27            -0.48             0.58                 0.62                 1.78\n",
              "onset_site_3                    0.76       2.15       0.66            -0.53             2.06                 0.59                 7.85\n",
              "onset_delta                     0.00       1.00       0.00             0.00             0.00                 1.00                 1.00\n",
              "diag_minus_onset                0.00       1.00       0.00            -0.00             0.00                 1.00                 1.00\n",
              "alsfrs_total_slope              0.01       1.01       2.71            -5.29             5.32                 0.01               204.23\n",
              "fvc_slope                      -0.14       0.87       0.32            -0.77             0.50                 0.46                 1.65\n",
              "fvc_mean                       -0.00       1.00       0.00            -0.01             0.00                 0.99                 1.00\n",
              "mean_Q10_Respiratory            0.02       1.02       0.12            -0.22             0.26                 0.81                 1.30\n",
              "mean_Bulbar                    -0.02       0.98       0.06            -0.15             0.10                 0.86                 1.10\n",
              "mean_motor                     -0.05       0.95       0.02            -0.09            -0.02                 0.92                 0.98\n",
              "slope_Q1_Speech                -0.45       0.63       6.68           -13.54            12.63                 0.00             3.05e+05\n",
              "slope_Q2_Salivation           -10.90       0.00       7.22           -25.06             3.26                 0.00                26.16\n",
              "slope_Q3_Swallowing             7.50    1816.13       6.93            -6.07            21.08                 0.00             1.43e+09\n",
              "slope_Q4_Handwriting           -1.35       0.26       5.92           -12.96            10.26                 0.00             28507.26\n",
              "slope_Q5_Cutting               -0.02       0.98       7.06           -13.85            13.81                 0.00             9.95e+05\n",
              "slope_Q6_Dressing_and_Hygiene  -6.19       0.00       6.99           -19.90             7.51                 0.00              1834.94\n",
              "slope_Q7_Turning_in_Bed        -2.02       0.13       4.12           -10.10             6.06                 0.00               427.94\n",
              "slope_Q8_Walking              -12.95       0.00       8.19           -29.00             3.10                 0.00                22.22\n",
              "slope_Q9_Climbing_Stairs       -2.87       0.06       5.06           -12.78             7.04                 0.00              1139.00\n",
              "slope_Q10_Respiratory          -9.97       0.00       5.62           -20.99             1.04                 0.00                 2.84\n",
              "\n",
              "                                  z      p   -log2(p)\n",
              "covariate                                            \n",
              "Age                            6.44 <0.005      33.00\n",
              "Gender                         0.37   0.71       0.49\n",
              "onset_site_1                   1.02   0.31       1.71\n",
              "onset_site_2                   0.19   0.85       0.24\n",
              "onset_site_3                   1.15   0.25       2.01\n",
              "onset_delta                    2.29   0.02       5.50\n",
              "diag_minus_onset               0.12   0.91       0.14\n",
              "alsfrs_total_slope             0.00   1.00       0.01\n",
              "fvc_slope                     -0.42   0.67       0.57\n",
              "fvc_mean                      -1.02   0.31       1.71\n",
              "mean_Q10_Respiratory           0.19   0.85       0.23\n",
              "mean_Bulbar                   -0.39   0.70       0.52\n",
              "mean_motor                    -3.06 <0.005       8.82\n",
              "slope_Q1_Speech               -0.07   0.95       0.08\n",
              "slope_Q2_Salivation           -1.51   0.13       2.93\n",
              "slope_Q3_Swallowing            1.08   0.28       1.84\n",
              "slope_Q4_Handwriting          -0.23   0.82       0.29\n",
              "slope_Q5_Cutting              -0.00   1.00       0.00\n",
              "slope_Q6_Dressing_and_Hygiene -0.89   0.38       1.41\n",
              "slope_Q7_Turning_in_Bed       -0.49   0.62       0.68\n",
              "slope_Q8_Walking              -1.58   0.11       3.14\n",
              "slope_Q9_Climbing_Stairs      -0.57   0.57       0.81\n",
              "slope_Q10_Respiratory         -1.77   0.08       3.72\n",
              "---\n",
              "Concordance = 0.72\n",
              "Partial AIC = 2007.20\n",
              "log-likelihood ratio test = 78.53 on 23 df\n",
              "-log2(p) of ll-ratio test = 24.12"
            ]
          },
          "metadata": {
            "tags": []
          }
        }
      ]
    },
    {
      "cell_type": "code",
      "metadata": {
        "colab": {
          "base_uri": "https://localhost:8080/",
          "height": 623
        },
        "id": "hEzt0GV-A-6T",
        "outputId": "94afc387-8f20-4caa-ba90-ecd97447c3b0"
      },
      "source": [
        "plt.figure(figsize=(15,10))\n",
        "cph.plot()\n",
        "#HR >1, 즉 log(HR)>0 이면 사망 위험 증가를 뜻함"
      ],
      "execution_count": null,
      "outputs": [
        {
          "output_type": "execute_result",
          "data": {
            "text/plain": [
              "<matplotlib.axes._subplots.AxesSubplot at 0x7f0641256c50>"
            ]
          },
          "metadata": {
            "tags": []
          },
          "execution_count": 17
        },
        {
          "output_type": "display_data",
          "data": {
            "image/png": "[encoded data removed]",
            "text/plain": [
              "<Figure size 1080x720 with 1 Axes>"
            ]
          },
          "metadata": {
            "tags": [],
            "needs_background": "light"
          }
        }
      ]
    },
    {
      "cell_type": "markdown",
      "metadata": {
        "id": "ZrFZINAYCjdu"
      },
      "source": [
        "Test 데이터에 대해 예측하기"
      ]
    },
    {
      "cell_type": "code",
      "metadata": {
        "id": "ouUJX9A6BJ9b"
      },
      "source": [
        "df_test_X = df_test.drop(columns=['time_event', 'status'])"
      ],
      "execution_count": null,
      "outputs": []
    },
    {
      "cell_type": "code",
      "metadata": {
        "id": "a7QVePJnDZBf"
      },
      "source": [
        "# Selecting 3 random subjects to predict survival\n",
        "test_1 = df_test_X.iloc[-5:, :]"
      ],
      "execution_count": null,
      "outputs": []
    },
    {
      "cell_type": "code",
      "metadata": {
        "colab": {
          "base_uri": "https://localhost:8080/",
          "height": 445
        },
        "id": "8TSHSutqC3OM",
        "outputId": "d247edc4-baf7-4c71-a37c-26d9aa9558aa"
      },
      "source": [
        "fig, ax = plt.subplots(figsize=(10,7))\n",
        "result = cph.predict_survival_function(test_1)\n",
        "sns.lineplot(data = result)"
      ],
      "execution_count": null,
      "outputs": [
        {
          "output_type": "execute_result",
          "data": {
            "text/plain": [
              "<matplotlib.axes._subplots.AxesSubplot at 0x7f064113c690>"
            ]
          },
          "metadata": {
            "tags": []
          },
          "execution_count": 20
        },
        {
          "output_type": "display_data",
          "data": {
            "image/png": "[encoded data removed]",
            "text/plain": [
              "<Figure size 720x504 with 1 Axes>"
            ]
          },
          "metadata": {
            "tags": [],
            "needs_background": "light"
          }
        }
      ]
    },
    {
      "cell_type": "code",
      "metadata": {
        "colab": {
          "base_uri": "https://localhost:8080/",
          "height": 195
        },
        "id": "TvuCVGZgD3Gg",
        "outputId": "ae2a7d47-d132-4075-bf26-94a9dcf2fca2"
      },
      "source": [
        "df_test.iloc[-5:, -2:]"
      ],
      "execution_count": null,
      "outputs": [
        {
          "output_type": "execute_result",
          "data": {
            "text/html": [
              "<div>\n",
              "<style scoped>\n",
              "    .dataframe tbody tr th:only-of-type {\n",
              "        vertical-align: middle;\n",
              "    }\n",
              "\n",
              "    .dataframe tbody tr th {\n",
              "        vertical-align: top;\n",
              "    }\n",
              "\n",
              "    .dataframe thead th {\n",
              "        text-align: right;\n",
              "    }\n",
              "</style>\n",
              "<table border=\"1\" class=\"dataframe\">\n",
              "  <thead>\n",
              "    <tr style=\"text-align: right;\">\n",
              "      <th></th>\n",
              "      <th>time_event</th>\n",
              "      <th>status</th>\n",
              "    </tr>\n",
              "  </thead>\n",
              "  <tbody>\n",
              "    <tr>\n",
              "      <th>77</th>\n",
              "      <td>425</td>\n",
              "      <td>1</td>\n",
              "    </tr>\n",
              "    <tr>\n",
              "      <th>1362</th>\n",
              "      <td>378</td>\n",
              "      <td>0</td>\n",
              "    </tr>\n",
              "    <tr>\n",
              "      <th>1286</th>\n",
              "      <td>461</td>\n",
              "      <td>0</td>\n",
              "    </tr>\n",
              "    <tr>\n",
              "      <th>39</th>\n",
              "      <td>378</td>\n",
              "      <td>0</td>\n",
              "    </tr>\n",
              "    <tr>\n",
              "      <th>43</th>\n",
              "      <td>585</td>\n",
              "      <td>0</td>\n",
              "    </tr>\n",
              "  </tbody>\n",
              "</table>\n",
              "</div>"
            ],
            "text/plain": [
              "      time_event  status\n",
              "77           425       1\n",
              "1362         378       0\n",
              "1286         461       0\n",
              "39           378       0\n",
              "43           585       0"
            ]
          },
          "metadata": {
            "tags": []
          },
          "execution_count": 21
        }
      ]
    },
    {
      "cell_type": "markdown",
      "metadata": {
        "id": "IprI1rGrYZL1"
      },
      "source": [
        "모델 평가하기 with 5-fold cv"
      ]
    },
    {
      "cell_type": "code",
      "metadata": {
        "id": "1HGfs4tplBlL"
      },
      "source": [
        "from lifelines.utils import k_fold_cross_validation"
      ],
      "execution_count": null,
      "outputs": []
    },
    {
      "cell_type": "code",
      "metadata": {
        "colab": {
          "base_uri": "https://localhost:8080/"
        },
        "id": "Jv-V3XfNiNCO",
        "outputId": "58250985-b6e9-477a-aed1-f737429e9c5c"
      },
      "source": [
        "import inspect\n",
        "inspect.getargspec(k_fold_cross_validation)"
      ],
      "execution_count": null,
      "outputs": [
        {
          "output_type": "stream",
          "text": [
            "/usr/local/lib/python3.7/dist-packages/ipykernel_launcher.py:2: DeprecationWarning: inspect.getargspec() is deprecated since Python 3.0, use inspect.signature() or inspect.getfullargspec()\n",
            "  \n"
          ],
          "name": "stderr"
        },
        {
          "output_type": "execute_result",
          "data": {
            "text/plain": [
              "ArgSpec(args=['fitters', 'df', 'duration_col', 'event_col', 'k', 'scoring_method', 'fitter_kwargs'], varargs=None, keywords=None, defaults=(None, 5, 'log_likelihood', {}))"
            ]
          },
          "metadata": {
            "tags": []
          },
          "execution_count": 23
        }
      ]
    },
    {
      "cell_type": "code",
      "metadata": {
        "colab": {
          "base_uri": "https://localhost:8080/"
        },
        "id": "VktplsvwYmXS",
        "outputId": "99b85926-dbf3-4991-be79-4e4c04f33b3e"
      },
      "source": [
        "cph = CoxPHFitter()\n",
        "C_Idx = np.array([])\n",
        "random_num_list = [10,20,30,40,50,60,70,80,90,100]\n",
        "\n",
        "for i in random_num_list:\n",
        "    arr = k_fold_cross_validation(cph, df_train, 'time_event', event_col='status', k=5, scoring_method=\"concordance_index\")\n",
        "    C_Idx = np.concatenate((C_Idx, arr))\n",
        "print(C_Idx)"
      ],
      "execution_count": null,
      "outputs": [
        {
          "output_type": "stream",
          "text": [
            "[0.64095315 0.60906643 0.69230769 0.7        0.67542812 0.74458701\n",
            " 0.74962963 0.58192651 0.65908229 0.65808081 0.7071601  0.67672956\n",
            " 0.59545876 0.69684882 0.71039714 0.7536105  0.59283125 0.68241366\n",
            " 0.66269084 0.71464646 0.63201562 0.64599237 0.66494603 0.66794827\n",
            " 0.76855394 0.67743222 0.735363   0.70924639 0.68668407 0.60899796\n",
            " 0.58007335 0.6626506  0.68145484 0.64859594 0.71423032 0.65844636\n",
            " 0.75125743 0.64585192 0.65589279 0.62180579 0.68894009 0.63509031\n",
            " 0.64338028 0.65299558 0.68085908 0.66208906 0.71517413 0.74417687\n",
            " 0.67438948 0.6092959 ]\n"
          ],
          "name": "stdout"
        }
      ]
    },
    {
      "cell_type": "code",
      "metadata": {
        "colab": {
          "base_uri": "https://localhost:8080/",
          "height": 375
        },
        "id": "BrjLfK5uklKI",
        "outputId": "6709f8ed-3870-4f82-9898-eaa30762fc99"
      },
      "source": [
        "df = pd.DataFrame(C_Idx)\n",
        "df.columns = ['C_Index']\n",
        "\n",
        "plt.figure(figsize=(7,6))\n",
        "boxplot = df.boxplot(column=['C_Index'])\n",
        "plt.show()"
      ],
      "execution_count": null,
      "outputs": [
        {
          "output_type": "display_data",
          "data": {
            "image/png": "[encoded data removed]",
            "text/plain": [
              "<Figure size 504x432 with 1 Axes>"
            ]
          },
          "metadata": {
            "tags": [],
            "needs_background": "light"
          }
        }
      ]
    },
    {
      "cell_type": "markdown",
      "metadata": {
        "id": "3jstSk5AX-ay"
      },
      "source": [
        "모델 평가하기 1 - Calibration"
      ]
    },
    {
      "cell_type": "code",
      "metadata": {
        "id": "5-K8B21gvOgv"
      },
      "source": [
        "# k-fold 교차 검증을 통해 구한 생존함수 추정치들의 사분위수 (quartile)를 구하고, 이를 이용하여 전체 자료를 4 등분한다. \n",
        "# 각 등분에서 t시점에서의 생존함수 S(t)를 Kaplan-Meier 추정량을 이용하여 추정한다. \n",
        "# 각 등분에서 k-fold 교차 검증을 이용하여 구한 S_hat(t;Z)들의 평균을 계산한다.\n",
        "# 각 등분의 S_hat(t)와 평균을 쌍으로 나타낸 도표를 calibration 도표라고 부르며 적합된 모형이 완벽하다면 이 쌍들이 45도 선 위에 위치하게 된다."
      ],
      "execution_count": null,
      "outputs": []
    },
    {
      "cell_type": "code",
      "metadata": {
        "colab": {
          "base_uri": "https://localhost:8080/",
          "height": 448
        },
        "id": "tR_-9EtQRYj3",
        "outputId": "7b30e046-e088-4712-f46b-ee3225e820cf"
      },
      "source": [
        "from lifelines.calibration import survival_probability_calibration\n",
        "\n",
        "survival_probability_calibration(cph, df_test, t0=1000)"
      ],
      "execution_count": 38,
      "outputs": [
        {
          "output_type": "stream",
          "text": [
            "ICI =  0.07424814356169471\n",
            "E50 =  0.07040723534127069\n"
          ],
          "name": "stdout"
        },
        {
          "output_type": "stream",
          "text": [
            "/usr/local/lib/python3.7/dist-packages/lifelines/calibration.py:45: RuntimeWarning: divide by zero encountered in log\n",
            "  return np.log(-np.log(1 - p))\n",
            "/usr/local/lib/python3.7/dist-packages/lifelines/fitters/mixins.py:19: RuntimeWarning: invalid value encountered in subtract\n",
            "  return self.relu(x - knot) ** 3 - (lambda_ * self.relu(x - min_knot) ** 3 + (1 - lambda_) * self.relu(x - max_knot) ** 3)\n"
          ],
          "name": "stderr"
        },
        {
          "output_type": "execute_result",
          "data": {
            "text/plain": [
              "(<matplotlib.axes._subplots.AxesSubplot at 0x7f063ff91f50>,\n",
              " 0.07424814356169471,\n",
              " 0.07040723534127069)"
            ]
          },
          "metadata": {
            "tags": []
          },
          "execution_count": 38
        },
        {
          "output_type": "display_data",
          "data": {
            "image/png": "[encoded data removed]",
            "text/plain": [
              "<Figure size 432x288 with 2 Axes>"
            ]
          },
          "metadata": {
            "tags": [],
            "needs_background": "light"
          }
        }
      ]
    },
    {
      "cell_type": "markdown",
      "metadata": {
        "id": "khozmOMmYbMA"
      },
      "source": [
        "모델 평가하기 2 - Discrimination(AUC(t))"
      ]
    },
    {
      "cell_type": "code",
      "metadata": {
        "id": "QRAkXHE2X9-W"
      },
      "source": [
        "# 자료 내 모든 개체들을 t시점까지 사건 발생 유무에 따라 사례군 (case group)과 대조군 (control group)으로 나눈다. \n",
        "# 사례군에서 k-fold 교차 검증을 이용하여 구한 t시점에서의 Sb(t;Z)를 대조군에서의 t시점에서의 생존함수 추정치와 비교한다.\n",
        "# AUC(t)가 1에 가깝다면 적합된 모형이 전체 자료를 사례군와 대조군으로 완벽하게 분류할 수 있음을 의미하고,0.5에 가깝거나 그 이하일 경우는 적합된 모형의 판별적 정확성이 매우 좋지 않음을 의미한다."
      ],
      "execution_count": null,
      "outputs": []
    },
    {
      "cell_type": "markdown",
      "metadata": {
        "id": "tRV6LWD8YOIN"
      },
      "source": [
        "비례위험 가정 검토"
      ]
    },
    {
      "cell_type": "code",
      "metadata": {
        "id": "xRqXTAvnu2FP"
      },
      "source": [
        ""
      ],
      "execution_count": null,
      "outputs": []
    },
    {
      "cell_type": "code",
      "metadata": {
        "id": "j3Zs47dAercc"
      },
      "source": [
        ""
      ],
      "execution_count": null,
      "outputs": []
    }
  ]
}
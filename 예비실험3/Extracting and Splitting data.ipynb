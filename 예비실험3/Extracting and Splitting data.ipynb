{
 "cells": [
  {
   "cell_type": "code",
   "execution_count": 1,
   "metadata": {},
   "outputs": [],
   "source": [
    "import pandas as pd\n",
    "from sklearn.model_selection import train_test_split"
   ]
  },
  {
   "cell_type": "code",
   "execution_count": 2,
   "metadata": {},
   "outputs": [],
   "source": [
    "all_forms_training1 = pd.read_csv('all_forms_PROACT_training.txt', sep='|', header=0, dtype={\"feature_value\":str, \"feature_unit\":str}, low_memory = False)\n",
    "all_forms_training2 = pd.read_csv('all_forms_PROACT_training2.txt', sep='|', header=0, dtype={\"feature_value\":str, \"feature_unit\":str}, low_memory = False)\n",
    "all_forms_leaderboard = pd.read_csv('all_forms_PROACT_leaderboard_full.txt', sep='|', header=0, dtype={\"feature_value\":str, \"feature_unit\":str}, low_memory = False)\n",
    "all_forms_validation = pd.read_csv('all_forms_PROACT_validation_full.txt', sep='|', header=0, dtype={\"feature_value\":str, \"feature_unit\":str}, low_memory = False)"
   ]
  },
  {
   "cell_type": "code",
   "execution_count": 3,
   "metadata": {},
   "outputs": [
    {
     "name": "stdout",
     "output_type": "stream",
     "text": [
      "The number of subjects in all_forms data is 10723\n"
     ]
    }
   ],
   "source": [
    "all_forms = pd.concat([all_forms_training1, all_forms_training2, all_forms_leaderboard, all_forms_validation])\n",
    "print(\"The number of subjects in all_forms data is\", len(all_forms[\"SubjectID\"].unique()))"
   ]
  },
  {
   "cell_type": "code",
   "execution_count": 4,
   "metadata": {},
   "outputs": [],
   "source": [
    "target = pd.read_csv('ALSFRS_slope.csv')\n",
    "als_hx = pd.read_csv('als_hx.csv')\n",
    "demographics = pd.read_csv('demographic.csv')\n",
    "fvc = pd.read_csv('fvc_3mo_meta.csv')\n",
    "vitals = pd.read_csv('vitals.csv')"
   ]
  },
  {
   "cell_type": "code",
   "execution_count": 5,
   "metadata": {},
   "outputs": [
    {
     "name": "stdout",
     "output_type": "stream",
     "text": [
      "The number of subjects in target data is 3096\n"
     ]
    }
   ],
   "source": [
    "print(\"The number of subjects in target data is\", len(target[\"SubjectID\"].unique()))"
   ]
  },
  {
   "cell_type": "markdown",
   "metadata": {},
   "source": [
    "Extracting Static Features"
   ]
  },
  {
   "cell_type": "code",
   "execution_count": 6,
   "metadata": {},
   "outputs": [],
   "source": [
    "demographics = demographics[['SubjectID', 'Age']]\n",
    "als_hx['diag_minus_onset'] = als_hx['diag_delta'] - als_hx['onset_delta']\n",
    "als_hx = als_hx[['SubjectID', 'diag_delta', 'onset_delta', 'diag_minus_onset']]"
   ]
  },
  {
   "cell_type": "code",
   "execution_count": 7,
   "metadata": {},
   "outputs": [],
   "source": [
    "static = pd.DataFrame(columns=['SubjectID'])\n",
    "static_list = [demographics, als_hx]\n",
    "for i in static_list :\n",
    "    df = i\n",
    "    static = static.merge(df, on='SubjectID', how='outer')"
   ]
  },
  {
   "cell_type": "markdown",
   "metadata": {},
   "source": [
    "Extracting Time-resolved Features"
   ]
  },
  {
   "cell_type": "code",
   "execution_count": 8,
   "metadata": {},
   "outputs": [],
   "source": [
    "fvc = fvc[['SubjectID','fvc_slope', 'fvc_max']]\n",
    "vitals.query('feature_delta < 92', inplace=True)"
   ]
  },
  {
   "cell_type": "code",
   "execution_count": 9,
   "metadata": {},
   "outputs": [],
   "source": [
    "vitals2 = vitals.iloc[:, [0,2,3,4,5]].groupby('SubjectID').agg(['max', 'mean'])\n",
    "vitals2.columns = ['max_bp_d','mean_bp_d', 'max_bp_s', 'mean_bp_s',  'max_pulse','mean_pulse',   'max_resp_rate','mean_resp_rate']\n",
    "vitals2 = vitals2[[ 'mean_bp_d', 'max_bp_s', 'max_resp_rate', 'max_pulse']]\n",
    "vitals3 = vitals[['SubjectID', 'feature_delta', 'bp_systolic']]\n",
    "vitals4 = vitals3.groupby('SubjectID').agg(['first', 'last'])\n",
    "vitals4['interval'] = vitals4.iloc[:,1] - vitals4.iloc[:,0]\n",
    "vitals4['bp_s_slope'] = (vitals4.iloc[:,3] - vitals4.iloc[:,2])/vitals4['interval']\n",
    "vitals5 = vitals4[['bp_s_slope']]\n",
    "vitals5.columns = ['bp_s_slope']\n",
    "vitals5.reset_index()\n",
    "vitals_fin = vitals2.merge(vitals5, on='SubjectID', how='outer')"
   ]
  },
  {
   "cell_type": "code",
   "execution_count": 10,
   "metadata": {},
   "outputs": [],
   "source": [
    "time_res = pd.DataFrame(columns=['SubjectID'])\n",
    "time_res_list = [vitals_fin, fvc]\n",
    "for i in time_res_list :\n",
    "    df = i\n",
    "    time_res = time_res.merge(df, on='SubjectID', how='outer')"
   ]
  },
  {
   "cell_type": "markdown",
   "metadata": {},
   "source": [
    "Merge all features"
   ]
  },
  {
   "cell_type": "code",
   "execution_count": 11,
   "metadata": {},
   "outputs": [],
   "source": [
    "features = static.merge(time_res, on='SubjectID', how='outer')"
   ]
  },
  {
   "cell_type": "markdown",
   "metadata": {},
   "source": [
    "Selecting SubjectIDs in target data"
   ]
  },
  {
   "cell_type": "code",
   "execution_count": 12,
   "metadata": {},
   "outputs": [],
   "source": [
    "extent = list(target[\"SubjectID\"].unique())"
   ]
  },
  {
   "cell_type": "code",
   "execution_count": 13,
   "metadata": {},
   "outputs": [],
   "source": [
    "features.query(\"SubjectID == {0}\".format(extent), inplace=True)"
   ]
  },
  {
   "cell_type": "code",
   "execution_count": 14,
   "metadata": {},
   "outputs": [
    {
     "data": {
      "text/plain": [
       "3096"
      ]
     },
     "execution_count": 14,
     "metadata": {},
     "output_type": "execute_result"
    }
   ],
   "source": [
    "len(features[\"SubjectID\"].unique())"
   ]
  },
  {
   "cell_type": "code",
   "execution_count": 15,
   "metadata": {},
   "outputs": [],
   "source": [
    "features_and_target_with_nans_full = features.merge(target, on='SubjectID', how='outer')"
   ]
  },
  {
   "cell_type": "code",
   "execution_count": 16,
   "metadata": {},
   "outputs": [],
   "source": [
    "features_and_target_with_nans_full.to_csv('features_and_target_with_nans_full.csv')"
   ]
  },
  {
   "cell_type": "markdown",
   "metadata": {},
   "source": [
    "Train/Test Splitting"
   ]
  },
  {
   "cell_type": "code",
   "execution_count": 23,
   "metadata": {},
   "outputs": [],
   "source": [
    "x = features_and_target_with_nans_full[['SubjectID', 'Age', 'diag_delta', 'onset_delta', 'diag_minus_onset', 'mean_bp_d', 'max_bp_s', 'max_resp_rate', 'max_pulse', 'bp_s_slope', 'fvc_slope', 'fvc_max']]\n",
    "y = features_and_target_with_nans_full[['SubjectID','ALSFRS_slope']]"
   ]
  },
  {
   "cell_type": "code",
   "execution_count": 24,
   "metadata": {},
   "outputs": [],
   "source": [
    "x_train, x_test, y_train, y_test = train_test_split(x, y, train_size=0.8, test_size=0.2)"
   ]
  },
  {
   "cell_type": "code",
   "execution_count": 25,
   "metadata": {},
   "outputs": [],
   "source": [
    "x_train.to_csv('x_train_with_nans.csv')\n",
    "x_test.to_csv('x_test_with_nans.csv')\n",
    "y_train.to_csv('y_train_with_nans.csv')\n",
    "y_test.to_csv('y_test_with_nans.csv')"
   ]
  }
 ],
 "metadata": {
  "kernelspec": {
   "display_name": "Python 3",
   "language": "python",
   "name": "python3"
  },
  "language_info": {
   "codemirror_mode": {
    "name": "ipython",
    "version": 3
   },
   "file_extension": ".py",
   "mimetype": "text/x-python",
   "name": "python",
   "nbconvert_exporter": "python",
   "pygments_lexer": "ipython3",
   "version": "3.8.5"
  }
 },
 "nbformat": 4,
 "nbformat_minor": 4
}

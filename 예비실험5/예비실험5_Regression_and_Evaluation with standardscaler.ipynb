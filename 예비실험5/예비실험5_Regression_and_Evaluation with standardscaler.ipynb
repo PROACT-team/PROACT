{
  "nbformat": 4,
  "nbformat_minor": 0,
  "metadata": {
    "colab": {
      "name": "예비실험5 - Regression and Evaluation.ipynb",
      "provenance": [],
      "collapsed_sections": [
        "2GijyogefMA6"
      ]
    },
    "kernelspec": {
      "name": "python3",
      "display_name": "Python 3"
    },
    "language_info": {
      "name": "python"
    }
  },
  "cells": [
    {
      "cell_type": "code",
      "metadata": {
        "id": "jJ4MhsRHbmBA"
      },
      "source": [
        "import pandas as pd\n",
        "import numpy as np\n",
        "import matplotlib.pyplot as plt\n",
        "import seaborn as sns\n",
        "from sklearn.model_selection import train_test_split"
      ],
      "execution_count": null,
      "outputs": []
    },
    {
      "cell_type": "markdown",
      "metadata": {
        "id": "miFPA73PdwWo"
      },
      "source": [
        "### 데이터 전처리"
      ]
    },
    {
      "cell_type": "code",
      "metadata": {
        "id": "VE9LuWnzonyk",
        "colab": {
          "resources": {
            "http://localhost:8080/nbextensions/google.colab/files.js": {
              "data": "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",
              "ok": true,
              "headers": [
                [
                  "content-type",
                  "application/javascript"
                ]
              ],
              "status": 200,
              "status_text": ""
            }
          },
          "base_uri": "https://localhost:8080/",
          "height": 75
        },
        "outputId": "f76d6fe5-f21c-4fc6-87d2-52e05b6ac16c"
      },
      "source": [
        "#import data\n",
        "from google.colab import files \n",
        "uploaded = files.upload()"
      ],
      "execution_count": null,
      "outputs": [
        {
          "output_type": "display_data",
          "data": {
            "text/html": [
              "\n",
              "     <input type=\"file\" id=\"files-fbea7125-6614-4ea9-9ff5-79969beb1ccd\" name=\"files[]\" multiple disabled\n",
              "        style=\"border:none\" />\n",
              "     <output id=\"result-fbea7125-6614-4ea9-9ff5-79969beb1ccd\">\n",
              "      Upload widget is only available when the cell has been executed in the\n",
              "      current browser session. Please rerun this cell to enable.\n",
              "      </output>\n",
              "      <script src=\"/nbextensions/google.colab/files.js\"></script> "
            ],
            "text/plain": [
              "<IPython.core.display.HTML object>"
            ]
          },
          "metadata": {
            "tags": []
          }
        },
        {
          "output_type": "stream",
          "text": [
            "Saving x_and_y_before_regression_final.csv to x_and_y_before_regression_final.csv\n"
          ],
          "name": "stdout"
        }
      ]
    },
    {
      "cell_type": "code",
      "metadata": {
        "id": "LED8NZnytETd"
      },
      "source": [
        "import io\n",
        "df = pd.read_csv(io.BytesIO(uploaded['x_and_y_before_regression_final.csv']))"
      ],
      "execution_count": null,
      "outputs": []
    },
    {
      "cell_type": "code",
      "metadata": {
        "colab": {
          "base_uri": "https://localhost:8080/",
          "height": 232
        },
        "id": "WWFNsRjoxoTW",
        "outputId": "e1dc6066-8a5c-4870-c951-29191ceb8a2c"
      },
      "source": [
        "df.head()"
      ],
      "execution_count": null,
      "outputs": [
        {
          "output_type": "execute_result",
          "data": {
            "text/html": [
              "<div>\n",
              "<style scoped>\n",
              "    .dataframe tbody tr th:only-of-type {\n",
              "        vertical-align: middle;\n",
              "    }\n",
              "\n",
              "    .dataframe tbody tr th {\n",
              "        vertical-align: top;\n",
              "    }\n",
              "\n",
              "    .dataframe thead th {\n",
              "        text-align: right;\n",
              "    }\n",
              "</style>\n",
              "<table border=\"1\" class=\"dataframe\">\n",
              "  <thead>\n",
              "    <tr style=\"text-align: right;\">\n",
              "      <th></th>\n",
              "      <th>Unnamed: 0</th>\n",
              "      <th>Age</th>\n",
              "      <th>Gender</th>\n",
              "      <th>onset_site</th>\n",
              "      <th>onset_delta</th>\n",
              "      <th>diag_delta</th>\n",
              "      <th>diag_minus_onset</th>\n",
              "      <th>mean_alsfrs_total</th>\n",
              "      <th>alsfrs_total_slope</th>\n",
              "      <th>fvc_slope</th>\n",
              "      <th>fvc_mean</th>\n",
              "      <th>mean_Q1_Speech</th>\n",
              "      <th>mean_Q2_Salivation</th>\n",
              "      <th>mean_Q3_Swallowing</th>\n",
              "      <th>mean_Q4_Handwriting</th>\n",
              "      <th>mean_Q5_Cutting</th>\n",
              "      <th>mean_Q6_Dressing_and_Hygiene</th>\n",
              "      <th>mean_Q7_Turning_in_Bed</th>\n",
              "      <th>mean_Q8_Walking</th>\n",
              "      <th>mean_Q9_Climbing_Stairs</th>\n",
              "      <th>mean_Q10_Respiratory</th>\n",
              "      <th>mean_Bulbar</th>\n",
              "      <th>mean_motor</th>\n",
              "      <th>slope_Q1_Speech</th>\n",
              "      <th>slope_Q2_Salivation</th>\n",
              "      <th>slope_Q3_Swallowing</th>\n",
              "      <th>slope_Q4_Handwriting</th>\n",
              "      <th>slope_Q5_Cutting</th>\n",
              "      <th>slope_Q6_Dressing_and_Hygiene</th>\n",
              "      <th>slope_Q7_Turning_in_Bed</th>\n",
              "      <th>slope_Q8_Walking</th>\n",
              "      <th>slope_Q9_Climbing_Stairs</th>\n",
              "      <th>slope_Q10_Respiratory</th>\n",
              "      <th>slope_Bulbar</th>\n",
              "      <th>slope_motor</th>\n",
              "      <th>ALSFRS_slope</th>\n",
              "    </tr>\n",
              "  </thead>\n",
              "  <tbody>\n",
              "    <tr>\n",
              "      <th>0</th>\n",
              "      <td>0</td>\n",
              "      <td>52.0</td>\n",
              "      <td>0.0</td>\n",
              "      <td>0.0</td>\n",
              "      <td>-501.0</td>\n",
              "      <td>-302.0</td>\n",
              "      <td>199.0</td>\n",
              "      <td>30.250000</td>\n",
              "      <td>-0.009689</td>\n",
              "      <td>0.284522</td>\n",
              "      <td>86.424228</td>\n",
              "      <td>4.00</td>\n",
              "      <td>4.000000</td>\n",
              "      <td>4.00</td>\n",
              "      <td>3.5</td>\n",
              "      <td>2.0</td>\n",
              "      <td>2.250000</td>\n",
              "      <td>3.5</td>\n",
              "      <td>2.000000</td>\n",
              "      <td>1.000000</td>\n",
              "      <td>4.00</td>\n",
              "      <td>8.0</td>\n",
              "      <td>14.250000</td>\n",
              "      <td>0.000000</td>\n",
              "      <td>0.000000</td>\n",
              "      <td>0.000000</td>\n",
              "      <td>0.016393</td>\n",
              "      <td>0.0</td>\n",
              "      <td>-0.016393</td>\n",
              "      <td>0.016393</td>\n",
              "      <td>0.000000</td>\n",
              "      <td>0.000000</td>\n",
              "      <td>0.000000</td>\n",
              "      <td>0.000000</td>\n",
              "      <td>-0.016393</td>\n",
              "      <td>-0.341760</td>\n",
              "    </tr>\n",
              "    <tr>\n",
              "      <th>1</th>\n",
              "      <td>1</td>\n",
              "      <td>65.0</td>\n",
              "      <td>0.0</td>\n",
              "      <td>1.0</td>\n",
              "      <td>-1023.0</td>\n",
              "      <td>-44.0</td>\n",
              "      <td>979.0</td>\n",
              "      <td>28.666667</td>\n",
              "      <td>0.002114</td>\n",
              "      <td>-0.583333</td>\n",
              "      <td>73.500000</td>\n",
              "      <td>1.00</td>\n",
              "      <td>1.333333</td>\n",
              "      <td>2.00</td>\n",
              "      <td>4.0</td>\n",
              "      <td>4.0</td>\n",
              "      <td>3.333333</td>\n",
              "      <td>4.0</td>\n",
              "      <td>3.333333</td>\n",
              "      <td>2.666667</td>\n",
              "      <td>3.00</td>\n",
              "      <td>3.0</td>\n",
              "      <td>21.333333</td>\n",
              "      <td>-0.010989</td>\n",
              "      <td>-0.010989</td>\n",
              "      <td>0.000000</td>\n",
              "      <td>0.000000</td>\n",
              "      <td>0.0</td>\n",
              "      <td>-0.010989</td>\n",
              "      <td>0.010989</td>\n",
              "      <td>0.010989</td>\n",
              "      <td>0.010989</td>\n",
              "      <td>0.000000</td>\n",
              "      <td>-0.010989</td>\n",
              "      <td>0.010989</td>\n",
              "      <td>-0.965608</td>\n",
              "    </tr>\n",
              "    <tr>\n",
              "      <th>2</th>\n",
              "      <td>2</td>\n",
              "      <td>66.0</td>\n",
              "      <td>0.0</td>\n",
              "      <td>1.0</td>\n",
              "      <td>-550.0</td>\n",
              "      <td>-462.0</td>\n",
              "      <td>88.0</td>\n",
              "      <td>32.000000</td>\n",
              "      <td>-0.043752</td>\n",
              "      <td>-0.057374</td>\n",
              "      <td>92.885179</td>\n",
              "      <td>0.75</td>\n",
              "      <td>2.750000</td>\n",
              "      <td>0.75</td>\n",
              "      <td>4.0</td>\n",
              "      <td>4.0</td>\n",
              "      <td>4.000000</td>\n",
              "      <td>4.0</td>\n",
              "      <td>4.000000</td>\n",
              "      <td>4.000000</td>\n",
              "      <td>3.75</td>\n",
              "      <td>1.5</td>\n",
              "      <td>24.000000</td>\n",
              "      <td>0.000000</td>\n",
              "      <td>-0.014493</td>\n",
              "      <td>-0.014493</td>\n",
              "      <td>0.000000</td>\n",
              "      <td>0.0</td>\n",
              "      <td>0.000000</td>\n",
              "      <td>0.000000</td>\n",
              "      <td>0.000000</td>\n",
              "      <td>0.000000</td>\n",
              "      <td>-0.014493</td>\n",
              "      <td>-0.014493</td>\n",
              "      <td>0.000000</td>\n",
              "      <td>-0.569600</td>\n",
              "    </tr>\n",
              "    <tr>\n",
              "      <th>3</th>\n",
              "      <td>3</td>\n",
              "      <td>41.0</td>\n",
              "      <td>1.0</td>\n",
              "      <td>2.0</td>\n",
              "      <td>-570.0</td>\n",
              "      <td>-511.0</td>\n",
              "      <td>59.0</td>\n",
              "      <td>16.500000</td>\n",
              "      <td>-0.104167</td>\n",
              "      <td>0.000000</td>\n",
              "      <td>71.000000</td>\n",
              "      <td>2.50</td>\n",
              "      <td>3.000000</td>\n",
              "      <td>3.00</td>\n",
              "      <td>1.5</td>\n",
              "      <td>1.0</td>\n",
              "      <td>1.000000</td>\n",
              "      <td>0.5</td>\n",
              "      <td>0.500000</td>\n",
              "      <td>0.000000</td>\n",
              "      <td>3.50</td>\n",
              "      <td>5.5</td>\n",
              "      <td>4.500000</td>\n",
              "      <td>-0.020833</td>\n",
              "      <td>-0.041667</td>\n",
              "      <td>0.000000</td>\n",
              "      <td>-0.020833</td>\n",
              "      <td>0.0</td>\n",
              "      <td>0.000000</td>\n",
              "      <td>-0.020833</td>\n",
              "      <td>-0.020833</td>\n",
              "      <td>0.000000</td>\n",
              "      <td>0.020833</td>\n",
              "      <td>-0.020833</td>\n",
              "      <td>-0.062500</td>\n",
              "      <td>-1.183528</td>\n",
              "    </tr>\n",
              "    <tr>\n",
              "      <th>4</th>\n",
              "      <td>4</td>\n",
              "      <td>63.0</td>\n",
              "      <td>1.0</td>\n",
              "      <td>2.0</td>\n",
              "      <td>-365.0</td>\n",
              "      <td>-209.0</td>\n",
              "      <td>156.0</td>\n",
              "      <td>30.000000</td>\n",
              "      <td>0.000000</td>\n",
              "      <td>-0.235294</td>\n",
              "      <td>114.000000</td>\n",
              "      <td>4.00</td>\n",
              "      <td>4.000000</td>\n",
              "      <td>4.00</td>\n",
              "      <td>3.0</td>\n",
              "      <td>3.0</td>\n",
              "      <td>2.000000</td>\n",
              "      <td>3.0</td>\n",
              "      <td>3.000000</td>\n",
              "      <td>1.000000</td>\n",
              "      <td>3.00</td>\n",
              "      <td>8.0</td>\n",
              "      <td>15.000000</td>\n",
              "      <td>0.000000</td>\n",
              "      <td>0.000000</td>\n",
              "      <td>0.000000</td>\n",
              "      <td>0.000000</td>\n",
              "      <td>0.0</td>\n",
              "      <td>0.000000</td>\n",
              "      <td>0.029412</td>\n",
              "      <td>0.000000</td>\n",
              "      <td>0.000000</td>\n",
              "      <td>0.000000</td>\n",
              "      <td>0.000000</td>\n",
              "      <td>0.000000</td>\n",
              "      <td>-0.598361</td>\n",
              "    </tr>\n",
              "  </tbody>\n",
              "</table>\n",
              "</div>"
            ],
            "text/plain": [
              "   Unnamed: 0   Age  Gender  ...  slope_Bulbar  slope_motor  ALSFRS_slope\n",
              "0           0  52.0     0.0  ...      0.000000    -0.016393     -0.341760\n",
              "1           1  65.0     0.0  ...     -0.010989     0.010989     -0.965608\n",
              "2           2  66.0     0.0  ...     -0.014493     0.000000     -0.569600\n",
              "3           3  41.0     1.0  ...     -0.020833    -0.062500     -1.183528\n",
              "4           4  63.0     1.0  ...      0.000000     0.000000     -0.598361\n",
              "\n",
              "[5 rows x 36 columns]"
            ]
          },
          "metadata": {
            "tags": []
          },
          "execution_count": 5
        }
      ]
    },
    {
      "cell_type": "code",
      "metadata": {
        "id": "gAUrH_ajoy8b"
      },
      "source": [
        "df.drop(columns='Unnamed: 0', inplace=True)"
      ],
      "execution_count": null,
      "outputs": []
    },
    {
      "cell_type": "code",
      "metadata": {
        "id": "DIm43am-pBV1"
      },
      "source": [
        "y = df[['ALSFRS_slope']]\n",
        "X= df.drop(columns=['ALSFRS_slope'])"
      ],
      "execution_count": null,
      "outputs": []
    },
    {
      "cell_type": "code",
      "metadata": {
        "id": "k5E5oKVPw_ON"
      },
      "source": [
        "X = X.astype('float64')"
      ],
      "execution_count": null,
      "outputs": []
    },
    {
      "cell_type": "code",
      "metadata": {
        "colab": {
          "base_uri": "https://localhost:8080/"
        },
        "id": "ztn1pLHCxPrL",
        "outputId": "a6f41bd1-0a63-4216-bc65-0c45b15c0e38"
      },
      "source": [
        "X.isnull().sum().sum()"
      ],
      "execution_count": null,
      "outputs": [
        {
          "output_type": "execute_result",
          "data": {
            "text/plain": [
              "0"
            ]
          },
          "metadata": {
            "tags": []
          },
          "execution_count": 9
        }
      ]
    },
    {
      "cell_type": "code",
      "metadata": {
        "id": "CVKezGrVduZ9"
      },
      "source": [
        "from sklearn.preprocessing import StandardScaler"
      ],
      "execution_count": null,
      "outputs": []
    },
    {
      "cell_type": "code",
      "metadata": {
        "colab": {
          "base_uri": "https://localhost:8080/",
          "height": 422
        },
        "id": "KUTEjaYfdt0T",
        "outputId": "cb354d31-b30b-4ecc-a245-3ebe8f24a671"
      },
      "source": [
        "X_cat = X['Gender']\n",
        "X.drop(columns = ['Gender'], inplace = True)\n",
        "scaler = StandardScaler()\n",
        "scaler.fit(X)\n",
        "X_scaled = scaler.transform(X)\n",
        "X = pd.DataFrame(X_scaled, index=X.index, columns=X.columns)\n",
        "X"
      ],
      "execution_count": null,
      "outputs": [
        {
          "output_type": "execute_result",
          "data": {
            "text/html": [
              "<div>\n",
              "<style scoped>\n",
              "    .dataframe tbody tr th:only-of-type {\n",
              "        vertical-align: middle;\n",
              "    }\n",
              "\n",
              "    .dataframe tbody tr th {\n",
              "        vertical-align: top;\n",
              "    }\n",
              "\n",
              "    .dataframe thead th {\n",
              "        text-align: right;\n",
              "    }\n",
              "</style>\n",
              "<table border=\"1\" class=\"dataframe\">\n",
              "  <thead>\n",
              "    <tr style=\"text-align: right;\">\n",
              "      <th></th>\n",
              "      <th>Age</th>\n",
              "      <th>onset_site</th>\n",
              "      <th>onset_delta</th>\n",
              "      <th>diag_delta</th>\n",
              "      <th>diag_minus_onset</th>\n",
              "      <th>mean_alsfrs_total</th>\n",
              "      <th>alsfrs_total_slope</th>\n",
              "      <th>fvc_slope</th>\n",
              "      <th>fvc_mean</th>\n",
              "      <th>mean_Q1_Speech</th>\n",
              "      <th>mean_Q2_Salivation</th>\n",
              "      <th>mean_Q3_Swallowing</th>\n",
              "      <th>mean_Q4_Handwriting</th>\n",
              "      <th>mean_Q5_Cutting</th>\n",
              "      <th>mean_Q6_Dressing_and_Hygiene</th>\n",
              "      <th>mean_Q7_Turning_in_Bed</th>\n",
              "      <th>mean_Q8_Walking</th>\n",
              "      <th>mean_Q9_Climbing_Stairs</th>\n",
              "      <th>mean_Q10_Respiratory</th>\n",
              "      <th>mean_Bulbar</th>\n",
              "      <th>mean_motor</th>\n",
              "      <th>slope_Q1_Speech</th>\n",
              "      <th>slope_Q2_Salivation</th>\n",
              "      <th>slope_Q3_Swallowing</th>\n",
              "      <th>slope_Q4_Handwriting</th>\n",
              "      <th>slope_Q5_Cutting</th>\n",
              "      <th>slope_Q6_Dressing_and_Hygiene</th>\n",
              "      <th>slope_Q7_Turning_in_Bed</th>\n",
              "      <th>slope_Q8_Walking</th>\n",
              "      <th>slope_Q9_Climbing_Stairs</th>\n",
              "      <th>slope_Q10_Respiratory</th>\n",
              "      <th>slope_Bulbar</th>\n",
              "      <th>slope_motor</th>\n",
              "    </tr>\n",
              "  </thead>\n",
              "  <tbody>\n",
              "    <tr>\n",
              "      <th>0</th>\n",
              "      <td>-0.270588</td>\n",
              "      <td>-1.902410</td>\n",
              "      <td>0.237813</td>\n",
              "      <td>-0.246492</td>\n",
              "      <td>-0.538994</td>\n",
              "      <td>-0.007617</td>\n",
              "      <td>0.125969</td>\n",
              "      <td>1.159389</td>\n",
              "      <td>0.083434</td>\n",
              "      <td>0.781623</td>\n",
              "      <td>0.648104</td>\n",
              "      <td>0.707717</td>\n",
              "      <td>0.470343</td>\n",
              "      <td>-0.699635</td>\n",
              "      <td>-0.333181</td>\n",
              "      <td>0.403936</td>\n",
              "      <td>-0.824303</td>\n",
              "      <td>-0.797046</td>\n",
              "      <td>0.639747</td>\n",
              "      <td>0.802329</td>\n",
              "      <td>-0.447308</td>\n",
              "      <td>0.044420</td>\n",
              "      <td>0.063843</td>\n",
              "      <td>0.063517</td>\n",
              "      <td>1.131431</td>\n",
              "      <td>0.145931</td>\n",
              "      <td>-0.839430</td>\n",
              "      <td>0.127105</td>\n",
              "      <td>0.128340</td>\n",
              "      <td>0.182042</td>\n",
              "      <td>0.046670</td>\n",
              "      <td>0.093403</td>\n",
              "      <td>-0.021742</td>\n",
              "    </tr>\n",
              "    <tr>\n",
              "      <th>1</th>\n",
              "      <td>0.885378</td>\n",
              "      <td>-0.616471</td>\n",
              "      <td>-1.467130</td>\n",
              "      <td>0.892301</td>\n",
              "      <td>2.728775</td>\n",
              "      <td>-0.311192</td>\n",
              "      <td>0.288795</td>\n",
              "      <td>-1.704213</td>\n",
              "      <td>-0.816888</td>\n",
              "      <td>-2.412845</td>\n",
              "      <td>-2.819940</td>\n",
              "      <td>-2.266642</td>\n",
              "      <td>1.003393</td>\n",
              "      <td>1.113081</td>\n",
              "      <td>0.783042</td>\n",
              "      <td>0.983781</td>\n",
              "      <td>0.653304</td>\n",
              "      <td>0.450311</td>\n",
              "      <td>-1.105353</td>\n",
              "      <td>-2.513303</td>\n",
              "      <td>1.051062</td>\n",
              "      <td>-0.501582</td>\n",
              "      <td>-0.689757</td>\n",
              "      <td>0.063517</td>\n",
              "      <td>0.123118</td>\n",
              "      <td>0.145931</td>\n",
              "      <td>-0.502019</td>\n",
              "      <td>-0.078042</td>\n",
              "      <td>0.921033</td>\n",
              "      <td>0.678877</td>\n",
              "      <td>0.046670</td>\n",
              "      <td>-0.472249</td>\n",
              "      <td>0.485666</td>\n",
              "    </tr>\n",
              "    <tr>\n",
              "      <th>2</th>\n",
              "      <td>0.974299</td>\n",
              "      <td>-0.616471</td>\n",
              "      <td>0.077771</td>\n",
              "      <td>-0.952721</td>\n",
              "      <td>-1.004023</td>\n",
              "      <td>0.327913</td>\n",
              "      <td>-0.343925</td>\n",
              "      <td>0.031257</td>\n",
              "      <td>0.533514</td>\n",
              "      <td>-2.679051</td>\n",
              "      <td>-0.977542</td>\n",
              "      <td>-4.125617</td>\n",
              "      <td>1.003393</td>\n",
              "      <td>1.113081</td>\n",
              "      <td>1.469948</td>\n",
              "      <td>0.983781</td>\n",
              "      <td>1.392108</td>\n",
              "      <td>1.448196</td>\n",
              "      <td>0.203472</td>\n",
              "      <td>-3.507993</td>\n",
              "      <td>1.615155</td>\n",
              "      <td>0.044420</td>\n",
              "      <td>-0.930035</td>\n",
              "      <td>-0.936469</td>\n",
              "      <td>0.123118</td>\n",
              "      <td>0.145931</td>\n",
              "      <td>0.184050</td>\n",
              "      <td>-0.495174</td>\n",
              "      <td>0.128340</td>\n",
              "      <td>0.182042</td>\n",
              "      <td>-0.840691</td>\n",
              "      <td>-0.652601</td>\n",
              "      <td>0.282035</td>\n",
              "    </tr>\n",
              "    <tr>\n",
              "      <th>3</th>\n",
              "      <td>-1.248712</td>\n",
              "      <td>0.669468</td>\n",
              "      <td>0.012447</td>\n",
              "      <td>-1.169003</td>\n",
              "      <td>-1.125517</td>\n",
              "      <td>-2.643923</td>\n",
              "      <td>-1.177361</td>\n",
              "      <td>0.220570</td>\n",
              "      <td>-0.991042</td>\n",
              "      <td>-0.815611</td>\n",
              "      <td>-0.652413</td>\n",
              "      <td>-0.779463</td>\n",
              "      <td>-1.661854</td>\n",
              "      <td>-1.605993</td>\n",
              "      <td>-1.621130</td>\n",
              "      <td>-3.075137</td>\n",
              "      <td>-2.486612</td>\n",
              "      <td>-1.545459</td>\n",
              "      <td>-0.232803</td>\n",
              "      <td>-0.855487</td>\n",
              "      <td>-2.509771</td>\n",
              "      <td>-0.990709</td>\n",
              "      <td>-2.793556</td>\n",
              "      <td>0.063517</td>\n",
              "      <td>-1.158279</td>\n",
              "      <td>0.145931</td>\n",
              "      <td>0.184050</td>\n",
              "      <td>-1.285988</td>\n",
              "      <td>-1.374473</td>\n",
              "      <td>0.182042</td>\n",
              "      <td>1.322251</td>\n",
              "      <td>-0.978978</td>\n",
              "      <td>-0.876114</td>\n",
              "    </tr>\n",
              "    <tr>\n",
              "      <th>4</th>\n",
              "      <td>0.707537</td>\n",
              "      <td>0.669468</td>\n",
              "      <td>0.682013</td>\n",
              "      <td>0.164003</td>\n",
              "      <td>-0.719140</td>\n",
              "      <td>-0.055550</td>\n",
              "      <td>0.259636</td>\n",
              "      <td>-0.555813</td>\n",
              "      <td>2.004405</td>\n",
              "      <td>0.781623</td>\n",
              "      <td>0.648104</td>\n",
              "      <td>0.707717</td>\n",
              "      <td>-0.062706</td>\n",
              "      <td>0.206723</td>\n",
              "      <td>-0.590770</td>\n",
              "      <td>-0.175910</td>\n",
              "      <td>0.283902</td>\n",
              "      <td>-0.797046</td>\n",
              "      <td>-1.105353</td>\n",
              "      <td>0.802329</td>\n",
              "      <td>-0.288657</td>\n",
              "      <td>0.044420</td>\n",
              "      <td>0.063843</td>\n",
              "      <td>0.063517</td>\n",
              "      <td>0.123118</td>\n",
              "      <td>0.145931</td>\n",
              "      <td>0.184050</td>\n",
              "      <td>0.621268</td>\n",
              "      <td>0.128340</td>\n",
              "      <td>0.182042</td>\n",
              "      <td>0.046670</td>\n",
              "      <td>0.093403</td>\n",
              "      <td>0.282035</td>\n",
              "    </tr>\n",
              "    <tr>\n",
              "      <th>...</th>\n",
              "      <td>...</td>\n",
              "      <td>...</td>\n",
              "      <td>...</td>\n",
              "      <td>...</td>\n",
              "      <td>...</td>\n",
              "      <td>...</td>\n",
              "      <td>...</td>\n",
              "      <td>...</td>\n",
              "      <td>...</td>\n",
              "      <td>...</td>\n",
              "      <td>...</td>\n",
              "      <td>...</td>\n",
              "      <td>...</td>\n",
              "      <td>...</td>\n",
              "      <td>...</td>\n",
              "      <td>...</td>\n",
              "      <td>...</td>\n",
              "      <td>...</td>\n",
              "      <td>...</td>\n",
              "      <td>...</td>\n",
              "      <td>...</td>\n",
              "      <td>...</td>\n",
              "      <td>...</td>\n",
              "      <td>...</td>\n",
              "      <td>...</td>\n",
              "      <td>...</td>\n",
              "      <td>...</td>\n",
              "      <td>...</td>\n",
              "      <td>...</td>\n",
              "      <td>...</td>\n",
              "      <td>...</td>\n",
              "      <td>...</td>\n",
              "      <td>...</td>\n",
              "    </tr>\n",
              "    <tr>\n",
              "      <th>1645</th>\n",
              "      <td>-1.070872</td>\n",
              "      <td>0.669468</td>\n",
              "      <td>-0.323969</td>\n",
              "      <td>-0.206767</td>\n",
              "      <td>0.219296</td>\n",
              "      <td>-1.445602</td>\n",
              "      <td>-0.201734</td>\n",
              "      <td>-1.502366</td>\n",
              "      <td>-0.096244</td>\n",
              "      <td>-0.283200</td>\n",
              "      <td>0.322975</td>\n",
              "      <td>-0.779463</td>\n",
              "      <td>-1.128805</td>\n",
              "      <td>-1.379404</td>\n",
              "      <td>-1.621130</td>\n",
              "      <td>-1.335601</td>\n",
              "      <td>-0.824303</td>\n",
              "      <td>-0.984149</td>\n",
              "      <td>0.639747</td>\n",
              "      <td>-0.523924</td>\n",
              "      <td>-1.557865</td>\n",
              "      <td>0.044420</td>\n",
              "      <td>-0.815357</td>\n",
              "      <td>0.063517</td>\n",
              "      <td>0.123118</td>\n",
              "      <td>-0.626036</td>\n",
              "      <td>0.184050</td>\n",
              "      <td>-0.008520</td>\n",
              "      <td>0.128340</td>\n",
              "      <td>-0.397599</td>\n",
              "      <td>0.046670</td>\n",
              "      <td>0.093403</td>\n",
              "      <td>-0.193103</td>\n",
              "    </tr>\n",
              "    <tr>\n",
              "      <th>1646</th>\n",
              "      <td>1.329980</td>\n",
              "      <td>-0.616471</td>\n",
              "      <td>0.789797</td>\n",
              "      <td>0.287593</td>\n",
              "      <td>-0.740088</td>\n",
              "      <td>-0.151415</td>\n",
              "      <td>-0.983021</td>\n",
              "      <td>-0.361591</td>\n",
              "      <td>0.300733</td>\n",
              "      <td>-2.146639</td>\n",
              "      <td>-2.603187</td>\n",
              "      <td>-1.523052</td>\n",
              "      <td>1.003393</td>\n",
              "      <td>-0.019867</td>\n",
              "      <td>0.954768</td>\n",
              "      <td>0.983781</td>\n",
              "      <td>1.115056</td>\n",
              "      <td>0.699782</td>\n",
              "      <td>-0.669078</td>\n",
              "      <td>-2.015958</td>\n",
              "      <td>0.980551</td>\n",
              "      <td>-0.655385</td>\n",
              "      <td>-1.867920</td>\n",
              "      <td>-0.908300</td>\n",
              "      <td>0.123118</td>\n",
              "      <td>-0.702145</td>\n",
              "      <td>-0.695278</td>\n",
              "      <td>0.039460</td>\n",
              "      <td>-0.887646</td>\n",
              "      <td>0.182042</td>\n",
              "      <td>0.909035</td>\n",
              "      <td>-1.356577</td>\n",
              "      <td>-0.500939</td>\n",
              "    </tr>\n",
              "    <tr>\n",
              "      <th>1647</th>\n",
              "      <td>-0.804110</td>\n",
              "      <td>-0.616471</td>\n",
              "      <td>0.979235</td>\n",
              "      <td>0.150761</td>\n",
              "      <td>-1.112948</td>\n",
              "      <td>-1.876997</td>\n",
              "      <td>-0.504942</td>\n",
              "      <td>1.010154</td>\n",
              "      <td>-0.005838</td>\n",
              "      <td>-1.880434</td>\n",
              "      <td>-0.327284</td>\n",
              "      <td>-0.779463</td>\n",
              "      <td>-0.862280</td>\n",
              "      <td>-1.605993</td>\n",
              "      <td>-2.136309</td>\n",
              "      <td>-1.045678</td>\n",
              "      <td>-0.824303</td>\n",
              "      <td>-0.984149</td>\n",
              "      <td>0.639747</td>\n",
              "      <td>-1.518613</td>\n",
              "      <td>-1.610749</td>\n",
              "      <td>0.044420</td>\n",
              "      <td>0.870637</td>\n",
              "      <td>-0.748236</td>\n",
              "      <td>-2.047719</td>\n",
              "      <td>0.145931</td>\n",
              "      <td>0.184050</td>\n",
              "      <td>-0.048597</td>\n",
              "      <td>0.128340</td>\n",
              "      <td>-0.349864</td>\n",
              "      <td>0.046670</td>\n",
              "      <td>-0.512177</td>\n",
              "      <td>-0.807988</td>\n",
              "    </tr>\n",
              "    <tr>\n",
              "      <th>1648</th>\n",
              "      <td>0.618617</td>\n",
              "      <td>0.669468</td>\n",
              "      <td>0.933508</td>\n",
              "      <td>0.600982</td>\n",
              "      <td>-0.626972</td>\n",
              "      <td>1.094838</td>\n",
              "      <td>0.259636</td>\n",
              "      <td>0.631570</td>\n",
              "      <td>0.221559</td>\n",
              "      <td>0.781623</td>\n",
              "      <td>0.648104</td>\n",
              "      <td>0.707717</td>\n",
              "      <td>1.003393</td>\n",
              "      <td>1.113081</td>\n",
              "      <td>0.439589</td>\n",
              "      <td>0.403936</td>\n",
              "      <td>0.283902</td>\n",
              "      <td>0.325575</td>\n",
              "      <td>0.639747</td>\n",
              "      <td>0.802329</td>\n",
              "      <td>0.769016</td>\n",
              "      <td>0.044420</td>\n",
              "      <td>0.063843</td>\n",
              "      <td>0.063517</td>\n",
              "      <td>0.123118</td>\n",
              "      <td>0.145931</td>\n",
              "      <td>0.184050</td>\n",
              "      <td>-0.495174</td>\n",
              "      <td>0.128340</td>\n",
              "      <td>0.818831</td>\n",
              "      <td>0.046670</td>\n",
              "      <td>0.093403</td>\n",
              "      <td>0.282035</td>\n",
              "    </tr>\n",
              "    <tr>\n",
              "      <th>1649</th>\n",
              "      <td>0.529696</td>\n",
              "      <td>-0.616471</td>\n",
              "      <td>0.407654</td>\n",
              "      <td>0.495047</td>\n",
              "      <td>-0.053018</td>\n",
              "      <td>1.142771</td>\n",
              "      <td>0.029698</td>\n",
              "      <td>-0.568434</td>\n",
              "      <td>1.033089</td>\n",
              "      <td>-1.614228</td>\n",
              "      <td>-0.327284</td>\n",
              "      <td>-0.407668</td>\n",
              "      <td>1.003393</td>\n",
              "      <td>1.113081</td>\n",
              "      <td>1.469948</td>\n",
              "      <td>0.983781</td>\n",
              "      <td>1.392108</td>\n",
              "      <td>1.448196</td>\n",
              "      <td>0.639747</td>\n",
              "      <td>-1.187050</td>\n",
              "      <td>1.615155</td>\n",
              "      <td>-0.655385</td>\n",
              "      <td>0.063843</td>\n",
              "      <td>0.063517</td>\n",
              "      <td>0.123118</td>\n",
              "      <td>0.145931</td>\n",
              "      <td>0.184050</td>\n",
              "      <td>-0.495174</td>\n",
              "      <td>0.128340</td>\n",
              "      <td>0.182042</td>\n",
              "      <td>0.046670</td>\n",
              "      <td>-0.631587</td>\n",
              "      <td>0.282035</td>\n",
              "    </tr>\n",
              "  </tbody>\n",
              "</table>\n",
              "<p>1650 rows × 33 columns</p>\n",
              "</div>"
            ],
            "text/plain": [
              "           Age  onset_site  ...  slope_Bulbar  slope_motor\n",
              "0    -0.270588   -1.902410  ...      0.093403    -0.021742\n",
              "1     0.885378   -0.616471  ...     -0.472249     0.485666\n",
              "2     0.974299   -0.616471  ...     -0.652601     0.282035\n",
              "3    -1.248712    0.669468  ...     -0.978978    -0.876114\n",
              "4     0.707537    0.669468  ...      0.093403     0.282035\n",
              "...        ...         ...  ...           ...          ...\n",
              "1645 -1.070872    0.669468  ...      0.093403    -0.193103\n",
              "1646  1.329980   -0.616471  ...     -1.356577    -0.500939\n",
              "1647 -0.804110   -0.616471  ...     -0.512177    -0.807988\n",
              "1648  0.618617    0.669468  ...      0.093403     0.282035\n",
              "1649  0.529696   -0.616471  ...     -0.631587     0.282035\n",
              "\n",
              "[1650 rows x 33 columns]"
            ]
          },
          "metadata": {
            "tags": []
          },
          "execution_count": 11
        }
      ]
    },
    {
      "cell_type": "code",
      "metadata": {
        "colab": {
          "base_uri": "https://localhost:8080/",
          "height": 422
        },
        "id": "CR_P-zK0f2qF",
        "outputId": "29a5f622-e8fe-4382-8f85-f816df73ba8f"
      },
      "source": [
        "X = pd.concat([X_cat,X], axis=1)\n",
        "X"
      ],
      "execution_count": null,
      "outputs": [
        {
          "output_type": "execute_result",
          "data": {
            "text/html": [
              "<div>\n",
              "<style scoped>\n",
              "    .dataframe tbody tr th:only-of-type {\n",
              "        vertical-align: middle;\n",
              "    }\n",
              "\n",
              "    .dataframe tbody tr th {\n",
              "        vertical-align: top;\n",
              "    }\n",
              "\n",
              "    .dataframe thead th {\n",
              "        text-align: right;\n",
              "    }\n",
              "</style>\n",
              "<table border=\"1\" class=\"dataframe\">\n",
              "  <thead>\n",
              "    <tr style=\"text-align: right;\">\n",
              "      <th></th>\n",
              "      <th>Gender</th>\n",
              "      <th>Age</th>\n",
              "      <th>onset_site</th>\n",
              "      <th>onset_delta</th>\n",
              "      <th>diag_delta</th>\n",
              "      <th>diag_minus_onset</th>\n",
              "      <th>mean_alsfrs_total</th>\n",
              "      <th>alsfrs_total_slope</th>\n",
              "      <th>fvc_slope</th>\n",
              "      <th>fvc_mean</th>\n",
              "      <th>mean_Q1_Speech</th>\n",
              "      <th>mean_Q2_Salivation</th>\n",
              "      <th>mean_Q3_Swallowing</th>\n",
              "      <th>mean_Q4_Handwriting</th>\n",
              "      <th>mean_Q5_Cutting</th>\n",
              "      <th>mean_Q6_Dressing_and_Hygiene</th>\n",
              "      <th>mean_Q7_Turning_in_Bed</th>\n",
              "      <th>mean_Q8_Walking</th>\n",
              "      <th>mean_Q9_Climbing_Stairs</th>\n",
              "      <th>mean_Q10_Respiratory</th>\n",
              "      <th>mean_Bulbar</th>\n",
              "      <th>mean_motor</th>\n",
              "      <th>slope_Q1_Speech</th>\n",
              "      <th>slope_Q2_Salivation</th>\n",
              "      <th>slope_Q3_Swallowing</th>\n",
              "      <th>slope_Q4_Handwriting</th>\n",
              "      <th>slope_Q5_Cutting</th>\n",
              "      <th>slope_Q6_Dressing_and_Hygiene</th>\n",
              "      <th>slope_Q7_Turning_in_Bed</th>\n",
              "      <th>slope_Q8_Walking</th>\n",
              "      <th>slope_Q9_Climbing_Stairs</th>\n",
              "      <th>slope_Q10_Respiratory</th>\n",
              "      <th>slope_Bulbar</th>\n",
              "      <th>slope_motor</th>\n",
              "    </tr>\n",
              "  </thead>\n",
              "  <tbody>\n",
              "    <tr>\n",
              "      <th>0</th>\n",
              "      <td>0.0</td>\n",
              "      <td>-0.270588</td>\n",
              "      <td>-1.902410</td>\n",
              "      <td>0.237813</td>\n",
              "      <td>-0.246492</td>\n",
              "      <td>-0.538994</td>\n",
              "      <td>-0.007617</td>\n",
              "      <td>0.125969</td>\n",
              "      <td>1.159389</td>\n",
              "      <td>0.083434</td>\n",
              "      <td>0.781623</td>\n",
              "      <td>0.648104</td>\n",
              "      <td>0.707717</td>\n",
              "      <td>0.470343</td>\n",
              "      <td>-0.699635</td>\n",
              "      <td>-0.333181</td>\n",
              "      <td>0.403936</td>\n",
              "      <td>-0.824303</td>\n",
              "      <td>-0.797046</td>\n",
              "      <td>0.639747</td>\n",
              "      <td>0.802329</td>\n",
              "      <td>-0.447308</td>\n",
              "      <td>0.044420</td>\n",
              "      <td>0.063843</td>\n",
              "      <td>0.063517</td>\n",
              "      <td>1.131431</td>\n",
              "      <td>0.145931</td>\n",
              "      <td>-0.839430</td>\n",
              "      <td>0.127105</td>\n",
              "      <td>0.128340</td>\n",
              "      <td>0.182042</td>\n",
              "      <td>0.046670</td>\n",
              "      <td>0.093403</td>\n",
              "      <td>-0.021742</td>\n",
              "    </tr>\n",
              "    <tr>\n",
              "      <th>1</th>\n",
              "      <td>0.0</td>\n",
              "      <td>0.885378</td>\n",
              "      <td>-0.616471</td>\n",
              "      <td>-1.467130</td>\n",
              "      <td>0.892301</td>\n",
              "      <td>2.728775</td>\n",
              "      <td>-0.311192</td>\n",
              "      <td>0.288795</td>\n",
              "      <td>-1.704213</td>\n",
              "      <td>-0.816888</td>\n",
              "      <td>-2.412845</td>\n",
              "      <td>-2.819940</td>\n",
              "      <td>-2.266642</td>\n",
              "      <td>1.003393</td>\n",
              "      <td>1.113081</td>\n",
              "      <td>0.783042</td>\n",
              "      <td>0.983781</td>\n",
              "      <td>0.653304</td>\n",
              "      <td>0.450311</td>\n",
              "      <td>-1.105353</td>\n",
              "      <td>-2.513303</td>\n",
              "      <td>1.051062</td>\n",
              "      <td>-0.501582</td>\n",
              "      <td>-0.689757</td>\n",
              "      <td>0.063517</td>\n",
              "      <td>0.123118</td>\n",
              "      <td>0.145931</td>\n",
              "      <td>-0.502019</td>\n",
              "      <td>-0.078042</td>\n",
              "      <td>0.921033</td>\n",
              "      <td>0.678877</td>\n",
              "      <td>0.046670</td>\n",
              "      <td>-0.472249</td>\n",
              "      <td>0.485666</td>\n",
              "    </tr>\n",
              "    <tr>\n",
              "      <th>2</th>\n",
              "      <td>0.0</td>\n",
              "      <td>0.974299</td>\n",
              "      <td>-0.616471</td>\n",
              "      <td>0.077771</td>\n",
              "      <td>-0.952721</td>\n",
              "      <td>-1.004023</td>\n",
              "      <td>0.327913</td>\n",
              "      <td>-0.343925</td>\n",
              "      <td>0.031257</td>\n",
              "      <td>0.533514</td>\n",
              "      <td>-2.679051</td>\n",
              "      <td>-0.977542</td>\n",
              "      <td>-4.125617</td>\n",
              "      <td>1.003393</td>\n",
              "      <td>1.113081</td>\n",
              "      <td>1.469948</td>\n",
              "      <td>0.983781</td>\n",
              "      <td>1.392108</td>\n",
              "      <td>1.448196</td>\n",
              "      <td>0.203472</td>\n",
              "      <td>-3.507993</td>\n",
              "      <td>1.615155</td>\n",
              "      <td>0.044420</td>\n",
              "      <td>-0.930035</td>\n",
              "      <td>-0.936469</td>\n",
              "      <td>0.123118</td>\n",
              "      <td>0.145931</td>\n",
              "      <td>0.184050</td>\n",
              "      <td>-0.495174</td>\n",
              "      <td>0.128340</td>\n",
              "      <td>0.182042</td>\n",
              "      <td>-0.840691</td>\n",
              "      <td>-0.652601</td>\n",
              "      <td>0.282035</td>\n",
              "    </tr>\n",
              "    <tr>\n",
              "      <th>3</th>\n",
              "      <td>1.0</td>\n",
              "      <td>-1.248712</td>\n",
              "      <td>0.669468</td>\n",
              "      <td>0.012447</td>\n",
              "      <td>-1.169003</td>\n",
              "      <td>-1.125517</td>\n",
              "      <td>-2.643923</td>\n",
              "      <td>-1.177361</td>\n",
              "      <td>0.220570</td>\n",
              "      <td>-0.991042</td>\n",
              "      <td>-0.815611</td>\n",
              "      <td>-0.652413</td>\n",
              "      <td>-0.779463</td>\n",
              "      <td>-1.661854</td>\n",
              "      <td>-1.605993</td>\n",
              "      <td>-1.621130</td>\n",
              "      <td>-3.075137</td>\n",
              "      <td>-2.486612</td>\n",
              "      <td>-1.545459</td>\n",
              "      <td>-0.232803</td>\n",
              "      <td>-0.855487</td>\n",
              "      <td>-2.509771</td>\n",
              "      <td>-0.990709</td>\n",
              "      <td>-2.793556</td>\n",
              "      <td>0.063517</td>\n",
              "      <td>-1.158279</td>\n",
              "      <td>0.145931</td>\n",
              "      <td>0.184050</td>\n",
              "      <td>-1.285988</td>\n",
              "      <td>-1.374473</td>\n",
              "      <td>0.182042</td>\n",
              "      <td>1.322251</td>\n",
              "      <td>-0.978978</td>\n",
              "      <td>-0.876114</td>\n",
              "    </tr>\n",
              "    <tr>\n",
              "      <th>4</th>\n",
              "      <td>1.0</td>\n",
              "      <td>0.707537</td>\n",
              "      <td>0.669468</td>\n",
              "      <td>0.682013</td>\n",
              "      <td>0.164003</td>\n",
              "      <td>-0.719140</td>\n",
              "      <td>-0.055550</td>\n",
              "      <td>0.259636</td>\n",
              "      <td>-0.555813</td>\n",
              "      <td>2.004405</td>\n",
              "      <td>0.781623</td>\n",
              "      <td>0.648104</td>\n",
              "      <td>0.707717</td>\n",
              "      <td>-0.062706</td>\n",
              "      <td>0.206723</td>\n",
              "      <td>-0.590770</td>\n",
              "      <td>-0.175910</td>\n",
              "      <td>0.283902</td>\n",
              "      <td>-0.797046</td>\n",
              "      <td>-1.105353</td>\n",
              "      <td>0.802329</td>\n",
              "      <td>-0.288657</td>\n",
              "      <td>0.044420</td>\n",
              "      <td>0.063843</td>\n",
              "      <td>0.063517</td>\n",
              "      <td>0.123118</td>\n",
              "      <td>0.145931</td>\n",
              "      <td>0.184050</td>\n",
              "      <td>0.621268</td>\n",
              "      <td>0.128340</td>\n",
              "      <td>0.182042</td>\n",
              "      <td>0.046670</td>\n",
              "      <td>0.093403</td>\n",
              "      <td>0.282035</td>\n",
              "    </tr>\n",
              "    <tr>\n",
              "      <th>...</th>\n",
              "      <td>...</td>\n",
              "      <td>...</td>\n",
              "      <td>...</td>\n",
              "      <td>...</td>\n",
              "      <td>...</td>\n",
              "      <td>...</td>\n",
              "      <td>...</td>\n",
              "      <td>...</td>\n",
              "      <td>...</td>\n",
              "      <td>...</td>\n",
              "      <td>...</td>\n",
              "      <td>...</td>\n",
              "      <td>...</td>\n",
              "      <td>...</td>\n",
              "      <td>...</td>\n",
              "      <td>...</td>\n",
              "      <td>...</td>\n",
              "      <td>...</td>\n",
              "      <td>...</td>\n",
              "      <td>...</td>\n",
              "      <td>...</td>\n",
              "      <td>...</td>\n",
              "      <td>...</td>\n",
              "      <td>...</td>\n",
              "      <td>...</td>\n",
              "      <td>...</td>\n",
              "      <td>...</td>\n",
              "      <td>...</td>\n",
              "      <td>...</td>\n",
              "      <td>...</td>\n",
              "      <td>...</td>\n",
              "      <td>...</td>\n",
              "      <td>...</td>\n",
              "      <td>...</td>\n",
              "    </tr>\n",
              "    <tr>\n",
              "      <th>1645</th>\n",
              "      <td>1.0</td>\n",
              "      <td>-1.070872</td>\n",
              "      <td>0.669468</td>\n",
              "      <td>-0.323969</td>\n",
              "      <td>-0.206767</td>\n",
              "      <td>0.219296</td>\n",
              "      <td>-1.445602</td>\n",
              "      <td>-0.201734</td>\n",
              "      <td>-1.502366</td>\n",
              "      <td>-0.096244</td>\n",
              "      <td>-0.283200</td>\n",
              "      <td>0.322975</td>\n",
              "      <td>-0.779463</td>\n",
              "      <td>-1.128805</td>\n",
              "      <td>-1.379404</td>\n",
              "      <td>-1.621130</td>\n",
              "      <td>-1.335601</td>\n",
              "      <td>-0.824303</td>\n",
              "      <td>-0.984149</td>\n",
              "      <td>0.639747</td>\n",
              "      <td>-0.523924</td>\n",
              "      <td>-1.557865</td>\n",
              "      <td>0.044420</td>\n",
              "      <td>-0.815357</td>\n",
              "      <td>0.063517</td>\n",
              "      <td>0.123118</td>\n",
              "      <td>-0.626036</td>\n",
              "      <td>0.184050</td>\n",
              "      <td>-0.008520</td>\n",
              "      <td>0.128340</td>\n",
              "      <td>-0.397599</td>\n",
              "      <td>0.046670</td>\n",
              "      <td>0.093403</td>\n",
              "      <td>-0.193103</td>\n",
              "    </tr>\n",
              "    <tr>\n",
              "      <th>1646</th>\n",
              "      <td>1.0</td>\n",
              "      <td>1.329980</td>\n",
              "      <td>-0.616471</td>\n",
              "      <td>0.789797</td>\n",
              "      <td>0.287593</td>\n",
              "      <td>-0.740088</td>\n",
              "      <td>-0.151415</td>\n",
              "      <td>-0.983021</td>\n",
              "      <td>-0.361591</td>\n",
              "      <td>0.300733</td>\n",
              "      <td>-2.146639</td>\n",
              "      <td>-2.603187</td>\n",
              "      <td>-1.523052</td>\n",
              "      <td>1.003393</td>\n",
              "      <td>-0.019867</td>\n",
              "      <td>0.954768</td>\n",
              "      <td>0.983781</td>\n",
              "      <td>1.115056</td>\n",
              "      <td>0.699782</td>\n",
              "      <td>-0.669078</td>\n",
              "      <td>-2.015958</td>\n",
              "      <td>0.980551</td>\n",
              "      <td>-0.655385</td>\n",
              "      <td>-1.867920</td>\n",
              "      <td>-0.908300</td>\n",
              "      <td>0.123118</td>\n",
              "      <td>-0.702145</td>\n",
              "      <td>-0.695278</td>\n",
              "      <td>0.039460</td>\n",
              "      <td>-0.887646</td>\n",
              "      <td>0.182042</td>\n",
              "      <td>0.909035</td>\n",
              "      <td>-1.356577</td>\n",
              "      <td>-0.500939</td>\n",
              "    </tr>\n",
              "    <tr>\n",
              "      <th>1647</th>\n",
              "      <td>0.0</td>\n",
              "      <td>-0.804110</td>\n",
              "      <td>-0.616471</td>\n",
              "      <td>0.979235</td>\n",
              "      <td>0.150761</td>\n",
              "      <td>-1.112948</td>\n",
              "      <td>-1.876997</td>\n",
              "      <td>-0.504942</td>\n",
              "      <td>1.010154</td>\n",
              "      <td>-0.005838</td>\n",
              "      <td>-1.880434</td>\n",
              "      <td>-0.327284</td>\n",
              "      <td>-0.779463</td>\n",
              "      <td>-0.862280</td>\n",
              "      <td>-1.605993</td>\n",
              "      <td>-2.136309</td>\n",
              "      <td>-1.045678</td>\n",
              "      <td>-0.824303</td>\n",
              "      <td>-0.984149</td>\n",
              "      <td>0.639747</td>\n",
              "      <td>-1.518613</td>\n",
              "      <td>-1.610749</td>\n",
              "      <td>0.044420</td>\n",
              "      <td>0.870637</td>\n",
              "      <td>-0.748236</td>\n",
              "      <td>-2.047719</td>\n",
              "      <td>0.145931</td>\n",
              "      <td>0.184050</td>\n",
              "      <td>-0.048597</td>\n",
              "      <td>0.128340</td>\n",
              "      <td>-0.349864</td>\n",
              "      <td>0.046670</td>\n",
              "      <td>-0.512177</td>\n",
              "      <td>-0.807988</td>\n",
              "    </tr>\n",
              "    <tr>\n",
              "      <th>1648</th>\n",
              "      <td>1.0</td>\n",
              "      <td>0.618617</td>\n",
              "      <td>0.669468</td>\n",
              "      <td>0.933508</td>\n",
              "      <td>0.600982</td>\n",
              "      <td>-0.626972</td>\n",
              "      <td>1.094838</td>\n",
              "      <td>0.259636</td>\n",
              "      <td>0.631570</td>\n",
              "      <td>0.221559</td>\n",
              "      <td>0.781623</td>\n",
              "      <td>0.648104</td>\n",
              "      <td>0.707717</td>\n",
              "      <td>1.003393</td>\n",
              "      <td>1.113081</td>\n",
              "      <td>0.439589</td>\n",
              "      <td>0.403936</td>\n",
              "      <td>0.283902</td>\n",
              "      <td>0.325575</td>\n",
              "      <td>0.639747</td>\n",
              "      <td>0.802329</td>\n",
              "      <td>0.769016</td>\n",
              "      <td>0.044420</td>\n",
              "      <td>0.063843</td>\n",
              "      <td>0.063517</td>\n",
              "      <td>0.123118</td>\n",
              "      <td>0.145931</td>\n",
              "      <td>0.184050</td>\n",
              "      <td>-0.495174</td>\n",
              "      <td>0.128340</td>\n",
              "      <td>0.818831</td>\n",
              "      <td>0.046670</td>\n",
              "      <td>0.093403</td>\n",
              "      <td>0.282035</td>\n",
              "    </tr>\n",
              "    <tr>\n",
              "      <th>1649</th>\n",
              "      <td>0.0</td>\n",
              "      <td>0.529696</td>\n",
              "      <td>-0.616471</td>\n",
              "      <td>0.407654</td>\n",
              "      <td>0.495047</td>\n",
              "      <td>-0.053018</td>\n",
              "      <td>1.142771</td>\n",
              "      <td>0.029698</td>\n",
              "      <td>-0.568434</td>\n",
              "      <td>1.033089</td>\n",
              "      <td>-1.614228</td>\n",
              "      <td>-0.327284</td>\n",
              "      <td>-0.407668</td>\n",
              "      <td>1.003393</td>\n",
              "      <td>1.113081</td>\n",
              "      <td>1.469948</td>\n",
              "      <td>0.983781</td>\n",
              "      <td>1.392108</td>\n",
              "      <td>1.448196</td>\n",
              "      <td>0.639747</td>\n",
              "      <td>-1.187050</td>\n",
              "      <td>1.615155</td>\n",
              "      <td>-0.655385</td>\n",
              "      <td>0.063843</td>\n",
              "      <td>0.063517</td>\n",
              "      <td>0.123118</td>\n",
              "      <td>0.145931</td>\n",
              "      <td>0.184050</td>\n",
              "      <td>-0.495174</td>\n",
              "      <td>0.128340</td>\n",
              "      <td>0.182042</td>\n",
              "      <td>0.046670</td>\n",
              "      <td>-0.631587</td>\n",
              "      <td>0.282035</td>\n",
              "    </tr>\n",
              "  </tbody>\n",
              "</table>\n",
              "<p>1650 rows × 34 columns</p>\n",
              "</div>"
            ],
            "text/plain": [
              "      Gender       Age  ...  slope_Bulbar  slope_motor\n",
              "0        0.0 -0.270588  ...      0.093403    -0.021742\n",
              "1        0.0  0.885378  ...     -0.472249     0.485666\n",
              "2        0.0  0.974299  ...     -0.652601     0.282035\n",
              "3        1.0 -1.248712  ...     -0.978978    -0.876114\n",
              "4        1.0  0.707537  ...      0.093403     0.282035\n",
              "...      ...       ...  ...           ...          ...\n",
              "1645     1.0 -1.070872  ...      0.093403    -0.193103\n",
              "1646     1.0  1.329980  ...     -1.356577    -0.500939\n",
              "1647     0.0 -0.804110  ...     -0.512177    -0.807988\n",
              "1648     1.0  0.618617  ...      0.093403     0.282035\n",
              "1649     0.0  0.529696  ...     -0.631587     0.282035\n",
              "\n",
              "[1650 rows x 34 columns]"
            ]
          },
          "metadata": {
            "tags": []
          },
          "execution_count": 12
        }
      ]
    },
    {
      "cell_type": "code",
      "metadata": {
        "colab": {
          "base_uri": "https://localhost:8080/",
          "height": 402
        },
        "id": "evHAAf2ug9gF",
        "outputId": "10085427-11d1-4f4c-a4ec-7d8dc4b1be6b"
      },
      "source": [
        "y"
      ],
      "execution_count": null,
      "outputs": [
        {
          "output_type": "execute_result",
          "data": {
            "text/html": [
              "<div>\n",
              "<style scoped>\n",
              "    .dataframe tbody tr th:only-of-type {\n",
              "        vertical-align: middle;\n",
              "    }\n",
              "\n",
              "    .dataframe tbody tr th {\n",
              "        vertical-align: top;\n",
              "    }\n",
              "\n",
              "    .dataframe thead th {\n",
              "        text-align: right;\n",
              "    }\n",
              "</style>\n",
              "<table border=\"1\" class=\"dataframe\">\n",
              "  <thead>\n",
              "    <tr style=\"text-align: right;\">\n",
              "      <th></th>\n",
              "      <th>ALSFRS_slope</th>\n",
              "    </tr>\n",
              "  </thead>\n",
              "  <tbody>\n",
              "    <tr>\n",
              "      <th>0</th>\n",
              "      <td>-0.341760</td>\n",
              "    </tr>\n",
              "    <tr>\n",
              "      <th>1</th>\n",
              "      <td>-0.965608</td>\n",
              "    </tr>\n",
              "    <tr>\n",
              "      <th>2</th>\n",
              "      <td>-0.569600</td>\n",
              "    </tr>\n",
              "    <tr>\n",
              "      <th>3</th>\n",
              "      <td>-1.183528</td>\n",
              "    </tr>\n",
              "    <tr>\n",
              "      <th>4</th>\n",
              "      <td>-0.598361</td>\n",
              "    </tr>\n",
              "    <tr>\n",
              "      <th>...</th>\n",
              "      <td>...</td>\n",
              "    </tr>\n",
              "    <tr>\n",
              "      <th>1645</th>\n",
              "      <td>-1.298932</td>\n",
              "    </tr>\n",
              "    <tr>\n",
              "      <th>1646</th>\n",
              "      <td>-0.569600</td>\n",
              "    </tr>\n",
              "    <tr>\n",
              "      <th>1647</th>\n",
              "      <td>-1.382576</td>\n",
              "    </tr>\n",
              "    <tr>\n",
              "      <th>1648</th>\n",
              "      <td>-0.434524</td>\n",
              "    </tr>\n",
              "    <tr>\n",
              "      <th>1649</th>\n",
              "      <td>-0.757711</td>\n",
              "    </tr>\n",
              "  </tbody>\n",
              "</table>\n",
              "<p>1650 rows × 1 columns</p>\n",
              "</div>"
            ],
            "text/plain": [
              "      ALSFRS_slope\n",
              "0        -0.341760\n",
              "1        -0.965608\n",
              "2        -0.569600\n",
              "3        -1.183528\n",
              "4        -0.598361\n",
              "...            ...\n",
              "1645     -1.298932\n",
              "1646     -0.569600\n",
              "1647     -1.382576\n",
              "1648     -0.434524\n",
              "1649     -0.757711\n",
              "\n",
              "[1650 rows x 1 columns]"
            ]
          },
          "metadata": {
            "tags": []
          },
          "execution_count": 13
        }
      ]
    },
    {
      "cell_type": "markdown",
      "metadata": {
        "id": "c2Ojdtf5d4IR"
      },
      "source": [
        "### Train/Test set 분리"
      ]
    },
    {
      "cell_type": "code",
      "metadata": {
        "id": "ynOat0P2by5f"
      },
      "source": [
        "X_train, X_test, y_train, y_test = train_test_split(X, y, train_size=0.8, test_size=0.2, random_state=11)"
      ],
      "execution_count": null,
      "outputs": []
    },
    {
      "cell_type": "markdown",
      "metadata": {
        "id": "qyfDIsN7eq_w"
      },
      "source": [
        "### 모델 생성 및 학습"
      ]
    },
    {
      "cell_type": "markdown",
      "metadata": {
        "id": "ubxUnx7Pevqk"
      },
      "source": [
        "### (1) Linear Regression"
      ]
    },
    {
      "cell_type": "code",
      "metadata": {
        "id": "Uex4fpKFby72"
      },
      "source": [
        "from sklearn.linear_model import LinearRegression"
      ],
      "execution_count": null,
      "outputs": []
    },
    {
      "cell_type": "code",
      "metadata": {
        "id": "0MZC1pFkby-K"
      },
      "source": [
        "# LinearRegression 모델 생성/학습\n",
        "model_lr = LinearRegression()\n",
        "fitted_model_lr = model_lr.fit(X_train, y_train)"
      ],
      "execution_count": null,
      "outputs": []
    },
    {
      "cell_type": "code",
      "metadata": {
        "colab": {
          "base_uri": "https://localhost:8080/",
          "height": 1000
        },
        "id": "DpxxQuFZbzAu",
        "outputId": "485f5619-ce50-4934-a8e1-54d88fe32f39"
      },
      "source": [
        "import statsmodels.api as sm\n",
        "x_train1 = sm.add_constant(X_train,has_constant=\"add\")\n",
        "\n",
        "model = sm.OLS(y_train,X_train)\n",
        "fitted_model_lr2 = model.fit()\n",
        "\n",
        "fitted_model_lr2.summary()"
      ],
      "execution_count": null,
      "outputs": [
        {
          "output_type": "stream",
          "text": [
            "/usr/local/lib/python3.7/dist-packages/statsmodels/tools/_testing.py:19: FutureWarning: pandas.util.testing is deprecated. Use the functions in the public API at pandas.testing instead.\n",
            "  import pandas.util.testing as tm\n"
          ],
          "name": "stderr"
        },
        {
          "output_type": "execute_result",
          "data": {
            "text/html": [
              "<table class=\"simpletable\">\n",
              "<caption>OLS Regression Results</caption>\n",
              "<tr>\n",
              "  <th>Dep. Variable:</th>      <td>ALSFRS_slope</td>   <th>  R-squared (uncentered):</th>      <td>   0.460</td> \n",
              "</tr>\n",
              "<tr>\n",
              "  <th>Model:</th>                   <td>OLS</td>       <th>  Adj. R-squared (uncentered):</th> <td>   0.448</td> \n",
              "</tr>\n",
              "<tr>\n",
              "  <th>Method:</th>             <td>Least Squares</td>  <th>  F-statistic:       </th>          <td>   37.98</td> \n",
              "</tr>\n",
              "<tr>\n",
              "  <th>Date:</th>             <td>Sat, 10 Apr 2021</td> <th>  Prob (F-statistic):</th>          <td>1.51e-150</td>\n",
              "</tr>\n",
              "<tr>\n",
              "  <th>Time:</th>                 <td>16:02:11</td>     <th>  Log-Likelihood:    </th>          <td> -1446.8</td> \n",
              "</tr>\n",
              "<tr>\n",
              "  <th>No. Observations:</th>      <td>  1320</td>      <th>  AIC:               </th>          <td>   2952.</td> \n",
              "</tr>\n",
              "<tr>\n",
              "  <th>Df Residuals:</th>          <td>  1291</td>      <th>  BIC:               </th>          <td>   3102.</td> \n",
              "</tr>\n",
              "<tr>\n",
              "  <th>Df Model:</th>              <td>    29</td>      <th>                     </th>              <td> </td>    \n",
              "</tr>\n",
              "<tr>\n",
              "  <th>Covariance Type:</th>      <td>nonrobust</td>    <th>                     </th>              <td> </td>    \n",
              "</tr>\n",
              "</table>\n",
              "<table class=\"simpletable\">\n",
              "<tr>\n",
              "                <td></td>                   <th>coef</th>     <th>std err</th>      <th>t</th>      <th>P>|t|</th>  <th>[0.025</th>    <th>0.975]</th>  \n",
              "</tr>\n",
              "<tr>\n",
              "  <th>Gender</th>                        <td>   -0.8145</td> <td>    0.026</td> <td>  -31.240</td> <td> 0.000</td> <td>   -0.866</td> <td>   -0.763</td>\n",
              "</tr>\n",
              "<tr>\n",
              "  <th>Age</th>                           <td>   -0.0822</td> <td>    0.021</td> <td>   -3.985</td> <td> 0.000</td> <td>   -0.123</td> <td>   -0.042</td>\n",
              "</tr>\n",
              "<tr>\n",
              "  <th>onset_site</th>                    <td>    0.0159</td> <td>    0.022</td> <td>    0.730</td> <td> 0.466</td> <td>   -0.027</td> <td>    0.058</td>\n",
              "</tr>\n",
              "<tr>\n",
              "  <th>onset_delta</th>                   <td>   -0.0827</td> <td>    0.011</td> <td>   -7.286</td> <td> 0.000</td> <td>   -0.105</td> <td>   -0.060</td>\n",
              "</tr>\n",
              "<tr>\n",
              "  <th>diag_delta</th>                    <td>   -0.0795</td> <td>    0.016</td> <td>   -4.928</td> <td> 0.000</td> <td>   -0.111</td> <td>   -0.048</td>\n",
              "</tr>\n",
              "<tr>\n",
              "  <th>diag_minus_onset</th>              <td>    0.0306</td> <td>    0.015</td> <td>    1.978</td> <td> 0.048</td> <td>    0.000</td> <td>    0.061</td>\n",
              "</tr>\n",
              "<tr>\n",
              "  <th>mean_alsfrs_total</th>             <td>    0.0200</td> <td>    0.005</td> <td>    3.812</td> <td> 0.000</td> <td>    0.010</td> <td>    0.030</td>\n",
              "</tr>\n",
              "<tr>\n",
              "  <th>alsfrs_total_slope</th>            <td>    0.0944</td> <td>    0.278</td> <td>    0.340</td> <td> 0.734</td> <td>   -0.451</td> <td>    0.640</td>\n",
              "</tr>\n",
              "<tr>\n",
              "  <th>fvc_slope</th>                     <td>    0.0078</td> <td>    0.020</td> <td>    0.390</td> <td> 0.697</td> <td>   -0.031</td> <td>    0.047</td>\n",
              "</tr>\n",
              "<tr>\n",
              "  <th>fvc_mean</th>                      <td>    0.0592</td> <td>    0.022</td> <td>    2.682</td> <td> 0.007</td> <td>    0.016</td> <td>    0.102</td>\n",
              "</tr>\n",
              "<tr>\n",
              "  <th>mean_Q1_Speech</th>                <td>    0.1207</td> <td>    0.030</td> <td>    4.014</td> <td> 0.000</td> <td>    0.062</td> <td>    0.180</td>\n",
              "</tr>\n",
              "<tr>\n",
              "  <th>mean_Q2_Salivation</th>            <td>   -0.0452</td> <td>    0.032</td> <td>   -1.413</td> <td> 0.158</td> <td>   -0.108</td> <td>    0.018</td>\n",
              "</tr>\n",
              "<tr>\n",
              "  <th>mean_Q3_Swallowing</th>            <td>   -0.0226</td> <td>    0.032</td> <td>   -0.697</td> <td> 0.486</td> <td>   -0.086</td> <td>    0.041</td>\n",
              "</tr>\n",
              "<tr>\n",
              "  <th>mean_Q4_Handwriting</th>           <td>   -0.1271</td> <td>    0.033</td> <td>   -3.906</td> <td> 0.000</td> <td>   -0.191</td> <td>   -0.063</td>\n",
              "</tr>\n",
              "<tr>\n",
              "  <th>mean_Q5_Cutting</th>               <td>    0.1508</td> <td>    0.039</td> <td>    3.841</td> <td> 0.000</td> <td>    0.074</td> <td>    0.228</td>\n",
              "</tr>\n",
              "<tr>\n",
              "  <th>mean_Q6_Dressing_and_Hygiene</th>  <td>   -0.1362</td> <td>    0.045</td> <td>   -3.026</td> <td> 0.003</td> <td>   -0.225</td> <td>   -0.048</td>\n",
              "</tr>\n",
              "<tr>\n",
              "  <th>mean_Q7_Turning_in_Bed</th>        <td>    0.1251</td> <td>    0.040</td> <td>    3.150</td> <td> 0.002</td> <td>    0.047</td> <td>    0.203</td>\n",
              "</tr>\n",
              "<tr>\n",
              "  <th>mean_Q8_Walking</th>               <td>    0.0635</td> <td>    0.041</td> <td>    1.542</td> <td> 0.123</td> <td>   -0.017</td> <td>    0.144</td>\n",
              "</tr>\n",
              "<tr>\n",
              "  <th>mean_Q9_Climbing_Stairs</th>       <td>   -0.0069</td> <td>    0.039</td> <td>   -0.178</td> <td> 0.858</td> <td>   -0.083</td> <td>    0.069</td>\n",
              "</tr>\n",
              "<tr>\n",
              "  <th>mean_Q10_Respiratory</th>          <td>   -0.0525</td> <td>    0.023</td> <td>   -2.331</td> <td> 0.020</td> <td>   -0.097</td> <td>   -0.008</td>\n",
              "</tr>\n",
              "<tr>\n",
              "  <th>mean_Bulbar</th>                   <td>    0.0651</td> <td>    0.013</td> <td>    5.170</td> <td> 0.000</td> <td>    0.040</td> <td>    0.090</td>\n",
              "</tr>\n",
              "<tr>\n",
              "  <th>mean_motor</th>                    <td>    0.0150</td> <td>    0.005</td> <td>    2.919</td> <td> 0.004</td> <td>    0.005</td> <td>    0.025</td>\n",
              "</tr>\n",
              "<tr>\n",
              "  <th>slope_Q1_Speech</th>               <td>   -0.0393</td> <td>    0.034</td> <td>   -1.172</td> <td> 0.241</td> <td>   -0.105</td> <td>    0.026</td>\n",
              "</tr>\n",
              "<tr>\n",
              "  <th>slope_Q2_Salivation</th>           <td>   -0.0170</td> <td>    0.060</td> <td>   -0.285</td> <td> 0.776</td> <td>   -0.134</td> <td>    0.100</td>\n",
              "</tr>\n",
              "<tr>\n",
              "  <th>slope_Q3_Swallowing</th>           <td>    0.0292</td> <td>    0.028</td> <td>    1.039</td> <td> 0.299</td> <td>   -0.026</td> <td>    0.084</td>\n",
              "</tr>\n",
              "<tr>\n",
              "  <th>slope_Q4_Handwriting</th>          <td>    0.0003</td> <td>    0.036</td> <td>    0.008</td> <td> 0.994</td> <td>   -0.071</td> <td>    0.071</td>\n",
              "</tr>\n",
              "<tr>\n",
              "  <th>slope_Q5_Cutting</th>              <td>    0.0124</td> <td>    0.030</td> <td>    0.407</td> <td> 0.684</td> <td>   -0.047</td> <td>    0.072</td>\n",
              "</tr>\n",
              "<tr>\n",
              "  <th>slope_Q6_Dressing_and_Hygiene</th> <td>    0.0372</td> <td>    0.037</td> <td>    1.014</td> <td> 0.311</td> <td>   -0.035</td> <td>    0.109</td>\n",
              "</tr>\n",
              "<tr>\n",
              "  <th>slope_Q7_Turning_in_Bed</th>       <td>   -0.0396</td> <td>    0.027</td> <td>   -1.440</td> <td> 0.150</td> <td>   -0.093</td> <td>    0.014</td>\n",
              "</tr>\n",
              "<tr>\n",
              "  <th>slope_Q8_Walking</th>              <td>    0.0157</td> <td>    0.031</td> <td>    0.501</td> <td> 0.617</td> <td>   -0.046</td> <td>    0.077</td>\n",
              "</tr>\n",
              "<tr>\n",
              "  <th>slope_Q9_Climbing_Stairs</th>      <td>    0.0250</td> <td>    0.043</td> <td>    0.579</td> <td> 0.562</td> <td>   -0.060</td> <td>    0.110</td>\n",
              "</tr>\n",
              "<tr>\n",
              "  <th>slope_Q10_Respiratory</th>         <td>   -0.0303</td> <td>    0.065</td> <td>   -0.465</td> <td> 0.642</td> <td>   -0.158</td> <td>    0.097</td>\n",
              "</tr>\n",
              "<tr>\n",
              "  <th>slope_Bulbar</th>                  <td>   -0.0189</td> <td>    0.049</td> <td>   -0.389</td> <td> 0.697</td> <td>   -0.114</td> <td>    0.077</td>\n",
              "</tr>\n",
              "<tr>\n",
              "  <th>slope_motor</th>                   <td>   -0.1053</td> <td>    0.219</td> <td>   -0.481</td> <td> 0.631</td> <td>   -0.535</td> <td>    0.324</td>\n",
              "</tr>\n",
              "</table>\n",
              "<table class=\"simpletable\">\n",
              "<tr>\n",
              "  <th>Omnibus:</th>       <td>52.697</td> <th>  Durbin-Watson:     </th> <td>   1.762</td>\n",
              "</tr>\n",
              "<tr>\n",
              "  <th>Prob(Omnibus):</th> <td> 0.000</td> <th>  Jarque-Bera (JB):  </th> <td>  58.486</td>\n",
              "</tr>\n",
              "<tr>\n",
              "  <th>Skew:</th>          <td>-0.486</td> <th>  Prob(JB):          </th> <td>2.00e-13</td>\n",
              "</tr>\n",
              "<tr>\n",
              "  <th>Kurtosis:</th>      <td> 3.346</td> <th>  Cond. No.          </th> <td>1.40e+16</td>\n",
              "</tr>\n",
              "</table><br/><br/>Warnings:<br/>[1] Standard Errors assume that the covariance matrix of the errors is correctly specified.<br/>[2] The smallest eigenvalue is 4.12e-29. This might indicate that there are<br/>strong multicollinearity problems or that the design matrix is singular."
            ],
            "text/plain": [
              "<class 'statsmodels.iolib.summary.Summary'>\n",
              "\"\"\"\n",
              "                                 OLS Regression Results                                \n",
              "=======================================================================================\n",
              "Dep. Variable:           ALSFRS_slope   R-squared (uncentered):                   0.460\n",
              "Model:                            OLS   Adj. R-squared (uncentered):              0.448\n",
              "Method:                 Least Squares   F-statistic:                              37.98\n",
              "Date:                Sat, 10 Apr 2021   Prob (F-statistic):                   1.51e-150\n",
              "Time:                        16:02:11   Log-Likelihood:                         -1446.8\n",
              "No. Observations:                1320   AIC:                                      2952.\n",
              "Df Residuals:                    1291   BIC:                                      3102.\n",
              "Df Model:                          29                                                  \n",
              "Covariance Type:            nonrobust                                                  \n",
              "=================================================================================================\n",
              "                                    coef    std err          t      P>|t|      [0.025      0.975]\n",
              "-------------------------------------------------------------------------------------------------\n",
              "Gender                           -0.8145      0.026    -31.240      0.000      -0.866      -0.763\n",
              "Age                              -0.0822      0.021     -3.985      0.000      -0.123      -0.042\n",
              "onset_site                        0.0159      0.022      0.730      0.466      -0.027       0.058\n",
              "onset_delta                      -0.0827      0.011     -7.286      0.000      -0.105      -0.060\n",
              "diag_delta                       -0.0795      0.016     -4.928      0.000      -0.111      -0.048\n",
              "diag_minus_onset                  0.0306      0.015      1.978      0.048       0.000       0.061\n",
              "mean_alsfrs_total                 0.0200      0.005      3.812      0.000       0.010       0.030\n",
              "alsfrs_total_slope                0.0944      0.278      0.340      0.734      -0.451       0.640\n",
              "fvc_slope                         0.0078      0.020      0.390      0.697      -0.031       0.047\n",
              "fvc_mean                          0.0592      0.022      2.682      0.007       0.016       0.102\n",
              "mean_Q1_Speech                    0.1207      0.030      4.014      0.000       0.062       0.180\n",
              "mean_Q2_Salivation               -0.0452      0.032     -1.413      0.158      -0.108       0.018\n",
              "mean_Q3_Swallowing               -0.0226      0.032     -0.697      0.486      -0.086       0.041\n",
              "mean_Q4_Handwriting              -0.1271      0.033     -3.906      0.000      -0.191      -0.063\n",
              "mean_Q5_Cutting                   0.1508      0.039      3.841      0.000       0.074       0.228\n",
              "mean_Q6_Dressing_and_Hygiene     -0.1362      0.045     -3.026      0.003      -0.225      -0.048\n",
              "mean_Q7_Turning_in_Bed            0.1251      0.040      3.150      0.002       0.047       0.203\n",
              "mean_Q8_Walking                   0.0635      0.041      1.542      0.123      -0.017       0.144\n",
              "mean_Q9_Climbing_Stairs          -0.0069      0.039     -0.178      0.858      -0.083       0.069\n",
              "mean_Q10_Respiratory             -0.0525      0.023     -2.331      0.020      -0.097      -0.008\n",
              "mean_Bulbar                       0.0651      0.013      5.170      0.000       0.040       0.090\n",
              "mean_motor                        0.0150      0.005      2.919      0.004       0.005       0.025\n",
              "slope_Q1_Speech                  -0.0393      0.034     -1.172      0.241      -0.105       0.026\n",
              "slope_Q2_Salivation              -0.0170      0.060     -0.285      0.776      -0.134       0.100\n",
              "slope_Q3_Swallowing               0.0292      0.028      1.039      0.299      -0.026       0.084\n",
              "slope_Q4_Handwriting              0.0003      0.036      0.008      0.994      -0.071       0.071\n",
              "slope_Q5_Cutting                  0.0124      0.030      0.407      0.684      -0.047       0.072\n",
              "slope_Q6_Dressing_and_Hygiene     0.0372      0.037      1.014      0.311      -0.035       0.109\n",
              "slope_Q7_Turning_in_Bed          -0.0396      0.027     -1.440      0.150      -0.093       0.014\n",
              "slope_Q8_Walking                  0.0157      0.031      0.501      0.617      -0.046       0.077\n",
              "slope_Q9_Climbing_Stairs          0.0250      0.043      0.579      0.562      -0.060       0.110\n",
              "slope_Q10_Respiratory            -0.0303      0.065     -0.465      0.642      -0.158       0.097\n",
              "slope_Bulbar                     -0.0189      0.049     -0.389      0.697      -0.114       0.077\n",
              "slope_motor                      -0.1053      0.219     -0.481      0.631      -0.535       0.324\n",
              "==============================================================================\n",
              "Omnibus:                       52.697   Durbin-Watson:                   1.762\n",
              "Prob(Omnibus):                  0.000   Jarque-Bera (JB):               58.486\n",
              "Skew:                          -0.486   Prob(JB):                     2.00e-13\n",
              "Kurtosis:                       3.346   Cond. No.                     1.40e+16\n",
              "==============================================================================\n",
              "\n",
              "Warnings:\n",
              "[1] Standard Errors assume that the covariance matrix of the errors is correctly specified.\n",
              "[2] The smallest eigenvalue is 4.12e-29. This might indicate that there are\n",
              "strong multicollinearity problems or that the design matrix is singular.\n",
              "\"\"\""
            ]
          },
          "metadata": {
            "tags": []
          },
          "execution_count": 18
        }
      ]
    },
    {
      "cell_type": "code",
      "metadata": {
        "colab": {
          "base_uri": "https://localhost:8080/"
        },
        "id": "Y2m_r-HgbzC6",
        "outputId": "03fb9308-442d-479c-ed08-17912a4e97a1"
      },
      "source": [
        "fitted_model_lr2.params"
      ],
      "execution_count": null,
      "outputs": [
        {
          "output_type": "execute_result",
          "data": {
            "text/plain": [
              "Gender                          -0.814475\n",
              "Age                             -0.082206\n",
              "onset_site                       0.015859\n",
              "onset_delta                     -0.082660\n",
              "diag_delta                      -0.079476\n",
              "diag_minus_onset                 0.030592\n",
              "mean_alsfrs_total                0.019981\n",
              "alsfrs_total_slope               0.094384\n",
              "fvc_slope                        0.007773\n",
              "fvc_mean                         0.059167\n",
              "mean_Q1_Speech                   0.120657\n",
              "mean_Q2_Salivation              -0.045205\n",
              "mean_Q3_Swallowing              -0.022579\n",
              "mean_Q4_Handwriting             -0.127103\n",
              "mean_Q5_Cutting                  0.150788\n",
              "mean_Q6_Dressing_and_Hygiene    -0.136237\n",
              "mean_Q7_Turning_in_Bed           0.125144\n",
              "mean_Q8_Walking                  0.063516\n",
              "mean_Q9_Climbing_Stairs         -0.006897\n",
              "mean_Q10_Respiratory            -0.052503\n",
              "mean_Bulbar                      0.065072\n",
              "mean_motor                       0.015004\n",
              "slope_Q1_Speech                 -0.039322\n",
              "slope_Q2_Salivation             -0.017016\n",
              "slope_Q3_Swallowing              0.029224\n",
              "slope_Q4_Handwriting             0.000282\n",
              "slope_Q5_Cutting                 0.012396\n",
              "slope_Q6_Dressing_and_Hygiene    0.037220\n",
              "slope_Q7_Turning_in_Bed         -0.039560\n",
              "slope_Q8_Walking                 0.015655\n",
              "slope_Q9_Climbing_Stairs         0.025033\n",
              "slope_Q10_Respiratory           -0.030260\n",
              "slope_Bulbar                    -0.018936\n",
              "slope_motor                     -0.105286\n",
              "dtype: float64"
            ]
          },
          "metadata": {
            "tags": []
          },
          "execution_count": 19
        }
      ]
    },
    {
      "cell_type": "markdown",
      "metadata": {
        "id": "sHnZ6hIte72F"
      },
      "source": [
        "### (2) XGBoost"
      ]
    },
    {
      "cell_type": "code",
      "metadata": {
        "id": "PWVI1RRtbzFO"
      },
      "source": [
        "from xgboost import XGBRegressor"
      ],
      "execution_count": null,
      "outputs": []
    },
    {
      "cell_type": "code",
      "metadata": {
        "colab": {
          "base_uri": "https://localhost:8080/"
        },
        "id": "joHmCiFrbzHc",
        "outputId": "41ccf9d6-cf08-4644-e4bc-ad0015aaf610"
      },
      "source": [
        "# XGBRegressor 모델 생성/학습\n",
        "model_xgb = XGBRegressor()\n",
        "model_xgb.fit(X_train, y_train)"
      ],
      "execution_count": null,
      "outputs": [
        {
          "output_type": "stream",
          "text": [
            "[16:02:20] WARNING: /workspace/src/objective/regression_obj.cu:152: reg:linear is now deprecated in favor of reg:squarederror.\n"
          ],
          "name": "stdout"
        },
        {
          "output_type": "execute_result",
          "data": {
            "text/plain": [
              "XGBRegressor(base_score=0.5, booster='gbtree', colsample_bylevel=1,\n",
              "             colsample_bynode=1, colsample_bytree=1, gamma=0,\n",
              "             importance_type='gain', learning_rate=0.1, max_delta_step=0,\n",
              "             max_depth=3, min_child_weight=1, missing=None, n_estimators=100,\n",
              "             n_jobs=1, nthread=None, objective='reg:linear', random_state=0,\n",
              "             reg_alpha=0, reg_lambda=1, scale_pos_weight=1, seed=None,\n",
              "             silent=None, subsample=1, verbosity=1)"
            ]
          },
          "metadata": {
            "tags": []
          },
          "execution_count": 21
        }
      ]
    },
    {
      "cell_type": "markdown",
      "metadata": {
        "id": "6mnT9ZLqfCnx"
      },
      "source": [
        "### (3) Random Forests"
      ]
    },
    {
      "cell_type": "code",
      "metadata": {
        "colab": {
          "base_uri": "https://localhost:8080/"
        },
        "id": "Z0vzWBRibzJy",
        "outputId": "feaf6907-6371-46ee-e260-873041216f69"
      },
      "source": [
        "from sklearn.ensemble import RandomForestRegressor \n",
        "from sklearn.model_selection import GridSearchCV\n",
        "\n",
        "model_rf = RandomForestRegressor()\n",
        "model_rf.fit(X_train, y_train)"
      ],
      "execution_count": null,
      "outputs": [
        {
          "output_type": "stream",
          "text": [
            "/usr/local/lib/python3.7/dist-packages/ipykernel_launcher.py:5: DataConversionWarning: A column-vector y was passed when a 1d array was expected. Please change the shape of y to (n_samples,), for example using ravel().\n",
            "  \"\"\"\n"
          ],
          "name": "stderr"
        },
        {
          "output_type": "execute_result",
          "data": {
            "text/plain": [
              "RandomForestRegressor(bootstrap=True, ccp_alpha=0.0, criterion='mse',\n",
              "                      max_depth=None, max_features='auto', max_leaf_nodes=None,\n",
              "                      max_samples=None, min_impurity_decrease=0.0,\n",
              "                      min_impurity_split=None, min_samples_leaf=1,\n",
              "                      min_samples_split=2, min_weight_fraction_leaf=0.0,\n",
              "                      n_estimators=100, n_jobs=None, oob_score=False,\n",
              "                      random_state=None, verbose=0, warm_start=False)"
            ]
          },
          "metadata": {
            "tags": []
          },
          "execution_count": 22
        }
      ]
    },
    {
      "cell_type": "markdown",
      "metadata": {
        "id": "2GijyogefMA6"
      },
      "source": [
        "### 모델 평가하기"
      ]
    },
    {
      "cell_type": "markdown",
      "metadata": {
        "id": "tKcbd2u3fPWQ"
      },
      "source": [
        "### (1) MAE, RMSE, R2"
      ]
    },
    {
      "cell_type": "code",
      "metadata": {
        "id": "2Z7oOzb5fUBB"
      },
      "source": [
        "from sklearn.metrics import mean_absolute_error, mean_squared_error, r2_score\n",
        "from math import sqrt"
      ],
      "execution_count": null,
      "outputs": []
    },
    {
      "cell_type": "code",
      "metadata": {
        "colab": {
          "base_uri": "https://localhost:8080/"
        },
        "id": "50hgX2RJfYnC",
        "outputId": "13f5a63d-f799-4181-a124-053ce77f2874"
      },
      "source": [
        "# Predict를 수행하고 mean_absolute_error, rmse, r-squared 결과 출력하기\n",
        "pred_xgb = model_xgb.predict(X_test)\n",
        "pred_lr = model_lr.predict(X_test)\n",
        "pred_rf = model_rf.predict(X_test)\n",
        "\n",
        "print('XGB MAE:', mean_absolute_error(y_test, pred_xgb))\n",
        "print('XGB RMSE:', sqrt(mean_squared_error(y_test, pred_xgb)))\n",
        "print('XGB R2:',  r2_score(y_test, pred_xgb))\n",
        "\n",
        "print('LR MAE:', mean_absolute_error(y_test, pred_lr))\n",
        "print('LR RMSE:', sqrt(mean_squared_error(y_test, pred_lr)))\n",
        "print('LR R2:',  r2_score(y_test, pred_lr))\n",
        "\n",
        "print('RF MAE:', mean_absolute_error(y_test, pred_rf))\n",
        "print('RF RMSE:', sqrt(mean_squared_error(y_test, pred_rf)))\n",
        "print('RF R2:',  r2_score(y_test, pred_rf))"
      ],
      "execution_count": null,
      "outputs": [
        {
          "output_type": "stream",
          "text": [
            "XGB MAE: 0.43146651855113805\n",
            "XGB RMSE: 0.5411630057914282\n",
            "XGB R2: 0.20372240145327902\n",
            "LR MAE: 0.4639814354847872\n",
            "LR RMSE: 0.5661875902035661\n",
            "LR R2: 0.1283763817367547\n",
            "RF MAE: 0.43990968050571805\n",
            "RF RMSE: 0.5515162874588508\n",
            "RF R2: 0.17296291787065932\n"
          ],
          "name": "stdout"
        }
      ]
    },
    {
      "cell_type": "markdown",
      "metadata": {
        "id": "vpvBk9w0fbQM"
      },
      "source": [
        "### (2) Pearson Correlation score"
      ]
    },
    {
      "cell_type": "code",
      "metadata": {
        "colab": {
          "base_uri": "https://localhost:8080/",
          "height": 356
        },
        "id": "9ii9WkrtffXk",
        "outputId": "df59b648-d5d8-4b12-fe59-c3e3583b6a0b"
      },
      "source": [
        "from scipy import stats\n",
        "print(\"XGB PC:\", stats.pearsonr(pred_xgb, y_test))\n",
        "print(\"LR PC:\", stats.pearsonr(pred_lr, y_test))\n",
        "print(\"RF PC:\", stats.pearsonr(pred_rf, y_test))"
      ],
      "execution_count": null,
      "outputs": [
        {
          "output_type": "error",
          "ename": "TypeError",
          "evalue": "ignored",
          "traceback": [
            "\u001b[0;31m---------------------------------------------------------------------------\u001b[0m",
            "\u001b[0;31mTypeError\u001b[0m                                 Traceback (most recent call last)",
            "\u001b[0;32m<ipython-input-25-442aa7dff286>\u001b[0m in \u001b[0;36m<module>\u001b[0;34m()\u001b[0m\n\u001b[1;32m      1\u001b[0m \u001b[0;32mfrom\u001b[0m \u001b[0mscipy\u001b[0m \u001b[0;32mimport\u001b[0m \u001b[0mstats\u001b[0m\u001b[0;34m\u001b[0m\u001b[0;34m\u001b[0m\u001b[0m\n\u001b[0;32m----> 2\u001b[0;31m \u001b[0mprint\u001b[0m\u001b[0;34m(\u001b[0m\u001b[0;34m\"XGB PC:\"\u001b[0m\u001b[0;34m,\u001b[0m \u001b[0mstats\u001b[0m\u001b[0;34m.\u001b[0m\u001b[0mpearsonr\u001b[0m\u001b[0;34m(\u001b[0m\u001b[0mpred_xgb\u001b[0m\u001b[0;34m,\u001b[0m \u001b[0my_test\u001b[0m\u001b[0;34m)\u001b[0m\u001b[0;34m)\u001b[0m\u001b[0;34m\u001b[0m\u001b[0;34m\u001b[0m\u001b[0m\n\u001b[0m\u001b[1;32m      3\u001b[0m \u001b[0mprint\u001b[0m\u001b[0;34m(\u001b[0m\u001b[0;34m\"LR PC:\"\u001b[0m\u001b[0;34m,\u001b[0m \u001b[0mstats\u001b[0m\u001b[0;34m.\u001b[0m\u001b[0mpearsonr\u001b[0m\u001b[0;34m(\u001b[0m\u001b[0mpred_lr\u001b[0m\u001b[0;34m,\u001b[0m \u001b[0my_test\u001b[0m\u001b[0;34m)\u001b[0m\u001b[0;34m)\u001b[0m\u001b[0;34m\u001b[0m\u001b[0;34m\u001b[0m\u001b[0m\n\u001b[1;32m      4\u001b[0m \u001b[0mprint\u001b[0m\u001b[0;34m(\u001b[0m\u001b[0;34m\"RF PC:\"\u001b[0m\u001b[0;34m,\u001b[0m \u001b[0mstats\u001b[0m\u001b[0;34m.\u001b[0m\u001b[0mpearsonr\u001b[0m\u001b[0;34m(\u001b[0m\u001b[0mpred_rf\u001b[0m\u001b[0;34m,\u001b[0m \u001b[0my_test\u001b[0m\u001b[0;34m)\u001b[0m\u001b[0;34m)\u001b[0m\u001b[0;34m\u001b[0m\u001b[0;34m\u001b[0m\u001b[0m\n",
            "\u001b[0;32m/usr/local/lib/python3.7/dist-packages/scipy/stats/stats.py\u001b[0m in \u001b[0;36mpearsonr\u001b[0;34m(x, y)\u001b[0m\n\u001b[1;32m   3517\u001b[0m         \u001b[0;32mreturn\u001b[0m \u001b[0mdtype\u001b[0m\u001b[0;34m(\u001b[0m\u001b[0mnp\u001b[0m\u001b[0;34m.\u001b[0m\u001b[0msign\u001b[0m\u001b[0;34m(\u001b[0m\u001b[0mx\u001b[0m\u001b[0;34m[\u001b[0m\u001b[0;36m1\u001b[0m\u001b[0;34m]\u001b[0m \u001b[0;34m-\u001b[0m \u001b[0mx\u001b[0m\u001b[0;34m[\u001b[0m\u001b[0;36m0\u001b[0m\u001b[0;34m]\u001b[0m\u001b[0;34m)\u001b[0m\u001b[0;34m*\u001b[0m\u001b[0mnp\u001b[0m\u001b[0;34m.\u001b[0m\u001b[0msign\u001b[0m\u001b[0;34m(\u001b[0m\u001b[0my\u001b[0m\u001b[0;34m[\u001b[0m\u001b[0;36m1\u001b[0m\u001b[0;34m]\u001b[0m \u001b[0;34m-\u001b[0m \u001b[0my\u001b[0m\u001b[0;34m[\u001b[0m\u001b[0;36m0\u001b[0m\u001b[0;34m]\u001b[0m\u001b[0;34m)\u001b[0m\u001b[0;34m)\u001b[0m\u001b[0;34m,\u001b[0m \u001b[0;36m1.0\u001b[0m\u001b[0;34m\u001b[0m\u001b[0;34m\u001b[0m\u001b[0m\n\u001b[1;32m   3518\u001b[0m \u001b[0;34m\u001b[0m\u001b[0m\n\u001b[0;32m-> 3519\u001b[0;31m     \u001b[0mxmean\u001b[0m \u001b[0;34m=\u001b[0m \u001b[0mx\u001b[0m\u001b[0;34m.\u001b[0m\u001b[0mmean\u001b[0m\u001b[0;34m(\u001b[0m\u001b[0mdtype\u001b[0m\u001b[0;34m=\u001b[0m\u001b[0mdtype\u001b[0m\u001b[0;34m)\u001b[0m\u001b[0;34m\u001b[0m\u001b[0;34m\u001b[0m\u001b[0m\n\u001b[0m\u001b[1;32m   3520\u001b[0m     \u001b[0mymean\u001b[0m \u001b[0;34m=\u001b[0m \u001b[0my\u001b[0m\u001b[0;34m.\u001b[0m\u001b[0mmean\u001b[0m\u001b[0;34m(\u001b[0m\u001b[0mdtype\u001b[0m\u001b[0;34m=\u001b[0m\u001b[0mdtype\u001b[0m\u001b[0;34m)\u001b[0m\u001b[0;34m\u001b[0m\u001b[0;34m\u001b[0m\u001b[0m\n\u001b[1;32m   3521\u001b[0m \u001b[0;34m\u001b[0m\u001b[0m\n",
            "\u001b[0;32m/usr/local/lib/python3.7/dist-packages/numpy/core/_methods.py\u001b[0m in \u001b[0;36m_mean\u001b[0;34m(a, axis, dtype, out, keepdims)\u001b[0m\n\u001b[1;32m    158\u001b[0m             \u001b[0mis_float16_result\u001b[0m \u001b[0;34m=\u001b[0m \u001b[0;32mTrue\u001b[0m\u001b[0;34m\u001b[0m\u001b[0;34m\u001b[0m\u001b[0m\n\u001b[1;32m    159\u001b[0m \u001b[0;34m\u001b[0m\u001b[0m\n\u001b[0;32m--> 160\u001b[0;31m     \u001b[0mret\u001b[0m \u001b[0;34m=\u001b[0m \u001b[0mumr_sum\u001b[0m\u001b[0;34m(\u001b[0m\u001b[0marr\u001b[0m\u001b[0;34m,\u001b[0m \u001b[0maxis\u001b[0m\u001b[0;34m,\u001b[0m \u001b[0mdtype\u001b[0m\u001b[0;34m,\u001b[0m \u001b[0mout\u001b[0m\u001b[0;34m,\u001b[0m \u001b[0mkeepdims\u001b[0m\u001b[0;34m)\u001b[0m\u001b[0;34m\u001b[0m\u001b[0;34m\u001b[0m\u001b[0m\n\u001b[0m\u001b[1;32m    161\u001b[0m     \u001b[0;32mif\u001b[0m \u001b[0misinstance\u001b[0m\u001b[0;34m(\u001b[0m\u001b[0mret\u001b[0m\u001b[0;34m,\u001b[0m \u001b[0mmu\u001b[0m\u001b[0;34m.\u001b[0m\u001b[0mndarray\u001b[0m\u001b[0;34m)\u001b[0m\u001b[0;34m:\u001b[0m\u001b[0;34m\u001b[0m\u001b[0;34m\u001b[0m\u001b[0m\n\u001b[1;32m    162\u001b[0m         ret = um.true_divide(\n",
            "\u001b[0;31mTypeError\u001b[0m: No loop matching the specified signature and casting was found for ufunc add"
          ]
        }
      ]
    },
    {
      "cell_type": "markdown",
      "metadata": {
        "id": "MshQfsznfh-4"
      },
      "source": [
        "### (3) 실제 값과 추측 값 시각화"
      ]
    },
    {
      "cell_type": "code",
      "metadata": {
        "colab": {
          "base_uri": "https://localhost:8080/",
          "height": 282
        },
        "id": "G3BhzomlfYpl",
        "outputId": "7d24f77e-0f85-4cf5-bbd0-f2ef14b2db83"
      },
      "source": [
        "# y_test vs. pred Scatter 플랏으로 시각적으로 분석하기\n",
        "plt.scatter( y_test,pred_xgb, alpha=0.1)\n",
        "plt.plot([-2, 2], [-2,2], 'r-')"
      ],
      "execution_count": null,
      "outputs": [
        {
          "output_type": "execute_result",
          "data": {
            "text/plain": [
              "[<matplotlib.lines.Line2D at 0x7f476ae68e10>]"
            ]
          },
          "metadata": {
            "tags": []
          },
          "execution_count": 26
        },
        {
          "output_type": "display_data",
          "data": {
            "image/png": "[encoded data removed]",
            "text/plain": [
              "<Figure size 432x288 with 1 Axes>"
            ]
          },
          "metadata": {
            "tags": [],
            "needs_background": "light"
          }
        }
      ]
    },
    {
      "cell_type": "code",
      "metadata": {
        "colab": {
          "base_uri": "https://localhost:8080/",
          "height": 282
        },
        "id": "TjBdoY4JfYr3",
        "outputId": "bcb5bfa8-585e-4d4e-a6ed-37e6a134ec91"
      },
      "source": [
        "# y_test vs. pred Scatter 플랏으로 시각적으로 분석하기\n",
        "plt.scatter(  y_test,pred_lr,alpha=0.1)\n",
        "plt.plot([-2, 2], [-2, 2], 'r-')"
      ],
      "execution_count": null,
      "outputs": [
        {
          "output_type": "execute_result",
          "data": {
            "text/plain": [
              "[<matplotlib.lines.Line2D at 0x7f476a92b090>]"
            ]
          },
          "metadata": {
            "tags": []
          },
          "execution_count": 27
        },
        {
          "output_type": "display_data",
          "data": {
            "image/png": "[encoded data removed]",
            "text/plain": [
              "<Figure size 432x288 with 1 Axes>"
            ]
          },
          "metadata": {
            "tags": [],
            "needs_background": "light"
          }
        }
      ]
    },
    {
      "cell_type": "code",
      "metadata": {
        "colab": {
          "base_uri": "https://localhost:8080/",
          "height": 282
        },
        "id": "-MOWTMAafoRL",
        "outputId": "a951b7ab-c624-418b-f9c1-7fc7915acb13"
      },
      "source": [
        "# y_test vs. pred Scatter 플랏으로 시각적으로 분석하기\n",
        "plt.scatter(  y_test,pred_rf,alpha=0.1)\n",
        "plt.plot([-2, 2], [-2, 2], 'r-')"
      ],
      "execution_count": null,
      "outputs": [
        {
          "output_type": "execute_result",
          "data": {
            "text/plain": [
              "[<matplotlib.lines.Line2D at 0x7f476a8a1e90>]"
            ]
          },
          "metadata": {
            "tags": []
          },
          "execution_count": 28
        },
        {
          "output_type": "display_data",
          "data": {
            "image/png": "[encoded data removed]",
            "text/plain": [
              "<Figure size 432x288 with 1 Axes>"
            ]
          },
          "metadata": {
            "tags": [],
            "needs_background": "light"
          }
        }
      ]
    },
    {
      "cell_type": "markdown",
      "metadata": {
        "id": "hgbOTMe2frJ7"
      },
      "source": [
        "### (4) XGBoost와 Random forest 모델의 feature importance 시각화"
      ]
    },
    {
      "cell_type": "code",
      "metadata": {
        "colab": {
          "base_uri": "https://localhost:8080/",
          "height": 492
        },
        "id": "1VMmHRV4foTc",
        "outputId": "f536cf6d-76b0-4586-987c-d66aa2e2b499"
      },
      "source": [
        "fig = plt.figure(figsize=(10,5))\n",
        "plt.bar(X_train.columns, model_xgb.feature_importances_)\n",
        "plt.xticks(rotation=90)\n",
        "plt.title('Feature Importance in XGBoost model')\n",
        "plt.show()"
      ],
      "execution_count": null,
      "outputs": [
        {
          "output_type": "display_data",
          "data": {
            "image/png": "[encoded data removed]",
            "text/plain": [
              "<Figure size 720x360 with 1 Axes>"
            ]
          },
          "metadata": {
            "tags": [],
            "needs_background": "light"
          }
        }
      ]
    },
    {
      "cell_type": "code",
      "metadata": {
        "colab": {
          "base_uri": "https://localhost:8080/",
          "height": 492
        },
        "id": "3N76t6gzfoV6",
        "outputId": "a5c2a58f-02b7-47a9-cc54-5e87ebd769a1"
      },
      "source": [
        "fig2 = plt.figure(figsize=(10,5))\n",
        "plt.bar(X_train.columns, model_rf.feature_importances_)\n",
        "plt.xticks(rotation=90)\n",
        "plt.title('Feature Importance in Random forest model')\n",
        "plt.show()"
      ],
      "execution_count": null,
      "outputs": [
        {
          "output_type": "display_data",
          "data": {
            "image/png": "[encoded data removed]",
            "text/plain": [
              "<Figure size 720x360 with 1 Axes>"
            ]
          },
          "metadata": {
            "tags": [],
            "needs_background": "light"
          }
        }
      ]
    },
    {
      "cell_type": "markdown",
      "metadata": {
        "id": "CLgtiPAFgS6j"
      },
      "source": [
        "### 5-fold cross validation"
      ]
    },
    {
      "cell_type": "code",
      "metadata": {
        "id": "yIFM-O9kfoX5"
      },
      "source": [
        "from sklearn.model_selection import KFold\n",
        "from sklearn.model_selection import cross_val_score"
      ],
      "execution_count": null,
      "outputs": []
    },
    {
      "cell_type": "code",
      "metadata": {
        "id": "IIEWYR5yomRd"
      },
      "source": [
        "folds = KFold(n_splits = 5, shuffle = True, random_state = 100)"
      ],
      "execution_count": null,
      "outputs": []
    },
    {
      "cell_type": "code",
      "metadata": {
        "id": "8nfBV9WVglXP"
      },
      "source": [
        "scores_lr_r2 = cross_val_score(model_lr, X_train, y_train, scoring='r2', cv=folds)\n",
        "scores_lr_rmse = cross_val_score(model_lr, X_train, y_train, scoring='neg_root_mean_squared_error', cv=folds)\n",
        "scores_lr_mae = cross_val_score(model_lr, X_train, y_train, scoring='neg_mean_absolute_error', cv=folds)"
      ],
      "execution_count": null,
      "outputs": []
    },
    {
      "cell_type": "code",
      "metadata": {
        "colab": {
          "base_uri": "https://localhost:8080/"
        },
        "id": "RimvEwEggrDw",
        "outputId": "3b667b55-b088-4619-8a60-4804cb60705b"
      },
      "source": [
        "scores_xgb_r2 = cross_val_score(model_xgb, X_train, y_train, scoring='r2', cv=folds)\n",
        "scores_xgb_rmse = cross_val_score(model_xgb, X_train, y_train, scoring='neg_root_mean_squared_error', cv=folds)\n",
        "scores_xgb_mae = cross_val_score(model_xgb, X_train, y_train, scoring='neg_mean_absolute_error', cv=folds)"
      ],
      "execution_count": null,
      "outputs": [
        {
          "output_type": "stream",
          "text": [
            "[16:03:14] WARNING: /workspace/src/objective/regression_obj.cu:152: reg:linear is now deprecated in favor of reg:squarederror.\n",
            "[16:03:15] WARNING: /workspace/src/objective/regression_obj.cu:152: reg:linear is now deprecated in favor of reg:squarederror.\n",
            "[16:03:15] WARNING: /workspace/src/objective/regression_obj.cu:152: reg:linear is now deprecated in favor of reg:squarederror.\n",
            "[16:03:15] WARNING: /workspace/src/objective/regression_obj.cu:152: reg:linear is now deprecated in favor of reg:squarederror.\n",
            "[16:03:15] WARNING: /workspace/src/objective/regression_obj.cu:152: reg:linear is now deprecated in favor of reg:squarederror.\n",
            "[16:03:15] WARNING: /workspace/src/objective/regression_obj.cu:152: reg:linear is now deprecated in favor of reg:squarederror.\n",
            "[16:03:16] WARNING: /workspace/src/objective/regression_obj.cu:152: reg:linear is now deprecated in favor of reg:squarederror.\n",
            "[16:03:16] WARNING: /workspace/src/objective/regression_obj.cu:152: reg:linear is now deprecated in favor of reg:squarederror.\n",
            "[16:03:16] WARNING: /workspace/src/objective/regression_obj.cu:152: reg:linear is now deprecated in favor of reg:squarederror.\n",
            "[16:03:16] WARNING: /workspace/src/objective/regression_obj.cu:152: reg:linear is now deprecated in favor of reg:squarederror.\n",
            "[16:03:16] WARNING: /workspace/src/objective/regression_obj.cu:152: reg:linear is now deprecated in favor of reg:squarederror.\n",
            "[16:03:17] WARNING: /workspace/src/objective/regression_obj.cu:152: reg:linear is now deprecated in favor of reg:squarederror.\n",
            "[16:03:17] WARNING: /workspace/src/objective/regression_obj.cu:152: reg:linear is now deprecated in favor of reg:squarederror.\n",
            "[16:03:17] WARNING: /workspace/src/objective/regression_obj.cu:152: reg:linear is now deprecated in favor of reg:squarederror.\n",
            "[16:03:17] WARNING: /workspace/src/objective/regression_obj.cu:152: reg:linear is now deprecated in favor of reg:squarederror.\n"
          ],
          "name": "stdout"
        }
      ]
    },
    {
      "cell_type": "code",
      "metadata": {
        "colab": {
          "base_uri": "https://localhost:8080/"
        },
        "id": "HADjhDWHgtjf",
        "outputId": "58fdb160-f51b-4092-8692-85d8110a4fbe"
      },
      "source": [
        "scores_rf_r2 = cross_val_score(model_rf, X_train, y_train, scoring='r2', cv=folds)\n",
        "scores_rf_rmse = cross_val_score(model_rf, X_train, y_train, scoring='neg_root_mean_squared_error', cv=folds)\n",
        "scores_rf_mae = cross_val_score(model_rf, X_train, y_train, scoring='neg_mean_absolute_error', cv=folds)"
      ],
      "execution_count": null,
      "outputs": [
        {
          "output_type": "stream",
          "text": [
            "/usr/local/lib/python3.7/dist-packages/sklearn/model_selection/_validation.py:515: DataConversionWarning: A column-vector y was passed when a 1d array was expected. Please change the shape of y to (n_samples,), for example using ravel().\n",
            "  estimator.fit(X_train, y_train, **fit_params)\n",
            "/usr/local/lib/python3.7/dist-packages/sklearn/model_selection/_validation.py:515: DataConversionWarning: A column-vector y was passed when a 1d array was expected. Please change the shape of y to (n_samples,), for example using ravel().\n",
            "  estimator.fit(X_train, y_train, **fit_params)\n",
            "/usr/local/lib/python3.7/dist-packages/sklearn/model_selection/_validation.py:515: DataConversionWarning: A column-vector y was passed when a 1d array was expected. Please change the shape of y to (n_samples,), for example using ravel().\n",
            "  estimator.fit(X_train, y_train, **fit_params)\n",
            "/usr/local/lib/python3.7/dist-packages/sklearn/model_selection/_validation.py:515: DataConversionWarning: A column-vector y was passed when a 1d array was expected. Please change the shape of y to (n_samples,), for example using ravel().\n",
            "  estimator.fit(X_train, y_train, **fit_params)\n",
            "/usr/local/lib/python3.7/dist-packages/sklearn/model_selection/_validation.py:515: DataConversionWarning: A column-vector y was passed when a 1d array was expected. Please change the shape of y to (n_samples,), for example using ravel().\n",
            "  estimator.fit(X_train, y_train, **fit_params)\n",
            "/usr/local/lib/python3.7/dist-packages/sklearn/model_selection/_validation.py:515: DataConversionWarning: A column-vector y was passed when a 1d array was expected. Please change the shape of y to (n_samples,), for example using ravel().\n",
            "  estimator.fit(X_train, y_train, **fit_params)\n",
            "/usr/local/lib/python3.7/dist-packages/sklearn/model_selection/_validation.py:515: DataConversionWarning: A column-vector y was passed when a 1d array was expected. Please change the shape of y to (n_samples,), for example using ravel().\n",
            "  estimator.fit(X_train, y_train, **fit_params)\n",
            "/usr/local/lib/python3.7/dist-packages/sklearn/model_selection/_validation.py:515: DataConversionWarning: A column-vector y was passed when a 1d array was expected. Please change the shape of y to (n_samples,), for example using ravel().\n",
            "  estimator.fit(X_train, y_train, **fit_params)\n",
            "/usr/local/lib/python3.7/dist-packages/sklearn/model_selection/_validation.py:515: DataConversionWarning: A column-vector y was passed when a 1d array was expected. Please change the shape of y to (n_samples,), for example using ravel().\n",
            "  estimator.fit(X_train, y_train, **fit_params)\n",
            "/usr/local/lib/python3.7/dist-packages/sklearn/model_selection/_validation.py:515: DataConversionWarning: A column-vector y was passed when a 1d array was expected. Please change the shape of y to (n_samples,), for example using ravel().\n",
            "  estimator.fit(X_train, y_train, **fit_params)\n",
            "/usr/local/lib/python3.7/dist-packages/sklearn/model_selection/_validation.py:515: DataConversionWarning: A column-vector y was passed when a 1d array was expected. Please change the shape of y to (n_samples,), for example using ravel().\n",
            "  estimator.fit(X_train, y_train, **fit_params)\n",
            "/usr/local/lib/python3.7/dist-packages/sklearn/model_selection/_validation.py:515: DataConversionWarning: A column-vector y was passed when a 1d array was expected. Please change the shape of y to (n_samples,), for example using ravel().\n",
            "  estimator.fit(X_train, y_train, **fit_params)\n",
            "/usr/local/lib/python3.7/dist-packages/sklearn/model_selection/_validation.py:515: DataConversionWarning: A column-vector y was passed when a 1d array was expected. Please change the shape of y to (n_samples,), for example using ravel().\n",
            "  estimator.fit(X_train, y_train, **fit_params)\n",
            "/usr/local/lib/python3.7/dist-packages/sklearn/model_selection/_validation.py:515: DataConversionWarning: A column-vector y was passed when a 1d array was expected. Please change the shape of y to (n_samples,), for example using ravel().\n",
            "  estimator.fit(X_train, y_train, **fit_params)\n",
            "/usr/local/lib/python3.7/dist-packages/sklearn/model_selection/_validation.py:515: DataConversionWarning: A column-vector y was passed when a 1d array was expected. Please change the shape of y to (n_samples,), for example using ravel().\n",
            "  estimator.fit(X_train, y_train, **fit_params)\n"
          ],
          "name": "stderr"
        }
      ]
    },
    {
      "cell_type": "code",
      "metadata": {
        "colab": {
          "base_uri": "https://localhost:8080/"
        },
        "id": "K4vemWjOg0EQ",
        "outputId": "f8a4e315-2710-4864-e9e0-ee8df11f2bf9"
      },
      "source": [
        "## Summary of LR model\n",
        "print(\"MAE of LR model in 5 fold cv:\", scores_lr_mae*(-1))\n",
        "print(\"with its mean value:\", scores_lr_mae.mean()*(-1))\n",
        "\n",
        "print(\"R2 of LR model in 5 fold cv:\", scores_lr_r2)\n",
        "print(\"with its mean value:\", scores_lr_r2.mean())\n",
        "\n",
        "print(\"RMSE of LR model in 5 fold cv:\", scores_lr_rmse*(-1))\n",
        "print(\"with its mean value:\", scores_lr_rmse.mean()*(-1))"
      ],
      "execution_count": null,
      "outputs": [
        {
          "output_type": "stream",
          "text": [
            "MAE of LR model in 5 fold cv: [0.45088594 0.45736746 0.39006414 0.45614288 0.50546606]\n",
            "with its mean value: 0.45198529685373356\n",
            "R2 of LR model in 5 fold cv: [0.0719176  0.07194768 0.15516652 0.06433321 0.07366811]\n",
            "with its mean value: 0.08740662558027042\n",
            "RMSE of LR model in 5 fold cv: [0.57176101 0.57662811 0.49291614 0.5918845  0.65940492]\n",
            "with its mean value: 0.5785189367913023\n"
          ],
          "name": "stdout"
        }
      ]
    },
    {
      "cell_type": "code",
      "metadata": {
        "colab": {
          "base_uri": "https://localhost:8080/"
        },
        "id": "ka6HrgS2g0HD",
        "outputId": "8be9bd59-f71e-4574-e9e3-eecddc8e831a"
      },
      "source": [
        "## Summary of XGB model\n",
        "print(\"MAE of XGB model in 5 fold cv:\", scores_xgb_mae*(-1))\n",
        "print(\"with its mean value:\", scores_xgb_mae.mean()*(-1))\n",
        "\n",
        "print(\"R2 of XGB model in 5 fold cv:\", scores_xgb_r2)\n",
        "print(\"with its mean value:\", scores_xgb_r2.mean())\n",
        "\n",
        "print(\"RMSE of XGB model in 5 fold cv:\", scores_xgb_rmse*(-1))\n",
        "print(\"with its mean value:\", scores_xgb_rmse.mean()*(-1))"
      ],
      "execution_count": null,
      "outputs": [
        {
          "output_type": "stream",
          "text": [
            "MAE of XGB model in 5 fold cv: [0.43971375 0.4444543  0.40304902 0.4675951  0.49144697]\n",
            "with its mean value: 0.44925182792742824\n",
            "R2 of XGB model in 5 fold cv: [0.10501103 0.09718449 0.05898035 0.02374024 0.10477375]\n",
            "with its mean value: 0.07793797214716973\n",
            "RMSE of XGB model in 5 fold cv: [0.5614746  0.56873386 0.52021974 0.60458734 0.64823919]\n",
            "with its mean value: 0.5806509461570709\n"
          ],
          "name": "stdout"
        }
      ]
    },
    {
      "cell_type": "code",
      "metadata": {
        "colab": {
          "base_uri": "https://localhost:8080/"
        },
        "id": "t2eLAn1wg0Jl",
        "outputId": "ee6647de-91f9-4f87-d8b0-2a642c4f1ea8"
      },
      "source": [
        "## Summary of RF model\n",
        "print(\"MAE of RF model in 5 fold cv:\", scores_rf_mae*(-1))\n",
        "print(\"with its mean value:\", scores_rf_mae.mean()*(-1))\n",
        "\n",
        "print(\"R2 of RF model in 5 fold cv:\", scores_rf_r2)\n",
        "print(\"with its mean value:\", scores_rf_r2.mean())\n",
        "\n",
        "print(\"RMSE of RF model in 5 fold cv:\", scores_rf_rmse*(-1))\n",
        "print(\"with its mean value:\", scores_rf_rmse.mean()*(-1))"
      ],
      "execution_count": null,
      "outputs": [
        {
          "output_type": "stream",
          "text": [
            "MAE of RF model in 5 fold cv: [0.44046654 0.42918924 0.39612318 0.4717259  0.48749691]\n",
            "with its mean value: 0.4450003520970339\n",
            "R2 of RF model in 5 fold cv: [0.072649   0.16268509 0.07531597 0.00822996 0.08838107]\n",
            "with its mean value: 0.08145221848931752\n",
            "RMSE of RF model in 5 fold cv: [0.57034311 0.55158279 0.52088454 0.60190047 0.65248089]\n",
            "with its mean value: 0.5794383606031948\n"
          ],
          "name": "stdout"
        }
      ]
    },
    {
      "cell_type": "code",
      "metadata": {
        "colab": {
          "base_uri": "https://localhost:8080/"
        },
        "id": "jG-GQYUeg0L2",
        "outputId": "a79bbc4e-b7ff-40d3-f8a2-ac974fc77acc"
      },
      "source": [
        "data = [[scores_lr_mae.mean()*(-1), scores_lr_r2.mean(),scores_lr_rmse.mean()*(-1)], \n",
        "     [scores_xgb_mae.mean()*(-1), scores_xgb_r2.mean(), scores_xgb_rmse.mean()*(-1)], \n",
        "     [scores_rf_mae.mean()*(-1), scores_rf_r2.mean(), scores_rf_rmse.mean()*(-1)]]\n",
        "\n",
        "E = pd.DataFrame(data, columns=['MAE', 'R squared', 'RMSE'], index=['Linear Regression', 'XGBoost', 'Random Forest'])\n",
        "print(E)"
      ],
      "execution_count": null,
      "outputs": [
        {
          "output_type": "stream",
          "text": [
            "                        MAE  R squared      RMSE\n",
            "Linear Regression  0.451985   0.087407  0.578519\n",
            "XGBoost            0.449252   0.077938  0.580651\n",
            "Random Forest      0.445000   0.081452  0.579438\n"
          ],
          "name": "stdout"
        }
      ]
    },
    {
      "cell_type": "markdown",
      "metadata": {
        "id": "WWug5fCLWooI"
      },
      "source": [
        "### Repeated 5-fold cv: with visualization"
      ]
    },
    {
      "cell_type": "code",
      "metadata": {
        "id": "IGA6na3Zg0OZ"
      },
      "source": [
        "from sklearn.model_selection import RepeatedKFold"
      ],
      "execution_count": null,
      "outputs": []
    },
    {
      "cell_type": "code",
      "metadata": {
        "id": "8LYQsgZOeC-a"
      },
      "source": [
        "lr_R2 = np.array([])\n",
        "lr_MAE = np.array([])\n",
        "lr_RMSE = np.array([])\n",
        "\n",
        "random_num_list = [10,20,30,40,50,60,70,80,90,100]\n",
        "for i in random_num_list:\n",
        "    arr = cross_val_score(model_lr, X_train, y_train, scoring='r2', cv=KFold(n_splits = 5, shuffle = True, random_state = i))\n",
        "    lr_R2 = np.concatenate((lr_R2, arr))\n",
        "\n",
        "for i in random_num_list:\n",
        "    arr_2 = cross_val_score(model_lr, X_train, y_train, scoring='neg_mean_absolute_error', cv=KFold(n_splits = 5, shuffle = True, random_state = i))    \n",
        "    lr_MAE = np.concatenate((lr_MAE, arr_2))\n",
        "\n",
        "for i in random_num_list:\n",
        "    arr_3 = cross_val_score(model_lr, X_train, y_train, scoring='neg_root_mean_squared_error', cv=KFold(n_splits = 5, shuffle = True, random_state = i))    \n",
        "    lr_RMSE = np.concatenate((lr_RMSE, arr_3))"
      ],
      "execution_count": null,
      "outputs": []
    },
    {
      "cell_type": "code",
      "metadata": {
        "colab": {
          "base_uri": "https://localhost:8080/"
        },
        "id": "mxxuQqoWgxQr",
        "outputId": "09516648-7267-4903-ba67-c860ea993623"
      },
      "source": [
        "xgb_R2 = np.array([])\n",
        "xgb_MAE = np.array([])\n",
        "xgb_RMSE = np.array([])\n",
        "\n",
        "for i in random_num_list:\n",
        "    arr_4 = cross_val_score(model_xgb, X_train, y_train, scoring='r2', cv=KFold(n_splits = 5, shuffle = True, random_state = i))\n",
        "    xgb_R2 = np.concatenate((xgb_R2, arr_4))\n",
        "\n",
        "for i in random_num_list:\n",
        "    arr_5 = cross_val_score(model_xgb, X_train, y_train, scoring='neg_mean_absolute_error', cv=KFold(n_splits = 5, shuffle = True, random_state = i))    \n",
        "    xgb_MAE = np.concatenate((xgb_MAE, arr_5))\n",
        "\n",
        "for i in random_num_list:\n",
        "    arr_6 = cross_val_score(model_xgb, X_train, y_train, scoring='neg_root_mean_squared_error', cv=KFold(n_splits = 5, shuffle = True, random_state = i))    \n",
        "    xgb_RMSE = np.concatenate((xgb_RMSE, arr_6))"
      ],
      "execution_count": null,
      "outputs": [
        {
          "output_type": "stream",
          "text": [
            "[16:04:09] WARNING: /workspace/src/objective/regression_obj.cu:152: reg:linear is now deprecated in favor of reg:squarederror.\n",
            "[16:04:09] WARNING: /workspace/src/objective/regression_obj.cu:152: reg:linear is now deprecated in favor of reg:squarederror.\n",
            "[16:04:09] WARNING: /workspace/src/objective/regression_obj.cu:152: reg:linear is now deprecated in favor of reg:squarederror.\n",
            "[16:04:10] WARNING: /workspace/src/objective/regression_obj.cu:152: reg:linear is now deprecated in favor of reg:squarederror.\n",
            "[16:04:10] WARNING: /workspace/src/objective/regression_obj.cu:152: reg:linear is now deprecated in favor of reg:squarederror.\n",
            "[16:04:10] WARNING: /workspace/src/objective/regression_obj.cu:152: reg:linear is now deprecated in favor of reg:squarederror.\n",
            "[16:04:10] WARNING: /workspace/src/objective/regression_obj.cu:152: reg:linear is now deprecated in favor of reg:squarederror.\n",
            "[16:04:10] WARNING: /workspace/src/objective/regression_obj.cu:152: reg:linear is now deprecated in favor of reg:squarederror.\n",
            "[16:04:10] WARNING: /workspace/src/objective/regression_obj.cu:152: reg:linear is now deprecated in favor of reg:squarederror.\n",
            "[16:04:11] WARNING: /workspace/src/objective/regression_obj.cu:152: reg:linear is now deprecated in favor of reg:squarederror.\n",
            "[16:04:11] WARNING: /workspace/src/objective/regression_obj.cu:152: reg:linear is now deprecated in favor of reg:squarederror.\n",
            "[16:04:11] WARNING: /workspace/src/objective/regression_obj.cu:152: reg:linear is now deprecated in favor of reg:squarederror.\n",
            "[16:04:11] WARNING: /workspace/src/objective/regression_obj.cu:152: reg:linear is now deprecated in favor of reg:squarederror.\n",
            "[16:04:11] WARNING: /workspace/src/objective/regression_obj.cu:152: reg:linear is now deprecated in favor of reg:squarederror.\n",
            "[16:04:12] WARNING: /workspace/src/objective/regression_obj.cu:152: reg:linear is now deprecated in favor of reg:squarederror.\n",
            "[16:04:12] WARNING: /workspace/src/objective/regression_obj.cu:152: reg:linear is now deprecated in favor of reg:squarederror.\n",
            "[16:04:12] WARNING: /workspace/src/objective/regression_obj.cu:152: reg:linear is now deprecated in favor of reg:squarederror.\n",
            "[16:04:12] WARNING: /workspace/src/objective/regression_obj.cu:152: reg:linear is now deprecated in favor of reg:squarederror.\n",
            "[16:04:12] WARNING: /workspace/src/objective/regression_obj.cu:152: reg:linear is now deprecated in favor of reg:squarederror.\n",
            "[16:04:13] WARNING: /workspace/src/objective/regression_obj.cu:152: reg:linear is now deprecated in favor of reg:squarederror.\n",
            "[16:04:13] WARNING: /workspace/src/objective/regression_obj.cu:152: reg:linear is now deprecated in favor of reg:squarederror.\n",
            "[16:04:13] WARNING: /workspace/src/objective/regression_obj.cu:152: reg:linear is now deprecated in favor of reg:squarederror.\n",
            "[16:04:13] WARNING: /workspace/src/objective/regression_obj.cu:152: reg:linear is now deprecated in favor of reg:squarederror.\n",
            "[16:04:13] WARNING: /workspace/src/objective/regression_obj.cu:152: reg:linear is now deprecated in favor of reg:squarederror.\n",
            "[16:04:13] WARNING: /workspace/src/objective/regression_obj.cu:152: reg:linear is now deprecated in favor of reg:squarederror.\n",
            "[16:04:14] WARNING: /workspace/src/objective/regression_obj.cu:152: reg:linear is now deprecated in favor of reg:squarederror.\n",
            "[16:04:14] WARNING: /workspace/src/objective/regression_obj.cu:152: reg:linear is now deprecated in favor of reg:squarederror.\n",
            "[16:04:14] WARNING: /workspace/src/objective/regression_obj.cu:152: reg:linear is now deprecated in favor of reg:squarederror.\n",
            "[16:04:14] WARNING: /workspace/src/objective/regression_obj.cu:152: reg:linear is now deprecated in favor of reg:squarederror.\n",
            "[16:04:14] WARNING: /workspace/src/objective/regression_obj.cu:152: reg:linear is now deprecated in favor of reg:squarederror.\n",
            "[16:04:15] WARNING: /workspace/src/objective/regression_obj.cu:152: reg:linear is now deprecated in favor of reg:squarederror.\n",
            "[16:04:15] WARNING: /workspace/src/objective/regression_obj.cu:152: reg:linear is now deprecated in favor of reg:squarederror.\n",
            "[16:04:15] WARNING: /workspace/src/objective/regression_obj.cu:152: reg:linear is now deprecated in favor of reg:squarederror.\n",
            "[16:04:15] WARNING: /workspace/src/objective/regression_obj.cu:152: reg:linear is now deprecated in favor of reg:squarederror.\n",
            "[16:04:15] WARNING: /workspace/src/objective/regression_obj.cu:152: reg:linear is now deprecated in favor of reg:squarederror.\n",
            "[16:04:15] WARNING: /workspace/src/objective/regression_obj.cu:152: reg:linear is now deprecated in favor of reg:squarederror.\n",
            "[16:04:16] WARNING: /workspace/src/objective/regression_obj.cu:152: reg:linear is now deprecated in favor of reg:squarederror.\n",
            "[16:04:16] WARNING: /workspace/src/objective/regression_obj.cu:152: reg:linear is now deprecated in favor of reg:squarederror.\n",
            "[16:04:16] WARNING: /workspace/src/objective/regression_obj.cu:152: reg:linear is now deprecated in favor of reg:squarederror.\n",
            "[16:04:16] WARNING: /workspace/src/objective/regression_obj.cu:152: reg:linear is now deprecated in favor of reg:squarederror.\n",
            "[16:04:16] WARNING: /workspace/src/objective/regression_obj.cu:152: reg:linear is now deprecated in favor of reg:squarederror.\n",
            "[16:04:17] WARNING: /workspace/src/objective/regression_obj.cu:152: reg:linear is now deprecated in favor of reg:squarederror.\n",
            "[16:04:17] WARNING: /workspace/src/objective/regression_obj.cu:152: reg:linear is now deprecated in favor of reg:squarederror.\n",
            "[16:04:17] WARNING: /workspace/src/objective/regression_obj.cu:152: reg:linear is now deprecated in favor of reg:squarederror.\n",
            "[16:04:17] WARNING: /workspace/src/objective/regression_obj.cu:152: reg:linear is now deprecated in favor of reg:squarederror.\n",
            "[16:04:17] WARNING: /workspace/src/objective/regression_obj.cu:152: reg:linear is now deprecated in favor of reg:squarederror.\n",
            "[16:04:18] WARNING: /workspace/src/objective/regression_obj.cu:152: reg:linear is now deprecated in favor of reg:squarederror.\n",
            "[16:04:18] WARNING: /workspace/src/objective/regression_obj.cu:152: reg:linear is now deprecated in favor of reg:squarederror.\n",
            "[16:04:18] WARNING: /workspace/src/objective/regression_obj.cu:152: reg:linear is now deprecated in favor of reg:squarederror.\n",
            "[16:04:18] WARNING: /workspace/src/objective/regression_obj.cu:152: reg:linear is now deprecated in favor of reg:squarederror.\n",
            "[16:04:18] WARNING: /workspace/src/objective/regression_obj.cu:152: reg:linear is now deprecated in favor of reg:squarederror.\n",
            "[16:04:18] WARNING: /workspace/src/objective/regression_obj.cu:152: reg:linear is now deprecated in favor of reg:squarederror.\n",
            "[16:04:19] WARNING: /workspace/src/objective/regression_obj.cu:152: reg:linear is now deprecated in favor of reg:squarederror.\n",
            "[16:04:19] WARNING: /workspace/src/objective/regression_obj.cu:152: reg:linear is now deprecated in favor of reg:squarederror.\n",
            "[16:04:19] WARNING: /workspace/src/objective/regression_obj.cu:152: reg:linear is now deprecated in favor of reg:squarederror.\n",
            "[16:04:19] WARNING: /workspace/src/objective/regression_obj.cu:152: reg:linear is now deprecated in favor of reg:squarederror.\n",
            "[16:04:19] WARNING: /workspace/src/objective/regression_obj.cu:152: reg:linear is now deprecated in favor of reg:squarederror.\n",
            "[16:04:20] WARNING: /workspace/src/objective/regression_obj.cu:152: reg:linear is now deprecated in favor of reg:squarederror.\n",
            "[16:04:20] WARNING: /workspace/src/objective/regression_obj.cu:152: reg:linear is now deprecated in favor of reg:squarederror.\n",
            "[16:04:20] WARNING: /workspace/src/objective/regression_obj.cu:152: reg:linear is now deprecated in favor of reg:squarederror.\n",
            "[16:04:20] WARNING: /workspace/src/objective/regression_obj.cu:152: reg:linear is now deprecated in favor of reg:squarederror.\n",
            "[16:04:20] WARNING: /workspace/src/objective/regression_obj.cu:152: reg:linear is now deprecated in favor of reg:squarederror.\n",
            "[16:04:20] WARNING: /workspace/src/objective/regression_obj.cu:152: reg:linear is now deprecated in favor of reg:squarederror.\n",
            "[16:04:21] WARNING: /workspace/src/objective/regression_obj.cu:152: reg:linear is now deprecated in favor of reg:squarederror.\n",
            "[16:04:21] WARNING: /workspace/src/objective/regression_obj.cu:152: reg:linear is now deprecated in favor of reg:squarederror.\n",
            "[16:04:21] WARNING: /workspace/src/objective/regression_obj.cu:152: reg:linear is now deprecated in favor of reg:squarederror.\n",
            "[16:04:21] WARNING: /workspace/src/objective/regression_obj.cu:152: reg:linear is now deprecated in favor of reg:squarederror.\n",
            "[16:04:21] WARNING: /workspace/src/objective/regression_obj.cu:152: reg:linear is now deprecated in favor of reg:squarederror.\n",
            "[16:04:22] WARNING: /workspace/src/objective/regression_obj.cu:152: reg:linear is now deprecated in favor of reg:squarederror.\n",
            "[16:04:22] WARNING: /workspace/src/objective/regression_obj.cu:152: reg:linear is now deprecated in favor of reg:squarederror.\n",
            "[16:04:22] WARNING: /workspace/src/objective/regression_obj.cu:152: reg:linear is now deprecated in favor of reg:squarederror.\n",
            "[16:04:22] WARNING: /workspace/src/objective/regression_obj.cu:152: reg:linear is now deprecated in favor of reg:squarederror.\n",
            "[16:04:22] WARNING: /workspace/src/objective/regression_obj.cu:152: reg:linear is now deprecated in favor of reg:squarederror.\n",
            "[16:04:22] WARNING: /workspace/src/objective/regression_obj.cu:152: reg:linear is now deprecated in favor of reg:squarederror.\n",
            "[16:04:23] WARNING: /workspace/src/objective/regression_obj.cu:152: reg:linear is now deprecated in favor of reg:squarederror.\n",
            "[16:04:23] WARNING: /workspace/src/objective/regression_obj.cu:152: reg:linear is now deprecated in favor of reg:squarederror.\n",
            "[16:04:23] WARNING: /workspace/src/objective/regression_obj.cu:152: reg:linear is now deprecated in favor of reg:squarederror.\n",
            "[16:04:23] WARNING: /workspace/src/objective/regression_obj.cu:152: reg:linear is now deprecated in favor of reg:squarederror.\n",
            "[16:04:23] WARNING: /workspace/src/objective/regression_obj.cu:152: reg:linear is now deprecated in favor of reg:squarederror.\n",
            "[16:04:24] WARNING: /workspace/src/objective/regression_obj.cu:152: reg:linear is now deprecated in favor of reg:squarederror.\n",
            "[16:04:24] WARNING: /workspace/src/objective/regression_obj.cu:152: reg:linear is now deprecated in favor of reg:squarederror.\n",
            "[16:04:24] WARNING: /workspace/src/objective/regression_obj.cu:152: reg:linear is now deprecated in favor of reg:squarederror.\n",
            "[16:04:24] WARNING: /workspace/src/objective/regression_obj.cu:152: reg:linear is now deprecated in favor of reg:squarederror.\n",
            "[16:04:24] WARNING: /workspace/src/objective/regression_obj.cu:152: reg:linear is now deprecated in favor of reg:squarederror.\n",
            "[16:04:25] WARNING: /workspace/src/objective/regression_obj.cu:152: reg:linear is now deprecated in favor of reg:squarederror.\n",
            "[16:04:25] WARNING: /workspace/src/objective/regression_obj.cu:152: reg:linear is now deprecated in favor of reg:squarederror.\n",
            "[16:04:25] WARNING: /workspace/src/objective/regression_obj.cu:152: reg:linear is now deprecated in favor of reg:squarederror.\n",
            "[16:04:25] WARNING: /workspace/src/objective/regression_obj.cu:152: reg:linear is now deprecated in favor of reg:squarederror.\n",
            "[16:04:25] WARNING: /workspace/src/objective/regression_obj.cu:152: reg:linear is now deprecated in favor of reg:squarederror.\n",
            "[16:04:25] WARNING: /workspace/src/objective/regression_obj.cu:152: reg:linear is now deprecated in favor of reg:squarederror.\n",
            "[16:04:26] WARNING: /workspace/src/objective/regression_obj.cu:152: reg:linear is now deprecated in favor of reg:squarederror.\n",
            "[16:04:26] WARNING: /workspace/src/objective/regression_obj.cu:152: reg:linear is now deprecated in favor of reg:squarederror.\n",
            "[16:04:26] WARNING: /workspace/src/objective/regression_obj.cu:152: reg:linear is now deprecated in favor of reg:squarederror.\n",
            "[16:04:26] WARNING: /workspace/src/objective/regression_obj.cu:152: reg:linear is now deprecated in favor of reg:squarederror.\n",
            "[16:04:26] WARNING: /workspace/src/objective/regression_obj.cu:152: reg:linear is now deprecated in favor of reg:squarederror.\n",
            "[16:04:27] WARNING: /workspace/src/objective/regression_obj.cu:152: reg:linear is now deprecated in favor of reg:squarederror.\n",
            "[16:04:27] WARNING: /workspace/src/objective/regression_obj.cu:152: reg:linear is now deprecated in favor of reg:squarederror.\n",
            "[16:04:27] WARNING: /workspace/src/objective/regression_obj.cu:152: reg:linear is now deprecated in favor of reg:squarederror.\n",
            "[16:04:27] WARNING: /workspace/src/objective/regression_obj.cu:152: reg:linear is now deprecated in favor of reg:squarederror.\n",
            "[16:04:27] WARNING: /workspace/src/objective/regression_obj.cu:152: reg:linear is now deprecated in favor of reg:squarederror.\n",
            "[16:04:28] WARNING: /workspace/src/objective/regression_obj.cu:152: reg:linear is now deprecated in favor of reg:squarederror.\n",
            "[16:04:28] WARNING: /workspace/src/objective/regression_obj.cu:152: reg:linear is now deprecated in favor of reg:squarederror.\n",
            "[16:04:28] WARNING: /workspace/src/objective/regression_obj.cu:152: reg:linear is now deprecated in favor of reg:squarederror.\n",
            "[16:04:28] WARNING: /workspace/src/objective/regression_obj.cu:152: reg:linear is now deprecated in favor of reg:squarederror.\n",
            "[16:04:28] WARNING: /workspace/src/objective/regression_obj.cu:152: reg:linear is now deprecated in favor of reg:squarederror.\n",
            "[16:04:28] WARNING: /workspace/src/objective/regression_obj.cu:152: reg:linear is now deprecated in favor of reg:squarederror.\n",
            "[16:04:29] WARNING: /workspace/src/objective/regression_obj.cu:152: reg:linear is now deprecated in favor of reg:squarederror.\n",
            "[16:04:29] WARNING: /workspace/src/objective/regression_obj.cu:152: reg:linear is now deprecated in favor of reg:squarederror.\n",
            "[16:04:29] WARNING: /workspace/src/objective/regression_obj.cu:152: reg:linear is now deprecated in favor of reg:squarederror.\n",
            "[16:04:29] WARNING: /workspace/src/objective/regression_obj.cu:152: reg:linear is now deprecated in favor of reg:squarederror.\n",
            "[16:04:29] WARNING: /workspace/src/objective/regression_obj.cu:152: reg:linear is now deprecated in favor of reg:squarederror.\n",
            "[16:04:30] WARNING: /workspace/src/objective/regression_obj.cu:152: reg:linear is now deprecated in favor of reg:squarederror.\n",
            "[16:04:30] WARNING: /workspace/src/objective/regression_obj.cu:152: reg:linear is now deprecated in favor of reg:squarederror.\n",
            "[16:04:30] WARNING: /workspace/src/objective/regression_obj.cu:152: reg:linear is now deprecated in favor of reg:squarederror.\n",
            "[16:04:30] WARNING: /workspace/src/objective/regression_obj.cu:152: reg:linear is now deprecated in favor of reg:squarederror.\n",
            "[16:04:30] WARNING: /workspace/src/objective/regression_obj.cu:152: reg:linear is now deprecated in favor of reg:squarederror.\n",
            "[16:04:30] WARNING: /workspace/src/objective/regression_obj.cu:152: reg:linear is now deprecated in favor of reg:squarederror.\n",
            "[16:04:31] WARNING: /workspace/src/objective/regression_obj.cu:152: reg:linear is now deprecated in favor of reg:squarederror.\n",
            "[16:04:31] WARNING: /workspace/src/objective/regression_obj.cu:152: reg:linear is now deprecated in favor of reg:squarederror.\n",
            "[16:04:31] WARNING: /workspace/src/objective/regression_obj.cu:152: reg:linear is now deprecated in favor of reg:squarederror.\n",
            "[16:04:31] WARNING: /workspace/src/objective/regression_obj.cu:152: reg:linear is now deprecated in favor of reg:squarederror.\n",
            "[16:04:31] WARNING: /workspace/src/objective/regression_obj.cu:152: reg:linear is now deprecated in favor of reg:squarederror.\n",
            "[16:04:32] WARNING: /workspace/src/objective/regression_obj.cu:152: reg:linear is now deprecated in favor of reg:squarederror.\n",
            "[16:04:32] WARNING: /workspace/src/objective/regression_obj.cu:152: reg:linear is now deprecated in favor of reg:squarederror.\n",
            "[16:04:32] WARNING: /workspace/src/objective/regression_obj.cu:152: reg:linear is now deprecated in favor of reg:squarederror.\n",
            "[16:04:32] WARNING: /workspace/src/objective/regression_obj.cu:152: reg:linear is now deprecated in favor of reg:squarederror.\n",
            "[16:04:32] WARNING: /workspace/src/objective/regression_obj.cu:152: reg:linear is now deprecated in favor of reg:squarederror.\n",
            "[16:04:33] WARNING: /workspace/src/objective/regression_obj.cu:152: reg:linear is now deprecated in favor of reg:squarederror.\n",
            "[16:04:33] WARNING: /workspace/src/objective/regression_obj.cu:152: reg:linear is now deprecated in favor of reg:squarederror.\n",
            "[16:04:33] WARNING: /workspace/src/objective/regression_obj.cu:152: reg:linear is now deprecated in favor of reg:squarederror.\n",
            "[16:04:33] WARNING: /workspace/src/objective/regression_obj.cu:152: reg:linear is now deprecated in favor of reg:squarederror.\n",
            "[16:04:33] WARNING: /workspace/src/objective/regression_obj.cu:152: reg:linear is now deprecated in favor of reg:squarederror.\n",
            "[16:04:33] WARNING: /workspace/src/objective/regression_obj.cu:152: reg:linear is now deprecated in favor of reg:squarederror.\n",
            "[16:04:34] WARNING: /workspace/src/objective/regression_obj.cu:152: reg:linear is now deprecated in favor of reg:squarederror.\n",
            "[16:04:34] WARNING: /workspace/src/objective/regression_obj.cu:152: reg:linear is now deprecated in favor of reg:squarederror.\n",
            "[16:04:34] WARNING: /workspace/src/objective/regression_obj.cu:152: reg:linear is now deprecated in favor of reg:squarederror.\n",
            "[16:04:34] WARNING: /workspace/src/objective/regression_obj.cu:152: reg:linear is now deprecated in favor of reg:squarederror.\n",
            "[16:04:34] WARNING: /workspace/src/objective/regression_obj.cu:152: reg:linear is now deprecated in favor of reg:squarederror.\n",
            "[16:04:35] WARNING: /workspace/src/objective/regression_obj.cu:152: reg:linear is now deprecated in favor of reg:squarederror.\n",
            "[16:04:35] WARNING: /workspace/src/objective/regression_obj.cu:152: reg:linear is now deprecated in favor of reg:squarederror.\n",
            "[16:04:35] WARNING: /workspace/src/objective/regression_obj.cu:152: reg:linear is now deprecated in favor of reg:squarederror.\n",
            "[16:04:35] WARNING: /workspace/src/objective/regression_obj.cu:152: reg:linear is now deprecated in favor of reg:squarederror.\n",
            "[16:04:35] WARNING: /workspace/src/objective/regression_obj.cu:152: reg:linear is now deprecated in favor of reg:squarederror.\n",
            "[16:04:35] WARNING: /workspace/src/objective/regression_obj.cu:152: reg:linear is now deprecated in favor of reg:squarederror.\n",
            "[16:04:36] WARNING: /workspace/src/objective/regression_obj.cu:152: reg:linear is now deprecated in favor of reg:squarederror.\n",
            "[16:04:36] WARNING: /workspace/src/objective/regression_obj.cu:152: reg:linear is now deprecated in favor of reg:squarederror.\n",
            "[16:04:36] WARNING: /workspace/src/objective/regression_obj.cu:152: reg:linear is now deprecated in favor of reg:squarederror.\n",
            "[16:04:36] WARNING: /workspace/src/objective/regression_obj.cu:152: reg:linear is now deprecated in favor of reg:squarederror.\n",
            "[16:04:36] WARNING: /workspace/src/objective/regression_obj.cu:152: reg:linear is now deprecated in favor of reg:squarederror.\n",
            "[16:04:37] WARNING: /workspace/src/objective/regression_obj.cu:152: reg:linear is now deprecated in favor of reg:squarederror.\n"
          ],
          "name": "stdout"
        }
      ]
    },
    {
      "cell_type": "code",
      "metadata": {
        "colab": {
          "base_uri": "https://localhost:8080/"
        },
        "id": "4jlbUE95hK2N",
        "outputId": "cf4d84e9-f0d3-4523-89b1-8c961b8ff409"
      },
      "source": [
        "rf_R2 = np.array([])\n",
        "rf_MAE = np.array([])\n",
        "rf_RMSE = np.array([])\n",
        "\n",
        "for i in random_num_list:\n",
        "    arr_4 = cross_val_score(model_rf, X_train, y_train, scoring='r2', cv=KFold(n_splits = 5, shuffle = True, random_state = i))\n",
        "    rf_R2 = np.concatenate((rf_R2, arr_4))\n",
        "\n",
        "for i in random_num_list:\n",
        "    arr_5 = cross_val_score(model_rf, X_train, y_train, scoring='neg_mean_absolute_error', cv=KFold(n_splits = 5, shuffle = True, random_state = i))    \n",
        "    rf_MAE = np.concatenate((rf_MAE, arr_5))\n",
        "\n",
        "for i in random_num_list:\n",
        "    arr_6 = cross_val_score(model_rf, X_train, y_train, scoring='neg_root_mean_squared_error', cv=KFold(n_splits = 5, shuffle = True, random_state = i))    \n",
        "    rf_RMSE = np.concatenate((rf_RMSE, arr_6))"
      ],
      "execution_count": null,
      "outputs": [
        {
          "output_type": "stream",
          "text": [
            "/usr/local/lib/python3.7/dist-packages/sklearn/model_selection/_validation.py:515: DataConversionWarning: A column-vector y was passed when a 1d array was expected. Please change the shape of y to (n_samples,), for example using ravel().\n",
            "  estimator.fit(X_train, y_train, **fit_params)\n",
            "/usr/local/lib/python3.7/dist-packages/sklearn/model_selection/_validation.py:515: DataConversionWarning: A column-vector y was passed when a 1d array was expected. Please change the shape of y to (n_samples,), for example using ravel().\n",
            "  estimator.fit(X_train, y_train, **fit_params)\n",
            "/usr/local/lib/python3.7/dist-packages/sklearn/model_selection/_validation.py:515: DataConversionWarning: A column-vector y was passed when a 1d array was expected. Please change the shape of y to (n_samples,), for example using ravel().\n",
            "  estimator.fit(X_train, y_train, **fit_params)\n",
            "/usr/local/lib/python3.7/dist-packages/sklearn/model_selection/_validation.py:515: DataConversionWarning: A column-vector y was passed when a 1d array was expected. Please change the shape of y to (n_samples,), for example using ravel().\n",
            "  estimator.fit(X_train, y_train, **fit_params)\n",
            "/usr/local/lib/python3.7/dist-packages/sklearn/model_selection/_validation.py:515: DataConversionWarning: A column-vector y was passed when a 1d array was expected. Please change the shape of y to (n_samples,), for example using ravel().\n",
            "  estimator.fit(X_train, y_train, **fit_params)\n",
            "/usr/local/lib/python3.7/dist-packages/sklearn/model_selection/_validation.py:515: DataConversionWarning: A column-vector y was passed when a 1d array was expected. Please change the shape of y to (n_samples,), for example using ravel().\n",
            "  estimator.fit(X_train, y_train, **fit_params)\n",
            "/usr/local/lib/python3.7/dist-packages/sklearn/model_selection/_validation.py:515: DataConversionWarning: A column-vector y was passed when a 1d array was expected. Please change the shape of y to (n_samples,), for example using ravel().\n",
            "  estimator.fit(X_train, y_train, **fit_params)\n",
            "/usr/local/lib/python3.7/dist-packages/sklearn/model_selection/_validation.py:515: DataConversionWarning: A column-vector y was passed when a 1d array was expected. Please change the shape of y to (n_samples,), for example using ravel().\n",
            "  estimator.fit(X_train, y_train, **fit_params)\n",
            "/usr/local/lib/python3.7/dist-packages/sklearn/model_selection/_validation.py:515: DataConversionWarning: A column-vector y was passed when a 1d array was expected. Please change the shape of y to (n_samples,), for example using ravel().\n",
            "  estimator.fit(X_train, y_train, **fit_params)\n",
            "/usr/local/lib/python3.7/dist-packages/sklearn/model_selection/_validation.py:515: DataConversionWarning: A column-vector y was passed when a 1d array was expected. Please change the shape of y to (n_samples,), for example using ravel().\n",
            "  estimator.fit(X_train, y_train, **fit_params)\n",
            "/usr/local/lib/python3.7/dist-packages/sklearn/model_selection/_validation.py:515: DataConversionWarning: A column-vector y was passed when a 1d array was expected. Please change the shape of y to (n_samples,), for example using ravel().\n",
            "  estimator.fit(X_train, y_train, **fit_params)\n",
            "/usr/local/lib/python3.7/dist-packages/sklearn/model_selection/_validation.py:515: DataConversionWarning: A column-vector y was passed when a 1d array was expected. Please change the shape of y to (n_samples,), for example using ravel().\n",
            "  estimator.fit(X_train, y_train, **fit_params)\n",
            "/usr/local/lib/python3.7/dist-packages/sklearn/model_selection/_validation.py:515: DataConversionWarning: A column-vector y was passed when a 1d array was expected. Please change the shape of y to (n_samples,), for example using ravel().\n",
            "  estimator.fit(X_train, y_train, **fit_params)\n",
            "/usr/local/lib/python3.7/dist-packages/sklearn/model_selection/_validation.py:515: DataConversionWarning: A column-vector y was passed when a 1d array was expected. Please change the shape of y to (n_samples,), for example using ravel().\n",
            "  estimator.fit(X_train, y_train, **fit_params)\n",
            "/usr/local/lib/python3.7/dist-packages/sklearn/model_selection/_validation.py:515: DataConversionWarning: A column-vector y was passed when a 1d array was expected. Please change the shape of y to (n_samples,), for example using ravel().\n",
            "  estimator.fit(X_train, y_train, **fit_params)\n",
            "/usr/local/lib/python3.7/dist-packages/sklearn/model_selection/_validation.py:515: DataConversionWarning: A column-vector y was passed when a 1d array was expected. Please change the shape of y to (n_samples,), for example using ravel().\n",
            "  estimator.fit(X_train, y_train, **fit_params)\n",
            "/usr/local/lib/python3.7/dist-packages/sklearn/model_selection/_validation.py:515: DataConversionWarning: A column-vector y was passed when a 1d array was expected. Please change the shape of y to (n_samples,), for example using ravel().\n",
            "  estimator.fit(X_train, y_train, **fit_params)\n",
            "/usr/local/lib/python3.7/dist-packages/sklearn/model_selection/_validation.py:515: DataConversionWarning: A column-vector y was passed when a 1d array was expected. Please change the shape of y to (n_samples,), for example using ravel().\n",
            "  estimator.fit(X_train, y_train, **fit_params)\n",
            "/usr/local/lib/python3.7/dist-packages/sklearn/model_selection/_validation.py:515: DataConversionWarning: A column-vector y was passed when a 1d array was expected. Please change the shape of y to (n_samples,), for example using ravel().\n",
            "  estimator.fit(X_train, y_train, **fit_params)\n",
            "/usr/local/lib/python3.7/dist-packages/sklearn/model_selection/_validation.py:515: DataConversionWarning: A column-vector y was passed when a 1d array was expected. Please change the shape of y to (n_samples,), for example using ravel().\n",
            "  estimator.fit(X_train, y_train, **fit_params)\n",
            "/usr/local/lib/python3.7/dist-packages/sklearn/model_selection/_validation.py:515: DataConversionWarning: A column-vector y was passed when a 1d array was expected. Please change the shape of y to (n_samples,), for example using ravel().\n",
            "  estimator.fit(X_train, y_train, **fit_params)\n",
            "/usr/local/lib/python3.7/dist-packages/sklearn/model_selection/_validation.py:515: DataConversionWarning: A column-vector y was passed when a 1d array was expected. Please change the shape of y to (n_samples,), for example using ravel().\n",
            "  estimator.fit(X_train, y_train, **fit_params)\n",
            "/usr/local/lib/python3.7/dist-packages/sklearn/model_selection/_validation.py:515: DataConversionWarning: A column-vector y was passed when a 1d array was expected. Please change the shape of y to (n_samples,), for example using ravel().\n",
            "  estimator.fit(X_train, y_train, **fit_params)\n",
            "/usr/local/lib/python3.7/dist-packages/sklearn/model_selection/_validation.py:515: DataConversionWarning: A column-vector y was passed when a 1d array was expected. Please change the shape of y to (n_samples,), for example using ravel().\n",
            "  estimator.fit(X_train, y_train, **fit_params)\n",
            "/usr/local/lib/python3.7/dist-packages/sklearn/model_selection/_validation.py:515: DataConversionWarning: A column-vector y was passed when a 1d array was expected. Please change the shape of y to (n_samples,), for example using ravel().\n",
            "  estimator.fit(X_train, y_train, **fit_params)\n",
            "/usr/local/lib/python3.7/dist-packages/sklearn/model_selection/_validation.py:515: DataConversionWarning: A column-vector y was passed when a 1d array was expected. Please change the shape of y to (n_samples,), for example using ravel().\n",
            "  estimator.fit(X_train, y_train, **fit_params)\n",
            "/usr/local/lib/python3.7/dist-packages/sklearn/model_selection/_validation.py:515: DataConversionWarning: A column-vector y was passed when a 1d array was expected. Please change the shape of y to (n_samples,), for example using ravel().\n",
            "  estimator.fit(X_train, y_train, **fit_params)\n",
            "/usr/local/lib/python3.7/dist-packages/sklearn/model_selection/_validation.py:515: DataConversionWarning: A column-vector y was passed when a 1d array was expected. Please change the shape of y to (n_samples,), for example using ravel().\n",
            "  estimator.fit(X_train, y_train, **fit_params)\n",
            "/usr/local/lib/python3.7/dist-packages/sklearn/model_selection/_validation.py:515: DataConversionWarning: A column-vector y was passed when a 1d array was expected. Please change the shape of y to (n_samples,), for example using ravel().\n",
            "  estimator.fit(X_train, y_train, **fit_params)\n",
            "/usr/local/lib/python3.7/dist-packages/sklearn/model_selection/_validation.py:515: DataConversionWarning: A column-vector y was passed when a 1d array was expected. Please change the shape of y to (n_samples,), for example using ravel().\n",
            "  estimator.fit(X_train, y_train, **fit_params)\n",
            "/usr/local/lib/python3.7/dist-packages/sklearn/model_selection/_validation.py:515: DataConversionWarning: A column-vector y was passed when a 1d array was expected. Please change the shape of y to (n_samples,), for example using ravel().\n",
            "  estimator.fit(X_train, y_train, **fit_params)\n",
            "/usr/local/lib/python3.7/dist-packages/sklearn/model_selection/_validation.py:515: DataConversionWarning: A column-vector y was passed when a 1d array was expected. Please change the shape of y to (n_samples,), for example using ravel().\n",
            "  estimator.fit(X_train, y_train, **fit_params)\n",
            "/usr/local/lib/python3.7/dist-packages/sklearn/model_selection/_validation.py:515: DataConversionWarning: A column-vector y was passed when a 1d array was expected. Please change the shape of y to (n_samples,), for example using ravel().\n",
            "  estimator.fit(X_train, y_train, **fit_params)\n",
            "/usr/local/lib/python3.7/dist-packages/sklearn/model_selection/_validation.py:515: DataConversionWarning: A column-vector y was passed when a 1d array was expected. Please change the shape of y to (n_samples,), for example using ravel().\n",
            "  estimator.fit(X_train, y_train, **fit_params)\n",
            "/usr/local/lib/python3.7/dist-packages/sklearn/model_selection/_validation.py:515: DataConversionWarning: A column-vector y was passed when a 1d array was expected. Please change the shape of y to (n_samples,), for example using ravel().\n",
            "  estimator.fit(X_train, y_train, **fit_params)\n",
            "/usr/local/lib/python3.7/dist-packages/sklearn/model_selection/_validation.py:515: DataConversionWarning: A column-vector y was passed when a 1d array was expected. Please change the shape of y to (n_samples,), for example using ravel().\n",
            "  estimator.fit(X_train, y_train, **fit_params)\n",
            "/usr/local/lib/python3.7/dist-packages/sklearn/model_selection/_validation.py:515: DataConversionWarning: A column-vector y was passed when a 1d array was expected. Please change the shape of y to (n_samples,), for example using ravel().\n",
            "  estimator.fit(X_train, y_train, **fit_params)\n",
            "/usr/local/lib/python3.7/dist-packages/sklearn/model_selection/_validation.py:515: DataConversionWarning: A column-vector y was passed when a 1d array was expected. Please change the shape of y to (n_samples,), for example using ravel().\n",
            "  estimator.fit(X_train, y_train, **fit_params)\n",
            "/usr/local/lib/python3.7/dist-packages/sklearn/model_selection/_validation.py:515: DataConversionWarning: A column-vector y was passed when a 1d array was expected. Please change the shape of y to (n_samples,), for example using ravel().\n",
            "  estimator.fit(X_train, y_train, **fit_params)\n",
            "/usr/local/lib/python3.7/dist-packages/sklearn/model_selection/_validation.py:515: DataConversionWarning: A column-vector y was passed when a 1d array was expected. Please change the shape of y to (n_samples,), for example using ravel().\n",
            "  estimator.fit(X_train, y_train, **fit_params)\n",
            "/usr/local/lib/python3.7/dist-packages/sklearn/model_selection/_validation.py:515: DataConversionWarning: A column-vector y was passed when a 1d array was expected. Please change the shape of y to (n_samples,), for example using ravel().\n",
            "  estimator.fit(X_train, y_train, **fit_params)\n",
            "/usr/local/lib/python3.7/dist-packages/sklearn/model_selection/_validation.py:515: DataConversionWarning: A column-vector y was passed when a 1d array was expected. Please change the shape of y to (n_samples,), for example using ravel().\n",
            "  estimator.fit(X_train, y_train, **fit_params)\n",
            "/usr/local/lib/python3.7/dist-packages/sklearn/model_selection/_validation.py:515: DataConversionWarning: A column-vector y was passed when a 1d array was expected. Please change the shape of y to (n_samples,), for example using ravel().\n",
            "  estimator.fit(X_train, y_train, **fit_params)\n",
            "/usr/local/lib/python3.7/dist-packages/sklearn/model_selection/_validation.py:515: DataConversionWarning: A column-vector y was passed when a 1d array was expected. Please change the shape of y to (n_samples,), for example using ravel().\n",
            "  estimator.fit(X_train, y_train, **fit_params)\n",
            "/usr/local/lib/python3.7/dist-packages/sklearn/model_selection/_validation.py:515: DataConversionWarning: A column-vector y was passed when a 1d array was expected. Please change the shape of y to (n_samples,), for example using ravel().\n",
            "  estimator.fit(X_train, y_train, **fit_params)\n",
            "/usr/local/lib/python3.7/dist-packages/sklearn/model_selection/_validation.py:515: DataConversionWarning: A column-vector y was passed when a 1d array was expected. Please change the shape of y to (n_samples,), for example using ravel().\n",
            "  estimator.fit(X_train, y_train, **fit_params)\n",
            "/usr/local/lib/python3.7/dist-packages/sklearn/model_selection/_validation.py:515: DataConversionWarning: A column-vector y was passed when a 1d array was expected. Please change the shape of y to (n_samples,), for example using ravel().\n",
            "  estimator.fit(X_train, y_train, **fit_params)\n",
            "/usr/local/lib/python3.7/dist-packages/sklearn/model_selection/_validation.py:515: DataConversionWarning: A column-vector y was passed when a 1d array was expected. Please change the shape of y to (n_samples,), for example using ravel().\n",
            "  estimator.fit(X_train, y_train, **fit_params)\n",
            "/usr/local/lib/python3.7/dist-packages/sklearn/model_selection/_validation.py:515: DataConversionWarning: A column-vector y was passed when a 1d array was expected. Please change the shape of y to (n_samples,), for example using ravel().\n",
            "  estimator.fit(X_train, y_train, **fit_params)\n",
            "/usr/local/lib/python3.7/dist-packages/sklearn/model_selection/_validation.py:515: DataConversionWarning: A column-vector y was passed when a 1d array was expected. Please change the shape of y to (n_samples,), for example using ravel().\n",
            "  estimator.fit(X_train, y_train, **fit_params)\n",
            "/usr/local/lib/python3.7/dist-packages/sklearn/model_selection/_validation.py:515: DataConversionWarning: A column-vector y was passed when a 1d array was expected. Please change the shape of y to (n_samples,), for example using ravel().\n",
            "  estimator.fit(X_train, y_train, **fit_params)\n",
            "/usr/local/lib/python3.7/dist-packages/sklearn/model_selection/_validation.py:515: DataConversionWarning: A column-vector y was passed when a 1d array was expected. Please change the shape of y to (n_samples,), for example using ravel().\n",
            "  estimator.fit(X_train, y_train, **fit_params)\n",
            "/usr/local/lib/python3.7/dist-packages/sklearn/model_selection/_validation.py:515: DataConversionWarning: A column-vector y was passed when a 1d array was expected. Please change the shape of y to (n_samples,), for example using ravel().\n",
            "  estimator.fit(X_train, y_train, **fit_params)\n",
            "/usr/local/lib/python3.7/dist-packages/sklearn/model_selection/_validation.py:515: DataConversionWarning: A column-vector y was passed when a 1d array was expected. Please change the shape of y to (n_samples,), for example using ravel().\n",
            "  estimator.fit(X_train, y_train, **fit_params)\n",
            "/usr/local/lib/python3.7/dist-packages/sklearn/model_selection/_validation.py:515: DataConversionWarning: A column-vector y was passed when a 1d array was expected. Please change the shape of y to (n_samples,), for example using ravel().\n",
            "  estimator.fit(X_train, y_train, **fit_params)\n",
            "/usr/local/lib/python3.7/dist-packages/sklearn/model_selection/_validation.py:515: DataConversionWarning: A column-vector y was passed when a 1d array was expected. Please change the shape of y to (n_samples,), for example using ravel().\n",
            "  estimator.fit(X_train, y_train, **fit_params)\n",
            "/usr/local/lib/python3.7/dist-packages/sklearn/model_selection/_validation.py:515: DataConversionWarning: A column-vector y was passed when a 1d array was expected. Please change the shape of y to (n_samples,), for example using ravel().\n",
            "  estimator.fit(X_train, y_train, **fit_params)\n",
            "/usr/local/lib/python3.7/dist-packages/sklearn/model_selection/_validation.py:515: DataConversionWarning: A column-vector y was passed when a 1d array was expected. Please change the shape of y to (n_samples,), for example using ravel().\n",
            "  estimator.fit(X_train, y_train, **fit_params)\n",
            "/usr/local/lib/python3.7/dist-packages/sklearn/model_selection/_validation.py:515: DataConversionWarning: A column-vector y was passed when a 1d array was expected. Please change the shape of y to (n_samples,), for example using ravel().\n",
            "  estimator.fit(X_train, y_train, **fit_params)\n",
            "/usr/local/lib/python3.7/dist-packages/sklearn/model_selection/_validation.py:515: DataConversionWarning: A column-vector y was passed when a 1d array was expected. Please change the shape of y to (n_samples,), for example using ravel().\n",
            "  estimator.fit(X_train, y_train, **fit_params)\n",
            "/usr/local/lib/python3.7/dist-packages/sklearn/model_selection/_validation.py:515: DataConversionWarning: A column-vector y was passed when a 1d array was expected. Please change the shape of y to (n_samples,), for example using ravel().\n",
            "  estimator.fit(X_train, y_train, **fit_params)\n",
            "/usr/local/lib/python3.7/dist-packages/sklearn/model_selection/_validation.py:515: DataConversionWarning: A column-vector y was passed when a 1d array was expected. Please change the shape of y to (n_samples,), for example using ravel().\n",
            "  estimator.fit(X_train, y_train, **fit_params)\n",
            "/usr/local/lib/python3.7/dist-packages/sklearn/model_selection/_validation.py:515: DataConversionWarning: A column-vector y was passed when a 1d array was expected. Please change the shape of y to (n_samples,), for example using ravel().\n",
            "  estimator.fit(X_train, y_train, **fit_params)\n",
            "/usr/local/lib/python3.7/dist-packages/sklearn/model_selection/_validation.py:515: DataConversionWarning: A column-vector y was passed when a 1d array was expected. Please change the shape of y to (n_samples,), for example using ravel().\n",
            "  estimator.fit(X_train, y_train, **fit_params)\n",
            "/usr/local/lib/python3.7/dist-packages/sklearn/model_selection/_validation.py:515: DataConversionWarning: A column-vector y was passed when a 1d array was expected. Please change the shape of y to (n_samples,), for example using ravel().\n",
            "  estimator.fit(X_train, y_train, **fit_params)\n",
            "/usr/local/lib/python3.7/dist-packages/sklearn/model_selection/_validation.py:515: DataConversionWarning: A column-vector y was passed when a 1d array was expected. Please change the shape of y to (n_samples,), for example using ravel().\n",
            "  estimator.fit(X_train, y_train, **fit_params)\n",
            "/usr/local/lib/python3.7/dist-packages/sklearn/model_selection/_validation.py:515: DataConversionWarning: A column-vector y was passed when a 1d array was expected. Please change the shape of y to (n_samples,), for example using ravel().\n",
            "  estimator.fit(X_train, y_train, **fit_params)\n",
            "/usr/local/lib/python3.7/dist-packages/sklearn/model_selection/_validation.py:515: DataConversionWarning: A column-vector y was passed when a 1d array was expected. Please change the shape of y to (n_samples,), for example using ravel().\n",
            "  estimator.fit(X_train, y_train, **fit_params)\n",
            "/usr/local/lib/python3.7/dist-packages/sklearn/model_selection/_validation.py:515: DataConversionWarning: A column-vector y was passed when a 1d array was expected. Please change the shape of y to (n_samples,), for example using ravel().\n",
            "  estimator.fit(X_train, y_train, **fit_params)\n",
            "/usr/local/lib/python3.7/dist-packages/sklearn/model_selection/_validation.py:515: DataConversionWarning: A column-vector y was passed when a 1d array was expected. Please change the shape of y to (n_samples,), for example using ravel().\n",
            "  estimator.fit(X_train, y_train, **fit_params)\n",
            "/usr/local/lib/python3.7/dist-packages/sklearn/model_selection/_validation.py:515: DataConversionWarning: A column-vector y was passed when a 1d array was expected. Please change the shape of y to (n_samples,), for example using ravel().\n",
            "  estimator.fit(X_train, y_train, **fit_params)\n",
            "/usr/local/lib/python3.7/dist-packages/sklearn/model_selection/_validation.py:515: DataConversionWarning: A column-vector y was passed when a 1d array was expected. Please change the shape of y to (n_samples,), for example using ravel().\n",
            "  estimator.fit(X_train, y_train, **fit_params)\n",
            "/usr/local/lib/python3.7/dist-packages/sklearn/model_selection/_validation.py:515: DataConversionWarning: A column-vector y was passed when a 1d array was expected. Please change the shape of y to (n_samples,), for example using ravel().\n",
            "  estimator.fit(X_train, y_train, **fit_params)\n",
            "/usr/local/lib/python3.7/dist-packages/sklearn/model_selection/_validation.py:515: DataConversionWarning: A column-vector y was passed when a 1d array was expected. Please change the shape of y to (n_samples,), for example using ravel().\n",
            "  estimator.fit(X_train, y_train, **fit_params)\n",
            "/usr/local/lib/python3.7/dist-packages/sklearn/model_selection/_validation.py:515: DataConversionWarning: A column-vector y was passed when a 1d array was expected. Please change the shape of y to (n_samples,), for example using ravel().\n",
            "  estimator.fit(X_train, y_train, **fit_params)\n",
            "/usr/local/lib/python3.7/dist-packages/sklearn/model_selection/_validation.py:515: DataConversionWarning: A column-vector y was passed when a 1d array was expected. Please change the shape of y to (n_samples,), for example using ravel().\n",
            "  estimator.fit(X_train, y_train, **fit_params)\n",
            "/usr/local/lib/python3.7/dist-packages/sklearn/model_selection/_validation.py:515: DataConversionWarning: A column-vector y was passed when a 1d array was expected. Please change the shape of y to (n_samples,), for example using ravel().\n",
            "  estimator.fit(X_train, y_train, **fit_params)\n",
            "/usr/local/lib/python3.7/dist-packages/sklearn/model_selection/_validation.py:515: DataConversionWarning: A column-vector y was passed when a 1d array was expected. Please change the shape of y to (n_samples,), for example using ravel().\n",
            "  estimator.fit(X_train, y_train, **fit_params)\n",
            "/usr/local/lib/python3.7/dist-packages/sklearn/model_selection/_validation.py:515: DataConversionWarning: A column-vector y was passed when a 1d array was expected. Please change the shape of y to (n_samples,), for example using ravel().\n",
            "  estimator.fit(X_train, y_train, **fit_params)\n",
            "/usr/local/lib/python3.7/dist-packages/sklearn/model_selection/_validation.py:515: DataConversionWarning: A column-vector y was passed when a 1d array was expected. Please change the shape of y to (n_samples,), for example using ravel().\n",
            "  estimator.fit(X_train, y_train, **fit_params)\n",
            "/usr/local/lib/python3.7/dist-packages/sklearn/model_selection/_validation.py:515: DataConversionWarning: A column-vector y was passed when a 1d array was expected. Please change the shape of y to (n_samples,), for example using ravel().\n",
            "  estimator.fit(X_train, y_train, **fit_params)\n",
            "/usr/local/lib/python3.7/dist-packages/sklearn/model_selection/_validation.py:515: DataConversionWarning: A column-vector y was passed when a 1d array was expected. Please change the shape of y to (n_samples,), for example using ravel().\n",
            "  estimator.fit(X_train, y_train, **fit_params)\n",
            "/usr/local/lib/python3.7/dist-packages/sklearn/model_selection/_validation.py:515: DataConversionWarning: A column-vector y was passed when a 1d array was expected. Please change the shape of y to (n_samples,), for example using ravel().\n",
            "  estimator.fit(X_train, y_train, **fit_params)\n",
            "/usr/local/lib/python3.7/dist-packages/sklearn/model_selection/_validation.py:515: DataConversionWarning: A column-vector y was passed when a 1d array was expected. Please change the shape of y to (n_samples,), for example using ravel().\n",
            "  estimator.fit(X_train, y_train, **fit_params)\n",
            "/usr/local/lib/python3.7/dist-packages/sklearn/model_selection/_validation.py:515: DataConversionWarning: A column-vector y was passed when a 1d array was expected. Please change the shape of y to (n_samples,), for example using ravel().\n",
            "  estimator.fit(X_train, y_train, **fit_params)\n",
            "/usr/local/lib/python3.7/dist-packages/sklearn/model_selection/_validation.py:515: DataConversionWarning: A column-vector y was passed when a 1d array was expected. Please change the shape of y to (n_samples,), for example using ravel().\n",
            "  estimator.fit(X_train, y_train, **fit_params)\n",
            "/usr/local/lib/python3.7/dist-packages/sklearn/model_selection/_validation.py:515: DataConversionWarning: A column-vector y was passed when a 1d array was expected. Please change the shape of y to (n_samples,), for example using ravel().\n",
            "  estimator.fit(X_train, y_train, **fit_params)\n",
            "/usr/local/lib/python3.7/dist-packages/sklearn/model_selection/_validation.py:515: DataConversionWarning: A column-vector y was passed when a 1d array was expected. Please change the shape of y to (n_samples,), for example using ravel().\n",
            "  estimator.fit(X_train, y_train, **fit_params)\n",
            "/usr/local/lib/python3.7/dist-packages/sklearn/model_selection/_validation.py:515: DataConversionWarning: A column-vector y was passed when a 1d array was expected. Please change the shape of y to (n_samples,), for example using ravel().\n",
            "  estimator.fit(X_train, y_train, **fit_params)\n",
            "/usr/local/lib/python3.7/dist-packages/sklearn/model_selection/_validation.py:515: DataConversionWarning: A column-vector y was passed when a 1d array was expected. Please change the shape of y to (n_samples,), for example using ravel().\n",
            "  estimator.fit(X_train, y_train, **fit_params)\n",
            "/usr/local/lib/python3.7/dist-packages/sklearn/model_selection/_validation.py:515: DataConversionWarning: A column-vector y was passed when a 1d array was expected. Please change the shape of y to (n_samples,), for example using ravel().\n",
            "  estimator.fit(X_train, y_train, **fit_params)\n",
            "/usr/local/lib/python3.7/dist-packages/sklearn/model_selection/_validation.py:515: DataConversionWarning: A column-vector y was passed when a 1d array was expected. Please change the shape of y to (n_samples,), for example using ravel().\n",
            "  estimator.fit(X_train, y_train, **fit_params)\n",
            "/usr/local/lib/python3.7/dist-packages/sklearn/model_selection/_validation.py:515: DataConversionWarning: A column-vector y was passed when a 1d array was expected. Please change the shape of y to (n_samples,), for example using ravel().\n",
            "  estimator.fit(X_train, y_train, **fit_params)\n",
            "/usr/local/lib/python3.7/dist-packages/sklearn/model_selection/_validation.py:515: DataConversionWarning: A column-vector y was passed when a 1d array was expected. Please change the shape of y to (n_samples,), for example using ravel().\n",
            "  estimator.fit(X_train, y_train, **fit_params)\n",
            "/usr/local/lib/python3.7/dist-packages/sklearn/model_selection/_validation.py:515: DataConversionWarning: A column-vector y was passed when a 1d array was expected. Please change the shape of y to (n_samples,), for example using ravel().\n",
            "  estimator.fit(X_train, y_train, **fit_params)\n",
            "/usr/local/lib/python3.7/dist-packages/sklearn/model_selection/_validation.py:515: DataConversionWarning: A column-vector y was passed when a 1d array was expected. Please change the shape of y to (n_samples,), for example using ravel().\n",
            "  estimator.fit(X_train, y_train, **fit_params)\n",
            "/usr/local/lib/python3.7/dist-packages/sklearn/model_selection/_validation.py:515: DataConversionWarning: A column-vector y was passed when a 1d array was expected. Please change the shape of y to (n_samples,), for example using ravel().\n",
            "  estimator.fit(X_train, y_train, **fit_params)\n",
            "/usr/local/lib/python3.7/dist-packages/sklearn/model_selection/_validation.py:515: DataConversionWarning: A column-vector y was passed when a 1d array was expected. Please change the shape of y to (n_samples,), for example using ravel().\n",
            "  estimator.fit(X_train, y_train, **fit_params)\n",
            "/usr/local/lib/python3.7/dist-packages/sklearn/model_selection/_validation.py:515: DataConversionWarning: A column-vector y was passed when a 1d array was expected. Please change the shape of y to (n_samples,), for example using ravel().\n",
            "  estimator.fit(X_train, y_train, **fit_params)\n",
            "/usr/local/lib/python3.7/dist-packages/sklearn/model_selection/_validation.py:515: DataConversionWarning: A column-vector y was passed when a 1d array was expected. Please change the shape of y to (n_samples,), for example using ravel().\n",
            "  estimator.fit(X_train, y_train, **fit_params)\n",
            "/usr/local/lib/python3.7/dist-packages/sklearn/model_selection/_validation.py:515: DataConversionWarning: A column-vector y was passed when a 1d array was expected. Please change the shape of y to (n_samples,), for example using ravel().\n",
            "  estimator.fit(X_train, y_train, **fit_params)\n",
            "/usr/local/lib/python3.7/dist-packages/sklearn/model_selection/_validation.py:515: DataConversionWarning: A column-vector y was passed when a 1d array was expected. Please change the shape of y to (n_samples,), for example using ravel().\n",
            "  estimator.fit(X_train, y_train, **fit_params)\n",
            "/usr/local/lib/python3.7/dist-packages/sklearn/model_selection/_validation.py:515: DataConversionWarning: A column-vector y was passed when a 1d array was expected. Please change the shape of y to (n_samples,), for example using ravel().\n",
            "  estimator.fit(X_train, y_train, **fit_params)\n",
            "/usr/local/lib/python3.7/dist-packages/sklearn/model_selection/_validation.py:515: DataConversionWarning: A column-vector y was passed when a 1d array was expected. Please change the shape of y to (n_samples,), for example using ravel().\n",
            "  estimator.fit(X_train, y_train, **fit_params)\n",
            "/usr/local/lib/python3.7/dist-packages/sklearn/model_selection/_validation.py:515: DataConversionWarning: A column-vector y was passed when a 1d array was expected. Please change the shape of y to (n_samples,), for example using ravel().\n",
            "  estimator.fit(X_train, y_train, **fit_params)\n",
            "/usr/local/lib/python3.7/dist-packages/sklearn/model_selection/_validation.py:515: DataConversionWarning: A column-vector y was passed when a 1d array was expected. Please change the shape of y to (n_samples,), for example using ravel().\n",
            "  estimator.fit(X_train, y_train, **fit_params)\n",
            "/usr/local/lib/python3.7/dist-packages/sklearn/model_selection/_validation.py:515: DataConversionWarning: A column-vector y was passed when a 1d array was expected. Please change the shape of y to (n_samples,), for example using ravel().\n",
            "  estimator.fit(X_train, y_train, **fit_params)\n",
            "/usr/local/lib/python3.7/dist-packages/sklearn/model_selection/_validation.py:515: DataConversionWarning: A column-vector y was passed when a 1d array was expected. Please change the shape of y to (n_samples,), for example using ravel().\n",
            "  estimator.fit(X_train, y_train, **fit_params)\n",
            "/usr/local/lib/python3.7/dist-packages/sklearn/model_selection/_validation.py:515: DataConversionWarning: A column-vector y was passed when a 1d array was expected. Please change the shape of y to (n_samples,), for example using ravel().\n",
            "  estimator.fit(X_train, y_train, **fit_params)\n",
            "/usr/local/lib/python3.7/dist-packages/sklearn/model_selection/_validation.py:515: DataConversionWarning: A column-vector y was passed when a 1d array was expected. Please change the shape of y to (n_samples,), for example using ravel().\n",
            "  estimator.fit(X_train, y_train, **fit_params)\n",
            "/usr/local/lib/python3.7/dist-packages/sklearn/model_selection/_validation.py:515: DataConversionWarning: A column-vector y was passed when a 1d array was expected. Please change the shape of y to (n_samples,), for example using ravel().\n",
            "  estimator.fit(X_train, y_train, **fit_params)\n",
            "/usr/local/lib/python3.7/dist-packages/sklearn/model_selection/_validation.py:515: DataConversionWarning: A column-vector y was passed when a 1d array was expected. Please change the shape of y to (n_samples,), for example using ravel().\n",
            "  estimator.fit(X_train, y_train, **fit_params)\n",
            "/usr/local/lib/python3.7/dist-packages/sklearn/model_selection/_validation.py:515: DataConversionWarning: A column-vector y was passed when a 1d array was expected. Please change the shape of y to (n_samples,), for example using ravel().\n",
            "  estimator.fit(X_train, y_train, **fit_params)\n",
            "/usr/local/lib/python3.7/dist-packages/sklearn/model_selection/_validation.py:515: DataConversionWarning: A column-vector y was passed when a 1d array was expected. Please change the shape of y to (n_samples,), for example using ravel().\n",
            "  estimator.fit(X_train, y_train, **fit_params)\n",
            "/usr/local/lib/python3.7/dist-packages/sklearn/model_selection/_validation.py:515: DataConversionWarning: A column-vector y was passed when a 1d array was expected. Please change the shape of y to (n_samples,), for example using ravel().\n",
            "  estimator.fit(X_train, y_train, **fit_params)\n",
            "/usr/local/lib/python3.7/dist-packages/sklearn/model_selection/_validation.py:515: DataConversionWarning: A column-vector y was passed when a 1d array was expected. Please change the shape of y to (n_samples,), for example using ravel().\n",
            "  estimator.fit(X_train, y_train, **fit_params)\n",
            "/usr/local/lib/python3.7/dist-packages/sklearn/model_selection/_validation.py:515: DataConversionWarning: A column-vector y was passed when a 1d array was expected. Please change the shape of y to (n_samples,), for example using ravel().\n",
            "  estimator.fit(X_train, y_train, **fit_params)\n",
            "/usr/local/lib/python3.7/dist-packages/sklearn/model_selection/_validation.py:515: DataConversionWarning: A column-vector y was passed when a 1d array was expected. Please change the shape of y to (n_samples,), for example using ravel().\n",
            "  estimator.fit(X_train, y_train, **fit_params)\n",
            "/usr/local/lib/python3.7/dist-packages/sklearn/model_selection/_validation.py:515: DataConversionWarning: A column-vector y was passed when a 1d array was expected. Please change the shape of y to (n_samples,), for example using ravel().\n",
            "  estimator.fit(X_train, y_train, **fit_params)\n",
            "/usr/local/lib/python3.7/dist-packages/sklearn/model_selection/_validation.py:515: DataConversionWarning: A column-vector y was passed when a 1d array was expected. Please change the shape of y to (n_samples,), for example using ravel().\n",
            "  estimator.fit(X_train, y_train, **fit_params)\n",
            "/usr/local/lib/python3.7/dist-packages/sklearn/model_selection/_validation.py:515: DataConversionWarning: A column-vector y was passed when a 1d array was expected. Please change the shape of y to (n_samples,), for example using ravel().\n",
            "  estimator.fit(X_train, y_train, **fit_params)\n",
            "/usr/local/lib/python3.7/dist-packages/sklearn/model_selection/_validation.py:515: DataConversionWarning: A column-vector y was passed when a 1d array was expected. Please change the shape of y to (n_samples,), for example using ravel().\n",
            "  estimator.fit(X_train, y_train, **fit_params)\n",
            "/usr/local/lib/python3.7/dist-packages/sklearn/model_selection/_validation.py:515: DataConversionWarning: A column-vector y was passed when a 1d array was expected. Please change the shape of y to (n_samples,), for example using ravel().\n",
            "  estimator.fit(X_train, y_train, **fit_params)\n",
            "/usr/local/lib/python3.7/dist-packages/sklearn/model_selection/_validation.py:515: DataConversionWarning: A column-vector y was passed when a 1d array was expected. Please change the shape of y to (n_samples,), for example using ravel().\n",
            "  estimator.fit(X_train, y_train, **fit_params)\n",
            "/usr/local/lib/python3.7/dist-packages/sklearn/model_selection/_validation.py:515: DataConversionWarning: A column-vector y was passed when a 1d array was expected. Please change the shape of y to (n_samples,), for example using ravel().\n",
            "  estimator.fit(X_train, y_train, **fit_params)\n",
            "/usr/local/lib/python3.7/dist-packages/sklearn/model_selection/_validation.py:515: DataConversionWarning: A column-vector y was passed when a 1d array was expected. Please change the shape of y to (n_samples,), for example using ravel().\n",
            "  estimator.fit(X_train, y_train, **fit_params)\n",
            "/usr/local/lib/python3.7/dist-packages/sklearn/model_selection/_validation.py:515: DataConversionWarning: A column-vector y was passed when a 1d array was expected. Please change the shape of y to (n_samples,), for example using ravel().\n",
            "  estimator.fit(X_train, y_train, **fit_params)\n",
            "/usr/local/lib/python3.7/dist-packages/sklearn/model_selection/_validation.py:515: DataConversionWarning: A column-vector y was passed when a 1d array was expected. Please change the shape of y to (n_samples,), for example using ravel().\n",
            "  estimator.fit(X_train, y_train, **fit_params)\n",
            "/usr/local/lib/python3.7/dist-packages/sklearn/model_selection/_validation.py:515: DataConversionWarning: A column-vector y was passed when a 1d array was expected. Please change the shape of y to (n_samples,), for example using ravel().\n",
            "  estimator.fit(X_train, y_train, **fit_params)\n",
            "/usr/local/lib/python3.7/dist-packages/sklearn/model_selection/_validation.py:515: DataConversionWarning: A column-vector y was passed when a 1d array was expected. Please change the shape of y to (n_samples,), for example using ravel().\n",
            "  estimator.fit(X_train, y_train, **fit_params)\n",
            "/usr/local/lib/python3.7/dist-packages/sklearn/model_selection/_validation.py:515: DataConversionWarning: A column-vector y was passed when a 1d array was expected. Please change the shape of y to (n_samples,), for example using ravel().\n",
            "  estimator.fit(X_train, y_train, **fit_params)\n",
            "/usr/local/lib/python3.7/dist-packages/sklearn/model_selection/_validation.py:515: DataConversionWarning: A column-vector y was passed when a 1d array was expected. Please change the shape of y to (n_samples,), for example using ravel().\n",
            "  estimator.fit(X_train, y_train, **fit_params)\n",
            "/usr/local/lib/python3.7/dist-packages/sklearn/model_selection/_validation.py:515: DataConversionWarning: A column-vector y was passed when a 1d array was expected. Please change the shape of y to (n_samples,), for example using ravel().\n",
            "  estimator.fit(X_train, y_train, **fit_params)\n",
            "/usr/local/lib/python3.7/dist-packages/sklearn/model_selection/_validation.py:515: DataConversionWarning: A column-vector y was passed when a 1d array was expected. Please change the shape of y to (n_samples,), for example using ravel().\n",
            "  estimator.fit(X_train, y_train, **fit_params)\n",
            "/usr/local/lib/python3.7/dist-packages/sklearn/model_selection/_validation.py:515: DataConversionWarning: A column-vector y was passed when a 1d array was expected. Please change the shape of y to (n_samples,), for example using ravel().\n",
            "  estimator.fit(X_train, y_train, **fit_params)\n",
            "/usr/local/lib/python3.7/dist-packages/sklearn/model_selection/_validation.py:515: DataConversionWarning: A column-vector y was passed when a 1d array was expected. Please change the shape of y to (n_samples,), for example using ravel().\n",
            "  estimator.fit(X_train, y_train, **fit_params)\n",
            "/usr/local/lib/python3.7/dist-packages/sklearn/model_selection/_validation.py:515: DataConversionWarning: A column-vector y was passed when a 1d array was expected. Please change the shape of y to (n_samples,), for example using ravel().\n",
            "  estimator.fit(X_train, y_train, **fit_params)\n",
            "/usr/local/lib/python3.7/dist-packages/sklearn/model_selection/_validation.py:515: DataConversionWarning: A column-vector y was passed when a 1d array was expected. Please change the shape of y to (n_samples,), for example using ravel().\n",
            "  estimator.fit(X_train, y_train, **fit_params)\n",
            "/usr/local/lib/python3.7/dist-packages/sklearn/model_selection/_validation.py:515: DataConversionWarning: A column-vector y was passed when a 1d array was expected. Please change the shape of y to (n_samples,), for example using ravel().\n",
            "  estimator.fit(X_train, y_train, **fit_params)\n",
            "/usr/local/lib/python3.7/dist-packages/sklearn/model_selection/_validation.py:515: DataConversionWarning: A column-vector y was passed when a 1d array was expected. Please change the shape of y to (n_samples,), for example using ravel().\n",
            "  estimator.fit(X_train, y_train, **fit_params)\n",
            "/usr/local/lib/python3.7/dist-packages/sklearn/model_selection/_validation.py:515: DataConversionWarning: A column-vector y was passed when a 1d array was expected. Please change the shape of y to (n_samples,), for example using ravel().\n",
            "  estimator.fit(X_train, y_train, **fit_params)\n",
            "/usr/local/lib/python3.7/dist-packages/sklearn/model_selection/_validation.py:515: DataConversionWarning: A column-vector y was passed when a 1d array was expected. Please change the shape of y to (n_samples,), for example using ravel().\n",
            "  estimator.fit(X_train, y_train, **fit_params)\n",
            "/usr/local/lib/python3.7/dist-packages/sklearn/model_selection/_validation.py:515: DataConversionWarning: A column-vector y was passed when a 1d array was expected. Please change the shape of y to (n_samples,), for example using ravel().\n",
            "  estimator.fit(X_train, y_train, **fit_params)\n",
            "/usr/local/lib/python3.7/dist-packages/sklearn/model_selection/_validation.py:515: DataConversionWarning: A column-vector y was passed when a 1d array was expected. Please change the shape of y to (n_samples,), for example using ravel().\n",
            "  estimator.fit(X_train, y_train, **fit_params)\n",
            "/usr/local/lib/python3.7/dist-packages/sklearn/model_selection/_validation.py:515: DataConversionWarning: A column-vector y was passed when a 1d array was expected. Please change the shape of y to (n_samples,), for example using ravel().\n",
            "  estimator.fit(X_train, y_train, **fit_params)\n",
            "/usr/local/lib/python3.7/dist-packages/sklearn/model_selection/_validation.py:515: DataConversionWarning: A column-vector y was passed when a 1d array was expected. Please change the shape of y to (n_samples,), for example using ravel().\n",
            "  estimator.fit(X_train, y_train, **fit_params)\n",
            "/usr/local/lib/python3.7/dist-packages/sklearn/model_selection/_validation.py:515: DataConversionWarning: A column-vector y was passed when a 1d array was expected. Please change the shape of y to (n_samples,), for example using ravel().\n",
            "  estimator.fit(X_train, y_train, **fit_params)\n",
            "/usr/local/lib/python3.7/dist-packages/sklearn/model_selection/_validation.py:515: DataConversionWarning: A column-vector y was passed when a 1d array was expected. Please change the shape of y to (n_samples,), for example using ravel().\n",
            "  estimator.fit(X_train, y_train, **fit_params)\n",
            "/usr/local/lib/python3.7/dist-packages/sklearn/model_selection/_validation.py:515: DataConversionWarning: A column-vector y was passed when a 1d array was expected. Please change the shape of y to (n_samples,), for example using ravel().\n",
            "  estimator.fit(X_train, y_train, **fit_params)\n",
            "/usr/local/lib/python3.7/dist-packages/sklearn/model_selection/_validation.py:515: DataConversionWarning: A column-vector y was passed when a 1d array was expected. Please change the shape of y to (n_samples,), for example using ravel().\n",
            "  estimator.fit(X_train, y_train, **fit_params)\n"
          ],
          "name": "stderr"
        }
      ]
    },
    {
      "cell_type": "markdown",
      "metadata": {
        "id": "iLqmKqbEicro"
      },
      "source": [
        "visualization through boxplot"
      ]
    },
    {
      "cell_type": "code",
      "metadata": {
        "id": "WyxGq4JNhecn"
      },
      "source": [
        "r2_to_plot = [lr_R2, xgb_R2, rf_R2]\n",
        "mae_to_plot = [lr_MAE*(-1), xgb_MAE*(-1), rf_MAE*(-1)]\n",
        "rmse_to_plot = [lr_RMSE*(-1), xgb_RMSE*(-1), rf_RMSE*(-1)]"
      ],
      "execution_count": null,
      "outputs": []
    },
    {
      "cell_type": "code",
      "metadata": {
        "colab": {
          "base_uri": "https://localhost:8080/"
        },
        "id": "TnXjHVWli_Qr",
        "outputId": "122b51e5-0a59-4723-fb49-a187fd905ed2"
      },
      "source": [
        "df = pd.DataFrame(r2_to_plot, index=['LR', 'XGB', 'RF'])\n",
        "\n",
        "df.T.boxplot(vert=False)\n",
        "plt.subplots_adjust(left=0.25)\n",
        "plt.title('R2 value')\n",
        "\n",
        "plt.show()"
      ],
      "execution_count": null,
      "outputs": [
        {
          "output_type": "display_data",
          "data": {
            "image/png": "[encoded data removed]",
            "text/plain": [
              "<Figure size 432x288 with 1 Axes>"
            ]
          },
          "metadata": {
            "tags": [],
            "needs_background": "light"
          }
        }
      ]
    },
    {
      "cell_type": "code",
      "metadata": {
        "colab": {
          "base_uri": "https://localhost:8080/"
        },
        "id": "_Vlt1MHVllSs",
        "outputId": "8ce77ede-0203-4c27-c8b8-3e87a6b73596"
      },
      "source": [
        "df2 = pd.DataFrame(mae_to_plot, index=['LR', 'XGB', 'RF'])\n",
        "\n",
        "df2.T.boxplot(vert=False)\n",
        "plt.subplots_adjust(left=0.25)\n",
        "plt.title('MAE value')\n",
        "\n",
        "plt.show()"
      ],
      "execution_count": null,
      "outputs": [
        {
          "output_type": "display_data",
          "data": {
            "image/png": "[encoded data removed]",
            "text/plain": [
              "<Figure size 432x288 with 1 Axes>"
            ]
          },
          "metadata": {
            "tags": [],
            "needs_background": "light"
          }
        }
      ]
    },
    {
      "cell_type": "code",
      "metadata": {
        "colab": {
          "base_uri": "https://localhost:8080/"
        },
        "id": "8YGRfUxmmCdL",
        "outputId": "04797e3b-bb88-407a-b69a-f289399f79e7"
      },
      "source": [
        "df3 = pd.DataFrame(rmse_to_plot, index=['LR', 'XGB', 'RF'])\n",
        "\n",
        "df3.T.boxplot(vert=False)\n",
        "plt.subplots_adjust(left=0.25)\n",
        "plt.title('RMSE value')\n",
        "\n",
        "plt.show()"
      ],
      "execution_count": null,
      "outputs": [
        {
          "output_type": "display_data",
          "data": {
            "image/png": "[encoded data removed]",
            "text/plain": [
              "<Figure size 432x288 with 1 Axes>"
            ]
          },
          "metadata": {
            "tags": [],
            "needs_background": "light"
          }
        }
      ]
    },
    {
      "cell_type": "markdown",
      "metadata": {
        "id": "nSbFUtrLsqOk"
      },
      "source": [
        "###Summary"
      ]
    },
    {
      "cell_type": "code",
      "metadata": {
        "id": "Du5SBEaVssls"
      },
      "source": [
        ""
      ],
      "execution_count": null,
      "outputs": []
    },
    {
      "cell_type": "markdown",
      "metadata": {
        "id": "KH8wMfcFszTu"
      },
      "source": [
        "01. Test vs Pred"
      ]
    },
    {
      "cell_type": "code",
      "metadata": {
        "colab": {
          "base_uri": "https://localhost:8080/"
        },
        "id": "PDioHyaZs4wC",
        "outputId": "f943bb13-89e9-4fa1-b501-fdf152ddd5d5"
      },
      "source": [
        "# y_test vs. pred Scatter plot\n",
        "plt.figure(figsize=(17, 12))\n",
        "\n",
        "plt.subplot(1,3,1)\n",
        "plt.scatter( y_test,pred_lr, alpha=0.1)\n",
        "plt.title('LR')\n",
        "plt.plot([-2, 2], [-2,2], 'r-')\n",
        "\n",
        "plt.subplot(1,3,2)\n",
        "plt.scatter( y_test,pred_xgb, alpha=0.1)\n",
        "plt.title('XGB')\n",
        "plt.plot([-2, 2], [-2,2], 'r-')\n",
        "\n",
        "plt.subplot(1,3,3)\n",
        "plt.scatter( y_test,pred_rf, alpha=0.1)\n",
        "plt.title('RF')\n",
        "plt.plot([-2, 2], [-2,2], 'r-')"
      ],
      "execution_count": null,
      "outputs": [
        {
          "output_type": "execute_result",
          "data": {
            "text/plain": [
              "[<matplotlib.lines.Line2D at 0x7f476a297550>]"
            ]
          },
          "metadata": {
            "tags": []
          },
          "execution_count": 48
        },
        {
          "output_type": "display_data",
          "data": {
            "image/png": "[encoded data removed]",
            "text/plain": [
              "<Figure size 1224x864 with 3 Axes>"
            ]
          },
          "metadata": {
            "tags": [],
            "needs_background": "light"
          }
        }
      ]
    },
    {
      "cell_type": "markdown",
      "metadata": {
        "id": "vc0A7aMWs8W2"
      },
      "source": [
        "02. Evaluation"
      ]
    },
    {
      "cell_type": "code",
      "metadata": {
        "colab": {
          "base_uri": "https://localhost:8080/"
        },
        "id": "B2aH4imKm4QW",
        "outputId": "b95d62e7-f979-4b4f-f411-ffe7175ae18f"
      },
      "source": [
        "# Compare in the same frame\n",
        "plt.figure(figsize=(15, 12))\n",
        "\n",
        "plt.subplot(221)\n",
        "df.T.boxplot(vert=False)\n",
        "plt.subplots_adjust(left=0.25)\n",
        "plt.xlim(-0.1, 1)\n",
        "plt.title('R2')\n",
        "\n",
        "plt.subplot(223)\n",
        "df2.T.boxplot(vert=False)\n",
        "plt.subplots_adjust(left=0.25)\n",
        "plt.xlim(-0.1, 1)\n",
        "plt.title('MAE')\n",
        "\n",
        "plt.subplot(224)\n",
        "df3.T.boxplot(vert=False)\n",
        "plt.subplots_adjust(left=0.25)\n",
        "plt.xlim(-0.1, 1)\n",
        "plt.title('RMSE')\n",
        "\n",
        "plt.show()"
      ],
      "execution_count": null,
      "outputs": [
        {
          "output_type": "display_data",
          "data": {
            "image/png": "[encoded data removed]",
            "text/plain": [
              "<Figure size 1080x864 with 3 Axes>"
            ]
          },
          "metadata": {
            "tags": [],
            "needs_background": "light"
          }
        }
      ]
    },
    {
      "cell_type": "code",
      "metadata": {
        "id": "8PaJyXV7h1e6"
      },
      "source": [
        ""
      ],
      "execution_count": null,
      "outputs": []
    }
  ]
}
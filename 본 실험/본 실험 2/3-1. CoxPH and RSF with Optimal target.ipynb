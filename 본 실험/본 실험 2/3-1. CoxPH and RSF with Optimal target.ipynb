{
 "cells": [
  {
   "cell_type": "code",
   "execution_count": 1,
   "metadata": {},
   "outputs": [],
   "source": [
    "import pandas as pd\n",
    "import numpy as np\n",
    "import matplotlib.pyplot as plt\n",
    "import seaborn as sns"
   ]
  },
  {
   "cell_type": "code",
   "execution_count": 2,
   "metadata": {
    "collapsed": true
   },
   "outputs": [
    {
     "name": "stdout",
     "output_type": "stream",
     "text": [
      "Requirement already satisfied: lifelines in c:\\users\\hyji1\\anaconda3\\lib\\site-packages (0.25.11)\n",
      "Requirement already satisfied: formulaic<0.3,>=0.2.2 in c:\\users\\hyji1\\anaconda3\\lib\\site-packages (from lifelines) (0.2.3)\n",
      "Requirement already satisfied: scipy>=1.2.0 in c:\\users\\hyji1\\anaconda3\\lib\\site-packages (from lifelines) (1.5.2)\n",
      "Requirement already satisfied: autograd-gamma>=0.3 in c:\\users\\hyji1\\anaconda3\\lib\\site-packages (from lifelines) (0.5.0)\n",
      "Requirement already satisfied: numpy>=1.14.0 in c:\\users\\hyji1\\anaconda3\\lib\\site-packages (from lifelines) (1.19.2)\n",
      "Requirement already satisfied: pandas>=0.23.0 in c:\\users\\hyji1\\anaconda3\\lib\\site-packages (from lifelines) (1.1.3)\n",
      "Requirement already satisfied: autograd>=1.3 in c:\\users\\hyji1\\anaconda3\\lib\\site-packages (from lifelines) (1.3)\n",
      "Requirement already satisfied: matplotlib>=3.0 in c:\\users\\hyji1\\anaconda3\\lib\\site-packages (from lifelines) (3.3.2)\n",
      "Requirement already satisfied: wrapt in c:\\users\\hyji1\\anaconda3\\lib\\site-packages (from formulaic<0.3,>=0.2.2->lifelines) (1.11.2)\n",
      "Requirement already satisfied: interface-meta>=1.2 in c:\\users\\hyji1\\anaconda3\\lib\\site-packages (from formulaic<0.3,>=0.2.2->lifelines) (1.2.3)\n",
      "Requirement already satisfied: astor in c:\\users\\hyji1\\anaconda3\\lib\\site-packages (from formulaic<0.3,>=0.2.2->lifelines) (0.8.1)\n",
      "Requirement already satisfied: pytz>=2017.2 in c:\\users\\hyji1\\anaconda3\\lib\\site-packages (from pandas>=0.23.0->lifelines) (2020.1)\n",
      "Requirement already satisfied: python-dateutil>=2.7.3 in c:\\users\\hyji1\\anaconda3\\lib\\site-packages (from pandas>=0.23.0->lifelines) (2.8.1)\n",
      "Requirement already satisfied: future>=0.15.2 in c:\\users\\hyji1\\anaconda3\\lib\\site-packages (from autograd>=1.3->lifelines) (0.18.2)\n",
      "Requirement already satisfied: cycler>=0.10 in c:\\users\\hyji1\\anaconda3\\lib\\site-packages (from matplotlib>=3.0->lifelines) (0.10.0)\n",
      "Requirement already satisfied: pyparsing!=2.0.4,!=2.1.2,!=2.1.6,>=2.0.3 in c:\\users\\hyji1\\anaconda3\\lib\\site-packages (from matplotlib>=3.0->lifelines) (2.4.7)\n",
      "Requirement already satisfied: pillow>=6.2.0 in c:\\users\\hyji1\\anaconda3\\lib\\site-packages (from matplotlib>=3.0->lifelines) (8.0.1)\n",
      "Requirement already satisfied: certifi>=2020.06.20 in c:\\users\\hyji1\\anaconda3\\lib\\site-packages (from matplotlib>=3.0->lifelines) (2020.6.20)\n",
      "Requirement already satisfied: kiwisolver>=1.0.1 in c:\\users\\hyji1\\anaconda3\\lib\\site-packages (from matplotlib>=3.0->lifelines) (1.3.0)\n",
      "Requirement already satisfied: six>=1.5 in c:\\users\\hyji1\\anaconda3\\lib\\site-packages (from python-dateutil>=2.7.3->pandas>=0.23.0->lifelines) (1.15.0)\n",
      "Note: you may need to restart the kernel to use updated packages.\n"
     ]
    }
   ],
   "source": [
    "pip install lifelines"
   ]
  },
  {
   "cell_type": "markdown",
   "metadata": {
    "id": "etmAsxE7axfK"
   },
   "source": [
    "# Applying Survival model"
   ]
  },
  {
   "cell_type": "markdown",
   "metadata": {},
   "source": [
    "## 1. 학습하기"
   ]
  },
  {
   "cell_type": "markdown",
   "metadata": {},
   "source": [
    "## 1-1. Cox Proportional Hazard Model"
   ]
  },
  {
   "cell_type": "code",
   "execution_count": 3,
   "metadata": {
    "executionInfo": {
     "elapsed": 3016,
     "status": "ok",
     "timestamp": 1621171539679,
     "user": {
      "displayName": "오현지",
      "photoUrl": "",
      "userId": "16924038929183224420"
     },
     "user_tz": -540
    },
    "id": "4UT8fws8pQX0"
   },
   "outputs": [],
   "source": [
    "X_imputed = pd.read_csv('imputed features_final.csv')\n",
    "Optimal_Gas = pd.read_csv('Optimal target.csv')"
   ]
  },
  {
   "cell_type": "code",
   "execution_count": 4,
   "metadata": {},
   "outputs": [],
   "source": [
    "sub_list = list(Optimal_Gas['SubjectID'])"
   ]
  },
  {
   "cell_type": "code",
   "execution_count": 5,
   "metadata": {},
   "outputs": [],
   "source": [
    "X_imputed = X_imputed[['SubjectID','Age', 'Gender', 'onset_site', 'onset_delta',\n",
    "       'diag_minus_onset', 'slope_alsfrs_tot',\n",
    "       'fvc_slope', 'fvc_mean',  'mean_Q10_Respiratory',\n",
    "       'mean_Bulbar', 'mean_motor', 'slope_Q1_Speech', 'slope_Q2_Salivation',\n",
    "       'slope_Q3_Swallowing', 'slope_Q4_Handwriting', 'slope_Q5_Cutting',\n",
    "       'slope_Q6_Dressing_and_Hygiene', 'slope_Q7_Turning_in_Bed',\n",
    "       'slope_Q8_Walking', 'slope_Q9_Climbing_Stairs', 'slope_Q10_Respiratory']]"
   ]
  },
  {
   "cell_type": "code",
   "execution_count": 6,
   "metadata": {
    "executionInfo": {
     "elapsed": 3424,
     "status": "ok",
     "timestamp": 1621171540090,
     "user": {
      "displayName": "오현지",
      "photoUrl": "",
      "userId": "16924038929183224420"
     },
     "user_tz": -540
    },
    "id": "X8b2kz0ApoGJ"
   },
   "outputs": [],
   "source": [
    "X_imputed.query(\"SubjectID == {0}\".format(sub_list), inplace=True)\n",
    "sub_list_2 = list(X_imputed['SubjectID'])\n",
    "X_imputed = X_imputed.reset_index()\n",
    "X_imputed.drop(columns=['index'], inplace=True)"
   ]
  },
  {
   "cell_type": "code",
   "execution_count": 7,
   "metadata": {
    "colab": {
     "base_uri": "https://localhost:8080/",
     "height": 410
    },
    "executionInfo": {
     "elapsed": 3420,
     "status": "ok",
     "timestamp": 1621171540091,
     "user": {
      "displayName": "오현지",
      "photoUrl": "",
      "userId": "16924038929183224420"
     },
     "user_tz": -540
    },
    "id": "LiB48QxTtZ-5",
    "outputId": "9b5c862d-0e31-420e-d6b3-44e8f145cf68"
   },
   "outputs": [
    {
     "data": {
      "text/html": [
       "<div>\n",
       "<style scoped>\n",
       "    .dataframe tbody tr th:only-of-type {\n",
       "        vertical-align: middle;\n",
       "    }\n",
       "\n",
       "    .dataframe tbody tr th {\n",
       "        vertical-align: top;\n",
       "    }\n",
       "\n",
       "    .dataframe thead th {\n",
       "        text-align: right;\n",
       "    }\n",
       "</style>\n",
       "<table border=\"1\" class=\"dataframe\">\n",
       "  <thead>\n",
       "    <tr style=\"text-align: right;\">\n",
       "      <th></th>\n",
       "      <th>SubjectID</th>\n",
       "      <th>time_opt</th>\n",
       "      <th>status_opt</th>\n",
       "    </tr>\n",
       "  </thead>\n",
       "  <tbody>\n",
       "    <tr>\n",
       "      <th>0</th>\n",
       "      <td>329</td>\n",
       "      <td>274</td>\n",
       "      <td>0</td>\n",
       "    </tr>\n",
       "    <tr>\n",
       "      <th>1</th>\n",
       "      <td>348</td>\n",
       "      <td>401</td>\n",
       "      <td>0</td>\n",
       "    </tr>\n",
       "    <tr>\n",
       "      <th>2</th>\n",
       "      <td>533</td>\n",
       "      <td>287</td>\n",
       "      <td>1</td>\n",
       "    </tr>\n",
       "    <tr>\n",
       "      <th>3</th>\n",
       "      <td>708</td>\n",
       "      <td>231</td>\n",
       "      <td>0</td>\n",
       "    </tr>\n",
       "    <tr>\n",
       "      <th>4</th>\n",
       "      <td>902</td>\n",
       "      <td>154</td>\n",
       "      <td>0</td>\n",
       "    </tr>\n",
       "    <tr>\n",
       "      <th>...</th>\n",
       "      <td>...</td>\n",
       "      <td>...</td>\n",
       "      <td>...</td>\n",
       "    </tr>\n",
       "    <tr>\n",
       "      <th>3387</th>\n",
       "      <td>998519</td>\n",
       "      <td>280</td>\n",
       "      <td>0</td>\n",
       "    </tr>\n",
       "    <tr>\n",
       "      <th>3388</th>\n",
       "      <td>999166</td>\n",
       "      <td>390</td>\n",
       "      <td>0</td>\n",
       "    </tr>\n",
       "    <tr>\n",
       "      <th>3389</th>\n",
       "      <td>999823</td>\n",
       "      <td>184</td>\n",
       "      <td>0</td>\n",
       "    </tr>\n",
       "    <tr>\n",
       "      <th>3390</th>\n",
       "      <td>999880</td>\n",
       "      <td>266</td>\n",
       "      <td>0</td>\n",
       "    </tr>\n",
       "    <tr>\n",
       "      <th>3391</th>\n",
       "      <td>999990</td>\n",
       "      <td>126</td>\n",
       "      <td>0</td>\n",
       "    </tr>\n",
       "  </tbody>\n",
       "</table>\n",
       "<p>3392 rows × 3 columns</p>\n",
       "</div>"
      ],
      "text/plain": [
       "      SubjectID  time_opt  status_opt\n",
       "0           329       274           0\n",
       "1           348       401           0\n",
       "2           533       287           1\n",
       "3           708       231           0\n",
       "4           902       154           0\n",
       "...         ...       ...         ...\n",
       "3387     998519       280           0\n",
       "3388     999166       390           0\n",
       "3389     999823       184           0\n",
       "3390     999880       266           0\n",
       "3391     999990       126           0\n",
       "\n",
       "[3392 rows x 3 columns]"
      ]
     },
     "execution_count": 7,
     "metadata": {},
     "output_type": "execute_result"
    }
   ],
   "source": [
    "Optimal_Gas.query(\"SubjectID == {0}\".format(sub_list_2), inplace=True)\n",
    "Optimal_Gas = Optimal_Gas.reset_index()\n",
    "Optimal_Gas = Optimal_Gas.iloc[:, 1:]\n",
    "Optimal_Gas.drop(columns='Unnamed: 0', inplace=True)"
   ]
  },
  {
   "cell_type": "code",
   "execution_count": 8,
   "metadata": {
    "executionInfo": {
     "elapsed": 3415,
     "status": "ok",
     "timestamp": 1621171540091,
     "user": {
      "displayName": "오현지",
      "photoUrl": "",
      "userId": "16924038929183224420"
     },
     "user_tz": -540
    },
    "id": "-36Cl_cgbLhQ"
   },
   "outputs": [],
   "source": [
    "X_1 = X_imputed.merge(Optimal_Gas, on='SubjectID', how='inner')"
   ]
  },
  {
   "cell_type": "code",
   "execution_count": 9,
   "metadata": {
    "colab": {
     "base_uri": "https://localhost:8080/",
     "height": 430
    },
    "executionInfo": {
     "elapsed": 3412,
     "status": "ok",
     "timestamp": 1621171540092,
     "user": {
      "displayName": "오현지",
      "photoUrl": "",
      "userId": "16924038929183224420"
     },
     "user_tz": -540
    },
    "id": "facW1vlNWShf",
    "outputId": "3debe8a0-8260-4e56-dba5-486cd0400c08"
   },
   "outputs": [],
   "source": [
    "X_1 = X_1[X_1['time_opt']!=0]\n",
    "y = X_1[['status_opt']]\n",
    "X_1.drop(columns='SubjectID', inplace=True)"
   ]
  },
  {
   "cell_type": "code",
   "execution_count": 10,
   "metadata": {
    "executionInfo": {
     "elapsed": 3407,
     "status": "ok",
     "timestamp": 1621171540092,
     "user": {
      "displayName": "오현지",
      "photoUrl": "",
      "userId": "16924038929183224420"
     },
     "user_tz": -540
    },
    "id": "YWvVDWcCbHAn"
   },
   "outputs": [],
   "source": [
    "from sklearn.model_selection import train_test_split\n",
    "\n",
    "df_train, df_test, y_train, y_test = train_test_split(X_1, y, train_size=0.8, test_size=0.2, random_state=11)"
   ]
  },
  {
   "cell_type": "markdown",
   "metadata": {
    "id": "5FP16qtxb03h"
   },
   "source": [
    "모델 적용하기"
   ]
  },
  {
   "cell_type": "code",
   "execution_count": 11,
   "metadata": {
    "colab": {
     "base_uri": "https://localhost:8080/",
     "height": 1000
    },
    "executionInfo": {
     "elapsed": 6970,
     "status": "ok",
     "timestamp": 1621171543664,
     "user": {
      "displayName": "오현지",
      "photoUrl": "",
      "userId": "16924038929183224420"
     },
     "user_tz": -540
    },
    "id": "2z3NxtD8bssF",
    "outputId": "2cb5d854-ec47-4cd6-ef98-00b59b3861b5"
   },
   "outputs": [
    {
     "data": {
      "text/html": [
       "<div>\n",
       "<style scoped>\n",
       "    .dataframe tbody tr th:only-of-type {\n",
       "        vertical-align: middle;\n",
       "    }\n",
       "\n",
       "    .dataframe tbody tr th {\n",
       "        vertical-align: top;\n",
       "    }\n",
       "\n",
       "    .dataframe thead th {\n",
       "        text-align: right;\n",
       "    }\n",
       "</style>\n",
       "<table border=\"1\" class=\"dataframe\">\n",
       "  <tbody>\n",
       "    <tr>\n",
       "      <th>model</th>\n",
       "      <td>lifelines.CoxPHFitter</td>\n",
       "    </tr>\n",
       "    <tr>\n",
       "      <th>duration col</th>\n",
       "      <td>'time_opt'</td>\n",
       "    </tr>\n",
       "    <tr>\n",
       "      <th>event col</th>\n",
       "      <td>'status_opt'</td>\n",
       "    </tr>\n",
       "    <tr>\n",
       "      <th>penalizer</th>\n",
       "      <td>0.01</td>\n",
       "    </tr>\n",
       "    <tr>\n",
       "      <th>l1 ratio</th>\n",
       "      <td>0</td>\n",
       "    </tr>\n",
       "    <tr>\n",
       "      <th>baseline estimation</th>\n",
       "      <td>breslow</td>\n",
       "    </tr>\n",
       "    <tr>\n",
       "      <th>number of observations</th>\n",
       "      <td>2713</td>\n",
       "    </tr>\n",
       "    <tr>\n",
       "      <th>number of events observed</th>\n",
       "      <td>529</td>\n",
       "    </tr>\n",
       "    <tr>\n",
       "      <th>partial log-likelihood</th>\n",
       "      <td>-3378.51</td>\n",
       "    </tr>\n",
       "    <tr>\n",
       "      <th>time fit was run</th>\n",
       "      <td>2021-05-16 16:23:31 UTC</td>\n",
       "    </tr>\n",
       "  </tbody>\n",
       "</table>\n",
       "</div><table border=\"1\" class=\"dataframe\">\n",
       "  <thead>\n",
       "    <tr style=\"text-align: right;\">\n",
       "      <th style=\"min-width: 12px;\"></th>\n",
       "      <th style=\"min-width: 12px;\">coef</th>\n",
       "      <th style=\"min-width: 12px;\">exp(coef)</th>\n",
       "      <th style=\"min-width: 12px;\">se(coef)</th>\n",
       "      <th style=\"min-width: 12px;\">coef lower 95%</th>\n",
       "      <th style=\"min-width: 12px;\">coef upper 95%</th>\n",
       "      <th style=\"min-width: 12px;\">exp(coef) lower 95%</th>\n",
       "      <th style=\"min-width: 12px;\">exp(coef) upper 95%</th>\n",
       "      <th style=\"min-width: 12px;\">z</th>\n",
       "      <th style=\"min-width: 12px;\">p</th>\n",
       "      <th style=\"min-width: 12px;\">-log2(p)</th>\n",
       "    </tr>\n",
       "  </thead>\n",
       "  <tbody>\n",
       "    <tr>\n",
       "      <th>Age</th>\n",
       "      <td>0.02</td>\n",
       "      <td>1.03</td>\n",
       "      <td>0.00</td>\n",
       "      <td>0.02</td>\n",
       "      <td>0.03</td>\n",
       "      <td>1.02</td>\n",
       "      <td>1.03</td>\n",
       "      <td>6.20</td>\n",
       "      <td>&lt;0.005</td>\n",
       "      <td>30.74</td>\n",
       "    </tr>\n",
       "    <tr>\n",
       "      <th>Gender</th>\n",
       "      <td>-0.14</td>\n",
       "      <td>0.87</td>\n",
       "      <td>0.09</td>\n",
       "      <td>-0.31</td>\n",
       "      <td>0.04</td>\n",
       "      <td>0.73</td>\n",
       "      <td>1.04</td>\n",
       "      <td>-1.52</td>\n",
       "      <td>0.13</td>\n",
       "      <td>2.97</td>\n",
       "    </tr>\n",
       "    <tr>\n",
       "      <th>onset_site</th>\n",
       "      <td>0.38</td>\n",
       "      <td>1.46</td>\n",
       "      <td>0.12</td>\n",
       "      <td>0.13</td>\n",
       "      <td>0.62</td>\n",
       "      <td>1.14</td>\n",
       "      <td>1.86</td>\n",
       "      <td>3.03</td>\n",
       "      <td>&lt;0.005</td>\n",
       "      <td>8.69</td>\n",
       "    </tr>\n",
       "    <tr>\n",
       "      <th>onset_delta</th>\n",
       "      <td>0.00</td>\n",
       "      <td>1.00</td>\n",
       "      <td>0.00</td>\n",
       "      <td>0.00</td>\n",
       "      <td>0.00</td>\n",
       "      <td>1.00</td>\n",
       "      <td>1.00</td>\n",
       "      <td>5.84</td>\n",
       "      <td>&lt;0.005</td>\n",
       "      <td>27.48</td>\n",
       "    </tr>\n",
       "    <tr>\n",
       "      <th>diag_minus_onset</th>\n",
       "      <td>0.00</td>\n",
       "      <td>1.00</td>\n",
       "      <td>0.00</td>\n",
       "      <td>-0.00</td>\n",
       "      <td>0.00</td>\n",
       "      <td>1.00</td>\n",
       "      <td>1.00</td>\n",
       "      <td>1.44</td>\n",
       "      <td>0.15</td>\n",
       "      <td>2.74</td>\n",
       "    </tr>\n",
       "    <tr>\n",
       "      <th>slope_alsfrs_tot</th>\n",
       "      <td>-1.64</td>\n",
       "      <td>0.19</td>\n",
       "      <td>1.80</td>\n",
       "      <td>-5.16</td>\n",
       "      <td>1.88</td>\n",
       "      <td>0.01</td>\n",
       "      <td>6.58</td>\n",
       "      <td>-0.91</td>\n",
       "      <td>0.36</td>\n",
       "      <td>1.46</td>\n",
       "    </tr>\n",
       "    <tr>\n",
       "      <th>fvc_slope</th>\n",
       "      <td>-0.46</td>\n",
       "      <td>0.63</td>\n",
       "      <td>0.14</td>\n",
       "      <td>-0.73</td>\n",
       "      <td>-0.19</td>\n",
       "      <td>0.48</td>\n",
       "      <td>0.82</td>\n",
       "      <td>-3.39</td>\n",
       "      <td>&lt;0.005</td>\n",
       "      <td>10.48</td>\n",
       "    </tr>\n",
       "    <tr>\n",
       "      <th>fvc_mean</th>\n",
       "      <td>-0.01</td>\n",
       "      <td>0.99</td>\n",
       "      <td>0.00</td>\n",
       "      <td>-0.02</td>\n",
       "      <td>-0.01</td>\n",
       "      <td>0.98</td>\n",
       "      <td>0.99</td>\n",
       "      <td>-4.73</td>\n",
       "      <td>&lt;0.005</td>\n",
       "      <td>18.78</td>\n",
       "    </tr>\n",
       "    <tr>\n",
       "      <th>mean_Q10_Respiratory</th>\n",
       "      <td>0.05</td>\n",
       "      <td>1.05</td>\n",
       "      <td>0.07</td>\n",
       "      <td>-0.08</td>\n",
       "      <td>0.19</td>\n",
       "      <td>0.92</td>\n",
       "      <td>1.21</td>\n",
       "      <td>0.76</td>\n",
       "      <td>0.45</td>\n",
       "      <td>1.15</td>\n",
       "    </tr>\n",
       "    <tr>\n",
       "      <th>mean_Bulbar</th>\n",
       "      <td>-0.48</td>\n",
       "      <td>0.62</td>\n",
       "      <td>0.04</td>\n",
       "      <td>-0.55</td>\n",
       "      <td>-0.42</td>\n",
       "      <td>0.58</td>\n",
       "      <td>0.66</td>\n",
       "      <td>-13.82</td>\n",
       "      <td>&lt;0.005</td>\n",
       "      <td>141.95</td>\n",
       "    </tr>\n",
       "    <tr>\n",
       "      <th>mean_motor</th>\n",
       "      <td>-0.04</td>\n",
       "      <td>0.96</td>\n",
       "      <td>0.01</td>\n",
       "      <td>-0.06</td>\n",
       "      <td>-0.02</td>\n",
       "      <td>0.94</td>\n",
       "      <td>0.98</td>\n",
       "      <td>-3.78</td>\n",
       "      <td>&lt;0.005</td>\n",
       "      <td>12.66</td>\n",
       "    </tr>\n",
       "    <tr>\n",
       "      <th>slope_Q1_Speech</th>\n",
       "      <td>-4.05</td>\n",
       "      <td>0.02</td>\n",
       "      <td>3.39</td>\n",
       "      <td>-10.69</td>\n",
       "      <td>2.59</td>\n",
       "      <td>0.00</td>\n",
       "      <td>13.29</td>\n",
       "      <td>-1.20</td>\n",
       "      <td>0.23</td>\n",
       "      <td>2.11</td>\n",
       "    </tr>\n",
       "    <tr>\n",
       "      <th>slope_Q2_Salivation</th>\n",
       "      <td>-7.15</td>\n",
       "      <td>0.00</td>\n",
       "      <td>3.57</td>\n",
       "      <td>-14.16</td>\n",
       "      <td>-0.15</td>\n",
       "      <td>0.00</td>\n",
       "      <td>0.86</td>\n",
       "      <td>-2.00</td>\n",
       "      <td>0.05</td>\n",
       "      <td>4.47</td>\n",
       "    </tr>\n",
       "    <tr>\n",
       "      <th>slope_Q3_Swallowing</th>\n",
       "      <td>0.12</td>\n",
       "      <td>1.12</td>\n",
       "      <td>3.70</td>\n",
       "      <td>-7.13</td>\n",
       "      <td>7.36</td>\n",
       "      <td>0.00</td>\n",
       "      <td>1578.99</td>\n",
       "      <td>0.03</td>\n",
       "      <td>0.98</td>\n",
       "      <td>0.04</td>\n",
       "    </tr>\n",
       "    <tr>\n",
       "      <th>slope_Q4_Handwriting</th>\n",
       "      <td>5.09</td>\n",
       "      <td>162.71</td>\n",
       "      <td>3.43</td>\n",
       "      <td>-1.62</td>\n",
       "      <td>11.81</td>\n",
       "      <td>0.20</td>\n",
       "      <td>1.34e+05</td>\n",
       "      <td>1.49</td>\n",
       "      <td>0.14</td>\n",
       "      <td>2.86</td>\n",
       "    </tr>\n",
       "    <tr>\n",
       "      <th>slope_Q5_Cutting</th>\n",
       "      <td>2.37</td>\n",
       "      <td>10.73</td>\n",
       "      <td>3.00</td>\n",
       "      <td>-3.51</td>\n",
       "      <td>8.26</td>\n",
       "      <td>0.03</td>\n",
       "      <td>3850.35</td>\n",
       "      <td>0.79</td>\n",
       "      <td>0.43</td>\n",
       "      <td>1.22</td>\n",
       "    </tr>\n",
       "    <tr>\n",
       "      <th>slope_Q6_Dressing_and_Hygiene</th>\n",
       "      <td>-6.69</td>\n",
       "      <td>0.00</td>\n",
       "      <td>3.96</td>\n",
       "      <td>-14.46</td>\n",
       "      <td>1.08</td>\n",
       "      <td>0.00</td>\n",
       "      <td>2.94</td>\n",
       "      <td>-1.69</td>\n",
       "      <td>0.09</td>\n",
       "      <td>3.45</td>\n",
       "    </tr>\n",
       "    <tr>\n",
       "      <th>slope_Q7_Turning_in_Bed</th>\n",
       "      <td>2.52</td>\n",
       "      <td>12.40</td>\n",
       "      <td>1.70</td>\n",
       "      <td>-0.81</td>\n",
       "      <td>5.85</td>\n",
       "      <td>0.44</td>\n",
       "      <td>346.43</td>\n",
       "      <td>1.48</td>\n",
       "      <td>0.14</td>\n",
       "      <td>2.85</td>\n",
       "    </tr>\n",
       "    <tr>\n",
       "      <th>slope_Q8_Walking</th>\n",
       "      <td>-2.23</td>\n",
       "      <td>0.11</td>\n",
       "      <td>4.42</td>\n",
       "      <td>-10.90</td>\n",
       "      <td>6.43</td>\n",
       "      <td>0.00</td>\n",
       "      <td>621.38</td>\n",
       "      <td>-0.51</td>\n",
       "      <td>0.61</td>\n",
       "      <td>0.71</td>\n",
       "    </tr>\n",
       "    <tr>\n",
       "      <th>slope_Q9_Climbing_Stairs</th>\n",
       "      <td>0.77</td>\n",
       "      <td>2.17</td>\n",
       "      <td>2.80</td>\n",
       "      <td>-4.70</td>\n",
       "      <td>6.25</td>\n",
       "      <td>0.01</td>\n",
       "      <td>519.90</td>\n",
       "      <td>0.28</td>\n",
       "      <td>0.78</td>\n",
       "      <td>0.36</td>\n",
       "    </tr>\n",
       "    <tr>\n",
       "      <th>slope_Q10_Respiratory</th>\n",
       "      <td>3.53</td>\n",
       "      <td>34.10</td>\n",
       "      <td>3.36</td>\n",
       "      <td>-3.06</td>\n",
       "      <td>10.12</td>\n",
       "      <td>0.05</td>\n",
       "      <td>24788.45</td>\n",
       "      <td>1.05</td>\n",
       "      <td>0.29</td>\n",
       "      <td>1.77</td>\n",
       "    </tr>\n",
       "    <tr>\n",
       "      <th>Unnamed: 0</th>\n",
       "      <td>-0.00</td>\n",
       "      <td>1.00</td>\n",
       "      <td>0.00</td>\n",
       "      <td>-0.00</td>\n",
       "      <td>0.00</td>\n",
       "      <td>1.00</td>\n",
       "      <td>1.00</td>\n",
       "      <td>-0.43</td>\n",
       "      <td>0.67</td>\n",
       "      <td>0.59</td>\n",
       "    </tr>\n",
       "  </tbody>\n",
       "</table><br><div>\n",
       "<style scoped>\n",
       "    .dataframe tbody tr th:only-of-type {\n",
       "        vertical-align: middle;\n",
       "    }\n",
       "\n",
       "    .dataframe tbody tr th {\n",
       "        vertical-align: top;\n",
       "    }\n",
       "\n",
       "    .dataframe thead th {\n",
       "        text-align: right;\n",
       "    }\n",
       "</style>\n",
       "<table border=\"1\" class=\"dataframe\">\n",
       "  <tbody>\n",
       "    <tr>\n",
       "      <th>Concordance</th>\n",
       "      <td>0.85</td>\n",
       "    </tr>\n",
       "    <tr>\n",
       "      <th>Partial AIC</th>\n",
       "      <td>6801.03</td>\n",
       "    </tr>\n",
       "    <tr>\n",
       "      <th>log-likelihood ratio test</th>\n",
       "      <td>712.96 on 22 df</td>\n",
       "    </tr>\n",
       "    <tr>\n",
       "      <th>-log2(p) of ll-ratio test</th>\n",
       "      <td>451.27</td>\n",
       "    </tr>\n",
       "  </tbody>\n",
       "</table>\n",
       "</div>"
      ],
      "text/latex": [
       "\\begin{tabular}{lrrrrrrrrrr}\n",
       "\\toprule\n",
       "{} &  coef &  exp(coef) &  se(coef) &  coef lower 95\\% &  coef upper 95\\% &  exp(coef) lower 95\\% &  exp(coef) upper 95\\% &      z &    p &  -log2(p) \\\\\n",
       "covariate                     &       &            &           &                 &                 &                      &                      &        &      &           \\\\\n",
       "\\midrule\n",
       "Age                           &  0.02 &       1.03 &      0.00 &            0.02 &            0.03 &                 1.02 &                 1.03 &   6.20 & 0.00 &     30.74 \\\\\n",
       "Gender                        & -0.14 &       0.87 &      0.09 &           -0.31 &            0.04 &                 0.73 &                 1.04 &  -1.52 & 0.13 &      2.97 \\\\\n",
       "onset\\_site                    &  0.38 &       1.46 &      0.12 &            0.13 &            0.62 &                 1.14 &                 1.86 &   3.03 & 0.00 &      8.69 \\\\\n",
       "onset\\_delta                   &  0.00 &       1.00 &      0.00 &            0.00 &            0.00 &                 1.00 &                 1.00 &   5.84 & 0.00 &     27.48 \\\\\n",
       "diag\\_minus\\_onset              &  0.00 &       1.00 &      0.00 &           -0.00 &            0.00 &                 1.00 &                 1.00 &   1.44 & 0.15 &      2.74 \\\\\n",
       "slope\\_alsfrs\\_tot              & -1.64 &       0.19 &      1.80 &           -5.16 &            1.88 &                 0.01 &                 6.58 &  -0.91 & 0.36 &      1.46 \\\\\n",
       "fvc\\_slope                     & -0.46 &       0.63 &      0.14 &           -0.73 &           -0.19 &                 0.48 &                 0.82 &  -3.39 & 0.00 &     10.48 \\\\\n",
       "fvc\\_mean                      & -0.01 &       0.99 &      0.00 &           -0.02 &           -0.01 &                 0.98 &                 0.99 &  -4.73 & 0.00 &     18.78 \\\\\n",
       "mean\\_Q10\\_Respiratory          &  0.05 &       1.05 &      0.07 &           -0.08 &            0.19 &                 0.92 &                 1.21 &   0.76 & 0.45 &      1.15 \\\\\n",
       "mean\\_Bulbar                   & -0.48 &       0.62 &      0.04 &           -0.55 &           -0.42 &                 0.58 &                 0.66 & -13.82 & 0.00 &    141.95 \\\\\n",
       "mean\\_motor                    & -0.04 &       0.96 &      0.01 &           -0.06 &           -0.02 &                 0.94 &                 0.98 &  -3.78 & 0.00 &     12.66 \\\\\n",
       "slope\\_Q1\\_Speech               & -4.05 &       0.02 &      3.39 &          -10.69 &            2.59 &                 0.00 &                13.29 &  -1.20 & 0.23 &      2.11 \\\\\n",
       "slope\\_Q2\\_Salivation           & -7.15 &       0.00 &      3.57 &          -14.16 &           -0.15 &                 0.00 &                 0.86 &  -2.00 & 0.05 &      4.47 \\\\\n",
       "slope\\_Q3\\_Swallowing           &  0.12 &       1.12 &      3.70 &           -7.13 &            7.36 &                 0.00 &              1578.99 &   0.03 & 0.98 &      0.04 \\\\\n",
       "slope\\_Q4\\_Handwriting          &  5.09 &     162.71 &      3.43 &           -1.62 &           11.81 &                 0.20 &            134290.88 &   1.49 & 0.14 &      2.86 \\\\\n",
       "slope\\_Q5\\_Cutting              &  2.37 &      10.73 &      3.00 &           -3.51 &            8.26 &                 0.03 &              3850.35 &   0.79 & 0.43 &      1.22 \\\\\n",
       "slope\\_Q6\\_Dressing\\_and\\_Hygiene & -6.69 &       0.00 &      3.96 &          -14.46 &            1.08 &                 0.00 &                 2.94 &  -1.69 & 0.09 &      3.45 \\\\\n",
       "slope\\_Q7\\_Turning\\_in\\_Bed       &  2.52 &      12.40 &      1.70 &           -0.81 &            5.85 &                 0.44 &               346.43 &   1.48 & 0.14 &      2.85 \\\\\n",
       "slope\\_Q8\\_Walking              & -2.23 &       0.11 &      4.42 &          -10.90 &            6.43 &                 0.00 &               621.38 &  -0.51 & 0.61 &      0.71 \\\\\n",
       "slope\\_Q9\\_Climbing\\_Stairs      &  0.77 &       2.17 &      2.80 &           -4.70 &            6.25 &                 0.01 &               519.90 &   0.28 & 0.78 &      0.36 \\\\\n",
       "slope\\_Q10\\_Respiratory         &  3.53 &      34.10 &      3.36 &           -3.06 &           10.12 &                 0.05 &             24788.45 &   1.05 & 0.29 &      1.77 \\\\\n",
       "Unnamed: 0                    & -0.00 &       1.00 &      0.00 &           -0.00 &            0.00 &                 1.00 &                 1.00 &  -0.43 & 0.67 &      0.59 \\\\\n",
       "\\bottomrule\n",
       "\\end{tabular}\n"
      ],
      "text/plain": [
       "<lifelines.CoxPHFitter: fitted with 2713 total observations, 2184 right-censored observations>\n",
       "             duration col = 'time_opt'\n",
       "                event col = 'status_opt'\n",
       "                penalizer = 0.01\n",
       "                 l1 ratio = 0.0\n",
       "      baseline estimation = breslow\n",
       "   number of observations = 2713\n",
       "number of events observed = 529\n",
       "   partial log-likelihood = -3378.51\n",
       "         time fit was run = 2021-05-16 16:23:31 UTC\n",
       "\n",
       "---\n",
       "                                coef  exp(coef)   se(coef)   coef lower 95%   coef upper 95%  exp(coef) lower 95%  exp(coef) upper 95%\n",
       "covariate                                                                                                                             \n",
       "Age                             0.02       1.03       0.00             0.02             0.03                 1.02                 1.03\n",
       "Gender                         -0.14       0.87       0.09            -0.31             0.04                 0.73                 1.04\n",
       "onset_site                      0.38       1.46       0.12             0.13             0.62                 1.14                 1.86\n",
       "onset_delta                     0.00       1.00       0.00             0.00             0.00                 1.00                 1.00\n",
       "diag_minus_onset                0.00       1.00       0.00            -0.00             0.00                 1.00                 1.00\n",
       "slope_alsfrs_tot               -1.64       0.19       1.80            -5.16             1.88                 0.01                 6.58\n",
       "fvc_slope                      -0.46       0.63       0.14            -0.73            -0.19                 0.48                 0.82\n",
       "fvc_mean                       -0.01       0.99       0.00            -0.02            -0.01                 0.98                 0.99\n",
       "mean_Q10_Respiratory            0.05       1.05       0.07            -0.08             0.19                 0.92                 1.21\n",
       "mean_Bulbar                    -0.48       0.62       0.04            -0.55            -0.42                 0.58                 0.66\n",
       "mean_motor                     -0.04       0.96       0.01            -0.06            -0.02                 0.94                 0.98\n",
       "slope_Q1_Speech                -4.05       0.02       3.39           -10.69             2.59                 0.00                13.29\n",
       "slope_Q2_Salivation            -7.15       0.00       3.57           -14.16            -0.15                 0.00                 0.86\n",
       "slope_Q3_Swallowing             0.12       1.12       3.70            -7.13             7.36                 0.00              1578.99\n",
       "slope_Q4_Handwriting            5.09     162.71       3.43            -1.62            11.81                 0.20             1.34e+05\n",
       "slope_Q5_Cutting                2.37      10.73       3.00            -3.51             8.26                 0.03              3850.35\n",
       "slope_Q6_Dressing_and_Hygiene  -6.69       0.00       3.96           -14.46             1.08                 0.00                 2.94\n",
       "slope_Q7_Turning_in_Bed         2.52      12.40       1.70            -0.81             5.85                 0.44               346.43\n",
       "slope_Q8_Walking               -2.23       0.11       4.42           -10.90             6.43                 0.00               621.38\n",
       "slope_Q9_Climbing_Stairs        0.77       2.17       2.80            -4.70             6.25                 0.01               519.90\n",
       "slope_Q10_Respiratory           3.53      34.10       3.36            -3.06            10.12                 0.05             24788.45\n",
       "Unnamed: 0                     -0.00       1.00       0.00            -0.00             0.00                 1.00                 1.00\n",
       "\n",
       "                                   z      p   -log2(p)\n",
       "covariate                                             \n",
       "Age                             6.20 <0.005      30.74\n",
       "Gender                         -1.52   0.13       2.97\n",
       "onset_site                      3.03 <0.005       8.69\n",
       "onset_delta                     5.84 <0.005      27.48\n",
       "diag_minus_onset                1.44   0.15       2.74\n",
       "slope_alsfrs_tot               -0.91   0.36       1.46\n",
       "fvc_slope                      -3.39 <0.005      10.48\n",
       "fvc_mean                       -4.73 <0.005      18.78\n",
       "mean_Q10_Respiratory            0.76   0.45       1.15\n",
       "mean_Bulbar                   -13.82 <0.005     141.95\n",
       "mean_motor                     -3.78 <0.005      12.66\n",
       "slope_Q1_Speech                -1.20   0.23       2.11\n",
       "slope_Q2_Salivation            -2.00   0.05       4.47\n",
       "slope_Q3_Swallowing             0.03   0.98       0.04\n",
       "slope_Q4_Handwriting            1.49   0.14       2.86\n",
       "slope_Q5_Cutting                0.79   0.43       1.22\n",
       "slope_Q6_Dressing_and_Hygiene  -1.69   0.09       3.45\n",
       "slope_Q7_Turning_in_Bed         1.48   0.14       2.85\n",
       "slope_Q8_Walking               -0.51   0.61       0.71\n",
       "slope_Q9_Climbing_Stairs        0.28   0.78       0.36\n",
       "slope_Q10_Respiratory           1.05   0.29       1.77\n",
       "Unnamed: 0                     -0.43   0.67       0.59\n",
       "---\n",
       "Concordance = 0.85\n",
       "Partial AIC = 6801.03\n",
       "log-likelihood ratio test = 712.96 on 22 df\n",
       "-log2(p) of ll-ratio test = 451.27"
      ]
     },
     "metadata": {},
     "output_type": "display_data"
    }
   ],
   "source": [
    "from lifelines import CoxPHFitter\n",
    "cph = CoxPHFitter(penalizer=0.01)\n",
    "cph.fit(df_train, 'time_opt', event_col='status_opt')\n",
    "cph.print_summary()"
   ]
  },
  {
   "cell_type": "code",
   "execution_count": 12,
   "metadata": {
    "colab": {
     "base_uri": "https://localhost:8080/",
     "height": 623
    },
    "executionInfo": {
     "elapsed": 7720,
     "status": "ok",
     "timestamp": 1621171544417,
     "user": {
      "displayName": "오현지",
      "photoUrl": "",
      "userId": "16924038929183224420"
     },
     "user_tz": -540
    },
    "id": "kK8CB4oXcWZp",
    "outputId": "6a8cc124-fd70-4bfb-a0b4-4b7a90af92c1"
   },
   "outputs": [
    {
     "data": {
      "text/plain": [
       "<AxesSubplot:xlabel='log(HR) (95% CI)'>"
      ]
     },
     "execution_count": 12,
     "metadata": {},
     "output_type": "execute_result"
    },
    {
     "data": {
      "image/png": "[encoded data removed]",
      "text/plain": [
       "<Figure size 1080x720 with 1 Axes>"
      ]
     },
     "metadata": {
      "needs_background": "light"
     },
     "output_type": "display_data"
    }
   ],
   "source": [
    "plt.figure(figsize=(15,10))\n",
    "cph.plot()\n",
    "#HR >1, 즉 log(HR)>0 이면 사망 위험 증가를 뜻함"
   ]
  },
  {
   "cell_type": "markdown",
   "metadata": {},
   "source": [
    "## 1-2. Random Survival Forest model"
   ]
  },
  {
   "cell_type": "code",
   "execution_count": 13,
   "metadata": {
    "colab": {
     "base_uri": "https://localhost:8080/",
     "height": 134
    },
    "executionInfo": {
     "elapsed": 1195,
     "status": "error",
     "timestamp": 1621172093143,
     "user": {
      "displayName": "오현지",
      "photoUrl": "",
      "userId": "16924038929183224420"
     },
     "user_tz": -540
    },
    "id": "DQoElruRYOQX",
    "outputId": "2e67e4ef-b07f-42ac-de59-31bb1305d9b5"
   },
   "outputs": [
    {
     "name": "stdout",
     "output_type": "stream",
     "text": [
      "Collecting package metadata (current_repodata.json): ...working... done\n",
      "Solving environment: ...working... done\n",
      "\n",
      "# All requested packages already installed.\n",
      "\n",
      "\n",
      "Note: you may need to restart the kernel to use updated packages.\n"
     ]
    }
   ],
   "source": [
    "conda install -c sebp scikit-survival"
   ]
  },
  {
   "cell_type": "code",
   "execution_count": 14,
   "metadata": {
    "colab": {
     "base_uri": "https://localhost:8080/",
     "height": 310
    },
    "executionInfo": {
     "elapsed": 64147,
     "status": "error",
     "timestamp": 1621171600873,
     "user": {
      "displayName": "오현지",
      "photoUrl": "",
      "userId": "16924038929183224420"
     },
     "user_tz": -540
    },
    "id": "AJqDqDlrj4DV",
    "outputId": "aefe13f7-913d-4e25-b83c-4779b1ad7b27"
   },
   "outputs": [],
   "source": [
    "from sksurv.ensemble import RandomSurvivalForest"
   ]
  },
  {
   "cell_type": "code",
   "execution_count": 15,
   "metadata": {
    "executionInfo": {
     "elapsed": 63364,
     "status": "aborted",
     "timestamp": 1621171600093,
     "user": {
      "displayName": "오현지",
      "photoUrl": "",
      "userId": "16924038929183224420"
     },
     "user_tz": -540
    },
    "id": "1NO1XMsHr26W"
   },
   "outputs": [],
   "source": [
    "dic = {1:True, 0:False}\n",
    "\n",
    "df_train_rsf = df_train.iloc[:, -2:][['status_opt', 'time_opt']]\n",
    "df_train_rsf = df_train_rsf.replace({'status_opt':dic})"
   ]
  },
  {
   "cell_type": "code",
   "execution_count": 16,
   "metadata": {
    "executionInfo": {
     "elapsed": 63361,
     "status": "aborted",
     "timestamp": 1621171600094,
     "user": {
      "displayName": "오현지",
      "photoUrl": "",
      "userId": "16924038929183224420"
     },
     "user_tz": -540
    },
    "id": "BQ0luQnTv9PW"
   },
   "outputs": [
    {
     "data": {
      "text/plain": [
       "array([(False,  267.), ( True,  265.), (False,  266.), ...,\n",
       "       (False, 1082.), ( True,  105.), (False,  368.)],\n",
       "      dtype=[('cens', '?'), ('time', '<f8')])"
      ]
     },
     "execution_count": 16,
     "metadata": {},
     "output_type": "execute_result"
    }
   ],
   "source": [
    "arr_1 = list(tuple(x) for x in df_train_rsf.to_records(index=False))\n",
    "dt=np.dtype('bool, float')\n",
    "y_train_rsf = np.array(arr_1, dtype=dt)\n",
    "y_train_rsf.dtype.names=['cens', 'time']\n",
    "y_train_rsf"
   ]
  },
  {
   "cell_type": "code",
   "execution_count": 17,
   "metadata": {},
   "outputs": [],
   "source": [
    "df_test_rsf = df_test.iloc[:, -2:][['status_opt', 'time_opt']]\n",
    "df_test_rsf = df_test_rsf.replace({'status_opt':dic})"
   ]
  },
  {
   "cell_type": "code",
   "execution_count": 18,
   "metadata": {
    "collapsed": true
   },
   "outputs": [
    {
     "data": {
      "text/plain": [
       "array([(False,  373.), (False,  327.), (False,  392.), ( True,  180.),\n",
       "       (False,  245.), (False,  344.), (False,  704.), (False,  326.),\n",
       "       ( True,  392.), (False,  429.), (False,  392.), (False,  495.),\n",
       "       (False,  269.), (False,  125.), (False,  273.), (False,  271.),\n",
       "       (False,  308.), (False,  372.), (False,  365.), ( True,  188.),\n",
       "       (False,  374.), (False,  450.), (False,  392.), (False,  259.),\n",
       "       (False,  117.), ( True,  368.), ( True,  362.), (False,  259.),\n",
       "       (False,  253.), (False,  154.), ( True,  471.), (False,  277.),\n",
       "       (False,  182.), (False,  392.), (False,  415.), (False,  133.),\n",
       "       (False,  161.), (False,  275.), ( True,  175.), (False,  141.),\n",
       "       (False,  385.), (False,  378.), ( True,  573.), (False,  118.),\n",
       "       (False,  327.), (False,  385.), (False,  134.), ( True,  287.),\n",
       "       (False,  344.), (False,  373.), (False,  425.), (False,  323.),\n",
       "       (False,  391.), ( True,  163.), (False,  266.), (False,  442.),\n",
       "       (False,  127.), ( True,  381.), (False,  277.), (False,  351.),\n",
       "       ( True,  329.), (False,  393.), (False,  361.), (False,  337.),\n",
       "       (False,  412.), (False,  127.), (False,  279.), (False,  270.),\n",
       "       (False,  266.), (False,  125.), ( True,  226.), (False,  511.),\n",
       "       (False,  361.), (False,  277.), (False,  125.), ( True,  371.),\n",
       "       ( True,  353.), (False,  212.), (False,  134.), (False,  209.),\n",
       "       (False, 1188.), (False,  434.), (False,  475.), ( True,  298.),\n",
       "       ( True,  256.), (False,  359.), (False,  285.), (False,  443.),\n",
       "       (False,  289.), ( True,  259.), (False,  317.), (False,  650.),\n",
       "       ( True,  123.), (False,  203.), (False,  263.), (False,  125.),\n",
       "       (False,  399.), (False,  384.), (False,  210.), ( True,  182.),\n",
       "       ( True,   96.), (False,  470.), ( True,  286.), (False,  274.),\n",
       "       (False,  481.), (False,  106.), ( True,  308.), (False,  416.),\n",
       "       (False,  382.), (False,  273.), (False,  307.), (False,  144.),\n",
       "       (False,  119.), (False,  343.), (False,  192.), (False,  434.),\n",
       "       (False,  407.), (False,  203.), (False,  370.), (False,  417.),\n",
       "       (False,  367.), (False,  325.), (False,  329.), ( True,  217.),\n",
       "       (False,  288.), (False,  174.), ( True,  353.), (False,  334.),\n",
       "       (False,  134.), ( True,  138.), ( True,  382.), (False,  323.),\n",
       "       (False,  117.), (False,  330.), (False,  326.), (False,  395.),\n",
       "       ( True,  357.), (False,  304.), ( True,  189.), ( True,  968.),\n",
       "       (False,  297.), (False,  116.), (False,  485.), (False,  378.),\n",
       "       (False,  126.), (False,  399.), (False,  355.), ( True,  259.),\n",
       "       (False,  230.), (False,  372.), (False,  561.), (False,  279.),\n",
       "       (False,  449.), (False,  196.), (False,  164.), (False,  284.),\n",
       "       ( True,  510.), (False,  329.), (False,  133.), (False,  399.),\n",
       "       (False,  490.), (False,  240.), (False,  341.), (False,  294.),\n",
       "       (False,  407.), (False,  406.), (False,  406.), (False,  266.),\n",
       "       (False,  382.), (False,   98.), (False,  566.), (False,   98.),\n",
       "       (False,  266.), (False,  455.), (False,  245.), (False,  371.),\n",
       "       (False,  160.), (False,  434.), (False,  370.), (False,   98.),\n",
       "       (False,  394.), (False,  370.), ( True,  253.), (False,  252.),\n",
       "       (False,  242.), (False,  267.), (False,  278.), (False,  492.),\n",
       "       (False,  384.), (False,  372.), (False,  376.), (False,  422.),\n",
       "       (False,  309.), ( True,  391.), (False,  392.), (False,  392.),\n",
       "       (False,  364.), (False,  235.), (False,  180.), (False,  279.),\n",
       "       (False,  242.), (False,  463.), (False,  371.), (False,  401.),\n",
       "       (False,  315.), (False,  377.), (False,  480.), (False,  361.),\n",
       "       (False,  123.), (False,  264.), (False,  178.), ( True,  404.),\n",
       "       ( True,  514.), (False,  416.), ( True,  378.), (False,  266.),\n",
       "       (False,  492.), (False,  159.), ( True,  585.), ( True,  126.),\n",
       "       (False,  381.), (False,  257.), (False,  364.), (False,  281.),\n",
       "       (False,  238.), (False,  147.), ( True,  149.), (False,  404.),\n",
       "       (False,  105.), ( True,  237.), (False,  379.), (False,  317.),\n",
       "       (False,   93.), (False,  280.), ( True,  242.), (False,  181.),\n",
       "       (False,  371.), ( True,  240.), ( True,  268.), (False,  376.),\n",
       "       (False,  392.), (False,  259.), ( True,  187.), (False,  272.),\n",
       "       (False,  184.), (False,  266.), ( True,  279.), (False,  276.),\n",
       "       (False,  371.), (False,  435.), (False,  126.), (False,  156.),\n",
       "       ( True,  238.), ( True,  294.), (False,  299.), (False,  511.),\n",
       "       ( True,  102.), (False,  399.), ( True,  193.), (False,  470.),\n",
       "       (False,  641.), (False,  595.), (False,   98.), (False,  276.),\n",
       "       (False,  364.), (False,  268.), (False,  390.), (False,  154.),\n",
       "       (False,  374.), ( True,  288.), (False,  132.), (False,  455.),\n",
       "       (False,  385.), (False,  277.), (False,  259.), (False,  158.),\n",
       "       (False,  282.), ( True,  144.), (False,  133.), (False,  371.),\n",
       "       (False,  384.), (False,  371.), (False,  408.), (False,  392.),\n",
       "       (False,  371.), ( True,   99.), ( True,  568.), (False,  342.),\n",
       "       (False,  257.), (False,  524.), (False,  405.), (False,  413.),\n",
       "       (False,  464.), (False,  370.), (False,  364.), (False,  197.),\n",
       "       (False,  312.), (False,  504.), (False,  407.), (False,  491.),\n",
       "       ( True,  623.), ( True,  103.), (False,  346.), (False,  365.),\n",
       "       (False,  383.), (False,  365.), (False,  185.), (False,  244.),\n",
       "       (False,  326.), (False,  453.), ( True,  218.), (False,  477.),\n",
       "       (False,  252.), (False,  414.), (False,  274.), (False,  294.),\n",
       "       ( True,  133.), ( True,  122.), (False,  392.), (False,  126.),\n",
       "       (False,  387.), ( True,  518.), (False,  412.), (False,  408.),\n",
       "       ( True,  777.), (False,  236.), (False,  421.), (False,  356.),\n",
       "       (False,  189.), (False,  266.), ( True,  149.), (False,  371.),\n",
       "       (False,  362.), (False,  264.), (False,  207.), (False,  281.),\n",
       "       ( True,  217.), (False,  182.), (False,  267.), (False,  377.),\n",
       "       (False,  407.), (False,  411.), (False,  271.), (False,  358.),\n",
       "       ( True,  274.), (False,  400.), (False,  545.), ( True,  226.),\n",
       "       (False,  372.), (False,  385.), ( True,  187.), (False,  497.),\n",
       "       ( True, 1647.), (False,   98.), (False,  273.), (False,  255.),\n",
       "       (False,  392.), (False,  475.), (False,  398.), (False,  197.),\n",
       "       (False,  284.), (False,  370.), ( True,  364.), (False,  399.),\n",
       "       (False,  392.), (False,  473.), (False,  274.), (False,  399.),\n",
       "       ( True,  246.), (False,  272.), (False,  195.), (False,  382.),\n",
       "       (False,  354.), ( True,  289.), (False,  301.), ( True,  604.),\n",
       "       (False,  182.), (False,  193.), (False,  181.), ( True,  238.),\n",
       "       (False,  390.), (False,  736.), ( True,  486.), (False,  378.),\n",
       "       (False,  371.), (False,  182.), (False,  136.), (False,  153.),\n",
       "       (False,  128.), (False,  373.), (False,  382.), (False,   99.),\n",
       "       (False,  179.), (False, 1037.), (False,  359.), (False,  127.),\n",
       "       (False,  484.), (False,  134.), ( True,  364.), (False,  157.),\n",
       "       (False,  231.), (False,  378.), (False,  265.), (False,  322.),\n",
       "       (False,  943.), (False,  392.), (False,  367.), (False,  336.),\n",
       "       (False,  175.), (False,  784.), (False,  466.), (False,  293.),\n",
       "       (False,  415.), (False,  262.), ( True,  378.), (False,  284.),\n",
       "       (False,  269.), (False,  265.), (False,  189.), (False,  365.),\n",
       "       (False,  315.), (False,  371.), (False,  413.), (False,  382.),\n",
       "       (False,  472.), (False,  468.), ( True,  139.), (False,  109.),\n",
       "       ( True,  247.), (False,  379.), (False,  406.), (False,  443.),\n",
       "       ( True,  132.), (False,  286.), ( True,  194.), (False,  277.),\n",
       "       ( True,  214.), (False,  361.), (False,  400.), (False,  378.),\n",
       "       (False,  203.), ( True,  259.), ( True,  444.), (False,  449.),\n",
       "       (False,  266.), (False,  220.), (False,  371.), (False,  434.),\n",
       "       (False,  379.), (False,  274.), (False,  463.), (False,  131.),\n",
       "       ( True,  266.), (False,  273.), (False,  438.), (False,  378.),\n",
       "       ( True,  175.), ( True,  938.), (False,  294.), ( True,  236.),\n",
       "       (False,  384.), (False,  371.), (False,   95.), (False,  178.),\n",
       "       (False,  272.), (False,  266.), (False,  280.), (False,  385.),\n",
       "       (False,  172.), (False,  406.), ( True,  430.), ( True,  137.),\n",
       "       (False,  183.), (False,  449.), (False,  197.), ( True,  406.),\n",
       "       (False,  110.), ( True, 1268.), ( True,  252.), ( True,  695.),\n",
       "       (False,  217.), (False,  392.), (False,  588.), (False,  296.),\n",
       "       (False,  837.), (False,  175.), ( True,  160.), (False,  372.),\n",
       "       (False,  185.), (False, 1845.), (False,  407.), (False,  216.),\n",
       "       (False,  377.), (False,  381.), (False,  333.), (False,  371.),\n",
       "       ( True,  171.), (False,  272.), (False,  203.), (False,  560.),\n",
       "       ( True,  369.), (False,  882.), (False,  416.), (False,  410.),\n",
       "       (False,  377.), (False,  108.), (False,  402.), ( True,  365.),\n",
       "       (False,  500.), (False,  412.), (False,  403.), (False,  182.),\n",
       "       ( True,  289.), (False,  495.), (False,  128.), (False,  863.),\n",
       "       (False,  327.), (False,  182.), ( True,  351.), (False, 1200.),\n",
       "       (False,  184.), (False,  162.), (False,  371.), ( True,  290.),\n",
       "       (False,  278.), (False,  471.), (False,  413.), (False,  374.),\n",
       "       (False,  364.), (False,  269.), (False,  368.), (False,  422.),\n",
       "       (False,  412.), ( True,  280.), (False,  456.), (False,  184.),\n",
       "       (False,  320.), (False,  100.), (False,  416.), (False,  129.),\n",
       "       (False,  407.), (False,  162.), ( True,  525.), (False,  101.),\n",
       "       (False,  372.), (False,  434.), (False,  504.), ( True,  158.),\n",
       "       (False,  286.), (False,  825.), ( True,  266.), (False,  422.),\n",
       "       (False,  317.), (False,  394.), (False,  307.), (False,  395.),\n",
       "       (False,  381.), (False,  411.), ( True,  246.), (False,  292.),\n",
       "       (False,  371.), (False,  377.), ( True,  287.), ( True,  284.),\n",
       "       (False,  260.), (False,  268.), (False,  120.), (False,  286.),\n",
       "       (False,  358.), ( True,  416.), (False,  358.), (False,  562.),\n",
       "       ( True,  199.), (False,  413.), (False,  266.), (False,  462.),\n",
       "       (False,  364.), (False,  343.), (False,  189.), (False,  419.),\n",
       "       (False,  276.), (False,  378.), (False,  126.), (False,  461.),\n",
       "       (False,  364.), (False,  446.), (False,  386.), (False,  376.),\n",
       "       (False,  112.), (False,  722.), (False,  423.), (False,  362.),\n",
       "       (False,  168.), (False,  427.), (False,  372.), (False,  479.),\n",
       "       (False,  371.), ( True,  454.), (False,  420.), (False,  661.),\n",
       "       ( True,  380.), (False,  252.), (False,  372.), (False,  126.),\n",
       "       (False,  364.), (False,  272.), ( True,  364.), (False,  204.),\n",
       "       (False,  266.), (False,  125.), (False,  322.), (False,  456.),\n",
       "       (False,  267.), ( True,  147.), (False,  337.), (False,  266.),\n",
       "       ( True,  226.), (False,  201.), (False,  266.), (False,  109.),\n",
       "       (False,  558.), (False,  480.), (False,  558.), (False,  442.),\n",
       "       (False,  126.), ( True,  974.), ( True,  213.), ( True,  364.),\n",
       "       (False,  486.), (False,  294.), (False,  392.), ( True,  268.),\n",
       "       ( True,  154.), (False,  273.), (False,  385.), ( True,  638.),\n",
       "       (False,  260.), ( True,  299.), (False,  386.), (False,  279.),\n",
       "       (False,  511.), (False,  266.), (False,  411.), ( True,  293.),\n",
       "       (False,  243.), (False,  270.), (False,  382.), (False,  411.),\n",
       "       (False,  121.), (False,  378.), (False,  383.), (False,  267.),\n",
       "       ( True,  142.), (False,  336.), (False,  294.), (False,  382.),\n",
       "       (False,  271.), ( True,  129.), (False,  185.), (False,  409.),\n",
       "       ( True,  281.), (False,  595.), (False,  329.), (False,  401.),\n",
       "       (False,  280.), (False,  429.), (False,  378.), (False,  336.),\n",
       "       (False,  203.), (False,  412.), (False,  271.), (False,  390.),\n",
       "       (False,  202.), (False,  360.), ( True,  244.), (False,  210.),\n",
       "       (False,  414.), (False,  388.), (False,   99.)],\n",
       "      dtype=[('cens', '?'), ('time', '<f8')])"
      ]
     },
     "execution_count": 18,
     "metadata": {},
     "output_type": "execute_result"
    }
   ],
   "source": [
    "arr_2 = list(tuple(x) for x in df_test_rsf.to_records(index=False))\n",
    "dt=np.dtype('bool, float')\n",
    "y_test_rsf = np.array(arr_2, dtype=dt)\n",
    "y_test_rsf.dtype.names=['cens', 'time']\n",
    "y_test_rsf"
   ]
  },
  {
   "cell_type": "code",
   "execution_count": 19,
   "metadata": {
    "executionInfo": {
     "elapsed": 63356,
     "status": "aborted",
     "timestamp": 1621171600094,
     "user": {
      "displayName": "오현지",
      "photoUrl": "",
      "userId": "16924038929183224420"
     },
     "user_tz": -540
    },
    "id": "xOybJl-ej39A"
   },
   "outputs": [
    {
     "data": {
      "text/plain": [
       "RandomSurvivalForest(max_features='sqrt', min_samples_leaf=15,\n",
       "                     min_samples_split=10, n_estimators=1000, n_jobs=-1,\n",
       "                     random_state=20)"
      ]
     },
     "execution_count": 19,
     "metadata": {},
     "output_type": "execute_result"
    }
   ],
   "source": [
    "rsf = RandomSurvivalForest(n_estimators=1000,\n",
    "                           min_samples_split=10,\n",
    "                           min_samples_leaf=15,\n",
    "                           max_features=\"sqrt\",\n",
    "                           n_jobs=-1,\n",
    "                           random_state=20)\n",
    "rsf.fit(df_train.iloc[:,:-2], y_train_rsf)"
   ]
  },
  {
   "cell_type": "markdown",
   "metadata": {},
   "source": [
    "## 2. 평가하기"
   ]
  },
  {
   "cell_type": "markdown",
   "metadata": {},
   "source": [
    "## 2-1. C-index 계산"
   ]
  },
  {
   "cell_type": "markdown",
   "metadata": {},
   "source": [
    "## 2-1-1. Repeated 5-fold cross validation on Training set"
   ]
  },
  {
   "cell_type": "code",
   "execution_count": 20,
   "metadata": {
    "executionInfo": {
     "elapsed": 8556,
     "status": "ok",
     "timestamp": 1621171545265,
     "user": {
      "displayName": "오현지",
      "photoUrl": "",
      "userId": "16924038929183224420"
     },
     "user_tz": -540
    },
    "id": "tqDJ4_DMc9R4"
   },
   "outputs": [],
   "source": [
    "from lifelines.utils import k_fold_cross_validation"
   ]
  },
  {
   "cell_type": "code",
   "execution_count": 21,
   "metadata": {
    "colab": {
     "base_uri": "https://localhost:8080/"
    },
    "executionInfo": {
     "elapsed": 33707,
     "status": "ok",
     "timestamp": 1621171570419,
     "user": {
      "displayName": "오현지",
      "photoUrl": "",
      "userId": "16924038929183224420"
     },
     "user_tz": -540
    },
    "id": "VktplsvwYmXS",
    "outputId": "bbb8ebcb-9549-4784-def0-c479a56f298d"
   },
   "outputs": [
    {
     "name": "stdout",
     "output_type": "stream",
     "text": [
      "[0.84292957 0.84256698 0.86412261 0.83029537 0.83281633 0.83536567\n",
      " 0.83317683 0.85849602 0.83379451 0.83492851 0.85436954 0.84890868\n",
      " 0.84139747 0.81106005 0.84199777 0.85612058 0.83072703 0.85967302\n",
      " 0.81956576 0.84461341 0.83876121 0.84880093 0.85661556 0.83304729\n",
      " 0.8221671  0.81646859 0.85489408 0.86171451 0.85247571 0.82538199\n",
      " 0.82428788 0.82399815 0.83685635 0.87553515 0.84392081 0.83295421\n",
      " 0.85548398 0.81366621 0.85222092 0.83570324 0.81533153 0.82484908\n",
      " 0.83832095 0.85672825 0.85266199 0.85801135 0.82064528 0.82854596\n",
      " 0.83841145 0.83944163]\n"
     ]
    }
   ],
   "source": [
    "cph = CoxPHFitter()\n",
    "C_Idx = np.array([])\n",
    "random_num_list = [10,20,30,40,50,60,70,80,90,100]\n",
    "\n",
    "for i in random_num_list:\n",
    "    arr = k_fold_cross_validation(cph, df_train, 'time_opt', event_col='status_opt', k=5, scoring_method=\"concordance_index\")\n",
    "    C_Idx = np.concatenate((C_Idx, arr))\n",
    "print(C_Idx)"
   ]
  },
  {
   "cell_type": "code",
   "execution_count": 22,
   "metadata": {
    "colab": {
     "base_uri": "https://localhost:8080/",
     "height": 390
    },
    "executionInfo": {
     "elapsed": 33705,
     "status": "ok",
     "timestamp": 1621171570420,
     "user": {
      "displayName": "오현지",
      "photoUrl": "",
      "userId": "16924038929183224420"
     },
     "user_tz": -540
    },
    "id": "BrjLfK5uklKI",
    "outputId": "c1165c68-7da6-4524-bea0-4490762c7b52"
   },
   "outputs": [
    {
     "data": {
      "image/png": "[encoded data removed]",
      "text/plain": [
       "<Figure size 504x432 with 1 Axes>"
      ]
     },
     "metadata": {
      "needs_background": "light"
     },
     "output_type": "display_data"
    }
   ],
   "source": [
    "df = pd.DataFrame(C_Idx)\n",
    "df.columns = ['CoxPH']\n",
    "\n",
    "plt.figure(figsize=(7,6))\n",
    "boxplot = df.boxplot(column=['CoxPH'])\n",
    "plt.title('Concordance index')\n",
    "plt.show()"
   ]
  },
  {
   "cell_type": "code",
   "execution_count": 23,
   "metadata": {},
   "outputs": [],
   "source": [
    "# Cross-validation is not necessary when using random forest, \n",
    "# because multiple bagging in process of training random forest prevents over-fitting."
   ]
  },
  {
   "cell_type": "markdown",
   "metadata": {
    "id": "g79Yx2caGrKt"
   },
   "source": [
    "## 2-1-2. C-index on Test set"
   ]
  },
  {
   "cell_type": "code",
   "execution_count": 24,
   "metadata": {
    "colab": {
     "base_uri": "https://localhost:8080/"
    },
    "executionInfo": {
     "elapsed": 34705,
     "status": "ok",
     "timestamp": 1621171571422,
     "user": {
      "displayName": "오현지",
      "photoUrl": "",
      "userId": "16924038929183224420"
     },
     "user_tz": -540
    },
    "id": "UhZJqjbrF_DP",
    "outputId": "1ed73fee-6afd-400d-899d-8866d62ae038"
   },
   "outputs": [
    {
     "name": "stdout",
     "output_type": "stream",
     "text": [
      "COXPH shows c-index  0.8444841039262887\n"
     ]
    }
   ],
   "source": [
    "from lifelines.utils import concordance_index\n",
    "cph = CoxPHFitter().fit(df_test, 'time_opt', 'status_opt')\n",
    "print('COXPH shows c-index ', concordance_index(df_test['time_opt'], -cph.predict_partial_hazard(df_test), df_test['status_opt']))"
   ]
  },
  {
   "cell_type": "code",
   "execution_count": 25,
   "metadata": {},
   "outputs": [
    {
     "name": "stdout",
     "output_type": "stream",
     "text": [
      "RSF shows c-index  0.8301029301900889\n"
     ]
    }
   ],
   "source": [
    "print('RSF shows c-index ', rsf.score(df_test.iloc[:, :-2], y_test_rsf))"
   ]
  },
  {
   "cell_type": "markdown",
   "metadata": {
    "id": "wxjpUVQ5f0dP"
   },
   "source": [
    "Calibration 평가"
   ]
  },
  {
   "cell_type": "code",
   "execution_count": 26,
   "metadata": {
    "colab": {
     "base_uri": "https://localhost:8080/",
     "height": 385
    },
    "executionInfo": {
     "elapsed": 2350,
     "status": "ok",
     "timestamp": 1621171661248,
     "user": {
      "displayName": "오현지",
      "photoUrl": "",
      "userId": "16924038929183224420"
     },
     "user_tz": -540
    },
    "id": "xutVUp9xcdz9",
    "outputId": "4d6ad877-5d83-4c02-acb1-f3ce84436a5e",
    "scrolled": true
   },
   "outputs": [
    {
     "name": "stdout",
     "output_type": "stream",
     "text": [
      "ICI =  0.018105742341032342\n",
      "E50 =  0.019823645360435904\n"
     ]
    },
    {
     "name": "stderr",
     "output_type": "stream",
     "text": [
      "C:\\Users\\hyji1\\anaconda3\\lib\\site-packages\\lifelines\\calibration.py:45: RuntimeWarning: divide by zero encountered in log\n",
      "  return np.log(-np.log(1 - p))\n",
      "C:\\Users\\hyji1\\anaconda3\\lib\\site-packages\\lifelines\\fitters\\mixins.py:19: RuntimeWarning: invalid value encountered in subtract\n",
      "  return self.relu(x - knot) ** 3 - (lambda_ * self.relu(x - min_knot) ** 3 + (1 - lambda_) * self.relu(x - max_knot) ** 3)\n"
     ]
    },
    {
     "data": {
      "text/plain": [
       "(<AxesSubplot:title={'center':'Smoothed calibration curve of \\npredicted vs observed probabilities of t ≤ 700 mortality'}, xlabel='Predicted probability of \\nt ≤ 700 mortality', ylabel='Observed probability of \\nt ≤ 700 mortality'>,\n",
       " 0.018105742341032342,\n",
       " 0.019823645360435904)"
      ]
     },
     "execution_count": 26,
     "metadata": {},
     "output_type": "execute_result"
    },
    {
     "data": {
      "image/png": "[encoded data removed]",
      "text/plain": [
       "<Figure size 432x288 with 2 Axes>"
      ]
     },
     "metadata": {
      "needs_background": "light"
     },
     "output_type": "display_data"
    }
   ],
   "source": [
    "from lifelines.calibration import survival_probability_calibration\n",
    "\n",
    "survival_probability_calibration(cph, df_test, t0=700)"
   ]
  },
  {
   "cell_type": "markdown",
   "metadata": {
    "id": "EHff_3yIhb29"
   },
   "source": [
    "비례위험 가정 검토"
   ]
  },
  {
   "cell_type": "code",
   "execution_count": 27,
   "metadata": {
    "colab": {
     "base_uri": "https://localhost:8080/",
     "height": 1000
    },
    "executionInfo": {
     "elapsed": 35708,
     "status": "ok",
     "timestamp": 1621171572430,
     "user": {
      "displayName": "오현지",
      "photoUrl": "",
      "userId": "16924038929183224420"
     },
     "user_tz": -540
    },
    "id": "mIRcvB1TcdxD",
    "outputId": "a1d233ca-fc1b-4de5-cf9f-e4f3dfeaf3ec",
    "scrolled": false
   },
   "outputs": [
    {
     "name": "stdout",
     "output_type": "stream",
     "text": [
      "The ``p_value_threshold`` is set at 0.05. Even under the null hypothesis of no violations, some\n",
      "covariates will be below the threshold by chance. This is compounded when there are many covariates.\n",
      "Similarly, when there are lots of observations, even minor deviances from the proportional hazard\n",
      "assumption will be flagged.\n",
      "\n",
      "With that in mind, it's best to use a combination of statistical tests and visual tests to determine\n",
      "the most serious violations. Produce visual plots using ``check_assumptions(..., show_plots=True)``\n",
      "and looking for non-constant lines. See link [A] below for a full example.\n",
      "\n"
     ]
    },
    {
     "data": {
      "text/html": [
       "<div>\n",
       "<style scoped>\n",
       "    .dataframe tbody tr th:only-of-type {\n",
       "        vertical-align: middle;\n",
       "    }\n",
       "\n",
       "    .dataframe tbody tr th {\n",
       "        vertical-align: top;\n",
       "    }\n",
       "\n",
       "    .dataframe thead th {\n",
       "        text-align: right;\n",
       "    }\n",
       "</style>\n",
       "<table border=\"1\" class=\"dataframe\">\n",
       "  <tbody>\n",
       "    <tr>\n",
       "      <th>null_distribution</th>\n",
       "      <td>chi squared</td>\n",
       "    </tr>\n",
       "    <tr>\n",
       "      <th>degrees_of_freedom</th>\n",
       "      <td>1</td>\n",
       "    </tr>\n",
       "    <tr>\n",
       "      <th>model</th>\n",
       "      <td>&lt;lifelines.CoxPHFitter: fitted with 679 total ...</td>\n",
       "    </tr>\n",
       "    <tr>\n",
       "      <th>test_name</th>\n",
       "      <td>proportional_hazard_test</td>\n",
       "    </tr>\n",
       "  </tbody>\n",
       "</table>\n",
       "</div><table border=\"1\" class=\"dataframe\">\n",
       "  <thead>\n",
       "    <tr style=\"text-align: right;\">\n",
       "      <th></th>\n",
       "      <th></th>\n",
       "      <th>test_statistic</th>\n",
       "      <th>p</th>\n",
       "      <th>-log2(p)</th>\n",
       "    </tr>\n",
       "  </thead>\n",
       "  <tbody>\n",
       "    <tr>\n",
       "      <th rowspan=\"2\" valign=\"top\">Age</th>\n",
       "      <th>km</th>\n",
       "      <td>0.54</td>\n",
       "      <td>0.46</td>\n",
       "      <td>1.11</td>\n",
       "    </tr>\n",
       "    <tr>\n",
       "      <th>rank</th>\n",
       "      <td>1.23</td>\n",
       "      <td>0.27</td>\n",
       "      <td>1.91</td>\n",
       "    </tr>\n",
       "    <tr>\n",
       "      <th rowspan=\"2\" valign=\"top\">Gender</th>\n",
       "      <th>km</th>\n",
       "      <td>0.20</td>\n",
       "      <td>0.66</td>\n",
       "      <td>0.60</td>\n",
       "    </tr>\n",
       "    <tr>\n",
       "      <th>rank</th>\n",
       "      <td>0.01</td>\n",
       "      <td>0.90</td>\n",
       "      <td>0.14</td>\n",
       "    </tr>\n",
       "    <tr>\n",
       "      <th rowspan=\"2\" valign=\"top\">Unnamed: 0</th>\n",
       "      <th>km</th>\n",
       "      <td>0.04</td>\n",
       "      <td>0.83</td>\n",
       "      <td>0.26</td>\n",
       "    </tr>\n",
       "    <tr>\n",
       "      <th>rank</th>\n",
       "      <td>0.03</td>\n",
       "      <td>0.86</td>\n",
       "      <td>0.22</td>\n",
       "    </tr>\n",
       "    <tr>\n",
       "      <th rowspan=\"2\" valign=\"top\">diag_minus_onset</th>\n",
       "      <th>km</th>\n",
       "      <td>0.16</td>\n",
       "      <td>0.69</td>\n",
       "      <td>0.53</td>\n",
       "    </tr>\n",
       "    <tr>\n",
       "      <th>rank</th>\n",
       "      <td>0.07</td>\n",
       "      <td>0.79</td>\n",
       "      <td>0.35</td>\n",
       "    </tr>\n",
       "    <tr>\n",
       "      <th rowspan=\"2\" valign=\"top\">fvc_mean</th>\n",
       "      <th>km</th>\n",
       "      <td>0.62</td>\n",
       "      <td>0.43</td>\n",
       "      <td>1.22</td>\n",
       "    </tr>\n",
       "    <tr>\n",
       "      <th>rank</th>\n",
       "      <td>0.70</td>\n",
       "      <td>0.40</td>\n",
       "      <td>1.31</td>\n",
       "    </tr>\n",
       "    <tr>\n",
       "      <th rowspan=\"2\" valign=\"top\">fvc_slope</th>\n",
       "      <th>km</th>\n",
       "      <td>2.15</td>\n",
       "      <td>0.14</td>\n",
       "      <td>2.81</td>\n",
       "    </tr>\n",
       "    <tr>\n",
       "      <th>rank</th>\n",
       "      <td>4.64</td>\n",
       "      <td>0.03</td>\n",
       "      <td>5.00</td>\n",
       "    </tr>\n",
       "    <tr>\n",
       "      <th rowspan=\"2\" valign=\"top\">mean_Bulbar</th>\n",
       "      <th>km</th>\n",
       "      <td>0.43</td>\n",
       "      <td>0.51</td>\n",
       "      <td>0.96</td>\n",
       "    </tr>\n",
       "    <tr>\n",
       "      <th>rank</th>\n",
       "      <td>3.30</td>\n",
       "      <td>0.07</td>\n",
       "      <td>3.85</td>\n",
       "    </tr>\n",
       "    <tr>\n",
       "      <th rowspan=\"2\" valign=\"top\">mean_Q10_Respiratory</th>\n",
       "      <th>km</th>\n",
       "      <td>0.09</td>\n",
       "      <td>0.76</td>\n",
       "      <td>0.39</td>\n",
       "    </tr>\n",
       "    <tr>\n",
       "      <th>rank</th>\n",
       "      <td>0.48</td>\n",
       "      <td>0.49</td>\n",
       "      <td>1.03</td>\n",
       "    </tr>\n",
       "    <tr>\n",
       "      <th rowspan=\"2\" valign=\"top\">mean_motor</th>\n",
       "      <th>km</th>\n",
       "      <td>0.05</td>\n",
       "      <td>0.83</td>\n",
       "      <td>0.28</td>\n",
       "    </tr>\n",
       "    <tr>\n",
       "      <th>rank</th>\n",
       "      <td>0.30</td>\n",
       "      <td>0.59</td>\n",
       "      <td>0.77</td>\n",
       "    </tr>\n",
       "    <tr>\n",
       "      <th rowspan=\"2\" valign=\"top\">onset_delta</th>\n",
       "      <th>km</th>\n",
       "      <td>1.62</td>\n",
       "      <td>0.20</td>\n",
       "      <td>2.30</td>\n",
       "    </tr>\n",
       "    <tr>\n",
       "      <th>rank</th>\n",
       "      <td>1.01</td>\n",
       "      <td>0.31</td>\n",
       "      <td>1.67</td>\n",
       "    </tr>\n",
       "    <tr>\n",
       "      <th rowspan=\"2\" valign=\"top\">onset_site</th>\n",
       "      <th>km</th>\n",
       "      <td>0.99</td>\n",
       "      <td>0.32</td>\n",
       "      <td>1.64</td>\n",
       "    </tr>\n",
       "    <tr>\n",
       "      <th>rank</th>\n",
       "      <td>1.12</td>\n",
       "      <td>0.29</td>\n",
       "      <td>1.79</td>\n",
       "    </tr>\n",
       "    <tr>\n",
       "      <th rowspan=\"2\" valign=\"top\">slope_Q10_Respiratory</th>\n",
       "      <th>km</th>\n",
       "      <td>0.41</td>\n",
       "      <td>0.52</td>\n",
       "      <td>0.94</td>\n",
       "    </tr>\n",
       "    <tr>\n",
       "      <th>rank</th>\n",
       "      <td>0.96</td>\n",
       "      <td>0.33</td>\n",
       "      <td>1.62</td>\n",
       "    </tr>\n",
       "    <tr>\n",
       "      <th rowspan=\"2\" valign=\"top\">slope_Q1_Speech</th>\n",
       "      <th>km</th>\n",
       "      <td>1.86</td>\n",
       "      <td>0.17</td>\n",
       "      <td>2.53</td>\n",
       "    </tr>\n",
       "    <tr>\n",
       "      <th>rank</th>\n",
       "      <td>1.31</td>\n",
       "      <td>0.25</td>\n",
       "      <td>1.98</td>\n",
       "    </tr>\n",
       "    <tr>\n",
       "      <th rowspan=\"2\" valign=\"top\">slope_Q2_Salivation</th>\n",
       "      <th>km</th>\n",
       "      <td>0.51</td>\n",
       "      <td>0.47</td>\n",
       "      <td>1.07</td>\n",
       "    </tr>\n",
       "    <tr>\n",
       "      <th>rank</th>\n",
       "      <td>0.90</td>\n",
       "      <td>0.34</td>\n",
       "      <td>1.54</td>\n",
       "    </tr>\n",
       "    <tr>\n",
       "      <th rowspan=\"2\" valign=\"top\">slope_Q3_Swallowing</th>\n",
       "      <th>km</th>\n",
       "      <td>0.15</td>\n",
       "      <td>0.70</td>\n",
       "      <td>0.52</td>\n",
       "    </tr>\n",
       "    <tr>\n",
       "      <th>rank</th>\n",
       "      <td>0.05</td>\n",
       "      <td>0.83</td>\n",
       "      <td>0.27</td>\n",
       "    </tr>\n",
       "    <tr>\n",
       "      <th rowspan=\"2\" valign=\"top\">slope_Q4_Handwriting</th>\n",
       "      <th>km</th>\n",
       "      <td>0.29</td>\n",
       "      <td>0.59</td>\n",
       "      <td>0.76</td>\n",
       "    </tr>\n",
       "    <tr>\n",
       "      <th>rank</th>\n",
       "      <td>0.16</td>\n",
       "      <td>0.69</td>\n",
       "      <td>0.54</td>\n",
       "    </tr>\n",
       "    <tr>\n",
       "      <th rowspan=\"2\" valign=\"top\">slope_Q5_Cutting</th>\n",
       "      <th>km</th>\n",
       "      <td>0.81</td>\n",
       "      <td>0.37</td>\n",
       "      <td>1.44</td>\n",
       "    </tr>\n",
       "    <tr>\n",
       "      <th>rank</th>\n",
       "      <td>2.50</td>\n",
       "      <td>0.11</td>\n",
       "      <td>3.13</td>\n",
       "    </tr>\n",
       "    <tr>\n",
       "      <th rowspan=\"2\" valign=\"top\">slope_Q6_Dressing_and_Hygiene</th>\n",
       "      <th>km</th>\n",
       "      <td>0.12</td>\n",
       "      <td>0.72</td>\n",
       "      <td>0.47</td>\n",
       "    </tr>\n",
       "    <tr>\n",
       "      <th>rank</th>\n",
       "      <td>0.05</td>\n",
       "      <td>0.82</td>\n",
       "      <td>0.29</td>\n",
       "    </tr>\n",
       "    <tr>\n",
       "      <th rowspan=\"2\" valign=\"top\">slope_Q7_Turning_in_Bed</th>\n",
       "      <th>km</th>\n",
       "      <td>1.13</td>\n",
       "      <td>0.29</td>\n",
       "      <td>1.80</td>\n",
       "    </tr>\n",
       "    <tr>\n",
       "      <th>rank</th>\n",
       "      <td>2.26</td>\n",
       "      <td>0.13</td>\n",
       "      <td>2.91</td>\n",
       "    </tr>\n",
       "    <tr>\n",
       "      <th rowspan=\"2\" valign=\"top\">slope_Q8_Walking</th>\n",
       "      <th>km</th>\n",
       "      <td>3.96</td>\n",
       "      <td>0.05</td>\n",
       "      <td>4.42</td>\n",
       "    </tr>\n",
       "    <tr>\n",
       "      <th>rank</th>\n",
       "      <td>6.81</td>\n",
       "      <td>0.01</td>\n",
       "      <td>6.79</td>\n",
       "    </tr>\n",
       "    <tr>\n",
       "      <th rowspan=\"2\" valign=\"top\">slope_Q9_Climbing_Stairs</th>\n",
       "      <th>km</th>\n",
       "      <td>0.34</td>\n",
       "      <td>0.56</td>\n",
       "      <td>0.84</td>\n",
       "    </tr>\n",
       "    <tr>\n",
       "      <th>rank</th>\n",
       "      <td>0.93</td>\n",
       "      <td>0.33</td>\n",
       "      <td>1.58</td>\n",
       "    </tr>\n",
       "    <tr>\n",
       "      <th rowspan=\"2\" valign=\"top\">slope_alsfrs_tot</th>\n",
       "      <th>km</th>\n",
       "      <td>0.66</td>\n",
       "      <td>0.42</td>\n",
       "      <td>1.26</td>\n",
       "    </tr>\n",
       "    <tr>\n",
       "      <th>rank</th>\n",
       "      <td>0.71</td>\n",
       "      <td>0.40</td>\n",
       "      <td>1.32</td>\n",
       "    </tr>\n",
       "  </tbody>\n",
       "</table>"
      ],
      "text/latex": [
       "\\begin{tabular}{llrrr}\n",
       "\\toprule\n",
       "                 &      &  test\\_statistic &         p &  -log2(p) \\\\\n",
       "\\midrule\n",
       "Age & km &        0.539056 &  0.462824 &  1.111464 \\\\\n",
       "                 & rank &        1.232940 &  0.266836 &  1.905974 \\\\\n",
       "Gender & km &        0.195356 &  0.658496 &  0.602754 \\\\\n",
       "                 & rank &        0.014387 &  0.904526 &  0.144766 \\\\\n",
       "Unnamed: 0 & km &        0.044216 &  0.833453 &  0.262828 \\\\\n",
       "                 & rank &        0.032756 &  0.856378 &  0.223680 \\\\\n",
       "diag\\_minus\\_onset & km &        0.156815 &  0.692106 &  0.530935 \\\\\n",
       "                 & rank &        0.073631 &  0.786121 &  0.347176 \\\\\n",
       "fvc\\_mean & km &        0.623965 &  0.429578 &  1.219009 \\\\\n",
       "                 & rank &        0.701623 &  0.402239 &  1.313875 \\\\\n",
       "fvc\\_slope & km &        2.145365 &  0.143001 &  2.805903 \\\\\n",
       "                 & rank &        4.641262 &  0.031212 &  5.001754 \\\\\n",
       "mean\\_Bulbar & km &        0.429374 &  0.512296 &  0.964950 \\\\\n",
       "                 & rank &        3.303906 &  0.069115 &  3.854850 \\\\\n",
       "mean\\_Q10\\_Respiratory & km &        0.091668 &  0.762067 &  0.392010 \\\\\n",
       "                 & rank &        0.480667 &  0.488121 &  1.034691 \\\\\n",
       "mean\\_motor & km &        0.048661 &  0.825410 &  0.276818 \\\\\n",
       "                 & rank &        0.295334 &  0.586823 &  0.769004 \\\\\n",
       "onset\\_delta & km &        1.615490 &  0.203722 &  2.295328 \\\\\n",
       "                 & rank &        1.010489 &  0.314786 &  1.667558 \\\\\n",
       "onset\\_site & km &        0.985680 &  0.320800 &  1.640252 \\\\\n",
       "                 & rank &        1.120768 &  0.289753 &  1.787104 \\\\\n",
       "slope\\_Q10\\_Respiratory & km &        0.411190 &  0.521366 &  0.939632 \\\\\n",
       "                 & rank &        0.963329 &  0.326350 &  1.615510 \\\\\n",
       "slope\\_Q1\\_Speech & km &        1.857308 &  0.172936 &  2.531691 \\\\\n",
       "                 & rank &        1.307639 &  0.252823 &  1.983803 \\\\\n",
       "slope\\_Q2\\_Salivation & km &        0.510935 &  0.474734 &  1.074807 \\\\\n",
       "                 & rank &        0.898544 &  0.343172 &  1.542995 \\\\\n",
       "slope\\_Q3\\_Swallowing & km &        0.152573 &  0.696089 &  0.522657 \\\\\n",
       "                 & rank &        0.045134 &  0.831759 &  0.265763 \\\\\n",
       "slope\\_Q4\\_Handwriting & km &        0.288083 &  0.591452 &  0.757667 \\\\\n",
       "                 & rank &        0.160792 &  0.688428 &  0.538622 \\\\\n",
       "slope\\_Q5\\_Cutting & km &        0.807008 &  0.369006 &  1.438283 \\\\\n",
       "                 & rank &        2.495783 &  0.114152 &  3.130977 \\\\\n",
       "slope\\_Q6\\_Dressing\\_and\\_Hygiene & km &        0.124667 &  0.724027 &  0.465885 \\\\\n",
       "                 & rank &        0.054646 &  0.815168 &  0.294831 \\\\\n",
       "slope\\_Q7\\_Turning\\_in\\_Bed & km &        1.130440 &  0.287681 &  1.797456 \\\\\n",
       "                 & rank &        2.255880 &  0.133108 &  2.909334 \\\\\n",
       "slope\\_Q8\\_Walking & km &        3.960338 &  0.046584 &  4.424011 \\\\\n",
       "                 & rank &        6.813855 &  0.009045 &  6.788611 \\\\\n",
       "slope\\_Q9\\_Climbing\\_Stairs & km &        0.344709 &  0.557124 &  0.843930 \\\\\n",
       "                 & rank &        0.930791 &  0.334658 &  1.579242 \\\\\n",
       "slope\\_alsfrs\\_tot & km &        0.657800 &  0.417338 &  1.260712 \\\\\n",
       "                 & rank &        0.705065 &  0.401087 &  1.318013 \\\\\n",
       "\\bottomrule\n",
       "\\end{tabular}\n"
      ],
      "text/plain": [
       "<lifelines.StatisticalResult: proportional_hazard_test>\n",
       " null_distribution = chi squared\n",
       "degrees_of_freedom = 1\n",
       "             model = <lifelines.CoxPHFitter: fitted with 679 total observations, 554 right-censored observations>\n",
       "         test_name = proportional_hazard_test\n",
       "\n",
       "---\n",
       "                                    test_statistic    p  -log2(p)\n",
       "Age                           km              0.54 0.46      1.11\n",
       "                              rank            1.23 0.27      1.91\n",
       "Gender                        km              0.20 0.66      0.60\n",
       "                              rank            0.01 0.90      0.14\n",
       "Unnamed: 0                    km              0.04 0.83      0.26\n",
       "                              rank            0.03 0.86      0.22\n",
       "diag_minus_onset              km              0.16 0.69      0.53\n",
       "                              rank            0.07 0.79      0.35\n",
       "fvc_mean                      km              0.62 0.43      1.22\n",
       "                              rank            0.70 0.40      1.31\n",
       "fvc_slope                     km              2.15 0.14      2.81\n",
       "                              rank            4.64 0.03      5.00\n",
       "mean_Bulbar                   km              0.43 0.51      0.96\n",
       "                              rank            3.30 0.07      3.85\n",
       "mean_Q10_Respiratory          km              0.09 0.76      0.39\n",
       "                              rank            0.48 0.49      1.03\n",
       "mean_motor                    km              0.05 0.83      0.28\n",
       "                              rank            0.30 0.59      0.77\n",
       "onset_delta                   km              1.62 0.20      2.30\n",
       "                              rank            1.01 0.31      1.67\n",
       "onset_site                    km              0.99 0.32      1.64\n",
       "                              rank            1.12 0.29      1.79\n",
       "slope_Q10_Respiratory         km              0.41 0.52      0.94\n",
       "                              rank            0.96 0.33      1.62\n",
       "slope_Q1_Speech               km              1.86 0.17      2.53\n",
       "                              rank            1.31 0.25      1.98\n",
       "slope_Q2_Salivation           km              0.51 0.47      1.07\n",
       "                              rank            0.90 0.34      1.54\n",
       "slope_Q3_Swallowing           km              0.15 0.70      0.52\n",
       "                              rank            0.05 0.83      0.27\n",
       "slope_Q4_Handwriting          km              0.29 0.59      0.76\n",
       "                              rank            0.16 0.69      0.54\n",
       "slope_Q5_Cutting              km              0.81 0.37      1.44\n",
       "                              rank            2.50 0.11      3.13\n",
       "slope_Q6_Dressing_and_Hygiene km              0.12 0.72      0.47\n",
       "                              rank            0.05 0.82      0.29\n",
       "slope_Q7_Turning_in_Bed       km              1.13 0.29      1.80\n",
       "                              rank            2.26 0.13      2.91\n",
       "slope_Q8_Walking              km              3.96 0.05      4.42\n",
       "                              rank            6.81 0.01      6.79\n",
       "slope_Q9_Climbing_Stairs      km              0.34 0.56      0.84\n",
       "                              rank            0.93 0.33      1.58\n",
       "slope_alsfrs_tot              km              0.66 0.42      1.26\n",
       "                              rank            0.71 0.40      1.32"
      ]
     },
     "metadata": {},
     "output_type": "display_data"
    },
    {
     "name": "stdout",
     "output_type": "stream",
     "text": [
      "\n",
      "\n",
      "1. Variable 'fvc_slope' failed the non-proportional test: p-value is 0.0312.\n",
      "\n",
      "   Advice 1: the functional form of the variable 'fvc_slope' might be incorrect. That is, there may\n",
      "be non-linear terms missing. The proportional hazard test used is very sensitive to incorrect\n",
      "functional forms. See documentation in link [D] below on how to specify a functional form.\n",
      "\n",
      "   Advice 2: try binning the variable 'fvc_slope' using pd.cut, and then specify it in\n",
      "`strata=['fvc_slope', ...]` in the call in `.fit`. See documentation in link [B] below.\n",
      "\n",
      "   Advice 3: try adding an interaction term with your time variable. See documentation in link [C]\n",
      "below.\n",
      "\n",
      "\n",
      "2. Variable 'slope_Q8_Walking' failed the non-proportional test: p-value is 0.0090.\n",
      "\n",
      "   Advice 1: the functional form of the variable 'slope_Q8_Walking' might be incorrect. That is,\n",
      "there may be non-linear terms missing. The proportional hazard test used is very sensitive to\n",
      "incorrect functional forms. See documentation in link [D] below on how to specify a functional form.\n",
      "\n",
      "   Advice 2: try binning the variable 'slope_Q8_Walking' using pd.cut, and then specify it in\n",
      "`strata=['slope_Q8_Walking', ...]` in the call in `.fit`. See documentation in link [B] below.\n",
      "\n",
      "   Advice 3: try adding an interaction term with your time variable. See documentation in link [C]\n",
      "below.\n",
      "\n",
      "\n",
      "---\n",
      "[A]  https://lifelines.readthedocs.io/en/latest/jupyter_notebooks/Proportional%20hazard%20assumption.html\n",
      "[B]  https://lifelines.readthedocs.io/en/latest/jupyter_notebooks/Proportional%20hazard%20assumption.html#Bin-variable-and-stratify-on-it\n",
      "[C]  https://lifelines.readthedocs.io/en/latest/jupyter_notebooks/Proportional%20hazard%20assumption.html#Introduce-time-varying-covariates\n",
      "[D]  https://lifelines.readthedocs.io/en/latest/jupyter_notebooks/Proportional%20hazard%20assumption.html#Modify-the-functional-form\n",
      "[E]  https://lifelines.readthedocs.io/en/latest/jupyter_notebooks/Proportional%20hazard%20assumption.html#Stratification\n",
      "\n",
      "[]\n"
     ]
    }
   ],
   "source": [
    "print(cph.check_assumptions(training_df=df_test, p_value_threshold=0.05))"
   ]
  },
  {
   "cell_type": "markdown",
   "metadata": {
    "id": "Q71cLLEEceuP"
   },
   "source": [
    "## 2-2. Individual Prediction on Test set"
   ]
  },
  {
   "cell_type": "code",
   "execution_count": 28,
   "metadata": {
    "executionInfo": {
     "elapsed": 7718,
     "status": "ok",
     "timestamp": 1621171544418,
     "user": {
      "displayName": "오현지",
      "photoUrl": "",
      "userId": "16924038929183224420"
     },
     "user_tz": -540
    },
    "id": "Wzy-vOleceIW"
   },
   "outputs": [],
   "source": [
    "df_test_X = df_test.drop(columns=['time_opt', 'status_opt'])"
   ]
  },
  {
   "cell_type": "code",
   "execution_count": 29,
   "metadata": {
    "executionInfo": {
     "elapsed": 7717,
     "status": "ok",
     "timestamp": 1621171544419,
     "user": {
      "displayName": "오현지",
      "photoUrl": "",
      "userId": "16924038929183224420"
     },
     "user_tz": -540
    },
    "id": "V1x5H5fdceA7"
   },
   "outputs": [],
   "source": [
    "# Selecting 3 random subjects to predict survival\n",
    "test_1 = df_test_X.iloc[-7:-2, :]"
   ]
  },
  {
   "cell_type": "code",
   "execution_count": 30,
   "metadata": {},
   "outputs": [],
   "source": [
    "result = cph.predict_survival_function(test_1)"
   ]
  },
  {
   "cell_type": "code",
   "execution_count": 46,
   "metadata": {
    "colab": {
     "base_uri": "https://localhost:8080/",
     "height": 445
    },
    "executionInfo": {
     "elapsed": 8559,
     "status": "ok",
     "timestamp": 1621171545264,
     "user": {
      "displayName": "오현지",
      "photoUrl": "",
      "userId": "16924038929183224420"
     },
     "user_tz": -540
    },
    "id": "5k3zVJ3lcd8x",
    "outputId": "d034ced8-0fbd-49ac-e6b8-66cebdf5d7cd"
   },
   "outputs": [
    {
     "data": {
      "text/plain": [
       "Text(0.5, 1.0, 'COXPH')"
      ]
     },
     "execution_count": 46,
     "metadata": {},
     "output_type": "execute_result"
    },
    {
     "data": {
      "image/png": "[encoded data removed]",
      "text/plain": [
       "<Figure size 936x504 with 1 Axes>"
      ]
     },
     "metadata": {
      "needs_background": "light"
     },
     "output_type": "display_data"
    }
   ],
   "source": [
    "fig, ax = plt.subplots(figsize=(13,7))\n",
    "result = cph.predict_survival_function(test_1)\n",
    "ax = sns.lineplot(data = result)\n",
    "ax.set(xlabel='Time in days', ylabel='Survival probability')\n",
    "ax.set_title(\"COXPH\")"
   ]
  },
  {
   "cell_type": "code",
   "execution_count": 47,
   "metadata": {},
   "outputs": [
    {
     "data": {
      "image/png": "[encoded data removed]",
      "text/plain": [
       "<Figure size 936x504 with 1 Axes>"
      ]
     },
     "metadata": {
      "needs_background": "light"
     },
     "output_type": "display_data"
    }
   ],
   "source": [
    "surv = rsf.predict_survival_function(df_test.iloc[-7:-2, :-2], return_array=True)\n",
    "\n",
    "plt.figure(figsize=(13,7))\n",
    "\n",
    "for i, s in enumerate(surv):\n",
    "    plt.step(rsf.event_times_, s, where=\"post\", label=str(i))\n",
    "plt.ylabel(\"Survival probability\")\n",
    "plt.xlabel(\"Time in days\")\n",
    "plt.title('RSF')\n",
    "plt.show()"
   ]
  },
  {
   "cell_type": "code",
   "execution_count": 38,
   "metadata": {
    "colab": {
     "base_uri": "https://localhost:8080/",
     "height": 230
    },
    "executionInfo": {
     "elapsed": 8557,
     "status": "ok",
     "timestamp": 1621171545264,
     "user": {
      "displayName": "오현지",
      "photoUrl": "",
      "userId": "16924038929183224420"
     },
     "user_tz": -540
    },
    "id": "D_uhgR63cd5r",
    "outputId": "3e2482bd-290f-4402-8ee3-c8eb0d4fc88e"
   },
   "outputs": [
    {
     "data": {
      "text/html": [
       "<div>\n",
       "<style scoped>\n",
       "    .dataframe tbody tr th:only-of-type {\n",
       "        vertical-align: middle;\n",
       "    }\n",
       "\n",
       "    .dataframe tbody tr th {\n",
       "        vertical-align: top;\n",
       "    }\n",
       "\n",
       "    .dataframe thead th {\n",
       "        text-align: right;\n",
       "    }\n",
       "</style>\n",
       "<table border=\"1\" class=\"dataframe\">\n",
       "  <thead>\n",
       "    <tr style=\"text-align: right;\">\n",
       "      <th></th>\n",
       "      <th>time_opt</th>\n",
       "      <th>status_opt</th>\n",
       "    </tr>\n",
       "  </thead>\n",
       "  <tbody>\n",
       "    <tr>\n",
       "      <th>2540</th>\n",
       "      <td>202</td>\n",
       "      <td>0</td>\n",
       "    </tr>\n",
       "    <tr>\n",
       "      <th>3282</th>\n",
       "      <td>360</td>\n",
       "      <td>0</td>\n",
       "    </tr>\n",
       "    <tr>\n",
       "      <th>42</th>\n",
       "      <td>244</td>\n",
       "      <td>1</td>\n",
       "    </tr>\n",
       "    <tr>\n",
       "      <th>2974</th>\n",
       "      <td>210</td>\n",
       "      <td>0</td>\n",
       "    </tr>\n",
       "    <tr>\n",
       "      <th>2686</th>\n",
       "      <td>414</td>\n",
       "      <td>0</td>\n",
       "    </tr>\n",
       "  </tbody>\n",
       "</table>\n",
       "</div>"
      ],
      "text/plain": [
       "      time_opt  status_opt\n",
       "2540       202           0\n",
       "3282       360           0\n",
       "42         244           1\n",
       "2974       210           0\n",
       "2686       414           0"
      ]
     },
     "execution_count": 38,
     "metadata": {},
     "output_type": "execute_result"
    }
   ],
   "source": [
    "df_test.iloc[-7:-2, -2:]"
   ]
  }
 ],
 "metadata": {
  "kernelspec": {
   "display_name": "Python 3",
   "language": "python",
   "name": "python3"
  },
  "language_info": {
   "codemirror_mode": {
    "name": "ipython",
    "version": 3
   },
   "file_extension": ".py",
   "mimetype": "text/x-python",
   "name": "python",
   "nbconvert_exporter": "python",
   "pygments_lexer": "ipython3",
   "version": "3.8.5"
  }
 },
 "nbformat": 4,
 "nbformat_minor": 4
}

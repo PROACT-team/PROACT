{
  "nbformat": 4,
  "nbformat_minor": 0,
  "metadata": {
    "colab": {
      "name": "본실험 2 - Parametric Survival analysis.ipynb",
      "provenance": []
    },
    "kernelspec": {
      "name": "python3",
      "display_name": "Python 3"
    },
    "language_info": {
      "name": "python"
    }
  },
  "cells": [
    {
      "cell_type": "code",
      "metadata": {
        "id": "AxN3YdD-SABH"
      },
      "source": [
        "import pandas as pd\n",
        "import matplotlib.pyplot as plt\n",
        "import seaborn as sns\n",
        "import numpy as np"
      ],
      "execution_count": 2,
      "outputs": []
    },
    {
      "cell_type": "code",
      "metadata": {
        "colab": {
          "resources": {
            "http://localhost:8080/nbextensions/google.colab/files.js": {
              "data": "Ly8gQ29weXJpZ2h0IDIwMTcgR29vZ2xlIExMQwovLwovLyBMaWNlbnNlZCB1bmRlciB0aGUgQXBhY2hlIExpY2Vuc2UsIFZlcnNpb24gMi4wICh0aGUgIkxpY2Vuc2UiKTsKLy8geW91IG1heSBub3QgdXNlIHRoaXMgZmlsZSBleGNlcHQgaW4gY29tcGxpYW5jZSB3aXRoIHRoZSBMaWNlbnNlLgovLyBZb3UgbWF5IG9idGFpbiBhIGNvcHkgb2YgdGhlIExpY2Vuc2UgYXQKLy8KLy8gICAgICBodHRwOi8vd3d3LmFwYWNoZS5vcmcvbGljZW5zZXMvTElDRU5TRS0yLjAKLy8KLy8gVW5sZXNzIHJlcXVpcmVkIGJ5IGFwcGxpY2FibGUgbGF3IG9yIGFncmVlZCB0byBpbiB3cml0aW5nLCBzb2Z0d2FyZQovLyBkaXN0cmlidXRlZCB1bmRlciB0aGUgTGljZW5zZSBpcyBkaXN0cmlidXRlZCBvbiBhbiAiQVMgSVMiIEJBU0lTLAovLyBXSVRIT1VUIFdBUlJBTlRJRVMgT1IgQ09ORElUSU9OUyBPRiBBTlkgS0lORCwgZWl0aGVyIGV4cHJlc3Mgb3IgaW1wbGllZC4KLy8gU2VlIHRoZSBMaWNlbnNlIGZvciB0aGUgc3BlY2lmaWMgbGFuZ3VhZ2UgZ292ZXJuaW5nIHBlcm1pc3Npb25zIGFuZAovLyBsaW1pdGF0aW9ucyB1bmRlciB0aGUgTGljZW5zZS4KCi8qKgogKiBAZmlsZW92ZXJ2aWV3IEhlbHBlcnMgZm9yIGdvb2dsZS5jb2xhYiBQeXRob24gbW9kdWxlLgogKi8KKGZ1bmN0aW9uKHNjb3BlKSB7CmZ1bmN0aW9uIHNwYW4odGV4dCwgc3R5bGVBdHRyaWJ1dGVzID0ge30pIHsKICBjb25zdCBlbGVtZW50ID0gZG9jdW1lbnQuY3JlYXRlRWxlbWVudCgnc3BhbicpOwogIGVsZW1lbnQudGV4dENvbnRlbnQgPSB0ZXh0OwogIGZvciAoY29uc3Qga2V5IG9mIE9iamVjdC5rZXlzKHN0eWxlQXR0cmlidXRlcykpIHsKICAgIGVsZW1lbnQuc3R5bGVba2V5XSA9IHN0eWxlQXR0cmlidXRlc1trZXldOwogIH0KICByZXR1cm4gZWxlbWVudDsKfQoKLy8gTWF4IG51bWJlciBvZiBieXRlcyB3aGljaCB3aWxsIGJlIHVwbG9hZGVkIGF0IGEgdGltZS4KY29uc3QgTUFYX1BBWUxPQURfU0laRSA9IDEwMCAqIDEwMjQ7CgpmdW5jdGlvbiBfdXBsb2FkRmlsZXMoaW5wdXRJZCwgb3V0cHV0SWQpIHsKICBjb25zdCBzdGVwcyA9IHVwbG9hZEZpbGVzU3RlcChpbnB1dElkLCBvdXRwdXRJZCk7CiAgY29uc3Qgb3V0cHV0RWxlbWVudCA9IGRvY3VtZW50LmdldEVsZW1lbnRCeUlkKG91dHB1dElkKTsKICAvLyBDYWNoZSBzdGVwcyBvbiB0aGUgb3V0cHV0RWxlbWVudCB0byBtYWtlIGl0IGF2YWlsYWJsZSBmb3IgdGhlIG5leHQgY2FsbAogIC8vIHRvIHVwbG9hZEZpbGVzQ29udGludWUgZnJvbSBQeXRob24uCiAgb3V0cHV0RWxlbWVudC5zdGVwcyA9IHN0ZXBzOwoKICByZXR1cm4gX3VwbG9hZEZpbGVzQ29udGludWUob3V0cHV0SWQpOwp9CgovLyBUaGlzIGlzIHJvdWdobHkgYW4gYXN5bmMgZ2VuZXJhdG9yIChub3Qgc3VwcG9ydGVkIGluIHRoZSBicm93c2VyIHlldCksCi8vIHdoZXJlIHRoZXJlIGFyZSBtdWx0aXBsZSBhc3luY2hyb25vdXMgc3RlcHMgYW5kIHRoZSBQeXRob24gc2lkZSBpcyBnb2luZwovLyB0byBwb2xsIGZvciBjb21wbGV0aW9uIG9mIGVhY2ggc3RlcC4KLy8gVGhpcyB1c2VzIGEgUHJvbWlzZSB0byBibG9jayB0aGUgcHl0aG9uIHNpZGUgb24gY29tcGxldGlvbiBvZiBlYWNoIHN0ZXAsCi8vIHRoZW4gcGFzc2VzIHRoZSByZXN1bHQgb2YgdGhlIHByZXZpb3VzIHN0ZXAgYXMgdGhlIGlucHV0IHRvIHRoZSBuZXh0IHN0ZXAuCmZ1bmN0aW9uIF91cGxvYWRGaWxlc0NvbnRpbnVlKG91dHB1dElkKSB7CiAgY29uc3Qgb3V0cHV0RWxlbWVudCA9IGRvY3VtZW50LmdldEVsZW1lbnRCeUlkKG91dHB1dElkKTsKICBjb25zdCBzdGVwcyA9IG91dHB1dEVsZW1lbnQuc3RlcHM7CgogIGNvbnN0IG5leHQgPSBzdGVwcy5uZXh0KG91dHB1dEVsZW1lbnQubGFzdFByb21pc2VWYWx1ZSk7CiAgcmV0dXJuIFByb21pc2UucmVzb2x2ZShuZXh0LnZhbHVlLnByb21pc2UpLnRoZW4oKHZhbHVlKSA9PiB7CiAgICAvLyBDYWNoZSB0aGUgbGFzdCBwcm9taXNlIHZhbHVlIHRvIG1ha2UgaXQgYXZhaWxhYmxlIHRvIHRoZSBuZXh0CiAgICAvLyBzdGVwIG9mIHRoZSBnZW5lcmF0b3IuCiAgICBvdXRwdXRFbGVtZW50Lmxhc3RQcm9taXNlVmFsdWUgPSB2YWx1ZTsKICAgIHJldHVybiBuZXh0LnZhbHVlLnJlc3BvbnNlOwogIH0pOwp9CgovKioKICogR2VuZXJhdG9yIGZ1bmN0aW9uIHdoaWNoIGlzIGNhbGxlZCBiZXR3ZWVuIGVhY2ggYXN5bmMgc3RlcCBvZiB0aGUgdXBsb2FkCiAqIHByb2Nlc3MuCiAqIEBwYXJhbSB7c3RyaW5nfSBpbnB1dElkIEVsZW1lbnQgSUQgb2YgdGhlIGlucHV0IGZpbGUgcGlja2VyIGVsZW1lbnQuCiAqIEBwYXJhbSB7c3RyaW5nfSBvdXRwdXRJZCBFbGVtZW50IElEIG9mIHRoZSBvdXRwdXQgZGlzcGxheS4KICogQHJldHVybiB7IUl0ZXJhYmxlPCFPYmplY3Q+fSBJdGVyYWJsZSBvZiBuZXh0IHN0ZXBzLgogKi8KZnVuY3Rpb24qIHVwbG9hZEZpbGVzU3RlcChpbnB1dElkLCBvdXRwdXRJZCkgewogIGNvbnN0IGlucHV0RWxlbWVudCA9IGRvY3VtZW50LmdldEVsZW1lbnRCeUlkKGlucHV0SWQpOwogIGlucHV0RWxlbWVudC5kaXNhYmxlZCA9IGZhbHNlOwoKICBjb25zdCBvdXRwdXRFbGVtZW50ID0gZG9jdW1lbnQuZ2V0RWxlbWVudEJ5SWQob3V0cHV0SWQpOwogIG91dHB1dEVsZW1lbnQuaW5uZXJIVE1MID0gJyc7CgogIGNvbnN0IHBpY2tlZFByb21pc2UgPSBuZXcgUHJvbWlzZSgocmVzb2x2ZSkgPT4gewogICAgaW5wdXRFbGVtZW50LmFkZEV2ZW50TGlzdGVuZXIoJ2NoYW5nZScsIChlKSA9PiB7CiAgICAgIHJlc29sdmUoZS50YXJnZXQuZmlsZXMpOwogICAgfSk7CiAgfSk7CgogIGNvbnN0IGNhbmNlbCA9IGRvY3VtZW50LmNyZWF0ZUVsZW1lbnQoJ2J1dHRvbicpOwogIGlucHV0RWxlbWVudC5wYXJlbnRFbGVtZW50LmFwcGVuZENoaWxkKGNhbmNlbCk7CiAgY2FuY2VsLnRleHRDb250ZW50ID0gJ0NhbmNlbCB1cGxvYWQnOwogIGNvbnN0IGNhbmNlbFByb21pc2UgPSBuZXcgUHJvbWlzZSgocmVzb2x2ZSkgPT4gewogICAgY2FuY2VsLm9uY2xpY2sgPSAoKSA9PiB7CiAgICAgIHJlc29sdmUobnVsbCk7CiAgICB9OwogIH0pOwoKICAvLyBXYWl0IGZvciB0aGUgdXNlciB0byBwaWNrIHRoZSBmaWxlcy4KICBjb25zdCBmaWxlcyA9IHlpZWxkIHsKICAgIHByb21pc2U6IFByb21pc2UucmFjZShbcGlja2VkUHJvbWlzZSwgY2FuY2VsUHJvbWlzZV0pLAogICAgcmVzcG9uc2U6IHsKICAgICAgYWN0aW9uOiAnc3RhcnRpbmcnLAogICAgfQogIH07CgogIGNhbmNlbC5yZW1vdmUoKTsKCiAgLy8gRGlzYWJsZSB0aGUgaW5wdXQgZWxlbWVudCBzaW5jZSBmdXJ0aGVyIHBpY2tzIGFyZSBub3QgYWxsb3dlZC4KICBpbnB1dEVsZW1lbnQuZGlzYWJsZWQgPSB0cnVlOwoKICBpZiAoIWZpbGVzKSB7CiAgICByZXR1cm4gewogICAgICByZXNwb25zZTogewogICAgICAgIGFjdGlvbjogJ2NvbXBsZXRlJywKICAgICAgfQogICAgfTsKICB9CgogIGZvciAoY29uc3QgZmlsZSBvZiBmaWxlcykgewogICAgY29uc3QgbGkgPSBkb2N1bWVudC5jcmVhdGVFbGVtZW50KCdsaScpOwogICAgbGkuYXBwZW5kKHNwYW4oZmlsZS5uYW1lLCB7Zm9udFdlaWdodDogJ2JvbGQnfSkpOwogICAgbGkuYXBwZW5kKHNwYW4oCiAgICAgICAgYCgke2ZpbGUudHlwZSB8fCAnbi9hJ30pIC0gJHtmaWxlLnNpemV9IGJ5dGVzLCBgICsKICAgICAgICBgbGFzdCBtb2RpZmllZDogJHsKICAgICAgICAgICAgZmlsZS5sYXN0TW9kaWZpZWREYXRlID8gZmlsZS5sYXN0TW9kaWZpZWREYXRlLnRvTG9jYWxlRGF0ZVN0cmluZygpIDoKICAgICAgICAgICAgICAgICAgICAgICAgICAgICAgICAgICAgJ24vYSd9IC0gYCkpOwogICAgY29uc3QgcGVyY2VudCA9IHNwYW4oJzAlIGRvbmUnKTsKICAgIGxpLmFwcGVuZENoaWxkKHBlcmNlbnQpOwoKICAgIG91dHB1dEVsZW1lbnQuYXBwZW5kQ2hpbGQobGkpOwoKICAgIGNvbnN0IGZpbGVEYXRhUHJvbWlzZSA9IG5ldyBQcm9taXNlKChyZXNvbHZlKSA9PiB7CiAgICAgIGNvbnN0IHJlYWRlciA9IG5ldyBGaWxlUmVhZGVyKCk7CiAgICAgIHJlYWRlci5vbmxvYWQgPSAoZSkgPT4gewogICAgICAgIHJlc29sdmUoZS50YXJnZXQucmVzdWx0KTsKICAgICAgfTsKICAgICAgcmVhZGVyLnJlYWRBc0FycmF5QnVmZmVyKGZpbGUpOwogICAgfSk7CiAgICAvLyBXYWl0IGZvciB0aGUgZGF0YSB0byBiZSByZWFkeS4KICAgIGxldCBmaWxlRGF0YSA9IHlpZWxkIHsKICAgICAgcHJvbWlzZTogZmlsZURhdGFQcm9taXNlLAogICAgICByZXNwb25zZTogewogICAgICAgIGFjdGlvbjogJ2NvbnRpbnVlJywKICAgICAgfQogICAgfTsKCiAgICAvLyBVc2UgYSBjaHVua2VkIHNlbmRpbmcgdG8gYXZvaWQgbWVzc2FnZSBzaXplIGxpbWl0cy4gU2VlIGIvNjIxMTU2NjAuCiAgICBsZXQgcG9zaXRpb24gPSAwOwogICAgd2hpbGUgKHBvc2l0aW9uIDwgZmlsZURhdGEuYnl0ZUxlbmd0aCkgewogICAgICBjb25zdCBsZW5ndGggPSBNYXRoLm1pbihmaWxlRGF0YS5ieXRlTGVuZ3RoIC0gcG9zaXRpb24sIE1BWF9QQVlMT0FEX1NJWkUpOwogICAgICBjb25zdCBjaHVuayA9IG5ldyBVaW50OEFycmF5KGZpbGVEYXRhLCBwb3NpdGlvbiwgbGVuZ3RoKTsKICAgICAgcG9zaXRpb24gKz0gbGVuZ3RoOwoKICAgICAgY29uc3QgYmFzZTY0ID0gYnRvYShTdHJpbmcuZnJvbUNoYXJDb2RlLmFwcGx5KG51bGwsIGNodW5rKSk7CiAgICAgIHlpZWxkIHsKICAgICAgICByZXNwb25zZTogewogICAgICAgICAgYWN0aW9uOiAnYXBwZW5kJywKICAgICAgICAgIGZpbGU6IGZpbGUubmFtZSwKICAgICAgICAgIGRhdGE6IGJhc2U2NCwKICAgICAgICB9LAogICAgICB9OwogICAgICBwZXJjZW50LnRleHRDb250ZW50ID0KICAgICAgICAgIGAke01hdGgucm91bmQoKHBvc2l0aW9uIC8gZmlsZURhdGEuYnl0ZUxlbmd0aCkgKiAxMDApfSUgZG9uZWA7CiAgICB9CiAgfQoKICAvLyBBbGwgZG9uZS4KICB5aWVsZCB7CiAgICByZXNwb25zZTogewogICAgICBhY3Rpb246ICdjb21wbGV0ZScsCiAgICB9CiAgfTsKfQoKc2NvcGUuZ29vZ2xlID0gc2NvcGUuZ29vZ2xlIHx8IHt9OwpzY29wZS5nb29nbGUuY29sYWIgPSBzY29wZS5nb29nbGUuY29sYWIgfHwge307CnNjb3BlLmdvb2dsZS5jb2xhYi5fZmlsZXMgPSB7CiAgX3VwbG9hZEZpbGVzLAogIF91cGxvYWRGaWxlc0NvbnRpbnVlLAp9Owp9KShzZWxmKTsK",
              "ok": true,
              "headers": [
                [
                  "content-type",
                  "application/javascript"
                ]
              ],
              "status": 200,
              "status_text": ""
            }
          },
          "base_uri": "https://localhost:8080/",
          "height": 142
        },
        "id": "ZNPbNF2ySWvd",
        "outputId": "326833cf-d9de-4a01-f1c7-07bda09f3c3f"
      },
      "source": [
        "from google.colab import files \n",
        "uploaded = files.upload()"
      ],
      "execution_count": 3,
      "outputs": [
        {
          "output_type": "display_data",
          "data": {
            "text/html": [
              "\n",
              "     <input type=\"file\" id=\"files-634c4ef6-b0aa-4daa-be9d-b772ed7a1583\" name=\"files[]\" multiple disabled\n",
              "        style=\"border:none\" />\n",
              "     <output id=\"result-634c4ef6-b0aa-4daa-be9d-b772ed7a1583\">\n",
              "      Upload widget is only available when the cell has been executed in the\n",
              "      current browser session. Please rerun this cell to enable.\n",
              "      </output>\n",
              "      <script src=\"/nbextensions/google.colab/files.js\"></script> "
            ],
            "text/plain": [
              "<IPython.core.display.HTML object>"
            ]
          },
          "metadata": {
            "tags": []
          }
        },
        {
          "output_type": "stream",
          "text": [
            "Saving imputed features_final.csv to imputed features_final.csv\n",
            "Saving Optimal target.csv to Optimal target.csv\n",
            "Saving Real target_no92.csv to Real target_no92.csv\n"
          ],
          "name": "stdout"
        }
      ]
    },
    {
      "cell_type": "code",
      "metadata": {
        "id": "jN4nayBFSv52"
      },
      "source": [
        "import io\n",
        "feature = pd.read_csv(io.BytesIO(uploaded['imputed features_final.csv'])) \n",
        "optimal_target = pd.read_csv(io.BytesIO(uploaded['Optimal target.csv'])) \n",
        "real_target = pd.read_csv(io.BytesIO(uploaded['Real target_no92.csv'])) "
      ],
      "execution_count": 4,
      "outputs": []
    },
    {
      "cell_type": "code",
      "metadata": {
        "id": "wBuAoDaySlXx"
      },
      "source": [
        "opt_data = pd.merge(feature, optimal_target, on = 'SubjectID')\n",
        "opt_data = opt_data.drop(columns=['SubjectID','Unnamed: 0_x', 'Unnamed: 0.1', 'Unnamed: 0_y'])\n",
        "opt_data = opt_data[['Age', 'Gender', 'onset_site', 'onset_delta',\n",
        "       'diag_minus_onset', 'slope_alsfrs_tot',\n",
        "       'fvc_slope', 'fvc_mean',  'mean_Q10_Respiratory',\n",
        "       'mean_Bulbar', 'mean_motor', 'slope_Q1_Speech', 'slope_Q2_Salivation',\n",
        "       'slope_Q3_Swallowing', 'slope_Q4_Handwriting', 'slope_Q5_Cutting',\n",
        "       'slope_Q6_Dressing_and_Hygiene', 'slope_Q7_Turning_in_Bed',\n",
        "       'slope_Q8_Walking', 'slope_Q9_Climbing_Stairs', 'slope_Q10_Respiratory', \n",
        "       'time_opt', 'status_opt']]"
      ],
      "execution_count": 5,
      "outputs": []
    },
    {
      "cell_type": "code",
      "metadata": {
        "id": "8oBmzQbBThO_"
      },
      "source": [
        "y = opt_data[['status_opt']]"
      ],
      "execution_count": 6,
      "outputs": []
    },
    {
      "cell_type": "code",
      "metadata": {
        "id": "voW8hOPdT_Vn"
      },
      "source": [
        "from sklearn.model_selection import train_test_split\n",
        "\n",
        "df_train, df_test, y_train, y_test = train_test_split(opt_data, y, train_size=0.8, test_size=0.2, random_state=11)"
      ],
      "execution_count": 7,
      "outputs": []
    },
    {
      "cell_type": "code",
      "metadata": {
        "colab": {
          "base_uri": "https://localhost:8080/"
        },
        "id": "JPL4_S15U1IH",
        "outputId": "b46d653a-c3bc-4130-fd37-34bb2197f293"
      },
      "source": [
        "!pip install lifelines"
      ],
      "execution_count": 8,
      "outputs": [
        {
          "output_type": "stream",
          "text": [
            "Collecting lifelines\n",
            "\u001b[?25l  Downloading https://files.pythonhosted.org/packages/51/af/6b2815701c12d6dc8be11c9234fe87bb55b51788d9cc41b39c92952d577a/lifelines-0.25.11-py3-none-any.whl (348kB)\n",
            "\r\u001b[K     |█                               | 10kB 13.0MB/s eta 0:00:01\r\u001b[K     |█▉                              | 20kB 18.9MB/s eta 0:00:01\r\u001b[K     |██▉                             | 30kB 23.6MB/s eta 0:00:01\r\u001b[K     |███▊                            | 40kB 19.4MB/s eta 0:00:01\r\u001b[K     |████▊                           | 51kB 9.5MB/s eta 0:00:01\r\u001b[K     |█████▋                          | 61kB 8.5MB/s eta 0:00:01\r\u001b[K     |██████▋                         | 71kB 9.5MB/s eta 0:00:01\r\u001b[K     |███████▌                        | 81kB 10.0MB/s eta 0:00:01\r\u001b[K     |████████▌                       | 92kB 10.9MB/s eta 0:00:01\r\u001b[K     |█████████▍                      | 102kB 11.0MB/s eta 0:00:01\r\u001b[K     |██████████▍                     | 112kB 11.0MB/s eta 0:00:01\r\u001b[K     |███████████▎                    | 122kB 11.0MB/s eta 0:00:01\r\u001b[K     |████████████▎                   | 133kB 11.0MB/s eta 0:00:01\r\u001b[K     |█████████████▏                  | 143kB 11.0MB/s eta 0:00:01\r\u001b[K     |██████████████▏                 | 153kB 11.0MB/s eta 0:00:01\r\u001b[K     |███████████████                 | 163kB 11.0MB/s eta 0:00:01\r\u001b[K     |████████████████                | 174kB 11.0MB/s eta 0:00:01\r\u001b[K     |█████████████████               | 184kB 11.0MB/s eta 0:00:01\r\u001b[K     |██████████████████              | 194kB 11.0MB/s eta 0:00:01\r\u001b[K     |██████████████████▉             | 204kB 11.0MB/s eta 0:00:01\r\u001b[K     |███████████████████▊            | 215kB 11.0MB/s eta 0:00:01\r\u001b[K     |████████████████████▊           | 225kB 11.0MB/s eta 0:00:01\r\u001b[K     |█████████████████████▋          | 235kB 11.0MB/s eta 0:00:01\r\u001b[K     |██████████████████████▋         | 245kB 11.0MB/s eta 0:00:01\r\u001b[K     |███████████████████████▌        | 256kB 11.0MB/s eta 0:00:01\r\u001b[K     |████████████████████████▌       | 266kB 11.0MB/s eta 0:00:01\r\u001b[K     |█████████████████████████▍      | 276kB 11.0MB/s eta 0:00:01\r\u001b[K     |██████████████████████████▍     | 286kB 11.0MB/s eta 0:00:01\r\u001b[K     |███████████████████████████▎    | 296kB 11.0MB/s eta 0:00:01\r\u001b[K     |████████████████████████████▎   | 307kB 11.0MB/s eta 0:00:01\r\u001b[K     |█████████████████████████████▏  | 317kB 11.0MB/s eta 0:00:01\r\u001b[K     |██████████████████████████████▏ | 327kB 11.0MB/s eta 0:00:01\r\u001b[K     |███████████████████████████████ | 337kB 11.0MB/s eta 0:00:01\r\u001b[K     |████████████████████████████████| 348kB 11.0MB/s \n",
            "\u001b[?25hRequirement already satisfied: matplotlib>=3.0 in /usr/local/lib/python3.7/dist-packages (from lifelines) (3.2.2)\n",
            "Requirement already satisfied: numpy>=1.14.0 in /usr/local/lib/python3.7/dist-packages (from lifelines) (1.19.5)\n",
            "Requirement already satisfied: scipy>=1.2.0 in /usr/local/lib/python3.7/dist-packages (from lifelines) (1.4.1)\n",
            "Requirement already satisfied: pandas>=0.23.0 in /usr/local/lib/python3.7/dist-packages (from lifelines) (1.1.5)\n",
            "Collecting autograd-gamma>=0.3\n",
            "  Downloading https://files.pythonhosted.org/packages/85/ae/7f2031ea76140444b2453fa139041e5afd4a09fc5300cfefeb1103291f80/autograd-gamma-0.5.0.tar.gz\n",
            "Requirement already satisfied: autograd>=1.3 in /usr/local/lib/python3.7/dist-packages (from lifelines) (1.3)\n",
            "Collecting formulaic<0.3,>=0.2.2\n",
            "\u001b[?25l  Downloading https://files.pythonhosted.org/packages/02/64/6702b5cadc89ece93af2e01996504f3a895196354a35713e2ef22f089d3e/formulaic-0.2.3-py3-none-any.whl (55kB)\n",
            "\u001b[K     |████████████████████████████████| 61kB 7.1MB/s \n",
            "\u001b[?25hRequirement already satisfied: cycler>=0.10 in /usr/local/lib/python3.7/dist-packages (from matplotlib>=3.0->lifelines) (0.10.0)\n",
            "Requirement already satisfied: pyparsing!=2.0.4,!=2.1.2,!=2.1.6,>=2.0.1 in /usr/local/lib/python3.7/dist-packages (from matplotlib>=3.0->lifelines) (2.4.7)\n",
            "Requirement already satisfied: python-dateutil>=2.1 in /usr/local/lib/python3.7/dist-packages (from matplotlib>=3.0->lifelines) (2.8.1)\n",
            "Requirement already satisfied: kiwisolver>=1.0.1 in /usr/local/lib/python3.7/dist-packages (from matplotlib>=3.0->lifelines) (1.3.1)\n",
            "Requirement already satisfied: pytz>=2017.2 in /usr/local/lib/python3.7/dist-packages (from pandas>=0.23.0->lifelines) (2018.9)\n",
            "Requirement already satisfied: future>=0.15.2 in /usr/local/lib/python3.7/dist-packages (from autograd>=1.3->lifelines) (0.16.0)\n",
            "Requirement already satisfied: astor in /usr/local/lib/python3.7/dist-packages (from formulaic<0.3,>=0.2.2->lifelines) (0.8.1)\n",
            "Collecting interface-meta>=1.2\n",
            "  Downloading https://files.pythonhosted.org/packages/71/31/5e474208f5df9012ebecfaa23884b14f93671ea4f4f6d468eb096b73e499/interface_meta-1.2.3-py2.py3-none-any.whl\n",
            "Requirement already satisfied: wrapt in /usr/local/lib/python3.7/dist-packages (from formulaic<0.3,>=0.2.2->lifelines) (1.12.1)\n",
            "Requirement already satisfied: six in /usr/local/lib/python3.7/dist-packages (from cycler>=0.10->matplotlib>=3.0->lifelines) (1.15.0)\n",
            "Building wheels for collected packages: autograd-gamma\n",
            "  Building wheel for autograd-gamma (setup.py) ... \u001b[?25l\u001b[?25hdone\n",
            "  Created wheel for autograd-gamma: filename=autograd_gamma-0.5.0-cp37-none-any.whl size=4035 sha256=45a59343f5117788ca928d9328974308d1345bb41244c1f49118c7837e3b32da\n",
            "  Stored in directory: /root/.cache/pip/wheels/dc/68/dc/91321c55fba449755524481854f5be70d41912b8f886f908bb\n",
            "Successfully built autograd-gamma\n",
            "Installing collected packages: autograd-gamma, interface-meta, formulaic, lifelines\n",
            "Successfully installed autograd-gamma-0.5.0 formulaic-0.2.3 interface-meta-1.2.3 lifelines-0.25.11\n"
          ],
          "name": "stdout"
        }
      ]
    },
    {
      "cell_type": "code",
      "metadata": {
        "colab": {
          "base_uri": "https://localhost:8080/",
          "height": 1000
        },
        "id": "RjjBwL1CUp8P",
        "outputId": "123a05aa-ce56-4f44-e5af-22565fb99882"
      },
      "source": [
        "from lifelines import WeibullAFTFitter\n",
        "\n",
        "aft = WeibullAFTFitter()\n",
        "aft.fit(df_train, duration_col='time_opt', event_col='status_opt', ancillary=False)\n",
        "\n",
        "aft.print_summary(3)"
      ],
      "execution_count": 9,
      "outputs": [
        {
          "output_type": "display_data",
          "data": {
            "text/latex": "\\begin{tabular}{llrrrrrrrrrr}\n\\toprule\n     &           &   coef &  exp(coef) &  se(coef) &  coef lower 95\\% &  coef upper 95\\% &  exp(coef) lower 95\\% &  exp(coef) upper 95\\% &      z &     p &  -log2(p) \\\\\nparam & covariate &        &            &           &                 &                 &                      &                      &        &       &           \\\\\n\\midrule\nlambda\\_ & Age & -0.014 &      0.987 &     0.002 &          -0.017 &          -0.010 &                0.983 &                0.990 & -7.504 & 0.000 &    43.882 \\\\\n     & Gender &  0.061 &      1.063 &     0.041 &          -0.019 &           0.142 &                0.981 &                1.152 &  1.494 & 0.135 &     2.888 \\\\\n     & diag\\_minus\\_onset & -0.000 &      1.000 &     0.000 &          -0.001 &          -0.000 &                0.999 &                1.000 & -2.621 & 0.009 &     6.834 \\\\\n     & fvc\\_mean &  0.006 &      1.006 &     0.001 &           0.004 &           0.009 &                1.004 &                1.009 &  4.777 & 0.000 &    19.104 \\\\\n     & fvc\\_slope &  0.223 &      1.250 &     0.063 &           0.100 &           0.347 &                1.105 &                1.414 &  3.549 & 0.000 &    11.338 \\\\\n     & mean\\_Bulbar &  0.229 &      1.257 &     0.017 &           0.195 &           0.263 &                1.216 &                1.300 & 13.293 & 0.000 &   131.536 \\\\\n     & mean\\_Q10\\_Respiratory & -0.039 &      0.961 &     0.032 &          -0.101 &           0.023 &                0.904 &                1.023 & -1.246 & 0.213 &     2.233 \\\\\n     & mean\\_motor &  0.019 &      1.019 &     0.005 &           0.010 &           0.028 &                1.010 &                1.028 &  3.976 & 0.000 &    13.801 \\\\\n     & onset\\_delta & -0.001 &      0.999 &     0.000 &          -0.001 &          -0.001 &                0.999 &                0.999 & -6.609 & 0.000 &    34.588 \\\\\n     & onset\\_site & -0.163 &      0.850 &     0.059 &          -0.278 &          -0.048 &                0.757 &                0.953 & -2.772 & 0.006 &     7.486 \\\\\n     & slope\\_Q10\\_Respiratory & -2.332 &      0.097 &     2.022 &          -6.294 &           1.630 &                0.002 &                5.106 & -1.153 & 0.249 &     2.007 \\\\\n     & slope\\_Q1\\_Speech &  1.153 &      3.169 &     1.957 &          -2.682 &           4.989 &                0.068 &              146.764 &  0.589 & 0.556 &     0.848 \\\\\n     & slope\\_Q2\\_Salivation &  3.045 &     21.019 &     2.151 &          -1.171 &           7.261 &                0.310 &             1424.293 &  1.416 & 0.157 &     2.673 \\\\\n     & slope\\_Q3\\_Swallowing & -1.196 &      0.302 &     2.200 &          -5.508 &           3.116 &                0.004 &               22.563 & -0.544 & 0.587 &     0.769 \\\\\n     & slope\\_Q4\\_Handwriting & -3.021 &      0.049 &     2.076 &          -7.089 &           1.047 &                0.001 &                2.850 & -1.455 & 0.146 &     2.780 \\\\\n     & slope\\_Q5\\_Cutting & -1.957 &      0.141 &     1.786 &          -5.457 &           1.544 &                0.004 &                4.682 & -1.096 & 0.273 &     1.872 \\\\\n     & slope\\_Q6\\_Dressing\\_and\\_Hygiene &  2.036 &      7.659 &     2.514 &          -2.891 &           6.963 &                0.056 &             1056.583 &  0.810 & 0.418 &     1.258 \\\\\n     & slope\\_Q7\\_Turning\\_in\\_Bed & -1.120 &      0.326 &     0.831 &          -2.748 &           0.508 &                0.064 &                1.662 & -1.348 & 0.178 &     2.494 \\\\\n     & slope\\_Q8\\_Walking & -0.488 &      0.614 &     2.425 &          -5.241 &           4.266 &                0.005 &               71.223 & -0.201 & 0.841 &     0.251 \\\\\n     & slope\\_Q9\\_Climbing\\_Stairs & -1.323 &      0.266 &     1.871 &          -4.990 &           2.344 &                0.007 &               10.425 & -0.707 & 0.480 &     1.060 \\\\\n     & slope\\_alsfrs\\_tot &  1.417 &      4.123 &     1.476 &          -1.477 &           4.310 &                0.228 &               74.430 &  0.960 & 0.337 &     1.568 \\\\\n     & Intercept &  5.060 &    157.571 &     0.183 &           4.701 &           5.419 &              110.047 &              225.619 & 27.627 & 0.000 &   555.667 \\\\\nrho\\_ & Intercept &  0.806 &      2.238 &     0.030 &           0.746 &           0.865 &                2.109 &                2.376 & 26.451 & 0.000 &   509.736 \\\\\n\\bottomrule\n\\end{tabular}\n",
            "text/html": [
              "<div>\n",
              "<style scoped>\n",
              "    .dataframe tbody tr th:only-of-type {\n",
              "        vertical-align: middle;\n",
              "    }\n",
              "\n",
              "    .dataframe tbody tr th {\n",
              "        vertical-align: top;\n",
              "    }\n",
              "\n",
              "    .dataframe thead th {\n",
              "        text-align: right;\n",
              "    }\n",
              "</style>\n",
              "<table border=\"1\" class=\"dataframe\">\n",
              "  <tbody>\n",
              "    <tr>\n",
              "      <th>model</th>\n",
              "      <td>lifelines.WeibullAFTFitter</td>\n",
              "    </tr>\n",
              "    <tr>\n",
              "      <th>duration col</th>\n",
              "      <td>'time_opt'</td>\n",
              "    </tr>\n",
              "    <tr>\n",
              "      <th>event col</th>\n",
              "      <td>'status_opt'</td>\n",
              "    </tr>\n",
              "    <tr>\n",
              "      <th>number of observations</th>\n",
              "      <td>2713</td>\n",
              "    </tr>\n",
              "    <tr>\n",
              "      <th>number of events observed</th>\n",
              "      <td>529</td>\n",
              "    </tr>\n",
              "    <tr>\n",
              "      <th>log-likelihood</th>\n",
              "      <td>-3956.391</td>\n",
              "    </tr>\n",
              "    <tr>\n",
              "      <th>time fit was run</th>\n",
              "      <td>2021-05-22 06:30:16 UTC</td>\n",
              "    </tr>\n",
              "  </tbody>\n",
              "</table>\n",
              "</div><table border=\"1\" class=\"dataframe\">\n",
              "  <thead>\n",
              "    <tr style=\"text-align: right;\">\n",
              "      <th style=\"min-width: 12px;\"></th>\n",
              "      <th style=\"min-width: 12px;\"></th>\n",
              "      <th style=\"min-width: 12px;\">coef</th>\n",
              "      <th style=\"min-width: 12px;\">exp(coef)</th>\n",
              "      <th style=\"min-width: 12px;\">se(coef)</th>\n",
              "      <th style=\"min-width: 12px;\">coef lower 95%</th>\n",
              "      <th style=\"min-width: 12px;\">coef upper 95%</th>\n",
              "      <th style=\"min-width: 12px;\">exp(coef) lower 95%</th>\n",
              "      <th style=\"min-width: 12px;\">exp(coef) upper 95%</th>\n",
              "      <th style=\"min-width: 12px;\">z</th>\n",
              "      <th style=\"min-width: 12px;\">p</th>\n",
              "      <th style=\"min-width: 12px;\">-log2(p)</th>\n",
              "    </tr>\n",
              "  </thead>\n",
              "  <tbody>\n",
              "    <tr>\n",
              "      <th rowspan=\"22\" valign=\"top\">lambda_</th>\n",
              "      <th>Age</th>\n",
              "      <td>-0.014</td>\n",
              "      <td>0.987</td>\n",
              "      <td>0.002</td>\n",
              "      <td>-0.017</td>\n",
              "      <td>-0.010</td>\n",
              "      <td>0.983</td>\n",
              "      <td>0.990</td>\n",
              "      <td>-7.504</td>\n",
              "      <td>&lt;0.0005</td>\n",
              "      <td>43.882</td>\n",
              "    </tr>\n",
              "    <tr>\n",
              "      <th>Gender</th>\n",
              "      <td>0.061</td>\n",
              "      <td>1.063</td>\n",
              "      <td>0.041</td>\n",
              "      <td>-0.019</td>\n",
              "      <td>0.142</td>\n",
              "      <td>0.981</td>\n",
              "      <td>1.152</td>\n",
              "      <td>1.494</td>\n",
              "      <td>0.135</td>\n",
              "      <td>2.888</td>\n",
              "    </tr>\n",
              "    <tr>\n",
              "      <th>diag_minus_onset</th>\n",
              "      <td>-0.000</td>\n",
              "      <td>1.000</td>\n",
              "      <td>0.000</td>\n",
              "      <td>-0.001</td>\n",
              "      <td>-0.000</td>\n",
              "      <td>0.999</td>\n",
              "      <td>1.000</td>\n",
              "      <td>-2.621</td>\n",
              "      <td>0.009</td>\n",
              "      <td>6.834</td>\n",
              "    </tr>\n",
              "    <tr>\n",
              "      <th>fvc_mean</th>\n",
              "      <td>0.006</td>\n",
              "      <td>1.006</td>\n",
              "      <td>0.001</td>\n",
              "      <td>0.004</td>\n",
              "      <td>0.009</td>\n",
              "      <td>1.004</td>\n",
              "      <td>1.009</td>\n",
              "      <td>4.777</td>\n",
              "      <td>&lt;0.0005</td>\n",
              "      <td>19.104</td>\n",
              "    </tr>\n",
              "    <tr>\n",
              "      <th>fvc_slope</th>\n",
              "      <td>0.223</td>\n",
              "      <td>1.250</td>\n",
              "      <td>0.063</td>\n",
              "      <td>0.100</td>\n",
              "      <td>0.347</td>\n",
              "      <td>1.105</td>\n",
              "      <td>1.414</td>\n",
              "      <td>3.549</td>\n",
              "      <td>&lt;0.0005</td>\n",
              "      <td>11.338</td>\n",
              "    </tr>\n",
              "    <tr>\n",
              "      <th>mean_Bulbar</th>\n",
              "      <td>0.229</td>\n",
              "      <td>1.257</td>\n",
              "      <td>0.017</td>\n",
              "      <td>0.195</td>\n",
              "      <td>0.263</td>\n",
              "      <td>1.216</td>\n",
              "      <td>1.300</td>\n",
              "      <td>13.293</td>\n",
              "      <td>&lt;0.0005</td>\n",
              "      <td>131.536</td>\n",
              "    </tr>\n",
              "    <tr>\n",
              "      <th>mean_Q10_Respiratory</th>\n",
              "      <td>-0.039</td>\n",
              "      <td>0.961</td>\n",
              "      <td>0.032</td>\n",
              "      <td>-0.101</td>\n",
              "      <td>0.023</td>\n",
              "      <td>0.904</td>\n",
              "      <td>1.023</td>\n",
              "      <td>-1.246</td>\n",
              "      <td>0.213</td>\n",
              "      <td>2.233</td>\n",
              "    </tr>\n",
              "    <tr>\n",
              "      <th>mean_motor</th>\n",
              "      <td>0.019</td>\n",
              "      <td>1.019</td>\n",
              "      <td>0.005</td>\n",
              "      <td>0.010</td>\n",
              "      <td>0.028</td>\n",
              "      <td>1.010</td>\n",
              "      <td>1.028</td>\n",
              "      <td>3.976</td>\n",
              "      <td>&lt;0.0005</td>\n",
              "      <td>13.801</td>\n",
              "    </tr>\n",
              "    <tr>\n",
              "      <th>onset_delta</th>\n",
              "      <td>-0.001</td>\n",
              "      <td>0.999</td>\n",
              "      <td>0.000</td>\n",
              "      <td>-0.001</td>\n",
              "      <td>-0.001</td>\n",
              "      <td>0.999</td>\n",
              "      <td>0.999</td>\n",
              "      <td>-6.609</td>\n",
              "      <td>&lt;0.0005</td>\n",
              "      <td>34.588</td>\n",
              "    </tr>\n",
              "    <tr>\n",
              "      <th>onset_site</th>\n",
              "      <td>-0.163</td>\n",
              "      <td>0.850</td>\n",
              "      <td>0.059</td>\n",
              "      <td>-0.278</td>\n",
              "      <td>-0.048</td>\n",
              "      <td>0.757</td>\n",
              "      <td>0.953</td>\n",
              "      <td>-2.772</td>\n",
              "      <td>0.006</td>\n",
              "      <td>7.486</td>\n",
              "    </tr>\n",
              "    <tr>\n",
              "      <th>slope_Q10_Respiratory</th>\n",
              "      <td>-2.332</td>\n",
              "      <td>0.097</td>\n",
              "      <td>2.022</td>\n",
              "      <td>-6.294</td>\n",
              "      <td>1.630</td>\n",
              "      <td>0.002</td>\n",
              "      <td>5.106</td>\n",
              "      <td>-1.153</td>\n",
              "      <td>0.249</td>\n",
              "      <td>2.007</td>\n",
              "    </tr>\n",
              "    <tr>\n",
              "      <th>slope_Q1_Speech</th>\n",
              "      <td>1.153</td>\n",
              "      <td>3.169</td>\n",
              "      <td>1.957</td>\n",
              "      <td>-2.682</td>\n",
              "      <td>4.989</td>\n",
              "      <td>0.068</td>\n",
              "      <td>146.764</td>\n",
              "      <td>0.589</td>\n",
              "      <td>0.556</td>\n",
              "      <td>0.848</td>\n",
              "    </tr>\n",
              "    <tr>\n",
              "      <th>slope_Q2_Salivation</th>\n",
              "      <td>3.045</td>\n",
              "      <td>21.019</td>\n",
              "      <td>2.151</td>\n",
              "      <td>-1.171</td>\n",
              "      <td>7.261</td>\n",
              "      <td>0.310</td>\n",
              "      <td>1424.293</td>\n",
              "      <td>1.416</td>\n",
              "      <td>0.157</td>\n",
              "      <td>2.673</td>\n",
              "    </tr>\n",
              "    <tr>\n",
              "      <th>slope_Q3_Swallowing</th>\n",
              "      <td>-1.196</td>\n",
              "      <td>0.302</td>\n",
              "      <td>2.200</td>\n",
              "      <td>-5.508</td>\n",
              "      <td>3.116</td>\n",
              "      <td>0.004</td>\n",
              "      <td>22.563</td>\n",
              "      <td>-0.544</td>\n",
              "      <td>0.587</td>\n",
              "      <td>0.769</td>\n",
              "    </tr>\n",
              "    <tr>\n",
              "      <th>slope_Q4_Handwriting</th>\n",
              "      <td>-3.021</td>\n",
              "      <td>0.049</td>\n",
              "      <td>2.076</td>\n",
              "      <td>-7.089</td>\n",
              "      <td>1.047</td>\n",
              "      <td>0.001</td>\n",
              "      <td>2.850</td>\n",
              "      <td>-1.455</td>\n",
              "      <td>0.146</td>\n",
              "      <td>2.780</td>\n",
              "    </tr>\n",
              "    <tr>\n",
              "      <th>slope_Q5_Cutting</th>\n",
              "      <td>-1.957</td>\n",
              "      <td>0.141</td>\n",
              "      <td>1.786</td>\n",
              "      <td>-5.457</td>\n",
              "      <td>1.544</td>\n",
              "      <td>0.004</td>\n",
              "      <td>4.682</td>\n",
              "      <td>-1.096</td>\n",
              "      <td>0.273</td>\n",
              "      <td>1.872</td>\n",
              "    </tr>\n",
              "    <tr>\n",
              "      <th>slope_Q6_Dressing_and_Hygiene</th>\n",
              "      <td>2.036</td>\n",
              "      <td>7.659</td>\n",
              "      <td>2.514</td>\n",
              "      <td>-2.891</td>\n",
              "      <td>6.963</td>\n",
              "      <td>0.056</td>\n",
              "      <td>1056.583</td>\n",
              "      <td>0.810</td>\n",
              "      <td>0.418</td>\n",
              "      <td>1.258</td>\n",
              "    </tr>\n",
              "    <tr>\n",
              "      <th>slope_Q7_Turning_in_Bed</th>\n",
              "      <td>-1.120</td>\n",
              "      <td>0.326</td>\n",
              "      <td>0.831</td>\n",
              "      <td>-2.748</td>\n",
              "      <td>0.508</td>\n",
              "      <td>0.064</td>\n",
              "      <td>1.662</td>\n",
              "      <td>-1.348</td>\n",
              "      <td>0.178</td>\n",
              "      <td>2.494</td>\n",
              "    </tr>\n",
              "    <tr>\n",
              "      <th>slope_Q8_Walking</th>\n",
              "      <td>-0.488</td>\n",
              "      <td>0.614</td>\n",
              "      <td>2.425</td>\n",
              "      <td>-5.241</td>\n",
              "      <td>4.266</td>\n",
              "      <td>0.005</td>\n",
              "      <td>71.223</td>\n",
              "      <td>-0.201</td>\n",
              "      <td>0.841</td>\n",
              "      <td>0.251</td>\n",
              "    </tr>\n",
              "    <tr>\n",
              "      <th>slope_Q9_Climbing_Stairs</th>\n",
              "      <td>-1.323</td>\n",
              "      <td>0.266</td>\n",
              "      <td>1.871</td>\n",
              "      <td>-4.990</td>\n",
              "      <td>2.344</td>\n",
              "      <td>0.007</td>\n",
              "      <td>10.425</td>\n",
              "      <td>-0.707</td>\n",
              "      <td>0.480</td>\n",
              "      <td>1.060</td>\n",
              "    </tr>\n",
              "    <tr>\n",
              "      <th>slope_alsfrs_tot</th>\n",
              "      <td>1.417</td>\n",
              "      <td>4.123</td>\n",
              "      <td>1.476</td>\n",
              "      <td>-1.477</td>\n",
              "      <td>4.310</td>\n",
              "      <td>0.228</td>\n",
              "      <td>74.430</td>\n",
              "      <td>0.960</td>\n",
              "      <td>0.337</td>\n",
              "      <td>1.568</td>\n",
              "    </tr>\n",
              "    <tr>\n",
              "      <th>Intercept</th>\n",
              "      <td>5.060</td>\n",
              "      <td>157.571</td>\n",
              "      <td>0.183</td>\n",
              "      <td>4.701</td>\n",
              "      <td>5.419</td>\n",
              "      <td>110.047</td>\n",
              "      <td>225.619</td>\n",
              "      <td>27.627</td>\n",
              "      <td>&lt;0.0005</td>\n",
              "      <td>555.667</td>\n",
              "    </tr>\n",
              "    <tr>\n",
              "      <th>rho_</th>\n",
              "      <th>Intercept</th>\n",
              "      <td>0.806</td>\n",
              "      <td>2.238</td>\n",
              "      <td>0.030</td>\n",
              "      <td>0.746</td>\n",
              "      <td>0.865</td>\n",
              "      <td>2.109</td>\n",
              "      <td>2.376</td>\n",
              "      <td>26.451</td>\n",
              "      <td>&lt;0.0005</td>\n",
              "      <td>509.736</td>\n",
              "    </tr>\n",
              "  </tbody>\n",
              "</table><br><div>\n",
              "<style scoped>\n",
              "    .dataframe tbody tr th:only-of-type {\n",
              "        vertical-align: middle;\n",
              "    }\n",
              "\n",
              "    .dataframe tbody tr th {\n",
              "        vertical-align: top;\n",
              "    }\n",
              "\n",
              "    .dataframe thead th {\n",
              "        text-align: right;\n",
              "    }\n",
              "</style>\n",
              "<table border=\"1\" class=\"dataframe\">\n",
              "  <tbody>\n",
              "    <tr>\n",
              "      <th>Concordance</th>\n",
              "      <td>0.847</td>\n",
              "    </tr>\n",
              "    <tr>\n",
              "      <th>AIC</th>\n",
              "      <td>7958.782</td>\n",
              "    </tr>\n",
              "    <tr>\n",
              "      <th>log-likelihood ratio test</th>\n",
              "      <td>771.779 on 21 df</td>\n",
              "    </tr>\n",
              "    <tr>\n",
              "      <th>-log2(p) of ll-ratio test</th>\n",
              "      <td>495.173</td>\n",
              "    </tr>\n",
              "  </tbody>\n",
              "</table>\n",
              "</div>"
            ],
            "text/plain": [
              "<lifelines.WeibullAFTFitter: fitted with 2713 total observations, 2184 right-censored observations>\n",
              "             duration col = 'time_opt'\n",
              "                event col = 'status_opt'\n",
              "   number of observations = 2713\n",
              "number of events observed = 529\n",
              "           log-likelihood = -3956.391\n",
              "         time fit was run = 2021-05-22 06:30:16 UTC\n",
              "\n",
              "---\n",
              "                                        coef  exp(coef)   se(coef)   coef lower 95%   coef upper 95%  exp(coef) lower 95%  exp(coef) upper 95%\n",
              "param   covariate                                                                                                                             \n",
              "lambda_ Age                           -0.014      0.987      0.002           -0.017           -0.010                0.983                0.990\n",
              "        Gender                         0.061      1.063      0.041           -0.019            0.142                0.981                1.152\n",
              "        diag_minus_onset              -0.000      1.000      0.000           -0.001           -0.000                0.999                1.000\n",
              "        fvc_mean                       0.006      1.006      0.001            0.004            0.009                1.004                1.009\n",
              "        fvc_slope                      0.223      1.250      0.063            0.100            0.347                1.105                1.414\n",
              "        mean_Bulbar                    0.229      1.257      0.017            0.195            0.263                1.216                1.300\n",
              "        mean_Q10_Respiratory          -0.039      0.961      0.032           -0.101            0.023                0.904                1.023\n",
              "        mean_motor                     0.019      1.019      0.005            0.010            0.028                1.010                1.028\n",
              "        onset_delta                   -0.001      0.999      0.000           -0.001           -0.001                0.999                0.999\n",
              "        onset_site                    -0.163      0.850      0.059           -0.278           -0.048                0.757                0.953\n",
              "        slope_Q10_Respiratory         -2.332      0.097      2.022           -6.294            1.630                0.002                5.106\n",
              "        slope_Q1_Speech                1.153      3.169      1.957           -2.682            4.989                0.068              146.764\n",
              "        slope_Q2_Salivation            3.045     21.019      2.151           -1.171            7.261                0.310             1424.293\n",
              "        slope_Q3_Swallowing           -1.196      0.302      2.200           -5.508            3.116                0.004               22.563\n",
              "        slope_Q4_Handwriting          -3.021      0.049      2.076           -7.089            1.047                0.001                2.850\n",
              "        slope_Q5_Cutting              -1.957      0.141      1.786           -5.457            1.544                0.004                4.682\n",
              "        slope_Q6_Dressing_and_Hygiene  2.036      7.659      2.514           -2.891            6.963                0.056             1056.583\n",
              "        slope_Q7_Turning_in_Bed       -1.120      0.326      0.831           -2.748            0.508                0.064                1.662\n",
              "        slope_Q8_Walking              -0.488      0.614      2.425           -5.241            4.266                0.005               71.223\n",
              "        slope_Q9_Climbing_Stairs      -1.323      0.266      1.871           -4.990            2.344                0.007               10.425\n",
              "        slope_alsfrs_tot               1.417      4.123      1.476           -1.477            4.310                0.228               74.430\n",
              "        Intercept                      5.060    157.571      0.183            4.701            5.419              110.047              225.619\n",
              "rho_    Intercept                      0.806      2.238      0.030            0.746            0.865                2.109                2.376\n",
              "\n",
              "                                           z       p   -log2(p)\n",
              "param   covariate                                              \n",
              "lambda_ Age                           -7.504 <0.0005     43.882\n",
              "        Gender                         1.494   0.135      2.888\n",
              "        diag_minus_onset              -2.621   0.009      6.834\n",
              "        fvc_mean                       4.777 <0.0005     19.104\n",
              "        fvc_slope                      3.549 <0.0005     11.338\n",
              "        mean_Bulbar                   13.293 <0.0005    131.536\n",
              "        mean_Q10_Respiratory          -1.246   0.213      2.233\n",
              "        mean_motor                     3.976 <0.0005     13.801\n",
              "        onset_delta                   -6.609 <0.0005     34.588\n",
              "        onset_site                    -2.772   0.006      7.486\n",
              "        slope_Q10_Respiratory         -1.153   0.249      2.007\n",
              "        slope_Q1_Speech                0.589   0.556      0.848\n",
              "        slope_Q2_Salivation            1.416   0.157      2.673\n",
              "        slope_Q3_Swallowing           -0.544   0.587      0.769\n",
              "        slope_Q4_Handwriting          -1.455   0.146      2.780\n",
              "        slope_Q5_Cutting              -1.096   0.273      1.872\n",
              "        slope_Q6_Dressing_and_Hygiene  0.810   0.418      1.258\n",
              "        slope_Q7_Turning_in_Bed       -1.348   0.178      2.494\n",
              "        slope_Q8_Walking              -0.201   0.841      0.251\n",
              "        slope_Q9_Climbing_Stairs      -0.707   0.480      1.060\n",
              "        slope_alsfrs_tot               0.960   0.337      1.568\n",
              "        Intercept                     27.627 <0.0005    555.667\n",
              "rho_    Intercept                     26.451 <0.0005    509.736\n",
              "---\n",
              "Concordance = 0.847\n",
              "AIC = 7958.782\n",
              "log-likelihood ratio test = 771.779 on 21 df\n",
              "-log2(p) of ll-ratio test = 495.173"
            ]
          },
          "metadata": {
            "tags": []
          }
        }
      ]
    },
    {
      "cell_type": "code",
      "metadata": {
        "colab": {
          "base_uri": "https://localhost:8080/",
          "height": 1000
        },
        "id": "FUIpsfm1VN_8",
        "outputId": "3b150a41-f6a8-4ed4-89ff-4de1ee42feac"
      },
      "source": [
        "from matplotlib import pyplot as plt\n",
        "\n",
        "wft = WeibullAFTFitter().fit(df_train, 'time_opt', 'status_opt', ancillary=False)\n",
        "plt.figure(figsize=(15,20))\n",
        "wft.plot()"
      ],
      "execution_count": 14,
      "outputs": [
        {
          "output_type": "execute_result",
          "data": {
            "text/plain": [
              "<matplotlib.axes._subplots.AxesSubplot at 0x7ffa45d7fc10>"
            ]
          },
          "metadata": {
            "tags": []
          },
          "execution_count": 14
        },
        {
          "output_type": "display_data",
          "data": {
            "image/png": "[encoded data removed]",
            "text/plain": [
              "<Figure size 1080x1440 with 1 Axes>"
            ]
          },
          "metadata": {
            "tags": [],
            "needs_background": "light"
          }
        }
      ]
    },
    {
      "cell_type": "code",
      "metadata": {
        "id": "Jlgtd1EoXCSV"
      },
      "source": [
        "from lifelines.utils import k_fold_cross_validation"
      ],
      "execution_count": 11,
      "outputs": []
    },
    {
      "cell_type": "code",
      "metadata": {
        "colab": {
          "base_uri": "https://localhost:8080/"
        },
        "id": "LPMp3LbKXF5a",
        "outputId": "77f15bc0-5569-4320-90e1-3cae6abece29"
      },
      "source": [
        "aft = WeibullAFTFitter()\n",
        "C_Idx = np.array([])\n",
        "random_num_list = [10,20,30,40,50,60,70,80,90,100]\n",
        "\n",
        "for i in random_num_list:\n",
        "    arr = k_fold_cross_validation(aft, df_train, 'time_opt', event_col='status_opt', k=5, scoring_method=\"concordance_index\")\n",
        "    C_Idx = np.concatenate((C_Idx, arr))\n",
        "print(C_Idx)"
      ],
      "execution_count": 12,
      "outputs": [
        {
          "output_type": "stream",
          "text": [
            "[0.79340992 0.81880815 0.85402027 0.84033885 0.85525947 0.83323205\n",
            " 0.83247342 0.87440569 0.84485762 0.82145025 0.84509695 0.8308445\n",
            " 0.85033784 0.84440166 0.82145224 0.85619089 0.84228966 0.82411293\n",
            " 0.82759331 0.84163056 0.8086775  0.84447464 0.86205591 0.8594568\n",
            " 0.82006977 0.84011619 0.83138092 0.86145088 0.80627266 0.8556733\n",
            " 0.83514851 0.84434481 0.83115434 0.82234552 0.85381443 0.8677581\n",
            " 0.82741894 0.83971245 0.84945504 0.81502206 0.83380192 0.80731583\n",
            " 0.84019941 0.83627758 0.86045457 0.81907246 0.84032485 0.82770794\n",
            " 0.84312452 0.85098132]\n"
          ],
          "name": "stdout"
        }
      ]
    },
    {
      "cell_type": "code",
      "metadata": {
        "colab": {
          "base_uri": "https://localhost:8080/",
          "height": 390
        },
        "id": "M0qsfc34XS8h",
        "outputId": "90031b9d-0674-4d7c-8091-5101a68b905d"
      },
      "source": [
        "df = pd.DataFrame(C_Idx)\n",
        "df.columns = ['CoxPH']\n",
        "\n",
        "plt.figure(figsize=(7,6))\n",
        "boxplot = df.boxplot(column=['CoxPH'])\n",
        "plt.title('Concordance index')\n",
        "plt.show()\n"
      ],
      "execution_count": 13,
      "outputs": [
        {
          "output_type": "display_data",
          "data": {
            "image/png": "[encoded data removed]",
            "text/plain": [
              "<Figure size 504x432 with 1 Axes>"
            ]
          },
          "metadata": {
            "tags": [],
            "needs_background": "light"
          }
        }
      ]
    }
  ]
}
{
 "cells": [
  {
   "cell_type": "code",
   "execution_count": 1,
   "metadata": {},
   "outputs": [],
   "source": [
    "import pandas as pd\n",
    "import numpy as np\n",
    "import matplotlib.pyplot as plt\n",
    "import seaborn as sns"
   ]
  },
  {
   "cell_type": "code",
   "execution_count": 2,
   "metadata": {
    "collapsed": true
   },
   "outputs": [
    {
     "name": "stdout",
     "output_type": "stream",
     "text": [
      "Requirement already satisfied: lifelines in c:\\users\\hyji1\\anaconda3\\lib\\site-packages (0.25.11)\n",
      "Requirement already satisfied: autograd>=1.3 in c:\\users\\hyji1\\anaconda3\\lib\\site-packages (from lifelines) (1.3)\n",
      "Requirement already satisfied: formulaic<0.3,>=0.2.2 in c:\\users\\hyji1\\anaconda3\\lib\\site-packages (from lifelines) (0.2.3)\n",
      "Requirement already satisfied: pandas>=0.23.0 in c:\\users\\hyji1\\anaconda3\\lib\\site-packages (from lifelines) (1.1.3)\n",
      "Requirement already satisfied: scipy>=1.2.0 in c:\\users\\hyji1\\anaconda3\\lib\\site-packages (from lifelines) (1.5.2)\n",
      "Requirement already satisfied: matplotlib>=3.0 in c:\\users\\hyji1\\anaconda3\\lib\\site-packages (from lifelines) (3.3.2)\n",
      "Requirement already satisfied: autograd-gamma>=0.3 in c:\\users\\hyji1\\anaconda3\\lib\\site-packages (from lifelines) (0.5.0)\n",
      "Requirement already satisfied: numpy>=1.14.0 in c:\\users\\hyji1\\anaconda3\\lib\\site-packages (from lifelines) (1.19.2)\n",
      "Requirement already satisfied: future>=0.15.2 in c:\\users\\hyji1\\anaconda3\\lib\\site-packages (from autograd>=1.3->lifelines) (0.18.2)\n",
      "Requirement already satisfied: wrapt in c:\\users\\hyji1\\anaconda3\\lib\\site-packages (from formulaic<0.3,>=0.2.2->lifelines) (1.11.2)\n",
      "Requirement already satisfied: interface-meta>=1.2 in c:\\users\\hyji1\\anaconda3\\lib\\site-packages (from formulaic<0.3,>=0.2.2->lifelines) (1.2.3)\n",
      "Requirement already satisfied: astor in c:\\users\\hyji1\\anaconda3\\lib\\site-packages (from formulaic<0.3,>=0.2.2->lifelines) (0.8.1)\n",
      "Requirement already satisfied: python-dateutil>=2.7.3 in c:\\users\\hyji1\\anaconda3\\lib\\site-packages (from pandas>=0.23.0->lifelines) (2.8.1)\n",
      "Requirement already satisfied: pytz>=2017.2 in c:\\users\\hyji1\\anaconda3\\lib\\site-packages (from pandas>=0.23.0->lifelines) (2020.1)\n",
      "Requirement already satisfied: cycler>=0.10 in c:\\users\\hyji1\\anaconda3\\lib\\site-packages (from matplotlib>=3.0->lifelines) (0.10.0)\n",
      "Requirement already satisfied: pillow>=6.2.0 in c:\\users\\hyji1\\anaconda3\\lib\\site-packages (from matplotlib>=3.0->lifelines) (8.0.1)\n",
      "Requirement already satisfied: pyparsing!=2.0.4,!=2.1.2,!=2.1.6,>=2.0.3 in c:\\users\\hyji1\\anaconda3\\lib\\site-packages (from matplotlib>=3.0->lifelines) (2.4.7)\n",
      "Requirement already satisfied: certifi>=2020.06.20 in c:\\users\\hyji1\\anaconda3\\lib\\site-packages (from matplotlib>=3.0->lifelines) (2020.6.20)\n",
      "Requirement already satisfied: kiwisolver>=1.0.1 in c:\\users\\hyji1\\anaconda3\\lib\\site-packages (from matplotlib>=3.0->lifelines) (1.3.0)\n",
      "Requirement already satisfied: six>=1.5 in c:\\users\\hyji1\\anaconda3\\lib\\site-packages (from python-dateutil>=2.7.3->pandas>=0.23.0->lifelines) (1.15.0)\n",
      "Note: you may need to restart the kernel to use updated packages.\n"
     ]
    }
   ],
   "source": [
    "pip install lifelines"
   ]
  },
  {
   "cell_type": "markdown",
   "metadata": {
    "id": "etmAsxE7axfK"
   },
   "source": [
    "# Applying Survival model"
   ]
  },
  {
   "cell_type": "markdown",
   "metadata": {},
   "source": [
    "## 1. 학습하기"
   ]
  },
  {
   "cell_type": "markdown",
   "metadata": {},
   "source": [
    "## 1-1. Cox Proportional Hazard Model"
   ]
  },
  {
   "cell_type": "code",
   "execution_count": 3,
   "metadata": {
    "executionInfo": {
     "elapsed": 3016,
     "status": "ok",
     "timestamp": 1621171539679,
     "user": {
      "displayName": "오현지",
      "photoUrl": "",
      "userId": "16924038929183224420"
     },
     "user_tz": -540
    },
    "id": "4UT8fws8pQX0"
   },
   "outputs": [],
   "source": [
    "X_imputed = pd.read_csv('imputed features_final.csv')\n",
    "Real_Gas = pd.read_csv('Real target.csv')"
   ]
  },
  {
   "cell_type": "code",
   "execution_count": 4,
   "metadata": {},
   "outputs": [],
   "source": [
    "sub_list = list(Real_Gas['SubjectID'])"
   ]
  },
  {
   "cell_type": "code",
   "execution_count": 5,
   "metadata": {},
   "outputs": [],
   "source": [
    "X_imputed = X_imputed[['SubjectID','Age', 'Gender', 'onset_site', 'onset_delta',\n",
    "       'diag_minus_onset', 'slope_alsfrs_tot',\n",
    "       'fvc_slope', 'fvc_mean',  'mean_Q10_Respiratory',\n",
    "       'mean_Bulbar', 'mean_motor', 'slope_Q1_Speech', 'slope_Q2_Salivation',\n",
    "       'slope_Q3_Swallowing', 'slope_Q4_Handwriting', 'slope_Q5_Cutting',\n",
    "       'slope_Q6_Dressing_and_Hygiene', 'slope_Q7_Turning_in_Bed',\n",
    "       'slope_Q8_Walking', 'slope_Q9_Climbing_Stairs', 'slope_Q10_Respiratory']]"
   ]
  },
  {
   "cell_type": "code",
   "execution_count": 6,
   "metadata": {
    "executionInfo": {
     "elapsed": 3424,
     "status": "ok",
     "timestamp": 1621171540090,
     "user": {
      "displayName": "오현지",
      "photoUrl": "",
      "userId": "16924038929183224420"
     },
     "user_tz": -540
    },
    "id": "X8b2kz0ApoGJ"
   },
   "outputs": [],
   "source": [
    "X_imputed.query(\"SubjectID == {0}\".format(sub_list), inplace=True)\n",
    "sub_list_2 = list(X_imputed['SubjectID'])\n",
    "X_imputed = X_imputed.reset_index()\n",
    "X_imputed.drop(columns=['index'], inplace=True)"
   ]
  },
  {
   "cell_type": "code",
   "execution_count": 7,
   "metadata": {
    "colab": {
     "base_uri": "https://localhost:8080/",
     "height": 410
    },
    "executionInfo": {
     "elapsed": 3420,
     "status": "ok",
     "timestamp": 1621171540091,
     "user": {
      "displayName": "오현지",
      "photoUrl": "",
      "userId": "16924038929183224420"
     },
     "user_tz": -540
    },
    "id": "LiB48QxTtZ-5",
    "outputId": "9b5c862d-0e31-420e-d6b3-44e8f145cf68"
   },
   "outputs": [],
   "source": [
    "Real_Gas.query(\"SubjectID == {0}\".format(sub_list_2), inplace=True)\n",
    "Real_Gas = Real_Gas.reset_index()\n",
    "Real_Gas = Real_Gas.iloc[:, 1:]\n",
    "Real_Gas.drop(columns='Unnamed: 0', inplace=True)"
   ]
  },
  {
   "cell_type": "code",
   "execution_count": 8,
   "metadata": {
    "executionInfo": {
     "elapsed": 3415,
     "status": "ok",
     "timestamp": 1621171540091,
     "user": {
      "displayName": "오현지",
      "photoUrl": "",
      "userId": "16924038929183224420"
     },
     "user_tz": -540
    },
    "id": "-36Cl_cgbLhQ"
   },
   "outputs": [],
   "source": [
    "X_1 = X_imputed.merge(Real_Gas, on='SubjectID', how='inner')"
   ]
  },
  {
   "cell_type": "code",
   "execution_count": 9,
   "metadata": {
    "colab": {
     "base_uri": "https://localhost:8080/",
     "height": 430
    },
    "executionInfo": {
     "elapsed": 3412,
     "status": "ok",
     "timestamp": 1621171540092,
     "user": {
      "displayName": "오현지",
      "photoUrl": "",
      "userId": "16924038929183224420"
     },
     "user_tz": -540
    },
    "id": "facW1vlNWShf",
    "outputId": "3debe8a0-8260-4e56-dba5-486cd0400c08"
   },
   "outputs": [],
   "source": [
    "y = X_1[['status_real']]\n",
    "X_1.drop(columns='SubjectID', inplace=True)"
   ]
  },
  {
   "cell_type": "code",
   "execution_count": 10,
   "metadata": {
    "executionInfo": {
     "elapsed": 3407,
     "status": "ok",
     "timestamp": 1621171540092,
     "user": {
      "displayName": "오현지",
      "photoUrl": "",
      "userId": "16924038929183224420"
     },
     "user_tz": -540
    },
    "id": "YWvVDWcCbHAn"
   },
   "outputs": [],
   "source": [
    "from sklearn.model_selection import train_test_split\n",
    "\n",
    "df_train, df_test, y_train, y_test = train_test_split(X_1, y, train_size=0.8, test_size=0.2, random_state=11)"
   ]
  },
  {
   "cell_type": "markdown",
   "metadata": {
    "id": "5FP16qtxb03h"
   },
   "source": [
    "모델 적용하기"
   ]
  },
  {
   "cell_type": "code",
   "execution_count": 12,
   "metadata": {
    "colab": {
     "base_uri": "https://localhost:8080/",
     "height": 1000
    },
    "executionInfo": {
     "elapsed": 6970,
     "status": "ok",
     "timestamp": 1621171543664,
     "user": {
      "displayName": "오현지",
      "photoUrl": "",
      "userId": "16924038929183224420"
     },
     "user_tz": -540
    },
    "id": "2z3NxtD8bssF",
    "outputId": "2cb5d854-ec47-4cd6-ef98-00b59b3861b5"
   },
   "outputs": [
    {
     "data": {
      "text/html": [
       "<div>\n",
       "<style scoped>\n",
       "    .dataframe tbody tr th:only-of-type {\n",
       "        vertical-align: middle;\n",
       "    }\n",
       "\n",
       "    .dataframe tbody tr th {\n",
       "        vertical-align: top;\n",
       "    }\n",
       "\n",
       "    .dataframe thead th {\n",
       "        text-align: right;\n",
       "    }\n",
       "</style>\n",
       "<table border=\"1\" class=\"dataframe\">\n",
       "  <tbody>\n",
       "    <tr>\n",
       "      <th>model</th>\n",
       "      <td>lifelines.CoxPHFitter</td>\n",
       "    </tr>\n",
       "    <tr>\n",
       "      <th>duration col</th>\n",
       "      <td>'time_real'</td>\n",
       "    </tr>\n",
       "    <tr>\n",
       "      <th>event col</th>\n",
       "      <td>'status_real'</td>\n",
       "    </tr>\n",
       "    <tr>\n",
       "      <th>penalizer</th>\n",
       "      <td>0.01</td>\n",
       "    </tr>\n",
       "    <tr>\n",
       "      <th>l1 ratio</th>\n",
       "      <td>0</td>\n",
       "    </tr>\n",
       "    <tr>\n",
       "      <th>baseline estimation</th>\n",
       "      <td>breslow</td>\n",
       "    </tr>\n",
       "    <tr>\n",
       "      <th>number of observations</th>\n",
       "      <td>2354</td>\n",
       "    </tr>\n",
       "    <tr>\n",
       "      <th>number of events observed</th>\n",
       "      <td>377</td>\n",
       "    </tr>\n",
       "    <tr>\n",
       "      <th>partial log-likelihood</th>\n",
       "      <td>-2493.85</td>\n",
       "    </tr>\n",
       "    <tr>\n",
       "      <th>time fit was run</th>\n",
       "      <td>2021-05-16 17:10:48 UTC</td>\n",
       "    </tr>\n",
       "  </tbody>\n",
       "</table>\n",
       "</div><table border=\"1\" class=\"dataframe\">\n",
       "  <thead>\n",
       "    <tr style=\"text-align: right;\">\n",
       "      <th style=\"min-width: 12px;\"></th>\n",
       "      <th style=\"min-width: 12px;\">coef</th>\n",
       "      <th style=\"min-width: 12px;\">exp(coef)</th>\n",
       "      <th style=\"min-width: 12px;\">se(coef)</th>\n",
       "      <th style=\"min-width: 12px;\">coef lower 95%</th>\n",
       "      <th style=\"min-width: 12px;\">coef upper 95%</th>\n",
       "      <th style=\"min-width: 12px;\">exp(coef) lower 95%</th>\n",
       "      <th style=\"min-width: 12px;\">exp(coef) upper 95%</th>\n",
       "      <th style=\"min-width: 12px;\">z</th>\n",
       "      <th style=\"min-width: 12px;\">p</th>\n",
       "      <th style=\"min-width: 12px;\">-log2(p)</th>\n",
       "    </tr>\n",
       "  </thead>\n",
       "  <tbody>\n",
       "    <tr>\n",
       "      <th>Age</th>\n",
       "      <td>0.02</td>\n",
       "      <td>1.02</td>\n",
       "      <td>0.00</td>\n",
       "      <td>0.01</td>\n",
       "      <td>0.03</td>\n",
       "      <td>1.01</td>\n",
       "      <td>1.03</td>\n",
       "      <td>3.91</td>\n",
       "      <td>&lt;0.005</td>\n",
       "      <td>13.42</td>\n",
       "    </tr>\n",
       "    <tr>\n",
       "      <th>Gender</th>\n",
       "      <td>-0.21</td>\n",
       "      <td>0.81</td>\n",
       "      <td>0.10</td>\n",
       "      <td>-0.41</td>\n",
       "      <td>-0.00</td>\n",
       "      <td>0.66</td>\n",
       "      <td>1.00</td>\n",
       "      <td>-1.99</td>\n",
       "      <td>0.05</td>\n",
       "      <td>4.42</td>\n",
       "    </tr>\n",
       "    <tr>\n",
       "      <th>onset_site</th>\n",
       "      <td>0.57</td>\n",
       "      <td>1.77</td>\n",
       "      <td>0.15</td>\n",
       "      <td>0.27</td>\n",
       "      <td>0.87</td>\n",
       "      <td>1.31</td>\n",
       "      <td>2.39</td>\n",
       "      <td>3.73</td>\n",
       "      <td>&lt;0.005</td>\n",
       "      <td>12.33</td>\n",
       "    </tr>\n",
       "    <tr>\n",
       "      <th>onset_delta</th>\n",
       "      <td>0.00</td>\n",
       "      <td>1.00</td>\n",
       "      <td>0.00</td>\n",
       "      <td>0.00</td>\n",
       "      <td>0.00</td>\n",
       "      <td>1.00</td>\n",
       "      <td>1.00</td>\n",
       "      <td>3.09</td>\n",
       "      <td>&lt;0.005</td>\n",
       "      <td>8.94</td>\n",
       "    </tr>\n",
       "    <tr>\n",
       "      <th>diag_minus_onset</th>\n",
       "      <td>-0.00</td>\n",
       "      <td>1.00</td>\n",
       "      <td>0.00</td>\n",
       "      <td>-0.00</td>\n",
       "      <td>0.00</td>\n",
       "      <td>1.00</td>\n",
       "      <td>1.00</td>\n",
       "      <td>-0.70</td>\n",
       "      <td>0.49</td>\n",
       "      <td>1.04</td>\n",
       "    </tr>\n",
       "    <tr>\n",
       "      <th>slope_alsfrs_tot</th>\n",
       "      <td>0.50</td>\n",
       "      <td>1.65</td>\n",
       "      <td>1.82</td>\n",
       "      <td>-3.07</td>\n",
       "      <td>4.07</td>\n",
       "      <td>0.05</td>\n",
       "      <td>58.60</td>\n",
       "      <td>0.27</td>\n",
       "      <td>0.78</td>\n",
       "      <td>0.35</td>\n",
       "    </tr>\n",
       "    <tr>\n",
       "      <th>fvc_slope</th>\n",
       "      <td>-0.07</td>\n",
       "      <td>0.94</td>\n",
       "      <td>0.15</td>\n",
       "      <td>-0.35</td>\n",
       "      <td>0.22</td>\n",
       "      <td>0.70</td>\n",
       "      <td>1.25</td>\n",
       "      <td>-0.45</td>\n",
       "      <td>0.65</td>\n",
       "      <td>0.62</td>\n",
       "    </tr>\n",
       "    <tr>\n",
       "      <th>fvc_mean</th>\n",
       "      <td>-0.01</td>\n",
       "      <td>0.99</td>\n",
       "      <td>0.00</td>\n",
       "      <td>-0.02</td>\n",
       "      <td>-0.01</td>\n",
       "      <td>0.98</td>\n",
       "      <td>0.99</td>\n",
       "      <td>-3.78</td>\n",
       "      <td>&lt;0.005</td>\n",
       "      <td>12.64</td>\n",
       "    </tr>\n",
       "    <tr>\n",
       "      <th>mean_Q10_Respiratory</th>\n",
       "      <td>0.06</td>\n",
       "      <td>1.06</td>\n",
       "      <td>0.08</td>\n",
       "      <td>-0.10</td>\n",
       "      <td>0.23</td>\n",
       "      <td>0.90</td>\n",
       "      <td>1.26</td>\n",
       "      <td>0.73</td>\n",
       "      <td>0.46</td>\n",
       "      <td>1.11</td>\n",
       "    </tr>\n",
       "    <tr>\n",
       "      <th>mean_Bulbar</th>\n",
       "      <td>-0.41</td>\n",
       "      <td>0.66</td>\n",
       "      <td>0.04</td>\n",
       "      <td>-0.48</td>\n",
       "      <td>-0.34</td>\n",
       "      <td>0.62</td>\n",
       "      <td>0.71</td>\n",
       "      <td>-11.02</td>\n",
       "      <td>&lt;0.005</td>\n",
       "      <td>91.36</td>\n",
       "    </tr>\n",
       "    <tr>\n",
       "      <th>mean_motor</th>\n",
       "      <td>-0.06</td>\n",
       "      <td>0.95</td>\n",
       "      <td>0.01</td>\n",
       "      <td>-0.08</td>\n",
       "      <td>-0.03</td>\n",
       "      <td>0.92</td>\n",
       "      <td>0.97</td>\n",
       "      <td>-4.53</td>\n",
       "      <td>&lt;0.005</td>\n",
       "      <td>17.39</td>\n",
       "    </tr>\n",
       "    <tr>\n",
       "      <th>slope_Q1_Speech</th>\n",
       "      <td>-4.48</td>\n",
       "      <td>0.01</td>\n",
       "      <td>2.97</td>\n",
       "      <td>-10.30</td>\n",
       "      <td>1.34</td>\n",
       "      <td>0.00</td>\n",
       "      <td>3.80</td>\n",
       "      <td>-1.51</td>\n",
       "      <td>0.13</td>\n",
       "      <td>2.93</td>\n",
       "    </tr>\n",
       "    <tr>\n",
       "      <th>slope_Q2_Salivation</th>\n",
       "      <td>-5.16</td>\n",
       "      <td>0.01</td>\n",
       "      <td>3.53</td>\n",
       "      <td>-12.07</td>\n",
       "      <td>1.76</td>\n",
       "      <td>0.00</td>\n",
       "      <td>5.80</td>\n",
       "      <td>-1.46</td>\n",
       "      <td>0.14</td>\n",
       "      <td>2.80</td>\n",
       "    </tr>\n",
       "    <tr>\n",
       "      <th>slope_Q3_Swallowing</th>\n",
       "      <td>-7.22</td>\n",
       "      <td>0.00</td>\n",
       "      <td>3.90</td>\n",
       "      <td>-14.86</td>\n",
       "      <td>0.42</td>\n",
       "      <td>0.00</td>\n",
       "      <td>1.52</td>\n",
       "      <td>-1.85</td>\n",
       "      <td>0.06</td>\n",
       "      <td>3.97</td>\n",
       "    </tr>\n",
       "    <tr>\n",
       "      <th>slope_Q4_Handwriting</th>\n",
       "      <td>4.81</td>\n",
       "      <td>122.94</td>\n",
       "      <td>3.40</td>\n",
       "      <td>-1.84</td>\n",
       "      <td>11.47</td>\n",
       "      <td>0.16</td>\n",
       "      <td>95403.22</td>\n",
       "      <td>1.42</td>\n",
       "      <td>0.16</td>\n",
       "      <td>2.68</td>\n",
       "    </tr>\n",
       "    <tr>\n",
       "      <th>slope_Q5_Cutting</th>\n",
       "      <td>0.27</td>\n",
       "      <td>1.32</td>\n",
       "      <td>2.92</td>\n",
       "      <td>-5.45</td>\n",
       "      <td>6.00</td>\n",
       "      <td>0.00</td>\n",
       "      <td>401.59</td>\n",
       "      <td>0.09</td>\n",
       "      <td>0.93</td>\n",
       "      <td>0.11</td>\n",
       "    </tr>\n",
       "    <tr>\n",
       "      <th>slope_Q6_Dressing_and_Hygiene</th>\n",
       "      <td>-2.85</td>\n",
       "      <td>0.06</td>\n",
       "      <td>3.79</td>\n",
       "      <td>-10.27</td>\n",
       "      <td>4.58</td>\n",
       "      <td>0.00</td>\n",
       "      <td>97.05</td>\n",
       "      <td>-0.75</td>\n",
       "      <td>0.45</td>\n",
       "      <td>1.14</td>\n",
       "    </tr>\n",
       "    <tr>\n",
       "      <th>slope_Q7_Turning_in_Bed</th>\n",
       "      <td>4.14</td>\n",
       "      <td>62.92</td>\n",
       "      <td>1.65</td>\n",
       "      <td>0.91</td>\n",
       "      <td>7.38</td>\n",
       "      <td>2.48</td>\n",
       "      <td>1599.14</td>\n",
       "      <td>2.51</td>\n",
       "      <td>0.01</td>\n",
       "      <td>6.37</td>\n",
       "    </tr>\n",
       "    <tr>\n",
       "      <th>slope_Q8_Walking</th>\n",
       "      <td>-9.56</td>\n",
       "      <td>0.00</td>\n",
       "      <td>4.63</td>\n",
       "      <td>-18.63</td>\n",
       "      <td>-0.50</td>\n",
       "      <td>0.00</td>\n",
       "      <td>0.61</td>\n",
       "      <td>-2.07</td>\n",
       "      <td>0.04</td>\n",
       "      <td>4.69</td>\n",
       "    </tr>\n",
       "    <tr>\n",
       "      <th>slope_Q9_Climbing_Stairs</th>\n",
       "      <td>-1.05</td>\n",
       "      <td>0.35</td>\n",
       "      <td>3.04</td>\n",
       "      <td>-7.01</td>\n",
       "      <td>4.92</td>\n",
       "      <td>0.00</td>\n",
       "      <td>136.62</td>\n",
       "      <td>-0.34</td>\n",
       "      <td>0.73</td>\n",
       "      <td>0.45</td>\n",
       "    </tr>\n",
       "    <tr>\n",
       "      <th>slope_Q10_Respiratory</th>\n",
       "      <td>6.66</td>\n",
       "      <td>777.30</td>\n",
       "      <td>3.45</td>\n",
       "      <td>-0.10</td>\n",
       "      <td>13.41</td>\n",
       "      <td>0.91</td>\n",
       "      <td>6.67e+05</td>\n",
       "      <td>1.93</td>\n",
       "      <td>0.05</td>\n",
       "      <td>4.23</td>\n",
       "    </tr>\n",
       "  </tbody>\n",
       "</table><br><div>\n",
       "<style scoped>\n",
       "    .dataframe tbody tr th:only-of-type {\n",
       "        vertical-align: middle;\n",
       "    }\n",
       "\n",
       "    .dataframe tbody tr th {\n",
       "        vertical-align: top;\n",
       "    }\n",
       "\n",
       "    .dataframe thead th {\n",
       "        text-align: right;\n",
       "    }\n",
       "</style>\n",
       "<table border=\"1\" class=\"dataframe\">\n",
       "  <tbody>\n",
       "    <tr>\n",
       "      <th>Concordance</th>\n",
       "      <td>0.84</td>\n",
       "    </tr>\n",
       "    <tr>\n",
       "      <th>Partial AIC</th>\n",
       "      <td>5029.70</td>\n",
       "    </tr>\n",
       "    <tr>\n",
       "      <th>log-likelihood ratio test</th>\n",
       "      <td>476.37 on 21 df</td>\n",
       "    </tr>\n",
       "    <tr>\n",
       "      <th>-log2(p) of ll-ratio test</th>\n",
       "      <td>288.67</td>\n",
       "    </tr>\n",
       "  </tbody>\n",
       "</table>\n",
       "</div>"
      ],
      "text/latex": [
       "\\begin{tabular}{lrrrrrrrrrr}\n",
       "\\toprule\n",
       "{} &  coef &  exp(coef) &  se(coef) &  coef lower 95\\% &  coef upper 95\\% &  exp(coef) lower 95\\% &  exp(coef) upper 95\\% &      z &    p &  -log2(p) \\\\\n",
       "covariate                     &       &            &           &                 &                 &                      &                      &        &      &           \\\\\n",
       "\\midrule\n",
       "Age                           &  0.02 &       1.02 &      0.00 &            0.01 &            0.03 &                 1.01 &                 1.03 &   3.91 & 0.00 &     13.42 \\\\\n",
       "Gender                        & -0.21 &       0.81 &      0.10 &           -0.41 &           -0.00 &                 0.66 &                 1.00 &  -1.99 & 0.05 &      4.42 \\\\\n",
       "onset\\_site                    &  0.57 &       1.77 &      0.15 &            0.27 &            0.87 &                 1.31 &                 2.39 &   3.73 & 0.00 &     12.33 \\\\\n",
       "onset\\_delta                   &  0.00 &       1.00 &      0.00 &            0.00 &            0.00 &                 1.00 &                 1.00 &   3.09 & 0.00 &      8.94 \\\\\n",
       "diag\\_minus\\_onset              & -0.00 &       1.00 &      0.00 &           -0.00 &            0.00 &                 1.00 &                 1.00 &  -0.70 & 0.49 &      1.04 \\\\\n",
       "slope\\_alsfrs\\_tot              &  0.50 &       1.65 &      1.82 &           -3.07 &            4.07 &                 0.05 &                58.60 &   0.27 & 0.78 &      0.35 \\\\\n",
       "fvc\\_slope                     & -0.07 &       0.94 &      0.15 &           -0.35 &            0.22 &                 0.70 &                 1.25 &  -0.45 & 0.65 &      0.62 \\\\\n",
       "fvc\\_mean                      & -0.01 &       0.99 &      0.00 &           -0.02 &           -0.01 &                 0.98 &                 0.99 &  -3.78 & 0.00 &     12.64 \\\\\n",
       "mean\\_Q10\\_Respiratory          &  0.06 &       1.06 &      0.08 &           -0.10 &            0.23 &                 0.90 &                 1.26 &   0.73 & 0.46 &      1.11 \\\\\n",
       "mean\\_Bulbar                   & -0.41 &       0.66 &      0.04 &           -0.48 &           -0.34 &                 0.62 &                 0.71 & -11.02 & 0.00 &     91.36 \\\\\n",
       "mean\\_motor                    & -0.06 &       0.95 &      0.01 &           -0.08 &           -0.03 &                 0.92 &                 0.97 &  -4.53 & 0.00 &     17.39 \\\\\n",
       "slope\\_Q1\\_Speech               & -4.48 &       0.01 &      2.97 &          -10.30 &            1.34 &                 0.00 &                 3.80 &  -1.51 & 0.13 &      2.93 \\\\\n",
       "slope\\_Q2\\_Salivation           & -5.16 &       0.01 &      3.53 &          -12.07 &            1.76 &                 0.00 &                 5.80 &  -1.46 & 0.14 &      2.80 \\\\\n",
       "slope\\_Q3\\_Swallowing           & -7.22 &       0.00 &      3.90 &          -14.86 &            0.42 &                 0.00 &                 1.52 &  -1.85 & 0.06 &      3.97 \\\\\n",
       "slope\\_Q4\\_Handwriting          &  4.81 &     122.94 &      3.40 &           -1.84 &           11.47 &                 0.16 &             95403.22 &   1.42 & 0.16 &      2.68 \\\\\n",
       "slope\\_Q5\\_Cutting              &  0.27 &       1.32 &      2.92 &           -5.45 &            6.00 &                 0.00 &               401.59 &   0.09 & 0.93 &      0.11 \\\\\n",
       "slope\\_Q6\\_Dressing\\_and\\_Hygiene & -2.85 &       0.06 &      3.79 &          -10.27 &            4.58 &                 0.00 &                97.05 &  -0.75 & 0.45 &      1.14 \\\\\n",
       "slope\\_Q7\\_Turning\\_in\\_Bed       &  4.14 &      62.92 &      1.65 &            0.91 &            7.38 &                 2.48 &              1599.14 &   2.51 & 0.01 &      6.37 \\\\\n",
       "slope\\_Q8\\_Walking              & -9.56 &       0.00 &      4.63 &          -18.63 &           -0.50 &                 0.00 &                 0.61 &  -2.07 & 0.04 &      4.69 \\\\\n",
       "slope\\_Q9\\_Climbing\\_Stairs      & -1.05 &       0.35 &      3.04 &           -7.01 &            4.92 &                 0.00 &               136.62 &  -0.34 & 0.73 &      0.45 \\\\\n",
       "slope\\_Q10\\_Respiratory         &  6.66 &     777.30 &      3.45 &           -0.10 &           13.41 &                 0.91 &            666925.59 &   1.93 & 0.05 &      4.23 \\\\\n",
       "\\bottomrule\n",
       "\\end{tabular}\n"
      ],
      "text/plain": [
       "<lifelines.CoxPHFitter: fitted with 2354 total observations, 1977 right-censored observations>\n",
       "             duration col = 'time_real'\n",
       "                event col = 'status_real'\n",
       "                penalizer = 0.01\n",
       "                 l1 ratio = 0.0\n",
       "      baseline estimation = breslow\n",
       "   number of observations = 2354\n",
       "number of events observed = 377\n",
       "   partial log-likelihood = -2493.85\n",
       "         time fit was run = 2021-05-16 17:10:48 UTC\n",
       "\n",
       "---\n",
       "                                coef  exp(coef)   se(coef)   coef lower 95%   coef upper 95%  exp(coef) lower 95%  exp(coef) upper 95%\n",
       "covariate                                                                                                                             \n",
       "Age                             0.02       1.02       0.00             0.01             0.03                 1.01                 1.03\n",
       "Gender                         -0.21       0.81       0.10            -0.41            -0.00                 0.66                 1.00\n",
       "onset_site                      0.57       1.77       0.15             0.27             0.87                 1.31                 2.39\n",
       "onset_delta                     0.00       1.00       0.00             0.00             0.00                 1.00                 1.00\n",
       "diag_minus_onset               -0.00       1.00       0.00            -0.00             0.00                 1.00                 1.00\n",
       "slope_alsfrs_tot                0.50       1.65       1.82            -3.07             4.07                 0.05                58.60\n",
       "fvc_slope                      -0.07       0.94       0.15            -0.35             0.22                 0.70                 1.25\n",
       "fvc_mean                       -0.01       0.99       0.00            -0.02            -0.01                 0.98                 0.99\n",
       "mean_Q10_Respiratory            0.06       1.06       0.08            -0.10             0.23                 0.90                 1.26\n",
       "mean_Bulbar                    -0.41       0.66       0.04            -0.48            -0.34                 0.62                 0.71\n",
       "mean_motor                     -0.06       0.95       0.01            -0.08            -0.03                 0.92                 0.97\n",
       "slope_Q1_Speech                -4.48       0.01       2.97           -10.30             1.34                 0.00                 3.80\n",
       "slope_Q2_Salivation            -5.16       0.01       3.53           -12.07             1.76                 0.00                 5.80\n",
       "slope_Q3_Swallowing            -7.22       0.00       3.90           -14.86             0.42                 0.00                 1.52\n",
       "slope_Q4_Handwriting            4.81     122.94       3.40            -1.84            11.47                 0.16             95403.22\n",
       "slope_Q5_Cutting                0.27       1.32       2.92            -5.45             6.00                 0.00               401.59\n",
       "slope_Q6_Dressing_and_Hygiene  -2.85       0.06       3.79           -10.27             4.58                 0.00                97.05\n",
       "slope_Q7_Turning_in_Bed         4.14      62.92       1.65             0.91             7.38                 2.48              1599.14\n",
       "slope_Q8_Walking               -9.56       0.00       4.63           -18.63            -0.50                 0.00                 0.61\n",
       "slope_Q9_Climbing_Stairs       -1.05       0.35       3.04            -7.01             4.92                 0.00               136.62\n",
       "slope_Q10_Respiratory           6.66     777.30       3.45            -0.10            13.41                 0.91             6.67e+05\n",
       "\n",
       "                                   z      p   -log2(p)\n",
       "covariate                                             \n",
       "Age                             3.91 <0.005      13.42\n",
       "Gender                         -1.99   0.05       4.42\n",
       "onset_site                      3.73 <0.005      12.33\n",
       "onset_delta                     3.09 <0.005       8.94\n",
       "diag_minus_onset               -0.70   0.49       1.04\n",
       "slope_alsfrs_tot                0.27   0.78       0.35\n",
       "fvc_slope                      -0.45   0.65       0.62\n",
       "fvc_mean                       -3.78 <0.005      12.64\n",
       "mean_Q10_Respiratory            0.73   0.46       1.11\n",
       "mean_Bulbar                   -11.02 <0.005      91.36\n",
       "mean_motor                     -4.53 <0.005      17.39\n",
       "slope_Q1_Speech                -1.51   0.13       2.93\n",
       "slope_Q2_Salivation            -1.46   0.14       2.80\n",
       "slope_Q3_Swallowing            -1.85   0.06       3.97\n",
       "slope_Q4_Handwriting            1.42   0.16       2.68\n",
       "slope_Q5_Cutting                0.09   0.93       0.11\n",
       "slope_Q6_Dressing_and_Hygiene  -0.75   0.45       1.14\n",
       "slope_Q7_Turning_in_Bed         2.51   0.01       6.37\n",
       "slope_Q8_Walking               -2.07   0.04       4.69\n",
       "slope_Q9_Climbing_Stairs       -0.34   0.73       0.45\n",
       "slope_Q10_Respiratory           1.93   0.05       4.23\n",
       "---\n",
       "Concordance = 0.84\n",
       "Partial AIC = 5029.70\n",
       "log-likelihood ratio test = 476.37 on 21 df\n",
       "-log2(p) of ll-ratio test = 288.67"
      ]
     },
     "metadata": {},
     "output_type": "display_data"
    }
   ],
   "source": [
    "from lifelines import CoxPHFitter\n",
    "cph = CoxPHFitter(penalizer=0.01)\n",
    "cph.fit(df_train, 'time_real', event_col='status_real')\n",
    "cph.print_summary()"
   ]
  },
  {
   "cell_type": "code",
   "execution_count": 13,
   "metadata": {
    "colab": {
     "base_uri": "https://localhost:8080/",
     "height": 623
    },
    "executionInfo": {
     "elapsed": 7720,
     "status": "ok",
     "timestamp": 1621171544417,
     "user": {
      "displayName": "오현지",
      "photoUrl": "",
      "userId": "16924038929183224420"
     },
     "user_tz": -540
    },
    "id": "kK8CB4oXcWZp",
    "outputId": "6a8cc124-fd70-4bfb-a0b4-4b7a90af92c1"
   },
   "outputs": [
    {
     "data": {
      "text/plain": [
       "<AxesSubplot:xlabel='log(HR) (95% CI)'>"
      ]
     },
     "execution_count": 13,
     "metadata": {},
     "output_type": "execute_result"
    },
    {
     "data": {
      "image/png": "[encoded data removed]",
      "text/plain": [
       "<Figure size 1080x720 with 1 Axes>"
      ]
     },
     "metadata": {
      "needs_background": "light"
     },
     "output_type": "display_data"
    }
   ],
   "source": [
    "plt.figure(figsize=(15,10))\n",
    "cph.plot()\n",
    "#HR >1, 즉 log(HR)>0 이면 사망 위험 증가를 뜻함"
   ]
  },
  {
   "cell_type": "markdown",
   "metadata": {},
   "source": [
    "## 1-2. Random Survival Forest model"
   ]
  },
  {
   "cell_type": "code",
   "execution_count": 14,
   "metadata": {
    "colab": {
     "base_uri": "https://localhost:8080/",
     "height": 134
    },
    "executionInfo": {
     "elapsed": 1195,
     "status": "error",
     "timestamp": 1621172093143,
     "user": {
      "displayName": "오현지",
      "photoUrl": "",
      "userId": "16924038929183224420"
     },
     "user_tz": -540
    },
    "id": "DQoElruRYOQX",
    "outputId": "2e67e4ef-b07f-42ac-de59-31bb1305d9b5"
   },
   "outputs": [
    {
     "name": "stdout",
     "output_type": "stream",
     "text": [
      "Collecting package metadata (current_repodata.json): ...working... done\n",
      "Solving environment: ...working... done\n",
      "\n",
      "# All requested packages already installed.\n",
      "\n",
      "\n",
      "Note: you may need to restart the kernel to use updated packages.\n"
     ]
    }
   ],
   "source": [
    "conda install -c sebp scikit-survival"
   ]
  },
  {
   "cell_type": "code",
   "execution_count": 15,
   "metadata": {
    "colab": {
     "base_uri": "https://localhost:8080/",
     "height": 310
    },
    "executionInfo": {
     "elapsed": 64147,
     "status": "error",
     "timestamp": 1621171600873,
     "user": {
      "displayName": "오현지",
      "photoUrl": "",
      "userId": "16924038929183224420"
     },
     "user_tz": -540
    },
    "id": "AJqDqDlrj4DV",
    "outputId": "aefe13f7-913d-4e25-b83c-4779b1ad7b27"
   },
   "outputs": [],
   "source": [
    "from sksurv.ensemble import RandomSurvivalForest"
   ]
  },
  {
   "cell_type": "code",
   "execution_count": 16,
   "metadata": {
    "executionInfo": {
     "elapsed": 63364,
     "status": "aborted",
     "timestamp": 1621171600093,
     "user": {
      "displayName": "오현지",
      "photoUrl": "",
      "userId": "16924038929183224420"
     },
     "user_tz": -540
    },
    "id": "1NO1XMsHr26W"
   },
   "outputs": [],
   "source": [
    "dic = {1:True, 0:False}\n",
    "\n",
    "df_train_rsf = df_train.iloc[:, -2:][['status_real', 'time_real']]\n",
    "df_train_rsf = df_train_rsf.replace({'status_real':dic})"
   ]
  },
  {
   "cell_type": "code",
   "execution_count": 17,
   "metadata": {
    "executionInfo": {
     "elapsed": 63361,
     "status": "aborted",
     "timestamp": 1621171600094,
     "user": {
      "displayName": "오현지",
      "photoUrl": "",
      "userId": "16924038929183224420"
     },
     "user_tz": -540
    },
    "id": "BQ0luQnTv9PW"
   },
   "outputs": [
    {
     "data": {
      "text/plain": [
       "array([(False, 265.), (False, 290.), (False, 371.), ..., (False, 140.),\n",
       "       (False, 371.), (False, 413.)],\n",
       "      dtype=[('cens', '?'), ('time', '<f8')])"
      ]
     },
     "execution_count": 17,
     "metadata": {},
     "output_type": "execute_result"
    }
   ],
   "source": [
    "arr_1 = list(tuple(x) for x in df_train_rsf.to_records(index=False))\n",
    "dt=np.dtype('bool, float')\n",
    "y_train_rsf = np.array(arr_1, dtype=dt)\n",
    "y_train_rsf.dtype.names=['cens', 'time']\n",
    "y_train_rsf"
   ]
  },
  {
   "cell_type": "code",
   "execution_count": 18,
   "metadata": {},
   "outputs": [],
   "source": [
    "df_test_rsf = df_test.iloc[:, -2:][['status_real', 'time_real']]\n",
    "df_test_rsf = df_test_rsf.replace({'status_real':dic})"
   ]
  },
  {
   "cell_type": "code",
   "execution_count": 19,
   "metadata": {
    "collapsed": true
   },
   "outputs": [
    {
     "data": {
      "text/plain": [
       "array([(False, 125.), (False, 425.), ( True, 175.), (False, 382.),\n",
       "       (False, 277.), ( True, 162.), (False, 262.), (False, 266.),\n",
       "       (False, 475.), (False, 508.), (False, 272.), (False, 315.),\n",
       "       (False, 191.), (False, 352.), (False, 162.), (False, 285.),\n",
       "       ( True, 220.), (False, 188.), (False, 449.), ( True, 105.),\n",
       "       ( True, 259.), (False, 470.), (False, 269.), (False, 284.),\n",
       "       (False, 358.), (False, 271.), (False, 371.), (False, 282.),\n",
       "       (False, 317.), ( True, 184.), (False, 364.), (False, 197.),\n",
       "       (False, 371.), ( True, 442.), (False, 421.), (False, 286.),\n",
       "       (False, 266.), (False, 459.), ( True, 366.), (False, 160.),\n",
       "       (False, 378.), (False, 231.), (False, 511.), (False, 112.),\n",
       "       (False, 264.), (False, 491.), (False, 273.), (False, 382.),\n",
       "       ( True, 343.), (False, 274.), (False, 383.), (False, 272.),\n",
       "       (False, 510.), (False, 471.), (False, 322.), ( True, 233.),\n",
       "       ( True, 310.), (False, 394.), (False, 125.), (False, 146.),\n",
       "       ( True, 233.), (False, 194.), (False, 524.), (False, 240.),\n",
       "       (False, 371.), (False, 434.), (False, 395.), (False, 588.),\n",
       "       (False, 297.), (False, 124.), (False, 355.), (False, 390.),\n",
       "       (False, 375.), (False, 371.), (False, 367.), (False, 375.),\n",
       "       (False, 280.), (False, 196.), (False, 397.), (False, 392.),\n",
       "       (False, 568.), (False, 424.), (False, 154.), ( True, 202.),\n",
       "       (False, 487.), (False, 513.), ( True, 128.), (False, 274.),\n",
       "       ( True, 385.), (False, 382.), (False, 181.), ( True, 287.),\n",
       "       (False, 123.), (False, 100.), (False, 373.), (False, 414.),\n",
       "       (False, 123.), (False, 337.), (False, 361.), (False, 451.),\n",
       "       (False, 189.), (False, 125.), (False, 389.), (False, 372.),\n",
       "       (False, 378.), (False, 181.), ( True, 115.), (False, 498.),\n",
       "       (False, 371.), (False, 266.), (False, 259.), (False, 265.),\n",
       "       (False, 261.), (False, 189.), (False, 399.), ( True, 136.),\n",
       "       (False, 269.), ( True, 287.), (False, 376.), (False, 364.),\n",
       "       (False, 390.), ( True, 257.), (False, 275.), (False, 413.),\n",
       "       (False, 370.), ( True, 328.), (False, 227.), (False, 159.),\n",
       "       (False, 259.), (False, 371.), (False, 335.), (False, 344.),\n",
       "       (False, 390.), (False, 410.), (False, 452.), (False, 179.),\n",
       "       ( True, 106.), (False, 413.), (False, 399.), (False, 265.),\n",
       "       (False, 205.), (False, 435.), (False, 231.), (False, 434.),\n",
       "       ( True, 291.), (False, 392.), (False, 175.), (False, 181.),\n",
       "       (False, 379.), (False, 426.), (False, 463.), ( True, 287.),\n",
       "       (False, 311.), (False, 397.), (False, 130.), (False, 378.),\n",
       "       ( True, 179.), (False, 407.), (False, 390.), (False, 280.),\n",
       "       (False, 377.), (False, 410.), (False, 502.), (False, 315.),\n",
       "       (False, 126.), (False, 331.), ( True, 112.), (False, 392.),\n",
       "       (False, 458.), (False, 131.), (False, 238.), (False, 260.),\n",
       "       ( True, 238.), (False, 442.), (False, 390.), (False, 189.),\n",
       "       (False, 344.), ( True, 231.), (False, 390.), (False, 145.),\n",
       "       (False, 402.), (False, 440.), (False, 370.), (False, 343.),\n",
       "       ( True, 348.), (False, 378.), ( True, 239.), (False, 103.),\n",
       "       (False, 267.), (False, 449.), (False, 357.), (False, 307.),\n",
       "       (False, 392.), (False, 595.), ( True, 216.), (False, 207.),\n",
       "       ( True, 155.), (False, 183.), ( True, 203.), (False, 385.),\n",
       "       (False, 376.), (False, 370.), (False, 233.), (False, 261.),\n",
       "       (False,  98.), (False, 288.), (False, 370.), (False,  98.),\n",
       "       (False, 265.), (False, 143.), (False, 272.), (False, 437.),\n",
       "       ( True, 153.), (False, 266.), (False, 176.), (False, 380.),\n",
       "       (False, 376.), (False, 264.), (False, 279.), (False, 447.),\n",
       "       (False, 400.), ( True, 346.), ( True, 293.), ( True, 281.),\n",
       "       (False, 261.), ( True, 223.), ( True, 156.), (False, 498.),\n",
       "       (False, 425.), (False, 273.), (False, 327.), (False, 314.),\n",
       "       (False, 256.), (False, 399.), (False, 210.), (False, 436.),\n",
       "       (False, 282.), (False, 420.), (False, 266.), (False, 267.),\n",
       "       ( True, 286.), (False, 386.), (False, 392.), (False, 425.),\n",
       "       (False, 269.), (False, 363.), (False, 301.), (False, 455.),\n",
       "       ( True, 294.), (False, 259.), (False, 268.), (False, 379.),\n",
       "       (False, 333.), (False, 372.), (False, 370.), (False, 182.),\n",
       "       (False, 106.), (False, 179.), (False, 217.), (False, 266.),\n",
       "       ( True, 304.), (False, 408.), ( True, 111.), (False,  97.),\n",
       "       (False, 259.), (False, 391.), (False, 372.), (False, 406.),\n",
       "       (False, 385.), (False, 266.), (False, 376.), (False, 279.),\n",
       "       (False, 369.), (False, 409.), (False, 396.), (False, 364.),\n",
       "       (False, 272.), (False, 183.), (False, 540.), (False, 351.),\n",
       "       (False, 292.), (False, 311.), (False, 307.), (False, 189.),\n",
       "       ( True, 182.), (False, 631.), ( True,  95.), (False, 326.),\n",
       "       (False, 259.), (False, 296.), (False, 416.), ( True, 258.),\n",
       "       (False, 418.), (False, 372.), ( True, 218.), (False, 268.),\n",
       "       (False, 308.), (False, 259.), ( True,  96.), (False, 126.),\n",
       "       (False, 382.), (False, 412.), (False, 259.), ( True, 278.),\n",
       "       ( True, 380.), (False, 282.), (False, 189.), ( True, 221.),\n",
       "       (False, 399.), ( True, 154.), (False, 343.), (False, 275.),\n",
       "       (False, 401.), ( True, 287.), (False, 359.), (False, 266.),\n",
       "       ( True, 297.), ( True,  99.), (False, 386.), (False, 196.),\n",
       "       (False, 394.), ( True,  99.), (False, 340.), ( True, 224.),\n",
       "       (False, 272.), (False, 415.), (False, 384.), (False, 491.),\n",
       "       (False, 276.), (False, 315.), (False, 419.), (False, 286.),\n",
       "       (False, 185.), (False, 416.), (False, 234.), (False, 266.),\n",
       "       (False, 371.), (False, 275.), (False, 336.), (False, 187.),\n",
       "       (False, 399.), ( True, 260.), (False, 189.), ( True, 286.),\n",
       "       (False, 392.), (False, 266.), (False, 426.), ( True, 353.),\n",
       "       (False, 380.), (False, 294.), (False, 213.), ( True, 189.),\n",
       "       (False, 372.), (False, 335.), (False, 412.), (False, 359.),\n",
       "       (False, 268.), (False, 473.), ( True, 420.), (False, 488.),\n",
       "       (False, 230.), ( True, 119.), (False, 438.), (False, 428.),\n",
       "       ( True, 244.), (False, 273.), (False, 457.), (False, 139.),\n",
       "       (False, 230.), (False, 399.), (False, 102.), (False, 293.),\n",
       "       (False, 495.), ( True, 279.), (False, 268.), (False, 154.),\n",
       "       (False, 375.), (False, 387.), (False, 295.), (False, 362.),\n",
       "       ( True, 241.), (False, 397.), (False, 434.), (False, 259.),\n",
       "       (False, 266.), (False, 294.), ( True, 154.), ( True, 505.),\n",
       "       (False, 413.), (False, 411.), (False, 392.), ( True, 209.),\n",
       "       (False, 376.), (False, 389.), (False, 348.), (False, 413.),\n",
       "       ( True, 232.), (False, 280.), (False, 104.), (False, 203.),\n",
       "       (False, 449.), (False, 372.), (False, 108.), (False, 524.),\n",
       "       (False, 392.), (False, 413.), (False, 259.), ( True, 450.),\n",
       "       (False, 418.), (False, 399.), (False, 375.), (False, 281.),\n",
       "       (False, 162.), (False, 489.), (False, 189.), (False, 304.),\n",
       "       (False, 431.), (False, 370.), (False, 379.), (False, 126.),\n",
       "       (False, 375.), (False, 366.), (False, 370.), ( True, 182.),\n",
       "       (False, 392.), (False, 374.), (False, 585.), ( True, 440.),\n",
       "       (False, 280.), (False, 370.), (False, 182.), (False, 156.),\n",
       "       (False, 371.), (False, 317.), (False, 132.), (False, 392.),\n",
       "       (False, 379.), (False, 189.), (False, 133.), (False, 322.),\n",
       "       (False, 259.), (False, 392.), ( True, 358.), ( True, 229.),\n",
       "       (False, 266.), ( True, 252.), (False, 280.), (False, 359.),\n",
       "       (False, 263.), (False, 372.), (False, 558.), (False, 281.),\n",
       "       (False, 313.), (False, 293.), (False, 339.), (False, 434.),\n",
       "       (False, 508.), ( True, 141.), (False, 364.), ( True, 361.),\n",
       "       ( True, 117.), (False, 175.), (False, 392.), (False, 391.),\n",
       "       (False, 434.), (False, 243.), (False, 406.), (False, 506.),\n",
       "       (False, 260.), ( True, 468.), (False, 384.), (False, 368.),\n",
       "       (False, 175.), (False, 429.), (False, 315.), ( True, 361.),\n",
       "       ( True, 312.), (False, 126.), (False, 267.), (False, 396.),\n",
       "       (False, 421.), (False, 137.), (False, 268.), (False, 332.),\n",
       "       ( True, 300.), (False, 186.), (False, 407.), (False, 385.),\n",
       "       ( True, 394.), (False, 429.), (False, 378.), (False, 443.),\n",
       "       (False, 390.), (False, 266.), ( True, 262.), (False, 431.),\n",
       "       (False, 340.), (False, 394.), (False, 231.), (False, 315.),\n",
       "       (False, 308.), (False, 203.), (False, 228.), (False, 414.),\n",
       "       (False, 196.), (False, 411.), (False, 365.), (False, 392.),\n",
       "       (False, 362.), (False, 244.), (False, 152.), (False, 392.),\n",
       "       (False, 230.), (False, 177.), (False, 483.), (False, 363.),\n",
       "       (False, 300.), ( True, 189.), ( True, 225.), (False, 444.),\n",
       "       (False, 375.), (False, 266.), (False, 259.), (False,  96.),\n",
       "       (False, 378.), (False, 397.), (False, 259.), (False, 265.),\n",
       "       (False, 184.), (False, 423.), (False, 379.), (False, 356.),\n",
       "       ( True, 292.), ( True, 263.), (False, 431.), (False, 157.),\n",
       "       (False, 363.), (False, 373.), ( True, 175.), (False, 364.),\n",
       "       (False, 190.), (False, 199.), (False, 399.), (False, 530.),\n",
       "       (False, 378.), (False, 384.), (False, 294.), (False, 337.),\n",
       "       (False, 313.), (False, 524.), (False, 383.), (False, 130.),\n",
       "       ( True, 232.), (False, 266.), ( True, 195.), (False, 281.),\n",
       "       (False, 396.), (False, 388.), (False, 278.), ( True, 287.),\n",
       "       ( True, 322.), ( True, 251.), ( True, 295.), (False, 378.),\n",
       "       (False, 286.), (False, 299.), (False, 268.), (False, 385.),\n",
       "       (False, 403.), (False, 411.), (False, 373.), (False, 350.),\n",
       "       ( True, 175.), (False, 470.), (False, 374.), (False, 104.),\n",
       "       (False, 351.), (False, 207.), (False, 372.), (False, 337.),\n",
       "       (False, 236.), (False, 259.), (False, 262.), ( True, 359.),\n",
       "       (False, 273.), (False, 375.), (False, 133.), (False, 373.),\n",
       "       (False, 169.)], dtype=[('cens', '?'), ('time', '<f8')])"
      ]
     },
     "execution_count": 19,
     "metadata": {},
     "output_type": "execute_result"
    }
   ],
   "source": [
    "arr_2 = list(tuple(x) for x in df_test_rsf.to_records(index=False))\n",
    "dt=np.dtype('bool, float')\n",
    "y_test_rsf = np.array(arr_2, dtype=dt)\n",
    "y_test_rsf.dtype.names=['cens', 'time']\n",
    "y_test_rsf"
   ]
  },
  {
   "cell_type": "code",
   "execution_count": 20,
   "metadata": {
    "executionInfo": {
     "elapsed": 63356,
     "status": "aborted",
     "timestamp": 1621171600094,
     "user": {
      "displayName": "오현지",
      "photoUrl": "",
      "userId": "16924038929183224420"
     },
     "user_tz": -540
    },
    "id": "xOybJl-ej39A"
   },
   "outputs": [
    {
     "data": {
      "text/plain": [
       "RandomSurvivalForest(max_features='sqrt', min_samples_leaf=15,\n",
       "                     min_samples_split=10, n_estimators=1000, n_jobs=-1,\n",
       "                     random_state=20)"
      ]
     },
     "execution_count": 20,
     "metadata": {},
     "output_type": "execute_result"
    }
   ],
   "source": [
    "rsf = RandomSurvivalForest(n_estimators=1000,\n",
    "                           min_samples_split=10,\n",
    "                           min_samples_leaf=15,\n",
    "                           max_features=\"sqrt\",\n",
    "                           n_jobs=-1,\n",
    "                           random_state=20)\n",
    "rsf.fit(df_train.iloc[:,:-2], y_train_rsf)"
   ]
  },
  {
   "cell_type": "markdown",
   "metadata": {},
   "source": [
    "## 2. 평가하기"
   ]
  },
  {
   "cell_type": "markdown",
   "metadata": {},
   "source": [
    "## 2-1. C-index 계산"
   ]
  },
  {
   "cell_type": "markdown",
   "metadata": {},
   "source": [
    "## 2-1-1. Repeated 5-fold cv on Training set"
   ]
  },
  {
   "cell_type": "code",
   "execution_count": 21,
   "metadata": {
    "executionInfo": {
     "elapsed": 8556,
     "status": "ok",
     "timestamp": 1621171545265,
     "user": {
      "displayName": "오현지",
      "photoUrl": "",
      "userId": "16924038929183224420"
     },
     "user_tz": -540
    },
    "id": "tqDJ4_DMc9R4"
   },
   "outputs": [],
   "source": [
    "from lifelines.utils import k_fold_cross_validation"
   ]
  },
  {
   "cell_type": "code",
   "execution_count": 22,
   "metadata": {
    "colab": {
     "base_uri": "https://localhost:8080/"
    },
    "executionInfo": {
     "elapsed": 33707,
     "status": "ok",
     "timestamp": 1621171570419,
     "user": {
      "displayName": "오현지",
      "photoUrl": "",
      "userId": "16924038929183224420"
     },
     "user_tz": -540
    },
    "id": "VktplsvwYmXS",
    "outputId": "bbb8ebcb-9549-4784-def0-c479a56f298d"
   },
   "outputs": [
    {
     "name": "stdout",
     "output_type": "stream",
     "text": [
      "[0.76998681 0.82423364 0.80276949 0.86857282 0.85584376 0.82384625\n",
      " 0.84011743 0.82546826 0.80645582 0.83827078 0.81964797 0.83308427\n",
      " 0.82192858 0.82096604 0.81176567 0.82760377 0.79276022 0.82231958\n",
      " 0.84876157 0.80482682 0.82954307 0.84039601 0.82945771 0.78148644\n",
      " 0.83290872 0.83100729 0.81138383 0.82172064 0.80333664 0.84384296\n",
      " 0.84623047 0.82375446 0.7823963  0.82660476 0.84724214 0.78850642\n",
      " 0.84552536 0.81488542 0.82501852 0.8359587  0.7988721  0.80940236\n",
      " 0.8317509  0.84835183 0.84926062 0.81213492 0.86020472 0.81144272\n",
      " 0.81324592 0.79387722]\n"
     ]
    }
   ],
   "source": [
    "cph = CoxPHFitter()\n",
    "C_Idx = np.array([])\n",
    "random_num_list = [10,20,30,40,50,60,70,80,90,100]\n",
    "\n",
    "for i in random_num_list:\n",
    "    arr = k_fold_cross_validation(cph, df_train, 'time_real', event_col='status_real', k=5, scoring_method=\"concordance_index\")\n",
    "    C_Idx = np.concatenate((C_Idx, arr))\n",
    "print(C_Idx)"
   ]
  },
  {
   "cell_type": "code",
   "execution_count": 23,
   "metadata": {
    "colab": {
     "base_uri": "https://localhost:8080/",
     "height": 390
    },
    "executionInfo": {
     "elapsed": 33705,
     "status": "ok",
     "timestamp": 1621171570420,
     "user": {
      "displayName": "오현지",
      "photoUrl": "",
      "userId": "16924038929183224420"
     },
     "user_tz": -540
    },
    "id": "BrjLfK5uklKI",
    "outputId": "c1165c68-7da6-4524-bea0-4490762c7b52"
   },
   "outputs": [
    {
     "data": {
      "image/png": "[encoded data removed]",
      "text/plain": [
       "<Figure size 504x432 with 1 Axes>"
      ]
     },
     "metadata": {
      "needs_background": "light"
     },
     "output_type": "display_data"
    }
   ],
   "source": [
    "df = pd.DataFrame(C_Idx)\n",
    "df.columns = ['CoxPH']\n",
    "\n",
    "plt.figure(figsize=(7,6))\n",
    "boxplot = df.boxplot(column=['CoxPH'])\n",
    "plt.title('Concordance index')\n",
    "plt.show()"
   ]
  },
  {
   "cell_type": "code",
   "execution_count": 24,
   "metadata": {},
   "outputs": [],
   "source": [
    "# Cross-validation is not necessary when using random forest, \n",
    "# because multiple bagging in process of training random forest prevents over-fitting."
   ]
  },
  {
   "cell_type": "markdown",
   "metadata": {
    "id": "g79Yx2caGrKt"
   },
   "source": [
    "## 2-1-2. C-index on Test set"
   ]
  },
  {
   "cell_type": "code",
   "execution_count": 25,
   "metadata": {
    "colab": {
     "base_uri": "https://localhost:8080/"
    },
    "executionInfo": {
     "elapsed": 34705,
     "status": "ok",
     "timestamp": 1621171571422,
     "user": {
      "displayName": "오현지",
      "photoUrl": "",
      "userId": "16924038929183224420"
     },
     "user_tz": -540
    },
    "id": "UhZJqjbrF_DP",
    "outputId": "1ed73fee-6afd-400d-899d-8866d62ae038"
   },
   "outputs": [
    {
     "name": "stdout",
     "output_type": "stream",
     "text": [
      "COXPH shows c-index  0.8134441281321331\n"
     ]
    }
   ],
   "source": [
    "from lifelines.utils import concordance_index\n",
    "cph = CoxPHFitter().fit(df_test, 'time_real', 'status_real')\n",
    "print('COXPH shows c-index ', concordance_index(df_test['time_real'], -cph.predict_partial_hazard(df_test), df_test['status_real']))"
   ]
  },
  {
   "cell_type": "code",
   "execution_count": 26,
   "metadata": {},
   "outputs": [
    {
     "name": "stdout",
     "output_type": "stream",
     "text": [
      "RSF shows c-index  0.8101356723346413\n"
     ]
    }
   ],
   "source": [
    "print('RSF shows c-index ', rsf.score(df_test.iloc[:, :-2], y_test_rsf))"
   ]
  },
  {
   "cell_type": "markdown",
   "metadata": {
    "id": "wxjpUVQ5f0dP"
   },
   "source": [
    "Calibration 평가"
   ]
  },
  {
   "cell_type": "code",
   "execution_count": 27,
   "metadata": {
    "colab": {
     "base_uri": "https://localhost:8080/",
     "height": 385
    },
    "executionInfo": {
     "elapsed": 2350,
     "status": "ok",
     "timestamp": 1621171661248,
     "user": {
      "displayName": "오현지",
      "photoUrl": "",
      "userId": "16924038929183224420"
     },
     "user_tz": -540
    },
    "id": "xutVUp9xcdz9",
    "outputId": "4d6ad877-5d83-4c02-acb1-f3ce84436a5e",
    "scrolled": true
   },
   "outputs": [
    {
     "name": "stdout",
     "output_type": "stream",
     "text": [
      "ICI =  0.19893757884646374\n",
      "E50 =  0.20219005120442657\n"
     ]
    },
    {
     "name": "stderr",
     "output_type": "stream",
     "text": [
      "C:\\Users\\hyji1\\anaconda3\\lib\\site-packages\\lifelines\\calibration.py:45: RuntimeWarning: divide by zero encountered in log\n",
      "  return np.log(-np.log(1 - p))\n",
      "C:\\Users\\hyji1\\anaconda3\\lib\\site-packages\\lifelines\\fitters\\mixins.py:19: RuntimeWarning: invalid value encountered in subtract\n",
      "  return self.relu(x - knot) ** 3 - (lambda_ * self.relu(x - min_knot) ** 3 + (1 - lambda_) * self.relu(x - max_knot) ** 3)\n"
     ]
    },
    {
     "data": {
      "text/plain": [
       "(<AxesSubplot:title={'center':'Smoothed calibration curve of \\npredicted vs observed probabilities of t ≤ 700 mortality'}, xlabel='Predicted probability of \\nt ≤ 700 mortality', ylabel='Observed probability of \\nt ≤ 700 mortality'>,\n",
       " 0.19893757884646374,\n",
       " 0.20219005120442657)"
      ]
     },
     "execution_count": 27,
     "metadata": {},
     "output_type": "execute_result"
    },
    {
     "data": {
      "image/png": "[encoded data removed]",
      "text/plain": [
       "<Figure size 432x288 with 2 Axes>"
      ]
     },
     "metadata": {
      "needs_background": "light"
     },
     "output_type": "display_data"
    }
   ],
   "source": [
    "from lifelines.calibration import survival_probability_calibration\n",
    "\n",
    "survival_probability_calibration(cph, df_test, t0=700)"
   ]
  },
  {
   "cell_type": "markdown",
   "metadata": {
    "id": "EHff_3yIhb29"
   },
   "source": [
    "비례위험 가정 검토"
   ]
  },
  {
   "cell_type": "code",
   "execution_count": 28,
   "metadata": {
    "colab": {
     "base_uri": "https://localhost:8080/",
     "height": 1000
    },
    "executionInfo": {
     "elapsed": 35708,
     "status": "ok",
     "timestamp": 1621171572430,
     "user": {
      "displayName": "오현지",
      "photoUrl": "",
      "userId": "16924038929183224420"
     },
     "user_tz": -540
    },
    "id": "mIRcvB1TcdxD",
    "outputId": "a1d233ca-fc1b-4de5-cf9f-e4f3dfeaf3ec",
    "scrolled": false
   },
   "outputs": [
    {
     "name": "stdout",
     "output_type": "stream",
     "text": [
      "Proportional hazard assumption looks okay.\n",
      "[]\n"
     ]
    }
   ],
   "source": [
    "print(cph.check_assumptions(training_df=df_test, p_value_threshold=0.05))"
   ]
  },
  {
   "cell_type": "markdown",
   "metadata": {
    "id": "Q71cLLEEceuP"
   },
   "source": [
    "## 2-2. Individual Prediction on Test set"
   ]
  },
  {
   "cell_type": "code",
   "execution_count": 29,
   "metadata": {
    "executionInfo": {
     "elapsed": 7718,
     "status": "ok",
     "timestamp": 1621171544418,
     "user": {
      "displayName": "오현지",
      "photoUrl": "",
      "userId": "16924038929183224420"
     },
     "user_tz": -540
    },
    "id": "Wzy-vOleceIW"
   },
   "outputs": [],
   "source": [
    "df_test_X = df_test.drop(columns=['time_real', 'status_real'])"
   ]
  },
  {
   "cell_type": "code",
   "execution_count": 30,
   "metadata": {
    "executionInfo": {
     "elapsed": 7717,
     "status": "ok",
     "timestamp": 1621171544419,
     "user": {
      "displayName": "오현지",
      "photoUrl": "",
      "userId": "16924038929183224420"
     },
     "user_tz": -540
    },
    "id": "V1x5H5fdceA7"
   },
   "outputs": [],
   "source": [
    "# Selecting 3 random subjects to predict survival\n",
    "test_1 = df_test_X.iloc[-7:-2, :]"
   ]
  },
  {
   "cell_type": "code",
   "execution_count": 31,
   "metadata": {},
   "outputs": [],
   "source": [
    "result = cph.predict_survival_function(test_1)"
   ]
  },
  {
   "cell_type": "code",
   "execution_count": 32,
   "metadata": {
    "colab": {
     "base_uri": "https://localhost:8080/",
     "height": 445
    },
    "executionInfo": {
     "elapsed": 8559,
     "status": "ok",
     "timestamp": 1621171545264,
     "user": {
      "displayName": "오현지",
      "photoUrl": "",
      "userId": "16924038929183224420"
     },
     "user_tz": -540
    },
    "id": "5k3zVJ3lcd8x",
    "outputId": "d034ced8-0fbd-49ac-e6b8-66cebdf5d7cd"
   },
   "outputs": [
    {
     "data": {
      "text/plain": [
       "Text(0.5, 1.0, 'COXPH')"
      ]
     },
     "execution_count": 32,
     "metadata": {},
     "output_type": "execute_result"
    },
    {
     "data": {
      "image/png": "[encoded data removed]",
      "text/plain": [
       "<Figure size 936x504 with 1 Axes>"
      ]
     },
     "metadata": {
      "needs_background": "light"
     },
     "output_type": "display_data"
    }
   ],
   "source": [
    "fig, ax = plt.subplots(figsize=(13,7))\n",
    "result = cph.predict_survival_function(test_1)\n",
    "ax = sns.lineplot(data = result)\n",
    "ax.set(xlabel='Time in days', ylabel='Survival probability')\n",
    "ax.set_title(\"COXPH\")"
   ]
  },
  {
   "cell_type": "code",
   "execution_count": 35,
   "metadata": {},
   "outputs": [
    {
     "data": {
      "image/png": "[encoded data removed]",
      "text/plain": [
       "<Figure size 936x504 with 1 Axes>"
      ]
     },
     "metadata": {
      "needs_background": "light"
     },
     "output_type": "display_data"
    }
   ],
   "source": [
    "surv = rsf.predict_survival_function(df_test.iloc[-7:-2, :-2], return_array=True)\n",
    "\n",
    "plt.figure(figsize=(13,7))\n",
    "\n",
    "for i, s in enumerate(surv):\n",
    "    plt.step(rsf.event_times_, s, where=\"post\", label=str(i))\n",
    "plt.ylabel(\"Survival probability\")\n",
    "plt.xlabel(\"Time in days\")\n",
    "plt.title('RSF')\n",
    "plt.legend()\n",
    "plt.show()"
   ]
  },
  {
   "cell_type": "code",
   "execution_count": 34,
   "metadata": {
    "colab": {
     "base_uri": "https://localhost:8080/",
     "height": 230
    },
    "executionInfo": {
     "elapsed": 8557,
     "status": "ok",
     "timestamp": 1621171545264,
     "user": {
      "displayName": "오현지",
      "photoUrl": "",
      "userId": "16924038929183224420"
     },
     "user_tz": -540
    },
    "id": "D_uhgR63cd5r",
    "outputId": "3e2482bd-290f-4402-8ee3-c8eb0d4fc88e"
   },
   "outputs": [
    {
     "data": {
      "text/html": [
       "<div>\n",
       "<style scoped>\n",
       "    .dataframe tbody tr th:only-of-type {\n",
       "        vertical-align: middle;\n",
       "    }\n",
       "\n",
       "    .dataframe tbody tr th {\n",
       "        vertical-align: top;\n",
       "    }\n",
       "\n",
       "    .dataframe thead th {\n",
       "        text-align: right;\n",
       "    }\n",
       "</style>\n",
       "<table border=\"1\" class=\"dataframe\">\n",
       "  <thead>\n",
       "    <tr style=\"text-align: right;\">\n",
       "      <th></th>\n",
       "      <th>time_real</th>\n",
       "      <th>status_real</th>\n",
       "    </tr>\n",
       "  </thead>\n",
       "  <tbody>\n",
       "    <tr>\n",
       "      <th>729</th>\n",
       "      <td>262</td>\n",
       "      <td>0</td>\n",
       "    </tr>\n",
       "    <tr>\n",
       "      <th>1581</th>\n",
       "      <td>359</td>\n",
       "      <td>1</td>\n",
       "    </tr>\n",
       "    <tr>\n",
       "      <th>2216</th>\n",
       "      <td>273</td>\n",
       "      <td>0</td>\n",
       "    </tr>\n",
       "    <tr>\n",
       "      <th>464</th>\n",
       "      <td>375</td>\n",
       "      <td>0</td>\n",
       "    </tr>\n",
       "    <tr>\n",
       "      <th>261</th>\n",
       "      <td>133</td>\n",
       "      <td>0</td>\n",
       "    </tr>\n",
       "  </tbody>\n",
       "</table>\n",
       "</div>"
      ],
      "text/plain": [
       "      time_real  status_real\n",
       "729         262            0\n",
       "1581        359            1\n",
       "2216        273            0\n",
       "464         375            0\n",
       "261         133            0"
      ]
     },
     "execution_count": 34,
     "metadata": {},
     "output_type": "execute_result"
    }
   ],
   "source": [
    "df_test.iloc[-7:-2, -2:]"
   ]
  }
 ],
 "metadata": {
  "kernelspec": {
   "display_name": "Python 3",
   "language": "python",
   "name": "python3"
  },
  "language_info": {
   "codemirror_mode": {
    "name": "ipython",
    "version": 3
   },
   "file_extension": ".py",
   "mimetype": "text/x-python",
   "name": "python",
   "nbconvert_exporter": "python",
   "pygments_lexer": "ipython3",
   "version": "3.8.5"
  }
 },
 "nbformat": 4,
 "nbformat_minor": 4
}

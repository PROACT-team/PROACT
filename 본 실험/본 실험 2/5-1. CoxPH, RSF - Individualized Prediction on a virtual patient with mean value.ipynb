{
 "cells": [
  {
   "cell_type": "code",
   "execution_count": 1,
   "metadata": {},
   "outputs": [],
   "source": [
    "import pandas as pd\n",
    "import numpy as np\n",
    "import matplotlib.pyplot as plt\n",
    "import seaborn as sns"
   ]
  },
  {
   "cell_type": "markdown",
   "metadata": {},
   "source": [
    "# Preprocessing"
   ]
  },
  {
   "cell_type": "code",
   "execution_count": 2,
   "metadata": {},
   "outputs": [],
   "source": [
    "X_imputed = pd.read_csv('imputed features_final.csv')\n",
    "Optimal_Gas = pd.read_csv('Optimal target.csv')"
   ]
  },
  {
   "cell_type": "code",
   "execution_count": 3,
   "metadata": {},
   "outputs": [],
   "source": [
    "sub_list = list(Optimal_Gas['SubjectID'])"
   ]
  },
  {
   "cell_type": "code",
   "execution_count": 4,
   "metadata": {},
   "outputs": [],
   "source": [
    "X_imputed = X_imputed[['SubjectID','Age', 'Gender', 'onset_site', 'onset_delta',\n",
    "       'diag_minus_onset', 'slope_alsfrs_tot',\n",
    "       'fvc_slope', 'fvc_mean',  'mean_Q10_Respiratory',\n",
    "       'mean_Bulbar', 'mean_motor', 'slope_Q1_Speech', 'slope_Q2_Salivation',\n",
    "       'slope_Q3_Swallowing', 'slope_Q4_Handwriting', 'slope_Q5_Cutting',\n",
    "       'slope_Q6_Dressing_and_Hygiene', 'slope_Q7_Turning_in_Bed',\n",
    "       'slope_Q8_Walking', 'slope_Q9_Climbing_Stairs', 'slope_Q10_Respiratory']]"
   ]
  },
  {
   "cell_type": "code",
   "execution_count": 5,
   "metadata": {},
   "outputs": [],
   "source": [
    "X_imputed.query(\"SubjectID == {0}\".format(sub_list), inplace=True)\n",
    "sub_list_2 = list(X_imputed['SubjectID'])\n",
    "X_imputed = X_imputed.reset_index()\n",
    "X_imputed.drop(columns=['index'], inplace=True)"
   ]
  },
  {
   "cell_type": "code",
   "execution_count": 6,
   "metadata": {},
   "outputs": [],
   "source": [
    "Optimal_Gas.query(\"SubjectID == {0}\".format(sub_list_2), inplace=True)\n",
    "Optimal_Gas = Optimal_Gas.reset_index()\n",
    "Optimal_Gas = Optimal_Gas.iloc[:, 1:]\n",
    "Optimal_Gas.drop(columns='Unnamed: 0', inplace=True)"
   ]
  },
  {
   "cell_type": "code",
   "execution_count": 7,
   "metadata": {},
   "outputs": [],
   "source": [
    "X_1 = X_imputed.merge(Optimal_Gas, on='SubjectID', how='inner')"
   ]
  },
  {
   "cell_type": "code",
   "execution_count": 8,
   "metadata": {},
   "outputs": [],
   "source": [
    "X_1 = X_1[X_1['time_opt']!=0]\n",
    "y = X_1[['status_opt']]\n",
    "X_2 = X_1.drop(columns='SubjectID')"
   ]
  },
  {
   "cell_type": "code",
   "execution_count": 9,
   "metadata": {},
   "outputs": [],
   "source": [
    "X_2.drop(columns='Unnamed: 0.1', inplace=True)"
   ]
  },
  {
   "cell_type": "markdown",
   "metadata": {},
   "source": [
    "# Train/Test split"
   ]
  },
  {
   "cell_type": "code",
   "execution_count": 10,
   "metadata": {},
   "outputs": [],
   "source": [
    "from sklearn.model_selection import train_test_split\n",
    "\n",
    "df_train, df_test, y_train, y_test = train_test_split(X_2, y, train_size=0.8, test_size=0.2, random_state=11)"
   ]
  },
  {
   "cell_type": "markdown",
   "metadata": {},
   "source": [
    "# Creating Virtual Subject with mean values of each feature"
   ]
  },
  {
   "cell_type": "code",
   "execution_count": 11,
   "metadata": {},
   "outputs": [
    {
     "data": {
      "text/html": [
       "<div>\n",
       "<style scoped>\n",
       "    .dataframe tbody tr th:only-of-type {\n",
       "        vertical-align: middle;\n",
       "    }\n",
       "\n",
       "    .dataframe tbody tr th {\n",
       "        vertical-align: top;\n",
       "    }\n",
       "\n",
       "    .dataframe thead th {\n",
       "        text-align: right;\n",
       "    }\n",
       "</style>\n",
       "<table border=\"1\" class=\"dataframe\">\n",
       "  <thead>\n",
       "    <tr style=\"text-align: right;\">\n",
       "      <th></th>\n",
       "      <th>Age</th>\n",
       "      <th>Gender</th>\n",
       "      <th>onset_site</th>\n",
       "      <th>onset_delta</th>\n",
       "      <th>diag_minus_onset</th>\n",
       "      <th>slope_alsfrs_tot</th>\n",
       "      <th>fvc_slope</th>\n",
       "      <th>fvc_mean</th>\n",
       "      <th>mean_Q10_Respiratory</th>\n",
       "      <th>mean_Bulbar</th>\n",
       "      <th>...</th>\n",
       "      <th>slope_Q1_Speech</th>\n",
       "      <th>slope_Q2_Salivation</th>\n",
       "      <th>slope_Q3_Swallowing</th>\n",
       "      <th>slope_Q4_Handwriting</th>\n",
       "      <th>slope_Q5_Cutting</th>\n",
       "      <th>slope_Q6_Dressing_and_Hygiene</th>\n",
       "      <th>slope_Q7_Turning_in_Bed</th>\n",
       "      <th>slope_Q8_Walking</th>\n",
       "      <th>slope_Q9_Climbing_Stairs</th>\n",
       "      <th>slope_Q10_Respiratory</th>\n",
       "    </tr>\n",
       "  </thead>\n",
       "  <tbody>\n",
       "    <tr>\n",
       "      <th>0</th>\n",
       "      <td>55.158608</td>\n",
       "      <td>0.635908</td>\n",
       "      <td>0.173257</td>\n",
       "      <td>-611.316627</td>\n",
       "      <td>339.619399</td>\n",
       "      <td>-0.023368</td>\n",
       "      <td>-0.082875</td>\n",
       "      <td>83.904941</td>\n",
       "      <td>3.606309</td>\n",
       "      <td>6.814276</td>\n",
       "      <td>...</td>\n",
       "      <td>-0.0015</td>\n",
       "      <td>-0.001109</td>\n",
       "      <td>-0.000895</td>\n",
       "      <td>-0.00247</td>\n",
       "      <td>-0.003277</td>\n",
       "      <td>-0.003562</td>\n",
       "      <td>0.011939</td>\n",
       "      <td>-0.002192</td>\n",
       "      <td>-0.004155</td>\n",
       "      <td>-0.001381</td>\n",
       "    </tr>\n",
       "  </tbody>\n",
       "</table>\n",
       "<p>1 rows × 21 columns</p>\n",
       "</div>"
      ],
      "text/plain": [
       "         Age    Gender  onset_site  onset_delta  diag_minus_onset  \\\n",
       "0  55.158608  0.635908    0.173257  -611.316627        339.619399   \n",
       "\n",
       "   slope_alsfrs_tot  fvc_slope   fvc_mean  mean_Q10_Respiratory  mean_Bulbar  \\\n",
       "0         -0.023368  -0.082875  83.904941              3.606309     6.814276   \n",
       "\n",
       "   ...  slope_Q1_Speech  slope_Q2_Salivation  slope_Q3_Swallowing  \\\n",
       "0  ...          -0.0015            -0.001109            -0.000895   \n",
       "\n",
       "   slope_Q4_Handwriting  slope_Q5_Cutting  slope_Q6_Dressing_and_Hygiene  \\\n",
       "0              -0.00247         -0.003277                      -0.003562   \n",
       "\n",
       "   slope_Q7_Turning_in_Bed  slope_Q8_Walking  slope_Q9_Climbing_Stairs  \\\n",
       "0                 0.011939         -0.002192                 -0.004155   \n",
       "\n",
       "   slope_Q10_Respiratory  \n",
       "0              -0.001381  \n",
       "\n",
       "[1 rows x 21 columns]"
      ]
     },
     "execution_count": 11,
     "metadata": {},
     "output_type": "execute_result"
    }
   ],
   "source": [
    "VIRT = pd.DataFrame(X_1.mean()).transpose().iloc[:, 1:-3]\n",
    "VIRT"
   ]
  },
  {
   "cell_type": "markdown",
   "metadata": {},
   "source": [
    "# Fitting model"
   ]
  },
  {
   "cell_type": "markdown",
   "metadata": {},
   "source": [
    "Cox Proportion Hazard model"
   ]
  },
  {
   "cell_type": "code",
   "execution_count": 12,
   "metadata": {},
   "outputs": [
    {
     "data": {
      "text/plain": [
       "<lifelines.CoxPHFitter: fitted with 2713 total observations, 2184 right-censored observations>"
      ]
     },
     "execution_count": 12,
     "metadata": {},
     "output_type": "execute_result"
    }
   ],
   "source": [
    "from lifelines import CoxPHFitter\n",
    "cph = CoxPHFitter(penalizer=0.01)\n",
    "cph.fit(df_train, 'time_opt', event_col='status_opt')"
   ]
  },
  {
   "cell_type": "code",
   "execution_count": 22,
   "metadata": {},
   "outputs": [],
   "source": [
    "result_cph = cph.predict_survival_function(VIRT)"
   ]
  },
  {
   "cell_type": "markdown",
   "metadata": {},
   "source": [
    "Random Survival Forest"
   ]
  },
  {
   "cell_type": "code",
   "execution_count": 14,
   "metadata": {},
   "outputs": [],
   "source": [
    "from sksurv.ensemble import RandomSurvivalForest"
   ]
  },
  {
   "cell_type": "code",
   "execution_count": 15,
   "metadata": {},
   "outputs": [],
   "source": [
    "dic = {1:True, 0:False}\n",
    "\n",
    "df_train_rsf = df_train.iloc[:, -2:][['status_opt', 'time_opt']]\n",
    "df_train_rsf = df_train_rsf.replace({'status_opt':dic})"
   ]
  },
  {
   "cell_type": "code",
   "execution_count": 16,
   "metadata": {},
   "outputs": [],
   "source": [
    "arr_1 = list(tuple(x) for x in df_train_rsf.to_records(index=False))\n",
    "dt=np.dtype('bool, float')\n",
    "y_train_rsf = np.array(arr_1, dtype=dt)\n",
    "y_train_rsf.dtype.names=['cens', 'time']"
   ]
  },
  {
   "cell_type": "code",
   "execution_count": 19,
   "metadata": {},
   "outputs": [
    {
     "data": {
      "text/plain": [
       "RandomSurvivalForest(max_features='sqrt', min_samples_leaf=15,\n",
       "                     min_samples_split=10, n_estimators=1000, n_jobs=-1,\n",
       "                     random_state=20)"
      ]
     },
     "execution_count": 19,
     "metadata": {},
     "output_type": "execute_result"
    }
   ],
   "source": [
    "rsf = RandomSurvivalForest(n_estimators=1000,\n",
    "                           min_samples_split=10,\n",
    "                           min_samples_leaf=15,\n",
    "                           max_features=\"sqrt\",\n",
    "                           n_jobs=-1,\n",
    "                           random_state=20)\n",
    "rsf.fit(df_train.iloc[:,:-2], y_train_rsf)"
   ]
  },
  {
   "cell_type": "code",
   "execution_count": 20,
   "metadata": {},
   "outputs": [],
   "source": [
    "result_rsf = rsf.predict_survival_function(VIRT, return_array=True)"
   ]
  },
  {
   "cell_type": "code",
   "execution_count": 50,
   "metadata": {},
   "outputs": [],
   "source": [
    "from lifelines.utils import median_survival_times"
   ]
  },
  {
   "cell_type": "code",
   "execution_count": 84,
   "metadata": {},
   "outputs": [
    {
     "data": {
      "image/png": "[encoded data removed]",
      "text/plain": [
       "<Figure size 1152x432 with 2 Axes>"
      ]
     },
     "metadata": {
      "needs_background": "light"
     },
     "output_type": "display_data"
    }
   ],
   "source": [
    "plt.figure(figsize=(16, 6))\n",
    "\n",
    "plt.subplot(121)\n",
    "plt.plot(result_cph.index, result_cph, marker='None', color='green')\n",
    "plt.title(\"CoxPH\")\n",
    "plt.ylim([0,1.05])\n",
    "plt.annotate(\"median gastrostomy time = 869 (days)\", xy=(869, 0.5)\n",
    "                , xytext=(869+110, 0.65), arrowprops=dict(arrowstyle=\"->\", connectionstyle=\"arc3,rad=-0.05\"))\n",
    "\n",
    "plt.subplot(122)\n",
    "for i, s in enumerate(result_rsf):\n",
    "    plt.step(rsf.event_times_, s, where=\"post\", color='purple')\n",
    "plt.ylim([0,1.05])\n",
    "plt.title('RSF')\n",
    "\n",
    "plt.suptitle('Prediction on a virtual subject filled with mean values', fontsize=20)\n",
    "plt.show()"
   ]
  },
  {
   "cell_type": "code",
   "execution_count": 80,
   "metadata": {},
   "outputs": [
    {
     "data": {
      "text/html": [
       "<div>\n",
       "<style scoped>\n",
       "    .dataframe tbody tr th:only-of-type {\n",
       "        vertical-align: middle;\n",
       "    }\n",
       "\n",
       "    .dataframe tbody tr th {\n",
       "        vertical-align: top;\n",
       "    }\n",
       "\n",
       "    .dataframe thead th {\n",
       "        text-align: right;\n",
       "    }\n",
       "</style>\n",
       "<table border=\"1\" class=\"dataframe\">\n",
       "  <thead>\n",
       "    <tr style=\"text-align: right;\">\n",
       "      <th></th>\n",
       "      <th>0</th>\n",
       "    </tr>\n",
       "  </thead>\n",
       "  <tbody>\n",
       "    <tr>\n",
       "      <th>866.0</th>\n",
       "      <td>0.507294</td>\n",
       "    </tr>\n",
       "    <tr>\n",
       "      <th>867.0</th>\n",
       "      <td>0.507294</td>\n",
       "    </tr>\n",
       "    <tr>\n",
       "      <th>872.0</th>\n",
       "      <td>0.492966</td>\n",
       "    </tr>\n",
       "    <tr>\n",
       "      <th>879.0</th>\n",
       "      <td>0.492966</td>\n",
       "    </tr>\n",
       "    <tr>\n",
       "      <th>883.0</th>\n",
       "      <td>0.492966</td>\n",
       "    </tr>\n",
       "  </tbody>\n",
       "</table>\n",
       "</div>"
      ],
      "text/plain": [
       "              0\n",
       "866.0  0.507294\n",
       "867.0  0.507294\n",
       "872.0  0.492966\n",
       "879.0  0.492966\n",
       "883.0  0.492966"
      ]
     },
     "execution_count": 80,
     "metadata": {},
     "output_type": "execute_result"
    }
   ],
   "source": [
    "result_cph[result_cph[0]<=0.51].head()"
   ]
  },
  {
   "cell_type": "code",
   "execution_count": null,
   "metadata": {},
   "outputs": [],
   "source": []
  },
  {
   "cell_type": "code",
   "execution_count": null,
   "metadata": {},
   "outputs": [],
   "source": []
  }
 ],
 "metadata": {
  "kernelspec": {
   "display_name": "Python 3",
   "language": "python",
   "name": "python3"
  },
  "language_info": {
   "codemirror_mode": {
    "name": "ipython",
    "version": 3
   },
   "file_extension": ".py",
   "mimetype": "text/x-python",
   "name": "python",
   "nbconvert_exporter": "python",
   "pygments_lexer": "ipython3",
   "version": "3.8.5"
  }
 },
 "nbformat": 4,
 "nbformat_minor": 4
}

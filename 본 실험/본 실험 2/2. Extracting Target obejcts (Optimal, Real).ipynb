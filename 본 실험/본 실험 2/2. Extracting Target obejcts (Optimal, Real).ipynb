{
 "cells": [
  {
   "cell_type": "code",
   "execution_count": 1,
   "metadata": {
    "executionInfo": {
     "elapsed": 1055,
     "status": "ok",
     "timestamp": 1621171537624,
     "user": {
      "displayName": "오현지",
      "photoUrl": "",
      "userId": "16924038929183224420"
     },
     "user_tz": -540
    },
    "id": "h9tT9dn9CEMC"
   },
   "outputs": [],
   "source": [
    "import pandas as pd\n",
    "import numpy as np\n",
    "import matplotlib.pyplot as plt\n",
    "import seaborn as sns"
   ]
  },
  {
   "cell_type": "code",
   "execution_count": 2,
   "metadata": {
    "executionInfo": {
     "elapsed": 2048,
     "status": "ok",
     "timestamp": 1621171538621,
     "user": {
      "displayName": "오현지",
      "photoUrl": "",
      "userId": "16924038929183224420"
     },
     "user_tz": -540
    },
    "id": "l79KtctAJdM2"
   },
   "outputs": [],
   "source": [
    "alsfrs_orig_raw = pd.read_csv('ALSFRS_original.csv')\n",
    "fvc_raw = pd.read_csv('fvc.csv')"
   ]
  },
  {
   "cell_type": "code",
   "execution_count": 3,
   "metadata": {
    "executionInfo": {
     "elapsed": 2046,
     "status": "ok",
     "timestamp": 1621171538622,
     "user": {
      "displayName": "오현지",
      "photoUrl": "",
      "userId": "16924038929183224420"
     },
     "user_tz": -540
    },
    "id": "-iksGOyEJ5Mk"
   },
   "outputs": [],
   "source": [
    "alsfrs_orig = alsfrs_orig_raw.sort_values(by=['SubjectID','feature_delta'], axis=0).reset_index().drop(columns='index')\n",
    "fvc = fvc_raw.sort_values(by=['SubjectID', 'feature_delta'], axis=0).reset_index().drop(columns='index')"
   ]
  },
  {
   "cell_type": "markdown",
   "metadata": {
    "id": "tINVEufOy5gY"
   },
   "source": [
    "### Creating Optimal gastrostomy Target object"
   ]
  },
  {
   "cell_type": "markdown",
   "metadata": {
    "id": "9eJuFTBFMsrY"
   },
   "source": [
    " ### 01. Subtracting [FVC < 50]"
   ]
  },
  {
   "cell_type": "code",
   "execution_count": 4,
   "metadata": {
    "colab": {
     "base_uri": "https://localhost:8080/",
     "height": 440
    },
    "executionInfo": {
     "elapsed": 2041,
     "status": "ok",
     "timestamp": 1621171538622,
     "user": {
      "displayName": "오현지",
      "photoUrl": "",
      "userId": "16924038929183224420"
     },
     "user_tz": -540
    },
    "id": "Jn7D8N8kLh3Z",
    "outputId": "090b08c6-fa62-417b-e0be-cd81a2028b97"
   },
   "outputs": [
    {
     "data": {
      "text/html": [
       "<div>\n",
       "<style scoped>\n",
       "    .dataframe tbody tr th:only-of-type {\n",
       "        vertical-align: middle;\n",
       "    }\n",
       "\n",
       "    .dataframe tbody tr th {\n",
       "        vertical-align: top;\n",
       "    }\n",
       "\n",
       "    .dataframe thead tr th {\n",
       "        text-align: left;\n",
       "    }\n",
       "</style>\n",
       "<table border=\"1\" class=\"dataframe\">\n",
       "  <thead>\n",
       "    <tr>\n",
       "      <th></th>\n",
       "      <th>SubjectID</th>\n",
       "      <th colspan=\"2\" halign=\"left\">fvc_percent</th>\n",
       "      <th colspan=\"2\" halign=\"left\">feature_delta</th>\n",
       "    </tr>\n",
       "    <tr>\n",
       "      <th></th>\n",
       "      <th></th>\n",
       "      <th>first</th>\n",
       "      <th>last</th>\n",
       "      <th>first</th>\n",
       "      <th>last</th>\n",
       "    </tr>\n",
       "  </thead>\n",
       "  <tbody>\n",
       "    <tr>\n",
       "      <th>0</th>\n",
       "      <td>89</td>\n",
       "      <td>75</td>\n",
       "      <td>75</td>\n",
       "      <td>0</td>\n",
       "      <td>0</td>\n",
       "    </tr>\n",
       "    <tr>\n",
       "      <th>1</th>\n",
       "      <td>329</td>\n",
       "      <td>98</td>\n",
       "      <td>93</td>\n",
       "      <td>0</td>\n",
       "      <td>274</td>\n",
       "    </tr>\n",
       "    <tr>\n",
       "      <th>2</th>\n",
       "      <td>406</td>\n",
       "      <td>83</td>\n",
       "      <td>83</td>\n",
       "      <td>0</td>\n",
       "      <td>0</td>\n",
       "    </tr>\n",
       "    <tr>\n",
       "      <th>3</th>\n",
       "      <td>411</td>\n",
       "      <td>79</td>\n",
       "      <td>79</td>\n",
       "      <td>0</td>\n",
       "      <td>0</td>\n",
       "    </tr>\n",
       "    <tr>\n",
       "      <th>4</th>\n",
       "      <td>533</td>\n",
       "      <td>77</td>\n",
       "      <td>70</td>\n",
       "      <td>0</td>\n",
       "      <td>12</td>\n",
       "    </tr>\n",
       "    <tr>\n",
       "      <th>...</th>\n",
       "      <td>...</td>\n",
       "      <td>...</td>\n",
       "      <td>...</td>\n",
       "      <td>...</td>\n",
       "      <td>...</td>\n",
       "    </tr>\n",
       "    <tr>\n",
       "      <th>7307</th>\n",
       "      <td>999482</td>\n",
       "      <td>79</td>\n",
       "      <td>33</td>\n",
       "      <td>0</td>\n",
       "      <td>434</td>\n",
       "    </tr>\n",
       "    <tr>\n",
       "      <th>7308</th>\n",
       "      <td>999823</td>\n",
       "      <td>103</td>\n",
       "      <td>94</td>\n",
       "      <td>0</td>\n",
       "      <td>184</td>\n",
       "    </tr>\n",
       "    <tr>\n",
       "      <th>7309</th>\n",
       "      <td>999863</td>\n",
       "      <td>40</td>\n",
       "      <td>36</td>\n",
       "      <td>0</td>\n",
       "      <td>177</td>\n",
       "    </tr>\n",
       "    <tr>\n",
       "      <th>7310</th>\n",
       "      <td>999880</td>\n",
       "      <td>53</td>\n",
       "      <td>49</td>\n",
       "      <td>0</td>\n",
       "      <td>266</td>\n",
       "    </tr>\n",
       "    <tr>\n",
       "      <th>7311</th>\n",
       "      <td>999990</td>\n",
       "      <td>83</td>\n",
       "      <td>74</td>\n",
       "      <td>0</td>\n",
       "      <td>126</td>\n",
       "    </tr>\n",
       "  </tbody>\n",
       "</table>\n",
       "<p>7312 rows × 5 columns</p>\n",
       "</div>"
      ],
      "text/plain": [
       "     SubjectID fvc_percent      feature_delta     \n",
       "                     first last         first last\n",
       "0           89          75   75             0    0\n",
       "1          329          98   93             0  274\n",
       "2          406          83   83             0    0\n",
       "3          411          79   79             0    0\n",
       "4          533          77   70             0   12\n",
       "...        ...         ...  ...           ...  ...\n",
       "7307    999482          79   33             0  434\n",
       "7308    999823         103   94             0  184\n",
       "7309    999863          40   36             0  177\n",
       "7310    999880          53   49             0  266\n",
       "7311    999990          83   74             0  126\n",
       "\n",
       "[7312 rows x 5 columns]"
      ]
     },
     "execution_count": 4,
     "metadata": {},
     "output_type": "execute_result"
    }
   ],
   "source": [
    "fvc_a = fvc.groupby('SubjectID').agg(['first', 'last'])\n",
    "fvc_a = fvc_a.reset_index()\n",
    "fvc_a"
   ]
  },
  {
   "cell_type": "code",
   "execution_count": 5,
   "metadata": {
    "colab": {
     "base_uri": "https://localhost:8080/",
     "height": 440
    },
    "executionInfo": {
     "elapsed": 2034,
     "status": "ok",
     "timestamp": 1621171538622,
     "user": {
      "displayName": "오현지",
      "photoUrl": "",
      "userId": "16924038929183224420"
     },
     "user_tz": -540
    },
    "id": "xr_G2Q07M8qK",
    "outputId": "7e16dc24-7db6-4d69-cdd3-e48e579d2e7a"
   },
   "outputs": [
    {
     "data": {
      "text/html": [
       "<div>\n",
       "<style scoped>\n",
       "    .dataframe tbody tr th:only-of-type {\n",
       "        vertical-align: middle;\n",
       "    }\n",
       "\n",
       "    .dataframe tbody tr th {\n",
       "        vertical-align: top;\n",
       "    }\n",
       "\n",
       "    .dataframe thead tr th {\n",
       "        text-align: left;\n",
       "    }\n",
       "</style>\n",
       "<table border=\"1\" class=\"dataframe\">\n",
       "  <thead>\n",
       "    <tr>\n",
       "      <th></th>\n",
       "      <th>SubjectID</th>\n",
       "      <th colspan=\"2\" halign=\"left\">fvc_percent</th>\n",
       "      <th colspan=\"2\" halign=\"left\">feature_delta</th>\n",
       "    </tr>\n",
       "    <tr>\n",
       "      <th></th>\n",
       "      <th></th>\n",
       "      <th>first</th>\n",
       "      <th>last</th>\n",
       "      <th>first</th>\n",
       "      <th>last</th>\n",
       "    </tr>\n",
       "  </thead>\n",
       "  <tbody>\n",
       "    <tr>\n",
       "      <th>1</th>\n",
       "      <td>329</td>\n",
       "      <td>98</td>\n",
       "      <td>93</td>\n",
       "      <td>0</td>\n",
       "      <td>274</td>\n",
       "    </tr>\n",
       "    <tr>\n",
       "      <th>4</th>\n",
       "      <td>533</td>\n",
       "      <td>77</td>\n",
       "      <td>70</td>\n",
       "      <td>0</td>\n",
       "      <td>12</td>\n",
       "    </tr>\n",
       "    <tr>\n",
       "      <th>6</th>\n",
       "      <td>649</td>\n",
       "      <td>97</td>\n",
       "      <td>33</td>\n",
       "      <td>0</td>\n",
       "      <td>557</td>\n",
       "    </tr>\n",
       "    <tr>\n",
       "      <th>7</th>\n",
       "      <td>708</td>\n",
       "      <td>53</td>\n",
       "      <td>33</td>\n",
       "      <td>0</td>\n",
       "      <td>231</td>\n",
       "    </tr>\n",
       "    <tr>\n",
       "      <th>8</th>\n",
       "      <td>902</td>\n",
       "      <td>90</td>\n",
       "      <td>87</td>\n",
       "      <td>0</td>\n",
       "      <td>154</td>\n",
       "    </tr>\n",
       "    <tr>\n",
       "      <th>...</th>\n",
       "      <td>...</td>\n",
       "      <td>...</td>\n",
       "      <td>...</td>\n",
       "      <td>...</td>\n",
       "      <td>...</td>\n",
       "    </tr>\n",
       "    <tr>\n",
       "      <th>7307</th>\n",
       "      <td>999482</td>\n",
       "      <td>79</td>\n",
       "      <td>33</td>\n",
       "      <td>0</td>\n",
       "      <td>434</td>\n",
       "    </tr>\n",
       "    <tr>\n",
       "      <th>7308</th>\n",
       "      <td>999823</td>\n",
       "      <td>103</td>\n",
       "      <td>94</td>\n",
       "      <td>0</td>\n",
       "      <td>184</td>\n",
       "    </tr>\n",
       "    <tr>\n",
       "      <th>7309</th>\n",
       "      <td>999863</td>\n",
       "      <td>40</td>\n",
       "      <td>36</td>\n",
       "      <td>0</td>\n",
       "      <td>177</td>\n",
       "    </tr>\n",
       "    <tr>\n",
       "      <th>7310</th>\n",
       "      <td>999880</td>\n",
       "      <td>53</td>\n",
       "      <td>49</td>\n",
       "      <td>0</td>\n",
       "      <td>266</td>\n",
       "    </tr>\n",
       "    <tr>\n",
       "      <th>7311</th>\n",
       "      <td>999990</td>\n",
       "      <td>83</td>\n",
       "      <td>74</td>\n",
       "      <td>0</td>\n",
       "      <td>126</td>\n",
       "    </tr>\n",
       "  </tbody>\n",
       "</table>\n",
       "<p>6073 rows × 5 columns</p>\n",
       "</div>"
      ],
      "text/plain": [
       "     SubjectID fvc_percent      feature_delta     \n",
       "                     first last         first last\n",
       "1          329          98   93             0  274\n",
       "4          533          77   70             0   12\n",
       "6          649          97   33             0  557\n",
       "7          708          53   33             0  231\n",
       "8          902          90   87             0  154\n",
       "...        ...         ...  ...           ...  ...\n",
       "7307    999482          79   33             0  434\n",
       "7308    999823         103   94             0  184\n",
       "7309    999863          40   36             0  177\n",
       "7310    999880          53   49             0  266\n",
       "7311    999990          83   74             0  126\n",
       "\n",
       "[6073 rows x 5 columns]"
      ]
     },
     "execution_count": 5,
     "metadata": {},
     "output_type": "execute_result"
    }
   ],
   "source": [
    "# Remove rows with 'last feature_delta == first feature_delta'\n",
    "fvc_a = fvc_a[fvc_a[('feature_delta', 'last')]!= fvc_a[('feature_delta', 'first')]]\n",
    "fvc_a\n"
   ]
  },
  {
   "cell_type": "code",
   "execution_count": 6,
   "metadata": {
    "colab": {
     "base_uri": "https://localhost:8080/",
     "height": 476
    },
    "executionInfo": {
     "elapsed": 2028,
     "status": "ok",
     "timestamp": 1621171538622,
     "user": {
      "displayName": "오현지",
      "photoUrl": "",
      "userId": "16924038929183224420"
     },
     "user_tz": -540
    },
    "id": "dYR0nyZ7wPbb",
    "outputId": "50b6c374-1d88-4f3a-8fe1-c00bf6f06bab"
   },
   "outputs": [
    {
     "name": "stderr",
     "output_type": "stream",
     "text": [
      "C:\\Users\\hyji1\\anaconda3\\lib\\site-packages\\pandas\\core\\generic.py:3887: PerformanceWarning: dropping on a non-lexsorted multi-index without a level parameter may impact performance.\n",
      "  obj = obj._drop_axis(labels, axis, level=level, errors=errors)\n"
     ]
    },
    {
     "data": {
      "text/html": [
       "<div>\n",
       "<style scoped>\n",
       "    .dataframe tbody tr th:only-of-type {\n",
       "        vertical-align: middle;\n",
       "    }\n",
       "\n",
       "    .dataframe tbody tr th {\n",
       "        vertical-align: top;\n",
       "    }\n",
       "\n",
       "    .dataframe thead tr th {\n",
       "        text-align: left;\n",
       "    }\n",
       "</style>\n",
       "<table border=\"1\" class=\"dataframe\">\n",
       "  <thead>\n",
       "    <tr>\n",
       "      <th></th>\n",
       "      <th>SubjectID</th>\n",
       "      <th colspan=\"2\" halign=\"left\">fvc_percent</th>\n",
       "      <th colspan=\"2\" halign=\"left\">feature_delta</th>\n",
       "    </tr>\n",
       "    <tr>\n",
       "      <th></th>\n",
       "      <th></th>\n",
       "      <th>first</th>\n",
       "      <th>last</th>\n",
       "      <th>first</th>\n",
       "      <th>last</th>\n",
       "    </tr>\n",
       "  </thead>\n",
       "  <tbody>\n",
       "    <tr>\n",
       "      <th>0</th>\n",
       "      <td>5291</td>\n",
       "      <td>20</td>\n",
       "      <td>6</td>\n",
       "      <td>0</td>\n",
       "      <td>47</td>\n",
       "    </tr>\n",
       "    <tr>\n",
       "      <th>1</th>\n",
       "      <td>6673</td>\n",
       "      <td>21</td>\n",
       "      <td>0</td>\n",
       "      <td>1</td>\n",
       "      <td>73</td>\n",
       "    </tr>\n",
       "    <tr>\n",
       "      <th>2</th>\n",
       "      <td>12890</td>\n",
       "      <td>30</td>\n",
       "      <td>12</td>\n",
       "      <td>0</td>\n",
       "      <td>273</td>\n",
       "    </tr>\n",
       "    <tr>\n",
       "      <th>3</th>\n",
       "      <td>13147</td>\n",
       "      <td>26</td>\n",
       "      <td>13</td>\n",
       "      <td>0</td>\n",
       "      <td>97</td>\n",
       "    </tr>\n",
       "    <tr>\n",
       "      <th>4</th>\n",
       "      <td>16459</td>\n",
       "      <td>28</td>\n",
       "      <td>13</td>\n",
       "      <td>0</td>\n",
       "      <td>130</td>\n",
       "    </tr>\n",
       "    <tr>\n",
       "      <th>...</th>\n",
       "      <td>...</td>\n",
       "      <td>...</td>\n",
       "      <td>...</td>\n",
       "      <td>...</td>\n",
       "      <td>...</td>\n",
       "    </tr>\n",
       "    <tr>\n",
       "      <th>231</th>\n",
       "      <td>981656</td>\n",
       "      <td>15</td>\n",
       "      <td>42</td>\n",
       "      <td>0</td>\n",
       "      <td>180</td>\n",
       "    </tr>\n",
       "    <tr>\n",
       "      <th>232</th>\n",
       "      <td>983115</td>\n",
       "      <td>46</td>\n",
       "      <td>60</td>\n",
       "      <td>0</td>\n",
       "      <td>388</td>\n",
       "    </tr>\n",
       "    <tr>\n",
       "      <th>233</th>\n",
       "      <td>988844</td>\n",
       "      <td>40</td>\n",
       "      <td>25</td>\n",
       "      <td>0</td>\n",
       "      <td>85</td>\n",
       "    </tr>\n",
       "    <tr>\n",
       "      <th>234</th>\n",
       "      <td>991654</td>\n",
       "      <td>36</td>\n",
       "      <td>14</td>\n",
       "      <td>0</td>\n",
       "      <td>182</td>\n",
       "    </tr>\n",
       "    <tr>\n",
       "      <th>235</th>\n",
       "      <td>999863</td>\n",
       "      <td>40</td>\n",
       "      <td>36</td>\n",
       "      <td>0</td>\n",
       "      <td>177</td>\n",
       "    </tr>\n",
       "  </tbody>\n",
       "</table>\n",
       "<p>236 rows × 5 columns</p>\n",
       "</div>"
      ],
      "text/plain": [
       "    SubjectID fvc_percent      feature_delta     \n",
       "                    first last         first last\n",
       "0        5291          20    6             0   47\n",
       "1        6673          21    0             1   73\n",
       "2       12890          30   12             0  273\n",
       "3       13147          26   13             0   97\n",
       "4       16459          28   13             0  130\n",
       "..        ...         ...  ...           ...  ...\n",
       "231    981656          15   42             0  180\n",
       "232    983115          46   60             0  388\n",
       "233    988844          40   25             0   85\n",
       "234    991654          36   14             0  182\n",
       "235    999863          40   36             0  177\n",
       "\n",
       "[236 rows x 5 columns]"
      ]
     },
     "execution_count": 6,
     "metadata": {},
     "output_type": "execute_result"
    }
   ],
   "source": [
    "# Select rows with 'first fvc_percent < 50'\n",
    "fvc_a = fvc_a[fvc_a[('fvc_percent', 'first')]<50]\n",
    "fvc_a = fvc_a.reset_index().drop(columns='index')\n",
    "fvc_a"
   ]
  },
  {
   "cell_type": "code",
   "execution_count": 7,
   "metadata": {
    "executionInfo": {
     "elapsed": 2024,
     "status": "ok",
     "timestamp": 1621171538623,
     "user": {
      "displayName": "오현지",
      "photoUrl": "",
      "userId": "16924038929183224420"
     },
     "user_tz": -540
    },
    "id": "Z86tMyC7U-NE"
   },
   "outputs": [],
   "source": [
    "fvc_extent_to_remove = list(fvc_a['SubjectID'])"
   ]
  },
  {
   "cell_type": "markdown",
   "metadata": {
    "id": "b-cw3cOii-Qq"
   },
   "source": [
    "### 2. Subtracting [first ALSFRS-Q3 < 1]"
   ]
  },
  {
   "cell_type": "code",
   "execution_count": 8,
   "metadata": {
    "colab": {
     "base_uri": "https://localhost:8080/"
    },
    "executionInfo": {
     "elapsed": 2020,
     "status": "ok",
     "timestamp": 1621171538623,
     "user": {
      "displayName": "오현지",
      "photoUrl": "",
      "userId": "16924038929183224420"
     },
     "user_tz": -540
    },
    "id": "-U10Zdvyqsu7",
    "outputId": "3346f2d7-9031-4fda-fd7f-23d4650cf407"
   },
   "outputs": [
    {
     "data": {
      "text/plain": [
       "6510"
      ]
     },
     "execution_count": 8,
     "metadata": {},
     "output_type": "execute_result"
    }
   ],
   "source": [
    "len(alsfrs_orig['SubjectID'].unique())"
   ]
  },
  {
   "cell_type": "code",
   "execution_count": 9,
   "metadata": {
    "colab": {
     "base_uri": "https://localhost:8080/",
     "height": 440
    },
    "executionInfo": {
     "elapsed": 2014,
     "status": "ok",
     "timestamp": 1621171538623,
     "user": {
      "displayName": "오현지",
      "photoUrl": "",
      "userId": "16924038929183224420"
     },
     "user_tz": -540
    },
    "id": "or9nNLtoi77N",
    "outputId": "0543bf5d-f1cf-400d-baf6-c8aba5080e9e"
   },
   "outputs": [
    {
     "data": {
      "text/html": [
       "<div>\n",
       "<style scoped>\n",
       "    .dataframe tbody tr th:only-of-type {\n",
       "        vertical-align: middle;\n",
       "    }\n",
       "\n",
       "    .dataframe tbody tr th {\n",
       "        vertical-align: top;\n",
       "    }\n",
       "\n",
       "    .dataframe thead tr th {\n",
       "        text-align: left;\n",
       "    }\n",
       "</style>\n",
       "<table border=\"1\" class=\"dataframe\">\n",
       "  <thead>\n",
       "    <tr>\n",
       "      <th></th>\n",
       "      <th>SubjectID</th>\n",
       "      <th>Q3_Swallowing</th>\n",
       "      <th>feature_delta</th>\n",
       "    </tr>\n",
       "    <tr>\n",
       "      <th></th>\n",
       "      <th></th>\n",
       "      <th>first</th>\n",
       "      <th>first</th>\n",
       "    </tr>\n",
       "  </thead>\n",
       "  <tbody>\n",
       "    <tr>\n",
       "      <th>0</th>\n",
       "      <td>329</td>\n",
       "      <td>4.0</td>\n",
       "      <td>0</td>\n",
       "    </tr>\n",
       "    <tr>\n",
       "      <th>1</th>\n",
       "      <td>348</td>\n",
       "      <td>4.0</td>\n",
       "      <td>0</td>\n",
       "    </tr>\n",
       "    <tr>\n",
       "      <th>2</th>\n",
       "      <td>533</td>\n",
       "      <td>2.0</td>\n",
       "      <td>0</td>\n",
       "    </tr>\n",
       "    <tr>\n",
       "      <th>3</th>\n",
       "      <td>649</td>\n",
       "      <td>2.0</td>\n",
       "      <td>0</td>\n",
       "    </tr>\n",
       "    <tr>\n",
       "      <th>4</th>\n",
       "      <td>708</td>\n",
       "      <td>3.0</td>\n",
       "      <td>0</td>\n",
       "    </tr>\n",
       "    <tr>\n",
       "      <th>...</th>\n",
       "      <td>...</td>\n",
       "      <td>...</td>\n",
       "      <td>...</td>\n",
       "    </tr>\n",
       "    <tr>\n",
       "      <th>6405</th>\n",
       "      <td>999166</td>\n",
       "      <td>4.0</td>\n",
       "      <td>18</td>\n",
       "    </tr>\n",
       "    <tr>\n",
       "      <th>6406</th>\n",
       "      <td>999482</td>\n",
       "      <td>4.0</td>\n",
       "      <td>0</td>\n",
       "    </tr>\n",
       "    <tr>\n",
       "      <th>6407</th>\n",
       "      <td>999823</td>\n",
       "      <td>3.0</td>\n",
       "      <td>9</td>\n",
       "    </tr>\n",
       "    <tr>\n",
       "      <th>6408</th>\n",
       "      <td>999880</td>\n",
       "      <td>4.0</td>\n",
       "      <td>0</td>\n",
       "    </tr>\n",
       "    <tr>\n",
       "      <th>6409</th>\n",
       "      <td>999990</td>\n",
       "      <td>4.0</td>\n",
       "      <td>12</td>\n",
       "    </tr>\n",
       "  </tbody>\n",
       "</table>\n",
       "<p>6410 rows × 3 columns</p>\n",
       "</div>"
      ],
      "text/plain": [
       "     SubjectID Q3_Swallowing feature_delta\n",
       "                       first         first\n",
       "0          329           4.0             0\n",
       "1          348           4.0             0\n",
       "2          533           2.0             0\n",
       "3          649           2.0             0\n",
       "4          708           3.0             0\n",
       "...        ...           ...           ...\n",
       "6405    999166           4.0            18\n",
       "6406    999482           4.0             0\n",
       "6407    999823           3.0             9\n",
       "6408    999880           4.0             0\n",
       "6409    999990           4.0            12\n",
       "\n",
       "[6410 rows x 3 columns]"
      ]
     },
     "execution_count": 9,
     "metadata": {},
     "output_type": "execute_result"
    }
   ],
   "source": [
    "alsfrs_Sw = alsfrs_orig[['SubjectID', 'feature_delta', 'Q3_Swallowing']].reindex(columns=['SubjectID', 'Q3_Swallowing', 'feature_delta'])\n",
    "alsfrs_Sw_a = alsfrs_Sw.groupby('SubjectID').agg(['first'])\n",
    "alsfrs_Sw_b = alsfrs_Sw_a[alsfrs_Sw_a[('Q3_Swallowing','first')]>1].reset_index()\n",
    "alsfrs_Sw_b"
   ]
  },
  {
   "cell_type": "code",
   "execution_count": 10,
   "metadata": {
    "executionInfo": {
     "elapsed": 2009,
     "status": "ok",
     "timestamp": 1621171538623,
     "user": {
      "displayName": "오현지",
      "photoUrl": "",
      "userId": "16924038929183224420"
     },
     "user_tz": -540
    },
    "id": "17apojbgopYu"
   },
   "outputs": [],
   "source": [
    "alsfrs_filtered_extent = list(alsfrs_Sw_b['SubjectID'])"
   ]
  },
  {
   "cell_type": "markdown",
   "metadata": {
    "id": "nS2-DYpetPye"
   },
   "source": [
    "### 3. Calculating \"time to [ALSFRS-Q3 <= 1]\""
   ]
  },
  {
   "cell_type": "code",
   "execution_count": 11,
   "metadata": {
    "executionInfo": {
     "elapsed": 3059,
     "status": "ok",
     "timestamp": 1621171539676,
     "user": {
      "displayName": "오현지",
      "photoUrl": "",
      "userId": "16924038929183224420"
     },
     "user_tz": -540
    },
    "id": "ei_zAByTePqf"
   },
   "outputs": [],
   "source": [
    "# Subtract [FVC < 50] & [first ALSFRS-Bulbar <=1.0]\n",
    "alsfrs_Sw.query(\"SubjectID == {0}\".format(alsfrs_filtered_extent), inplace=True)\n",
    "alsfrs_Sw = alsfrs_Sw[~alsfrs_Sw['SubjectID'].isin(fvc_extent_to_remove)]"
   ]
  },
  {
   "cell_type": "code",
   "execution_count": 12,
   "metadata": {
    "colab": {
     "base_uri": "https://localhost:8080/",
     "height": 440
    },
    "executionInfo": {
     "elapsed": 3054,
     "status": "ok",
     "timestamp": 1621171539677,
     "user": {
      "displayName": "오현지",
      "photoUrl": "",
      "userId": "16924038929183224420"
     },
     "user_tz": -540
    },
    "id": "i4hhwf4JqyCu",
    "outputId": "7600b9b4-0d93-49ae-906a-6fea13734211"
   },
   "outputs": [
    {
     "data": {
      "text/html": [
       "<div>\n",
       "<style scoped>\n",
       "    .dataframe tbody tr th:only-of-type {\n",
       "        vertical-align: middle;\n",
       "    }\n",
       "\n",
       "    .dataframe tbody tr th {\n",
       "        vertical-align: top;\n",
       "    }\n",
       "\n",
       "    .dataframe thead tr th {\n",
       "        text-align: left;\n",
       "    }\n",
       "</style>\n",
       "<table border=\"1\" class=\"dataframe\">\n",
       "  <thead>\n",
       "    <tr>\n",
       "      <th></th>\n",
       "      <th>SubjectID</th>\n",
       "      <th>Q3_Swallowing</th>\n",
       "      <th>feature_delta</th>\n",
       "    </tr>\n",
       "    <tr>\n",
       "      <th></th>\n",
       "      <th></th>\n",
       "      <th>first</th>\n",
       "      <th>first</th>\n",
       "    </tr>\n",
       "  </thead>\n",
       "  <tbody>\n",
       "    <tr>\n",
       "      <th>0</th>\n",
       "      <td>533</td>\n",
       "      <td>1.0</td>\n",
       "      <td>287</td>\n",
       "    </tr>\n",
       "    <tr>\n",
       "      <th>1</th>\n",
       "      <td>649</td>\n",
       "      <td>1.0</td>\n",
       "      <td>425</td>\n",
       "    </tr>\n",
       "    <tr>\n",
       "      <th>2</th>\n",
       "      <td>1234</td>\n",
       "      <td>1.0</td>\n",
       "      <td>245</td>\n",
       "    </tr>\n",
       "    <tr>\n",
       "      <th>3</th>\n",
       "      <td>1736</td>\n",
       "      <td>1.0</td>\n",
       "      <td>244</td>\n",
       "    </tr>\n",
       "    <tr>\n",
       "      <th>4</th>\n",
       "      <td>3551</td>\n",
       "      <td>1.0</td>\n",
       "      <td>501</td>\n",
       "    </tr>\n",
       "    <tr>\n",
       "      <th>...</th>\n",
       "      <td>...</td>\n",
       "      <td>...</td>\n",
       "      <td>...</td>\n",
       "    </tr>\n",
       "    <tr>\n",
       "      <th>1155</th>\n",
       "      <td>995893</td>\n",
       "      <td>1.0</td>\n",
       "      <td>149</td>\n",
       "    </tr>\n",
       "    <tr>\n",
       "      <th>1156</th>\n",
       "      <td>996401</td>\n",
       "      <td>1.0</td>\n",
       "      <td>420</td>\n",
       "    </tr>\n",
       "    <tr>\n",
       "      <th>1157</th>\n",
       "      <td>996711</td>\n",
       "      <td>0.0</td>\n",
       "      <td>379</td>\n",
       "    </tr>\n",
       "    <tr>\n",
       "      <th>1158</th>\n",
       "      <td>998047</td>\n",
       "      <td>1.0</td>\n",
       "      <td>551</td>\n",
       "    </tr>\n",
       "    <tr>\n",
       "      <th>1159</th>\n",
       "      <td>998894</td>\n",
       "      <td>0.0</td>\n",
       "      <td>365</td>\n",
       "    </tr>\n",
       "  </tbody>\n",
       "</table>\n",
       "<p>1160 rows × 3 columns</p>\n",
       "</div>"
      ],
      "text/plain": [
       "     SubjectID Q3_Swallowing feature_delta\n",
       "                       first         first\n",
       "0          533           1.0           287\n",
       "1          649           1.0           425\n",
       "2         1234           1.0           245\n",
       "3         1736           1.0           244\n",
       "4         3551           1.0           501\n",
       "...        ...           ...           ...\n",
       "1155    995893           1.0           149\n",
       "1156    996401           1.0           420\n",
       "1157    996711           0.0           379\n",
       "1158    998047           1.0           551\n",
       "1159    998894           0.0           365\n",
       "\n",
       "[1160 rows x 3 columns]"
      ]
     },
     "execution_count": 12,
     "metadata": {},
     "output_type": "execute_result"
    }
   ],
   "source": [
    "# Find the first time of [ALSFRS-Bulbar <=1.0]\n",
    "Optimal_event = alsfrs_Sw[alsfrs_Sw['Q3_Swallowing']<=1].groupby('SubjectID').agg(['first']).reset_index()\n",
    "Optimal_event"
   ]
  },
  {
   "cell_type": "code",
   "execution_count": 13,
   "metadata": {
    "colab": {
     "base_uri": "https://localhost:8080/"
    },
    "executionInfo": {
     "elapsed": 3047,
     "status": "ok",
     "timestamp": 1621171539677,
     "user": {
      "displayName": "오현지",
      "photoUrl": "",
      "userId": "16924038929183224420"
     },
     "user_tz": -540
    },
    "id": "qfjnTcCzqyRt",
    "outputId": "02c099fd-9ac9-4e00-9947-c802fe208449"
   },
   "outputs": [
    {
     "name": "stdout",
     "output_type": "stream",
     "text": [
      "There are 1160 subjects whose status_opt = 1\n"
     ]
    }
   ],
   "source": [
    "# Coding [ALSFRS-Q3<=1] event as '1'\n",
    "Optimal_event_1 = Optimal_event.iloc[:, [0,-1]]\n",
    "Optimal_event_1.columns = ['SubjectID', 'time_opt']\n",
    "\n",
    "Optimal_event_1_sublist = list(Optimal_event['SubjectID'])\n",
    "\n",
    "Optimal_event_1['status_opt'] = 1\n",
    "print(\"There are\",len(Optimal_event_1['SubjectID'].unique()), \"subjects whose status_opt = 1\")"
   ]
  },
  {
   "cell_type": "code",
   "execution_count": 14,
   "metadata": {
    "colab": {
     "base_uri": "https://localhost:8080/"
    },
    "executionInfo": {
     "elapsed": 3042,
     "status": "ok",
     "timestamp": 1621171539678,
     "user": {
      "displayName": "오현지",
      "photoUrl": "",
      "userId": "16924038929183224420"
     },
     "user_tz": -540
    },
    "id": "FlHUWILuvka3",
    "outputId": "b48fed68-ebff-4871-8f71-174df025f32f"
   },
   "outputs": [
    {
     "name": "stdout",
     "output_type": "stream",
     "text": [
      "There are 5086 subjects whose status_opt = 0\n"
     ]
    }
   ],
   "source": [
    "# Otherwise '0'\n",
    "Optimal_event_0 = alsfrs_Sw[~alsfrs_Sw['SubjectID'].isin(Optimal_event_1_sublist)]\n",
    "Optimal_event_0 = Optimal_event_0.groupby('SubjectID').agg(['last']).reset_index().drop(columns=('Q3_Swallowing', 'last'))\n",
    "Optimal_event_0.columns = ['SubjectID', 'time_opt']\n",
    "Optimal_event_0['status_opt'] = 0\n",
    "print(\"There are\",len(Optimal_event_0['SubjectID'].unique()), \"subjects whose status_opt = 0\")"
   ]
  },
  {
   "cell_type": "code",
   "execution_count": 15,
   "metadata": {
    "colab": {
     "base_uri": "https://localhost:8080/",
     "height": 410
    },
    "executionInfo": {
     "elapsed": 3036,
     "status": "ok",
     "timestamp": 1621171539678,
     "user": {
      "displayName": "오현지",
      "photoUrl": "",
      "userId": "16924038929183224420"
     },
     "user_tz": -540
    },
    "id": "Ti9t8AALE0Sd",
    "outputId": "94b898cd-38aa-4fac-f386-ff15520aada1"
   },
   "outputs": [],
   "source": [
    "alsfrs_Sw_coded = pd.concat([Optimal_event_1, Optimal_event_0]).sort_values(by='SubjectID', axis=0)\n",
    "alsfrs_Sw_coded = alsfrs_Sw_coded.reset_index()\n",
    "alsfrs_Sw_coded.drop(columns='index', inplace=True)"
   ]
  },
  {
   "cell_type": "code",
   "execution_count": 16,
   "metadata": {
    "executionInfo": {
     "elapsed": 3031,
     "status": "ok",
     "timestamp": 1621171539678,
     "user": {
      "displayName": "오현지",
      "photoUrl": "",
      "userId": "16924038929183224420"
     },
     "user_tz": -540
    },
    "id": "oS1jgDsqnUpC"
   },
   "outputs": [],
   "source": [
    "Optimal_Gas = alsfrs_Sw_coded.copy()\n",
    "sub_list = list(Optimal_Gas['SubjectID'])"
   ]
  },
  {
   "cell_type": "code",
   "execution_count": 17,
   "metadata": {},
   "outputs": [],
   "source": [
    "X_imputed = pd.read_csv('imputed features_final.csv')\n",
    "sub_list_0 = list(X_imputed['SubjectID'])"
   ]
  },
  {
   "cell_type": "code",
   "execution_count": 18,
   "metadata": {},
   "outputs": [
    {
     "data": {
      "text/html": [
       "<div>\n",
       "<style scoped>\n",
       "    .dataframe tbody tr th:only-of-type {\n",
       "        vertical-align: middle;\n",
       "    }\n",
       "\n",
       "    .dataframe tbody tr th {\n",
       "        vertical-align: top;\n",
       "    }\n",
       "\n",
       "    .dataframe thead th {\n",
       "        text-align: right;\n",
       "    }\n",
       "</style>\n",
       "<table border=\"1\" class=\"dataframe\">\n",
       "  <thead>\n",
       "    <tr style=\"text-align: right;\">\n",
       "      <th></th>\n",
       "      <th>SubjectID</th>\n",
       "      <th>time_opt</th>\n",
       "      <th>status_opt</th>\n",
       "    </tr>\n",
       "  </thead>\n",
       "  <tbody>\n",
       "    <tr>\n",
       "      <th>0</th>\n",
       "      <td>329</td>\n",
       "      <td>274</td>\n",
       "      <td>0</td>\n",
       "    </tr>\n",
       "    <tr>\n",
       "      <th>1</th>\n",
       "      <td>348</td>\n",
       "      <td>401</td>\n",
       "      <td>0</td>\n",
       "    </tr>\n",
       "    <tr>\n",
       "      <th>2</th>\n",
       "      <td>533</td>\n",
       "      <td>287</td>\n",
       "      <td>1</td>\n",
       "    </tr>\n",
       "    <tr>\n",
       "      <th>4</th>\n",
       "      <td>708</td>\n",
       "      <td>231</td>\n",
       "      <td>0</td>\n",
       "    </tr>\n",
       "    <tr>\n",
       "      <th>5</th>\n",
       "      <td>902</td>\n",
       "      <td>154</td>\n",
       "      <td>0</td>\n",
       "    </tr>\n",
       "    <tr>\n",
       "      <th>...</th>\n",
       "      <td>...</td>\n",
       "      <td>...</td>\n",
       "      <td>...</td>\n",
       "    </tr>\n",
       "    <tr>\n",
       "      <th>6234</th>\n",
       "      <td>998519</td>\n",
       "      <td>280</td>\n",
       "      <td>0</td>\n",
       "    </tr>\n",
       "    <tr>\n",
       "      <th>6241</th>\n",
       "      <td>999166</td>\n",
       "      <td>390</td>\n",
       "      <td>0</td>\n",
       "    </tr>\n",
       "    <tr>\n",
       "      <th>6243</th>\n",
       "      <td>999823</td>\n",
       "      <td>184</td>\n",
       "      <td>0</td>\n",
       "    </tr>\n",
       "    <tr>\n",
       "      <th>6244</th>\n",
       "      <td>999880</td>\n",
       "      <td>266</td>\n",
       "      <td>0</td>\n",
       "    </tr>\n",
       "    <tr>\n",
       "      <th>6245</th>\n",
       "      <td>999990</td>\n",
       "      <td>126</td>\n",
       "      <td>0</td>\n",
       "    </tr>\n",
       "  </tbody>\n",
       "</table>\n",
       "<p>3392 rows × 3 columns</p>\n",
       "</div>"
      ],
      "text/plain": [
       "      SubjectID  time_opt  status_opt\n",
       "0           329       274           0\n",
       "1           348       401           0\n",
       "2           533       287           1\n",
       "4           708       231           0\n",
       "5           902       154           0\n",
       "...         ...       ...         ...\n",
       "6234     998519       280           0\n",
       "6241     999166       390           0\n",
       "6243     999823       184           0\n",
       "6244     999880       266           0\n",
       "6245     999990       126           0\n",
       "\n",
       "[3392 rows x 3 columns]"
      ]
     },
     "execution_count": 18,
     "metadata": {},
     "output_type": "execute_result"
    }
   ],
   "source": [
    "Optimal_Gas = Optimal_Gas[Optimal_Gas['time_opt']!=0]\n",
    "Optimal_Gas.query(\"SubjectID == {0}\".format(sub_list_0), inplace=True)\n",
    "Optimal_Gas = Optimal_Gas[Optimal_Gas['time_opt']>92]\n",
    "Optimal_Gas"
   ]
  },
  {
   "cell_type": "code",
   "execution_count": 19,
   "metadata": {},
   "outputs": [],
   "source": [
    "Optimal_Gas.to_csv('Optimal target.csv')"
   ]
  },
  {
   "cell_type": "markdown",
   "metadata": {},
   "source": [
    "### Creating Real gastrostomy Target object"
   ]
  },
  {
   "cell_type": "code",
   "execution_count": 49,
   "metadata": {
    "id": "I73CeXS2CauA"
   },
   "outputs": [],
   "source": [
    "alsfrs_orig = pd.read_csv('ALSFRS_original.csv') "
   ]
  },
  {
   "cell_type": "code",
   "execution_count": 50,
   "metadata": {
    "colab": {
     "base_uri": "https://localhost:8080/",
     "height": 402
    },
    "id": "bV38AmfACqM9",
    "outputId": "0d3828ce-44e3-48e8-96f6-ab86c37b110b"
   },
   "outputs": [
    {
     "data": {
      "text/html": [
       "<div>\n",
       "<style scoped>\n",
       "    .dataframe tbody tr th:only-of-type {\n",
       "        vertical-align: middle;\n",
       "    }\n",
       "\n",
       "    .dataframe tbody tr th {\n",
       "        vertical-align: top;\n",
       "    }\n",
       "\n",
       "    .dataframe thead th {\n",
       "        text-align: right;\n",
       "    }\n",
       "</style>\n",
       "<table border=\"1\" class=\"dataframe\">\n",
       "  <thead>\n",
       "    <tr style=\"text-align: right;\">\n",
       "      <th></th>\n",
       "      <th>SubjectID</th>\n",
       "      <th>Q5b_Cutting_with_Gastrostomy</th>\n",
       "      <th>feature_delta</th>\n",
       "    </tr>\n",
       "  </thead>\n",
       "  <tbody>\n",
       "    <tr>\n",
       "      <th>0</th>\n",
       "      <td>329</td>\n",
       "      <td>NaN</td>\n",
       "      <td>0</td>\n",
       "    </tr>\n",
       "    <tr>\n",
       "      <th>1</th>\n",
       "      <td>329</td>\n",
       "      <td>NaN</td>\n",
       "      <td>8</td>\n",
       "    </tr>\n",
       "    <tr>\n",
       "      <th>2</th>\n",
       "      <td>329</td>\n",
       "      <td>NaN</td>\n",
       "      <td>16</td>\n",
       "    </tr>\n",
       "    <tr>\n",
       "      <th>3</th>\n",
       "      <td>329</td>\n",
       "      <td>NaN</td>\n",
       "      <td>42</td>\n",
       "    </tr>\n",
       "    <tr>\n",
       "      <th>4</th>\n",
       "      <td>329</td>\n",
       "      <td>NaN</td>\n",
       "      <td>72</td>\n",
       "    </tr>\n",
       "    <tr>\n",
       "      <th>...</th>\n",
       "      <td>...</td>\n",
       "      <td>...</td>\n",
       "      <td>...</td>\n",
       "    </tr>\n",
       "    <tr>\n",
       "      <th>59255</th>\n",
       "      <td>999990</td>\n",
       "      <td>NaN</td>\n",
       "      <td>12</td>\n",
       "    </tr>\n",
       "    <tr>\n",
       "      <th>59256</th>\n",
       "      <td>999990</td>\n",
       "      <td>NaN</td>\n",
       "      <td>40</td>\n",
       "    </tr>\n",
       "    <tr>\n",
       "      <th>59257</th>\n",
       "      <td>999990</td>\n",
       "      <td>NaN</td>\n",
       "      <td>68</td>\n",
       "    </tr>\n",
       "    <tr>\n",
       "      <th>59258</th>\n",
       "      <td>999990</td>\n",
       "      <td>NaN</td>\n",
       "      <td>97</td>\n",
       "    </tr>\n",
       "    <tr>\n",
       "      <th>59259</th>\n",
       "      <td>999990</td>\n",
       "      <td>NaN</td>\n",
       "      <td>126</td>\n",
       "    </tr>\n",
       "  </tbody>\n",
       "</table>\n",
       "<p>59260 rows × 3 columns</p>\n",
       "</div>"
      ],
      "text/plain": [
       "       SubjectID  Q5b_Cutting_with_Gastrostomy  feature_delta\n",
       "0            329                           NaN              0\n",
       "1            329                           NaN              8\n",
       "2            329                           NaN             16\n",
       "3            329                           NaN             42\n",
       "4            329                           NaN             72\n",
       "...          ...                           ...            ...\n",
       "59255     999990                           NaN             12\n",
       "59256     999990                           NaN             40\n",
       "59257     999990                           NaN             68\n",
       "59258     999990                           NaN             97\n",
       "59259     999990                           NaN            126\n",
       "\n",
       "[59260 rows x 3 columns]"
      ]
     },
     "execution_count": 50,
     "metadata": {},
     "output_type": "execute_result"
    }
   ],
   "source": [
    "gastro = alsfrs_orig[['SubjectID', 'Q5b_Cutting_with_Gastrostomy', 'feature_delta']].sort_values(by=['SubjectID', 'feature_delta'], axis=0).reset_index().drop(columns='index')\n",
    "gastro"
   ]
  },
  {
   "cell_type": "code",
   "execution_count": 51,
   "metadata": {
    "colab": {
     "base_uri": "https://localhost:8080/",
     "height": 431
    },
    "id": "YnI5dZvND2TA",
    "outputId": "5be46c42-c67f-4cb3-b4ad-743f139a718b"
   },
   "outputs": [
    {
     "data": {
      "text/html": [
       "<div>\n",
       "<style scoped>\n",
       "    .dataframe tbody tr th:only-of-type {\n",
       "        vertical-align: middle;\n",
       "    }\n",
       "\n",
       "    .dataframe tbody tr th {\n",
       "        vertical-align: top;\n",
       "    }\n",
       "\n",
       "    .dataframe thead tr th {\n",
       "        text-align: left;\n",
       "    }\n",
       "</style>\n",
       "<table border=\"1\" class=\"dataframe\">\n",
       "  <thead>\n",
       "    <tr>\n",
       "      <th></th>\n",
       "      <th>SubjectID</th>\n",
       "      <th>Q5b_Cutting_with_Gastrostomy</th>\n",
       "      <th>feature_delta</th>\n",
       "    </tr>\n",
       "    <tr>\n",
       "      <th></th>\n",
       "      <th></th>\n",
       "      <th>checking_censored</th>\n",
       "      <th>last</th>\n",
       "    </tr>\n",
       "  </thead>\n",
       "  <tbody>\n",
       "    <tr>\n",
       "      <th>0</th>\n",
       "      <td>329</td>\n",
       "      <td>Right censored</td>\n",
       "      <td>274</td>\n",
       "    </tr>\n",
       "    <tr>\n",
       "      <th>1</th>\n",
       "      <td>348</td>\n",
       "      <td>Right censored</td>\n",
       "      <td>401</td>\n",
       "    </tr>\n",
       "    <tr>\n",
       "      <th>2</th>\n",
       "      <td>533</td>\n",
       "      <td>Normal</td>\n",
       "      <td>378</td>\n",
       "    </tr>\n",
       "    <tr>\n",
       "      <th>3</th>\n",
       "      <td>586</td>\n",
       "      <td>Right censored</td>\n",
       "      <td>3</td>\n",
       "    </tr>\n",
       "    <tr>\n",
       "      <th>4</th>\n",
       "      <td>649</td>\n",
       "      <td>Normal</td>\n",
       "      <td>557</td>\n",
       "    </tr>\n",
       "    <tr>\n",
       "      <th>...</th>\n",
       "      <td>...</td>\n",
       "      <td>...</td>\n",
       "      <td>...</td>\n",
       "    </tr>\n",
       "    <tr>\n",
       "      <th>6505</th>\n",
       "      <td>999166</td>\n",
       "      <td>Right censored</td>\n",
       "      <td>390</td>\n",
       "    </tr>\n",
       "    <tr>\n",
       "      <th>6506</th>\n",
       "      <td>999482</td>\n",
       "      <td>Right censored</td>\n",
       "      <td>434</td>\n",
       "    </tr>\n",
       "    <tr>\n",
       "      <th>6507</th>\n",
       "      <td>999823</td>\n",
       "      <td>Left censored</td>\n",
       "      <td>184</td>\n",
       "    </tr>\n",
       "    <tr>\n",
       "      <th>6508</th>\n",
       "      <td>999880</td>\n",
       "      <td>Right censored</td>\n",
       "      <td>266</td>\n",
       "    </tr>\n",
       "    <tr>\n",
       "      <th>6509</th>\n",
       "      <td>999990</td>\n",
       "      <td>Right censored</td>\n",
       "      <td>126</td>\n",
       "    </tr>\n",
       "  </tbody>\n",
       "</table>\n",
       "<p>6510 rows × 3 columns</p>\n",
       "</div>"
      ],
      "text/plain": [
       "     SubjectID Q5b_Cutting_with_Gastrostomy feature_delta\n",
       "                          checking_censored          last\n",
       "0          329               Right censored           274\n",
       "1          348               Right censored           401\n",
       "2          533                       Normal           378\n",
       "3          586               Right censored             3\n",
       "4          649                       Normal           557\n",
       "...        ...                          ...           ...\n",
       "6505    999166               Right censored           390\n",
       "6506    999482               Right censored           434\n",
       "6507    999823                Left censored           184\n",
       "6508    999880               Right censored           266\n",
       "6509    999990               Right censored           126\n",
       "\n",
       "[6510 rows x 3 columns]"
      ]
     },
     "execution_count": 51,
     "metadata": {},
     "output_type": "execute_result"
    }
   ],
   "source": [
    "def checking_censored(x):\n",
    "  \n",
    "  if x.isnull().sum() == 0:\n",
    "    return \"Left censored\"\n",
    "  elif x.notnull().sum() == 0:\n",
    "    return \"Right censored\"\n",
    "  else:\n",
    "    return \"Normal\"\n",
    "\n",
    "aggs_by_col = {'Q5b_Cutting_with_Gastrostomy': [checking_censored], 'feature_delta': ['last']}\n",
    "gastro_a = gastro.groupby('SubjectID', as_index=False).agg(aggs_by_col)\n",
    "gastro_a"
   ]
  },
  {
   "cell_type": "code",
   "execution_count": 52,
   "metadata": {
    "colab": {
     "base_uri": "https://localhost:8080/"
    },
    "id": "sA0IW0BcO6C0",
    "outputId": "c5a3cc4a-d403-4d1b-d325-c299d51973ab"
   },
   "outputs": [
    {
     "name": "stdout",
     "output_type": "stream",
     "text": [
      "Total number is 5797\n",
      "There are 4609 right censored data\n",
      "There are 1188 normal data\n"
     ]
    }
   ],
   "source": [
    "#Subtract Left censored data\n",
    "\n",
    "gastro_a.columns = ['SubjectID', 'checking_censored', 'last_feature_delta']\n",
    "gastro_a = gastro_a[gastro_a['checking_censored'] != 'Left censored']\n",
    "full_extent = list(gastro_a['SubjectID'])\n",
    "Right_censored_extent = list(gastro_a[gastro_a['checking_censored'] == 'Right censored']['SubjectID'])\n",
    "Normal_extent = list(gastro_a[gastro_a['checking_censored'] == 'Normal']['SubjectID'])\n",
    "\n",
    "print(\"Total number is \" + str(len(full_extent)))\n",
    "print(\"There are \" + str(len(Right_censored_extent)) + \" right censored data\")\n",
    "print(\"There are \" + str(len(Normal_extent)) + \" normal data\")\n"
   ]
  },
  {
   "cell_type": "code",
   "execution_count": 53,
   "metadata": {
    "colab": {
     "base_uri": "https://localhost:8080/",
     "height": 402
    },
    "id": "jyoaBixsSMPm",
    "outputId": "2492642b-3cf6-4377-e271-342282b8426a"
   },
   "outputs": [
    {
     "data": {
      "text/html": [
       "<div>\n",
       "<style scoped>\n",
       "    .dataframe tbody tr th:only-of-type {\n",
       "        vertical-align: middle;\n",
       "    }\n",
       "\n",
       "    .dataframe tbody tr th {\n",
       "        vertical-align: top;\n",
       "    }\n",
       "\n",
       "    .dataframe thead th {\n",
       "        text-align: right;\n",
       "    }\n",
       "</style>\n",
       "<table border=\"1\" class=\"dataframe\">\n",
       "  <thead>\n",
       "    <tr style=\"text-align: right;\">\n",
       "      <th></th>\n",
       "      <th>SubjectID</th>\n",
       "      <th>status</th>\n",
       "      <th>time</th>\n",
       "    </tr>\n",
       "  </thead>\n",
       "  <tbody>\n",
       "    <tr>\n",
       "      <th>0</th>\n",
       "      <td>329</td>\n",
       "      <td>0</td>\n",
       "      <td>274</td>\n",
       "    </tr>\n",
       "    <tr>\n",
       "      <th>1</th>\n",
       "      <td>348</td>\n",
       "      <td>0</td>\n",
       "      <td>401</td>\n",
       "    </tr>\n",
       "    <tr>\n",
       "      <th>3</th>\n",
       "      <td>586</td>\n",
       "      <td>0</td>\n",
       "      <td>3</td>\n",
       "    </tr>\n",
       "    <tr>\n",
       "      <th>5</th>\n",
       "      <td>708</td>\n",
       "      <td>0</td>\n",
       "      <td>231</td>\n",
       "    </tr>\n",
       "    <tr>\n",
       "      <th>11</th>\n",
       "      <td>2416</td>\n",
       "      <td>0</td>\n",
       "      <td>2</td>\n",
       "    </tr>\n",
       "    <tr>\n",
       "      <th>...</th>\n",
       "      <td>...</td>\n",
       "      <td>...</td>\n",
       "      <td>...</td>\n",
       "    </tr>\n",
       "    <tr>\n",
       "      <th>6504</th>\n",
       "      <td>998908</td>\n",
       "      <td>0</td>\n",
       "      <td>560</td>\n",
       "    </tr>\n",
       "    <tr>\n",
       "      <th>6505</th>\n",
       "      <td>999166</td>\n",
       "      <td>0</td>\n",
       "      <td>390</td>\n",
       "    </tr>\n",
       "    <tr>\n",
       "      <th>6506</th>\n",
       "      <td>999482</td>\n",
       "      <td>0</td>\n",
       "      <td>434</td>\n",
       "    </tr>\n",
       "    <tr>\n",
       "      <th>6508</th>\n",
       "      <td>999880</td>\n",
       "      <td>0</td>\n",
       "      <td>266</td>\n",
       "    </tr>\n",
       "    <tr>\n",
       "      <th>6509</th>\n",
       "      <td>999990</td>\n",
       "      <td>0</td>\n",
       "      <td>126</td>\n",
       "    </tr>\n",
       "  </tbody>\n",
       "</table>\n",
       "<p>4609 rows × 3 columns</p>\n",
       "</div>"
      ],
      "text/plain": [
       "      SubjectID  status  time\n",
       "0           329       0   274\n",
       "1           348       0   401\n",
       "3           586       0     3\n",
       "5           708       0   231\n",
       "11         2416       0     2\n",
       "...         ...     ...   ...\n",
       "6504     998908       0   560\n",
       "6505     999166       0   390\n",
       "6506     999482       0   434\n",
       "6508     999880       0   266\n",
       "6509     999990       0   126\n",
       "\n",
       "[4609 rows x 3 columns]"
      ]
     },
     "execution_count": 53,
     "metadata": {},
     "output_type": "execute_result"
    }
   ],
   "source": [
    "# Create gastro_event_0\n",
    "\n",
    "gastro_event_0 = gastro_a[gastro_a['checking_censored'] == 'Right censored']\n",
    "gastro_event_0 = gastro_event_0.replace({'checking_censored':{'Right censored': 0}})\n",
    "gastro_event_0.columns = ['SubjectID', 'status', 'time']\n",
    "gastro_event_0"
   ]
  },
  {
   "cell_type": "code",
   "execution_count": 54,
   "metadata": {
    "colab": {
     "base_uri": "https://localhost:8080/",
     "height": 402
    },
    "id": "Zy9J8GI1XAlw",
    "outputId": "4ee2b50f-ba1a-401c-fe89-c43746194677"
   },
   "outputs": [
    {
     "data": {
      "text/html": [
       "<div>\n",
       "<style scoped>\n",
       "    .dataframe tbody tr th:only-of-type {\n",
       "        vertical-align: middle;\n",
       "    }\n",
       "\n",
       "    .dataframe tbody tr th {\n",
       "        vertical-align: top;\n",
       "    }\n",
       "\n",
       "    .dataframe thead th {\n",
       "        text-align: right;\n",
       "    }\n",
       "</style>\n",
       "<table border=\"1\" class=\"dataframe\">\n",
       "  <thead>\n",
       "    <tr style=\"text-align: right;\">\n",
       "      <th></th>\n",
       "      <th>SubjectID</th>\n",
       "      <th>time</th>\n",
       "      <th>status</th>\n",
       "    </tr>\n",
       "  </thead>\n",
       "  <tbody>\n",
       "    <tr>\n",
       "      <th>0</th>\n",
       "      <td>533</td>\n",
       "      <td>287</td>\n",
       "      <td>1</td>\n",
       "    </tr>\n",
       "    <tr>\n",
       "      <th>1</th>\n",
       "      <td>649</td>\n",
       "      <td>487</td>\n",
       "      <td>1</td>\n",
       "    </tr>\n",
       "    <tr>\n",
       "      <th>2</th>\n",
       "      <td>1064</td>\n",
       "      <td>0</td>\n",
       "      <td>1</td>\n",
       "    </tr>\n",
       "    <tr>\n",
       "      <th>3</th>\n",
       "      <td>1234</td>\n",
       "      <td>245</td>\n",
       "      <td>1</td>\n",
       "    </tr>\n",
       "    <tr>\n",
       "      <th>4</th>\n",
       "      <td>1736</td>\n",
       "      <td>0</td>\n",
       "      <td>1</td>\n",
       "    </tr>\n",
       "    <tr>\n",
       "      <th>...</th>\n",
       "      <td>...</td>\n",
       "      <td>...</td>\n",
       "      <td>...</td>\n",
       "    </tr>\n",
       "    <tr>\n",
       "      <th>1183</th>\n",
       "      <td>995893</td>\n",
       "      <td>175</td>\n",
       "      <td>1</td>\n",
       "    </tr>\n",
       "    <tr>\n",
       "      <th>1184</th>\n",
       "      <td>996401</td>\n",
       "      <td>420</td>\n",
       "      <td>1</td>\n",
       "    </tr>\n",
       "    <tr>\n",
       "      <th>1185</th>\n",
       "      <td>996711</td>\n",
       "      <td>379</td>\n",
       "      <td>1</td>\n",
       "    </tr>\n",
       "    <tr>\n",
       "      <th>1186</th>\n",
       "      <td>998047</td>\n",
       "      <td>551</td>\n",
       "      <td>1</td>\n",
       "    </tr>\n",
       "    <tr>\n",
       "      <th>1187</th>\n",
       "      <td>998894</td>\n",
       "      <td>365</td>\n",
       "      <td>1</td>\n",
       "    </tr>\n",
       "  </tbody>\n",
       "</table>\n",
       "<p>1188 rows × 3 columns</p>\n",
       "</div>"
      ],
      "text/plain": [
       "      SubjectID  time  status\n",
       "0           533   287       1\n",
       "1           649   487       1\n",
       "2          1064     0       1\n",
       "3          1234   245       1\n",
       "4          1736     0       1\n",
       "...         ...   ...     ...\n",
       "1183     995893   175       1\n",
       "1184     996401   420       1\n",
       "1185     996711   379       1\n",
       "1186     998047   551       1\n",
       "1187     998894   365       1\n",
       "\n",
       "[1188 rows x 3 columns]"
      ]
     },
     "execution_count": 54,
     "metadata": {},
     "output_type": "execute_result"
    }
   ],
   "source": [
    "gastro_b = gastro.copy()\n",
    "gastro_b.query(\"SubjectID == {0}\".format(Normal_extent), inplace=True)\n",
    "gastro_b = gastro_b.dropna(axis=0)\n",
    "gastro_event_1 = pd.DataFrame(gastro_b.groupby('SubjectID')['feature_delta'].agg('first')).reset_index()\n",
    "gastro_event_1.columns = ['SubjectID', 'time']\n",
    "gastro_event_1['status'] = 1\n",
    "gastro_event_1"
   ]
  },
  {
   "cell_type": "code",
   "execution_count": 55,
   "metadata": {
    "colab": {
     "base_uri": "https://localhost:8080/",
     "height": 402
    },
    "id": "_gDCaD8TbUaK",
    "outputId": "3b32285f-a9c3-4d94-b2d4-14907e8b1f68"
   },
   "outputs": [
    {
     "data": {
      "text/html": [
       "<div>\n",
       "<style scoped>\n",
       "    .dataframe tbody tr th:only-of-type {\n",
       "        vertical-align: middle;\n",
       "    }\n",
       "\n",
       "    .dataframe tbody tr th {\n",
       "        vertical-align: top;\n",
       "    }\n",
       "\n",
       "    .dataframe thead th {\n",
       "        text-align: right;\n",
       "    }\n",
       "</style>\n",
       "<table border=\"1\" class=\"dataframe\">\n",
       "  <thead>\n",
       "    <tr style=\"text-align: right;\">\n",
       "      <th></th>\n",
       "      <th>SubjectID</th>\n",
       "      <th>time</th>\n",
       "      <th>status</th>\n",
       "    </tr>\n",
       "  </thead>\n",
       "  <tbody>\n",
       "    <tr>\n",
       "      <th>0</th>\n",
       "      <td>533</td>\n",
       "      <td>287</td>\n",
       "      <td>1</td>\n",
       "    </tr>\n",
       "    <tr>\n",
       "      <th>1</th>\n",
       "      <td>649</td>\n",
       "      <td>487</td>\n",
       "      <td>1</td>\n",
       "    </tr>\n",
       "    <tr>\n",
       "      <th>3</th>\n",
       "      <td>1234</td>\n",
       "      <td>245</td>\n",
       "      <td>1</td>\n",
       "    </tr>\n",
       "    <tr>\n",
       "      <th>5</th>\n",
       "      <td>3551</td>\n",
       "      <td>501</td>\n",
       "      <td>1</td>\n",
       "    </tr>\n",
       "    <tr>\n",
       "      <th>6</th>\n",
       "      <td>4803</td>\n",
       "      <td>98</td>\n",
       "      <td>1</td>\n",
       "    </tr>\n",
       "    <tr>\n",
       "      <th>...</th>\n",
       "      <td>...</td>\n",
       "      <td>...</td>\n",
       "      <td>...</td>\n",
       "    </tr>\n",
       "    <tr>\n",
       "      <th>1183</th>\n",
       "      <td>995893</td>\n",
       "      <td>175</td>\n",
       "      <td>1</td>\n",
       "    </tr>\n",
       "    <tr>\n",
       "      <th>1184</th>\n",
       "      <td>996401</td>\n",
       "      <td>420</td>\n",
       "      <td>1</td>\n",
       "    </tr>\n",
       "    <tr>\n",
       "      <th>1185</th>\n",
       "      <td>996711</td>\n",
       "      <td>379</td>\n",
       "      <td>1</td>\n",
       "    </tr>\n",
       "    <tr>\n",
       "      <th>1186</th>\n",
       "      <td>998047</td>\n",
       "      <td>551</td>\n",
       "      <td>1</td>\n",
       "    </tr>\n",
       "    <tr>\n",
       "      <th>1187</th>\n",
       "      <td>998894</td>\n",
       "      <td>365</td>\n",
       "      <td>1</td>\n",
       "    </tr>\n",
       "  </tbody>\n",
       "</table>\n",
       "<p>970 rows × 3 columns</p>\n",
       "</div>"
      ],
      "text/plain": [
       "      SubjectID  time  status\n",
       "0           533   287       1\n",
       "1           649   487       1\n",
       "3          1234   245       1\n",
       "5          3551   501       1\n",
       "6          4803    98       1\n",
       "...         ...   ...     ...\n",
       "1183     995893   175       1\n",
       "1184     996401   420       1\n",
       "1185     996711   379       1\n",
       "1186     998047   551       1\n",
       "1187     998894   365       1\n",
       "\n",
       "[970 rows x 3 columns]"
      ]
     },
     "execution_count": 55,
     "metadata": {},
     "output_type": "execute_result"
    }
   ],
   "source": [
    "gastro_event_1 = gastro_event_1[gastro_event_1['time'] != 0]\n",
    "gastro_event_1"
   ]
  },
  {
   "cell_type": "code",
   "execution_count": 56,
   "metadata": {
    "id": "c9yfm7e_g89_"
   },
   "outputs": [],
   "source": [
    "gastro_fin = pd.concat([gastro_event_1, gastro_event_0]).sort_values(by='SubjectID', axis=0)\n",
    "gastro_fin = gastro_fin.reset_index().drop(columns = 'index')"
   ]
  },
  {
   "cell_type": "code",
   "execution_count": 57,
   "metadata": {
    "id": "8Di2KZlSjOVf",
    "scrolled": true
   },
   "outputs": [
    {
     "data": {
      "text/html": [
       "<div>\n",
       "<style scoped>\n",
       "    .dataframe tbody tr th:only-of-type {\n",
       "        vertical-align: middle;\n",
       "    }\n",
       "\n",
       "    .dataframe tbody tr th {\n",
       "        vertical-align: top;\n",
       "    }\n",
       "\n",
       "    .dataframe thead th {\n",
       "        text-align: right;\n",
       "    }\n",
       "</style>\n",
       "<table border=\"1\" class=\"dataframe\">\n",
       "  <thead>\n",
       "    <tr style=\"text-align: right;\">\n",
       "      <th></th>\n",
       "      <th>SubjectID</th>\n",
       "      <th>time_real</th>\n",
       "      <th>status_real</th>\n",
       "    </tr>\n",
       "  </thead>\n",
       "  <tbody>\n",
       "    <tr>\n",
       "      <th>0</th>\n",
       "      <td>329</td>\n",
       "      <td>274</td>\n",
       "      <td>0</td>\n",
       "    </tr>\n",
       "    <tr>\n",
       "      <th>1</th>\n",
       "      <td>348</td>\n",
       "      <td>401</td>\n",
       "      <td>0</td>\n",
       "    </tr>\n",
       "    <tr>\n",
       "      <th>2</th>\n",
       "      <td>533</td>\n",
       "      <td>287</td>\n",
       "      <td>1</td>\n",
       "    </tr>\n",
       "    <tr>\n",
       "      <th>4</th>\n",
       "      <td>649</td>\n",
       "      <td>487</td>\n",
       "      <td>1</td>\n",
       "    </tr>\n",
       "    <tr>\n",
       "      <th>5</th>\n",
       "      <td>708</td>\n",
       "      <td>231</td>\n",
       "      <td>0</td>\n",
       "    </tr>\n",
       "    <tr>\n",
       "      <th>...</th>\n",
       "      <td>...</td>\n",
       "      <td>...</td>\n",
       "      <td>...</td>\n",
       "    </tr>\n",
       "    <tr>\n",
       "      <th>5574</th>\n",
       "      <td>998908</td>\n",
       "      <td>560</td>\n",
       "      <td>0</td>\n",
       "    </tr>\n",
       "    <tr>\n",
       "      <th>5575</th>\n",
       "      <td>999166</td>\n",
       "      <td>390</td>\n",
       "      <td>0</td>\n",
       "    </tr>\n",
       "    <tr>\n",
       "      <th>5576</th>\n",
       "      <td>999482</td>\n",
       "      <td>434</td>\n",
       "      <td>0</td>\n",
       "    </tr>\n",
       "    <tr>\n",
       "      <th>5577</th>\n",
       "      <td>999880</td>\n",
       "      <td>266</td>\n",
       "      <td>0</td>\n",
       "    </tr>\n",
       "    <tr>\n",
       "      <th>5578</th>\n",
       "      <td>999990</td>\n",
       "      <td>126</td>\n",
       "      <td>0</td>\n",
       "    </tr>\n",
       "  </tbody>\n",
       "</table>\n",
       "<p>5027 rows × 3 columns</p>\n",
       "</div>"
      ],
      "text/plain": [
       "      SubjectID  time_real  status_real\n",
       "0           329        274            0\n",
       "1           348        401            0\n",
       "2           533        287            1\n",
       "4           649        487            1\n",
       "5           708        231            0\n",
       "...         ...        ...          ...\n",
       "5574     998908        560            0\n",
       "5575     999166        390            0\n",
       "5576     999482        434            0\n",
       "5577     999880        266            0\n",
       "5578     999990        126            0\n",
       "\n",
       "[5027 rows x 3 columns]"
      ]
     },
     "execution_count": 57,
     "metadata": {},
     "output_type": "execute_result"
    }
   ],
   "source": [
    "gastro_fin.columns = ['SubjectID', 'time_real', 'status_real']\n",
    "gastro_fin = gastro_fin[gastro_fin['time_real']>92]\n",
    "gastro_fin"
   ]
  },
  {
   "cell_type": "markdown",
   "metadata": {},
   "source": [
    "### Censored vs Occured 비율 확인"
   ]
  },
  {
   "cell_type": "code",
   "execution_count": 59,
   "metadata": {
    "colab": {
     "base_uri": "https://localhost:8080/",
     "height": 513
    },
    "executionInfo": {
     "elapsed": 3027,
     "status": "ok",
     "timestamp": 1621171539679,
     "user": {
      "displayName": "오현지",
      "photoUrl": "",
      "userId": "16924038929183224420"
     },
     "user_tz": -540
    },
    "id": "nOlt2p4Y5t19",
    "outputId": "d7564225-dd82-4cb9-da71-f1db5d1351c2"
   },
   "outputs": [
    {
     "name": "stdout",
     "output_type": "stream",
     "text": [
      "       status_o  count\n",
      "0  0 (censored)   2738\n",
      "1   1 (occured)    654\n",
      "    status_surv  count\n",
      "0  0 (censored)   1404\n",
      "1   1 (occured)    246\n",
      "    status_real  count\n",
      "0  0 (censored)   4220\n",
      "1   1 (occured)    807\n"
     ]
    }
   ],
   "source": [
    "event_distribution = pd.DataFrame(Optimal_Gas[['status_opt']].value_counts()).reset_index()\n",
    "event_distribution.columns = ['status_o', 'count']\n",
    "event_distribution['status_o'] = event_distribution['status_o'].astype('bool')\n",
    "event_distribution = event_distribution.replace({'status_o': {False:'0 (censored)', True:'1 (occured)'}})\n",
    "print(event_distribution)\n",
    "\n",
    "survival = pd.read_csv('_0415_features_without_nans_survival.csv')\n",
    "event_distribution_2 = pd.DataFrame(survival[['status']].value_counts()).reset_index()\n",
    "event_distribution_2.columns = ['status_surv', 'count']\n",
    "event_distribution_2['status_surv'] = event_distribution_2['status_surv'].astype('bool')\n",
    "event_distribution_2 = event_distribution_2.replace({'status_surv': {False:'0 (censored)', True:'1 (occured)'}})\n",
    "print(event_distribution_2)\n",
    "\n",
    "event_distribution_3 = pd.DataFrame(gastro_fin[['status_real']].value_counts()).reset_index()\n",
    "event_distribution_3.columns = ['status_real', 'count']\n",
    "event_distribution_3['status_real'] = event_distribution_3['status_real'].astype('bool')\n",
    "event_distribution_3 = event_distribution_3.replace({'status_real': {False:'0 (censored)', True:'1 (occured)'}})\n",
    "print(event_distribution_3)\n",
    "\n",
    "A_1 = event_distribution.iloc[0]['count']\n",
    "B_1 = event_distribution.iloc[1]['count']\n",
    "per_0 = str(round((A_1/(A_1+B_1))*100,2))+\"%\"\n",
    "per_1 = str(round((B_1/(A_1+B_1))*100,2))+'%'\n",
    "\n",
    "A = event_distribution_2.iloc[0]['count']\n",
    "B = event_distribution_2.iloc[1]['count']\n",
    "perc_0 = str(round((A/(A+B))*100,2))+\"%\"\n",
    "perc_1 = str(round((B/(A+B))*100,2))+'%'\n",
    "\n",
    "A_2 = event_distribution_3.iloc[0]['count']\n",
    "B_2 = event_distribution_3.iloc[1]['count']\n",
    "pe_0 = str(round((A_2/(A_2+B_2))*100,2))+\"%\"\n",
    "pe_1 = str(round((B_2/(A_2+B_2))*100,2))+'%'"
   ]
  },
  {
   "cell_type": "code",
   "execution_count": 74,
   "metadata": {},
   "outputs": [
    {
     "data": {
      "image/png": "[encoded data removed]",
      "text/plain": [
       "<Figure size 1080x432 with 3 Axes>"
      ]
     },
     "metadata": {
      "needs_background": "light"
     },
     "output_type": "display_data"
    }
   ],
   "source": [
    "plt.figure(figsize=(15, 6))\n",
    "\n",
    "plt.subplot(131)\n",
    "plt.bar(event_distribution['status_o'], height=event_distribution['count'], color=['green', 'orange'])\n",
    "plt.ylim([0,3000])\n",
    "plt.title('Event Distribution (Optimal Gastrostomy)')\n",
    "plt.text(-0.12,2800,per_0)\n",
    "plt.text(0.85,700,per_1)\n",
    "\n",
    "plt.subplot(132)\n",
    "plt.bar(event_distribution_2['status_surv'], height=event_distribution_2['count'], color=['green', 'orange'])\n",
    "plt.ylim([0,3000])\n",
    "plt.title('Event Distribution (Survival)')\n",
    "plt.text(-0.15,1500,perc_0)\n",
    "plt.text(0.85,300,perc_1)\n",
    "\n",
    "plt.subplot(133)\n",
    "plt.bar(event_distribution_3['status_real'], height=event_distribution_2['count'], color=['green', 'orange'])\n",
    "plt.ylim([0,3000])\n",
    "plt.title('Event Distribution (Real Gastrostomy)')\n",
    "plt.text(-0.1,1500,pe_0)\n",
    "plt.text(0.85,300,pe_1)\n",
    "\n",
    "plt.show()"
   ]
  }
 ],
 "metadata": {
  "colab": {
   "authorship_tag": "ABX9TyNZFWmqAxgo05Kjm+GP9mZG",
   "collapsed_sections": [],
   "mount_file_id": "15A7qZRa86SsXtVysulfPU6dGH8OLai8C",
   "name": "Extracting Optimal Target(Q3).ipynb",
   "provenance": []
  },
  "kernelspec": {
   "display_name": "Python 3",
   "language": "python",
   "name": "python3"
  },
  "language_info": {
   "codemirror_mode": {
    "name": "ipython",
    "version": 3
   },
   "file_extension": ".py",
   "mimetype": "text/x-python",
   "name": "python",
   "nbconvert_exporter": "python",
   "pygments_lexer": "ipython3",
   "version": "3.8.5"
  }
 },
 "nbformat": 4,
 "nbformat_minor": 1
}

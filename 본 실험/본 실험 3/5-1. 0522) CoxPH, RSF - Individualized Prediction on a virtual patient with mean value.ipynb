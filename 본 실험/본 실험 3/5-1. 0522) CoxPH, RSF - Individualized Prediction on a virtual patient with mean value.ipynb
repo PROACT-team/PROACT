{
 "cells": [
  {
   "cell_type": "code",
   "execution_count": 1,
   "metadata": {},
   "outputs": [],
   "source": [
    "import pandas as pd\n",
    "import numpy as np\n",
    "import matplotlib.pyplot as plt\n",
    "import seaborn as sns"
   ]
  },
  {
   "cell_type": "markdown",
   "metadata": {},
   "source": [
    "# Preprocessing"
   ]
  },
  {
   "cell_type": "code",
   "execution_count": 25,
   "metadata": {},
   "outputs": [],
   "source": [
    "X_imputed = pd.read_csv('imputed features_final.csv')\n",
    "Optimal_Gas = pd.read_csv('Optimal_target_with_92_Q3_2점.csv')"
   ]
  },
  {
   "cell_type": "code",
   "execution_count": 26,
   "metadata": {},
   "outputs": [],
   "source": [
    "sub_list = list(Optimal_Gas['SubjectID'])"
   ]
  },
  {
   "cell_type": "code",
   "execution_count": 27,
   "metadata": {},
   "outputs": [],
   "source": [
    "X_imputed = X_imputed[['SubjectID','Age', 'Gender', 'onset_site', 'onset_delta',\n",
    "       'diag_minus_onset', 'slope_alsfrs_tot',\n",
    "       'fvc_slope', 'fvc_mean',  'mean_Q10_Respiratory',\n",
    "       'mean_Bulbar', 'mean_motor', 'slope_Q1_Speech', 'slope_Q2_Salivation',\n",
    "       'slope_Q3_Swallowing', 'slope_Q4_Handwriting', 'slope_Q5_Cutting',\n",
    "       'slope_Q6_Dressing_and_Hygiene', 'slope_Q7_Turning_in_Bed',\n",
    "       'slope_Q8_Walking', 'slope_Q9_Climbing_Stairs', 'slope_Q10_Respiratory']]"
   ]
  },
  {
   "cell_type": "code",
   "execution_count": 28,
   "metadata": {},
   "outputs": [],
   "source": [
    "X_imputed.query(\"SubjectID == {0}\".format(sub_list), inplace=True)\n",
    "sub_list_2 = list(X_imputed['SubjectID'])\n",
    "X_imputed = X_imputed.reset_index()\n",
    "X_imputed.drop(columns=['index'], inplace=True)"
   ]
  },
  {
   "cell_type": "code",
   "execution_count": 29,
   "metadata": {},
   "outputs": [
    {
     "data": {
      "text/html": [
       "<div>\n",
       "<style scoped>\n",
       "    .dataframe tbody tr th:only-of-type {\n",
       "        vertical-align: middle;\n",
       "    }\n",
       "\n",
       "    .dataframe tbody tr th {\n",
       "        vertical-align: top;\n",
       "    }\n",
       "\n",
       "    .dataframe thead th {\n",
       "        text-align: right;\n",
       "    }\n",
       "</style>\n",
       "<table border=\"1\" class=\"dataframe\">\n",
       "  <thead>\n",
       "    <tr style=\"text-align: right;\">\n",
       "      <th></th>\n",
       "      <th>SubjectID</th>\n",
       "      <th>time_opt</th>\n",
       "      <th>status_opt</th>\n",
       "    </tr>\n",
       "  </thead>\n",
       "  <tbody>\n",
       "    <tr>\n",
       "      <th>0</th>\n",
       "      <td>329</td>\n",
       "      <td>274</td>\n",
       "      <td>0</td>\n",
       "    </tr>\n",
       "    <tr>\n",
       "      <th>1</th>\n",
       "      <td>348</td>\n",
       "      <td>401</td>\n",
       "      <td>0</td>\n",
       "    </tr>\n",
       "    <tr>\n",
       "      <th>2</th>\n",
       "      <td>708</td>\n",
       "      <td>35</td>\n",
       "      <td>1</td>\n",
       "    </tr>\n",
       "    <tr>\n",
       "      <th>3</th>\n",
       "      <td>902</td>\n",
       "      <td>154</td>\n",
       "      <td>0</td>\n",
       "    </tr>\n",
       "    <tr>\n",
       "      <th>4</th>\n",
       "      <td>1736</td>\n",
       "      <td>187</td>\n",
       "      <td>1</td>\n",
       "    </tr>\n",
       "    <tr>\n",
       "      <th>...</th>\n",
       "      <td>...</td>\n",
       "      <td>...</td>\n",
       "      <td>...</td>\n",
       "    </tr>\n",
       "    <tr>\n",
       "      <th>3394</th>\n",
       "      <td>998756</td>\n",
       "      <td>64</td>\n",
       "      <td>0</td>\n",
       "    </tr>\n",
       "    <tr>\n",
       "      <th>3395</th>\n",
       "      <td>999166</td>\n",
       "      <td>390</td>\n",
       "      <td>0</td>\n",
       "    </tr>\n",
       "    <tr>\n",
       "      <th>3396</th>\n",
       "      <td>999823</td>\n",
       "      <td>91</td>\n",
       "      <td>1</td>\n",
       "    </tr>\n",
       "    <tr>\n",
       "      <th>3397</th>\n",
       "      <td>999880</td>\n",
       "      <td>266</td>\n",
       "      <td>0</td>\n",
       "    </tr>\n",
       "    <tr>\n",
       "      <th>3398</th>\n",
       "      <td>999990</td>\n",
       "      <td>126</td>\n",
       "      <td>0</td>\n",
       "    </tr>\n",
       "  </tbody>\n",
       "</table>\n",
       "<p>3399 rows × 3 columns</p>\n",
       "</div>"
      ],
      "text/plain": [
       "      SubjectID  time_opt  status_opt\n",
       "0           329       274           0\n",
       "1           348       401           0\n",
       "2           708        35           1\n",
       "3           902       154           0\n",
       "4          1736       187           1\n",
       "...         ...       ...         ...\n",
       "3394     998756        64           0\n",
       "3395     999166       390           0\n",
       "3396     999823        91           1\n",
       "3397     999880       266           0\n",
       "3398     999990       126           0\n",
       "\n",
       "[3399 rows x 3 columns]"
      ]
     },
     "execution_count": 29,
     "metadata": {},
     "output_type": "execute_result"
    }
   ],
   "source": [
    "Optimal_Gas.query(\"SubjectID == {0}\".format(sub_list_2), inplace=True)\n",
    "Optimal_Gas = Optimal_Gas.reset_index()\n",
    "Optimal_Gas = Optimal_Gas.drop(columns=['index','Unnamed: 0'])\n",
    "Optimal_Gas"
   ]
  },
  {
   "cell_type": "code",
   "execution_count": 30,
   "metadata": {},
   "outputs": [],
   "source": [
    "X_1 = X_imputed.merge(Optimal_Gas, on='SubjectID', how='inner')"
   ]
  },
  {
   "cell_type": "code",
   "execution_count": 31,
   "metadata": {},
   "outputs": [],
   "source": [
    "X_1 = X_1[X_1['time_opt']!=0]\n",
    "y = X_1[['status_opt']]\n",
    "X_2 = X_1.drop(columns='SubjectID')"
   ]
  },
  {
   "cell_type": "markdown",
   "metadata": {},
   "source": [
    "# Train/Test split"
   ]
  },
  {
   "cell_type": "code",
   "execution_count": 32,
   "metadata": {},
   "outputs": [],
   "source": [
    "from sklearn.model_selection import train_test_split\n",
    "\n",
    "df_train, df_test, y_train, y_test = train_test_split(X_2, y, train_size=0.8, test_size=0.2, random_state=11)"
   ]
  },
  {
   "cell_type": "markdown",
   "metadata": {},
   "source": [
    "# Creating Virtual Subject with mean values of each feature"
   ]
  },
  {
   "cell_type": "code",
   "execution_count": 37,
   "metadata": {},
   "outputs": [
    {
     "data": {
      "text/html": [
       "<div>\n",
       "<style scoped>\n",
       "    .dataframe tbody tr th:only-of-type {\n",
       "        vertical-align: middle;\n",
       "    }\n",
       "\n",
       "    .dataframe tbody tr th {\n",
       "        vertical-align: top;\n",
       "    }\n",
       "\n",
       "    .dataframe thead th {\n",
       "        text-align: right;\n",
       "    }\n",
       "</style>\n",
       "<table border=\"1\" class=\"dataframe\">\n",
       "  <thead>\n",
       "    <tr style=\"text-align: right;\">\n",
       "      <th></th>\n",
       "      <th>Age</th>\n",
       "      <th>Gender</th>\n",
       "      <th>onset_site</th>\n",
       "      <th>onset_delta</th>\n",
       "      <th>diag_minus_onset</th>\n",
       "      <th>slope_alsfrs_tot</th>\n",
       "      <th>fvc_slope</th>\n",
       "      <th>fvc_mean</th>\n",
       "      <th>mean_Q10_Respiratory</th>\n",
       "      <th>mean_Bulbar</th>\n",
       "      <th>...</th>\n",
       "      <th>slope_Q1_Speech</th>\n",
       "      <th>slope_Q2_Salivation</th>\n",
       "      <th>slope_Q3_Swallowing</th>\n",
       "      <th>slope_Q4_Handwriting</th>\n",
       "      <th>slope_Q5_Cutting</th>\n",
       "      <th>slope_Q6_Dressing_and_Hygiene</th>\n",
       "      <th>slope_Q7_Turning_in_Bed</th>\n",
       "      <th>slope_Q8_Walking</th>\n",
       "      <th>slope_Q9_Climbing_Stairs</th>\n",
       "      <th>slope_Q10_Respiratory</th>\n",
       "    </tr>\n",
       "  </thead>\n",
       "  <tbody>\n",
       "    <tr>\n",
       "      <th>0</th>\n",
       "      <td>55.087673</td>\n",
       "      <td>0.650191</td>\n",
       "      <td>0.139655</td>\n",
       "      <td>-613.068255</td>\n",
       "      <td>339.66343</td>\n",
       "      <td>-0.025917</td>\n",
       "      <td>-0.087364</td>\n",
       "      <td>83.900659</td>\n",
       "      <td>3.610479</td>\n",
       "      <td>6.985822</td>\n",
       "      <td>...</td>\n",
       "      <td>-0.001632</td>\n",
       "      <td>-0.001268</td>\n",
       "      <td>-0.001903</td>\n",
       "      <td>-0.002657</td>\n",
       "      <td>-0.003404</td>\n",
       "      <td>-0.00378</td>\n",
       "      <td>0.01206</td>\n",
       "      <td>-0.002207</td>\n",
       "      <td>-0.004372</td>\n",
       "      <td>-0.001687</td>\n",
       "    </tr>\n",
       "  </tbody>\n",
       "</table>\n",
       "<p>1 rows × 21 columns</p>\n",
       "</div>"
      ],
      "text/plain": [
       "         Age    Gender  onset_site  onset_delta  diag_minus_onset  \\\n",
       "0  55.087673  0.650191    0.139655  -613.068255         339.66343   \n",
       "\n",
       "   slope_alsfrs_tot  fvc_slope   fvc_mean  mean_Q10_Respiratory  mean_Bulbar  \\\n",
       "0         -0.025917  -0.087364  83.900659              3.610479     6.985822   \n",
       "\n",
       "   ...  slope_Q1_Speech  slope_Q2_Salivation  slope_Q3_Swallowing  \\\n",
       "0  ...        -0.001632            -0.001268            -0.001903   \n",
       "\n",
       "   slope_Q4_Handwriting  slope_Q5_Cutting  slope_Q6_Dressing_and_Hygiene  \\\n",
       "0             -0.002657         -0.003404                       -0.00378   \n",
       "\n",
       "   slope_Q7_Turning_in_Bed  slope_Q8_Walking  slope_Q9_Climbing_Stairs  \\\n",
       "0                  0.01206         -0.002207                 -0.004372   \n",
       "\n",
       "   slope_Q10_Respiratory  \n",
       "0              -0.001687  \n",
       "\n",
       "[1 rows x 21 columns]"
      ]
     },
     "execution_count": 37,
     "metadata": {},
     "output_type": "execute_result"
    }
   ],
   "source": [
    "VIRT = pd.DataFrame(X_1.mean()).transpose().iloc[:, 1:-2]\n",
    "VIRT"
   ]
  },
  {
   "cell_type": "markdown",
   "metadata": {},
   "source": [
    "# Fitting model"
   ]
  },
  {
   "cell_type": "markdown",
   "metadata": {},
   "source": [
    "Cox Proportion Hazard model"
   ]
  },
  {
   "cell_type": "code",
   "execution_count": 38,
   "metadata": {},
   "outputs": [
    {
     "data": {
      "text/plain": [
       "<lifelines.CoxPHFitter: fitted with 2719 total observations, 1787 right-censored observations>"
      ]
     },
     "execution_count": 38,
     "metadata": {},
     "output_type": "execute_result"
    }
   ],
   "source": [
    "from lifelines import CoxPHFitter\n",
    "cph = CoxPHFitter(penalizer=0.01)\n",
    "cph.fit(df_train, 'time_opt', event_col='status_opt')"
   ]
  },
  {
   "cell_type": "code",
   "execution_count": 39,
   "metadata": {},
   "outputs": [],
   "source": [
    "result_cph = cph.predict_survival_function(VIRT)"
   ]
  },
  {
   "cell_type": "markdown",
   "metadata": {},
   "source": [
    "Random Survival Forest"
   ]
  },
  {
   "cell_type": "code",
   "execution_count": 40,
   "metadata": {},
   "outputs": [],
   "source": [
    "from sksurv.ensemble import RandomSurvivalForest"
   ]
  },
  {
   "cell_type": "code",
   "execution_count": 41,
   "metadata": {},
   "outputs": [],
   "source": [
    "dic = {1:True, 0:False}\n",
    "\n",
    "df_train_rsf = df_train.iloc[:, -2:][['status_opt', 'time_opt']]\n",
    "df_train_rsf = df_train_rsf.replace({'status_opt':dic})"
   ]
  },
  {
   "cell_type": "code",
   "execution_count": 42,
   "metadata": {},
   "outputs": [],
   "source": [
    "arr_1 = list(tuple(x) for x in df_train_rsf.to_records(index=False))\n",
    "dt=np.dtype('bool, float')\n",
    "y_train_rsf = np.array(arr_1, dtype=dt)\n",
    "y_train_rsf.dtype.names=['cens', 'time']"
   ]
  },
  {
   "cell_type": "code",
   "execution_count": 43,
   "metadata": {},
   "outputs": [
    {
     "data": {
      "text/plain": [
       "RandomSurvivalForest(max_features='sqrt', min_samples_leaf=15,\n",
       "                     min_samples_split=10, n_estimators=1000, n_jobs=-1,\n",
       "                     random_state=20)"
      ]
     },
     "execution_count": 43,
     "metadata": {},
     "output_type": "execute_result"
    }
   ],
   "source": [
    "rsf = RandomSurvivalForest(n_estimators=1000,\n",
    "                           min_samples_split=10,\n",
    "                           min_samples_leaf=15,\n",
    "                           max_features=\"sqrt\",\n",
    "                           n_jobs=-1,\n",
    "                           random_state=20)\n",
    "rsf.fit(df_train.iloc[:,:-2], y_train_rsf)"
   ]
  },
  {
   "cell_type": "code",
   "execution_count": 44,
   "metadata": {},
   "outputs": [],
   "source": [
    "result_rsf = rsf.predict_survival_function(VIRT, return_array=True)"
   ]
  },
  {
   "cell_type": "code",
   "execution_count": 71,
   "metadata": {},
   "outputs": [],
   "source": [
    "from lifelines import WeibullAFTFitter"
   ]
  },
  {
   "cell_type": "code",
   "execution_count": 73,
   "metadata": {},
   "outputs": [],
   "source": [
    "aft = WeibullAFTFitter()\n",
    "aft.fit(df_train, 'time_opt', 'status_opt', ancillary=False)\n",
    "result_wft = aft.predict_survival_function(VIRT)"
   ]
  },
  {
   "cell_type": "code",
   "execution_count": 74,
   "metadata": {},
   "outputs": [],
   "source": [
    "from lifelines.utils import median_survival_times"
   ]
  },
  {
   "cell_type": "code",
   "execution_count": 81,
   "metadata": {},
   "outputs": [
    {
     "data": {
      "image/png": "[encoded data removed]",
      "text/plain": [
       "<Figure size 2160x576 with 3 Axes>"
      ]
     },
     "metadata": {
      "needs_background": "light"
     },
     "output_type": "display_data"
    }
   ],
   "source": [
    "plt.figure(figsize=(30,8))\n",
    "\n",
    "plt.subplot(131)\n",
    "plt.plot(result_cph.index, result_cph, marker='None', color='green')\n",
    "plt.title(\"CoxPH\")\n",
    "plt.ylim([0,1.05])\n",
    "plt.annotate(\"median gastrostomy time = 510 (days)\", xy=(510, 0.499595)\n",
    "                , xytext=(510+110, 0.65), arrowprops=dict(arrowstyle=\"->\", connectionstyle=\"arc3,rad=-0.05\"), fontsize=15)\n",
    "\n",
    "plt.subplot(132)\n",
    "for i, s in enumerate(result_rsf):\n",
    "    plt.step(rsf.event_times_, s, where=\"post\", color='purple')\n",
    "plt.ylim([0,1.05])\n",
    "plt.annotate(\"median gastrostomy time = 694 (days)\", xy=(694, 0.49600802)\n",
    "                , xytext=(694-110, 0.2), arrowprops=dict(arrowstyle=\"->\", connectionstyle=\"arc3,rad=-0.1\"), fontsize=15)\n",
    "plt.title('RSF')\n",
    "\n",
    "plt.subplot(133)\n",
    "plt.plot(result_wft.index, result_wft[0], marker='None', color='green')\n",
    "plt.title(\"Weibull AFT\")\n",
    "plt.ylim([0,1.05])\n",
    "plt.annotate(\"median gastrostomy time = 539 (days)\", xy=(539, 0.500121)\n",
    "                , xytext=(539+110, 0.65), arrowprops=dict(arrowstyle=\"->\", connectionstyle=\"arc3,rad=-0.05\"), fontsize=15)\n",
    "plt.title('AFT')\n",
    "\n",
    "plt.suptitle('Prediction on a virtual subject filled with mean values', fontsize=30)\n",
    "plt.show()"
   ]
  },
  {
   "cell_type": "code",
   "execution_count": 47,
   "metadata": {},
   "outputs": [
    {
     "data": {
      "text/html": [
       "<div>\n",
       "<style scoped>\n",
       "    .dataframe tbody tr th:only-of-type {\n",
       "        vertical-align: middle;\n",
       "    }\n",
       "\n",
       "    .dataframe tbody tr th {\n",
       "        vertical-align: top;\n",
       "    }\n",
       "\n",
       "    .dataframe thead th {\n",
       "        text-align: right;\n",
       "    }\n",
       "</style>\n",
       "<table border=\"1\" class=\"dataframe\">\n",
       "  <thead>\n",
       "    <tr style=\"text-align: right;\">\n",
       "      <th></th>\n",
       "      <th>0</th>\n",
       "    </tr>\n",
       "  </thead>\n",
       "  <tbody>\n",
       "    <tr>\n",
       "      <th>507.0</th>\n",
       "      <td>0.508137</td>\n",
       "    </tr>\n",
       "    <tr>\n",
       "      <th>508.0</th>\n",
       "      <td>0.503924</td>\n",
       "    </tr>\n",
       "    <tr>\n",
       "      <th>509.0</th>\n",
       "      <td>0.503924</td>\n",
       "    </tr>\n",
       "    <tr>\n",
       "      <th>510.0</th>\n",
       "      <td>0.499595</td>\n",
       "    </tr>\n",
       "    <tr>\n",
       "      <th>511.0</th>\n",
       "      <td>0.495268</td>\n",
       "    </tr>\n",
       "  </tbody>\n",
       "</table>\n",
       "</div>"
      ],
      "text/plain": [
       "              0\n",
       "507.0  0.508137\n",
       "508.0  0.503924\n",
       "509.0  0.503924\n",
       "510.0  0.499595\n",
       "511.0  0.495268"
      ]
     },
     "execution_count": 47,
     "metadata": {},
     "output_type": "execute_result"
    }
   ],
   "source": [
    "result_cph[result_cph[0]<=0.51].head()"
   ]
  },
  {
   "cell_type": "code",
   "execution_count": 59,
   "metadata": {},
   "outputs": [
    {
     "data": {
      "text/plain": [
       "array([   7.,    8.,   11.,   12.,   13.,   14.,   17.,   21.,   22.,\n",
       "         27.,   28.,   32.,   33.,   34.,   35.,   36.,   37.,   38.,\n",
       "         39.,   40.,   41.,   42.,   43.,   44.,   45.,   47.,   48.,\n",
       "         49.,   50.,   51.,   52.,   53.,   55.,   56.,   57.,   58.,\n",
       "         59.,   61.,   62.,   63.,   64.,   65.,   66.,   67.,   68.,\n",
       "         69.,   70.,   71.,   72.,   73.,   74.,   75.,   76.,   77.,\n",
       "         78.,   80.,   81.,   82.,   83.,   84.,   85.,   86.,   89.,\n",
       "         91.,   92.,   93.,   94.,   95.,   96.,   97.,   98.,   99.,\n",
       "        100.,  101.,  102.,  103.,  104.,  105.,  107.,  109.,  110.,\n",
       "        112.,  113.,  115.,  116.,  117.,  119.,  120.,  121.,  122.,\n",
       "        123.,  124.,  125.,  126.,  127.,  128.,  129.,  130.,  131.,\n",
       "        132.,  133.,  134.,  135.,  136.,  137.,  138.,  139.,  140.,\n",
       "        141.,  142.,  143.,  144.,  147.,  148.,  149.,  150.,  151.,\n",
       "        152.,  153.,  154.,  155.,  156.,  158.,  160.,  161.,  162.,\n",
       "        163.,  165.,  166.,  167.,  168.,  170.,  171.,  172.,  173.,\n",
       "        174.,  175.,  176.,  177.,  178.,  179.,  181.,  182.,  183.,\n",
       "        184.,  185.,  186.,  187.,  188.,  189.,  190.,  191.,  192.,\n",
       "        193.,  194.,  195.,  196.,  197.,  198.,  199.,  200.,  202.,\n",
       "        203.,  204.,  206.,  207.,  209.,  210.,  211.,  212.,  213.,\n",
       "        214.,  216.,  217.,  219.,  220.,  221.,  224.,  226.,  227.,\n",
       "        228.,  229.,  231.,  232.,  233.,  235.,  236.,  238.,  239.,\n",
       "        240.,  241.,  242.,  243.,  244.,  245.,  246.,  248.,  249.,\n",
       "        250.,  251.,  252.,  253.,  256.,  258.,  259.,  260.,  261.,\n",
       "        262.,  263.,  265.,  266.,  267.,  269.,  270.,  272.,  273.,\n",
       "        274.,  275.,  276.,  279.,  280.,  281.,  282.,  286.,  287.,\n",
       "        288.,  289.,  290.,  291.,  292.,  293.,  294.,  295.,  297.,\n",
       "        298.,  299.,  300.,  301.,  302.,  304.,  307.,  308.,  309.,\n",
       "        310.,  312.,  313.,  314.,  315.,  317.,  318.,  322.,  323.,\n",
       "        327.,  329.,  330.,  335.,  336.,  338.,  339.,  341.,  342.,\n",
       "        343.,  348.,  349.,  350.,  351.,  352.,  353.,  355.,  356.,\n",
       "        357.,  358.,  359.,  360.,  361.,  362.,  363.,  364.,  365.,\n",
       "        366.,  367.,  368.,  370.,  371.,  372.,  373.,  374.,  375.,\n",
       "        376.,  377.,  378.,  379.,  380.,  381.,  383.,  384.,  385.,\n",
       "        389.,  390.,  391.,  392.,  393.,  394.,  399.,  402.,  404.,\n",
       "        406.,  408.,  413.,  416.,  417.,  421.,  426.,  427.,  428.,\n",
       "        429.,  434.,  435.,  441.,  443.,  444.,  450.,  454.,  456.,\n",
       "        461.,  462.,  466.,  468.,  469.,  470.,  471.,  472.,  473.,\n",
       "        483.,  484.,  485.,  488.,  495.,  502.,  505.,  507.,  508.,\n",
       "        510.,  511.,  515.,  517.,  518.,  519.,  520.,  525.,  537.,\n",
       "        542.,  565.,  568.,  576.,  588.,  589.,  609.,  614.,  644.,\n",
       "        649.,  654.,  687.,  688.,  692.,  694.,  737.,  748.,  751.,\n",
       "        765.,  839.,  867.,  884.,  903.,  909.,  922.,  946., 1037.,\n",
       "       1073., 1083., 1188., 1234., 1295., 1653., 1702.])"
      ]
     },
     "execution_count": 59,
     "metadata": {},
     "output_type": "execute_result"
    }
   ],
   "source": [
    "rsf.event_times_"
   ]
  },
  {
   "cell_type": "code",
   "execution_count": 68,
   "metadata": {},
   "outputs": [
    {
     "data": {
      "text/plain": [
       "array([[0.99994737, 0.99994737, 0.99994737, 0.99994737, 0.99994737,\n",
       "        0.99977045, 0.99951434, 0.99951434, 0.9984239 , 0.9984239 ,\n",
       "        0.99826535, 0.99826535, 0.99826535, 0.99826535, 0.99760371,\n",
       "        0.99753705, 0.99753705, 0.99708067, 0.99707286, 0.99671388,\n",
       "        0.99585303, 0.9954855 , 0.99537815, 0.99537815, 0.99532552,\n",
       "        0.99532552, 0.99423021, 0.9941445 , 0.99400077, 0.99396231,\n",
       "        0.99396231, 0.99384718, 0.99384718, 0.99340727, 0.99311311,\n",
       "        0.99298247, 0.99296997, 0.99164819, 0.99149068, 0.98909018,\n",
       "        0.98834929, 0.98817683, 0.98817683, 0.98792862, 0.98792862,\n",
       "        0.98789015, 0.98564035, 0.98519151, 0.98494245, 0.98488631,\n",
       "        0.98469479, 0.9843853 , 0.98433768, 0.98427101, 0.98421433,\n",
       "        0.98392752, 0.98392752, 0.98386791, 0.98351607, 0.98342758,\n",
       "        0.98342758, 0.98342758, 0.98319839, 0.97986651, 0.9794301 ,\n",
       "        0.97873346, 0.97807598, 0.97799438, 0.97799438, 0.97760743,\n",
       "        0.97648782, 0.97586717, 0.9749496 , 0.9749496 , 0.97484141,\n",
       "        0.97483353, 0.97483353, 0.9737143 , 0.97256396, 0.97233858,\n",
       "        0.97207732, 0.97036132, 0.9680693 , 0.96772383, 0.96772383,\n",
       "        0.96772383, 0.96299924, 0.962899  , 0.962899  , 0.962899  ,\n",
       "        0.96259551, 0.9622207 , 0.9622207 , 0.96062267, 0.96056711,\n",
       "        0.96052166, 0.96048109, 0.96044109, 0.95862082, 0.95862082,\n",
       "        0.95770963, 0.95637685, 0.95637685, 0.95619068, 0.9558441 ,\n",
       "        0.95564691, 0.95564691, 0.95543668, 0.95517844, 0.95517844,\n",
       "        0.95456099, 0.95006593, 0.94986035, 0.9494826 , 0.94937085,\n",
       "        0.94921888, 0.94921888, 0.9480478 , 0.94645096, 0.94639642,\n",
       "        0.94632574, 0.94469082, 0.94462805, 0.94058745, 0.94058745,\n",
       "        0.9402031 , 0.9402031 , 0.93904478, 0.93904478, 0.93892309,\n",
       "        0.93870621, 0.93870621, 0.93754027, 0.93618841, 0.93614243,\n",
       "        0.9354887 , 0.93357259, 0.9333584 , 0.93314173, 0.93206056,\n",
       "        0.93201457, 0.93042892, 0.92843221, 0.92820084, 0.92820084,\n",
       "        0.92798425, 0.92672354, 0.92672354, 0.92586466, 0.9249426 ,\n",
       "        0.92259121, 0.92250921, 0.92233767, 0.92077763, 0.9194289 ,\n",
       "        0.91920872, 0.91710236, 0.91537788, 0.91479587, 0.91430046,\n",
       "        0.91406668, 0.91302253, 0.91247277, 0.91175645, 0.91169763,\n",
       "        0.91167042, 0.91141882, 0.91015425, 0.90904584, 0.90904584,\n",
       "        0.90873826, 0.90801507, 0.90785866, 0.90742852, 0.9050465 ,\n",
       "        0.90500164, 0.90448177, 0.90448177, 0.90402833, 0.90402833,\n",
       "        0.9021784 , 0.90069983, 0.90027045, 0.89939201, 0.8992084 ,\n",
       "        0.8992084 , 0.89857327, 0.89694413, 0.89694413, 0.89677486,\n",
       "        0.89677486, 0.8967079 , 0.89519212, 0.89411076, 0.89325673,\n",
       "        0.89195637, 0.8906539 , 0.89063215, 0.89043041, 0.89043041,\n",
       "        0.89008252, 0.89008252, 0.88789895, 0.88784537, 0.88620858,\n",
       "        0.8857778 , 0.88418004, 0.88382085, 0.88203849, 0.88156966,\n",
       "        0.87364652, 0.87314474, 0.87199324, 0.87199324, 0.87032125,\n",
       "        0.86619196, 0.86136759, 0.86130092, 0.86130092, 0.85858625,\n",
       "        0.85782733, 0.85340741, 0.85340741, 0.8532463 , 0.84975052,\n",
       "        0.84819522, 0.84817646, 0.84351508, 0.84274004, 0.84053752,\n",
       "        0.83570695, 0.8311538 , 0.82490758, 0.8228129 , 0.82274111,\n",
       "        0.82149642, 0.81937914, 0.81886517, 0.81886517, 0.81878019,\n",
       "        0.81839785, 0.8062649 , 0.80600099, 0.8054017 , 0.80354112,\n",
       "        0.80278034, 0.80278034, 0.80266457, 0.80249257, 0.80238454,\n",
       "        0.79410338, 0.79396489, 0.79175038, 0.79105218, 0.79105218,\n",
       "        0.78995505, 0.78620808, 0.78593685, 0.7858516 , 0.78229522,\n",
       "        0.78164215, 0.77512114, 0.77512114, 0.77492047, 0.77457486,\n",
       "        0.77398099, 0.77324388, 0.77283936, 0.77178063, 0.77178063,\n",
       "        0.77175357, 0.76978896, 0.76804896, 0.7678079 , 0.76629357,\n",
       "        0.76568281, 0.76286798, 0.75876508, 0.75550598, 0.7492206 ,\n",
       "        0.74758   , 0.74748924, 0.74399913, 0.74240371, 0.73973935,\n",
       "        0.7384343 , 0.73838259, 0.73838259, 0.73808922, 0.73808922,\n",
       "        0.7360235 , 0.7360235 , 0.73591253, 0.73571547, 0.73502768,\n",
       "        0.73502768, 0.73343264, 0.73315485, 0.73312645, 0.72543399,\n",
       "        0.72463692, 0.72463692, 0.723668  , 0.71755692, 0.71738192,\n",
       "        0.71736815, 0.71647339, 0.71647339, 0.70788694, 0.70723362,\n",
       "        0.70514501, 0.70495586, 0.70276995, 0.70111159, 0.6991217 ,\n",
       "        0.69741962, 0.69737947, 0.69620083, 0.68496639, 0.67960047,\n",
       "        0.6784321 , 0.67693063, 0.67693063, 0.66648066, 0.66383727,\n",
       "        0.66127029, 0.65772257, 0.65035263, 0.63170485, 0.6315583 ,\n",
       "        0.62941631, 0.62941631, 0.62769207, 0.62097875, 0.61470629,\n",
       "        0.61225067, 0.61225067, 0.6071172 , 0.60455709, 0.6023691 ,\n",
       "        0.60168889, 0.60021434, 0.5999052 , 0.5989052 , 0.59644366,\n",
       "        0.59533939, 0.56733646, 0.56635098, 0.56618413, 0.56530376,\n",
       "        0.5598787 , 0.5597037 , 0.54709098, 0.54709098, 0.54679842,\n",
       "        0.54648613, 0.53086095, 0.50801784, 0.50751661, 0.50655287,\n",
       "        0.50489994, 0.50461367, 0.50358439, 0.50219461, 0.50200673,\n",
       "        0.49600802, 0.49575802, 0.49575802, 0.49455793, 0.48559477,\n",
       "        0.47040042, 0.47040042, 0.46240115, 0.46126393, 0.46070203,\n",
       "        0.44775242, 0.44017146, 0.43887322, 0.43614959, 0.42626859,\n",
       "        0.42214247, 0.41086272, 0.40692948, 0.39832105, 0.39669971]])"
      ]
     },
     "execution_count": 68,
     "metadata": {},
     "output_type": "execute_result"
    }
   ],
   "source": [
    "result_rsf"
   ]
  }
 ],
 "metadata": {
  "kernelspec": {
   "display_name": "Python 3",
   "language": "python",
   "name": "python3"
  },
  "language_info": {
   "codemirror_mode": {
    "name": "ipython",
    "version": 3
   },
   "file_extension": ".py",
   "mimetype": "text/x-python",
   "name": "python",
   "nbconvert_exporter": "python",
   "pygments_lexer": "ipython3",
   "version": "3.8.5"
  }
 },
 "nbformat": 4,
 "nbformat_minor": 4
}

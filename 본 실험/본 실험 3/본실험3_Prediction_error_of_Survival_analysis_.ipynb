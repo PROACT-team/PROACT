{
  "nbformat": 4,
  "nbformat_minor": 0,
  "metadata": {
    "colab": {
      "name": "본실험3 - Prediction error of Survival analysis .ipynb",
      "provenance": []
    },
    "kernelspec": {
      "name": "python3",
      "display_name": "Python 3"
    },
    "language_info": {
      "name": "python"
    }
  },
  "cells": [
    {
      "cell_type": "code",
      "metadata": {
        "id": "Jj2fBSoaQRzv"
      },
      "source": [
        "import pandas as pd\n",
        "import numpy as np\n",
        "import matplotlib.pyplot as plt\n",
        "import seaborn as sns"
      ],
      "execution_count": 1,
      "outputs": []
    },
    {
      "cell_type": "code",
      "metadata": {
        "colab": {
          "resources": {
            "http://localhost:8080/nbextensions/google.colab/files.js": {
              "data": "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",
              "ok": true,
              "headers": [
                [
                  "content-type",
                  "application/javascript"
                ]
              ],
              "status": 200,
              "status_text": ""
            }
          },
          "base_uri": "https://localhost:8080/",
          "height": 142
        },
        "id": "5uQob_iATEwh",
        "outputId": "bd00858e-1633-4d12-af79-0a8116bcf151"
      },
      "source": [
        "from google.colab import files \n",
        "uploaded = files.upload()"
      ],
      "execution_count": 2,
      "outputs": [
        {
          "output_type": "display_data",
          "data": {
            "text/html": [
              "\n",
              "     <input type=\"file\" id=\"files-01c753c4-0ee2-4adc-a507-686fccb2ac76\" name=\"files[]\" multiple disabled\n",
              "        style=\"border:none\" />\n",
              "     <output id=\"result-01c753c4-0ee2-4adc-a507-686fccb2ac76\">\n",
              "      Upload widget is only available when the cell has been executed in the\n",
              "      current browser session. Please rerun this cell to enable.\n",
              "      </output>\n",
              "      <script src=\"/nbextensions/google.colab/files.js\"></script> "
            ],
            "text/plain": [
              "<IPython.core.display.HTML object>"
            ]
          },
          "metadata": {
            "tags": []
          }
        },
        {
          "output_type": "stream",
          "text": [
            "Saving imputed features_final.csv to imputed features_final.csv\n",
            "Saving Optimal_target_with_92_Q3_2점.csv to Optimal_target_with_92_Q3_2점.csv\n"
          ],
          "name": "stdout"
        }
      ]
    },
    {
      "cell_type": "code",
      "metadata": {
        "id": "1L_QrzRmTKaQ"
      },
      "source": [
        "import io\n",
        "feature = pd.read_csv(io.BytesIO(uploaded['imputed features_final.csv'])) \n",
        "optimal_target = pd.read_csv(io.BytesIO(uploaded['Optimal_target_with_92_Q3_2점.csv'])) "
      ],
      "execution_count": 15,
      "outputs": []
    },
    {
      "cell_type": "code",
      "metadata": {
        "id": "_4TRq06bT3fW"
      },
      "source": [
        "optimal_target = optimal_target.drop(columns = 'Unnamed: 0')\n",
        "feature = feature.drop(columns = 'Unnamed: 0')"
      ],
      "execution_count": 16,
      "outputs": []
    },
    {
      "cell_type": "code",
      "metadata": {
        "colab": {
          "base_uri": "https://localhost:8080/",
          "height": 304
        },
        "id": "i5g94NilUNvc",
        "outputId": "76461732-d9bf-48b5-d2eb-8d82d55dadbf"
      },
      "source": [
        "feature.describe()"
      ],
      "execution_count": 18,
      "outputs": [
        {
          "output_type": "execute_result",
          "data": {
            "text/html": [
              "<div>\n",
              "<style scoped>\n",
              "    .dataframe tbody tr th:only-of-type {\n",
              "        vertical-align: middle;\n",
              "    }\n",
              "\n",
              "    .dataframe tbody tr th {\n",
              "        vertical-align: top;\n",
              "    }\n",
              "\n",
              "    .dataframe thead th {\n",
              "        text-align: right;\n",
              "    }\n",
              "</style>\n",
              "<table border=\"1\" class=\"dataframe\">\n",
              "  <thead>\n",
              "    <tr style=\"text-align: right;\">\n",
              "      <th></th>\n",
              "      <th>SubjectID</th>\n",
              "      <th>Age</th>\n",
              "      <th>Gender</th>\n",
              "      <th>diag_delta</th>\n",
              "      <th>onset_delta</th>\n",
              "      <th>onset_site</th>\n",
              "      <th>diag_minus_onset</th>\n",
              "      <th>fvc_slope</th>\n",
              "      <th>fvc_mean</th>\n",
              "      <th>mean_alsfrs_total</th>\n",
              "      <th>mean_Q1_Speech</th>\n",
              "      <th>mean_Q2_Salivation</th>\n",
              "      <th>mean_Q3_Swallowing</th>\n",
              "      <th>mean_Q4_Handwriting</th>\n",
              "      <th>mean_Q5_Cutting</th>\n",
              "      <th>mean_Q6_Dressing_and_Hygiene</th>\n",
              "      <th>mean_Q7_Turning_in_Bed</th>\n",
              "      <th>mean_Q8_Walking</th>\n",
              "      <th>mean_Q9_Climbing_Stairs</th>\n",
              "      <th>mean_Q10_Respiratory</th>\n",
              "      <th>mean_Bulbar</th>\n",
              "      <th>mean_motor</th>\n",
              "      <th>slope_alsfrs_tot</th>\n",
              "      <th>slope_Q1_Speech</th>\n",
              "      <th>slope_Q2_Salivation</th>\n",
              "      <th>slope_Q3_Swallowing</th>\n",
              "      <th>slope_Q4_Handwriting</th>\n",
              "      <th>slope_Q5_Cutting</th>\n",
              "      <th>slope_Q6_Dressing_and_Hygiene</th>\n",
              "      <th>slope_Q7_Turning_in_Bed</th>\n",
              "      <th>slope_Q8_Walking</th>\n",
              "      <th>slope_Q9_Climbing_Stairs</th>\n",
              "      <th>slope_Q10_Respiratory</th>\n",
              "      <th>slope_Bulbar</th>\n",
              "      <th>slope_motor</th>\n",
              "    </tr>\n",
              "  </thead>\n",
              "  <tbody>\n",
              "    <tr>\n",
              "      <th>count</th>\n",
              "      <td>4454.000000</td>\n",
              "      <td>4454.000000</td>\n",
              "      <td>4454.000000</td>\n",
              "      <td>4454.000000</td>\n",
              "      <td>4454.000000</td>\n",
              "      <td>4454.000000</td>\n",
              "      <td>4454.000000</td>\n",
              "      <td>4454.000000</td>\n",
              "      <td>4454.000000</td>\n",
              "      <td>4454.000000</td>\n",
              "      <td>4454.000000</td>\n",
              "      <td>4454.000000</td>\n",
              "      <td>4454.000000</td>\n",
              "      <td>4454.000000</td>\n",
              "      <td>4454.000000</td>\n",
              "      <td>4454.000000</td>\n",
              "      <td>4454.000000</td>\n",
              "      <td>4454.000000</td>\n",
              "      <td>4454.000000</td>\n",
              "      <td>4454.000000</td>\n",
              "      <td>4454.000000</td>\n",
              "      <td>4454.000000</td>\n",
              "      <td>4454.000000</td>\n",
              "      <td>4454.000000</td>\n",
              "      <td>4454.000000</td>\n",
              "      <td>4454.000000</td>\n",
              "      <td>4454.000000</td>\n",
              "      <td>4454.000000</td>\n",
              "      <td>4454.000000</td>\n",
              "      <td>4454.000000</td>\n",
              "      <td>4454.000000</td>\n",
              "      <td>4454.000000</td>\n",
              "      <td>4454.000000</td>\n",
              "      <td>4454.000000</td>\n",
              "      <td>4454.000000</td>\n",
              "    </tr>\n",
              "    <tr>\n",
              "      <th>mean</th>\n",
              "      <td>502951.987652</td>\n",
              "      <td>55.442748</td>\n",
              "      <td>0.625056</td>\n",
              "      <td>-278.442748</td>\n",
              "      <td>-609.874944</td>\n",
              "      <td>0.199077</td>\n",
              "      <td>331.432196</td>\n",
              "      <td>-0.095553</td>\n",
              "      <td>80.145256</td>\n",
              "      <td>28.758350</td>\n",
              "      <td>3.098164</td>\n",
              "      <td>3.370428</td>\n",
              "      <td>3.416574</td>\n",
              "      <td>2.901893</td>\n",
              "      <td>2.574622</td>\n",
              "      <td>2.411366</td>\n",
              "      <td>2.960302</td>\n",
              "      <td>2.618122</td>\n",
              "      <td>1.856466</td>\n",
              "      <td>3.550132</td>\n",
              "      <td>6.515164</td>\n",
              "      <td>15.322883</td>\n",
              "      <td>-0.027981</td>\n",
              "      <td>-0.002049</td>\n",
              "      <td>-0.001586</td>\n",
              "      <td>-0.001909</td>\n",
              "      <td>-0.002833</td>\n",
              "      <td>-0.003747</td>\n",
              "      <td>-0.004004</td>\n",
              "      <td>0.012036</td>\n",
              "      <td>-0.002505</td>\n",
              "      <td>-0.004210</td>\n",
              "      <td>-0.001919</td>\n",
              "      <td>-0.003955</td>\n",
              "      <td>-0.020522</td>\n",
              "    </tr>\n",
              "    <tr>\n",
              "      <th>std</th>\n",
              "      <td>293006.073632</td>\n",
              "      <td>11.686189</td>\n",
              "      <td>0.484163</td>\n",
              "      <td>305.401815</td>\n",
              "      <td>391.917931</td>\n",
              "      <td>0.399466</td>\n",
              "      <td>251.209878</td>\n",
              "      <td>0.345993</td>\n",
              "      <td>21.012072</td>\n",
              "      <td>5.627361</td>\n",
              "      <td>0.993363</td>\n",
              "      <td>0.842266</td>\n",
              "      <td>0.752965</td>\n",
              "      <td>0.995237</td>\n",
              "      <td>1.126275</td>\n",
              "      <td>0.982517</td>\n",
              "      <td>0.914581</td>\n",
              "      <td>0.891939</td>\n",
              "      <td>1.282044</td>\n",
              "      <td>0.596866</td>\n",
              "      <td>1.644885</td>\n",
              "      <td>4.916685</td>\n",
              "      <td>0.069504</td>\n",
              "      <td>0.016784</td>\n",
              "      <td>0.017352</td>\n",
              "      <td>0.014878</td>\n",
              "      <td>0.016931</td>\n",
              "      <td>0.017627</td>\n",
              "      <td>0.016430</td>\n",
              "      <td>0.027147</td>\n",
              "      <td>0.013098</td>\n",
              "      <td>0.021998</td>\n",
              "      <td>0.018432</td>\n",
              "      <td>0.020840</td>\n",
              "      <td>0.053341</td>\n",
              "    </tr>\n",
              "    <tr>\n",
              "      <th>min</th>\n",
              "      <td>329.000000</td>\n",
              "      <td>18.000000</td>\n",
              "      <td>0.000000</td>\n",
              "      <td>-7372.000000</td>\n",
              "      <td>-8741.000000</td>\n",
              "      <td>-0.311379</td>\n",
              "      <td>-274.000000</td>\n",
              "      <td>-3.400000</td>\n",
              "      <td>0.000000</td>\n",
              "      <td>5.000000</td>\n",
              "      <td>0.000000</td>\n",
              "      <td>0.000000</td>\n",
              "      <td>0.000000</td>\n",
              "      <td>0.000000</td>\n",
              "      <td>0.000000</td>\n",
              "      <td>0.000000</td>\n",
              "      <td>0.000000</td>\n",
              "      <td>0.000000</td>\n",
              "      <td>0.000000</td>\n",
              "      <td>0.000000</td>\n",
              "      <td>0.000000</td>\n",
              "      <td>0.000000</td>\n",
              "      <td>-1.125000</td>\n",
              "      <td>-0.125000</td>\n",
              "      <td>-0.250506</td>\n",
              "      <td>-0.333333</td>\n",
              "      <td>-0.250000</td>\n",
              "      <td>-0.285714</td>\n",
              "      <td>-0.200000</td>\n",
              "      <td>-0.166667</td>\n",
              "      <td>-0.125000</td>\n",
              "      <td>-0.333333</td>\n",
              "      <td>-0.251044</td>\n",
              "      <td>-0.250000</td>\n",
              "      <td>-0.875000</td>\n",
              "    </tr>\n",
              "    <tr>\n",
              "      <th>25%</th>\n",
              "      <td>252186.250000</td>\n",
              "      <td>47.000000</td>\n",
              "      <td>0.000000</td>\n",
              "      <td>-367.000000</td>\n",
              "      <td>-755.000000</td>\n",
              "      <td>0.000000</td>\n",
              "      <td>167.000000</td>\n",
              "      <td>-0.234297</td>\n",
              "      <td>67.750000</td>\n",
              "      <td>25.666667</td>\n",
              "      <td>2.750000</td>\n",
              "      <td>3.000000</td>\n",
              "      <td>3.000000</td>\n",
              "      <td>2.700000</td>\n",
              "      <td>2.000000</td>\n",
              "      <td>2.000000</td>\n",
              "      <td>2.500000</td>\n",
              "      <td>2.000000</td>\n",
              "      <td>1.000000</td>\n",
              "      <td>3.200000</td>\n",
              "      <td>6.000000</td>\n",
              "      <td>12.500000</td>\n",
              "      <td>-0.048387</td>\n",
              "      <td>-0.000500</td>\n",
              "      <td>0.000000</td>\n",
              "      <td>0.000000</td>\n",
              "      <td>-0.001560</td>\n",
              "      <td>-0.011236</td>\n",
              "      <td>-0.011765</td>\n",
              "      <td>0.000000</td>\n",
              "      <td>0.000000</td>\n",
              "      <td>-0.011765</td>\n",
              "      <td>0.000000</td>\n",
              "      <td>-0.006193</td>\n",
              "      <td>-0.036551</td>\n",
              "    </tr>\n",
              "    <tr>\n",
              "      <th>50%</th>\n",
              "      <td>509788.500000</td>\n",
              "      <td>56.000000</td>\n",
              "      <td>1.000000</td>\n",
              "      <td>-191.000000</td>\n",
              "      <td>-529.000000</td>\n",
              "      <td>0.000000</td>\n",
              "      <td>273.000000</td>\n",
              "      <td>-0.076210</td>\n",
              "      <td>80.577463</td>\n",
              "      <td>29.000000</td>\n",
              "      <td>3.091153</td>\n",
              "      <td>3.666667</td>\n",
              "      <td>3.666667</td>\n",
              "      <td>3.000000</td>\n",
              "      <td>2.750000</td>\n",
              "      <td>2.426634</td>\n",
              "      <td>3.000000</td>\n",
              "      <td>2.609484</td>\n",
              "      <td>1.818979</td>\n",
              "      <td>3.800000</td>\n",
              "      <td>7.000000</td>\n",
              "      <td>15.419286</td>\n",
              "      <td>-0.024096</td>\n",
              "      <td>0.000000</td>\n",
              "      <td>0.000000</td>\n",
              "      <td>0.000000</td>\n",
              "      <td>0.000000</td>\n",
              "      <td>0.000000</td>\n",
              "      <td>0.000000</td>\n",
              "      <td>0.010989</td>\n",
              "      <td>0.000000</td>\n",
              "      <td>0.000000</td>\n",
              "      <td>0.000000</td>\n",
              "      <td>0.000000</td>\n",
              "      <td>-0.016411</td>\n",
              "    </tr>\n",
              "    <tr>\n",
              "      <th>75%</th>\n",
              "      <td>760948.750000</td>\n",
              "      <td>64.000000</td>\n",
              "      <td>1.000000</td>\n",
              "      <td>-89.000000</td>\n",
              "      <td>-355.000000</td>\n",
              "      <td>0.000000</td>\n",
              "      <td>421.000000</td>\n",
              "      <td>0.036917</td>\n",
              "      <td>94.000000</td>\n",
              "      <td>33.000000</td>\n",
              "      <td>4.000000</td>\n",
              "      <td>4.000000</td>\n",
              "      <td>4.000000</td>\n",
              "      <td>3.691667</td>\n",
              "      <td>3.500000</td>\n",
              "      <td>3.000000</td>\n",
              "      <td>4.000000</td>\n",
              "      <td>3.000000</td>\n",
              "      <td>3.000000</td>\n",
              "      <td>4.000000</td>\n",
              "      <td>8.000000</td>\n",
              "      <td>19.000000</td>\n",
              "      <td>0.000000</td>\n",
              "      <td>0.000000</td>\n",
              "      <td>0.000000</td>\n",
              "      <td>0.000000</td>\n",
              "      <td>0.000000</td>\n",
              "      <td>0.000000</td>\n",
              "      <td>0.000000</td>\n",
              "      <td>0.018182</td>\n",
              "      <td>0.000000</td>\n",
              "      <td>0.000000</td>\n",
              "      <td>0.000000</td>\n",
              "      <td>0.000000</td>\n",
              "      <td>0.000000</td>\n",
              "    </tr>\n",
              "    <tr>\n",
              "      <th>max</th>\n",
              "      <td>999990.000000</td>\n",
              "      <td>84.000000</td>\n",
              "      <td>1.000000</td>\n",
              "      <td>0.000000</td>\n",
              "      <td>-24.000000</td>\n",
              "      <td>1.000000</td>\n",
              "      <td>2708.000000</td>\n",
              "      <td>8.333333</td>\n",
              "      <td>154.000000</td>\n",
              "      <td>40.000000</td>\n",
              "      <td>4.000000</td>\n",
              "      <td>4.061079</td>\n",
              "      <td>4.000000</td>\n",
              "      <td>4.000000</td>\n",
              "      <td>4.000000</td>\n",
              "      <td>4.000000</td>\n",
              "      <td>4.000000</td>\n",
              "      <td>4.000000</td>\n",
              "      <td>4.000000</td>\n",
              "      <td>4.000000</td>\n",
              "      <td>8.000000</td>\n",
              "      <td>24.000000</td>\n",
              "      <td>1.666667</td>\n",
              "      <td>0.666667</td>\n",
              "      <td>0.230769</td>\n",
              "      <td>0.153846</td>\n",
              "      <td>0.333333</td>\n",
              "      <td>0.153846</td>\n",
              "      <td>0.285714</td>\n",
              "      <td>0.500000</td>\n",
              "      <td>0.333333</td>\n",
              "      <td>0.500000</td>\n",
              "      <td>0.333333</td>\n",
              "      <td>0.333333</td>\n",
              "      <td>1.000000</td>\n",
              "    </tr>\n",
              "  </tbody>\n",
              "</table>\n",
              "</div>"
            ],
            "text/plain": [
              "           SubjectID          Age  ...  slope_Bulbar  slope_motor\n",
              "count    4454.000000  4454.000000  ...   4454.000000  4454.000000\n",
              "mean   502951.987652    55.442748  ...     -0.003955    -0.020522\n",
              "std    293006.073632    11.686189  ...      0.020840     0.053341\n",
              "min       329.000000    18.000000  ...     -0.250000    -0.875000\n",
              "25%    252186.250000    47.000000  ...     -0.006193    -0.036551\n",
              "50%    509788.500000    56.000000  ...      0.000000    -0.016411\n",
              "75%    760948.750000    64.000000  ...      0.000000     0.000000\n",
              "max    999990.000000    84.000000  ...      0.333333     1.000000\n",
              "\n",
              "[8 rows x 35 columns]"
            ]
          },
          "metadata": {
            "tags": []
          },
          "execution_count": 18
        }
      ]
    },
    {
      "cell_type": "code",
      "metadata": {
        "colab": {
          "base_uri": "https://localhost:8080/",
          "height": 297
        },
        "id": "WCdPJmyxUxqx",
        "outputId": "4c9f5732-1882-4132-883f-8554a758c411"
      },
      "source": [
        "sns.histplot(x = feature['slope_Q3_Swallowing'])"
      ],
      "execution_count": 20,
      "outputs": [
        {
          "output_type": "execute_result",
          "data": {
            "text/plain": [
              "<matplotlib.axes._subplots.AxesSubplot at 0x7f34a7e38cd0>"
            ]
          },
          "metadata": {
            "tags": []
          },
          "execution_count": 20
        },
        {
          "output_type": "display_data",
          "data": {
            "image/png": "[encoded data removed]",
            "text/plain": [
              "<Figure size 432x288 with 1 Axes>"
            ]
          },
          "metadata": {
            "tags": [],
            "needs_background": "light"
          }
        }
      ]
    },
    {
      "cell_type": "code",
      "metadata": {
        "id": "LFyPqLH1YYyG"
      },
      "source": [
        "feature = feature[['SubjectID','Age', 'Gender', 'onset_site', 'onset_delta',\n",
        "       'diag_minus_onset', 'slope_alsfrs_tot',\n",
        "       'fvc_slope', 'fvc_mean',  'mean_Q10_Respiratory',\n",
        "       'mean_Bulbar', 'mean_motor', 'slope_Q1_Speech', 'slope_Q2_Salivation',\n",
        "       'slope_Q3_Swallowing', 'slope_Q4_Handwriting', 'slope_Q5_Cutting',\n",
        "       'slope_Q6_Dressing_and_Hygiene', 'slope_Q7_Turning_in_Bed',\n",
        "       'slope_Q8_Walking', 'slope_Q9_Climbing_Stairs', 'slope_Q10_Respiratory']]"
      ],
      "execution_count": 25,
      "outputs": []
    },
    {
      "cell_type": "markdown",
      "metadata": {
        "id": "tksLcuuhvXaR"
      },
      "source": [
        "##Classification with slope_Q3"
      ]
    },
    {
      "cell_type": "code",
      "metadata": {
        "colab": {
          "base_uri": "https://localhost:8080/"
        },
        "id": "wY6HtglMVkTT",
        "outputId": "6a71f27d-a82b-43b8-8e1c-15a21ec2b52f"
      },
      "source": [
        "feature_slow = feature[feature['slope_Q3_Swallowing']> 0]\n",
        "feature_medium = feature[feature['slope_Q3_Swallowing']== 0]\n",
        "feature_fast = feature[feature['slope_Q3_Swallowing']< 0]\n",
        "slow_list = list(feature_slow['SubjectID'])\n",
        "medium_list = list(feature_medium['SubjectID'])\n",
        "fast_list = list(feature_fast['SubjectID'])\n",
        "print(len(slow_list))\n",
        "print(len(medium_list))\n",
        "print(len(fast_list))"
      ],
      "execution_count": 26,
      "outputs": [
        {
          "output_type": "stream",
          "text": [
            "441\n",
            "3029\n",
            "984\n"
          ],
          "name": "stdout"
        }
      ]
    },
    {
      "cell_type": "code",
      "metadata": {
        "colab": {
          "base_uri": "https://localhost:8080/",
          "height": 422
        },
        "id": "6sNguA2kYF4P",
        "outputId": "414efba0-5322-412e-80c8-4107f83131dc"
      },
      "source": [
        "X_full = pd.merge(feature, optimal_target, on = 'SubjectID')\n",
        "X_slow = pd.merge(feature_slow, optimal_target, on = 'SubjectID')\n",
        "X_medium = pd.merge(feature_medium, optimal_target, on = 'SubjectID')\n",
        "X_fast = pd.merge(feature_fast, optimal_target, on = 'SubjectID')"
      ],
      "execution_count": 30,
      "outputs": [
        {
          "output_type": "execute_result",
          "data": {
            "text/html": [
              "<div>\n",
              "<style scoped>\n",
              "    .dataframe tbody tr th:only-of-type {\n",
              "        vertical-align: middle;\n",
              "    }\n",
              "\n",
              "    .dataframe tbody tr th {\n",
              "        vertical-align: top;\n",
              "    }\n",
              "\n",
              "    .dataframe thead th {\n",
              "        text-align: right;\n",
              "    }\n",
              "</style>\n",
              "<table border=\"1\" class=\"dataframe\">\n",
              "  <thead>\n",
              "    <tr style=\"text-align: right;\">\n",
              "      <th></th>\n",
              "      <th>SubjectID</th>\n",
              "      <th>Age</th>\n",
              "      <th>Gender</th>\n",
              "      <th>onset_site</th>\n",
              "      <th>onset_delta</th>\n",
              "      <th>diag_minus_onset</th>\n",
              "      <th>slope_alsfrs_tot</th>\n",
              "      <th>fvc_slope</th>\n",
              "      <th>fvc_mean</th>\n",
              "      <th>mean_Q10_Respiratory</th>\n",
              "      <th>mean_Bulbar</th>\n",
              "      <th>mean_motor</th>\n",
              "      <th>slope_Q1_Speech</th>\n",
              "      <th>slope_Q2_Salivation</th>\n",
              "      <th>slope_Q3_Swallowing</th>\n",
              "      <th>slope_Q4_Handwriting</th>\n",
              "      <th>slope_Q5_Cutting</th>\n",
              "      <th>slope_Q6_Dressing_and_Hygiene</th>\n",
              "      <th>slope_Q7_Turning_in_Bed</th>\n",
              "      <th>slope_Q8_Walking</th>\n",
              "      <th>slope_Q9_Climbing_Stairs</th>\n",
              "      <th>slope_Q10_Respiratory</th>\n",
              "      <th>time_opt</th>\n",
              "      <th>status_opt</th>\n",
              "    </tr>\n",
              "  </thead>\n",
              "  <tbody>\n",
              "    <tr>\n",
              "      <th>0</th>\n",
              "      <td>708.0</td>\n",
              "      <td>46.0</td>\n",
              "      <td>1.0</td>\n",
              "      <td>1.0</td>\n",
              "      <td>-1070.0</td>\n",
              "      <td>84.0</td>\n",
              "      <td>-0.021978</td>\n",
              "      <td>-0.061928</td>\n",
              "      <td>51.000000</td>\n",
              "      <td>2.833333</td>\n",
              "      <td>5.666667</td>\n",
              "      <td>20.916667</td>\n",
              "      <td>0.000000</td>\n",
              "      <td>-0.010989</td>\n",
              "      <td>-0.010989</td>\n",
              "      <td>0.000000</td>\n",
              "      <td>0.000000</td>\n",
              "      <td>0.010989</td>\n",
              "      <td>0.000000</td>\n",
              "      <td>0.000000</td>\n",
              "      <td>0.000000</td>\n",
              "      <td>-0.010989</td>\n",
              "      <td>35</td>\n",
              "      <td>1</td>\n",
              "    </tr>\n",
              "    <tr>\n",
              "      <th>1</th>\n",
              "      <td>3981.0</td>\n",
              "      <td>62.0</td>\n",
              "      <td>1.0</td>\n",
              "      <td>0.0</td>\n",
              "      <td>-210.0</td>\n",
              "      <td>120.0</td>\n",
              "      <td>-0.142857</td>\n",
              "      <td>-0.535109</td>\n",
              "      <td>99.500000</td>\n",
              "      <td>4.000000</td>\n",
              "      <td>7.200000</td>\n",
              "      <td>9.700000</td>\n",
              "      <td>-0.014286</td>\n",
              "      <td>0.014286</td>\n",
              "      <td>-0.014286</td>\n",
              "      <td>-0.014286</td>\n",
              "      <td>-0.028571</td>\n",
              "      <td>-0.028571</td>\n",
              "      <td>0.014286</td>\n",
              "      <td>-0.028571</td>\n",
              "      <td>0.000000</td>\n",
              "      <td>0.000000</td>\n",
              "      <td>70</td>\n",
              "      <td>0</td>\n",
              "    </tr>\n",
              "    <tr>\n",
              "      <th>2</th>\n",
              "      <td>5067.0</td>\n",
              "      <td>63.0</td>\n",
              "      <td>0.0</td>\n",
              "      <td>1.0</td>\n",
              "      <td>-449.0</td>\n",
              "      <td>365.0</td>\n",
              "      <td>0.285714</td>\n",
              "      <td>0.142857</td>\n",
              "      <td>62.000000</td>\n",
              "      <td>3.000000</td>\n",
              "      <td>5.500000</td>\n",
              "      <td>18.000000</td>\n",
              "      <td>0.000000</td>\n",
              "      <td>0.071429</td>\n",
              "      <td>-0.071429</td>\n",
              "      <td>0.071429</td>\n",
              "      <td>0.071429</td>\n",
              "      <td>0.071429</td>\n",
              "      <td>0.000000</td>\n",
              "      <td>0.000000</td>\n",
              "      <td>0.000000</td>\n",
              "      <td>0.000000</td>\n",
              "      <td>105</td>\n",
              "      <td>0</td>\n",
              "    </tr>\n",
              "    <tr>\n",
              "      <th>3</th>\n",
              "      <td>8586.0</td>\n",
              "      <td>40.0</td>\n",
              "      <td>1.0</td>\n",
              "      <td>0.0</td>\n",
              "      <td>-817.0</td>\n",
              "      <td>704.0</td>\n",
              "      <td>-0.070175</td>\n",
              "      <td>-0.151407</td>\n",
              "      <td>77.750000</td>\n",
              "      <td>3.333333</td>\n",
              "      <td>7.000000</td>\n",
              "      <td>16.000000</td>\n",
              "      <td>0.017544</td>\n",
              "      <td>-0.017544</td>\n",
              "      <td>-0.017544</td>\n",
              "      <td>0.000000</td>\n",
              "      <td>-0.017544</td>\n",
              "      <td>0.017544</td>\n",
              "      <td>0.000000</td>\n",
              "      <td>0.000000</td>\n",
              "      <td>-0.035088</td>\n",
              "      <td>-0.017544</td>\n",
              "      <td>219</td>\n",
              "      <td>0</td>\n",
              "    </tr>\n",
              "    <tr>\n",
              "      <th>4</th>\n",
              "      <td>11052.0</td>\n",
              "      <td>65.0</td>\n",
              "      <td>1.0</td>\n",
              "      <td>0.0</td>\n",
              "      <td>-310.0</td>\n",
              "      <td>221.0</td>\n",
              "      <td>-0.026772</td>\n",
              "      <td>-0.357143</td>\n",
              "      <td>107.500000</td>\n",
              "      <td>4.000000</td>\n",
              "      <td>7.000000</td>\n",
              "      <td>14.000000</td>\n",
              "      <td>-0.002287</td>\n",
              "      <td>0.001341</td>\n",
              "      <td>-0.000484</td>\n",
              "      <td>-0.010132</td>\n",
              "      <td>0.011024</td>\n",
              "      <td>0.007641</td>\n",
              "      <td>-0.014776</td>\n",
              "      <td>0.014726</td>\n",
              "      <td>-0.032831</td>\n",
              "      <td>-0.002837</td>\n",
              "      <td>14</td>\n",
              "      <td>0</td>\n",
              "    </tr>\n",
              "    <tr>\n",
              "      <th>...</th>\n",
              "      <td>...</td>\n",
              "      <td>...</td>\n",
              "      <td>...</td>\n",
              "      <td>...</td>\n",
              "      <td>...</td>\n",
              "      <td>...</td>\n",
              "      <td>...</td>\n",
              "      <td>...</td>\n",
              "      <td>...</td>\n",
              "      <td>...</td>\n",
              "      <td>...</td>\n",
              "      <td>...</td>\n",
              "      <td>...</td>\n",
              "      <td>...</td>\n",
              "      <td>...</td>\n",
              "      <td>...</td>\n",
              "      <td>...</td>\n",
              "      <td>...</td>\n",
              "      <td>...</td>\n",
              "      <td>...</td>\n",
              "      <td>...</td>\n",
              "      <td>...</td>\n",
              "      <td>...</td>\n",
              "      <td>...</td>\n",
              "    </tr>\n",
              "    <tr>\n",
              "      <th>509</th>\n",
              "      <td>994895.0</td>\n",
              "      <td>70.0</td>\n",
              "      <td>1.0</td>\n",
              "      <td>1.0</td>\n",
              "      <td>-332.0</td>\n",
              "      <td>151.0</td>\n",
              "      <td>-0.084507</td>\n",
              "      <td>-0.154866</td>\n",
              "      <td>51.893808</td>\n",
              "      <td>3.250000</td>\n",
              "      <td>3.750000</td>\n",
              "      <td>21.000000</td>\n",
              "      <td>-0.014085</td>\n",
              "      <td>-0.028169</td>\n",
              "      <td>-0.014085</td>\n",
              "      <td>0.000000</td>\n",
              "      <td>-0.014085</td>\n",
              "      <td>-0.014085</td>\n",
              "      <td>0.014085</td>\n",
              "      <td>-0.014085</td>\n",
              "      <td>0.000000</td>\n",
              "      <td>0.014085</td>\n",
              "      <td>45</td>\n",
              "      <td>1</td>\n",
              "    </tr>\n",
              "    <tr>\n",
              "      <th>510</th>\n",
              "      <td>995893.0</td>\n",
              "      <td>46.0</td>\n",
              "      <td>0.0</td>\n",
              "      <td>1.0</td>\n",
              "      <td>-274.0</td>\n",
              "      <td>62.0</td>\n",
              "      <td>-0.058824</td>\n",
              "      <td>-0.057877</td>\n",
              "      <td>94.283933</td>\n",
              "      <td>4.000000</td>\n",
              "      <td>4.500000</td>\n",
              "      <td>8.750000</td>\n",
              "      <td>0.000000</td>\n",
              "      <td>0.011765</td>\n",
              "      <td>-0.011765</td>\n",
              "      <td>-0.035294</td>\n",
              "      <td>0.000000</td>\n",
              "      <td>0.000000</td>\n",
              "      <td>0.011765</td>\n",
              "      <td>0.000000</td>\n",
              "      <td>-0.011765</td>\n",
              "      <td>0.000000</td>\n",
              "      <td>85</td>\n",
              "      <td>1</td>\n",
              "    </tr>\n",
              "    <tr>\n",
              "      <th>511</th>\n",
              "      <td>997336.0</td>\n",
              "      <td>43.0</td>\n",
              "      <td>0.0</td>\n",
              "      <td>0.0</td>\n",
              "      <td>-390.0</td>\n",
              "      <td>349.0</td>\n",
              "      <td>-0.071429</td>\n",
              "      <td>-0.110052</td>\n",
              "      <td>105.800000</td>\n",
              "      <td>4.000000</td>\n",
              "      <td>6.000000</td>\n",
              "      <td>11.500000</td>\n",
              "      <td>-0.011905</td>\n",
              "      <td>0.000000</td>\n",
              "      <td>-0.011905</td>\n",
              "      <td>0.000000</td>\n",
              "      <td>-0.011905</td>\n",
              "      <td>-0.023810</td>\n",
              "      <td>0.000000</td>\n",
              "      <td>0.000000</td>\n",
              "      <td>0.000000</td>\n",
              "      <td>0.000000</td>\n",
              "      <td>91</td>\n",
              "      <td>0</td>\n",
              "    </tr>\n",
              "    <tr>\n",
              "      <th>512</th>\n",
              "      <td>999166.0</td>\n",
              "      <td>60.0</td>\n",
              "      <td>1.0</td>\n",
              "      <td>1.0</td>\n",
              "      <td>-999.0</td>\n",
              "      <td>950.0</td>\n",
              "      <td>-0.027239</td>\n",
              "      <td>-0.333333</td>\n",
              "      <td>75.000000</td>\n",
              "      <td>4.000000</td>\n",
              "      <td>7.000000</td>\n",
              "      <td>21.000000</td>\n",
              "      <td>-0.000952</td>\n",
              "      <td>-0.002490</td>\n",
              "      <td>-0.003335</td>\n",
              "      <td>0.009007</td>\n",
              "      <td>-0.000594</td>\n",
              "      <td>-0.012669</td>\n",
              "      <td>-0.008895</td>\n",
              "      <td>-0.025678</td>\n",
              "      <td>-0.036810</td>\n",
              "      <td>-0.002018</td>\n",
              "      <td>390</td>\n",
              "      <td>0</td>\n",
              "    </tr>\n",
              "    <tr>\n",
              "      <th>513</th>\n",
              "      <td>999823.0</td>\n",
              "      <td>55.0</td>\n",
              "      <td>1.0</td>\n",
              "      <td>0.0</td>\n",
              "      <td>-492.0</td>\n",
              "      <td>408.0</td>\n",
              "      <td>-0.024390</td>\n",
              "      <td>-0.025981</td>\n",
              "      <td>100.800000</td>\n",
              "      <td>4.000000</td>\n",
              "      <td>5.500000</td>\n",
              "      <td>22.750000</td>\n",
              "      <td>-0.012195</td>\n",
              "      <td>0.000000</td>\n",
              "      <td>-0.012195</td>\n",
              "      <td>0.000000</td>\n",
              "      <td>0.000000</td>\n",
              "      <td>0.000000</td>\n",
              "      <td>0.012195</td>\n",
              "      <td>0.000000</td>\n",
              "      <td>0.000000</td>\n",
              "      <td>0.000000</td>\n",
              "      <td>91</td>\n",
              "      <td>1</td>\n",
              "    </tr>\n",
              "  </tbody>\n",
              "</table>\n",
              "<p>514 rows × 24 columns</p>\n",
              "</div>"
            ],
            "text/plain": [
              "     SubjectID   Age  Gender  ...  slope_Q10_Respiratory  time_opt  status_opt\n",
              "0        708.0  46.0     1.0  ...              -0.010989        35           1\n",
              "1       3981.0  62.0     1.0  ...               0.000000        70           0\n",
              "2       5067.0  63.0     0.0  ...               0.000000       105           0\n",
              "3       8586.0  40.0     1.0  ...              -0.017544       219           0\n",
              "4      11052.0  65.0     1.0  ...              -0.002837        14           0\n",
              "..         ...   ...     ...  ...                    ...       ...         ...\n",
              "509   994895.0  70.0     1.0  ...               0.014085        45           1\n",
              "510   995893.0  46.0     0.0  ...               0.000000        85           1\n",
              "511   997336.0  43.0     0.0  ...               0.000000        91           0\n",
              "512   999166.0  60.0     1.0  ...              -0.002018       390           0\n",
              "513   999823.0  55.0     1.0  ...               0.000000        91           1\n",
              "\n",
              "[514 rows x 24 columns]"
            ]
          },
          "metadata": {
            "tags": []
          },
          "execution_count": 30
        }
      ]
    },
    {
      "cell_type": "markdown",
      "metadata": {
        "id": "wprewNzCvooE"
      },
      "source": [
        "##Create virtual patient for each class"
      ]
    },
    {
      "cell_type": "code",
      "metadata": {
        "id": "0hIQtXycbBYC"
      },
      "source": [
        "VIRT_slow = pd.DataFrame(X_slow.mean()).transpose().iloc[:, 1:-2]\n",
        "VIRT_medium = pd.DataFrame(X_medium.mean()).transpose().iloc[:, 1:-2]\n",
        "VIRT_fast = pd.DataFrame(X_fast.mean()).transpose().iloc[:, 1:-2]"
      ],
      "execution_count": 32,
      "outputs": []
    },
    {
      "cell_type": "markdown",
      "metadata": {
        "id": "3I5ZHYllwWku"
      },
      "source": [
        "##Fitting model"
      ]
    },
    {
      "cell_type": "code",
      "metadata": {
        "id": "X6-fGUh_cWOD"
      },
      "source": [
        "df_train = X_full.drop(columns='SubjectID')"
      ],
      "execution_count": 33,
      "outputs": []
    },
    {
      "cell_type": "code",
      "metadata": {
        "colab": {
          "base_uri": "https://localhost:8080/"
        },
        "id": "lKPM73cudGbn",
        "outputId": "bec89dd7-9b6c-47b6-c25b-47b672942245"
      },
      "source": [
        "!pip install lifelines"
      ],
      "execution_count": 34,
      "outputs": [
        {
          "output_type": "stream",
          "text": [
            "Collecting lifelines\n",
            "\u001b[?25l  Downloading https://files.pythonhosted.org/packages/51/af/6b2815701c12d6dc8be11c9234fe87bb55b51788d9cc41b39c92952d577a/lifelines-0.25.11-py3-none-any.whl (348kB)\n",
            "\u001b[K     |████████████████████████████████| 348kB 2.9MB/s \n",
            "\u001b[?25hRequirement already satisfied: matplotlib>=3.0 in /usr/local/lib/python3.7/dist-packages (from lifelines) (3.2.2)\n",
            "Requirement already satisfied: numpy>=1.14.0 in /usr/local/lib/python3.7/dist-packages (from lifelines) (1.19.5)\n",
            "Collecting autograd-gamma>=0.3\n",
            "  Downloading https://files.pythonhosted.org/packages/85/ae/7f2031ea76140444b2453fa139041e5afd4a09fc5300cfefeb1103291f80/autograd-gamma-0.5.0.tar.gz\n",
            "Requirement already satisfied: pandas>=0.23.0 in /usr/local/lib/python3.7/dist-packages (from lifelines) (1.1.5)\n",
            "Requirement already satisfied: scipy>=1.2.0 in /usr/local/lib/python3.7/dist-packages (from lifelines) (1.4.1)\n",
            "Collecting formulaic<0.3,>=0.2.2\n",
            "\u001b[?25l  Downloading https://files.pythonhosted.org/packages/02/64/6702b5cadc89ece93af2e01996504f3a895196354a35713e2ef22f089d3e/formulaic-0.2.3-py3-none-any.whl (55kB)\n",
            "\u001b[K     |████████████████████████████████| 61kB 6.3MB/s \n",
            "\u001b[?25hRequirement already satisfied: autograd>=1.3 in /usr/local/lib/python3.7/dist-packages (from lifelines) (1.3)\n",
            "Requirement already satisfied: cycler>=0.10 in /usr/local/lib/python3.7/dist-packages (from matplotlib>=3.0->lifelines) (0.10.0)\n",
            "Requirement already satisfied: python-dateutil>=2.1 in /usr/local/lib/python3.7/dist-packages (from matplotlib>=3.0->lifelines) (2.8.1)\n",
            "Requirement already satisfied: pyparsing!=2.0.4,!=2.1.2,!=2.1.6,>=2.0.1 in /usr/local/lib/python3.7/dist-packages (from matplotlib>=3.0->lifelines) (2.4.7)\n",
            "Requirement already satisfied: kiwisolver>=1.0.1 in /usr/local/lib/python3.7/dist-packages (from matplotlib>=3.0->lifelines) (1.3.1)\n",
            "Requirement already satisfied: pytz>=2017.2 in /usr/local/lib/python3.7/dist-packages (from pandas>=0.23.0->lifelines) (2018.9)\n",
            "Requirement already satisfied: astor in /usr/local/lib/python3.7/dist-packages (from formulaic<0.3,>=0.2.2->lifelines) (0.8.1)\n",
            "Requirement already satisfied: wrapt in /usr/local/lib/python3.7/dist-packages (from formulaic<0.3,>=0.2.2->lifelines) (1.12.1)\n",
            "Collecting interface-meta>=1.2\n",
            "  Downloading https://files.pythonhosted.org/packages/71/31/5e474208f5df9012ebecfaa23884b14f93671ea4f4f6d468eb096b73e499/interface_meta-1.2.3-py2.py3-none-any.whl\n",
            "Requirement already satisfied: future>=0.15.2 in /usr/local/lib/python3.7/dist-packages (from autograd>=1.3->lifelines) (0.16.0)\n",
            "Requirement already satisfied: six in /usr/local/lib/python3.7/dist-packages (from cycler>=0.10->matplotlib>=3.0->lifelines) (1.15.0)\n",
            "Building wheels for collected packages: autograd-gamma\n",
            "  Building wheel for autograd-gamma (setup.py) ... \u001b[?25l\u001b[?25hdone\n",
            "  Created wheel for autograd-gamma: filename=autograd_gamma-0.5.0-cp37-none-any.whl size=4035 sha256=974abed4c8bf4d298bf9468009759eb7b3454aebcce31ee522b7af3bcc0e5040\n",
            "  Stored in directory: /root/.cache/pip/wheels/dc/68/dc/91321c55fba449755524481854f5be70d41912b8f886f908bb\n",
            "Successfully built autograd-gamma\n",
            "Installing collected packages: autograd-gamma, interface-meta, formulaic, lifelines\n",
            "Successfully installed autograd-gamma-0.5.0 formulaic-0.2.3 interface-meta-1.2.3 lifelines-0.25.11\n"
          ],
          "name": "stdout"
        }
      ]
    },
    {
      "cell_type": "markdown",
      "metadata": {
        "id": "nQz4CgFfwukL"
      },
      "source": [
        "### Cox Proprotion Hazard model"
      ]
    },
    {
      "cell_type": "code",
      "metadata": {
        "colab": {
          "base_uri": "https://localhost:8080/"
        },
        "id": "vZncnZZvc9xn",
        "outputId": "26535b1d-fb64-4bfe-c143-bb786abe467e"
      },
      "source": [
        "from lifelines import CoxPHFitter\n",
        "cph = CoxPHFitter(penalizer=0.01)\n",
        "cph.fit(df_train, 'time_opt', event_col='status_opt')"
      ],
      "execution_count": 35,
      "outputs": [
        {
          "output_type": "execute_result",
          "data": {
            "text/plain": [
              "<lifelines.CoxPHFitter: fitted with 3399 total observations, 2234 right-censored observations>"
            ]
          },
          "metadata": {
            "tags": []
          },
          "execution_count": 35
        }
      ]
    },
    {
      "cell_type": "code",
      "metadata": {
        "id": "lvcH2ackdScu"
      },
      "source": [
        "result_cph_slow = cph.predict_survival_function(VIRT_slow)\n",
        "result_cph_medium = cph.predict_survival_function(VIRT_medium)\n",
        "result_cph_fast = cph.predict_survival_function(VIRT_fast)"
      ],
      "execution_count": 37,
      "outputs": []
    },
    {
      "cell_type": "code",
      "metadata": {
        "colab": {
          "base_uri": "https://localhost:8080/"
        },
        "id": "oV-W4g0Tdprf",
        "outputId": "bc0da572-8a64-452a-f68c-568d73073c4b"
      },
      "source": [
        "!pip install --upgrade pip\n",
        "!pip uninstall --yes --quiet osqp\n",
        "!pip install -U scikit-survival"
      ],
      "execution_count": 38,
      "outputs": [
        {
          "output_type": "stream",
          "text": [
            "Collecting pip\n",
            "\u001b[?25l  Downloading https://files.pythonhosted.org/packages/cd/6f/43037c7bcc8bd8ba7c9074256b1a11596daa15555808ec748048c1507f08/pip-21.1.1-py3-none-any.whl (1.5MB)\n",
            "\u001b[K     |████████████████████████████████| 1.6MB 2.8MB/s \n",
            "\u001b[?25hInstalling collected packages: pip\n",
            "  Found existing installation: pip 19.3.1\n",
            "    Uninstalling pip-19.3.1:\n",
            "      Successfully uninstalled pip-19.3.1\n",
            "Successfully installed pip-21.1.1\n",
            "\u001b[33mWARNING: Running pip as root will break packages and permissions. You should install packages reliably by using venv: https://pip.pypa.io/warnings/venv\u001b[0m\n",
            "Collecting scikit-survival\n",
            "  Downloading scikit-survival-0.15.0.post0.tar.gz (2.4 MB)\n",
            "\u001b[K     |████████████████████████████████| 2.4 MB 2.9 MB/s \n",
            "\u001b[?25h  Installing build dependencies ... \u001b[?25l\u001b[?25hdone\n",
            "  Getting requirements to build wheel ... \u001b[?25l\u001b[?25herror\n",
            "\u001b[33mWARNING: Discarding https://files.pythonhosted.org/packages/91/f0/047ce90bb831ab34ca287d1d23f0c61b6546cd89494566898c0e17516990/scikit-survival-0.15.0.post0.tar.gz#sha256=572c3ac6818a9d0944fc4b8176eb948051654de857e28419ecc5060bcc6fbf37 (from https://pypi.org/simple/scikit-survival/) (requires-python:>=3.7). Command errored out with exit status 1: /usr/bin/python3 /usr/local/lib/python3.7/dist-packages/pip/_vendor/pep517/in_process/_in_process.py get_requires_for_build_wheel /tmp/tmp4qlfzp5s Check the logs for full command output.\u001b[0m\n",
            "  Downloading scikit-survival-0.14.0.tar.gz (2.3 MB)\n",
            "\u001b[K     |████████████████████████████████| 2.3 MB 23.9 MB/s \n",
            "\u001b[?25h  Installing build dependencies ... \u001b[?25l\u001b[?25hdone\n",
            "  Getting requirements to build wheel ... \u001b[?25l\u001b[?25hdone\n",
            "    Preparing wheel metadata ... \u001b[?25l\u001b[?25hdone\n",
            "Requirement already satisfied: numexpr in /usr/local/lib/python3.7/dist-packages (from scikit-survival) (2.7.3)\n",
            "Requirement already satisfied: numpy in /usr/local/lib/python3.7/dist-packages (from scikit-survival) (1.19.5)\n",
            "Requirement already satisfied: scipy!=1.3.0,>=1.0 in /usr/local/lib/python3.7/dist-packages (from scikit-survival) (1.4.1)\n",
            "Requirement already satisfied: pandas>=0.21 in /usr/local/lib/python3.7/dist-packages (from scikit-survival) (1.1.5)\n",
            "Requirement already satisfied: cvxopt in /usr/local/lib/python3.7/dist-packages (from scikit-survival) (1.2.6)\n",
            "Requirement already satisfied: joblib in /usr/local/lib/python3.7/dist-packages (from scikit-survival) (1.0.1)\n",
            "Requirement already satisfied: cvxpy>=1.0 in /usr/local/lib/python3.7/dist-packages (from scikit-survival) (1.0.31)\n",
            "Collecting osqp!=0.6.0,!=0.6.1\n",
            "  Downloading osqp-0.6.2.post0-cp37-cp37m-manylinux2014_x86_64.whl (212 kB)\n",
            "\u001b[K     |████████████████████████████████| 212 kB 39.3 MB/s \n",
            "\u001b[?25hRequirement already satisfied: scikit-learn<0.24,>=0.22.0 in /usr/local/lib/python3.7/dist-packages (from scikit-survival) (0.22.2.post1)\n",
            "Requirement already satisfied: ecos>=2 in /usr/local/lib/python3.7/dist-packages (from cvxpy>=1.0->scikit-survival) (2.0.7.post1)\n",
            "Requirement already satisfied: multiprocess in /usr/local/lib/python3.7/dist-packages (from cvxpy>=1.0->scikit-survival) (0.70.11.1)\n",
            "Requirement already satisfied: scs>=1.1.3 in /usr/local/lib/python3.7/dist-packages (from cvxpy>=1.0->scikit-survival) (2.1.3)\n",
            "Requirement already satisfied: qdldl in /usr/local/lib/python3.7/dist-packages (from osqp!=0.6.0,!=0.6.1->scikit-survival) (0.1.5.post0)\n",
            "Requirement already satisfied: pytz>=2017.2 in /usr/local/lib/python3.7/dist-packages (from pandas>=0.21->scikit-survival) (2018.9)\n",
            "Requirement already satisfied: python-dateutil>=2.7.3 in /usr/local/lib/python3.7/dist-packages (from pandas>=0.21->scikit-survival) (2.8.1)\n",
            "Requirement already satisfied: six>=1.5 in /usr/local/lib/python3.7/dist-packages (from python-dateutil>=2.7.3->pandas>=0.21->scikit-survival) (1.15.0)\n",
            "Requirement already satisfied: dill>=0.3.3 in /usr/local/lib/python3.7/dist-packages (from multiprocess->cvxpy>=1.0->scikit-survival) (0.3.3)\n",
            "Building wheels for collected packages: scikit-survival\n",
            "  Building wheel for scikit-survival (PEP 517) ... \u001b[?25l\u001b[?25hdone\n",
            "  Created wheel for scikit-survival: filename=scikit_survival-0.14.0-cp37-cp37m-linux_x86_64.whl size=4061838 sha256=322146bdbd131ede1df12483fc7877d67ee76fe98859998b08b325fd8bbbb16a\n",
            "  Stored in directory: /root/.cache/pip/wheels/a2/3e/97/3722ba215d3dfe5429c1a7e4f24f535a3f46004fb29a16d505\n",
            "Successfully built scikit-survival\n",
            "Installing collected packages: osqp, scikit-survival\n",
            "Successfully installed osqp-0.6.2.post0 scikit-survival-0.14.0\n",
            "\u001b[33mWARNING: Running pip as root will break packages and permissions. You should install packages reliably by using venv: https://pip.pypa.io/warnings/venv\u001b[0m\n"
          ],
          "name": "stdout"
        }
      ]
    },
    {
      "cell_type": "markdown",
      "metadata": {
        "id": "DhTwMoSPw0LN"
      },
      "source": [
        "### Random Survival Forest"
      ]
    },
    {
      "cell_type": "code",
      "metadata": {
        "id": "XJComEUMdrAi"
      },
      "source": [
        "from sksurv.ensemble import RandomSurvivalForest"
      ],
      "execution_count": 39,
      "outputs": []
    },
    {
      "cell_type": "code",
      "metadata": {
        "id": "vOUKYbRRdu7B"
      },
      "source": [
        "dic = {1:True, 0:False}\n",
        "\n",
        "df_train_rsf = df_train.iloc[:, -2:][['status_opt', 'time_opt']]\n",
        "df_train_rsf = df_train_rsf.replace({'status_opt':dic})"
      ],
      "execution_count": 40,
      "outputs": []
    },
    {
      "cell_type": "code",
      "metadata": {
        "id": "hw7IXChgdyti"
      },
      "source": [
        "arr_1 = list(tuple(x) for x in df_train_rsf.to_records(index=False))\n",
        "dt=np.dtype('bool, float')\n",
        "y_train_rsf = np.array(arr_1, dtype=dt)\n",
        "y_train_rsf.dtype.names=['cens', 'time']"
      ],
      "execution_count": 41,
      "outputs": []
    },
    {
      "cell_type": "code",
      "metadata": {
        "colab": {
          "base_uri": "https://localhost:8080/"
        },
        "id": "RmKsm_F3dz4h",
        "outputId": "619eafa9-1c52-4df4-e9fe-fd0807fa13ce"
      },
      "source": [
        "rsf = RandomSurvivalForest(n_estimators=1000,\n",
        "                           min_samples_split=10,\n",
        "                           min_samples_leaf=15,\n",
        "                           max_features=\"sqrt\",\n",
        "                           n_jobs=-1,\n",
        "                           random_state=20)\n",
        "rsf.fit(df_train.iloc[:,:-2], y_train_rsf)"
      ],
      "execution_count": 42,
      "outputs": [
        {
          "output_type": "execute_result",
          "data": {
            "text/plain": [
              "RandomSurvivalForest(bootstrap=True, max_depth=None, max_features='sqrt',\n",
              "                     max_leaf_nodes=None, max_samples=None, min_samples_leaf=15,\n",
              "                     min_samples_split=10, min_weight_fraction_leaf=0.0,\n",
              "                     n_estimators=1000, n_jobs=-1, oob_score=False,\n",
              "                     random_state=20, verbose=0, warm_start=False)"
            ]
          },
          "metadata": {
            "tags": []
          },
          "execution_count": 42
        }
      ]
    },
    {
      "cell_type": "code",
      "metadata": {
        "id": "u7bk2Ew1d5Cj"
      },
      "source": [
        "result_rsf_slow = rsf.predict_survival_function(VIRT_slow, return_array=True)\n",
        "result_rsf_medium = rsf.predict_survival_function(VIRT_medium, return_array=True)\n",
        "result_rsf_fast = rsf.predict_survival_function(VIRT_fast, return_array=True)"
      ],
      "execution_count": 44,
      "outputs": []
    },
    {
      "cell_type": "markdown",
      "metadata": {
        "id": "Pj0Nc1w05elz"
      },
      "source": [
        "### Accelerated Failure Time model"
      ]
    },
    {
      "cell_type": "code",
      "metadata": {
        "id": "xbooTg1r5sTd"
      },
      "source": [
        "from lifelines import WeibullAFTFitter"
      ],
      "execution_count": 78,
      "outputs": []
    },
    {
      "cell_type": "code",
      "metadata": {
        "colab": {
          "base_uri": "https://localhost:8080/"
        },
        "id": "_EjAfyQB6FBE",
        "outputId": "5cb4636a-7d3e-40d9-de6e-0793a9e39ea1"
      },
      "source": [
        "aft = WeibullAFTFitter()\n",
        "aft.fit(df_train, 'time_opt', 'status_opt', ancillary=False)"
      ],
      "execution_count": 79,
      "outputs": [
        {
          "output_type": "execute_result",
          "data": {
            "text/plain": [
              "<lifelines.WeibullAFTFitter: fitted with 3399 total observations, 2234 right-censored observations>"
            ]
          },
          "metadata": {
            "tags": []
          },
          "execution_count": 79
        }
      ]
    },
    {
      "cell_type": "code",
      "metadata": {
        "id": "ooyJkN1g6PPa"
      },
      "source": [
        "result_wft_slow = aft.predict_survival_function(VIRT_slow)\n",
        "result_wft_medium = aft.predict_survival_function(VIRT_medium)\n",
        "result_wft_fast = aft.predict_survival_function(VIRT_fast)"
      ],
      "execution_count": 81,
      "outputs": []
    },
    {
      "cell_type": "code",
      "metadata": {
        "colab": {
          "base_uri": "https://localhost:8080/",
          "height": 195
        },
        "id": "qjUjbr5BehRS",
        "outputId": "bb28ce95-c10c-462b-c705-29ab19dba663"
      },
      "source": [
        "result_cph_slow[result_cph_slow[0]<=0.51].head()"
      ],
      "execution_count": 43,
      "outputs": [
        {
          "output_type": "execute_result",
          "data": {
            "text/html": [
              "<div>\n",
              "<style scoped>\n",
              "    .dataframe tbody tr th:only-of-type {\n",
              "        vertical-align: middle;\n",
              "    }\n",
              "\n",
              "    .dataframe tbody tr th {\n",
              "        vertical-align: top;\n",
              "    }\n",
              "\n",
              "    .dataframe thead th {\n",
              "        text-align: right;\n",
              "    }\n",
              "</style>\n",
              "<table border=\"1\" class=\"dataframe\">\n",
              "  <thead>\n",
              "    <tr style=\"text-align: right;\">\n",
              "      <th></th>\n",
              "      <th>0</th>\n",
              "    </tr>\n",
              "  </thead>\n",
              "  <tbody>\n",
              "    <tr>\n",
              "      <th>507.0</th>\n",
              "      <td>0.509752</td>\n",
              "    </tr>\n",
              "    <tr>\n",
              "      <th>508.0</th>\n",
              "      <td>0.506279</td>\n",
              "    </tr>\n",
              "    <tr>\n",
              "      <th>509.0</th>\n",
              "      <td>0.506279</td>\n",
              "    </tr>\n",
              "    <tr>\n",
              "      <th>510.0</th>\n",
              "      <td>0.502682</td>\n",
              "    </tr>\n",
              "    <tr>\n",
              "      <th>511.0</th>\n",
              "      <td>0.499086</td>\n",
              "    </tr>\n",
              "  </tbody>\n",
              "</table>\n",
              "</div>"
            ],
            "text/plain": [
              "              0\n",
              "507.0  0.509752\n",
              "508.0  0.506279\n",
              "509.0  0.506279\n",
              "510.0  0.502682\n",
              "511.0  0.499086"
            ]
          },
          "metadata": {
            "tags": []
          },
          "execution_count": 43
        }
      ]
    },
    {
      "cell_type": "code",
      "metadata": {
        "colab": {
          "base_uri": "https://localhost:8080/",
          "height": 343
        },
        "id": "-LzZwFa6fm44",
        "outputId": "9093e253-9e25-4b62-9ddc-71e15ca42b03"
      },
      "source": [
        "result_cph_medium[result_cph_medium[0]<=0.51].iloc[:10]\n"
      ],
      "execution_count": 51,
      "outputs": [
        {
          "output_type": "execute_result",
          "data": {
            "text/html": [
              "<div>\n",
              "<style scoped>\n",
              "    .dataframe tbody tr th:only-of-type {\n",
              "        vertical-align: middle;\n",
              "    }\n",
              "\n",
              "    .dataframe tbody tr th {\n",
              "        vertical-align: top;\n",
              "    }\n",
              "\n",
              "    .dataframe thead th {\n",
              "        text-align: right;\n",
              "    }\n",
              "</style>\n",
              "<table border=\"1\" class=\"dataframe\">\n",
              "  <thead>\n",
              "    <tr style=\"text-align: right;\">\n",
              "      <th></th>\n",
              "      <th>0</th>\n",
              "    </tr>\n",
              "  </thead>\n",
              "  <tbody>\n",
              "    <tr>\n",
              "      <th>576.0</th>\n",
              "      <td>0.509813</td>\n",
              "    </tr>\n",
              "    <tr>\n",
              "      <th>577.0</th>\n",
              "      <td>0.509813</td>\n",
              "    </tr>\n",
              "    <tr>\n",
              "      <th>578.0</th>\n",
              "      <td>0.509813</td>\n",
              "    </tr>\n",
              "    <tr>\n",
              "      <th>579.0</th>\n",
              "      <td>0.509813</td>\n",
              "    </tr>\n",
              "    <tr>\n",
              "      <th>580.0</th>\n",
              "      <td>0.509813</td>\n",
              "    </tr>\n",
              "    <tr>\n",
              "      <th>582.0</th>\n",
              "      <td>0.509813</td>\n",
              "    </tr>\n",
              "    <tr>\n",
              "      <th>588.0</th>\n",
              "      <td>0.504745</td>\n",
              "    </tr>\n",
              "    <tr>\n",
              "      <th>589.0</th>\n",
              "      <td>0.499587</td>\n",
              "    </tr>\n",
              "    <tr>\n",
              "      <th>592.0</th>\n",
              "      <td>0.499587</td>\n",
              "    </tr>\n",
              "    <tr>\n",
              "      <th>594.0</th>\n",
              "      <td>0.499587</td>\n",
              "    </tr>\n",
              "  </tbody>\n",
              "</table>\n",
              "</div>"
            ],
            "text/plain": [
              "              0\n",
              "576.0  0.509813\n",
              "577.0  0.509813\n",
              "578.0  0.509813\n",
              "579.0  0.509813\n",
              "580.0  0.509813\n",
              "582.0  0.509813\n",
              "588.0  0.504745\n",
              "589.0  0.499587\n",
              "592.0  0.499587\n",
              "594.0  0.499587"
            ]
          },
          "metadata": {
            "tags": []
          },
          "execution_count": 51
        }
      ]
    },
    {
      "cell_type": "code",
      "metadata": {
        "colab": {
          "base_uri": "https://localhost:8080/",
          "height": 343
        },
        "id": "oCmupijVfn4h",
        "outputId": "a81d236c-8335-4b1e-a7f3-3c541dc9d9bb"
      },
      "source": [
        "result_cph_fast[result_cph_fast[0]<=0.51].iloc[:10]"
      ],
      "execution_count": 53,
      "outputs": [
        {
          "output_type": "execute_result",
          "data": {
            "text/html": [
              "<div>\n",
              "<style scoped>\n",
              "    .dataframe tbody tr th:only-of-type {\n",
              "        vertical-align: middle;\n",
              "    }\n",
              "\n",
              "    .dataframe tbody tr th {\n",
              "        vertical-align: top;\n",
              "    }\n",
              "\n",
              "    .dataframe thead th {\n",
              "        text-align: right;\n",
              "    }\n",
              "</style>\n",
              "<table border=\"1\" class=\"dataframe\">\n",
              "  <thead>\n",
              "    <tr style=\"text-align: right;\">\n",
              "      <th></th>\n",
              "      <th>0</th>\n",
              "    </tr>\n",
              "  </thead>\n",
              "  <tbody>\n",
              "    <tr>\n",
              "      <th>249.0</th>\n",
              "      <td>0.509596</td>\n",
              "    </tr>\n",
              "    <tr>\n",
              "      <th>250.0</th>\n",
              "      <td>0.507149</td>\n",
              "    </tr>\n",
              "    <tr>\n",
              "      <th>251.0</th>\n",
              "      <td>0.505519</td>\n",
              "    </tr>\n",
              "    <tr>\n",
              "      <th>252.0</th>\n",
              "      <td>0.501454</td>\n",
              "    </tr>\n",
              "    <tr>\n",
              "      <th>253.0</th>\n",
              "      <td>0.500638</td>\n",
              "    </tr>\n",
              "    <tr>\n",
              "      <th>255.0</th>\n",
              "      <td>0.500638</td>\n",
              "    </tr>\n",
              "    <tr>\n",
              "      <th>256.0</th>\n",
              "      <td>0.499820</td>\n",
              "    </tr>\n",
              "    <tr>\n",
              "      <th>257.0</th>\n",
              "      <td>0.499002</td>\n",
              "    </tr>\n",
              "    <tr>\n",
              "      <th>258.0</th>\n",
              "      <td>0.498185</td>\n",
              "    </tr>\n",
              "    <tr>\n",
              "      <th>259.0</th>\n",
              "      <td>0.490871</td>\n",
              "    </tr>\n",
              "  </tbody>\n",
              "</table>\n",
              "</div>"
            ],
            "text/plain": [
              "              0\n",
              "249.0  0.509596\n",
              "250.0  0.507149\n",
              "251.0  0.505519\n",
              "252.0  0.501454\n",
              "253.0  0.500638\n",
              "255.0  0.500638\n",
              "256.0  0.499820\n",
              "257.0  0.499002\n",
              "258.0  0.498185\n",
              "259.0  0.490871"
            ]
          },
          "metadata": {
            "tags": []
          },
          "execution_count": 53
        }
      ]
    },
    {
      "cell_type": "code",
      "metadata": {
        "colab": {
          "base_uri": "https://localhost:8080/"
        },
        "id": "XGKiOO00gJ34",
        "outputId": "56666734-6009-4250-9484-5dcefcfcf302"
      },
      "source": [
        "rsf.event_times_"
      ],
      "execution_count": 68,
      "outputs": [
        {
          "output_type": "execute_result",
          "data": {
            "text/plain": [
              "array([   4.,    7.,    8.,   11.,   12.,   13.,   14.,   15.,   17.,\n",
              "         21.,   22.,   27.,   28.,   32.,   33.,   34.,   35.,   36.,\n",
              "         37.,   38.,   39.,   40.,   41.,   42.,   43.,   44.,   45.,\n",
              "         46.,   47.,   48.,   49.,   50.,   51.,   52.,   53.,   55.,\n",
              "         56.,   57.,   58.,   59.,   60.,   61.,   62.,   63.,   64.,\n",
              "         65.,   66.,   67.,   68.,   69.,   70.,   71.,   72.,   73.,\n",
              "         74.,   75.,   76.,   77.,   78.,   80.,   81.,   82.,   83.,\n",
              "         84.,   85.,   86.,   89.,   91.,   92.,   93.,   94.,   95.,\n",
              "         96.,   97.,   98.,   99.,  100.,  101.,  102.,  103.,  104.,\n",
              "        105.,  106.,  107.,  108.,  109.,  110.,  111.,  112.,  113.,\n",
              "        115.,  116.,  117.,  119.,  120.,  121.,  122.,  123.,  124.,\n",
              "        125.,  126.,  127.,  128.,  129.,  130.,  131.,  132.,  133.,\n",
              "        134.,  135.,  136.,  137.,  138.,  139.,  140.,  141.,  142.,\n",
              "        143.,  144.,  145.,  147.,  148.,  149.,  150.,  151.,  152.,\n",
              "        153.,  154.,  155.,  156.,  158.,  160.,  161.,  162.,  163.,\n",
              "        165.,  166.,  167.,  168.,  170.,  171.,  172.,  173.,  174.,\n",
              "        175.,  176.,  177.,  178.,  179.,  180.,  181.,  182.,  183.,\n",
              "        184.,  185.,  186.,  187.,  188.,  189.,  190.,  191.,  192.,\n",
              "        193.,  194.,  195.,  196.,  197.,  198.,  199.,  200.,  202.,\n",
              "        203.,  204.,  205.,  206.,  207.,  209.,  210.,  211.,  212.,\n",
              "        213.,  214.,  216.,  217.,  219.,  220.,  221.,  223.,  224.,\n",
              "        226.,  227.,  228.,  229.,  231.,  232.,  233.,  235.,  236.,\n",
              "        238.,  239.,  240.,  241.,  242.,  243.,  244.,  245.,  246.,\n",
              "        248.,  249.,  250.,  251.,  252.,  253.,  256.,  257.,  258.,\n",
              "        259.,  260.,  261.,  262.,  263.,  265.,  266.,  267.,  269.,\n",
              "        270.,  272.,  273.,  274.,  275.,  276.,  277.,  279.,  280.,\n",
              "        281.,  282.,  283.,  284.,  286.,  287.,  288.,  289.,  290.,\n",
              "        291.,  292.,  293.,  294.,  295.,  297.,  298.,  299.,  300.,\n",
              "        301.,  302.,  304.,  305.,  306.,  307.,  308.,  309.,  310.,\n",
              "        312.,  313.,  314.,  315.,  317.,  318.,  321.,  322.,  323.,\n",
              "        324.,  327.,  329.,  330.,  335.,  336.,  338.,  339.,  341.,\n",
              "        342.,  343.,  344.,  348.,  349.,  350.,  351.,  352.,  353.,\n",
              "        355.,  356.,  357.,  358.,  359.,  360.,  361.,  362.,  363.,\n",
              "        364.,  365.,  366.,  367.,  368.,  370.,  371.,  372.,  373.,\n",
              "        374.,  375.,  376.,  377.,  378.,  379.,  380.,  381.,  382.,\n",
              "        383.,  384.,  385.,  388.,  389.,  390.,  391.,  392.,  393.,\n",
              "        394.,  398.,  399.,  402.,  404.,  406.,  407.,  408.,  413.,\n",
              "        414.,  416.,  417.,  420.,  421.,  426.,  427.,  428.,  429.,\n",
              "        434.,  435.,  440.,  441.,  442.,  443.,  444.,  450.,  452.,\n",
              "        454.,  456.,  461.,  462.,  464.,  466.,  468.,  469.,  470.,\n",
              "        471.,  472.,  473.,  476.,  481.,  483.,  484.,  485.,  488.,\n",
              "        495.,  497.,  502.,  505.,  507.,  508.,  510.,  511.,  515.,\n",
              "        517.,  518.,  519.,  520.,  525.,  537.,  542.,  565.,  568.,\n",
              "        576.,  588.,  589.,  609.,  614.,  644.,  649.,  654.,  658.,\n",
              "        687.,  688.,  692.,  694.,  699.,  736.,  737.,  748.,  751.,\n",
              "        765.,  820.,  839.,  867.,  884.,  903.,  909.,  922.,  929.,\n",
              "        946., 1037., 1073., 1083., 1188., 1234., 1295., 1647., 1653.,\n",
              "       1702.])"
            ]
          },
          "metadata": {
            "tags": []
          },
          "execution_count": 68
        }
      ]
    },
    {
      "cell_type": "code",
      "metadata": {
        "colab": {
          "base_uri": "https://localhost:8080/"
        },
        "id": "luaGwuOwgKfw",
        "outputId": "d37549b4-82be-4d49-841c-4bbb499b6328"
      },
      "source": [
        "result_rsf_slow"
      ],
      "execution_count": 67,
      "outputs": [
        {
          "output_type": "execute_result",
          "data": {
            "text/plain": [
              "array([[1.        , 0.99958198, 0.99950757, 0.99950757, 0.99950757,\n",
              "        0.99929939, 0.99916425, 0.99916425, 0.99916425, 0.99909282,\n",
              "        0.99816856, 0.99816856, 0.99801534, 0.99801534, 0.99801534,\n",
              "        0.99801534, 0.99757167, 0.9975282 , 0.99716777, 0.99706874,\n",
              "        0.99681498, 0.99642065, 0.99638362, 0.9961303 , 0.99608864,\n",
              "        0.99599493, 0.99594493, 0.99594493, 0.99594493, 0.99317521,\n",
              "        0.99317521, 0.99317521, 0.99317521, 0.99317521, 0.9931315 ,\n",
              "        0.99301137, 0.99301137, 0.99222983, 0.99222983, 0.99218816,\n",
              "        0.99218816, 0.99176   , 0.99158296, 0.98926796, 0.98926796,\n",
              "        0.98926796, 0.98926796, 0.98926796, 0.98926796, 0.98926796,\n",
              "        0.98879195, 0.98874195, 0.98874195, 0.98874195, 0.98874195,\n",
              "        0.98874195, 0.98864825, 0.98864825, 0.98847132, 0.98847132,\n",
              "        0.98847132, 0.98847132, 0.9882706 , 0.9882706 , 0.9882706 ,\n",
              "        0.9882706 , 0.98800859, 0.98656253, 0.9862861 , 0.98502018,\n",
              "        0.98413834, 0.98385638, 0.98372975, 0.98322932, 0.97995107,\n",
              "        0.97634761, 0.97601305, 0.97596759, 0.97587593, 0.97583586,\n",
              "        0.97558988, 0.97517736, 0.97513548, 0.97402009, 0.97336571,\n",
              "        0.97336571, 0.97293774, 0.97272894, 0.97134674, 0.97022525,\n",
              "        0.96966271, 0.96955901, 0.96914707, 0.96538451, 0.96531171,\n",
              "        0.96496871, 0.96492109, 0.96404545, 0.96366181, 0.9630218 ,\n",
              "        0.96032063, 0.95978364, 0.95970934, 0.95970934, 0.95750929,\n",
              "        0.95415203, 0.9537416 , 0.95103541, 0.95004517, 0.95004517,\n",
              "        0.94950756, 0.94950756, 0.94938317, 0.94938317, 0.94657589,\n",
              "        0.94535688, 0.94535688, 0.94469617, 0.94117297, 0.94113593,\n",
              "        0.94079033, 0.94039356, 0.94039356, 0.94039356, 0.94001796,\n",
              "        0.93957921, 0.93911654, 0.93880696, 0.93866576, 0.93470994,\n",
              "        0.93468137, 0.93223555, 0.93179681, 0.93079476, 0.93079476,\n",
              "        0.92993801, 0.92934269, 0.92868108, 0.92852833, 0.9282634 ,\n",
              "        0.92633989, 0.92419038, 0.92404371, 0.92362102, 0.92304952,\n",
              "        0.9227334 , 0.92252008, 0.92196627, 0.92196627, 0.91994456,\n",
              "        0.91327508, 0.91096613, 0.91076784, 0.91045003, 0.90909289,\n",
              "        0.90736209, 0.90720166, 0.90469592, 0.90349095, 0.90116191,\n",
              "        0.90107191, 0.90032727, 0.90015778, 0.89926414, 0.89800602,\n",
              "        0.89293878, 0.89113991, 0.89060767, 0.89044075, 0.89009767,\n",
              "        0.8884211 , 0.88800115, 0.88621061, 0.88621061, 0.88481126,\n",
              "        0.88481126, 0.88478755, 0.88191394, 0.88087448, 0.88087448,\n",
              "        0.88058106, 0.87853063, 0.87832237, 0.87809905, 0.87347622,\n",
              "        0.87347622, 0.87300819, 0.87296205, 0.87296205, 0.87102639,\n",
              "        0.87071032, 0.86700417, 0.86616127, 0.86584463, 0.86480516,\n",
              "        0.86473678, 0.86426891, 0.86327203, 0.86121633, 0.86094308,\n",
              "        0.86054912, 0.86054912, 0.86019173, 0.85996433, 0.8589248 ,\n",
              "        0.85738642, 0.85636753, 0.8533727 , 0.85335371, 0.85139994,\n",
              "        0.85109902, 0.84985167, 0.84985167, 0.8486732 , 0.8486732 ,\n",
              "        0.84855413, 0.84497193, 0.84312245, 0.84232729, 0.84227924,\n",
              "        0.84089516, 0.8400564 , 0.83503256, 0.83336864, 0.83332414,\n",
              "        0.83233326, 0.83146607, 0.82743234, 0.8247387 , 0.8247387 ,\n",
              "        0.8245194 , 0.82343995, 0.82178816, 0.81951793, 0.81818074,\n",
              "        0.81806313, 0.81806313, 0.81806313, 0.81769003, 0.81413251,\n",
              "        0.81231873, 0.8108527 , 0.80827868, 0.80659573, 0.80578591,\n",
              "        0.80336388, 0.79856412, 0.79553374, 0.7946306 , 0.7946306 ,\n",
              "        0.79445745, 0.79392634, 0.79372242, 0.79182051, 0.79099086,\n",
              "        0.7882406 , 0.78632703, 0.78627453, 0.77452082, 0.76855108,\n",
              "        0.76844393, 0.7644752 , 0.76251139, 0.76245536, 0.76212967,\n",
              "        0.76192406, 0.76159784, 0.7615285 , 0.75668778, 0.75614062,\n",
              "        0.75592255, 0.74632443, 0.74229393, 0.74219208, 0.74189759,\n",
              "        0.7403804 , 0.74017034, 0.74017034, 0.73714304, 0.73534388,\n",
              "        0.73140069, 0.73134803, 0.73134803, 0.73118248, 0.73097763,\n",
              "        0.72969241, 0.72792964, 0.72731555, 0.72688375, 0.72678947,\n",
              "        0.726653  , 0.723832  , 0.72307821, 0.72228768, 0.72045042,\n",
              "        0.7202327 , 0.71860008, 0.71247054, 0.71128805, 0.70513909,\n",
              "        0.70353   , 0.70248613, 0.70189613, 0.69970222, 0.6979817 ,\n",
              "        0.69598126, 0.69502349, 0.69493793, 0.69472535, 0.69472535,\n",
              "        0.68781988, 0.68577987, 0.68490587, 0.68480373, 0.68005925,\n",
              "        0.67940288, 0.67940288, 0.67909033, 0.67909033, 0.67909033,\n",
              "        0.67853219, 0.67493436, 0.67452546, 0.67452546, 0.67276028,\n",
              "        0.66826167, 0.65955218, 0.65948292, 0.65948292, 0.65948292,\n",
              "        0.65948292, 0.65948292, 0.65459811, 0.654435  , 0.65428801,\n",
              "        0.65321119, 0.65267647, 0.65251317, 0.65107202, 0.64668026,\n",
              "        0.64307104, 0.64278396, 0.64260896, 0.64228762, 0.64228762,\n",
              "        0.63556364, 0.63296165, 0.63152186, 0.63050144, 0.63035575,\n",
              "        0.63035575, 0.63035575, 0.62533399, 0.62533399, 0.62169692,\n",
              "        0.62035679, 0.62014887, 0.61796572, 0.59507474, 0.59178032,\n",
              "        0.59155361, 0.59155361, 0.58995642, 0.58995642, 0.58905231,\n",
              "        0.58629048, 0.57829732, 0.57457571, 0.57443408, 0.57200182,\n",
              "        0.57200182, 0.57166848, 0.57083885, 0.5702345 , 0.56870159,\n",
              "        0.56870159, 0.56870159, 0.56559704, 0.56463309, 0.55457818,\n",
              "        0.553463  , 0.552463  , 0.55223212, 0.53607866, 0.53607866,\n",
              "        0.52905342, 0.52905342, 0.52572707, 0.52038186, 0.51065574,\n",
              "        0.49955696, 0.49955696, 0.49955696, 0.49955696, 0.49855696,\n",
              "        0.49676617, 0.49600008, 0.49600008, 0.49600008, 0.49010864,\n",
              "        0.4898823 , 0.47857439, 0.47857439, 0.47857439, 0.47078701,\n",
              "        0.46676456, 0.46676456, 0.46183916, 0.46183916, 0.4381136 ,\n",
              "        0.4376136 , 0.4376136 , 0.43433868, 0.43340218, 0.43247361,\n",
              "        0.42853835, 0.41473807, 0.40630555, 0.39748165, 0.38848165,\n",
              "        0.38553165, 0.36476182, 0.36384165, 0.36384165]])"
            ]
          },
          "metadata": {
            "tags": []
          },
          "execution_count": 67
        }
      ]
    },
    {
      "cell_type": "code",
      "metadata": {
        "colab": {
          "base_uri": "https://localhost:8080/"
        },
        "id": "y0kDMUs6gOuh",
        "outputId": "07e0b112-3dca-414a-bba8-ab3426771768"
      },
      "source": [
        "result_rsf_medium"
      ],
      "execution_count": 69,
      "outputs": [
        {
          "output_type": "execute_result",
          "data": {
            "text/plain": [
              "array([[1.        , 0.99983152, 0.99983152, 0.99978607, 0.99978607,\n",
              "        0.99972357, 0.99972357, 0.99972357, 0.99972357, 0.99972357,\n",
              "        0.99972357, 0.99972357, 0.99972357, 0.99972357, 0.99972357,\n",
              "        0.99972357, 0.99931267, 0.99931267, 0.99931267, 0.99925711,\n",
              "        0.99921865, 0.99915198, 0.99915198, 0.99907923, 0.9989709 ,\n",
              "        0.99891534, 0.99891534, 0.99891534, 0.99891534, 0.99733978,\n",
              "        0.99733978, 0.99733978, 0.99733978, 0.99733978, 0.99733978,\n",
              "        0.99733978, 0.9971569 , 0.99708993, 0.9970373 , 0.9970373 ,\n",
              "        0.9970373 , 0.99666459, 0.99666459, 0.99573558, 0.99566862,\n",
              "        0.99566862, 0.99566862, 0.99556349, 0.99556349, 0.99556349,\n",
              "        0.99475837, 0.99471991, 0.99471991, 0.99468145, 0.99468145,\n",
              "        0.99461002, 0.99461002, 0.99461002, 0.99461002, 0.99461002,\n",
              "        0.99461002, 0.99461002, 0.99439585, 0.99439585, 0.99433311,\n",
              "        0.99433311, 0.99423407, 0.9936696 , 0.99353071, 0.99320716,\n",
              "        0.99299079, 0.99292829, 0.99289258, 0.99263243, 0.99122496,\n",
              "        0.99013721, 0.98985851, 0.98985851, 0.9897728 , 0.9897728 ,\n",
              "        0.9897728 , 0.98950866, 0.98950866, 0.98856488, 0.98852321,\n",
              "        0.98839456, 0.98820366, 0.98815604, 0.9874843 , 0.98729554,\n",
              "        0.98714998, 0.98714998, 0.9870356 , 0.98105913, 0.98078034,\n",
              "        0.98078034, 0.98078034, 0.98060156, 0.98060156, 0.97998266,\n",
              "        0.97879545, 0.97879545, 0.97874282, 0.9786659 , 0.97819532,\n",
              "        0.97582629, 0.97572907, 0.97527208, 0.97376215, 0.97376215,\n",
              "        0.97371215, 0.97357406, 0.97357406, 0.9735148 , 0.97336081,\n",
              "        0.97322031, 0.97322031, 0.97276932, 0.97040742, 0.97040742,\n",
              "        0.97004442, 0.97004442, 0.9698438 , 0.96975782, 0.96975782,\n",
              "        0.96961585, 0.96933834, 0.96924112, 0.96924112, 0.96814932,\n",
              "        0.9680905 , 0.96511366, 0.96505063, 0.96379992, 0.96379992,\n",
              "        0.96351604, 0.96351604, 0.96351604, 0.96328793, 0.96306505,\n",
              "        0.96161323, 0.9602069 , 0.9602069 , 0.95995496, 0.95914112,\n",
              "        0.95904501, 0.95898251, 0.95874892, 0.95874892, 0.95483527,\n",
              "        0.9535966 , 0.95281593, 0.95263613, 0.95252851, 0.95235659,\n",
              "        0.9518757 , 0.9518757 , 0.95135863, 0.95048348, 0.94970325,\n",
              "        0.94946204, 0.94823527, 0.94792125, 0.94710791, 0.94694661,\n",
              "        0.94398025, 0.94362969, 0.94358911, 0.94333977, 0.94328169,\n",
              "        0.9428766 , 0.94264106, 0.94163928, 0.94163928, 0.94163928,\n",
              "        0.94163928, 0.94152155, 0.94105603, 0.93979336, 0.93974972,\n",
              "        0.93963861, 0.9393111 , 0.93891208, 0.9387485 , 0.93548358,\n",
              "        0.93548358, 0.93509285, 0.93463361, 0.93463361, 0.9340312 ,\n",
              "        0.93387964, 0.93265895, 0.93146759, 0.93072771, 0.92967956,\n",
              "        0.92967956, 0.92954427, 0.92937427, 0.92832438, 0.92832438,\n",
              "        0.92789748, 0.92789748, 0.92789748, 0.92753915, 0.92693199,\n",
              "        0.92619136, 0.92503624, 0.92246912, 0.9223975 , 0.9222001 ,\n",
              "        0.92210677, 0.92193837, 0.92193837, 0.9208831 , 0.92082373,\n",
              "        0.92082373, 0.9186224 , 0.91840348, 0.91739974, 0.91690926,\n",
              "        0.91657859, 0.91628647, 0.91215471, 0.91132844, 0.91120855,\n",
              "        0.91113903, 0.90945878, 0.90479109, 0.89996762, 0.89974225,\n",
              "        0.89819045, 0.89805724, 0.89523257, 0.89217663, 0.88926758,\n",
              "        0.88891051, 0.88891051, 0.88891051, 0.8887215 , 0.88627155,\n",
              "        0.88528752, 0.88507251, 0.88236917, 0.88196814, 0.88088604,\n",
              "        0.87629796, 0.8734762 , 0.87018218, 0.86940214, 0.86933394,\n",
              "        0.86894474, 0.86803268, 0.867868  , 0.86781843, 0.86781843,\n",
              "        0.86713476, 0.86639728, 0.86639728, 0.85862881, 0.85659268,\n",
              "        0.85625631, 0.85458293, 0.85434375, 0.85403814, 0.85386722,\n",
              "        0.85357818, 0.85276127, 0.85265942, 0.84668792, 0.84645891,\n",
              "        0.84645891, 0.84536805, 0.8445958 , 0.84418401, 0.84418401,\n",
              "        0.84269037, 0.84223729, 0.84215831, 0.84110691, 0.84086757,\n",
              "        0.83693147, 0.83693147, 0.83693147, 0.83619376, 0.8353964 ,\n",
              "        0.8351101 , 0.83370845, 0.83262494, 0.83054691, 0.83054691,\n",
              "        0.83035738, 0.82960193, 0.82791232, 0.82764774, 0.82680701,\n",
              "        0.82642243, 0.82530337, 0.82184012, 0.82061663, 0.81671979,\n",
              "        0.81503328, 0.81483779, 0.81191414, 0.81038654, 0.81000265,\n",
              "        0.80839381, 0.80703564, 0.80701545, 0.80576641, 0.80576641,\n",
              "        0.80324883, 0.80303948, 0.80196468, 0.80177516, 0.80081064,\n",
              "        0.80042356, 0.80042356, 0.80002008, 0.80002008, 0.80002008,\n",
              "        0.80002008, 0.79637347, 0.79593406, 0.79582584, 0.79490712,\n",
              "        0.79345565, 0.79096031, 0.79086031, 0.79086031, 0.78966918,\n",
              "        0.78966918, 0.78966918, 0.76872641, 0.7680025 , 0.76717428,\n",
              "        0.76552958, 0.76421611, 0.7641475 , 0.7641475 , 0.76404836,\n",
              "        0.76317258, 0.76133349, 0.76133349, 0.75998916, 0.75909833,\n",
              "        0.75522818, 0.75511016, 0.75248667, 0.75225315, 0.75103623,\n",
              "        0.75103623, 0.75103623, 0.74218313, 0.73704512, 0.73095915,\n",
              "        0.72943079, 0.72763511, 0.72414942, 0.7129573 , 0.7129573 ,\n",
              "        0.71166339, 0.71155949, 0.71047337, 0.71047337, 0.71047337,\n",
              "        0.70800912, 0.69520133, 0.69355092, 0.69340929, 0.68709712,\n",
              "        0.68653017, 0.68358323, 0.67777903, 0.67777903, 0.67718808,\n",
              "        0.67548095, 0.67548095, 0.66548421, 0.66359936, 0.635452  ,\n",
              "        0.63469082, 0.63369082, 0.63369082, 0.62900015, 0.62900015,\n",
              "        0.62374996, 0.62334996, 0.62301662, 0.6221898 , 0.61571631,\n",
              "        0.60881136, 0.60881136, 0.60545818, 0.60225604, 0.60203096,\n",
              "        0.59971014, 0.5987543 , 0.59722539, 0.59722539, 0.59590476,\n",
              "        0.59590476, 0.59111202, 0.59111202, 0.59111202, 0.59111202,\n",
              "        0.58410742, 0.58290742, 0.57593621, 0.57593621, 0.57156405,\n",
              "        0.568195  , 0.56635139, 0.55936503, 0.55727328, 0.55008493,\n",
              "        0.54509966, 0.53165752, 0.51761334, 0.50842286, 0.46919586,\n",
              "        0.45834586, 0.45346518, 0.44728923, 0.44578923]])"
            ]
          },
          "metadata": {
            "tags": []
          },
          "execution_count": 69
        }
      ]
    },
    {
      "cell_type": "code",
      "metadata": {
        "colab": {
          "base_uri": "https://localhost:8080/"
        },
        "id": "7R3J86oogQKs",
        "outputId": "b2484c6f-4e55-4967-9399-464caa8303b7"
      },
      "source": [
        "result_rsf_fast"
      ],
      "execution_count": 70,
      "outputs": [
        {
          "output_type": "execute_result",
          "data": {
            "text/plain": [
              "array([[0.99909454, 0.9987177 , 0.9986552 , 0.99849853, 0.99786925,\n",
              "        0.99748769, 0.99535333, 0.99520312, 0.99428983, 0.99179921,\n",
              "        0.98754669, 0.98627789, 0.98435169, 0.98297615, 0.98245079,\n",
              "        0.98229409, 0.97777166, 0.97497058, 0.97352516, 0.9706855 ,\n",
              "        0.9692353 , 0.96415627, 0.95121186, 0.94133187, 0.93661072,\n",
              "        0.93015413, 0.92158475, 0.92012991, 0.91957199, 0.91552353,\n",
              "        0.91100268, 0.90573879, 0.90391105, 0.90252165, 0.89837617,\n",
              "        0.89730891, 0.89181453, 0.88532806, 0.88432059, 0.88338096,\n",
              "        0.8800703 , 0.87271494, 0.86615417, 0.8581069 , 0.85492511,\n",
              "        0.85270505, 0.85127291, 0.84802716, 0.84447511, 0.84170676,\n",
              "        0.8276562 , 0.8255058 , 0.82343605, 0.8171464 , 0.81286889,\n",
              "        0.81197749, 0.80845774, 0.80385192, 0.79865708, 0.79825308,\n",
              "        0.79792889, 0.79787626, 0.79351423, 0.79132251, 0.78913282,\n",
              "        0.78899438, 0.78367201, 0.75674198, 0.75191892, 0.75082552,\n",
              "        0.74803342, 0.74766891, 0.74651263, 0.74559243, 0.73449852,\n",
              "        0.73086453, 0.72940353, 0.7292631 , 0.7287474 , 0.7287474 ,\n",
              "        0.72725745, 0.72620331, 0.719096  , 0.71849263, 0.71783177,\n",
              "        0.71781482, 0.71724384, 0.71724384, 0.70932767, 0.70697793,\n",
              "        0.70590418, 0.70526218, 0.70288584, 0.69585057, 0.69507084,\n",
              "        0.6944759 , 0.69421806, 0.69188432, 0.69151175, 0.68693206,\n",
              "        0.68307182, 0.68160102, 0.67988447, 0.67533607, 0.67340881,\n",
              "        0.67265894, 0.67164493, 0.66402272, 0.65918044, 0.65826231,\n",
              "        0.65593621, 0.65574931, 0.65563481, 0.65432452, 0.65065612,\n",
              "        0.64913241, 0.64683332, 0.64683332, 0.64654553, 0.64647145,\n",
              "        0.64264215, 0.64199799, 0.64177672, 0.64067898, 0.63890239,\n",
              "        0.63332003, 0.63299821, 0.63183304, 0.63054536, 0.62848099,\n",
              "        0.6283985 , 0.62811822, 0.62643517, 0.62546833, 0.62530258,\n",
              "        0.62515774, 0.6228162 , 0.62092911, 0.61910144, 0.61669621,\n",
              "        0.61464443, 0.61226805, 0.61202895, 0.6100693 , 0.60527826,\n",
              "        0.60513251, 0.60447799, 0.60351553, 0.6032847 , 0.60151176,\n",
              "        0.60005164, 0.59043204, 0.58859146, 0.58827823, 0.58676358,\n",
              "        0.58552927, 0.58530618, 0.58164403, 0.57325049, 0.56987532,\n",
              "        0.56940428, 0.56674595, 0.56204951, 0.56100748, 0.56080731,\n",
              "        0.55920064, 0.55380452, 0.55345673, 0.55249494, 0.55243192,\n",
              "        0.54963089, 0.54818929, 0.54764232, 0.54764232, 0.54713546,\n",
              "        0.54713546, 0.54205869, 0.53951471, 0.53951471, 0.53951471,\n",
              "        0.53730567, 0.53344931, 0.5331881 , 0.52200797, 0.5217187 ,\n",
              "        0.51938519, 0.51635955, 0.51598077, 0.51598077, 0.51151582,\n",
              "        0.51034998, 0.50885367, 0.50835594, 0.50568103, 0.50549589,\n",
              "        0.49675274, 0.49210932, 0.4906353 , 0.48461504, 0.48444603,\n",
              "        0.48123991, 0.48099001, 0.48099001, 0.4796789 , 0.46951653,\n",
              "        0.46883307, 0.46754598, 0.46313019, 0.46313019, 0.46158994,\n",
              "        0.45997687, 0.45921056, 0.45848743, 0.45848743, 0.45776795,\n",
              "        0.45720025, 0.44876062, 0.44812749, 0.44576795, 0.44573413,\n",
              "        0.4449838 , 0.44418752, 0.4437326 , 0.44293616, 0.44168471,\n",
              "        0.4399495 , 0.43882363, 0.43730394, 0.43641938, 0.43641938,\n",
              "        0.43505072, 0.43483846, 0.4347133 , 0.43123928, 0.42998355,\n",
              "        0.42848731, 0.42779444, 0.42690238, 0.42543125, 0.42117741,\n",
              "        0.41862896, 0.41815236, 0.41427126, 0.41264706, 0.41239377,\n",
              "        0.41053733, 0.40538771, 0.40522365, 0.40488047, 0.40488047,\n",
              "        0.39914148, 0.39785134, 0.39529975, 0.39486868, 0.39411582,\n",
              "        0.39365214, 0.39283771, 0.38748211, 0.38486109, 0.38387307,\n",
              "        0.38387307, 0.37493207, 0.37247539, 0.37247539, 0.37186625,\n",
              "        0.36927329, 0.36857099, 0.36857099, 0.3676653 , 0.3676039 ,\n",
              "        0.3676039 , 0.36730065, 0.36572841, 0.36544003, 0.36461182,\n",
              "        0.36461182, 0.36091119, 0.36082516, 0.35475756, 0.35376357,\n",
              "        0.35376357, 0.35345072, 0.35326573, 0.35314509, 0.35264585,\n",
              "        0.35122032, 0.35031993, 0.34964605, 0.34960982, 0.34960982,\n",
              "        0.34950725, 0.34539417, 0.34187794, 0.3414177 , 0.33740238,\n",
              "        0.33722649, 0.33722649, 0.33131311, 0.33012048, 0.32379271,\n",
              "        0.32367922, 0.32081257, 0.32015454, 0.31771577, 0.31318385,\n",
              "        0.30657722, 0.30572745, 0.30572745, 0.30572745, 0.30572745,\n",
              "        0.29694291, 0.29679839, 0.29679839, 0.29679839, 0.29656575,\n",
              "        0.29656575, 0.29656575, 0.29272484, 0.29272484, 0.28817528,\n",
              "        0.28804956, 0.28338257, 0.28168815, 0.28168815, 0.28115433,\n",
              "        0.27991002, 0.27863999, 0.27863999, 0.27863999, 0.2779734 ,\n",
              "        0.2779734 , 0.2779734 , 0.27385853, 0.27215091, 0.26920569,\n",
              "        0.26680401, 0.26062311, 0.26033989, 0.25617385, 0.24902629,\n",
              "        0.24862791, 0.24646712, 0.245439  , 0.245439  , 0.245439  ,\n",
              "        0.245439  , 0.23996082, 0.23996082, 0.2258628 , 0.2258628 ,\n",
              "        0.2258628 , 0.2258628 , 0.2258628 , 0.2258628 , 0.22271636,\n",
              "        0.22271636, 0.22230836, 0.22230836, 0.21935863, 0.21876867,\n",
              "        0.21865081, 0.20944707, 0.2028584 , 0.2028584 , 0.20096792,\n",
              "        0.19758263, 0.1966131 , 0.1966131 , 0.1966131 , 0.1966131 ,\n",
              "        0.19575299, 0.19575299, 0.19575299, 0.19549202, 0.19502257,\n",
              "        0.19502257, 0.19502257, 0.19502257, 0.19502257, 0.19502257,\n",
              "        0.19502257, 0.19502257, 0.19502257, 0.19162485, 0.19147688,\n",
              "        0.19147688, 0.19147688, 0.19103045, 0.18933971, 0.18933971,\n",
              "        0.18933971, 0.18933971, 0.188502  , 0.188502  , 0.188502  ,\n",
              "        0.18667879, 0.18667879, 0.18611236, 0.18611236, 0.18581772,\n",
              "        0.18581772, 0.18581772, 0.18581772, 0.18553677, 0.18449092,\n",
              "        0.18449092, 0.18449092, 0.18449092, 0.18389798, 0.18389798,\n",
              "        0.18389798, 0.18389798, 0.18337603, 0.18337603, 0.18263858,\n",
              "        0.18263858, 0.18263858, 0.18213332, 0.18213332, 0.18213332,\n",
              "        0.18213332, 0.17971869, 0.17971869, 0.17971869]])"
            ]
          },
          "metadata": {
            "tags": []
          },
          "execution_count": 70
        }
      ]
    },
    {
      "cell_type": "code",
      "metadata": {
        "colab": {
          "base_uri": "https://localhost:8080/",
          "height": 195
        },
        "id": "bPhiArYo7krA",
        "outputId": "dfdbe696-6305-48dc-d2df-080b3ba3c56e"
      },
      "source": [
        "result_wft_slow[result_wft_slow[0]<=0.51].head()"
      ],
      "execution_count": 83,
      "outputs": [
        {
          "output_type": "execute_result",
          "data": {
            "text/html": [
              "<div>\n",
              "<style scoped>\n",
              "    .dataframe tbody tr th:only-of-type {\n",
              "        vertical-align: middle;\n",
              "    }\n",
              "\n",
              "    .dataframe tbody tr th {\n",
              "        vertical-align: top;\n",
              "    }\n",
              "\n",
              "    .dataframe thead th {\n",
              "        text-align: right;\n",
              "    }\n",
              "</style>\n",
              "<table border=\"1\" class=\"dataframe\">\n",
              "  <thead>\n",
              "    <tr style=\"text-align: right;\">\n",
              "      <th></th>\n",
              "      <th>0</th>\n",
              "    </tr>\n",
              "  </thead>\n",
              "  <tbody>\n",
              "    <tr>\n",
              "      <th>537.0</th>\n",
              "      <td>0.507162</td>\n",
              "    </tr>\n",
              "    <tr>\n",
              "      <th>539.0</th>\n",
              "      <td>0.505063</td>\n",
              "    </tr>\n",
              "    <tr>\n",
              "      <th>542.0</th>\n",
              "      <td>0.501921</td>\n",
              "    </tr>\n",
              "    <tr>\n",
              "      <th>543.0</th>\n",
              "      <td>0.500875</td>\n",
              "    </tr>\n",
              "    <tr>\n",
              "      <th>544.0</th>\n",
              "      <td>0.499831</td>\n",
              "    </tr>\n",
              "  </tbody>\n",
              "</table>\n",
              "</div>"
            ],
            "text/plain": [
              "              0\n",
              "537.0  0.507162\n",
              "539.0  0.505063\n",
              "542.0  0.501921\n",
              "543.0  0.500875\n",
              "544.0  0.499831"
            ]
          },
          "metadata": {
            "tags": []
          },
          "execution_count": 83
        }
      ]
    },
    {
      "cell_type": "code",
      "metadata": {
        "colab": {
          "base_uri": "https://localhost:8080/",
          "height": 195
        },
        "id": "0E75Wjtl7x45",
        "outputId": "5b32f6cb-a54c-48c5-a043-ef491c539445"
      },
      "source": [
        "result_wft_medium[result_wft_medium[0]<=0.51].head()"
      ],
      "execution_count": 84,
      "outputs": [
        {
          "output_type": "execute_result",
          "data": {
            "text/html": [
              "<div>\n",
              "<style scoped>\n",
              "    .dataframe tbody tr th:only-of-type {\n",
              "        vertical-align: middle;\n",
              "    }\n",
              "\n",
              "    .dataframe tbody tr th {\n",
              "        vertical-align: top;\n",
              "    }\n",
              "\n",
              "    .dataframe thead th {\n",
              "        text-align: right;\n",
              "    }\n",
              "</style>\n",
              "<table border=\"1\" class=\"dataframe\">\n",
              "  <thead>\n",
              "    <tr style=\"text-align: right;\">\n",
              "      <th></th>\n",
              "      <th>0</th>\n",
              "    </tr>\n",
              "  </thead>\n",
              "  <tbody>\n",
              "    <tr>\n",
              "      <th>611.0</th>\n",
              "      <td>0.508941</td>\n",
              "    </tr>\n",
              "    <tr>\n",
              "      <th>613.0</th>\n",
              "      <td>0.507099</td>\n",
              "    </tr>\n",
              "    <tr>\n",
              "      <th>614.0</th>\n",
              "      <td>0.506179</td>\n",
              "    </tr>\n",
              "    <tr>\n",
              "      <th>629.0</th>\n",
              "      <td>0.492466</td>\n",
              "    </tr>\n",
              "    <tr>\n",
              "      <th>631.0</th>\n",
              "      <td>0.490650</td>\n",
              "    </tr>\n",
              "  </tbody>\n",
              "</table>\n",
              "</div>"
            ],
            "text/plain": [
              "              0\n",
              "611.0  0.508941\n",
              "613.0  0.507099\n",
              "614.0  0.506179\n",
              "629.0  0.492466\n",
              "631.0  0.490650"
            ]
          },
          "metadata": {
            "tags": []
          },
          "execution_count": 84
        }
      ]
    },
    {
      "cell_type": "code",
      "metadata": {
        "colab": {
          "base_uri": "https://localhost:8080/",
          "height": 195
        },
        "id": "ruKIvyGA7zHq",
        "outputId": "cfc72418-f72f-4778-fca0-9605503df12a"
      },
      "source": [
        "result_wft_fast[result_wft_fast[0]<=0.51].head()"
      ],
      "execution_count": 86,
      "outputs": [
        {
          "output_type": "execute_result",
          "data": {
            "text/html": [
              "<div>\n",
              "<style scoped>\n",
              "    .dataframe tbody tr th:only-of-type {\n",
              "        vertical-align: middle;\n",
              "    }\n",
              "\n",
              "    .dataframe tbody tr th {\n",
              "        vertical-align: top;\n",
              "    }\n",
              "\n",
              "    .dataframe thead th {\n",
              "        text-align: right;\n",
              "    }\n",
              "</style>\n",
              "<table border=\"1\" class=\"dataframe\">\n",
              "  <thead>\n",
              "    <tr style=\"text-align: right;\">\n",
              "      <th></th>\n",
              "      <th>0</th>\n",
              "    </tr>\n",
              "  </thead>\n",
              "  <tbody>\n",
              "    <tr>\n",
              "      <th>248.0</th>\n",
              "      <td>0.509018</td>\n",
              "    </tr>\n",
              "    <tr>\n",
              "      <th>249.0</th>\n",
              "      <td>0.506750</td>\n",
              "    </tr>\n",
              "    <tr>\n",
              "      <th>250.0</th>\n",
              "      <td>0.504485</td>\n",
              "    </tr>\n",
              "    <tr>\n",
              "      <th>251.0</th>\n",
              "      <td>0.502225</td>\n",
              "    </tr>\n",
              "    <tr>\n",
              "      <th>252.0</th>\n",
              "      <td>0.499970</td>\n",
              "    </tr>\n",
              "  </tbody>\n",
              "</table>\n",
              "</div>"
            ],
            "text/plain": [
              "              0\n",
              "248.0  0.509018\n",
              "249.0  0.506750\n",
              "250.0  0.504485\n",
              "251.0  0.502225\n",
              "252.0  0.499970"
            ]
          },
          "metadata": {
            "tags": []
          },
          "execution_count": 86
        }
      ]
    },
    {
      "cell_type": "code",
      "metadata": {
        "id": "KhwRmiuTg-Tr"
      },
      "source": [
        "from lifelines import KaplanMeierFitter\n",
        "kmf = KaplanMeierFitter()"
      ],
      "execution_count": 64,
      "outputs": []
    },
    {
      "cell_type": "code",
      "metadata": {
        "id": "rQoVHpsjeQQM"
      },
      "source": [
        "from lifelines.utils import median_survival_times"
      ],
      "execution_count": 66,
      "outputs": []
    },
    {
      "cell_type": "markdown",
      "metadata": {
        "id": "TxvU3ClCxYaP"
      },
      "source": [
        "## Comparing Mean Survival function"
      ]
    },
    {
      "cell_type": "markdown",
      "metadata": {
        "id": "Bmi9m2dqx_cI"
      },
      "source": [
        "### Slow progresser"
      ]
    },
    {
      "cell_type": "code",
      "metadata": {
        "colab": {
          "base_uri": "https://localhost:8080/",
          "height": 401
        },
        "id": "ualC4dueeTWQ",
        "outputId": "82db86b1-6dad-4ca7-e2bc-368a6cf888e7"
      },
      "source": [
        "plt.figure(figsize=(25, 6))\n",
        "\n",
        "plt.subplot(141)\n",
        "OPT = kmf.fit(X_slow[\"time_opt\"], X_slow[\"status_opt\"], label='Optimal time to gastrostomy')\n",
        "ax_kmf = OPT.plot(color='green')\n",
        "plt.title(\"Kaplan Meier\")\n",
        "plt.annotate(\"median gastrostomy time = \"+str(OPT.median_survival_time_)+\" (days)\", xy=(float(OPT.median_survival_time_), 0.5)\n",
        "                , xytext=(float(OPT.median_survival_time_)+110, 0.63), arrowprops=dict(arrowstyle=\"->\", connectionstyle=\"arc3,rad=-0.2\"))\n",
        "\n",
        "plt.subplot(142)\n",
        "plt.plot(result_cph_slow.index, result_cph_slow, marker='None', color='green')\n",
        "plt.title(\"CoxPH\")\n",
        "plt.ylim([0,1.05])\n",
        "plt.annotate(\"median gastrostomy time = 511 (days)\", xy=(511, 0.499086)\n",
        "                , xytext=(510+110, 0.65), arrowprops=dict(arrowstyle=\"->\", connectionstyle=\"arc3,rad=-0.05\"))\n",
        "\n",
        "plt.subplot(143)\n",
        "for i, s in enumerate(result_rsf_slow):\n",
        "    plt.step(rsf.event_times_, s, where=\"post\", color='purple')\n",
        "plt.ylim([0,1.05])\n",
        "plt.annotate(\"median gastrostomy time = 609 (days)\", xy=(609, 0.49955696)\n",
        "                , xytext=(694-110, 0.2), arrowprops=dict(arrowstyle=\"->\", connectionstyle=\"arc3,rad=-0.1\"))\n",
        "plt.title('RSF')\n",
        "\n",
        "plt.subplot(144)\n",
        "plt.plot(result_wft_slow.index, result_wft_slow[0], marker='None', color='green')\n",
        "plt.title(\"Weibull AFT\")\n",
        "plt.ylim([0,1.05])\n",
        "plt.annotate(\"median gastrostomy time = 544 (days)\", xy=(544, 0.499831)\n",
        "                , xytext=(539+110, 0.65), arrowprops=dict(arrowstyle=\"->\", connectionstyle=\"arc3,rad=-0.05\"), fontsize=15)\n",
        "plt.title('AFT')\n",
        "\n",
        "plt.suptitle('Prediction on a virtual subject filled with mean values', fontsize=20)\n",
        "plt.show()"
      ],
      "execution_count": 87,
      "outputs": [
        {
          "output_type": "display_data",
          "data": {
            "image/png": "[encoded data removed]",
            "text/plain": [
              "<Figure size 1800x432 with 4 Axes>"
            ]
          },
          "metadata": {
            "tags": [],
            "needs_background": "light"
          }
        }
      ]
    },
    {
      "cell_type": "markdown",
      "metadata": {
        "id": "4tbrUXFiyF-a"
      },
      "source": [
        "### Medium progressor"
      ]
    },
    {
      "cell_type": "code",
      "metadata": {
        "colab": {
          "base_uri": "https://localhost:8080/",
          "height": 401
        },
        "id": "-mXKgBjRpDeQ",
        "outputId": "3b3bf3e9-1de7-4656-9bda-b9f51a927fc1"
      },
      "source": [
        "plt.figure(figsize=(25, 6))\n",
        "\n",
        "plt.subplot(141)\n",
        "OPT = kmf.fit(X_medium[\"time_opt\"], X_medium[\"status_opt\"], label='Optimal time to gastrostomy')\n",
        "ax_kmf = OPT.plot(color='green')\n",
        "plt.title(\"Kaplan Meier\")\n",
        "plt.annotate(\"median gastrostomy time = \"+str(OPT.median_survival_time_)+\" (days)\", xy=(float(OPT.median_survival_time_), 0.5)\n",
        "                , xytext=(float(OPT.median_survival_time_)+110, 0.63), arrowprops=dict(arrowstyle=\"->\", connectionstyle=\"arc3,rad=-0.2\"))\n",
        "\n",
        "plt.subplot(142)\n",
        "plt.plot(result_cph_medium.index, result_cph_medium, marker='None', color='green')\n",
        "plt.title(\"CoxPH\")\n",
        "plt.ylim([0,1.05])\n",
        "plt.annotate(\"median gastrostomy time = 589 (days)\", xy=(589, 0.499587)\n",
        "                , xytext=(510+110, 0.65), arrowprops=dict(arrowstyle=\"->\", connectionstyle=\"arc3,rad=-0.05\"))\n",
        "\n",
        "plt.subplot(143)\n",
        "for i, s in enumerate(result_rsf_medium):\n",
        "    plt.step(rsf.event_times_, s, where=\"post\", color='purple')\n",
        "plt.ylim([0,1.05])\n",
        "plt.annotate(\"median gastrostomy time = 1188 (days)\", xy=(1188, 0.50842286)\n",
        "                , xytext=(694-110, 0.2), arrowprops=dict(arrowstyle=\"->\", connectionstyle=\"arc3,rad=-0.1\"))\n",
        "plt.title('RSF') \n",
        "\n",
        "plt.subplot(144)\n",
        "plt.plot(result_wft_medium.index, result_wft_medium[0], marker='None', color='green')\n",
        "plt.title(\"Weibull AFT\")\n",
        "plt.ylim([0,1.05])\n",
        "plt.annotate(\"median gastrostomy time = 614 (days)\", xy=(614, 0.506179)\n",
        "                , xytext=(539+110, 0.65), arrowprops=dict(arrowstyle=\"->\", connectionstyle=\"arc3,rad=-0.05\"), fontsize=15)\n",
        "plt.title('AFT')\n",
        "\n",
        "plt.suptitle('Prediction on a virtual subject filled with mean values', fontsize=20)\n",
        "plt.show()"
      ],
      "execution_count": 88,
      "outputs": [
        {
          "output_type": "display_data",
          "data": {
            "image/png": "[encoded data removed]",
            "text/plain": [
              "<Figure size 1800x432 with 4 Axes>"
            ]
          },
          "metadata": {
            "tags": [],
            "needs_background": "light"
          }
        }
      ]
    },
    {
      "cell_type": "markdown",
      "metadata": {
        "id": "IibYmEQEyLH2"
      },
      "source": [
        "### Fast progressor"
      ]
    },
    {
      "cell_type": "code",
      "metadata": {
        "colab": {
          "base_uri": "https://localhost:8080/",
          "height": 451
        },
        "id": "jnhw_Ziopkxu",
        "outputId": "07974408-3283-48e4-d1d5-5d0e77ede94e"
      },
      "source": [
        "plt.figure(figsize=(25, 6))\n",
        "\n",
        "plt.subplot(141)\n",
        "OPT = kmf.fit(X_fast[\"time_opt\"], X_fast[\"status_opt\"], label='Optimal time to gastrostomy')\n",
        "ax_kmf = OPT.plot(color='green')\n",
        "plt.title(\"Kaplan Meier\")\n",
        "plt.annotate(\"median gastrostomy time = \"+str(OPT.median_survival_time_)+\" (days)\", xy=(float(OPT.median_survival_time_), 0.5)\n",
        "                , xytext=(float(OPT.median_survival_time_)+110, 0.63), arrowprops=dict(arrowstyle=\"->\", connectionstyle=\"arc3,rad=-0.2\"))\n",
        "\n",
        "plt.subplot(142)\n",
        "plt.plot(result_cph_fast.index, result_cph_fast, marker='None', color='green')\n",
        "plt.title(\"CoxPH\")\n",
        "plt.ylim([0,1.05])\n",
        "plt.annotate(\"median gastrostomy time = 256 (days)\", xy=(256, 0.499820)\n",
        "                , xytext=(510+110, 0.65), arrowprops=dict(arrowstyle=\"->\", connectionstyle=\"arc3,rad=-0.05\"))\n",
        "\n",
        "plt.subplot(143)\n",
        "for i, s in enumerate(result_rsf_fast):\n",
        "    plt.step(rsf.event_times_, s, where=\"post\", color='purple')\n",
        "plt.ylim([0,1.05])\n",
        "plt.annotate(\"median gastrostomy time = 233 (days)\", xy=(233, 0.49675274)\n",
        "                , xytext=(694-110, 0.2), arrowprops=dict(arrowstyle=\"->\", connectionstyle=\"arc3,rad=-0.1\"))\n",
        "plt.title('RSF')\n",
        "\n",
        "plt.subplot(144)\n",
        "plt.plot(result_wft_fast.index, result_wft_fast[0], marker='None', color='green')\n",
        "plt.title(\"Weibull AFT\")\n",
        "plt.ylim([0,1.05])\n",
        "plt.annotate(\"median gastrostomy time = 252 (days)\", xy=(252, 0.499970)\n",
        "                , xytext=(539+110, 0.65), arrowprops=dict(arrowstyle=\"->\", connectionstyle=\"arc3,rad=-0.05\"), fontsize=15)\n",
        "plt.title('AFT')\n",
        "\n",
        "plt.suptitle('Prediction on a virtual subject filled with mean values', fontsize=20)\n",
        "plt.show()"
      ],
      "execution_count": 91,
      "outputs": [
        {
          "output_type": "display_data",
          "data": {
            "image/png": "[encoded data removed]",
            "text/plain": [
              "<Figure size 1800x432 with 4 Axes>"
            ]
          },
          "metadata": {
            "tags": [],
            "needs_background": "light"
          }
        }
      ]
    }
  ]
}
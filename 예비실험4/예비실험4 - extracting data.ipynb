{
 "cells": [
  {
   "cell_type": "code",
   "execution_count": 1,
   "metadata": {},
   "outputs": [],
   "source": [
    "import numpy as np\n",
    "import pandas as pd"
   ]
  },
  {
   "cell_type": "code",
   "execution_count": 59,
   "metadata": {},
   "outputs": [],
   "source": [
    "data_allforms_training = pd.read_csv('../PROACT/all_forms_PROACT_training.txt', sep='|', header=0, dtype={\"feature_value\":str, \"feature_unit\":str}, low_memory = False)\n",
    "data_allforms_training2 = pd.read_csv('../PROACT/all_forms_PROACT_training2.txt', sep='|', header=0, dtype={\"feature_value\":str, \"feature_unit\":str}, low_memory = False)\n",
    "data_allforms_leaderboard = pd.read_csv('../PROACT/all_forms_PROACT_leaderboard_full.txt', sep='|', header=0, dtype={\"feature_value\":str, \"feature_unit\":str}, low_memory = False)\n",
    "data_allforms_validation = pd.read_csv('../PROACT/all_forms_PROACT_validation_full.txt', sep='|', header=0, dtype={\"feature_value\":str, \"feature_unit\":str}, low_memory = False)"
   ]
  },
  {
   "cell_type": "code",
   "execution_count": 60,
   "metadata": {},
   "outputs": [],
   "source": [
    "data_allforms = pd.concat([data_allforms_training, data_allforms_training2, data_allforms_leaderboard, data_allforms_validation])"
   ]
  },
  {
   "cell_type": "code",
   "execution_count": 61,
   "metadata": {},
   "outputs": [],
   "source": [
    "extent = list(data_allforms[\"SubjectID\"].unique())"
   ]
  },
  {
   "cell_type": "code",
   "execution_count": 62,
   "metadata": {},
   "outputs": [
    {
     "name": "stdout",
     "output_type": "stream",
     "text": [
      "10723\n"
     ]
    }
   ],
   "source": [
    "print(len(data_allforms[\"SubjectID\"].unique()))"
   ]
  },
  {
   "cell_type": "markdown",
   "metadata": {},
   "source": [
    "Extract Target variable"
   ]
  },
  {
   "cell_type": "code",
   "execution_count": 63,
   "metadata": {},
   "outputs": [
    {
     "name": "stdout",
     "output_type": "stream",
     "text": [
      "3096\n"
     ]
    }
   ],
   "source": [
    "ALSFRS_slope = pd.read_csv('../PROACT/ALSFRS_slope.csv')\n",
    "ALSFRS_slope.query(\"SubjectID == {0}\".format(extent), inplace=True)\n",
    "extent = list(ALSFRS_slope[\"SubjectID\"].unique())\n",
    "\n",
    "print(len(ALSFRS_slope[\"SubjectID\"].unique()))"
   ]
  },
  {
   "cell_type": "markdown",
   "metadata": {},
   "source": [
    "Extract Static Features"
   ]
  },
  {
   "cell_type": "code",
   "execution_count": 64,
   "metadata": {},
   "outputs": [],
   "source": [
    "demographic = pd.read_csv('../PROACT/demographic.csv')\n",
    "family_hx = pd.read_csv('../PROACT/family_hx.csv')\n",
    "als_hx = pd.read_csv('../PROACT/als_hx.csv')\n",
    "riluzole = pd.read_csv('../PROACT/riluzole.csv')\n",
    "treatment_group = pd.read_csv('../PROACT/treatment_group.csv')"
   ]
  },
  {
   "cell_type": "code",
   "execution_count": 65,
   "metadata": {},
   "outputs": [],
   "source": [
    "demographic.query(\"SubjectID == {0}\".format(extent), inplace=True)\n",
    "family_hx.query(\"SubjectID == {0}\".format(extent), inplace=True)\n",
    "als_hx.query(\"SubjectID == {0}\".format(extent), inplace=True)\n",
    "riluzole.query(\"SubjectID == {0}\".format(extent), inplace=True)\n",
    "treatment_group.query(\"SubjectID == {0}\".format(extent), inplace=True)"
   ]
  },
  {
   "cell_type": "code",
   "execution_count": 66,
   "metadata": {},
   "outputs": [
    {
     "name": "stdout",
     "output_type": "stream",
     "text": [
      "3096\n",
      "708\n",
      "1653\n",
      "2648\n",
      "2910\n"
     ]
    }
   ],
   "source": [
    "print(len(demographic[\"SubjectID\"].unique()))\n",
    "print(len(family_hx[\"SubjectID\"].unique()))\n",
    "print(len(als_hx[\"SubjectID\"].unique()))\n",
    "print(len(riluzole[\"SubjectID\"].unique()))\n",
    "print(len(treatment_group[\"SubjectID\"].unique()))"
   ]
  },
  {
   "cell_type": "code",
   "execution_count": 67,
   "metadata": {},
   "outputs": [],
   "source": [
    "static = pd.DataFrame(columns=['SubjectID'])\n",
    "static_list = [demographic, family_hx, als_hx, riluzole, treatment_group]\n",
    "for i in static_list :\n",
    "    df = i\n",
    "    static = static.merge(df, on='SubjectID', how='outer')"
   ]
  },
  {
   "cell_type": "markdown",
   "metadata": {},
   "source": [
    "Extract Time-resolved Features"
   ]
  },
  {
   "cell_type": "code",
   "execution_count": 130,
   "metadata": {},
   "outputs": [],
   "source": [
    "alsfrs_3mo = pd.read_csv('../PROACT/alsfrs_total_3mo_meta_slope.csv')\n",
    "alsfrs_detail_3mo = pd.read_csv('../PROACT/ALSFRS_original.csv')\n",
    "fvc_3mo = pd.read_csv('../PROACT/fvc_3mo_meta.csv')\n",
    "svc_3mo = pd.read_csv('../PROACT/svc_3mo_meta.csv')\n",
    "vitals = pd.read_csv('../PROACT/vitals.csv')\n",
    "weight = pd.read_csv('../PROACT/weight.csv')\n",
    "bmi = pd.read_csv('../PROACT/bmi.csv')\n",
    "lab = pd.read_csv('../PROACT/lab.csv')"
   ]
  },
  {
   "cell_type": "code",
   "execution_count": 131,
   "metadata": {},
   "outputs": [],
   "source": [
    "alsfrs_3mo.query(\"SubjectID == {0}\".format(extent), inplace=True)\n",
    "alsfrs_detail_3mo.query(\"SubjectID == {0}\".format(extent), inplace=True)\n",
    "fvc_3mo.query(\"SubjectID == {0}\".format(extent), inplace=True)\n",
    "svc_3mo.query(\"SubjectID == {0}\".format(extent), inplace=True)\n",
    "vitals.query(\"SubjectID == {0}\".format(extent), inplace=True)\n",
    "weight.query(\"SubjectID == {0}\".format(extent), inplace=True)\n",
    "bmi.query(\"SubjectID == {0}\".format(extent), inplace=True)\n",
    "lab.query(\"SubjectID == {0}\".format(extent), inplace=True)"
   ]
  },
  {
   "cell_type": "code",
   "execution_count": 132,
   "metadata": {},
   "outputs": [],
   "source": [
    "alsfrs_detail_3mo.query('feature_delta < 92', inplace=True)\n",
    "vitals.query('feature_delta < 92', inplace=True)\n",
    "weight.query('feature_delta < 92', inplace=True)\n",
    "bmi.query('feature_delta < 92', inplace=True)\n",
    "lab.query('feature_delta < 92', inplace=True)"
   ]
  },
  {
   "cell_type": "code",
   "execution_count": 133,
   "metadata": {},
   "outputs": [
    {
     "name": "stdout",
     "output_type": "stream",
     "text": [
      "3096\n",
      "3096\n",
      "2568\n",
      "526\n",
      "2716\n",
      "2890\n",
      "1966\n",
      "2872\n"
     ]
    }
   ],
   "source": [
    "print(len(alsfrs_3mo[\"SubjectID\"].unique()))\n",
    "print(len(alsfrs_detail_3mo[\"SubjectID\"].unique()))\n",
    "print(len(fvc_3mo[\"SubjectID\"].unique()))\n",
    "print(len(svc_3mo[\"SubjectID\"].unique()))\n",
    "print(len(vitals[\"SubjectID\"].unique()))\n",
    "print(len(weight[\"SubjectID\"].unique()))\n",
    "print(len(bmi[\"SubjectID\"].unique()))\n",
    "print(len(lab[\"SubjectID\"].unique()))"
   ]
  },
  {
   "cell_type": "code",
   "execution_count": 134,
   "metadata": {
    "scrolled": true
   },
   "outputs": [],
   "source": [
    "alsfrs_3mo.set_index('SubjectID', inplace=True)\n",
    "alsfrs_detail_3mo.set_index('SubjectID', inplace=True)\n",
    "fvc_3mo.set_index('SubjectID', inplace=True)\n",
    "svc_3mo.set_index('SubjectID', inplace=True)\n",
    "vitals.set_index('SubjectID', inplace=True)\n",
    "weight.set_index('SubjectID', inplace=True)\n",
    "bmi.set_index('SubjectID', inplace=True)\n",
    "lab.set_index('SubjectID', inplace=True)"
   ]
  },
  {
   "cell_type": "code",
   "execution_count": 135,
   "metadata": {},
   "outputs": [],
   "source": [
    "alsfrs_3mo = alsfrs_3mo.iloc[:,:4]\n",
    "fvc_3mo = fvc_3mo.iloc[:,:4]\n",
    "svc_3mo = svc_3mo.iloc[:,:4]"
   ]
  },
  {
   "cell_type": "markdown",
   "metadata": {},
   "source": [
    "Preprocessing time-resolved data"
   ]
  },
  {
   "cell_type": "markdown",
   "metadata": {},
   "source": [
    "1) Weight"
   ]
  },
  {
   "cell_type": "code",
   "execution_count": 137,
   "metadata": {},
   "outputs": [],
   "source": [
    "weight_s1 = weight.iloc[:,[0]].groupby('SubjectID',group_keys=False).agg(['mean', 'max', 'min'])"
   ]
  },
  {
   "cell_type": "code",
   "execution_count": 138,
   "metadata": {},
   "outputs": [],
   "source": [
    "weight_s2 = weight.groupby('SubjectID').agg(['first', 'last'])\n",
    "weight_s2['weight_change'] = weight_s2.iloc[:,1] - weight_s2.iloc[:,0]\n",
    "weight_s2['interval'] = weight_s2.iloc[:,3] - weight_s2.iloc[:,2]\n",
    "weight_s2['weight_slope'] = weight_s2['weight_change']/weight_s2['interval']"
   ]
  },
  {
   "cell_type": "code",
   "execution_count": 139,
   "metadata": {},
   "outputs": [],
   "source": [
    "weight_stat = weight_s1.merge(weight_s2[['weight_slope']], on = 'SubjectID', how='outer')\n",
    "weight_stat.columns = weight_stat.columns.droplevel()\n",
    "weight_stat.columns = ['mean_weight', 'max_weight', 'min_weight', 'slope_weight']"
   ]
  },
  {
   "cell_type": "code",
   "execution_count": 140,
   "metadata": {},
   "outputs": [
    {
     "name": "stdout",
     "output_type": "stream",
     "text": [
      "mean value of mean_weight is 77.03475513107257\n",
      "mean value of max_weight is 78.12524814311423\n",
      "mean value of min_weight is 75.87883804152222\n",
      "mean slope of weight is 0.0016672242807957952\n"
     ]
    }
   ],
   "source": [
    "print(\"mean value of mean_weight is \"+str(weight_stat[\"mean_weight\"].mean()))\n",
    "print(\"mean value of max_weight is \"+str(weight_stat[\"max_weight\"].mean()))\n",
    "print(\"mean value of min_weight is \"+str(weight_stat[\"min_weight\"].mean()))\n",
    "print(\"mean slope of weight is \"+str(weight_stat[\"slope_weight\"].mean()))"
   ]
  },
  {
   "cell_type": "markdown",
   "metadata": {},
   "source": [
    "2) BMI"
   ]
  },
  {
   "cell_type": "code",
   "execution_count": 141,
   "metadata": {},
   "outputs": [],
   "source": [
    "bmi_stat = bmi.iloc[:,[0]].groupby('SubjectID').mean()\n",
    "bmi_stat.columns = ['mean_BMI']"
   ]
  },
  {
   "cell_type": "code",
   "execution_count": 142,
   "metadata": {},
   "outputs": [
    {
     "name": "stdout",
     "output_type": "stream",
     "text": [
      "mean value of mean_bmi is 0.0026153509906531574\n"
     ]
    }
   ],
   "source": [
    "print(\"mean value of mean_bmi is \"+str(bmi_stat[\"mean_BMI\"].mean()))"
   ]
  },
  {
   "cell_type": "markdown",
   "metadata": {},
   "source": [
    "3) Vitals"
   ]
  },
  {
   "cell_type": "code",
   "execution_count": 143,
   "metadata": {},
   "outputs": [],
   "source": [
    "vitals_s1 = vitals.iloc[:, [1,2,3,4,5]].groupby('SubjectID').agg(['mean','max', 'min'])\n",
    "vitals_s1.columns = vitals_s1.columns.droplevel()\n",
    "vitals_s1.columns = ['mean_bp_d','max_bp_d', 'min_bp_d', 'mean_bp_s', 'max_bp_s', 'min_bp_s', 'mean_pulse', 'max_pulse', 'min_pulse', 'mean_resp_rate', 'max_resp_rate','min_resp_rate', 'mean_temp', 'max_temp', 'min_temp']"
   ]
  },
  {
   "cell_type": "code",
   "execution_count": 144,
   "metadata": {},
   "outputs": [],
   "source": [
    "vitals_s2 = vitals.groupby('SubjectID').agg(['first', 'last'])"
   ]
  },
  {
   "cell_type": "code",
   "execution_count": 145,
   "metadata": {},
   "outputs": [],
   "source": [
    "vitals_s2['interval'] = vitals_s2.iloc[:,1] - vitals_s2.iloc[:,0]\n",
    "vitals_s2['bp_d_slope'] = (vitals_s2.iloc[:,3] - vitals_s2.iloc[:,2])/vitals_s2['interval']\n",
    "vitals_s2['bp_s_slope'] = (vitals_s2.iloc[:,5] - vitals_s2.iloc[:,4])/vitals_s2['interval']\n",
    "vitals_s2['pulse_slope'] = (vitals_s2.iloc[:,7] - vitals_s2.iloc[:,6])/vitals_s2['interval']\n",
    "vitals_s2['resp_rate_slope'] = (vitals_s2.iloc[:,9] - vitals_s2.iloc[:,8])/vitals_s2['interval']\n",
    "vitals_s2['temp_slope'] = (vitals_s2.iloc[:,11] - vitals_s2.iloc[:,10])/vitals_s2['interval']"
   ]
  },
  {
   "cell_type": "code",
   "execution_count": 146,
   "metadata": {
    "scrolled": true
   },
   "outputs": [],
   "source": [
    "vitals_s3 = vitals_s2.iloc[:,13:]\n",
    "vitals_s3.columns = vitals_s3.columns.droplevel()\n",
    "vitals_s3.columns = ['bp_d_slope', 'bp_s_slope', 'pulse_slope', 'resp_rate_slope', 'temp_slope']"
   ]
  },
  {
   "cell_type": "code",
   "execution_count": 147,
   "metadata": {},
   "outputs": [],
   "source": [
    "vitals_stat = vitals_s1.merge(vitals_s3, on='SubjectID', how='outer')"
   ]
  },
  {
   "cell_type": "code",
   "execution_count": 148,
   "metadata": {},
   "outputs": [
    {
     "name": "stdout",
     "output_type": "stream",
     "text": [
      "mean slope of bp_diastolic is -0.008871548250814057\n",
      "mean slope of bp_systolic is -0.027735979126013287\n",
      "mean slope of pulse is 0.01601237512423807\n",
      "mean slope of repiratory_rate is 0.002698322055355942\n",
      "mean slope of temperature is -2.1648143677609954e-05\n"
     ]
    }
   ],
   "source": [
    "print(\"mean slope of bp_diastolic is \"+str(vitals_stat[\"bp_d_slope\"].mean()))\n",
    "print(\"mean slope of bp_systolic is \"+str(vitals_stat[\"bp_s_slope\"].mean()))\n",
    "print(\"mean slope of pulse is \"+str(vitals_stat[\"pulse_slope\"].mean()))\n",
    "print(\"mean slope of repiratory_rate is \"+str(vitals_stat[\"resp_rate_slope\"].mean()))\n",
    "print(\"mean slope of temperature is \"+str(vitals_stat[\"temp_slope\"].mean()))"
   ]
  },
  {
   "cell_type": "markdown",
   "metadata": {},
   "source": [
    "4) Lab"
   ]
  },
  {
   "cell_type": "code",
   "execution_count": 149,
   "metadata": {},
   "outputs": [
    {
     "data": {
      "text/plain": [
       "Index(['feature_delta', 'Absolute Lymphocyte Count', 'Absolute Monocyte Count',\n",
       "       'Absolute Neutrophil Count', 'C-Reactive Protein', 'CK', 'Creatinine',\n",
       "       'GFR', 'HDL', 'LDL', 'Total Cholesterol', 'Triglycerides', 'Uric Acid',\n",
       "       'Urine Creatinine', 'Urine Creatinine Clearance'],\n",
       "      dtype='object')"
      ]
     },
     "execution_count": 149,
     "metadata": {},
     "output_type": "execute_result"
    }
   ],
   "source": [
    "lab.columns"
   ]
  },
  {
   "cell_type": "code",
   "execution_count": 150,
   "metadata": {},
   "outputs": [],
   "source": [
    "lab.drop(columns = [\"C-Reactive Protein\", \"GFR\", \"HDL\", \"LDL\", \"Urine Creatinine\", \"Urine Creatinine Clearance\"], inplace = True)"
   ]
  },
  {
   "cell_type": "code",
   "execution_count": 151,
   "metadata": {},
   "outputs": [
    {
     "data": {
      "text/plain": [
       "Index(['feature_delta', 'Absolute Lymphocyte Count', 'Absolute Monocyte Count',\n",
       "       'Absolute Neutrophil Count', 'CK', 'Creatinine', 'Total Cholesterol',\n",
       "       'Triglycerides', 'Uric Acid'],\n",
       "      dtype='object')"
      ]
     },
     "execution_count": 151,
     "metadata": {},
     "output_type": "execute_result"
    }
   ],
   "source": [
    "lab.columns"
   ]
  },
  {
   "cell_type": "code",
   "execution_count": 152,
   "metadata": {},
   "outputs": [],
   "source": [
    "lab = lab.astype({'CK': 'float', 'Creatinine': 'float'})\n",
    "lab_s1 = lab.iloc[:, 1:].groupby('SubjectID').agg(['mean','max', 'min'])\n",
    "lab_s1.columns = lab_s1.columns.droplevel()\n",
    "lab_s1.columns = ['mean_ALC','max_ALC', 'min_ALC', 'mean_AMC', 'max_AMC', 'min_AMC', 'mean_ANC', 'max_ANC', 'min_ANC', 'mean_CK', 'max_CK','min_CK', 'mean_Creatinine', 'max_Creatinine', 'min_Creatinine', 'mean_Total_Cholesterol', 'max_Total_Cholesterol', 'min_Total_Cholesterol', 'mean_Triglycerides', 'max_Triglycerides', 'min_Triglycerides', 'mean_Uric_Acid', 'max_Uric_Acid', 'min_Uric_Acid']"
   ]
  },
  {
   "cell_type": "code",
   "execution_count": 153,
   "metadata": {},
   "outputs": [],
   "source": [
    "lab_s2 = lab.groupby('SubjectID').agg(['first', 'last'])"
   ]
  },
  {
   "cell_type": "code",
   "execution_count": 154,
   "metadata": {},
   "outputs": [],
   "source": [
    "lab_s2['interval'] = lab_s2.iloc[:,1] - lab_s2.iloc[:,0]\n",
    "lab_s2['ALC_slope'] = (lab_s2.iloc[:,3] - lab_s2.iloc[:,2])/lab_s2['interval']\n",
    "lab_s2['AMC_slope'] = (lab_s2.iloc[:,5] - lab_s2.iloc[:,4])/lab_s2['interval']\n",
    "lab_s2['ANC_slope'] = (lab_s2.iloc[:,7] - lab_s2.iloc[:,6])/lab_s2['interval']\n",
    "lab_s2['CK_slope'] = (lab_s2.iloc[:,9] - lab_s2.iloc[:,8])/lab_s2['interval']\n",
    "lab_s2['Creaetinine_slope'] = (lab_s2.iloc[:,11] - lab_s2.iloc[:,10])/lab_s2['interval']\n",
    "lab_s2['Total_Cholesterol_slope'] = (lab_s2.iloc[:,13] - lab_s2.iloc[:,12])/lab_s2['interval']\n",
    "lab_s2['Triglycerides_slope'] = (lab_s2.iloc[:,15] - lab_s2.iloc[:,14])/lab_s2['interval']\n",
    "lab_s2['Uric_Acid_slope'] = (lab_s2.iloc[:,17] - lab_s2.iloc[:,16])/lab_s2['interval']"
   ]
  },
  {
   "cell_type": "code",
   "execution_count": 155,
   "metadata": {},
   "outputs": [],
   "source": [
    "lab_s3 = lab_s2.iloc[:,19:]\n",
    "lab_s3.columns = lab_s3.columns.droplevel()\n",
    "lab_s3.columns = ['ALC_slope', 'AMC_slope' ,'ANC_slope', 'CK_slope', 'Creaetinine_slope', 'Total_Cholesterol_slope', 'Triglycerides_slope','Uric_Acid_slope']"
   ]
  },
  {
   "cell_type": "code",
   "execution_count": 127,
   "metadata": {},
   "outputs": [],
   "source": [
    "lab_stat = lab_s1.merge(lab_s3, on='SubjectID', how='outer')"
   ]
  },
  {
   "cell_type": "markdown",
   "metadata": {},
   "source": [
    "5) ALSFRS_3mo"
   ]
  },
  {
   "cell_type": "code",
   "execution_count": 157,
   "metadata": {},
   "outputs": [
    {
     "name": "stdout",
     "output_type": "stream",
     "text": [
      "mean slope of total alsfrs is -0.01810708927893637\n",
      "mean value of mean_alsfrs_total is 30.479688845822555\n",
      "mean value of max_alsfrs_total is 31.66795865633075\n",
      "mean value of min_alsfrs_total is 29.233527131782946\n"
     ]
    }
   ],
   "source": [
    "print(\"mean slope of total alsfrs is \"+str(alsfrs_3mo[\"alsfrs_total_slope\"].mean()))\n",
    "print(\"mean value of mean_alsfrs_total is \"+str(alsfrs_3mo[\"mean_alsfrs_total\"].mean()))\n",
    "print(\"mean value of max_alsfrs_total is \"+str(alsfrs_3mo[\"max_alsfrs_total\"].mean()))\n",
    "print(\"mean value of min_alsfrs_total is \"+str(alsfrs_3mo[\"min_alsfrs_total\"].mean()))"
   ]
  },
  {
   "cell_type": "markdown",
   "metadata": {},
   "source": [
    "6) ALSFRS_detail_3mo"
   ]
  },
  {
   "cell_type": "code",
   "execution_count": 169,
   "metadata": {},
   "outputs": [],
   "source": [
    "alsfrs_detail_3mo = alsfrs_detail_3mo[['feature_delta', 'mouth', 'hands', 'leg', 'trunk', 'respiratory']]"
   ]
  },
  {
   "cell_type": "code",
   "execution_count": 170,
   "metadata": {},
   "outputs": [],
   "source": [
    "alsfrs_detail_3mo_s1 = alsfrs_detail_3mo.iloc[:, 1:].groupby('SubjectID').agg(['mean','max', 'min'])\n",
    "alsfrs_detail_3mo_s1.columns = alsfrs_detail_3mo_s1.columns.droplevel()\n",
    "alsfrs_detail_3mo_s1.columns = ['mean_alsfrs_mouth', 'max_alsfrs_mouth','min_alsfrs_mouth', 'mean_alsfrs_hands', 'max_alsfrs_hands','min_alsfrs_hands', 'mean_alsfrs_leg', 'max_alsfrs_leg','min_alsfrs_leg', 'mean_alsfrs_trunk', 'max_alsfrs_trunk','min_alsfrs_trunk', 'mean_alsfrs_respiratory', 'max_alsfrs_respiratory','min_alsfrs_respiratory']"
   ]
  },
  {
   "cell_type": "code",
   "execution_count": 171,
   "metadata": {},
   "outputs": [],
   "source": [
    "alsfrs_detail_3mo_s2 = alsfrs_detail_3mo.groupby('SubjectID').agg(['first', 'last'])"
   ]
  },
  {
   "cell_type": "code",
   "execution_count": 172,
   "metadata": {},
   "outputs": [],
   "source": [
    "alsfrs_detail_3mo_s2['interval'] = alsfrs_detail_3mo_s2.iloc[:,1] - alsfrs_detail_3mo_s2.iloc[:,0]\n",
    "alsfrs_detail_3mo_s2['alsfrs_mouth_slope'] = (alsfrs_detail_3mo_s2.iloc[:,3] - alsfrs_detail_3mo_s2.iloc[:,2])/alsfrs_detail_3mo_s2['interval']\n",
    "alsfrs_detail_3mo_s2['alsfrs_hands_slope'] = (alsfrs_detail_3mo_s2.iloc[:,5] - alsfrs_detail_3mo_s2.iloc[:,4])/alsfrs_detail_3mo_s2['interval']\n",
    "alsfrs_detail_3mo_s2['alsfrs_leg_slope'] = (alsfrs_detail_3mo_s2.iloc[:,7] - alsfrs_detail_3mo_s2.iloc[:,6])/alsfrs_detail_3mo_s2['interval']\n",
    "alsfrs_detail_3mo_s2['alsfrs_trunk_slope'] = (alsfrs_detail_3mo_s2.iloc[:,9] - alsfrs_detail_3mo_s2.iloc[:,8])/alsfrs_detail_3mo_s2['interval']\n",
    "alsfrs_detail_3mo_s2['alsfrs_respiratory_slope'] = (alsfrs_detail_3mo_s2.iloc[:,11] - alsfrs_detail_3mo_s2.iloc[:,10])/alsfrs_detail_3mo_s2['interval']"
   ]
  },
  {
   "cell_type": "code",
   "execution_count": 178,
   "metadata": {},
   "outputs": [],
   "source": [
    "alsfrs_detail_3mo_s3 = alsfrs_detail_3mo_s2.iloc[:,13:]\n",
    "alsfrs_detail_3mo_s3.columns = alsfrs_detail_3mo_s3.columns.droplevel(1)"
   ]
  },
  {
   "cell_type": "code",
   "execution_count": 181,
   "metadata": {},
   "outputs": [],
   "source": [
    "alsfrs_detail_3mo_stat = alsfrs_detail_3mo_s1.merge(alsfrs_detail_3mo_s3, on='SubjectID', how='outer')"
   ]
  },
  {
   "cell_type": "markdown",
   "metadata": {},
   "source": [
    "7) FVC, SVC 3mo"
   ]
  },
  {
   "cell_type": "code",
   "execution_count": 183,
   "metadata": {},
   "outputs": [
    {
     "name": "stdout",
     "output_type": "stream",
     "text": [
      "mean slope of fvc is -0.06263292919876232\n",
      "mean value of mean_fvc is 83.69979880581522\n",
      "mean value of max_fvc is 88.35825545171339\n",
      "mean value of min_fvc is 78.86059190031153\n"
     ]
    }
   ],
   "source": [
    "print(\"mean slope of fvc is \"+str(fvc_3mo[\"fvc_slope\"].mean()))\n",
    "print(\"mean value of mean_fvc is \"+str(fvc_3mo[\"fvc_mean\"].mean()))\n",
    "print(\"mean value of max_fvc is \"+str(fvc_3mo[\"fvc_max\"].mean()))\n",
    "print(\"mean value of min_fvc is \"+str(fvc_3mo[\"fvc_min\"].mean()))"
   ]
  },
  {
   "cell_type": "code",
   "execution_count": 185,
   "metadata": {},
   "outputs": [
    {
     "name": "stdout",
     "output_type": "stream",
     "text": [
      "mean slope of svc is -0.07592307077535818\n",
      "mean value of mean_svc is 88.52043726235745\n",
      "mean value of max_svc is 93.75475285171103\n",
      "mean value of min_svc is 83.00190114068441\n"
     ]
    }
   ],
   "source": [
    "print(\"mean slope of svc is \"+str(svc_3mo[\"svc_slope\"].mean()))\n",
    "print(\"mean value of mean_svc is \"+str(svc_3mo[\"svc_mean\"].mean()))\n",
    "print(\"mean value of max_svc is \"+str(svc_3mo[\"svc_max\"].mean()))\n",
    "print(\"mean value of min_svc is \"+str(svc_3mo[\"svc_min\"].mean()))"
   ]
  },
  {
   "cell_type": "markdown",
   "metadata": {},
   "source": [
    "combine time-resolved features into one dataframe"
   ]
  },
  {
   "cell_type": "code",
   "execution_count": 186,
   "metadata": {},
   "outputs": [],
   "source": [
    "time_res = pd.DataFrame(columns=['SubjectID'])\n",
    "time_res_list = [alsfrs_3mo, alsfrs_detail_3mo_stat, fvc_3mo, svc_3mo, vitals_stat, weight_stat, bmi_stat, lab_stat]\n",
    "for i in time_res_list :\n",
    "    df = i\n",
    "    time_res = time_res.merge(df, on='SubjectID', how='outer')"
   ]
  },
  {
   "cell_type": "markdown",
   "metadata": {},
   "source": [
    "Merge all features into one dataframe"
   ]
  },
  {
   "cell_type": "code",
   "execution_count": 188,
   "metadata": {},
   "outputs": [],
   "source": [
    "features_combined = static.merge(time_res, on='SubjectID', how='outer')"
   ]
  },
  {
   "cell_type": "code",
   "execution_count": 193,
   "metadata": {},
   "outputs": [],
   "source": [
    "features_combined.to_csv('../예비4 - 변수선택용 proact 데이터/features_combined_with_nans.csv')"
   ]
  },
  {
   "cell_type": "markdown",
   "metadata": {},
   "source": [
    "Merge all feauture and target "
   ]
  },
  {
   "cell_type": "code",
   "execution_count": 194,
   "metadata": {},
   "outputs": [],
   "source": [
    "features_target_combined = features_combined.merge(ALSFRS_slope, on='SubjectID', how='outer')"
   ]
  },
  {
   "cell_type": "code",
   "execution_count": 196,
   "metadata": {},
   "outputs": [],
   "source": [
    "features_target_combined.to_csv('../예비4 - 변수선택용 proact 데이터/features_target_combined_with_nans.csv')"
   ]
  }
 ],
 "metadata": {
  "kernelspec": {
   "display_name": "Python 3",
   "language": "python",
   "name": "python3"
  },
  "language_info": {
   "codemirror_mode": {
    "name": "ipython",
    "version": 3
   },
   "file_extension": ".py",
   "mimetype": "text/x-python",
   "name": "python",
   "nbconvert_exporter": "python",
   "pygments_lexer": "ipython3",
   "version": "3.7.4"
  }
 },
 "nbformat": 4,
 "nbformat_minor": 4
}

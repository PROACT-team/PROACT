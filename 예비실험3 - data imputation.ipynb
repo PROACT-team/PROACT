{
 "cells": [
  {
   "cell_type": "code",
   "execution_count": 1,
   "metadata": {},
   "outputs": [],
   "source": [
    "import matplotlib.pyplot as plt\n",
    "import numpy as np\n",
    "import pandas as pd\n",
    "import seaborn as sns"
   ]
  },
  {
   "cell_type": "code",
   "execution_count": 2,
   "metadata": {},
   "outputs": [],
   "source": [
    "x_test_with_nans = pd.read_csv(\"../예비3 - 변수선택용 proact 데이터/x_test_with_nans.csv\")\n",
    "x_train_with_nans = pd.read_csv(\"../예비3 - 변수선택용 proact 데이터/x_train_with_nans.csv\")\n",
    "y_test_with_nans = pd.read_csv(\"../예비3 - 변수선택용 proact 데이터/y_test_with_nans.csv\")\n",
    "y_train_with_nans = pd.read_csv(\"../예비3 - 변수선택용 proact 데이터/y_train_with_nans.csv\")"
   ]
  },
  {
   "cell_type": "markdown",
   "metadata": {},
   "source": [
    "Replace 0 with NaN"
   ]
  },
  {
   "cell_type": "code",
   "execution_count": 3,
   "metadata": {},
   "outputs": [],
   "source": [
    "x_test_with_nans = x_test_with_nans.replace(0, np.NaN)\n",
    "x_train_with_nans = x_train_with_nans.replace(0, np.NaN)\n",
    "y_test_with_nans = y_test_with_nans.replace(0, np.NaN)\n",
    "y_train_with_nans = y_train_with_nans.replace(0, np.NaN)"
   ]
  },
  {
   "cell_type": "markdown",
   "metadata": {},
   "source": [
    "Checking percentage of NaN in data"
   ]
  },
  {
   "cell_type": "code",
   "execution_count": 15,
   "metadata": {},
   "outputs": [],
   "source": [
    "def report_nulls(df):\n",
    "    '''\n",
    "    Show a fast report of the DF.\n",
    "    '''\n",
    "    rows = df.shape[0]\n",
    "    columns = df.shape[1]\n",
    "    null_cols = 0\n",
    "    list_of_nulls_cols = []\n",
    "    list_of_nulls_cols_pcn = []\n",
    "    list_of_nulls_cols_over60 = []\n",
    "    for col in list(df.columns):\n",
    "        null_values_rows = df[col].isnull().sum()\n",
    "        null_rows_pcn = round(((null_values_rows)/rows)*100, 2)\n",
    "        col_type = df[col].dtype\n",
    "        if null_values_rows > 0:\n",
    "            print(\"The column {} has {} null values. It is {}% of total rows.\".format(col, null_values_rows, null_rows_pcn))\n",
    "            print(\"The column {} is of type {}.\\n\".format(col, col_type))\n",
    "            null_cols += 1\n",
    "            list_of_nulls_cols.append(col)\n",
    "            list_of_nulls_cols_pcn.append(null_rows_pcn)\n",
    "            if null_rows_pcn > 60:\n",
    "                list_of_nulls_cols_over60.append(col)\n",
    "    null_cols_pcn = round((null_cols/columns)*100, 2)\n",
    "    print(\"The DataFrame has {} columns with null values. It is {}% of total columns.\".format(null_cols, null_cols_pcn))\n",
    "    plt.bar(list_of_nulls_cols, list_of_nulls_cols_pcn)\n",
    "    plt.xticks(rotation = 90)\n",
    "    axes = plt.gca()\n",
    "    axes.set_ylim([0,100])\n",
    "    plt.show()\n",
    "    \n",
    "    return list_of_nulls_cols_over60"
   ]
  },
  {
   "cell_type": "code",
   "execution_count": 16,
   "metadata": {},
   "outputs": [
    {
     "name": "stdout",
     "output_type": "stream",
     "text": [
      "The column diag_delta has 277 null values. It is 44.68% of total rows.\n",
      "The column diag_delta is of type float64.\n",
      "\n",
      "The column onset_delta has 276 null values. It is 44.52% of total rows.\n",
      "The column onset_delta is of type float64.\n",
      "\n",
      "The column diag_minus_onset has 278 null values. It is 44.84% of total rows.\n",
      "The column diag_minus_onset is of type float64.\n",
      "\n",
      "The column mean_bp_d has 76 null values. It is 12.26% of total rows.\n",
      "The column mean_bp_d is of type float64.\n",
      "\n",
      "The column max_bp_s has 76 null values. It is 12.26% of total rows.\n",
      "The column max_bp_s is of type float64.\n",
      "\n",
      "The column max_resp_rate has 105 null values. It is 16.94% of total rows.\n",
      "The column max_resp_rate is of type float64.\n",
      "\n",
      "The column max_pulse has 76 null values. It is 12.26% of total rows.\n",
      "The column max_pulse is of type float64.\n",
      "\n",
      "The column bp_s_slope has 122 null values. It is 19.68% of total rows.\n",
      "The column bp_s_slope is of type float64.\n",
      "\n",
      "The column fvc_slope has 124 null values. It is 20.0% of total rows.\n",
      "The column fvc_slope is of type float64.\n",
      "\n",
      "The column fvc_max has 110 null values. It is 17.74% of total rows.\n",
      "The column fvc_max is of type float64.\n",
      "\n",
      "The DataFrame has 10 columns with null values. It is 76.92% of total columns.\n"
     ]
    },
    {
     "data": {
      "image/png": "[encoded data removed]",
      "text/plain": [
       "<Figure size 432x288 with 1 Axes>"
      ]
     },
     "metadata": {
      "needs_background": "light"
     },
     "output_type": "display_data"
    },
    {
     "data": {
      "text/plain": [
       "[]"
      ]
     },
     "execution_count": 16,
     "metadata": {},
     "output_type": "execute_result"
    }
   ],
   "source": [
    "report_nulls(x_test_with_nans)"
   ]
  },
  {
   "cell_type": "code",
   "execution_count": 17,
   "metadata": {},
   "outputs": [
    {
     "name": "stdout",
     "output_type": "stream",
     "text": [
      "The column Unnamed: 0 has 1 null values. It is 0.04% of total rows.\n",
      "The column Unnamed: 0 is of type float64.\n",
      "\n",
      "The column diag_delta has 1176 null values. It is 47.5% of total rows.\n",
      "The column diag_delta is of type float64.\n",
      "\n",
      "The column onset_delta has 1167 null values. It is 47.13% of total rows.\n",
      "The column onset_delta is of type float64.\n",
      "\n",
      "The column diag_minus_onset has 1170 null values. It is 47.25% of total rows.\n",
      "The column diag_minus_onset is of type float64.\n",
      "\n",
      "The column mean_bp_d has 304 null values. It is 12.28% of total rows.\n",
      "The column mean_bp_d is of type float64.\n",
      "\n",
      "The column max_bp_s has 304 null values. It is 12.28% of total rows.\n",
      "The column max_bp_s is of type float64.\n",
      "\n",
      "The column max_resp_rate has 437 null values. It is 17.65% of total rows.\n",
      "The column max_resp_rate is of type float64.\n",
      "\n",
      "The column max_pulse has 304 null values. It is 12.28% of total rows.\n",
      "The column max_pulse is of type float64.\n",
      "\n",
      "The column bp_s_slope has 545 null values. It is 22.01% of total rows.\n",
      "The column bp_s_slope is of type float64.\n",
      "\n",
      "The column fvc_slope has 467 null values. It is 18.86% of total rows.\n",
      "The column fvc_slope is of type float64.\n",
      "\n",
      "The column fvc_max has 418 null values. It is 16.88% of total rows.\n",
      "The column fvc_max is of type float64.\n",
      "\n",
      "The DataFrame has 11 columns with null values. It is 84.62% of total columns.\n"
     ]
    },
    {
     "data": {
      "image/png": "[encoded data removed]",
      "text/plain": [
       "<Figure size 432x288 with 1 Axes>"
      ]
     },
     "metadata": {
      "needs_background": "light"
     },
     "output_type": "display_data"
    },
    {
     "data": {
      "text/plain": [
       "[]"
      ]
     },
     "execution_count": 17,
     "metadata": {},
     "output_type": "execute_result"
    }
   ],
   "source": [
    "report_nulls(x_train_with_nans)"
   ]
  },
  {
   "cell_type": "code",
   "execution_count": 18,
   "metadata": {},
   "outputs": [
    {
     "name": "stdout",
     "output_type": "stream",
     "text": [
      "The column ALSFRS_slope has 34 null values. It is 5.48% of total rows.\n",
      "The column ALSFRS_slope is of type float64.\n",
      "\n",
      "The DataFrame has 1 columns with null values. It is 33.33% of total columns.\n"
     ]
    },
    {
     "data": {
      "image/png": "[encoded data removed]",
      "text/plain": [
       "<Figure size 432x288 with 1 Axes>"
      ]
     },
     "metadata": {
      "needs_background": "light"
     },
     "output_type": "display_data"
    },
    {
     "data": {
      "text/plain": [
       "[]"
      ]
     },
     "execution_count": 18,
     "metadata": {},
     "output_type": "execute_result"
    }
   ],
   "source": [
    "report_nulls(y_test_with_nans)"
   ]
  },
  {
   "cell_type": "code",
   "execution_count": 19,
   "metadata": {},
   "outputs": [
    {
     "name": "stdout",
     "output_type": "stream",
     "text": [
      "The column Unnamed: 0 has 1 null values. It is 0.04% of total rows.\n",
      "The column Unnamed: 0 is of type float64.\n",
      "\n",
      "The column ALSFRS_slope has 137 null values. It is 5.53% of total rows.\n",
      "The column ALSFRS_slope is of type float64.\n",
      "\n",
      "The DataFrame has 2 columns with null values. It is 66.67% of total columns.\n"
     ]
    },
    {
     "data": {
      "image/png": "[encoded data removed]",
      "text/plain": [
       "<Figure size 432x288 with 1 Axes>"
      ]
     },
     "metadata": {
      "needs_background": "light"
     },
     "output_type": "display_data"
    },
    {
     "data": {
      "text/plain": [
       "[]"
      ]
     },
     "execution_count": 19,
     "metadata": {},
     "output_type": "execute_result"
    }
   ],
   "source": [
    "report_nulls(y_train_with_nans)"
   ]
  },
  {
   "cell_type": "markdown",
   "metadata": {},
   "source": [
    "Replace NaN with mean value"
   ]
  },
  {
   "cell_type": "code",
   "execution_count": 21,
   "metadata": {},
   "outputs": [],
   "source": [
    "x_test_without_nans = x_test_with_nans.fillna(x_test_with_nans.mean())\n",
    "x_train_without_nans = x_train_with_nans.fillna(x_train_with_nans.mean())\n",
    "y_test_without_nans = y_test_with_nans.fillna(y_test_with_nans.mean())\n",
    "y_train_without_nans = y_train_with_nans.fillna(y_train_with_nans.mean())"
   ]
  },
  {
   "cell_type": "markdown",
   "metadata": {},
   "source": [
    "Convert to csv file"
   ]
  },
  {
   "cell_type": "code",
   "execution_count": 27,
   "metadata": {},
   "outputs": [],
   "source": [
    "x_test_without_nans.to_csv(\"../예비3 - 변수선택용 proact 데이터/x_test_without_nans.csv\")\n",
    "x_train_without_nans.to_csv(\"../예비3 - 변수선택용 proact 데이터/x_train_without_nans.csv\")\n",
    "y_test_without_nans.to_csv(\"../예비3 - 변수선택용 proact 데이터/y_test_without_nans.csv\")\n",
    "y_train_without_nans.to_csv(\"../예비3 - 변수선택용 proact 데이터/y_train_without_nans.csv\")"
   ]
  }
 ],
 "metadata": {
  "kernelspec": {
   "display_name": "Python 3",
   "language": "python",
   "name": "python3"
  },
  "language_info": {
   "codemirror_mode": {
    "name": "ipython",
    "version": 3
   },
   "file_extension": ".py",
   "mimetype": "text/x-python",
   "name": "python",
   "nbconvert_exporter": "python",
   "pygments_lexer": "ipython3",
   "version": "3.7.4"
  }
 },
 "nbformat": 4,
 "nbformat_minor": 2
}

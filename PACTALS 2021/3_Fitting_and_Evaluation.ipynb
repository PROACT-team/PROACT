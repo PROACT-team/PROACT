{
  "nbformat": 4,
  "nbformat_minor": 0,
  "metadata": {
    "kernelspec": {
      "display_name": "Python 3",
      "language": "python",
      "name": "python3"
    },
    "language_info": {
      "codemirror_mode": {
        "name": "ipython",
        "version": 3
      },
      "file_extension": ".py",
      "mimetype": "text/x-python",
      "name": "python",
      "nbconvert_exporter": "python",
      "pygments_lexer": "ipython3",
      "version": "3.7.4"
    },
    "colab": {
      "name": "Fitting and Evaluation.ipynb의 사본",
      "provenance": [],
      "collapsed_sections": [
        "ReSwoqVk7ceM",
        "-ffjJowCnbgB",
        "V0Z4ulzxnbgC"
      ]
    }
  },
  "cells": [
    {
      "cell_type": "code",
      "metadata": {
        "id": "71FTqvadnbfe"
      },
      "source": [
        "# Load packages\n",
        "import pandas as pd\n",
        "import numpy as np\n",
        "import matplotlib.pyplot as plt\n",
        "import seaborn as sns"
      ],
      "execution_count": null,
      "outputs": []
    },
    {
      "cell_type": "code",
      "metadata": {
        "id": "xS7BxIJqnbfg"
      },
      "source": [
        "pip install lifelines"
      ],
      "execution_count": null,
      "outputs": []
    },
    {
      "cell_type": "code",
      "metadata": {
        "colab": {
          "resources": {
            "http://localhost:8080/nbextensions/google.colab/files.js": {
              "data": "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",
              "ok": true,
              "headers": [
                [
                  "content-type",
                  "application/javascript"
                ]
              ],
              "status": 200,
              "status_text": ""
            }
          },
          "base_uri": "https://localhost:8080/",
          "height": 111
        },
        "id": "57erJ3oHo38_",
        "outputId": "a271eaa2-bdca-4803-90c0-bed74fcdf917"
      },
      "source": [
        "# Read datasets needed\n",
        "from google.colab import files \n",
        "uploaded = files.upload()"
      ],
      "execution_count": null,
      "outputs": [
        {
          "output_type": "display_data",
          "data": {
            "text/html": [
              "\n",
              "     <input type=\"file\" id=\"files-acd6176d-e876-44bd-bda0-15c5c930b3cf\" name=\"files[]\" multiple disabled\n",
              "        style=\"border:none\" />\n",
              "     <output id=\"result-acd6176d-e876-44bd-bda0-15c5c930b3cf\">\n",
              "      Upload widget is only available when the cell has been executed in the\n",
              "      current browser session. Please rerun this cell to enable.\n",
              "      </output>\n",
              "      <script src=\"/nbextensions/google.colab/files.js\"></script> "
            ],
            "text/plain": [
              "<IPython.core.display.HTML object>"
            ]
          },
          "metadata": {
            "tags": []
          }
        },
        {
          "output_type": "stream",
          "text": [
            "Saving 0817_optimal_target.csv to 0817_optimal_target.csv\n",
            "Saving 0817_X_imputed.csv to 0817_X_imputed.csv\n"
          ],
          "name": "stdout"
        }
      ]
    },
    {
      "cell_type": "code",
      "metadata": {
        "id": "O6As9wfvwx11"
      },
      "source": [
        "import io\n",
        "feature = pd.read_csv(io.BytesIO(uploaded['0817_X_imputed.csv'])) \n",
        "target = pd.read_csv(io.BytesIO(uploaded['0817_optimal_target.csv'])) #target means 'time to dietary consistency change'"
      ],
      "execution_count": null,
      "outputs": []
    },
    {
      "cell_type": "code",
      "metadata": {
        "colab": {
          "base_uri": "https://localhost:8080/"
        },
        "id": "dNna9C6zodYI",
        "outputId": "a2077938-af29-49ce-9ae9-d2cd479dd977"
      },
      "source": [
        "feature.columns"
      ],
      "execution_count": null,
      "outputs": [
        {
          "output_type": "execute_result",
          "data": {
            "text/plain": [
              "Index(['Unnamed: 0', 'SubjectID', 'Age', 'Gender', 'diag_delta', 'onset_delta',\n",
              "       'onset_site', 'diag_minus_onset', 'fvc_slope', 'fvc_mean',\n",
              "       'Creatinine_mean', 'Creatinine_slope', 'alsfrs_total_slope',\n",
              "       'mean_Q1_Speech', 'mean_Q2_Salivation', 'mean_Q3_Swallowing',\n",
              "       'mean_Q4_Handwriting', 'mean_Q5_Cutting',\n",
              "       'mean_Q6_Dressing_and_Hygiene', 'mean_Q7_Turning_in_Bed',\n",
              "       'mean_Q8_Walking', 'mean_Q9_Climbing_Stairs', 'mean_Q10_Respiratory',\n",
              "       'slope_Q1_Speech', 'slope_Q2_Salivation', 'slope_Q3_Swallowing',\n",
              "       'slope_Q4_Handwriting', 'slope_Q5_Cutting',\n",
              "       'slope_Q6_Dressing_and_Hygiene', 'slope_Q7_Turning_in_Bed',\n",
              "       'slope_Q8_Walking', 'slope_Q9_Climbing_Stairs', 'slope_Q10_Respiratory',\n",
              "       'weight_slope'],\n",
              "      dtype='object')"
            ]
          },
          "metadata": {
            "tags": []
          },
          "execution_count": 5
        }
      ]
    },
    {
      "cell_type": "code",
      "metadata": {
        "id": "bhHjDXiBqyPS"
      },
      "source": [
        "opt_data = pd.merge(feature, target, on = 'SubjectID').drop(columns=['Unnamed: 0_x', 'Unnamed: 0_y'])\n",
        "\n",
        "# add meta feature 'mean_Q1_2_3_mouth'\n",
        "opt_data['mean_Q1_2_3_mouth'] = opt_data['mean_Q1_Speech'] + opt_data['mean_Q2_Salivation'] + opt_data['mean_Q3_Swallowing']\n",
        "opt_data = opt_data[['SubjectID','Age', 'onset_delta', 'fvc_mean', 'Creatinine_mean', \n",
        "                       'mean_Q1_2_3_mouth',   'mean_Q5_Cutting', 'mean_Q7_Turning_in_Bed', \n",
        "                       'slope_Q1_Speech', 'slope_Q3_Swallowing', \n",
        "                      'weight_slope', 'status_opt', 'time_opt']]"
      ],
      "execution_count": null,
      "outputs": []
    },
    {
      "cell_type": "code",
      "metadata": {
        "colab": {
          "base_uri": "https://localhost:8080/",
          "height": 423
        },
        "id": "lgeclutunbfw",
        "outputId": "89c93e68-b59c-4e55-f48e-a847b7a11cda"
      },
      "source": [
        "y = opt_data[['status_opt']] # y means whether dietary consistency change has occured or not\n",
        "\n",
        "# Separate 5 subjects for demonstration purpose\n",
        "df_test = opt_data.sample(n=5, random_state = 12)\n",
        "testID_list = list(df_test['SubjectID'])\n",
        "\n",
        "# The others are used as train set\n",
        "df_train = opt_data[~(opt_data['SubjectID'].isin(testID_list))]\n",
        "df_train = df_train.drop(columns = 'SubjectID')\n",
        "y_train = df_train[['status_opt']]\n",
        "\n",
        "df_train"
      ],
      "execution_count": null,
      "outputs": [
        {
          "output_type": "execute_result",
          "data": {
            "text/html": [
              "<div>\n",
              "<style scoped>\n",
              "    .dataframe tbody tr th:only-of-type {\n",
              "        vertical-align: middle;\n",
              "    }\n",
              "\n",
              "    .dataframe tbody tr th {\n",
              "        vertical-align: top;\n",
              "    }\n",
              "\n",
              "    .dataframe thead th {\n",
              "        text-align: right;\n",
              "    }\n",
              "</style>\n",
              "<table border=\"1\" class=\"dataframe\">\n",
              "  <thead>\n",
              "    <tr style=\"text-align: right;\">\n",
              "      <th></th>\n",
              "      <th>Age</th>\n",
              "      <th>onset_delta</th>\n",
              "      <th>fvc_mean</th>\n",
              "      <th>Creatinine_mean</th>\n",
              "      <th>mean_Q1_2_3_mouth</th>\n",
              "      <th>mean_Q5_Cutting</th>\n",
              "      <th>mean_Q7_Turning_in_Bed</th>\n",
              "      <th>slope_Q1_Speech</th>\n",
              "      <th>slope_Q3_Swallowing</th>\n",
              "      <th>weight_slope</th>\n",
              "      <th>status_opt</th>\n",
              "      <th>time_opt</th>\n",
              "    </tr>\n",
              "  </thead>\n",
              "  <tbody>\n",
              "    <tr>\n",
              "      <th>0</th>\n",
              "      <td>4.0</td>\n",
              "      <td>-56.087671</td>\n",
              "      <td>101.250000</td>\n",
              "      <td>58.933333</td>\n",
              "      <td>11.000000</td>\n",
              "      <td>1.90</td>\n",
              "      <td>2.600000</td>\n",
              "      <td>0.000000</td>\n",
              "      <td>0.000000</td>\n",
              "      <td>-2.703704</td>\n",
              "      <td>0</td>\n",
              "      <td>274</td>\n",
              "    </tr>\n",
              "    <tr>\n",
              "      <th>1</th>\n",
              "      <td>6.0</td>\n",
              "      <td>-35.178082</td>\n",
              "      <td>51.000000</td>\n",
              "      <td>88.400000</td>\n",
              "      <td>8.500000</td>\n",
              "      <td>3.75</td>\n",
              "      <td>4.000000</td>\n",
              "      <td>0.000000</td>\n",
              "      <td>-0.334249</td>\n",
              "      <td>-3.309066</td>\n",
              "      <td>1</td>\n",
              "      <td>35</td>\n",
              "    </tr>\n",
              "    <tr>\n",
              "      <th>2</th>\n",
              "      <td>12.0</td>\n",
              "      <td>-16.898630</td>\n",
              "      <td>89.600000</td>\n",
              "      <td>72.404103</td>\n",
              "      <td>11.000000</td>\n",
              "      <td>4.00</td>\n",
              "      <td>4.000000</td>\n",
              "      <td>0.000000</td>\n",
              "      <td>0.362103</td>\n",
              "      <td>-0.601648</td>\n",
              "      <td>0</td>\n",
              "      <td>154</td>\n",
              "    </tr>\n",
              "    <tr>\n",
              "      <th>3</th>\n",
              "      <td>5.0</td>\n",
              "      <td>-18.739726</td>\n",
              "      <td>71.000000</td>\n",
              "      <td>58.400000</td>\n",
              "      <td>8.500000</td>\n",
              "      <td>1.00</td>\n",
              "      <td>0.500000</td>\n",
              "      <td>-0.633681</td>\n",
              "      <td>0.000000</td>\n",
              "      <td>-1.933900</td>\n",
              "      <td>1</td>\n",
              "      <td>187</td>\n",
              "    </tr>\n",
              "    <tr>\n",
              "      <th>4</th>\n",
              "      <td>9.0</td>\n",
              "      <td>-12.000000</td>\n",
              "      <td>114.000000</td>\n",
              "      <td>66.300000</td>\n",
              "      <td>12.000000</td>\n",
              "      <td>3.00</td>\n",
              "      <td>3.000000</td>\n",
              "      <td>0.000000</td>\n",
              "      <td>0.000000</td>\n",
              "      <td>0.000000</td>\n",
              "      <td>0</td>\n",
              "      <td>401</td>\n",
              "    </tr>\n",
              "    <tr>\n",
              "      <th>...</th>\n",
              "      <td>...</td>\n",
              "      <td>...</td>\n",
              "      <td>...</td>\n",
              "      <td>...</td>\n",
              "      <td>...</td>\n",
              "      <td>...</td>\n",
              "      <td>...</td>\n",
              "      <td>...</td>\n",
              "      <td>...</td>\n",
              "      <td>...</td>\n",
              "      <td>...</td>\n",
              "      <td>...</td>\n",
              "    </tr>\n",
              "    <tr>\n",
              "      <th>2558</th>\n",
              "      <td>9.0</td>\n",
              "      <td>-20.120548</td>\n",
              "      <td>73.333333</td>\n",
              "      <td>103.961243</td>\n",
              "      <td>8.333333</td>\n",
              "      <td>3.00</td>\n",
              "      <td>4.000000</td>\n",
              "      <td>0.000000</td>\n",
              "      <td>0.000000</td>\n",
              "      <td>1.310900</td>\n",
              "      <td>0</td>\n",
              "      <td>64</td>\n",
              "    </tr>\n",
              "    <tr>\n",
              "      <th>2559</th>\n",
              "      <td>9.0</td>\n",
              "      <td>-32.843836</td>\n",
              "      <td>75.000000</td>\n",
              "      <td>83.980000</td>\n",
              "      <td>10.000000</td>\n",
              "      <td>4.00</td>\n",
              "      <td>3.000000</td>\n",
              "      <td>0.010513</td>\n",
              "      <td>0.164577</td>\n",
              "      <td>-3.206060</td>\n",
              "      <td>0</td>\n",
              "      <td>390</td>\n",
              "    </tr>\n",
              "    <tr>\n",
              "      <th>2560</th>\n",
              "      <td>8.0</td>\n",
              "      <td>-16.175342</td>\n",
              "      <td>100.800000</td>\n",
              "      <td>47.080505</td>\n",
              "      <td>8.500000</td>\n",
              "      <td>3.75</td>\n",
              "      <td>4.000000</td>\n",
              "      <td>-0.370935</td>\n",
              "      <td>-0.370935</td>\n",
              "      <td>-0.534799</td>\n",
              "      <td>1</td>\n",
              "      <td>91</td>\n",
              "    </tr>\n",
              "    <tr>\n",
              "      <th>2561</th>\n",
              "      <td>7.0</td>\n",
              "      <td>-94.191781</td>\n",
              "      <td>50.250000</td>\n",
              "      <td>88.400000</td>\n",
              "      <td>12.000000</td>\n",
              "      <td>1.00</td>\n",
              "      <td>2.800000</td>\n",
              "      <td>0.000000</td>\n",
              "      <td>0.000000</td>\n",
              "      <td>-0.217262</td>\n",
              "      <td>0</td>\n",
              "      <td>266</td>\n",
              "    </tr>\n",
              "    <tr>\n",
              "      <th>2562</th>\n",
              "      <td>9.0</td>\n",
              "      <td>-10.882192</td>\n",
              "      <td>85.000000</td>\n",
              "      <td>48.620000</td>\n",
              "      <td>11.000000</td>\n",
              "      <td>1.00</td>\n",
              "      <td>1.333333</td>\n",
              "      <td>0.000000</td>\n",
              "      <td>0.000000</td>\n",
              "      <td>-0.044730</td>\n",
              "      <td>0</td>\n",
              "      <td>126</td>\n",
              "    </tr>\n",
              "  </tbody>\n",
              "</table>\n",
              "<p>2558 rows × 12 columns</p>\n",
              "</div>"
            ],
            "text/plain": [
              "       Age  onset_delta    fvc_mean  ...  weight_slope  status_opt  time_opt\n",
              "0      4.0   -56.087671  101.250000  ...     -2.703704           0       274\n",
              "1      6.0   -35.178082   51.000000  ...     -3.309066           1        35\n",
              "2     12.0   -16.898630   89.600000  ...     -0.601648           0       154\n",
              "3      5.0   -18.739726   71.000000  ...     -1.933900           1       187\n",
              "4      9.0   -12.000000  114.000000  ...      0.000000           0       401\n",
              "...    ...          ...         ...  ...           ...         ...       ...\n",
              "2558   9.0   -20.120548   73.333333  ...      1.310900           0        64\n",
              "2559   9.0   -32.843836   75.000000  ...     -3.206060           0       390\n",
              "2560   8.0   -16.175342  100.800000  ...     -0.534799           1        91\n",
              "2561   7.0   -94.191781   50.250000  ...     -0.217262           0       266\n",
              "2562   9.0   -10.882192   85.000000  ...     -0.044730           0       126\n",
              "\n",
              "[2558 rows x 12 columns]"
            ]
          },
          "metadata": {
            "tags": []
          },
          "execution_count": 8
        }
      ]
    },
    {
      "cell_type": "markdown",
      "metadata": {
        "id": "Wk5r3Wuanbfk"
      },
      "source": [
        "## 1. Fitting survival models"
      ]
    },
    {
      "cell_type": "markdown",
      "metadata": {
        "id": "huduPJg92Mz9"
      },
      "source": [
        "##1) Accelarated Failure Time model"
      ]
    },
    {
      "cell_type": "markdown",
      "metadata": {
        "id": "iJ1B8S-KrgUG"
      },
      "source": [
        "###(1) Tuning hyperparameters: GridSearchCV for AFT"
      ]
    },
    {
      "cell_type": "code",
      "metadata": {
        "id": "mVylZmASre0M"
      },
      "source": [
        "from sklearn.model_selection import GridSearchCV\n",
        "\n",
        "aft_params ={ 'penalizer': [0, 1e-4, 1e-3, 1e-2, 0.1, 0.2, 0.5],\n",
        "              'l1_ratio' : [0, 1e-4, 1e-3, 1e-2, 0.1, 0.2, 0.5]  }"
      ],
      "execution_count": null,
      "outputs": []
    },
    {
      "cell_type": "code",
      "metadata": {
        "colab": {
          "base_uri": "https://localhost:8080/"
        },
        "id": "Ft4l8f_Yre0M",
        "outputId": "5dd7b870-4ba8-4554-ede3-19bb96a6cee0"
      },
      "source": [
        "from lifelines import WeibullAFTFitter\n",
        "from lifelines.utils.sklearn_adapter import sklearn_adapter\n",
        "\n",
        "X_aft = df_train.drop(columns = 'time_opt')\n",
        "y_aft = df_train['time_opt']\n",
        "\n",
        "base_class2 = sklearn_adapter(WeibullAFTFitter, event_col = 'status_opt')\n",
        "aft = base_class2()\n",
        "\n",
        "grid_cv2 = GridSearchCV(aft, param_grid = aft_params, cv = 3, n_jobs = 1)\n",
        "grid_cv2.fit(X_aft, y_aft)"
      ],
      "execution_count": null,
      "outputs": [
        {
          "output_type": "execute_result",
          "data": {
            "text/plain": [
              "GridSearchCV(cv=3, error_score=nan,\n",
              "             estimator=SkLearnWeibullAFTFitter(alpha=0.05, fit_intercept=True,\n",
              "                                               l1_ratio=0.0,\n",
              "                                               model_ancillary=False,\n",
              "                                               penalizer=0.0),\n",
              "             iid='deprecated', n_jobs=1,\n",
              "             param_grid={'l1_ratio': [0, 0.0001, 0.001, 0.01, 0.1, 0.2, 0.5],\n",
              "                         'penalizer': [0, 0.0001, 0.001, 0.01, 0.1, 0.2, 0.5]},\n",
              "             pre_dispatch='2*n_jobs', refit=True, return_train_score=False,\n",
              "             scoring=None, verbose=0)"
            ]
          },
          "metadata": {
            "tags": []
          },
          "execution_count": 21
        }
      ]
    },
    {
      "cell_type": "code",
      "metadata": {
        "colab": {
          "base_uri": "https://localhost:8080/"
        },
        "id": "1QRcYuKPsez4",
        "outputId": "79a7d654-7507-4d9b-c2ba-e37a550b6f66"
      },
      "source": [
        "#Result\n",
        "print(grid_cv2.best_score_)\n",
        "print(grid_cv2.best_params_)"
      ],
      "execution_count": null,
      "outputs": [
        {
          "output_type": "stream",
          "text": [
            "0.8383318219366639\n",
            "{'l1_ratio': 0.2, 'penalizer': 0.2}\n"
          ],
          "name": "stdout"
        }
      ]
    },
    {
      "cell_type": "markdown",
      "metadata": {
        "id": "NHAkzhDGBynE"
      },
      "source": [
        "### (2) Fitting AFT model"
      ]
    },
    {
      "cell_type": "code",
      "metadata": {
        "colab": {
          "base_uri": "https://localhost:8080/",
          "height": 819
        },
        "id": "RMZDNDaN2L53",
        "outputId": "c6854ab8-59ec-4fab-e179-2923d0805fec"
      },
      "source": [
        "from lifelines import WeibullAFTFitter\n",
        "\n",
        "aft = WeibullAFTFitter(penalizer = 0.2, l1_ratio = 0.2)\n",
        "aft.fit(df_train, duration_col='time_opt', event_col='status_opt', ancillary=False)\n",
        "\n",
        "aft.print_summary() # Prints accelerated failure rate & p-value of each feature"
      ],
      "execution_count": null,
      "outputs": [
        {
          "output_type": "display_data",
          "data": {
            "text/latex": "\\begin{tabular}{llrrrrrrrrrr}\n\\toprule\n     &           &  coef &  exp(coef) &  se(coef) &  coef lower 95\\% &  coef upper 95\\% &  exp(coef) lower 95\\% &  exp(coef) upper 95\\% &     z &    p &  -log2(p) \\\\\nparam & covariate &       &            &           &                 &                 &                      &                      &       &      &           \\\\\n\\midrule\nlambda\\_ & Age & -0.04 &       0.96 &      0.01 &           -0.06 &           -0.02 &                 0.94 &                 0.98 & -4.23 & 0.00 &     15.41 \\\\\n     & Creatinine\\_mean &  0.00 &       1.00 &      0.00 &           -0.00 &            0.00 &                 1.00 &                 1.00 &  0.00 & 1.00 &      0.00 \\\\\n     & fvc\\_mean &  0.00 &       1.00 &      0.00 &            0.00 &            0.01 &                 1.00 &                 1.01 &  3.38 & 0.00 &     10.43 \\\\\n     & mean\\_Q1\\_2\\_3\\_mouth &  0.28 &       1.32 &      0.01 &            0.25 &            0.30 &                 1.29 &                 1.35 & 23.13 & 0.00 &    390.74 \\\\\n     & mean\\_Q5\\_Cutting &  0.01 &       1.01 &      0.02 &           -0.03 &            0.05 &                 0.97 &                 1.06 &  0.52 & 0.60 &      0.73 \\\\\n     & mean\\_Q7\\_Turning\\_in\\_Bed &  0.08 &       1.08 &      0.03 &            0.03 &            0.13 &                 1.03 &                 1.14 &  2.92 & 0.00 &      8.15 \\\\\n     & onset\\_delta & -0.01 &       0.99 &      0.00 &           -0.01 &           -0.00 &                 0.99 &                 1.00 & -4.28 & 0.00 &     15.68 \\\\\n     & slope\\_Q1\\_Speech &  0.21 &       1.24 &      0.08 &            0.05 &            0.37 &                 1.06 &                 1.45 &  2.63 & 0.01 &      6.86 \\\\\n     & slope\\_Q3\\_Swallowing &  0.44 &       1.56 &      0.07 &            0.30 &            0.59 &                 1.35 &                 1.80 &  6.17 & 0.00 &     30.43 \\\\\n     & weight\\_slope &  0.03 &       1.03 &      0.01 &            0.01 &            0.05 &                 1.01 &                 1.05 &  2.74 & 0.01 &      7.34 \\\\\n     & Intercept &  3.08 &      21.74 &      0.18 &            2.72 &            3.44 &                15.13 &                31.24 & 16.65 & 0.00 &    204.44 \\\\\nrho\\_ & Intercept &  0.39 &       1.48 &      0.02 &            0.34 &            0.44 &                 1.41 &                 1.55 & 16.36 & 0.00 &    197.54 \\\\\n\\bottomrule\n\\end{tabular}\n",
            "text/html": [
              "<div>\n",
              "<style scoped>\n",
              "    .dataframe tbody tr th:only-of-type {\n",
              "        vertical-align: middle;\n",
              "    }\n",
              "\n",
              "    .dataframe tbody tr th {\n",
              "        vertical-align: top;\n",
              "    }\n",
              "\n",
              "    .dataframe thead th {\n",
              "        text-align: right;\n",
              "    }\n",
              "</style>\n",
              "<table border=\"1\" class=\"dataframe\">\n",
              "  <tbody>\n",
              "    <tr>\n",
              "      <th>model</th>\n",
              "      <td>lifelines.WeibullAFTFitter</td>\n",
              "    </tr>\n",
              "    <tr>\n",
              "      <th>duration col</th>\n",
              "      <td>'time_opt'</td>\n",
              "    </tr>\n",
              "    <tr>\n",
              "      <th>event col</th>\n",
              "      <td>'status_opt'</td>\n",
              "    </tr>\n",
              "    <tr>\n",
              "      <th>penalizer</th>\n",
              "      <td>0.2</td>\n",
              "    </tr>\n",
              "    <tr>\n",
              "      <th>number of observations</th>\n",
              "      <td>2558</td>\n",
              "    </tr>\n",
              "    <tr>\n",
              "      <th>number of events observed</th>\n",
              "      <td>844</td>\n",
              "    </tr>\n",
              "    <tr>\n",
              "      <th>log-likelihood</th>\n",
              "      <td>-6207.86</td>\n",
              "    </tr>\n",
              "    <tr>\n",
              "      <th>time fit was run</th>\n",
              "      <td>2021-08-17 17:58:04 UTC</td>\n",
              "    </tr>\n",
              "  </tbody>\n",
              "</table>\n",
              "</div><table border=\"1\" class=\"dataframe\">\n",
              "  <thead>\n",
              "    <tr style=\"text-align: right;\">\n",
              "      <th style=\"min-width: 12px;\"></th>\n",
              "      <th style=\"min-width: 12px;\"></th>\n",
              "      <th style=\"min-width: 12px;\">coef</th>\n",
              "      <th style=\"min-width: 12px;\">exp(coef)</th>\n",
              "      <th style=\"min-width: 12px;\">se(coef)</th>\n",
              "      <th style=\"min-width: 12px;\">coef lower 95%</th>\n",
              "      <th style=\"min-width: 12px;\">coef upper 95%</th>\n",
              "      <th style=\"min-width: 12px;\">exp(coef) lower 95%</th>\n",
              "      <th style=\"min-width: 12px;\">exp(coef) upper 95%</th>\n",
              "      <th style=\"min-width: 12px;\">z</th>\n",
              "      <th style=\"min-width: 12px;\">p</th>\n",
              "      <th style=\"min-width: 12px;\">-log2(p)</th>\n",
              "    </tr>\n",
              "  </thead>\n",
              "  <tbody>\n",
              "    <tr>\n",
              "      <th rowspan=\"11\" valign=\"top\">lambda_</th>\n",
              "      <th>Age</th>\n",
              "      <td>-0.04</td>\n",
              "      <td>0.96</td>\n",
              "      <td>0.01</td>\n",
              "      <td>-0.06</td>\n",
              "      <td>-0.02</td>\n",
              "      <td>0.94</td>\n",
              "      <td>0.98</td>\n",
              "      <td>-4.23</td>\n",
              "      <td>&lt;0.005</td>\n",
              "      <td>15.41</td>\n",
              "    </tr>\n",
              "    <tr>\n",
              "      <th>Creatinine_mean</th>\n",
              "      <td>0.00</td>\n",
              "      <td>1.00</td>\n",
              "      <td>0.00</td>\n",
              "      <td>-0.00</td>\n",
              "      <td>0.00</td>\n",
              "      <td>1.00</td>\n",
              "      <td>1.00</td>\n",
              "      <td>0.00</td>\n",
              "      <td>1.00</td>\n",
              "      <td>0.00</td>\n",
              "    </tr>\n",
              "    <tr>\n",
              "      <th>fvc_mean</th>\n",
              "      <td>0.00</td>\n",
              "      <td>1.00</td>\n",
              "      <td>0.00</td>\n",
              "      <td>0.00</td>\n",
              "      <td>0.01</td>\n",
              "      <td>1.00</td>\n",
              "      <td>1.01</td>\n",
              "      <td>3.38</td>\n",
              "      <td>&lt;0.005</td>\n",
              "      <td>10.43</td>\n",
              "    </tr>\n",
              "    <tr>\n",
              "      <th>mean_Q1_2_3_mouth</th>\n",
              "      <td>0.28</td>\n",
              "      <td>1.32</td>\n",
              "      <td>0.01</td>\n",
              "      <td>0.25</td>\n",
              "      <td>0.30</td>\n",
              "      <td>1.29</td>\n",
              "      <td>1.35</td>\n",
              "      <td>23.13</td>\n",
              "      <td>&lt;0.005</td>\n",
              "      <td>390.74</td>\n",
              "    </tr>\n",
              "    <tr>\n",
              "      <th>mean_Q5_Cutting</th>\n",
              "      <td>0.01</td>\n",
              "      <td>1.01</td>\n",
              "      <td>0.02</td>\n",
              "      <td>-0.03</td>\n",
              "      <td>0.05</td>\n",
              "      <td>0.97</td>\n",
              "      <td>1.06</td>\n",
              "      <td>0.52</td>\n",
              "      <td>0.60</td>\n",
              "      <td>0.73</td>\n",
              "    </tr>\n",
              "    <tr>\n",
              "      <th>mean_Q7_Turning_in_Bed</th>\n",
              "      <td>0.08</td>\n",
              "      <td>1.08</td>\n",
              "      <td>0.03</td>\n",
              "      <td>0.03</td>\n",
              "      <td>0.13</td>\n",
              "      <td>1.03</td>\n",
              "      <td>1.14</td>\n",
              "      <td>2.92</td>\n",
              "      <td>&lt;0.005</td>\n",
              "      <td>8.15</td>\n",
              "    </tr>\n",
              "    <tr>\n",
              "      <th>onset_delta</th>\n",
              "      <td>-0.01</td>\n",
              "      <td>0.99</td>\n",
              "      <td>0.00</td>\n",
              "      <td>-0.01</td>\n",
              "      <td>-0.00</td>\n",
              "      <td>0.99</td>\n",
              "      <td>1.00</td>\n",
              "      <td>-4.28</td>\n",
              "      <td>&lt;0.005</td>\n",
              "      <td>15.68</td>\n",
              "    </tr>\n",
              "    <tr>\n",
              "      <th>slope_Q1_Speech</th>\n",
              "      <td>0.21</td>\n",
              "      <td>1.24</td>\n",
              "      <td>0.08</td>\n",
              "      <td>0.05</td>\n",
              "      <td>0.37</td>\n",
              "      <td>1.06</td>\n",
              "      <td>1.45</td>\n",
              "      <td>2.63</td>\n",
              "      <td>0.01</td>\n",
              "      <td>6.86</td>\n",
              "    </tr>\n",
              "    <tr>\n",
              "      <th>slope_Q3_Swallowing</th>\n",
              "      <td>0.44</td>\n",
              "      <td>1.56</td>\n",
              "      <td>0.07</td>\n",
              "      <td>0.30</td>\n",
              "      <td>0.59</td>\n",
              "      <td>1.35</td>\n",
              "      <td>1.80</td>\n",
              "      <td>6.17</td>\n",
              "      <td>&lt;0.005</td>\n",
              "      <td>30.43</td>\n",
              "    </tr>\n",
              "    <tr>\n",
              "      <th>weight_slope</th>\n",
              "      <td>0.03</td>\n",
              "      <td>1.03</td>\n",
              "      <td>0.01</td>\n",
              "      <td>0.01</td>\n",
              "      <td>0.05</td>\n",
              "      <td>1.01</td>\n",
              "      <td>1.05</td>\n",
              "      <td>2.74</td>\n",
              "      <td>0.01</td>\n",
              "      <td>7.34</td>\n",
              "    </tr>\n",
              "    <tr>\n",
              "      <th>Intercept</th>\n",
              "      <td>3.08</td>\n",
              "      <td>21.74</td>\n",
              "      <td>0.18</td>\n",
              "      <td>2.72</td>\n",
              "      <td>3.44</td>\n",
              "      <td>15.13</td>\n",
              "      <td>31.24</td>\n",
              "      <td>16.65</td>\n",
              "      <td>&lt;0.005</td>\n",
              "      <td>204.44</td>\n",
              "    </tr>\n",
              "    <tr>\n",
              "      <th>rho_</th>\n",
              "      <th>Intercept</th>\n",
              "      <td>0.39</td>\n",
              "      <td>1.48</td>\n",
              "      <td>0.02</td>\n",
              "      <td>0.34</td>\n",
              "      <td>0.44</td>\n",
              "      <td>1.41</td>\n",
              "      <td>1.55</td>\n",
              "      <td>16.36</td>\n",
              "      <td>&lt;0.005</td>\n",
              "      <td>197.54</td>\n",
              "    </tr>\n",
              "  </tbody>\n",
              "</table><br><div>\n",
              "<style scoped>\n",
              "    .dataframe tbody tr th:only-of-type {\n",
              "        vertical-align: middle;\n",
              "    }\n",
              "\n",
              "    .dataframe tbody tr th {\n",
              "        vertical-align: top;\n",
              "    }\n",
              "\n",
              "    .dataframe thead th {\n",
              "        text-align: right;\n",
              "    }\n",
              "</style>\n",
              "<table border=\"1\" class=\"dataframe\">\n",
              "  <tbody>\n",
              "    <tr>\n",
              "      <th>Concordance</th>\n",
              "      <td>0.84</td>\n",
              "    </tr>\n",
              "    <tr>\n",
              "      <th>AIC</th>\n",
              "      <td>12439.72</td>\n",
              "    </tr>\n",
              "    <tr>\n",
              "      <th>log-likelihood ratio test</th>\n",
              "      <td>580.44 on 10 df</td>\n",
              "    </tr>\n",
              "    <tr>\n",
              "      <th>-log2(p) of ll-ratio test</th>\n",
              "      <td>390.54</td>\n",
              "    </tr>\n",
              "  </tbody>\n",
              "</table>\n",
              "</div>"
            ],
            "text/plain": [
              "<lifelines.WeibullAFTFitter: fitted with 2558 total observations, 1714 right-censored observations>\n",
              "             duration col = 'time_opt'\n",
              "                event col = 'status_opt'\n",
              "                penalizer = 0.2\n",
              "   number of observations = 2558\n",
              "number of events observed = 844\n",
              "           log-likelihood = -6207.86\n",
              "         time fit was run = 2021-08-17 17:58:04 UTC\n",
              "\n",
              "---\n",
              "                                 coef  exp(coef)   se(coef)   coef lower 95%   coef upper 95%  exp(coef) lower 95%  exp(coef) upper 95%\n",
              "param   covariate                                                                                                                      \n",
              "lambda_ Age                     -0.04       0.96       0.01            -0.06            -0.02                 0.94                 0.98\n",
              "        Creatinine_mean          0.00       1.00       0.00            -0.00             0.00                 1.00                 1.00\n",
              "        fvc_mean                 0.00       1.00       0.00             0.00             0.01                 1.00                 1.01\n",
              "        mean_Q1_2_3_mouth        0.28       1.32       0.01             0.25             0.30                 1.29                 1.35\n",
              "        mean_Q5_Cutting          0.01       1.01       0.02            -0.03             0.05                 0.97                 1.06\n",
              "        mean_Q7_Turning_in_Bed   0.08       1.08       0.03             0.03             0.13                 1.03                 1.14\n",
              "        onset_delta             -0.01       0.99       0.00            -0.01            -0.00                 0.99                 1.00\n",
              "        slope_Q1_Speech          0.21       1.24       0.08             0.05             0.37                 1.06                 1.45\n",
              "        slope_Q3_Swallowing      0.44       1.56       0.07             0.30             0.59                 1.35                 1.80\n",
              "        weight_slope             0.03       1.03       0.01             0.01             0.05                 1.01                 1.05\n",
              "        Intercept                3.08      21.74       0.18             2.72             3.44                15.13                31.24\n",
              "rho_    Intercept                0.39       1.48       0.02             0.34             0.44                 1.41                 1.55\n",
              "\n",
              "                                   z      p   -log2(p)\n",
              "param   covariate                                     \n",
              "lambda_ Age                    -4.23 <0.005      15.41\n",
              "        Creatinine_mean         0.00   1.00       0.00\n",
              "        fvc_mean                3.38 <0.005      10.43\n",
              "        mean_Q1_2_3_mouth      23.13 <0.005     390.74\n",
              "        mean_Q5_Cutting         0.52   0.60       0.73\n",
              "        mean_Q7_Turning_in_Bed  2.92 <0.005       8.15\n",
              "        onset_delta            -4.28 <0.005      15.68\n",
              "        slope_Q1_Speech         2.63   0.01       6.86\n",
              "        slope_Q3_Swallowing     6.17 <0.005      30.43\n",
              "        weight_slope            2.74   0.01       7.34\n",
              "        Intercept              16.65 <0.005     204.44\n",
              "rho_    Intercept              16.36 <0.005     197.54\n",
              "---\n",
              "Concordance = 0.84\n",
              "AIC = 12439.72\n",
              "log-likelihood ratio test = 580.44 on 10 df\n",
              "-log2(p) of ll-ratio test = 390.54"
            ]
          },
          "metadata": {
            "tags": []
          }
        }
      ]
    },
    {
      "cell_type": "code",
      "metadata": {
        "colab": {
          "base_uri": "https://localhost:8080/",
          "height": 486
        },
        "id": "cNXtZqws76bT",
        "outputId": "90e2b2ba-5581-4996-a143-fcef0b27325e"
      },
      "source": [
        "# Print 95% CI AFRs in a plot\n",
        "from lifelines import utils\n",
        "from numpy import exp\n",
        "\n",
        "plt.figure(figsize=(6.3,7.8))\n",
        "ax = plt.gca()\n",
        "\n",
        "z = utils.inv_normal_cdf(1 - aft.alpha / 2)\n",
        "columns = [('lambda_',                    'slope_Q3_Swallowing'),\n",
        "            ('lambda_',       'mean_Q1_2_3_mouth'),\n",
        "            ('lambda_',               'slope_Q1_Speech'),\n",
        "            ('lambda_',        'mean_Q7_Turning_in_Bed'),\n",
        "            ('lambda_',            'weight_slope'),\n",
        "            ('lambda_',  'mean_Q5_Cutting'),\n",
        "            ('lambda_',    'fvc_mean'),\n",
        "            ('lambda_',        'Creatinine_mean'),\n",
        "            ('lambda_',    'onset_delta'),\n",
        "            ('lambda_',           'Age')]\n",
        "\n",
        "yaxis_locations = list(range(len(columns)))\n",
        "log_afr = aft.params_.loc[columns].values.copy()\n",
        "\n",
        "order = list(range(len(columns) - 1, -1, -1))\n",
        "\n",
        "afr = exp(log_afr)\n",
        "upper_errors = afr * (exp(z * aft.standard_errors_[columns].values) - 1)\n",
        "lower_errors = afr * (1 - exp(-z * aft.standard_errors_[columns].values))\n",
        "ax.errorbar(\n",
        "      afr[order],\n",
        "      yaxis_locations,\n",
        "      xerr=np.vstack([lower_errors[order], upper_errors[order]]),\n",
        "      c = \"k\",\n",
        "      fmt = \"s\",\n",
        "      markerfacecolor = 'white',\n",
        "      markeredgewidth = 1.25,\n",
        "      elinewidth = 1.25,\n",
        "      capsize = 3   \n",
        ")\n",
        "\n",
        "ax.set_xlabel(\"AFR (%g%% CI)\" % ((1 - aft.alpha) * 100))\n",
        "\n",
        "best_ylim = ax.get_ylim()\n",
        "ax.vlines(1 , -2, len(columns) + 1, linestyles=\"dashed\", linewidths=1, alpha=0.65, color=\"k\")\n",
        "ax.set_ylim(best_ylim)\n",
        "\n",
        "tick_labels = [columns[i] for i in order]\n",
        "\n",
        "ax.set_yticks(yaxis_locations)\n",
        "ax.set_yticklabels(tick_labels)\n",
        "ax.yaxis.set_visible(True)"
      ],
      "execution_count": null,
      "outputs": [
        {
          "output_type": "display_data",
          "data": {
            "image/png": "[encoded data removed]",
            "text/plain": [
              "<Figure size 453.6x561.6 with 1 Axes>"
            ]
          },
          "metadata": {
            "tags": [],
            "needs_background": "light"
          }
        }
      ]
    },
    {
      "cell_type": "code",
      "metadata": {
        "colab": {
          "base_uri": "https://localhost:8080/",
          "height": 624
        },
        "id": "cGPLWj6T20e2",
        "outputId": "e329f36f-44a2-4e2b-aac6-772760e4becf"
      },
      "source": [
        "from matplotlib import pyplot as plt\n",
        "\n",
        "aft = WeibullAFTFitter().fit(df_train, 'time_opt', 'status_opt', ancillary=False)\n",
        "plt.figure(figsize=(6,10))\n",
        "aft.plot() # Print 95% CI log(AFR) in a plot"
      ],
      "execution_count": null,
      "outputs": [
        {
          "output_type": "execute_result",
          "data": {
            "text/plain": [
              "<matplotlib.axes._subplots.AxesSubplot at 0x7fd3cb942590>"
            ]
          },
          "metadata": {
            "tags": []
          },
          "execution_count": 26
        },
        {
          "output_type": "display_data",
          "data": {
            "image/png": "[encoded data removed]",
            "text/plain": [
              "<Figure size 432x720 with 1 Axes>"
            ]
          },
          "metadata": {
            "tags": [],
            "needs_background": "light"
          }
        }
      ]
    },
    {
      "cell_type": "markdown",
      "metadata": {
        "id": "DrJSfLwSB3KV"
      },
      "source": [
        "###(3) Re-fitting without insignificant feature"
      ]
    },
    {
      "cell_type": "code",
      "metadata": {
        "colab": {
          "base_uri": "https://localhost:8080/",
          "height": 756
        },
        "id": "j7zvLpzECDts",
        "outputId": "6cad948d-35f9-4326-e27f-80d8f6e0c39b"
      },
      "source": [
        "# features with p-value higher than 0.05 are excluded\n",
        "df_train_finalaft = df_train[['Age', 'onset_delta', 'fvc_mean', 'mean_Q1_2_3_mouth', 'mean_Q7_Turning_in_Bed',\n",
        "       'slope_Q1_Speech', 'slope_Q3_Swallowing', 'weight_slope', 'status_opt', 'time_opt']]\n",
        "\n",
        "aft = WeibullAFTFitter(penalizer = 0.2, l1_ratio = 0.2)\n",
        "aft.fit(df_train_finalaft, duration_col='time_opt', event_col='status_opt', ancillary=False)\n",
        "\n",
        "aft.print_summary()"
      ],
      "execution_count": null,
      "outputs": [
        {
          "output_type": "display_data",
          "data": {
            "text/latex": "\\begin{tabular}{llrrrrrrrrrr}\n\\toprule\n     &           &  coef &  exp(coef) &  se(coef) &  coef lower 95\\% &  coef upper 95\\% &  exp(coef) lower 95\\% &  exp(coef) upper 95\\% &     z &    p &  -log2(p) \\\\\nparam & covariate &       &            &           &                 &                 &                      &                      &       &      &           \\\\\n\\midrule\nlambda\\_ & Age & -0.04 &       0.96 &      0.01 &           -0.06 &           -0.02 &                 0.95 &                 0.98 & -4.18 & 0.00 &     15.07 \\\\\n     & fvc\\_mean &  0.00 &       1.00 &      0.00 &            0.00 &            0.01 &                 1.00 &                 1.01 &  3.54 & 0.00 &     11.31 \\\\\n     & mean\\_Q1\\_2\\_3\\_mouth &  0.28 &       1.32 &      0.01 &            0.25 &            0.30 &                 1.29 &                 1.35 & 23.09 & 0.00 &    389.45 \\\\\n     & mean\\_Q7\\_Turning\\_in\\_Bed &  0.09 &       1.09 &      0.02 &            0.04 &            0.13 &                 1.04 &                 1.14 &  3.71 & 0.00 &     12.23 \\\\\n     & onset\\_delta & -0.01 &       0.99 &      0.00 &           -0.01 &           -0.00 &                 0.99 &                 1.00 & -4.35 & 0.00 &     16.18 \\\\\n     & slope\\_Q1\\_Speech &  0.21 &       1.24 &      0.08 &            0.06 &            0.37 &                 1.06 &                 1.45 &  2.66 & 0.01 &      7.00 \\\\\n     & slope\\_Q3\\_Swallowing &  0.44 &       1.56 &      0.07 &            0.30 &            0.58 &                 1.35 &                 1.79 &  6.15 & 0.00 &     30.31 \\\\\n     & weight\\_slope &  0.03 &       1.03 &      0.01 &            0.01 &            0.05 &                 1.01 &                 1.05 &  2.78 & 0.01 &      7.54 \\\\\n     & Intercept &  3.07 &      21.56 &      0.17 &            2.74 &            3.41 &                15.41 &                30.14 & 17.95 & 0.00 &    236.83 \\\\\nrho\\_ & Intercept &  0.39 &       1.48 &      0.02 &            0.35 &            0.44 &                 1.41 &                 1.55 & 16.46 & 0.00 &    199.77 \\\\\n\\bottomrule\n\\end{tabular}\n",
            "text/html": [
              "<div>\n",
              "<style scoped>\n",
              "    .dataframe tbody tr th:only-of-type {\n",
              "        vertical-align: middle;\n",
              "    }\n",
              "\n",
              "    .dataframe tbody tr th {\n",
              "        vertical-align: top;\n",
              "    }\n",
              "\n",
              "    .dataframe thead th {\n",
              "        text-align: right;\n",
              "    }\n",
              "</style>\n",
              "<table border=\"1\" class=\"dataframe\">\n",
              "  <tbody>\n",
              "    <tr>\n",
              "      <th>model</th>\n",
              "      <td>lifelines.WeibullAFTFitter</td>\n",
              "    </tr>\n",
              "    <tr>\n",
              "      <th>duration col</th>\n",
              "      <td>'time_opt'</td>\n",
              "    </tr>\n",
              "    <tr>\n",
              "      <th>event col</th>\n",
              "      <td>'status_opt'</td>\n",
              "    </tr>\n",
              "    <tr>\n",
              "      <th>penalizer</th>\n",
              "      <td>0.2</td>\n",
              "    </tr>\n",
              "    <tr>\n",
              "      <th>number of observations</th>\n",
              "      <td>2558</td>\n",
              "    </tr>\n",
              "    <tr>\n",
              "      <th>number of events observed</th>\n",
              "      <td>844</td>\n",
              "    </tr>\n",
              "    <tr>\n",
              "      <th>log-likelihood</th>\n",
              "      <td>-6207.96</td>\n",
              "    </tr>\n",
              "    <tr>\n",
              "      <th>time fit was run</th>\n",
              "      <td>2021-08-17 17:58:09 UTC</td>\n",
              "    </tr>\n",
              "  </tbody>\n",
              "</table>\n",
              "</div><table border=\"1\" class=\"dataframe\">\n",
              "  <thead>\n",
              "    <tr style=\"text-align: right;\">\n",
              "      <th style=\"min-width: 12px;\"></th>\n",
              "      <th style=\"min-width: 12px;\"></th>\n",
              "      <th style=\"min-width: 12px;\">coef</th>\n",
              "      <th style=\"min-width: 12px;\">exp(coef)</th>\n",
              "      <th style=\"min-width: 12px;\">se(coef)</th>\n",
              "      <th style=\"min-width: 12px;\">coef lower 95%</th>\n",
              "      <th style=\"min-width: 12px;\">coef upper 95%</th>\n",
              "      <th style=\"min-width: 12px;\">exp(coef) lower 95%</th>\n",
              "      <th style=\"min-width: 12px;\">exp(coef) upper 95%</th>\n",
              "      <th style=\"min-width: 12px;\">z</th>\n",
              "      <th style=\"min-width: 12px;\">p</th>\n",
              "      <th style=\"min-width: 12px;\">-log2(p)</th>\n",
              "    </tr>\n",
              "  </thead>\n",
              "  <tbody>\n",
              "    <tr>\n",
              "      <th rowspan=\"9\" valign=\"top\">lambda_</th>\n",
              "      <th>Age</th>\n",
              "      <td>-0.04</td>\n",
              "      <td>0.96</td>\n",
              "      <td>0.01</td>\n",
              "      <td>-0.06</td>\n",
              "      <td>-0.02</td>\n",
              "      <td>0.95</td>\n",
              "      <td>0.98</td>\n",
              "      <td>-4.18</td>\n",
              "      <td>&lt;0.005</td>\n",
              "      <td>15.07</td>\n",
              "    </tr>\n",
              "    <tr>\n",
              "      <th>fvc_mean</th>\n",
              "      <td>0.00</td>\n",
              "      <td>1.00</td>\n",
              "      <td>0.00</td>\n",
              "      <td>0.00</td>\n",
              "      <td>0.01</td>\n",
              "      <td>1.00</td>\n",
              "      <td>1.01</td>\n",
              "      <td>3.54</td>\n",
              "      <td>&lt;0.005</td>\n",
              "      <td>11.31</td>\n",
              "    </tr>\n",
              "    <tr>\n",
              "      <th>mean_Q1_2_3_mouth</th>\n",
              "      <td>0.28</td>\n",
              "      <td>1.32</td>\n",
              "      <td>0.01</td>\n",
              "      <td>0.25</td>\n",
              "      <td>0.30</td>\n",
              "      <td>1.29</td>\n",
              "      <td>1.35</td>\n",
              "      <td>23.09</td>\n",
              "      <td>&lt;0.005</td>\n",
              "      <td>389.45</td>\n",
              "    </tr>\n",
              "    <tr>\n",
              "      <th>mean_Q7_Turning_in_Bed</th>\n",
              "      <td>0.09</td>\n",
              "      <td>1.09</td>\n",
              "      <td>0.02</td>\n",
              "      <td>0.04</td>\n",
              "      <td>0.13</td>\n",
              "      <td>1.04</td>\n",
              "      <td>1.14</td>\n",
              "      <td>3.71</td>\n",
              "      <td>&lt;0.005</td>\n",
              "      <td>12.23</td>\n",
              "    </tr>\n",
              "    <tr>\n",
              "      <th>onset_delta</th>\n",
              "      <td>-0.01</td>\n",
              "      <td>0.99</td>\n",
              "      <td>0.00</td>\n",
              "      <td>-0.01</td>\n",
              "      <td>-0.00</td>\n",
              "      <td>0.99</td>\n",
              "      <td>1.00</td>\n",
              "      <td>-4.35</td>\n",
              "      <td>&lt;0.005</td>\n",
              "      <td>16.18</td>\n",
              "    </tr>\n",
              "    <tr>\n",
              "      <th>slope_Q1_Speech</th>\n",
              "      <td>0.21</td>\n",
              "      <td>1.24</td>\n",
              "      <td>0.08</td>\n",
              "      <td>0.06</td>\n",
              "      <td>0.37</td>\n",
              "      <td>1.06</td>\n",
              "      <td>1.45</td>\n",
              "      <td>2.66</td>\n",
              "      <td>0.01</td>\n",
              "      <td>7.00</td>\n",
              "    </tr>\n",
              "    <tr>\n",
              "      <th>slope_Q3_Swallowing</th>\n",
              "      <td>0.44</td>\n",
              "      <td>1.56</td>\n",
              "      <td>0.07</td>\n",
              "      <td>0.30</td>\n",
              "      <td>0.58</td>\n",
              "      <td>1.35</td>\n",
              "      <td>1.79</td>\n",
              "      <td>6.15</td>\n",
              "      <td>&lt;0.005</td>\n",
              "      <td>30.31</td>\n",
              "    </tr>\n",
              "    <tr>\n",
              "      <th>weight_slope</th>\n",
              "      <td>0.03</td>\n",
              "      <td>1.03</td>\n",
              "      <td>0.01</td>\n",
              "      <td>0.01</td>\n",
              "      <td>0.05</td>\n",
              "      <td>1.01</td>\n",
              "      <td>1.05</td>\n",
              "      <td>2.78</td>\n",
              "      <td>0.01</td>\n",
              "      <td>7.54</td>\n",
              "    </tr>\n",
              "    <tr>\n",
              "      <th>Intercept</th>\n",
              "      <td>3.07</td>\n",
              "      <td>21.56</td>\n",
              "      <td>0.17</td>\n",
              "      <td>2.74</td>\n",
              "      <td>3.41</td>\n",
              "      <td>15.41</td>\n",
              "      <td>30.14</td>\n",
              "      <td>17.95</td>\n",
              "      <td>&lt;0.005</td>\n",
              "      <td>236.83</td>\n",
              "    </tr>\n",
              "    <tr>\n",
              "      <th>rho_</th>\n",
              "      <th>Intercept</th>\n",
              "      <td>0.39</td>\n",
              "      <td>1.48</td>\n",
              "      <td>0.02</td>\n",
              "      <td>0.35</td>\n",
              "      <td>0.44</td>\n",
              "      <td>1.41</td>\n",
              "      <td>1.55</td>\n",
              "      <td>16.46</td>\n",
              "      <td>&lt;0.005</td>\n",
              "      <td>199.77</td>\n",
              "    </tr>\n",
              "  </tbody>\n",
              "</table><br><div>\n",
              "<style scoped>\n",
              "    .dataframe tbody tr th:only-of-type {\n",
              "        vertical-align: middle;\n",
              "    }\n",
              "\n",
              "    .dataframe tbody tr th {\n",
              "        vertical-align: top;\n",
              "    }\n",
              "\n",
              "    .dataframe thead th {\n",
              "        text-align: right;\n",
              "    }\n",
              "</style>\n",
              "<table border=\"1\" class=\"dataframe\">\n",
              "  <tbody>\n",
              "    <tr>\n",
              "      <th>Concordance</th>\n",
              "      <td>0.84</td>\n",
              "    </tr>\n",
              "    <tr>\n",
              "      <th>AIC</th>\n",
              "      <td>12435.93</td>\n",
              "    </tr>\n",
              "    <tr>\n",
              "      <th>log-likelihood ratio test</th>\n",
              "      <td>580.23 on 8 df</td>\n",
              "    </tr>\n",
              "    <tr>\n",
              "      <th>-log2(p) of ll-ratio test</th>\n",
              "      <td>396.58</td>\n",
              "    </tr>\n",
              "  </tbody>\n",
              "</table>\n",
              "</div>"
            ],
            "text/plain": [
              "<lifelines.WeibullAFTFitter: fitted with 2558 total observations, 1714 right-censored observations>\n",
              "             duration col = 'time_opt'\n",
              "                event col = 'status_opt'\n",
              "                penalizer = 0.2\n",
              "   number of observations = 2558\n",
              "number of events observed = 844\n",
              "           log-likelihood = -6207.96\n",
              "         time fit was run = 2021-08-17 17:58:09 UTC\n",
              "\n",
              "---\n",
              "                                 coef  exp(coef)   se(coef)   coef lower 95%   coef upper 95%  exp(coef) lower 95%  exp(coef) upper 95%\n",
              "param   covariate                                                                                                                      \n",
              "lambda_ Age                     -0.04       0.96       0.01            -0.06            -0.02                 0.95                 0.98\n",
              "        fvc_mean                 0.00       1.00       0.00             0.00             0.01                 1.00                 1.01\n",
              "        mean_Q1_2_3_mouth        0.28       1.32       0.01             0.25             0.30                 1.29                 1.35\n",
              "        mean_Q7_Turning_in_Bed   0.09       1.09       0.02             0.04             0.13                 1.04                 1.14\n",
              "        onset_delta             -0.01       0.99       0.00            -0.01            -0.00                 0.99                 1.00\n",
              "        slope_Q1_Speech          0.21       1.24       0.08             0.06             0.37                 1.06                 1.45\n",
              "        slope_Q3_Swallowing      0.44       1.56       0.07             0.30             0.58                 1.35                 1.79\n",
              "        weight_slope             0.03       1.03       0.01             0.01             0.05                 1.01                 1.05\n",
              "        Intercept                3.07      21.56       0.17             2.74             3.41                15.41                30.14\n",
              "rho_    Intercept                0.39       1.48       0.02             0.35             0.44                 1.41                 1.55\n",
              "\n",
              "                                   z      p   -log2(p)\n",
              "param   covariate                                     \n",
              "lambda_ Age                    -4.18 <0.005      15.07\n",
              "        fvc_mean                3.54 <0.005      11.31\n",
              "        mean_Q1_2_3_mouth      23.09 <0.005     389.45\n",
              "        mean_Q7_Turning_in_Bed  3.71 <0.005      12.23\n",
              "        onset_delta            -4.35 <0.005      16.18\n",
              "        slope_Q1_Speech         2.66   0.01       7.00\n",
              "        slope_Q3_Swallowing     6.15 <0.005      30.31\n",
              "        weight_slope            2.78   0.01       7.54\n",
              "        Intercept              17.95 <0.005     236.83\n",
              "rho_    Intercept              16.46 <0.005     199.77\n",
              "---\n",
              "Concordance = 0.84\n",
              "AIC = 12435.93\n",
              "log-likelihood ratio test = 580.23 on 8 df\n",
              "-log2(p) of ll-ratio test = 396.58"
            ]
          },
          "metadata": {
            "tags": []
          }
        }
      ]
    },
    {
      "cell_type": "markdown",
      "metadata": {
        "id": "3nur3ckInbfl"
      },
      "source": [
        "## 2) Cox Proportional Hazard Model"
      ]
    },
    {
      "cell_type": "markdown",
      "metadata": {
        "id": "5FP16qtxb03h"
      },
      "source": [
        "### (1) Tuning hyperparameter: GridSearchCV for Cox"
      ]
    },
    {
      "cell_type": "code",
      "metadata": {
        "id": "4YO2MpwGCyi8"
      },
      "source": [
        "from sklearn.model_selection import GridSearchCV\n",
        "\n",
        "cox_params ={'penalizer': [0, 1e-4, 1e-3, 1e-2, 0.1, 0.2, 0.5],\n",
        "            'l1_ratio' : [0, 1e-4, 1e-3, 1e-2, 0.1, 0.2, 0.5] }"
      ],
      "execution_count": null,
      "outputs": []
    },
    {
      "cell_type": "code",
      "metadata": {
        "colab": {
          "base_uri": "https://localhost:8080/"
        },
        "id": "yTbPieoSDP9u",
        "outputId": "ed365a67-6ec4-4f57-9f4a-ba09d78527f6"
      },
      "source": [
        "from lifelines import CoxPHFitter\n",
        "from lifelines.utils.sklearn_adapter import sklearn_adapter\n",
        "\n",
        "X_cox = df_train.drop(columns = 'time_opt')\n",
        "y_cox = df_train['time_opt']\n",
        "\n",
        "base_class = sklearn_adapter(CoxPHFitter, event_col = 'status_opt')\n",
        "cph = base_class()\n",
        "\n",
        "grid_cv = GridSearchCV(cph, param_grid = cox_params, cv = 3, n_jobs = 1)\n",
        "grid_cv.fit(X_cox, y_cox)"
      ],
      "execution_count": null,
      "outputs": [
        {
          "output_type": "execute_result",
          "data": {
            "text/plain": [
              "GridSearchCV(cv=3, error_score=nan,\n",
              "             estimator=SkLearnCoxPHFitter(baseline_estimation_method='breslow',\n",
              "                                          breakpoints=None, knots=None,\n",
              "                                          l1_ratio=0.0, n_baseline_knots=None,\n",
              "                                          penalizer=0.0, strata=None),\n",
              "             iid='deprecated', n_jobs=1,\n",
              "             param_grid={'l1_ratio': [0, 0.0001, 0.001, 0.01, 0.1, 0.2, 0.5],\n",
              "                         'penalizer': [0, 0.0001, 0.001, 0.01, 0.1, 0.2, 0.5]},\n",
              "             pre_dispatch='2*n_jobs', refit=True, return_train_score=False,\n",
              "             scoring=None, verbose=0)"
            ]
          },
          "metadata": {
            "tags": []
          },
          "execution_count": 12
        }
      ]
    },
    {
      "cell_type": "code",
      "metadata": {
        "colab": {
          "base_uri": "https://localhost:8080/"
        },
        "id": "RpFuMK0BN3XR",
        "outputId": "1678116c-a5aa-472c-b37d-468bddf6773b"
      },
      "source": [
        "# Result\n",
        "print(grid_cv.best_score_)\n",
        "print(grid_cv.best_params_)"
      ],
      "execution_count": null,
      "outputs": [
        {
          "output_type": "stream",
          "text": [
            "0.8382950669070374\n",
            "{'l1_ratio': 0.2, 'penalizer': 0.1}\n"
          ],
          "name": "stdout"
        }
      ]
    },
    {
      "cell_type": "markdown",
      "metadata": {
        "id": "mxlUc31Y7Jf2"
      },
      "source": [
        "### (2) Fitting CoxPH model"
      ]
    },
    {
      "cell_type": "code",
      "metadata": {
        "colab": {
          "base_uri": "https://localhost:8080/",
          "height": 819
        },
        "id": "2z3NxtD8bssF",
        "outputId": "e61e5861-1a8a-42d4-c7dd-07007ed1c51a"
      },
      "source": [
        "from lifelines import CoxPHFitter\n",
        "cph = CoxPHFitter(penalizer=0.1, l1_ratio = 0.2)\n",
        "cph.fit(df_train, 'time_opt', event_col='status_opt')\n",
        "cph.print_summary() # Prints hazard ratio & p-value of each feature"
      ],
      "execution_count": null,
      "outputs": [
        {
          "output_type": "display_data",
          "data": {
            "text/latex": "\\begin{tabular}{lrrrrrrrrrr}\n\\toprule\n{} &  coef &  exp(coef) &  se(coef) &  coef lower 95\\% &  coef upper 95\\% &  exp(coef) lower 95\\% &  exp(coef) upper 95\\% &      z &    p &  -log2(p) \\\\\ncovariate              &       &            &           &                 &                 &                      &                      &        &      &           \\\\\n\\midrule\nAge                    &  0.06 &       1.06 &      0.01 &            0.03 &            0.09 &                 1.03 &                 1.09 &   4.47 & 0.00 &     17.00 \\\\\nonset\\_delta            &  0.01 &       1.01 &      0.00 &            0.01 &            0.02 &                 1.01 &                 1.02 &   4.84 & 0.00 &     19.56 \\\\\nfvc\\_mean               & -0.01 &       0.99 &      0.00 &           -0.01 &           -0.00 &                 0.99 &                 1.00 &  -3.90 & 0.00 &     13.33 \\\\\nCreatinine\\_mean        & -0.00 &       1.00 &      0.00 &           -0.00 &            0.00 &                 1.00 &                 1.00 &  -0.03 & 0.98 &      0.04 \\\\\nmean\\_Q1\\_2\\_3\\_mouth      & -0.42 &       0.66 &      0.02 &           -0.45 &           -0.38 &                 0.64 &                 0.68 & -23.65 & 0.00 &    408.38 \\\\\nmean\\_Q5\\_Cutting        & -0.03 &       0.97 &      0.03 &           -0.09 &            0.03 &                 0.91 &                 1.03 &  -1.00 & 0.32 &      1.66 \\\\\nmean\\_Q7\\_Turning\\_in\\_Bed & -0.13 &       0.87 &      0.04 &           -0.21 &           -0.06 &                 0.81 &                 0.94 &  -3.39 & 0.00 &     10.50 \\\\\nslope\\_Q1\\_Speech        & -0.38 &       0.69 &      0.12 &           -0.61 &           -0.15 &                 0.55 &                 0.86 &  -3.22 & 0.00 &      9.58 \\\\\nslope\\_Q3\\_Swallowing    & -0.75 &       0.47 &      0.11 &           -0.96 &           -0.54 &                 0.38 &                 0.58 &  -7.06 & 0.00 &     39.08 \\\\\nweight\\_slope           & -0.05 &       0.95 &      0.02 &           -0.09 &           -0.02 &                 0.92 &                 0.98 &  -3.31 & 0.00 &     10.04 \\\\\n\\bottomrule\n\\end{tabular}\n",
            "text/html": [
              "<div>\n",
              "<style scoped>\n",
              "    .dataframe tbody tr th:only-of-type {\n",
              "        vertical-align: middle;\n",
              "    }\n",
              "\n",
              "    .dataframe tbody tr th {\n",
              "        vertical-align: top;\n",
              "    }\n",
              "\n",
              "    .dataframe thead th {\n",
              "        text-align: right;\n",
              "    }\n",
              "</style>\n",
              "<table border=\"1\" class=\"dataframe\">\n",
              "  <tbody>\n",
              "    <tr>\n",
              "      <th>model</th>\n",
              "      <td>lifelines.CoxPHFitter</td>\n",
              "    </tr>\n",
              "    <tr>\n",
              "      <th>duration col</th>\n",
              "      <td>'time_opt'</td>\n",
              "    </tr>\n",
              "    <tr>\n",
              "      <th>event col</th>\n",
              "      <td>'status_opt'</td>\n",
              "    </tr>\n",
              "    <tr>\n",
              "      <th>penalizer</th>\n",
              "      <td>0.1</td>\n",
              "    </tr>\n",
              "    <tr>\n",
              "      <th>l1 ratio</th>\n",
              "      <td>0.2</td>\n",
              "    </tr>\n",
              "    <tr>\n",
              "      <th>baseline estimation</th>\n",
              "      <td>breslow</td>\n",
              "    </tr>\n",
              "    <tr>\n",
              "      <th>number of observations</th>\n",
              "      <td>2558</td>\n",
              "    </tr>\n",
              "    <tr>\n",
              "      <th>number of events observed</th>\n",
              "      <td>844</td>\n",
              "    </tr>\n",
              "    <tr>\n",
              "      <th>partial log-likelihood</th>\n",
              "      <td>-5601.03</td>\n",
              "    </tr>\n",
              "    <tr>\n",
              "      <th>time fit was run</th>\n",
              "      <td>2021-08-17 17:46:00 UTC</td>\n",
              "    </tr>\n",
              "  </tbody>\n",
              "</table>\n",
              "</div><table border=\"1\" class=\"dataframe\">\n",
              "  <thead>\n",
              "    <tr style=\"text-align: right;\">\n",
              "      <th style=\"min-width: 12px;\"></th>\n",
              "      <th style=\"min-width: 12px;\">coef</th>\n",
              "      <th style=\"min-width: 12px;\">exp(coef)</th>\n",
              "      <th style=\"min-width: 12px;\">se(coef)</th>\n",
              "      <th style=\"min-width: 12px;\">coef lower 95%</th>\n",
              "      <th style=\"min-width: 12px;\">coef upper 95%</th>\n",
              "      <th style=\"min-width: 12px;\">exp(coef) lower 95%</th>\n",
              "      <th style=\"min-width: 12px;\">exp(coef) upper 95%</th>\n",
              "      <th style=\"min-width: 12px;\">z</th>\n",
              "      <th style=\"min-width: 12px;\">p</th>\n",
              "      <th style=\"min-width: 12px;\">-log2(p)</th>\n",
              "    </tr>\n",
              "  </thead>\n",
              "  <tbody>\n",
              "    <tr>\n",
              "      <th>Age</th>\n",
              "      <td>0.06</td>\n",
              "      <td>1.06</td>\n",
              "      <td>0.01</td>\n",
              "      <td>0.03</td>\n",
              "      <td>0.09</td>\n",
              "      <td>1.03</td>\n",
              "      <td>1.09</td>\n",
              "      <td>4.47</td>\n",
              "      <td>&lt;0.005</td>\n",
              "      <td>17.00</td>\n",
              "    </tr>\n",
              "    <tr>\n",
              "      <th>onset_delta</th>\n",
              "      <td>0.01</td>\n",
              "      <td>1.01</td>\n",
              "      <td>0.00</td>\n",
              "      <td>0.01</td>\n",
              "      <td>0.02</td>\n",
              "      <td>1.01</td>\n",
              "      <td>1.02</td>\n",
              "      <td>4.84</td>\n",
              "      <td>&lt;0.005</td>\n",
              "      <td>19.56</td>\n",
              "    </tr>\n",
              "    <tr>\n",
              "      <th>fvc_mean</th>\n",
              "      <td>-0.01</td>\n",
              "      <td>0.99</td>\n",
              "      <td>0.00</td>\n",
              "      <td>-0.01</td>\n",
              "      <td>-0.00</td>\n",
              "      <td>0.99</td>\n",
              "      <td>1.00</td>\n",
              "      <td>-3.90</td>\n",
              "      <td>&lt;0.005</td>\n",
              "      <td>13.33</td>\n",
              "    </tr>\n",
              "    <tr>\n",
              "      <th>Creatinine_mean</th>\n",
              "      <td>-0.00</td>\n",
              "      <td>1.00</td>\n",
              "      <td>0.00</td>\n",
              "      <td>-0.00</td>\n",
              "      <td>0.00</td>\n",
              "      <td>1.00</td>\n",
              "      <td>1.00</td>\n",
              "      <td>-0.03</td>\n",
              "      <td>0.98</td>\n",
              "      <td>0.04</td>\n",
              "    </tr>\n",
              "    <tr>\n",
              "      <th>mean_Q1_2_3_mouth</th>\n",
              "      <td>-0.42</td>\n",
              "      <td>0.66</td>\n",
              "      <td>0.02</td>\n",
              "      <td>-0.45</td>\n",
              "      <td>-0.38</td>\n",
              "      <td>0.64</td>\n",
              "      <td>0.68</td>\n",
              "      <td>-23.65</td>\n",
              "      <td>&lt;0.005</td>\n",
              "      <td>408.38</td>\n",
              "    </tr>\n",
              "    <tr>\n",
              "      <th>mean_Q5_Cutting</th>\n",
              "      <td>-0.03</td>\n",
              "      <td>0.97</td>\n",
              "      <td>0.03</td>\n",
              "      <td>-0.09</td>\n",
              "      <td>0.03</td>\n",
              "      <td>0.91</td>\n",
              "      <td>1.03</td>\n",
              "      <td>-1.00</td>\n",
              "      <td>0.32</td>\n",
              "      <td>1.66</td>\n",
              "    </tr>\n",
              "    <tr>\n",
              "      <th>mean_Q7_Turning_in_Bed</th>\n",
              "      <td>-0.13</td>\n",
              "      <td>0.87</td>\n",
              "      <td>0.04</td>\n",
              "      <td>-0.21</td>\n",
              "      <td>-0.06</td>\n",
              "      <td>0.81</td>\n",
              "      <td>0.94</td>\n",
              "      <td>-3.39</td>\n",
              "      <td>&lt;0.005</td>\n",
              "      <td>10.50</td>\n",
              "    </tr>\n",
              "    <tr>\n",
              "      <th>slope_Q1_Speech</th>\n",
              "      <td>-0.38</td>\n",
              "      <td>0.69</td>\n",
              "      <td>0.12</td>\n",
              "      <td>-0.61</td>\n",
              "      <td>-0.15</td>\n",
              "      <td>0.55</td>\n",
              "      <td>0.86</td>\n",
              "      <td>-3.22</td>\n",
              "      <td>&lt;0.005</td>\n",
              "      <td>9.58</td>\n",
              "    </tr>\n",
              "    <tr>\n",
              "      <th>slope_Q3_Swallowing</th>\n",
              "      <td>-0.75</td>\n",
              "      <td>0.47</td>\n",
              "      <td>0.11</td>\n",
              "      <td>-0.96</td>\n",
              "      <td>-0.54</td>\n",
              "      <td>0.38</td>\n",
              "      <td>0.58</td>\n",
              "      <td>-7.06</td>\n",
              "      <td>&lt;0.005</td>\n",
              "      <td>39.08</td>\n",
              "    </tr>\n",
              "    <tr>\n",
              "      <th>weight_slope</th>\n",
              "      <td>-0.05</td>\n",
              "      <td>0.95</td>\n",
              "      <td>0.02</td>\n",
              "      <td>-0.09</td>\n",
              "      <td>-0.02</td>\n",
              "      <td>0.92</td>\n",
              "      <td>0.98</td>\n",
              "      <td>-3.31</td>\n",
              "      <td>&lt;0.005</td>\n",
              "      <td>10.04</td>\n",
              "    </tr>\n",
              "  </tbody>\n",
              "</table><br><div>\n",
              "<style scoped>\n",
              "    .dataframe tbody tr th:only-of-type {\n",
              "        vertical-align: middle;\n",
              "    }\n",
              "\n",
              "    .dataframe tbody tr th {\n",
              "        vertical-align: top;\n",
              "    }\n",
              "\n",
              "    .dataframe thead th {\n",
              "        text-align: right;\n",
              "    }\n",
              "</style>\n",
              "<table border=\"1\" class=\"dataframe\">\n",
              "  <tbody>\n",
              "    <tr>\n",
              "      <th>Concordance</th>\n",
              "      <td>0.84</td>\n",
              "    </tr>\n",
              "    <tr>\n",
              "      <th>Partial AIC</th>\n",
              "      <td>11222.05</td>\n",
              "    </tr>\n",
              "    <tr>\n",
              "      <th>log-likelihood ratio test</th>\n",
              "      <td>777.36 on 10 df</td>\n",
              "    </tr>\n",
              "    <tr>\n",
              "      <th>-log2(p) of ll-ratio test</th>\n",
              "      <td>530.91</td>\n",
              "    </tr>\n",
              "  </tbody>\n",
              "</table>\n",
              "</div>"
            ],
            "text/plain": [
              "<lifelines.CoxPHFitter: fitted with 2558 total observations, 1714 right-censored observations>\n",
              "             duration col = 'time_opt'\n",
              "                event col = 'status_opt'\n",
              "                penalizer = 0.1\n",
              "                 l1 ratio = 0.2\n",
              "      baseline estimation = breslow\n",
              "   number of observations = 2558\n",
              "number of events observed = 844\n",
              "   partial log-likelihood = -5601.03\n",
              "         time fit was run = 2021-08-17 17:46:00 UTC\n",
              "\n",
              "---\n",
              "                         coef  exp(coef)   se(coef)   coef lower 95%   coef upper 95%  exp(coef) lower 95%  exp(coef) upper 95%\n",
              "covariate                                                                                                                      \n",
              "Age                      0.06       1.06       0.01             0.03             0.09                 1.03                 1.09\n",
              "onset_delta              0.01       1.01       0.00             0.01             0.02                 1.01                 1.02\n",
              "fvc_mean                -0.01       0.99       0.00            -0.01            -0.00                 0.99                 1.00\n",
              "Creatinine_mean         -0.00       1.00       0.00            -0.00             0.00                 1.00                 1.00\n",
              "mean_Q1_2_3_mouth       -0.42       0.66       0.02            -0.45            -0.38                 0.64                 0.68\n",
              "mean_Q5_Cutting         -0.03       0.97       0.03            -0.09             0.03                 0.91                 1.03\n",
              "mean_Q7_Turning_in_Bed  -0.13       0.87       0.04            -0.21            -0.06                 0.81                 0.94\n",
              "slope_Q1_Speech         -0.38       0.69       0.12            -0.61            -0.15                 0.55                 0.86\n",
              "slope_Q3_Swallowing     -0.75       0.47       0.11            -0.96            -0.54                 0.38                 0.58\n",
              "weight_slope            -0.05       0.95       0.02            -0.09            -0.02                 0.92                 0.98\n",
              "\n",
              "                            z      p   -log2(p)\n",
              "covariate                                      \n",
              "Age                      4.47 <0.005      17.00\n",
              "onset_delta              4.84 <0.005      19.56\n",
              "fvc_mean                -3.90 <0.005      13.33\n",
              "Creatinine_mean         -0.03   0.98       0.04\n",
              "mean_Q1_2_3_mouth      -23.65 <0.005     408.38\n",
              "mean_Q5_Cutting         -1.00   0.32       1.66\n",
              "mean_Q7_Turning_in_Bed  -3.39 <0.005      10.50\n",
              "slope_Q1_Speech         -3.22 <0.005       9.58\n",
              "slope_Q3_Swallowing     -7.06 <0.005      39.08\n",
              "weight_slope            -3.31 <0.005      10.04\n",
              "---\n",
              "Concordance = 0.84\n",
              "Partial AIC = 11222.05\n",
              "log-likelihood ratio test = 777.36 on 10 df\n",
              "-log2(p) of ll-ratio test = 530.91"
            ]
          },
          "metadata": {
            "tags": []
          }
        }
      ]
    },
    {
      "cell_type": "code",
      "metadata": {
        "colab": {
          "base_uri": "https://localhost:8080/",
          "height": 1000
        },
        "id": "jP60x0jnnbfy",
        "outputId": "63f39dde-4c9a-41bc-bc6a-3a38342a070c"
      },
      "source": [
        "# Testing proportional-hazard assumption\n",
        "print(cph.check_assumptions(df_train))"
      ],
      "execution_count": null,
      "outputs": [
        {
          "output_type": "stream",
          "text": [
            "The ``p_value_threshold`` is set at 0.01. Even under the null hypothesis of no violations, some\n",
            "covariates will be below the threshold by chance. This is compounded when there are many covariates.\n",
            "Similarly, when there are lots of observations, even minor deviances from the proportional hazard\n",
            "assumption will be flagged.\n",
            "\n",
            "With that in mind, it's best to use a combination of statistical tests and visual tests to determine\n",
            "the most serious violations. Produce visual plots using ``check_assumptions(..., show_plots=True)``\n",
            "and looking for non-constant lines. See link [A] below for a full example.\n",
            "\n"
          ],
          "name": "stdout"
        },
        {
          "output_type": "display_data",
          "data": {
            "text/latex": "\\begin{tabular}{llrrr}\n\\toprule\n             &      &  test\\_statistic &             p &   -log2(p) \\\\\n\\midrule\nAge & km &        0.002591 &  9.594000e-01 &   0.059796 \\\\\n             & rank &        0.007544 &  9.307875e-01 &   0.103476 \\\\\nCreatinine\\_mean & km &        0.024165 &  8.764669e-01 &   0.190228 \\\\\n             & rank &        0.976025 &  3.231823e-01 &   1.629580 \\\\\nfvc\\_mean & km &        0.290946 &  5.896150e-01 &   0.762155 \\\\\n             & rank &        1.990816 &  1.582556e-01 &   2.659672 \\\\\nmean\\_Q1\\_2\\_3\\_mouth & km &       27.101027 &  1.930953e-07 &  22.304184 \\\\\n             & rank &       30.025256 &  4.264557e-08 &  24.483029 \\\\\nmean\\_Q5\\_Cutting & km &        0.187453 &  6.650451e-01 &   0.588476 \\\\\n             & rank &        0.296584 &  5.860320e-01 &   0.770949 \\\\\nmean\\_Q7\\_Turning\\_in\\_Bed & km &        0.433406 &  5.103226e-01 &   0.970519 \\\\\n             & rank &        0.015686 &  9.003310e-01 &   0.151473 \\\\\nonset\\_delta & km &        6.991730 &  8.188717e-03 &   6.932147 \\\\\n             & rank &       11.646752 &  6.431475e-04 &  10.602563 \\\\\nslope\\_Q1\\_Speech & km &        3.101538 &  7.821838e-02 &   3.676349 \\\\\n             & rank &        2.225567 &  1.357428e-01 &   2.881052 \\\\\nslope\\_Q3\\_Swallowing & km &       46.564585 &  8.864798e-12 &  36.715049 \\\\\n             & rank &       63.576843 &  1.542316e-15 &  49.203823 \\\\\nweight\\_slope & km &        0.015922 &  8.995861e-01 &   0.152667 \\\\\n             & rank &        0.130930 &  7.174692e-01 &   0.479011 \\\\\n\\bottomrule\n\\end{tabular}\n",
            "text/html": [
              "<div>\n",
              "<style scoped>\n",
              "    .dataframe tbody tr th:only-of-type {\n",
              "        vertical-align: middle;\n",
              "    }\n",
              "\n",
              "    .dataframe tbody tr th {\n",
              "        vertical-align: top;\n",
              "    }\n",
              "\n",
              "    .dataframe thead th {\n",
              "        text-align: right;\n",
              "    }\n",
              "</style>\n",
              "<table border=\"1\" class=\"dataframe\">\n",
              "  <tbody>\n",
              "    <tr>\n",
              "      <th>null_distribution</th>\n",
              "      <td>chi squared</td>\n",
              "    </tr>\n",
              "    <tr>\n",
              "      <th>degrees_of_freedom</th>\n",
              "      <td>1</td>\n",
              "    </tr>\n",
              "    <tr>\n",
              "      <th>model</th>\n",
              "      <td>&lt;lifelines.CoxPHFitter: fitted with 2558 total...</td>\n",
              "    </tr>\n",
              "    <tr>\n",
              "      <th>test_name</th>\n",
              "      <td>proportional_hazard_test</td>\n",
              "    </tr>\n",
              "  </tbody>\n",
              "</table>\n",
              "</div><table border=\"1\" class=\"dataframe\">\n",
              "  <thead>\n",
              "    <tr style=\"text-align: right;\">\n",
              "      <th></th>\n",
              "      <th></th>\n",
              "      <th>test_statistic</th>\n",
              "      <th>p</th>\n",
              "      <th>-log2(p)</th>\n",
              "    </tr>\n",
              "  </thead>\n",
              "  <tbody>\n",
              "    <tr>\n",
              "      <th rowspan=\"2\" valign=\"top\">Age</th>\n",
              "      <th>km</th>\n",
              "      <td>0.00</td>\n",
              "      <td>0.96</td>\n",
              "      <td>0.06</td>\n",
              "    </tr>\n",
              "    <tr>\n",
              "      <th>rank</th>\n",
              "      <td>0.01</td>\n",
              "      <td>0.93</td>\n",
              "      <td>0.10</td>\n",
              "    </tr>\n",
              "    <tr>\n",
              "      <th rowspan=\"2\" valign=\"top\">Creatinine_mean</th>\n",
              "      <th>km</th>\n",
              "      <td>0.02</td>\n",
              "      <td>0.88</td>\n",
              "      <td>0.19</td>\n",
              "    </tr>\n",
              "    <tr>\n",
              "      <th>rank</th>\n",
              "      <td>0.98</td>\n",
              "      <td>0.32</td>\n",
              "      <td>1.63</td>\n",
              "    </tr>\n",
              "    <tr>\n",
              "      <th rowspan=\"2\" valign=\"top\">fvc_mean</th>\n",
              "      <th>km</th>\n",
              "      <td>0.29</td>\n",
              "      <td>0.59</td>\n",
              "      <td>0.76</td>\n",
              "    </tr>\n",
              "    <tr>\n",
              "      <th>rank</th>\n",
              "      <td>1.99</td>\n",
              "      <td>0.16</td>\n",
              "      <td>2.66</td>\n",
              "    </tr>\n",
              "    <tr>\n",
              "      <th rowspan=\"2\" valign=\"top\">mean_Q1_2_3_mouth</th>\n",
              "      <th>km</th>\n",
              "      <td>27.10</td>\n",
              "      <td>&lt;0.005</td>\n",
              "      <td>22.30</td>\n",
              "    </tr>\n",
              "    <tr>\n",
              "      <th>rank</th>\n",
              "      <td>30.03</td>\n",
              "      <td>&lt;0.005</td>\n",
              "      <td>24.48</td>\n",
              "    </tr>\n",
              "    <tr>\n",
              "      <th rowspan=\"2\" valign=\"top\">mean_Q5_Cutting</th>\n",
              "      <th>km</th>\n",
              "      <td>0.19</td>\n",
              "      <td>0.67</td>\n",
              "      <td>0.59</td>\n",
              "    </tr>\n",
              "    <tr>\n",
              "      <th>rank</th>\n",
              "      <td>0.30</td>\n",
              "      <td>0.59</td>\n",
              "      <td>0.77</td>\n",
              "    </tr>\n",
              "    <tr>\n",
              "      <th rowspan=\"2\" valign=\"top\">mean_Q7_Turning_in_Bed</th>\n",
              "      <th>km</th>\n",
              "      <td>0.43</td>\n",
              "      <td>0.51</td>\n",
              "      <td>0.97</td>\n",
              "    </tr>\n",
              "    <tr>\n",
              "      <th>rank</th>\n",
              "      <td>0.02</td>\n",
              "      <td>0.90</td>\n",
              "      <td>0.15</td>\n",
              "    </tr>\n",
              "    <tr>\n",
              "      <th rowspan=\"2\" valign=\"top\">onset_delta</th>\n",
              "      <th>km</th>\n",
              "      <td>6.99</td>\n",
              "      <td>0.01</td>\n",
              "      <td>6.93</td>\n",
              "    </tr>\n",
              "    <tr>\n",
              "      <th>rank</th>\n",
              "      <td>11.65</td>\n",
              "      <td>&lt;0.005</td>\n",
              "      <td>10.60</td>\n",
              "    </tr>\n",
              "    <tr>\n",
              "      <th rowspan=\"2\" valign=\"top\">slope_Q1_Speech</th>\n",
              "      <th>km</th>\n",
              "      <td>3.10</td>\n",
              "      <td>0.08</td>\n",
              "      <td>3.68</td>\n",
              "    </tr>\n",
              "    <tr>\n",
              "      <th>rank</th>\n",
              "      <td>2.23</td>\n",
              "      <td>0.14</td>\n",
              "      <td>2.88</td>\n",
              "    </tr>\n",
              "    <tr>\n",
              "      <th rowspan=\"2\" valign=\"top\">slope_Q3_Swallowing</th>\n",
              "      <th>km</th>\n",
              "      <td>46.56</td>\n",
              "      <td>&lt;0.005</td>\n",
              "      <td>36.72</td>\n",
              "    </tr>\n",
              "    <tr>\n",
              "      <th>rank</th>\n",
              "      <td>63.58</td>\n",
              "      <td>&lt;0.005</td>\n",
              "      <td>49.20</td>\n",
              "    </tr>\n",
              "    <tr>\n",
              "      <th rowspan=\"2\" valign=\"top\">weight_slope</th>\n",
              "      <th>km</th>\n",
              "      <td>0.02</td>\n",
              "      <td>0.90</td>\n",
              "      <td>0.15</td>\n",
              "    </tr>\n",
              "    <tr>\n",
              "      <th>rank</th>\n",
              "      <td>0.13</td>\n",
              "      <td>0.72</td>\n",
              "      <td>0.48</td>\n",
              "    </tr>\n",
              "  </tbody>\n",
              "</table>"
            ],
            "text/plain": [
              "<lifelines.StatisticalResult: proportional_hazard_test>\n",
              " null_distribution = chi squared\n",
              "degrees_of_freedom = 1\n",
              "             model = <lifelines.CoxPHFitter: fitted with 2558 total observations, 1714 right-censored observations>\n",
              "         test_name = proportional_hazard_test\n",
              "\n",
              "---\n",
              "                             test_statistic      p  -log2(p)\n",
              "Age                    km              0.00   0.96      0.06\n",
              "                       rank            0.01   0.93      0.10\n",
              "Creatinine_mean        km              0.02   0.88      0.19\n",
              "                       rank            0.98   0.32      1.63\n",
              "fvc_mean               km              0.29   0.59      0.76\n",
              "                       rank            1.99   0.16      2.66\n",
              "mean_Q1_2_3_mouth      km             27.10 <0.005     22.30\n",
              "                       rank           30.03 <0.005     24.48\n",
              "mean_Q5_Cutting        km              0.19   0.67      0.59\n",
              "                       rank            0.30   0.59      0.77\n",
              "mean_Q7_Turning_in_Bed km              0.43   0.51      0.97\n",
              "                       rank            0.02   0.90      0.15\n",
              "onset_delta            km              6.99   0.01      6.93\n",
              "                       rank           11.65 <0.005     10.60\n",
              "slope_Q1_Speech        km              3.10   0.08      3.68\n",
              "                       rank            2.23   0.14      2.88\n",
              "slope_Q3_Swallowing    km             46.56 <0.005     36.72\n",
              "                       rank           63.58 <0.005     49.20\n",
              "weight_slope           km              0.02   0.90      0.15\n",
              "                       rank            0.13   0.72      0.48"
            ]
          },
          "metadata": {
            "tags": []
          }
        },
        {
          "output_type": "stream",
          "text": [
            "\n",
            "\n",
            "1. Variable 'onset_delta' failed the non-proportional test: p-value is 0.0006.\n",
            "\n",
            "   Advice 1: the functional form of the variable 'onset_delta' might be incorrect. That is, there\n",
            "may be non-linear terms missing. The proportional hazard test used is very sensitive to incorrect\n",
            "functional forms. See documentation in link [D] below on how to specify a functional form.\n",
            "\n",
            "   Advice 2: try binning the variable 'onset_delta' using pd.cut, and then specify it in\n",
            "`strata=['onset_delta', ...]` in the call in `.fit`. See documentation in link [B] below.\n",
            "\n",
            "   Advice 3: try adding an interaction term with your time variable. See documentation in link [C]\n",
            "below.\n",
            "\n",
            "\n",
            "2. Variable 'mean_Q1_2_3_mouth' failed the non-proportional test: p-value is <5e-05.\n",
            "\n",
            "   Advice 1: the functional form of the variable 'mean_Q1_2_3_mouth' might be incorrect. That is,\n",
            "there may be non-linear terms missing. The proportional hazard test used is very sensitive to\n",
            "incorrect functional forms. See documentation in link [D] below on how to specify a functional form.\n",
            "\n",
            "   Advice 2: try binning the variable 'mean_Q1_2_3_mouth' using pd.cut, and then specify it in\n",
            "`strata=['mean_Q1_2_3_mouth', ...]` in the call in `.fit`. See documentation in link [B] below.\n",
            "\n",
            "   Advice 3: try adding an interaction term with your time variable. See documentation in link [C]\n",
            "below.\n",
            "\n",
            "\n",
            "3. Variable 'slope_Q3_Swallowing' failed the non-proportional test: p-value is <5e-05.\n",
            "\n",
            "   Advice 1: the functional form of the variable 'slope_Q3_Swallowing' might be incorrect. That is,\n",
            "there may be non-linear terms missing. The proportional hazard test used is very sensitive to\n",
            "incorrect functional forms. See documentation in link [D] below on how to specify a functional form.\n",
            "\n",
            "   Advice 2: try binning the variable 'slope_Q3_Swallowing' using pd.cut, and then specify it in\n",
            "`strata=['slope_Q3_Swallowing', ...]` in the call in `.fit`. See documentation in link [B] below.\n",
            "\n",
            "   Advice 3: try adding an interaction term with your time variable. See documentation in link [C]\n",
            "below.\n",
            "\n",
            "\n",
            "---\n",
            "[A]  https://lifelines.readthedocs.io/en/latest/jupyter_notebooks/Proportional%20hazard%20assumption.html\n",
            "[B]  https://lifelines.readthedocs.io/en/latest/jupyter_notebooks/Proportional%20hazard%20assumption.html#Bin-variable-and-stratify-on-it\n",
            "[C]  https://lifelines.readthedocs.io/en/latest/jupyter_notebooks/Proportional%20hazard%20assumption.html#Introduce-time-varying-covariates\n",
            "[D]  https://lifelines.readthedocs.io/en/latest/jupyter_notebooks/Proportional%20hazard%20assumption.html#Modify-the-functional-form\n",
            "[E]  https://lifelines.readthedocs.io/en/latest/jupyter_notebooks/Proportional%20hazard%20assumption.html#Stratification\n",
            "\n",
            "[]\n"
          ],
          "name": "stdout"
        }
      ]
    },
    {
      "cell_type": "code",
      "metadata": {
        "colab": {
          "base_uri": "https://localhost:8080/",
          "height": 486
        },
        "id": "kK8CB4oXcWZp",
        "outputId": "153437ce-f644-4ca9-bcbd-7891895c3419"
      },
      "source": [
        "# Print 95% CI Hazard ratios in a plot\n",
        "plt.figure(figsize = (6.3,7.8))\n",
        "ax = cph.plot(hazard_ratios=True, c='k', marker='D')\n",
        "ax.yaxis.set_visible(True) #HR >1, or log(HR)>0 means that a feature increases the risk of event occurence"
      ],
      "execution_count": null,
      "outputs": [
        {
          "output_type": "display_data",
          "data": {
            "image/png": "[encoded data removed]",
            "text/plain": [
              "<Figure size 453.6x561.6 with 1 Axes>"
            ]
          },
          "metadata": {
            "tags": [],
            "needs_background": "light"
          }
        }
      ]
    },
    {
      "cell_type": "code",
      "metadata": {
        "colab": {
          "base_uri": "https://localhost:8080/"
        },
        "id": "aymaIiyf5A3l",
        "outputId": "f54972da-656e-40b9-c03c-5355e1773027"
      },
      "source": [
        "df_train.columns"
      ],
      "execution_count": null,
      "outputs": [
        {
          "output_type": "execute_result",
          "data": {
            "text/plain": [
              "Index(['Age', 'onset_delta', 'fvc_mean', 'Creatinine_mean',\n",
              "       'mean_Q1_2_3_mouth', 'mean_Q5_Cutting', 'mean_Q7_Turning_in_Bed',\n",
              "       'slope_Q1_Speech', 'slope_Q3_Swallowing', 'weight_slope', 'status_opt',\n",
              "       'time_opt'],\n",
              "      dtype='object')"
            ]
          },
          "metadata": {
            "tags": []
          },
          "execution_count": 17
        }
      ]
    },
    {
      "cell_type": "markdown",
      "metadata": {
        "id": "UvMgs2gR7id2"
      },
      "source": [
        "### (3) Re-fitting without insignificant feature"
      ]
    },
    {
      "cell_type": "code",
      "metadata": {
        "colab": {
          "base_uri": "https://localhost:8080/",
          "height": 756
        },
        "id": "JnKMErYd5UZi",
        "outputId": "3a3a6858-0185-47d4-c06c-dbb5624c1c61"
      },
      "source": [
        "# features with p-value higher than 0.05 are excluded\n",
        "df_train_finalcox = df_train[['Age', 'onset_delta', 'fvc_mean',\n",
        "       'mean_Q1_2_3_mouth', 'mean_Q7_Turning_in_Bed',\n",
        "       'slope_Q1_Speech', 'slope_Q3_Swallowing',\n",
        "        'weight_slope', 'status_opt', 'time_opt']]\n",
        "\n",
        "from lifelines import CoxPHFitter\n",
        "cph = CoxPHFitter(penalizer=0.1, l1_ratio = 0.2)\n",
        "cph.fit(df_train_finalcox, 'time_opt', event_col='status_opt')\n",
        "cph.print_summary()"
      ],
      "execution_count": null,
      "outputs": [
        {
          "output_type": "display_data",
          "data": {
            "text/latex": "\\begin{tabular}{lrrrrrrrrrr}\n\\toprule\n{} &  coef &  exp(coef) &  se(coef) &  coef lower 95\\% &  coef upper 95\\% &  exp(coef) lower 95\\% &  exp(coef) upper 95\\% &      z &    p &  -log2(p) \\\\\ncovariate              &       &            &           &                 &                 &                      &                      &        &      &           \\\\\n\\midrule\nAge                    &  0.06 &       1.06 &      0.01 &            0.03 &            0.08 &                 1.03 &                 1.09 &   4.36 & 0.00 &     16.26 \\\\\nonset\\_delta            &  0.01 &       1.01 &      0.00 &            0.01 &            0.02 &                 1.01 &                 1.02 &   4.79 & 0.00 &     19.21 \\\\\nfvc\\_mean               & -0.01 &       0.99 &      0.00 &           -0.01 &           -0.00 &                 0.99 &                 1.00 &  -4.01 & 0.00 &     14.01 \\\\\nmean\\_Q1\\_2\\_3\\_mouth      & -0.42 &       0.66 &      0.02 &           -0.45 &           -0.38 &                 0.64 &                 0.68 & -23.68 & 0.00 &    409.36 \\\\\nmean\\_Q7\\_Turning\\_in\\_Bed & -0.15 &       0.86 &      0.03 &           -0.22 &           -0.09 &                 0.80 &                 0.92 &  -4.49 & 0.00 &     17.08 \\\\\nslope\\_Q1\\_Speech        & -0.38 &       0.68 &      0.12 &           -0.61 &           -0.15 &                 0.54 &                 0.86 &  -3.26 & 0.00 &      9.83 \\\\\nslope\\_Q3\\_Swallowing    & -0.76 &       0.47 &      0.11 &           -0.97 &           -0.55 &                 0.38 &                 0.58 &  -7.08 & 0.00 &     39.34 \\\\\nweight\\_slope           & -0.06 &       0.95 &      0.02 &           -0.09 &           -0.02 &                 0.92 &                 0.98 &  -3.32 & 0.00 &     10.12 \\\\\n\\bottomrule\n\\end{tabular}\n",
            "text/html": [
              "<div>\n",
              "<style scoped>\n",
              "    .dataframe tbody tr th:only-of-type {\n",
              "        vertical-align: middle;\n",
              "    }\n",
              "\n",
              "    .dataframe tbody tr th {\n",
              "        vertical-align: top;\n",
              "    }\n",
              "\n",
              "    .dataframe thead th {\n",
              "        text-align: right;\n",
              "    }\n",
              "</style>\n",
              "<table border=\"1\" class=\"dataframe\">\n",
              "  <tbody>\n",
              "    <tr>\n",
              "      <th>model</th>\n",
              "      <td>lifelines.CoxPHFitter</td>\n",
              "    </tr>\n",
              "    <tr>\n",
              "      <th>duration col</th>\n",
              "      <td>'time_opt'</td>\n",
              "    </tr>\n",
              "    <tr>\n",
              "      <th>event col</th>\n",
              "      <td>'status_opt'</td>\n",
              "    </tr>\n",
              "    <tr>\n",
              "      <th>penalizer</th>\n",
              "      <td>0.1</td>\n",
              "    </tr>\n",
              "    <tr>\n",
              "      <th>l1 ratio</th>\n",
              "      <td>0.2</td>\n",
              "    </tr>\n",
              "    <tr>\n",
              "      <th>baseline estimation</th>\n",
              "      <td>breslow</td>\n",
              "    </tr>\n",
              "    <tr>\n",
              "      <th>number of observations</th>\n",
              "      <td>2558</td>\n",
              "    </tr>\n",
              "    <tr>\n",
              "      <th>number of events observed</th>\n",
              "      <td>844</td>\n",
              "    </tr>\n",
              "    <tr>\n",
              "      <th>partial log-likelihood</th>\n",
              "      <td>-5601.53</td>\n",
              "    </tr>\n",
              "    <tr>\n",
              "      <th>time fit was run</th>\n",
              "      <td>2021-08-17 17:57:39 UTC</td>\n",
              "    </tr>\n",
              "  </tbody>\n",
              "</table>\n",
              "</div><table border=\"1\" class=\"dataframe\">\n",
              "  <thead>\n",
              "    <tr style=\"text-align: right;\">\n",
              "      <th style=\"min-width: 12px;\"></th>\n",
              "      <th style=\"min-width: 12px;\">coef</th>\n",
              "      <th style=\"min-width: 12px;\">exp(coef)</th>\n",
              "      <th style=\"min-width: 12px;\">se(coef)</th>\n",
              "      <th style=\"min-width: 12px;\">coef lower 95%</th>\n",
              "      <th style=\"min-width: 12px;\">coef upper 95%</th>\n",
              "      <th style=\"min-width: 12px;\">exp(coef) lower 95%</th>\n",
              "      <th style=\"min-width: 12px;\">exp(coef) upper 95%</th>\n",
              "      <th style=\"min-width: 12px;\">z</th>\n",
              "      <th style=\"min-width: 12px;\">p</th>\n",
              "      <th style=\"min-width: 12px;\">-log2(p)</th>\n",
              "    </tr>\n",
              "  </thead>\n",
              "  <tbody>\n",
              "    <tr>\n",
              "      <th>Age</th>\n",
              "      <td>0.06</td>\n",
              "      <td>1.06</td>\n",
              "      <td>0.01</td>\n",
              "      <td>0.03</td>\n",
              "      <td>0.08</td>\n",
              "      <td>1.03</td>\n",
              "      <td>1.09</td>\n",
              "      <td>4.36</td>\n",
              "      <td>&lt;0.005</td>\n",
              "      <td>16.26</td>\n",
              "    </tr>\n",
              "    <tr>\n",
              "      <th>onset_delta</th>\n",
              "      <td>0.01</td>\n",
              "      <td>1.01</td>\n",
              "      <td>0.00</td>\n",
              "      <td>0.01</td>\n",
              "      <td>0.02</td>\n",
              "      <td>1.01</td>\n",
              "      <td>1.02</td>\n",
              "      <td>4.79</td>\n",
              "      <td>&lt;0.005</td>\n",
              "      <td>19.21</td>\n",
              "    </tr>\n",
              "    <tr>\n",
              "      <th>fvc_mean</th>\n",
              "      <td>-0.01</td>\n",
              "      <td>0.99</td>\n",
              "      <td>0.00</td>\n",
              "      <td>-0.01</td>\n",
              "      <td>-0.00</td>\n",
              "      <td>0.99</td>\n",
              "      <td>1.00</td>\n",
              "      <td>-4.01</td>\n",
              "      <td>&lt;0.005</td>\n",
              "      <td>14.01</td>\n",
              "    </tr>\n",
              "    <tr>\n",
              "      <th>mean_Q1_2_3_mouth</th>\n",
              "      <td>-0.42</td>\n",
              "      <td>0.66</td>\n",
              "      <td>0.02</td>\n",
              "      <td>-0.45</td>\n",
              "      <td>-0.38</td>\n",
              "      <td>0.64</td>\n",
              "      <td>0.68</td>\n",
              "      <td>-23.68</td>\n",
              "      <td>&lt;0.005</td>\n",
              "      <td>409.36</td>\n",
              "    </tr>\n",
              "    <tr>\n",
              "      <th>mean_Q7_Turning_in_Bed</th>\n",
              "      <td>-0.15</td>\n",
              "      <td>0.86</td>\n",
              "      <td>0.03</td>\n",
              "      <td>-0.22</td>\n",
              "      <td>-0.09</td>\n",
              "      <td>0.80</td>\n",
              "      <td>0.92</td>\n",
              "      <td>-4.49</td>\n",
              "      <td>&lt;0.005</td>\n",
              "      <td>17.08</td>\n",
              "    </tr>\n",
              "    <tr>\n",
              "      <th>slope_Q1_Speech</th>\n",
              "      <td>-0.38</td>\n",
              "      <td>0.68</td>\n",
              "      <td>0.12</td>\n",
              "      <td>-0.61</td>\n",
              "      <td>-0.15</td>\n",
              "      <td>0.54</td>\n",
              "      <td>0.86</td>\n",
              "      <td>-3.26</td>\n",
              "      <td>&lt;0.005</td>\n",
              "      <td>9.83</td>\n",
              "    </tr>\n",
              "    <tr>\n",
              "      <th>slope_Q3_Swallowing</th>\n",
              "      <td>-0.76</td>\n",
              "      <td>0.47</td>\n",
              "      <td>0.11</td>\n",
              "      <td>-0.97</td>\n",
              "      <td>-0.55</td>\n",
              "      <td>0.38</td>\n",
              "      <td>0.58</td>\n",
              "      <td>-7.08</td>\n",
              "      <td>&lt;0.005</td>\n",
              "      <td>39.34</td>\n",
              "    </tr>\n",
              "    <tr>\n",
              "      <th>weight_slope</th>\n",
              "      <td>-0.06</td>\n",
              "      <td>0.95</td>\n",
              "      <td>0.02</td>\n",
              "      <td>-0.09</td>\n",
              "      <td>-0.02</td>\n",
              "      <td>0.92</td>\n",
              "      <td>0.98</td>\n",
              "      <td>-3.32</td>\n",
              "      <td>&lt;0.005</td>\n",
              "      <td>10.12</td>\n",
              "    </tr>\n",
              "  </tbody>\n",
              "</table><br><div>\n",
              "<style scoped>\n",
              "    .dataframe tbody tr th:only-of-type {\n",
              "        vertical-align: middle;\n",
              "    }\n",
              "\n",
              "    .dataframe tbody tr th {\n",
              "        vertical-align: top;\n",
              "    }\n",
              "\n",
              "    .dataframe thead th {\n",
              "        text-align: right;\n",
              "    }\n",
              "</style>\n",
              "<table border=\"1\" class=\"dataframe\">\n",
              "  <tbody>\n",
              "    <tr>\n",
              "      <th>Concordance</th>\n",
              "      <td>0.84</td>\n",
              "    </tr>\n",
              "    <tr>\n",
              "      <th>Partial AIC</th>\n",
              "      <td>11219.05</td>\n",
              "    </tr>\n",
              "    <tr>\n",
              "      <th>log-likelihood ratio test</th>\n",
              "      <td>776.36 on 8 df</td>\n",
              "    </tr>\n",
              "    <tr>\n",
              "      <th>-log2(p) of ll-ratio test</th>\n",
              "      <td>536.79</td>\n",
              "    </tr>\n",
              "  </tbody>\n",
              "</table>\n",
              "</div>"
            ],
            "text/plain": [
              "<lifelines.CoxPHFitter: fitted with 2558 total observations, 1714 right-censored observations>\n",
              "             duration col = 'time_opt'\n",
              "                event col = 'status_opt'\n",
              "                penalizer = 0.1\n",
              "                 l1 ratio = 0.2\n",
              "      baseline estimation = breslow\n",
              "   number of observations = 2558\n",
              "number of events observed = 844\n",
              "   partial log-likelihood = -5601.53\n",
              "         time fit was run = 2021-08-17 17:57:39 UTC\n",
              "\n",
              "---\n",
              "                         coef  exp(coef)   se(coef)   coef lower 95%   coef upper 95%  exp(coef) lower 95%  exp(coef) upper 95%\n",
              "covariate                                                                                                                      \n",
              "Age                      0.06       1.06       0.01             0.03             0.08                 1.03                 1.09\n",
              "onset_delta              0.01       1.01       0.00             0.01             0.02                 1.01                 1.02\n",
              "fvc_mean                -0.01       0.99       0.00            -0.01            -0.00                 0.99                 1.00\n",
              "mean_Q1_2_3_mouth       -0.42       0.66       0.02            -0.45            -0.38                 0.64                 0.68\n",
              "mean_Q7_Turning_in_Bed  -0.15       0.86       0.03            -0.22            -0.09                 0.80                 0.92\n",
              "slope_Q1_Speech         -0.38       0.68       0.12            -0.61            -0.15                 0.54                 0.86\n",
              "slope_Q3_Swallowing     -0.76       0.47       0.11            -0.97            -0.55                 0.38                 0.58\n",
              "weight_slope            -0.06       0.95       0.02            -0.09            -0.02                 0.92                 0.98\n",
              "\n",
              "                            z      p   -log2(p)\n",
              "covariate                                      \n",
              "Age                      4.36 <0.005      16.26\n",
              "onset_delta              4.79 <0.005      19.21\n",
              "fvc_mean                -4.01 <0.005      14.01\n",
              "mean_Q1_2_3_mouth      -23.68 <0.005     409.36\n",
              "mean_Q7_Turning_in_Bed  -4.49 <0.005      17.08\n",
              "slope_Q1_Speech         -3.26 <0.005       9.83\n",
              "slope_Q3_Swallowing     -7.08 <0.005      39.34\n",
              "weight_slope            -3.32 <0.005      10.12\n",
              "---\n",
              "Concordance = 0.84\n",
              "Partial AIC = 11219.05\n",
              "log-likelihood ratio test = 776.36 on 8 df\n",
              "-log2(p) of ll-ratio test = 536.79"
            ]
          },
          "metadata": {
            "tags": []
          }
        }
      ]
    },
    {
      "cell_type": "code",
      "metadata": {
        "colab": {
          "base_uri": "https://localhost:8080/",
          "height": 606
        },
        "id": "xwgYsBZq6R43",
        "outputId": "d6058b39-200a-459a-8947-62f698602a6b"
      },
      "source": [
        "# Print 95% CI Hazard ratios in a plot\n",
        "plt.figure(figsize=(6.3, 7.8))\n",
        "ax = cph.plot(hazard_ratios=True, c='k', marker='D')\n",
        "ax.yaxis.set_visible(True)"
      ],
      "execution_count": null,
      "outputs": [
        {
          "output_type": "display_data",
          "data": {
            "image/png": "[encoded data removed]",
            "text/plain": [
              "<Figure size 432x720 with 1 Axes>"
            ]
          },
          "metadata": {
            "tags": [],
            "needs_background": "light"
          }
        }
      ]
    },
    {
      "cell_type": "markdown",
      "metadata": {
        "id": "nZ8WEcjXnbf0"
      },
      "source": [
        "## 3) Random Survival Forest model"
      ]
    },
    {
      "cell_type": "code",
      "metadata": {
        "id": "pG0-y9Cp3VH4"
      },
      "source": [
        "!pip install --upgrade pip\n",
        "!pip uninstall --yes --quiet osqp\n",
        "!pip install -U scikit-survival"
      ],
      "execution_count": null,
      "outputs": []
    },
    {
      "cell_type": "code",
      "metadata": {
        "id": "AJqDqDlrj4DV"
      },
      "source": [
        "from sksurv.ensemble import RandomSurvivalForest"
      ],
      "execution_count": null,
      "outputs": []
    },
    {
      "cell_type": "code",
      "metadata": {
        "id": "1NO1XMsHr26W"
      },
      "source": [
        "# Random Survival Forests requires array-type data, thus additional preprocessing was needed\n",
        "dic = {1:True, 0:False}\n",
        "\n",
        "df_train_rsf = df_train.iloc[:, -2:][['status_opt', 'time_opt']]\n",
        "df_train_rsf = df_train_rsf.replace({'status_opt':dic})"
      ],
      "execution_count": null,
      "outputs": []
    },
    {
      "cell_type": "code",
      "metadata": {
        "id": "BQ0luQnTv9PW",
        "colab": {
          "base_uri": "https://localhost:8080/"
        },
        "outputId": "773c1dea-e71f-4af3-96c2-636d22edc1ca"
      },
      "source": [
        "arr_1 = list(tuple(x) for x in df_train_rsf.to_records(index=False))\n",
        "dt = np.dtype('bool, float')\n",
        "y_train_rsf = np.array(arr_1, dtype=dt)\n",
        "y_train_rsf.dtype.names=['cens', 'time']\n",
        "y_train_rsf"
      ],
      "execution_count": null,
      "outputs": [
        {
          "output_type": "execute_result",
          "data": {
            "text/plain": [
              "array([(False, 274.), ( True,  35.), (False, 154.), ..., ( True,  91.),\n",
              "       (False, 266.), (False, 126.)],\n",
              "      dtype=[('cens', '?'), ('time', '<f8')])"
            ]
          },
          "metadata": {
            "tags": []
          },
          "execution_count": 13
        }
      ]
    },
    {
      "cell_type": "markdown",
      "metadata": {
        "id": "ReSwoqVk7ceM"
      },
      "source": [
        "###(1) GridSearchCV for RSF"
      ]
    },
    {
      "cell_type": "code",
      "metadata": {
        "id": "r7QW6Wuw7oqm"
      },
      "source": [
        "from sklearn.model_selection import GridSearchCV\n",
        "\n",
        "params ={ 'n_estimators':[100],\n",
        "          'max_features':['auto', 'sqrt','log2', None],\n",
        "          'min_samples_leaf':[8,12,18],\n",
        "          'min_samples_split':[8,16,20] }"
      ],
      "execution_count": null,
      "outputs": []
    },
    {
      "cell_type": "code",
      "metadata": {
        "id": "nM04ghzi7q41"
      },
      "source": [
        "rf = RandomSurvivalForest(random_state=20, n_jobs=-1)\n",
        "grid_cv3 = GridSearchCV(rf, param_grid=params, cv=2, n_jobs=-1)\n",
        "GG = grid_cv3.fit(df_train.iloc[:,:-2], y_train_rsf)"
      ],
      "execution_count": null,
      "outputs": []
    },
    {
      "cell_type": "code",
      "metadata": {
        "colab": {
          "base_uri": "https://localhost:8080/"
        },
        "id": "wXNCgvcF7rm0",
        "outputId": "c0010652-6965-4d4b-cceb-dfc1b3cc7999"
      },
      "source": [
        "# Result\n",
        "print(grid_cv3.best_score_)\n",
        "print(grid_cv3.best_params_)"
      ],
      "execution_count": null,
      "outputs": [
        {
          "output_type": "stream",
          "text": [
            "0.843955419106112\n",
            "{'max_features': 'auto', 'min_samples_leaf': 12, 'min_samples_split': 8, 'n_estimators': 100}\n"
          ],
          "name": "stdout"
        }
      ]
    },
    {
      "cell_type": "markdown",
      "metadata": {
        "id": "qJG9l-eGC6Tv"
      },
      "source": [
        "###(2) Fitting RSF model"
      ]
    },
    {
      "cell_type": "code",
      "metadata": {
        "id": "xOybJl-ej39A"
      },
      "source": [
        "rsf = RandomSurvivalForest(n_estimators=100,\n",
        "                           min_samples_split=8,\n",
        "                           min_samples_leaf=18,\n",
        "                           max_features=\"auto\",\n",
        "                           n_jobs=-1,\n",
        "                           random_state=20)\n",
        "rsf.fit(df_train.iloc[:,:-2], y_train_rsf)"
      ],
      "execution_count": null,
      "outputs": []
    },
    {
      "cell_type": "code",
      "metadata": {
        "colab": {
          "base_uri": "https://localhost:8080/"
        },
        "id": "5k8S2fCy-JNb",
        "outputId": "d2abb38d-1563-4b47-b921-697228ba3cb3"
      },
      "source": [
        "feature_names = df_train.iloc[:, :-2].columns.tolist()\n",
        "feature_names"
      ],
      "execution_count": null,
      "outputs": [
        {
          "output_type": "execute_result",
          "data": {
            "text/plain": [
              "['Age',\n",
              " 'onset_delta',\n",
              " 'fvc_mean',\n",
              " 'Creatinine_mean',\n",
              " 'mean_Q1_2_3_mouth',\n",
              " 'mean_Q5_Cutting',\n",
              " 'mean_Q7_Turning_in_Bed',\n",
              " 'slope_Q1_Speech',\n",
              " 'slope_Q3_Swallowing',\n",
              " 'weight_slope']"
            ]
          },
          "metadata": {
            "tags": []
          },
          "execution_count": 15
        }
      ]
    },
    {
      "cell_type": "code",
      "metadata": {
        "id": "tmvlImotFZsn"
      },
      "source": [
        "pip install eli5"
      ],
      "execution_count": null,
      "outputs": []
    },
    {
      "cell_type": "code",
      "metadata": {
        "colab": {
          "base_uri": "https://localhost:8080/"
        },
        "id": "CxH8v12rnbf8",
        "outputId": "6c50c47d-e3bf-42e5-abaa-9af1b0aa246a"
      },
      "source": [
        "import eli5\n",
        "from eli5.sklearn import PermutationImportance\n",
        "\n",
        "perm = PermutationImportance(rsf, n_iter=15, random_state=20)\n",
        "perm.fit(df_train.iloc[:, :-2], y_train_rsf)"
      ],
      "execution_count": null,
      "outputs": [
        {
          "output_type": "stream",
          "text": [
            "/usr/local/lib/python3.7/dist-packages/sklearn/utils/deprecation.py:144: FutureWarning: The sklearn.feature_selection.base module is  deprecated in version 0.22 and will be removed in version 0.24. The corresponding classes / functions should instead be imported from sklearn.feature_selection. Anything that cannot be imported from sklearn.feature_selection is now part of the private API.\n",
            "  warnings.warn(message, FutureWarning)\n"
          ],
          "name": "stderr"
        },
        {
          "output_type": "execute_result",
          "data": {
            "text/plain": [
              "PermutationImportance(cv='prefit',\n",
              "                      estimator=RandomSurvivalForest(bootstrap=True,\n",
              "                                                     max_depth=None,\n",
              "                                                     max_features='auto',\n",
              "                                                     max_leaf_nodes=None,\n",
              "                                                     max_samples=None,\n",
              "                                                     min_samples_leaf=18,\n",
              "                                                     min_samples_split=8,\n",
              "                                                     min_weight_fraction_leaf=0.0,\n",
              "                                                     n_estimators=100,\n",
              "                                                     n_jobs=-1, oob_score=False,\n",
              "                                                     random_state=20, verbose=0,\n",
              "                                                     warm_start=False),\n",
              "                      n_iter=15, random_state=20, refit=True, scoring=None)"
            ]
          },
          "metadata": {
            "tags": []
          },
          "execution_count": 17
        }
      ]
    },
    {
      "cell_type": "code",
      "metadata": {
        "colab": {
          "base_uri": "https://localhost:8080/",
          "height": 300
        },
        "id": "vc_EnPYdnbf9",
        "outputId": "b4dae297-aaaf-4480-dc1e-424de45aeb45"
      },
      "source": [
        "eli5.explain_weights_df(perm, feature_names=feature_names).describe()"
      ],
      "execution_count": null,
      "outputs": [
        {
          "output_type": "execute_result",
          "data": {
            "text/html": [
              "<div>\n",
              "<style scoped>\n",
              "    .dataframe tbody tr th:only-of-type {\n",
              "        vertical-align: middle;\n",
              "    }\n",
              "\n",
              "    .dataframe tbody tr th {\n",
              "        vertical-align: top;\n",
              "    }\n",
              "\n",
              "    .dataframe thead th {\n",
              "        text-align: right;\n",
              "    }\n",
              "</style>\n",
              "<table border=\"1\" class=\"dataframe\">\n",
              "  <thead>\n",
              "    <tr style=\"text-align: right;\">\n",
              "      <th></th>\n",
              "      <th>weight</th>\n",
              "      <th>std</th>\n",
              "    </tr>\n",
              "  </thead>\n",
              "  <tbody>\n",
              "    <tr>\n",
              "      <th>count</th>\n",
              "      <td>10.000000</td>\n",
              "      <td>10.000000</td>\n",
              "    </tr>\n",
              "    <tr>\n",
              "      <th>mean</th>\n",
              "      <td>0.032335</td>\n",
              "      <td>0.001559</td>\n",
              "    </tr>\n",
              "    <tr>\n",
              "      <th>std</th>\n",
              "      <td>0.061539</td>\n",
              "      <td>0.001777</td>\n",
              "    </tr>\n",
              "    <tr>\n",
              "      <th>min</th>\n",
              "      <td>0.005694</td>\n",
              "      <td>0.000473</td>\n",
              "    </tr>\n",
              "    <tr>\n",
              "      <th>25%</th>\n",
              "      <td>0.008694</td>\n",
              "      <td>0.000561</td>\n",
              "    </tr>\n",
              "    <tr>\n",
              "      <th>50%</th>\n",
              "      <td>0.012712</td>\n",
              "      <td>0.001056</td>\n",
              "    </tr>\n",
              "    <tr>\n",
              "      <th>75%</th>\n",
              "      <td>0.018087</td>\n",
              "      <td>0.001614</td>\n",
              "    </tr>\n",
              "    <tr>\n",
              "      <th>max</th>\n",
              "      <td>0.206649</td>\n",
              "      <td>0.006392</td>\n",
              "    </tr>\n",
              "  </tbody>\n",
              "</table>\n",
              "</div>"
            ],
            "text/plain": [
              "          weight        std\n",
              "count  10.000000  10.000000\n",
              "mean    0.032335   0.001559\n",
              "std     0.061539   0.001777\n",
              "min     0.005694   0.000473\n",
              "25%     0.008694   0.000561\n",
              "50%     0.012712   0.001056\n",
              "75%     0.018087   0.001614\n",
              "max     0.206649   0.006392"
            ]
          },
          "metadata": {
            "tags": []
          },
          "execution_count": 18
        }
      ]
    },
    {
      "cell_type": "code",
      "metadata": {
        "colab": {
          "base_uri": "https://localhost:8080/",
          "height": 208
        },
        "id": "N7YAXkJJnbf-",
        "outputId": "c58b5ef7-32ac-484d-f70f-cfa1393460b3"
      },
      "source": [
        "eli5.show_weights(perm, feature_names=feature_names)"
      ],
      "execution_count": null,
      "outputs": [
        {
          "output_type": "execute_result",
          "data": {
            "text/html": [
              "\n",
              "    <style>\n",
              "    table.eli5-weights tr:hover {\n",
              "        filter: brightness(85%);\n",
              "    }\n",
              "</style>\n",
              "\n",
              "\n",
              "\n",
              "    \n",
              "\n",
              "    \n",
              "\n",
              "    \n",
              "\n",
              "    \n",
              "\n",
              "    \n",
              "\n",
              "    \n",
              "\n",
              "\n",
              "    \n",
              "\n",
              "    \n",
              "\n",
              "    \n",
              "\n",
              "    \n",
              "\n",
              "    \n",
              "\n",
              "    \n",
              "\n",
              "\n",
              "    \n",
              "\n",
              "    \n",
              "\n",
              "    \n",
              "\n",
              "    \n",
              "\n",
              "    \n",
              "        <table class=\"eli5-weights eli5-feature-importances\" style=\"border-collapse: collapse; border: none; margin-top: 0em; table-layout: auto;\">\n",
              "    <thead>\n",
              "    <tr style=\"border: none;\">\n",
              "        <th style=\"padding: 0 1em 0 0.5em; text-align: right; border: none;\">Weight</th>\n",
              "        <th style=\"padding: 0 0.5em 0 0.5em; text-align: left; border: none;\">Feature</th>\n",
              "    </tr>\n",
              "    </thead>\n",
              "    <tbody>\n",
              "    \n",
              "        <tr style=\"background-color: hsl(120, 100.00%, 80.00%); border: none;\">\n",
              "            <td style=\"padding: 0 1em 0 0.5em; text-align: right; border: none;\">\n",
              "                0.2066\n",
              "                \n",
              "                    &plusmn; 0.0128\n",
              "                \n",
              "            </td>\n",
              "            <td style=\"padding: 0 0.5em 0 0.5em; text-align: left; border: none;\">\n",
              "                mean_Q1_2_3_mouth\n",
              "            </td>\n",
              "        </tr>\n",
              "    \n",
              "        <tr style=\"background-color: hsl(120, 100.00%, 95.42%); border: none;\">\n",
              "            <td style=\"padding: 0 1em 0 0.5em; text-align: right; border: none;\">\n",
              "                0.0251\n",
              "                \n",
              "                    &plusmn; 0.0037\n",
              "                \n",
              "            </td>\n",
              "            <td style=\"padding: 0 0.5em 0 0.5em; text-align: left; border: none;\">\n",
              "                slope_Q3_Swallowing\n",
              "            </td>\n",
              "        </tr>\n",
              "    \n",
              "        <tr style=\"background-color: hsl(120, 100.00%, 96.29%); border: none;\">\n",
              "            <td style=\"padding: 0 1em 0 0.5em; text-align: right; border: none;\">\n",
              "                0.0186\n",
              "                \n",
              "                    &plusmn; 0.0029\n",
              "                \n",
              "            </td>\n",
              "            <td style=\"padding: 0 0.5em 0 0.5em; text-align: left; border: none;\">\n",
              "                fvc_mean\n",
              "            </td>\n",
              "        </tr>\n",
              "    \n",
              "        <tr style=\"background-color: hsl(120, 100.00%, 96.59%); border: none;\">\n",
              "            <td style=\"padding: 0 1em 0 0.5em; text-align: right; border: none;\">\n",
              "                0.0165\n",
              "                \n",
              "                    &plusmn; 0.0033\n",
              "                \n",
              "            </td>\n",
              "            <td style=\"padding: 0 0.5em 0 0.5em; text-align: left; border: none;\">\n",
              "                onset_delta\n",
              "            </td>\n",
              "        </tr>\n",
              "    \n",
              "        <tr style=\"background-color: hsl(120, 100.00%, 96.84%); border: none;\">\n",
              "            <td style=\"padding: 0 1em 0 0.5em; text-align: right; border: none;\">\n",
              "                0.0148\n",
              "                \n",
              "                    &plusmn; 0.0028\n",
              "                \n",
              "            </td>\n",
              "            <td style=\"padding: 0 0.5em 0 0.5em; text-align: left; border: none;\">\n",
              "                mean_Q7_Turning_in_Bed\n",
              "            </td>\n",
              "        </tr>\n",
              "    \n",
              "        <tr style=\"background-color: hsl(120, 100.00%, 97.50%); border: none;\">\n",
              "            <td style=\"padding: 0 1em 0 0.5em; text-align: right; border: none;\">\n",
              "                0.0106\n",
              "                \n",
              "                    &plusmn; 0.0011\n",
              "                \n",
              "            </td>\n",
              "            <td style=\"padding: 0 0.5em 0 0.5em; text-align: left; border: none;\">\n",
              "                slope_Q1_Speech\n",
              "            </td>\n",
              "        </tr>\n",
              "    \n",
              "        <tr style=\"background-color: hsl(120, 100.00%, 97.52%); border: none;\">\n",
              "            <td style=\"padding: 0 1em 0 0.5em; text-align: right; border: none;\">\n",
              "                0.0105\n",
              "                \n",
              "                    &plusmn; 0.0012\n",
              "                \n",
              "            </td>\n",
              "            <td style=\"padding: 0 0.5em 0 0.5em; text-align: left; border: none;\">\n",
              "                weight_slope\n",
              "            </td>\n",
              "        </tr>\n",
              "    \n",
              "        <tr style=\"background-color: hsl(120, 100.00%, 97.93%); border: none;\">\n",
              "            <td style=\"padding: 0 1em 0 0.5em; text-align: right; border: none;\">\n",
              "                0.0081\n",
              "                \n",
              "                    &plusmn; 0.0015\n",
              "                \n",
              "            </td>\n",
              "            <td style=\"padding: 0 0.5em 0 0.5em; text-align: left; border: none;\">\n",
              "                Age\n",
              "            </td>\n",
              "        </tr>\n",
              "    \n",
              "        <tr style=\"background-color: hsl(120, 100.00%, 98.17%); border: none;\">\n",
              "            <td style=\"padding: 0 1em 0 0.5em; text-align: right; border: none;\">\n",
              "                0.0068\n",
              "                \n",
              "                    &plusmn; 0.0009\n",
              "                \n",
              "            </td>\n",
              "            <td style=\"padding: 0 0.5em 0 0.5em; text-align: left; border: none;\">\n",
              "                mean_Q5_Cutting\n",
              "            </td>\n",
              "        </tr>\n",
              "    \n",
              "        <tr style=\"background-color: hsl(120, 100.00%, 98.38%); border: none;\">\n",
              "            <td style=\"padding: 0 1em 0 0.5em; text-align: right; border: none;\">\n",
              "                0.0057\n",
              "                \n",
              "                    &plusmn; 0.0010\n",
              "                \n",
              "            </td>\n",
              "            <td style=\"padding: 0 0.5em 0 0.5em; text-align: left; border: none;\">\n",
              "                Creatinine_mean\n",
              "            </td>\n",
              "        </tr>\n",
              "    \n",
              "    \n",
              "    </tbody>\n",
              "</table>\n",
              "    \n",
              "\n",
              "    \n",
              "\n",
              "\n",
              "    \n",
              "\n",
              "    \n",
              "\n",
              "    \n",
              "\n",
              "    \n",
              "\n",
              "    \n",
              "\n",
              "    \n",
              "\n",
              "\n",
              "\n"
            ],
            "text/plain": [
              "<IPython.core.display.HTML object>"
            ]
          },
          "metadata": {
            "tags": []
          },
          "execution_count": 27
        }
      ]
    },
    {
      "cell_type": "code",
      "metadata": {
        "colab": {
          "resources": {
            "http://localhost:8080/nbextensions/google.colab/files.js": {
              "data": "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",
              "ok": true,
              "headers": [
                [
                  "content-type",
                  "application/javascript"
                ]
              ],
              "status": 200,
              "status_text": ""
            }
          },
          "base_uri": "https://localhost:8080/",
          "height": 77
        },
        "id": "ce5tqppT1ci0",
        "outputId": "d6fe4b9b-303c-4693-82b9-12e10ef3d286"
      },
      "source": [
        "# Because 'eli5.show_weights' only provides html object, Feature importance written as a dataframe in csv dtype were separately made in excel.\n",
        "from google.colab import files \n",
        "uploaded = files.upload()"
      ],
      "execution_count": null,
      "outputs": [
        {
          "output_type": "display_data",
          "data": {
            "text/html": [
              "\n",
              "     <input type=\"file\" id=\"files-e7ef23f0-e97c-4d93-a2ed-0db5fb7410e1\" name=\"files[]\" multiple disabled\n",
              "        style=\"border:none\" />\n",
              "     <output id=\"result-e7ef23f0-e97c-4d93-a2ed-0db5fb7410e1\">\n",
              "      Upload widget is only available when the cell has been executed in the\n",
              "      current browser session. Please rerun this cell to enable.\n",
              "      </output>\n",
              "      <script src=\"/nbextensions/google.colab/files.js\"></script> "
            ],
            "text/plain": [
              "<IPython.core.display.HTML object>"
            ]
          },
          "metadata": {
            "tags": []
          }
        },
        {
          "output_type": "stream",
          "text": [
            "Saving BB2 final.csv to BB2 final.csv\n"
          ],
          "name": "stdout"
        }
      ]
    },
    {
      "cell_type": "code",
      "metadata": {
        "id": "QDfeW07D1ci1"
      },
      "source": [
        "import io\n",
        "Feat_imp = pd.read_csv(io.BytesIO(uploaded['BB2 final.csv'])) "
      ],
      "execution_count": null,
      "outputs": []
    },
    {
      "cell_type": "code",
      "metadata": {
        "id": "2d_wW8PW2V1s"
      },
      "source": [
        "Feat_imp = Feat_imp[['Unnamed: 2', 'weight', 'max', 'min']]"
      ],
      "execution_count": null,
      "outputs": []
    },
    {
      "cell_type": "code",
      "metadata": {
        "colab": {
          "base_uri": "https://localhost:8080/",
          "height": 363
        },
        "id": "igDYqLdTJwRb",
        "outputId": "db3abd52-4695-4836-f258-c0dac9bf82e4"
      },
      "source": [
        "Feat_imp"
      ],
      "execution_count": null,
      "outputs": [
        {
          "output_type": "execute_result",
          "data": {
            "text/html": [
              "<div>\n",
              "<style scoped>\n",
              "    .dataframe tbody tr th:only-of-type {\n",
              "        vertical-align: middle;\n",
              "    }\n",
              "\n",
              "    .dataframe tbody tr th {\n",
              "        vertical-align: top;\n",
              "    }\n",
              "\n",
              "    .dataframe thead th {\n",
              "        text-align: right;\n",
              "    }\n",
              "</style>\n",
              "<table border=\"1\" class=\"dataframe\">\n",
              "  <thead>\n",
              "    <tr style=\"text-align: right;\">\n",
              "      <th></th>\n",
              "      <th>Unnamed: 2</th>\n",
              "      <th>weight</th>\n",
              "      <th>max</th>\n",
              "      <th>min</th>\n",
              "    </tr>\n",
              "  </thead>\n",
              "  <tbody>\n",
              "    <tr>\n",
              "      <th>0</th>\n",
              "      <td>mean_Q1_2_3_mouth</td>\n",
              "      <td>0.2066</td>\n",
              "      <td>0.2194</td>\n",
              "      <td>0.1938</td>\n",
              "    </tr>\n",
              "    <tr>\n",
              "      <th>1</th>\n",
              "      <td>slope_Q3_Swallowing</td>\n",
              "      <td>0.0251</td>\n",
              "      <td>0.0288</td>\n",
              "      <td>0.0214</td>\n",
              "    </tr>\n",
              "    <tr>\n",
              "      <th>2</th>\n",
              "      <td>fvc_mean</td>\n",
              "      <td>0.0186</td>\n",
              "      <td>0.0215</td>\n",
              "      <td>0.0157</td>\n",
              "    </tr>\n",
              "    <tr>\n",
              "      <th>3</th>\n",
              "      <td>onset_delta</td>\n",
              "      <td>0.0165</td>\n",
              "      <td>0.0198</td>\n",
              "      <td>0.0132</td>\n",
              "    </tr>\n",
              "    <tr>\n",
              "      <th>4</th>\n",
              "      <td>mean_Q7_Turning_in_Bed</td>\n",
              "      <td>0.0148</td>\n",
              "      <td>0.0176</td>\n",
              "      <td>0.0120</td>\n",
              "    </tr>\n",
              "    <tr>\n",
              "      <th>5</th>\n",
              "      <td>slope_Q1_Speech</td>\n",
              "      <td>0.0106</td>\n",
              "      <td>0.0117</td>\n",
              "      <td>0.0095</td>\n",
              "    </tr>\n",
              "    <tr>\n",
              "      <th>6</th>\n",
              "      <td>weight_slope</td>\n",
              "      <td>0.0105</td>\n",
              "      <td>0.0117</td>\n",
              "      <td>0.0093</td>\n",
              "    </tr>\n",
              "    <tr>\n",
              "      <th>7</th>\n",
              "      <td>Age</td>\n",
              "      <td>0.0081</td>\n",
              "      <td>0.0096</td>\n",
              "      <td>0.0066</td>\n",
              "    </tr>\n",
              "    <tr>\n",
              "      <th>8</th>\n",
              "      <td>mean_Q5_Cutting</td>\n",
              "      <td>0.0068</td>\n",
              "      <td>0.0077</td>\n",
              "      <td>0.0059</td>\n",
              "    </tr>\n",
              "    <tr>\n",
              "      <th>9</th>\n",
              "      <td>Creatinine_mean</td>\n",
              "      <td>0.0057</td>\n",
              "      <td>0.0067</td>\n",
              "      <td>0.0047</td>\n",
              "    </tr>\n",
              "  </tbody>\n",
              "</table>\n",
              "</div>"
            ],
            "text/plain": [
              "               Unnamed: 2  weight     max     min\n",
              "0       mean_Q1_2_3_mouth  0.2066  0.2194  0.1938\n",
              "1     slope_Q3_Swallowing  0.0251  0.0288  0.0214\n",
              "2                fvc_mean  0.0186  0.0215  0.0157\n",
              "3             onset_delta  0.0165  0.0198  0.0132\n",
              "4  mean_Q7_Turning_in_Bed  0.0148  0.0176  0.0120\n",
              "5         slope_Q1_Speech  0.0106  0.0117  0.0095\n",
              "6            weight_slope  0.0105  0.0117  0.0093\n",
              "7                     Age  0.0081  0.0096  0.0066\n",
              "8         mean_Q5_Cutting  0.0068  0.0077  0.0059\n",
              "9         Creatinine_mean  0.0057  0.0067  0.0047"
            ]
          },
          "metadata": {
            "tags": []
          },
          "execution_count": 33
        }
      ]
    },
    {
      "cell_type": "code",
      "metadata": {
        "id": "Y68O6FXXnbf-",
        "colab": {
          "base_uri": "https://localhost:8080/",
          "height": 143
        },
        "outputId": "f24df8c4-8a92-4477-cb15-03c91899eaca"
      },
      "source": [
        "Feat_imp = Feat_imp.transpose()\n",
        "Feat_imp.columns = ['mean_Q1_2_3_mouth','slope_Q3_Swallowing', 'fvc_mean','onset_delta', 'mean_Q7_Turning_in_Bed', 'slope_Q1_Speech',\n",
        "         'weight_slope',  'Age', 'mean_Q5_Cutting\t', 'Creatinine_mean']\n",
        "Feat_imp = Feat_imp.iloc[1:, :]\n",
        "Feat_imp"
      ],
      "execution_count": null,
      "outputs": [
        {
          "output_type": "execute_result",
          "data": {
            "text/html": [
              "<div>\n",
              "<style scoped>\n",
              "    .dataframe tbody tr th:only-of-type {\n",
              "        vertical-align: middle;\n",
              "    }\n",
              "\n",
              "    .dataframe tbody tr th {\n",
              "        vertical-align: top;\n",
              "    }\n",
              "\n",
              "    .dataframe thead th {\n",
              "        text-align: right;\n",
              "    }\n",
              "</style>\n",
              "<table border=\"1\" class=\"dataframe\">\n",
              "  <thead>\n",
              "    <tr style=\"text-align: right;\">\n",
              "      <th></th>\n",
              "      <th>mean_Q1_2_3_mouth</th>\n",
              "      <th>slope_Q3_Swallowing</th>\n",
              "      <th>fvc_mean</th>\n",
              "      <th>onset_delta</th>\n",
              "      <th>mean_Q7_Turning_in_Bed</th>\n",
              "      <th>slope_Q1_Speech</th>\n",
              "      <th>weight_slope</th>\n",
              "      <th>Age</th>\n",
              "      <th>mean_Q5_Cutting\\t</th>\n",
              "      <th>Creatinine_mean</th>\n",
              "    </tr>\n",
              "  </thead>\n",
              "  <tbody>\n",
              "    <tr>\n",
              "      <th>weight</th>\n",
              "      <td>0.2066</td>\n",
              "      <td>0.0251</td>\n",
              "      <td>0.0186</td>\n",
              "      <td>0.0165</td>\n",
              "      <td>0.0148</td>\n",
              "      <td>0.0106</td>\n",
              "      <td>0.0105</td>\n",
              "      <td>0.0081</td>\n",
              "      <td>0.0068</td>\n",
              "      <td>0.0057</td>\n",
              "    </tr>\n",
              "    <tr>\n",
              "      <th>max</th>\n",
              "      <td>0.2194</td>\n",
              "      <td>0.0288</td>\n",
              "      <td>0.0215</td>\n",
              "      <td>0.0198</td>\n",
              "      <td>0.0176</td>\n",
              "      <td>0.0117</td>\n",
              "      <td>0.0117</td>\n",
              "      <td>0.0096</td>\n",
              "      <td>0.0077</td>\n",
              "      <td>0.0067</td>\n",
              "    </tr>\n",
              "    <tr>\n",
              "      <th>min</th>\n",
              "      <td>0.1938</td>\n",
              "      <td>0.0214</td>\n",
              "      <td>0.0157</td>\n",
              "      <td>0.0132</td>\n",
              "      <td>0.012</td>\n",
              "      <td>0.0095</td>\n",
              "      <td>0.0093</td>\n",
              "      <td>0.0066</td>\n",
              "      <td>0.0059</td>\n",
              "      <td>0.0047</td>\n",
              "    </tr>\n",
              "  </tbody>\n",
              "</table>\n",
              "</div>"
            ],
            "text/plain": [
              "       mean_Q1_2_3_mouth slope_Q3_Swallowing  ... mean_Q5_Cutting\\t Creatinine_mean\n",
              "weight            0.2066              0.0251  ...            0.0068          0.0057\n",
              "max               0.2194              0.0288  ...            0.0077          0.0067\n",
              "min               0.1938              0.0214  ...            0.0059          0.0047\n",
              "\n",
              "[3 rows x 10 columns]"
            ]
          },
          "metadata": {
            "tags": []
          },
          "execution_count": 34
        }
      ]
    },
    {
      "cell_type": "code",
      "metadata": {
        "scrolled": true,
        "id": "6gDOMCK2nbf_",
        "colab": {
          "base_uri": "https://localhost:8080/",
          "height": 572
        },
        "outputId": "42f97f50-c843-4d4e-e7eb-6206a7b3ee5b"
      },
      "source": [
        "df = pd.DataFrame(data=Feat_imp, columns=['mean_Q1_2_3_mouth','slope_Q3_Swallowing', 'fvc_mean','onset_delta', 'mean_Q7_Turning_in_Bed', 'slope_Q1_Speech',\n",
        "         'weight_slope',  'Age', 'mean_Q5_Cutting\t', 'Creatinine_mean'])\n",
        "\n",
        "import matplotlib\n",
        "matplotlib.rc('axes',edgecolor='k')\n",
        "\n",
        "fig, ax = plt.subplots()\n",
        "ax.grid(False)\n",
        "fig.set_size_inches(10, 8)\n",
        "sns.barplot(x=\"value\", y=\"variable\", data=pd.melt(df), color='white', edgecolor='k', dodge=False)\n",
        "ax.set_xlabel(' ')\n",
        "ax.set_xlim([-0.005,0.5])\n",
        "ax.set_ylabel('')\n",
        "ax.yaxis.set_visible(True)"
      ],
      "execution_count": null,
      "outputs": [
        {
          "output_type": "stream",
          "text": [
            "/usr/local/lib/python3.7/dist-packages/matplotlib/backends/backend_agg.py:214: RuntimeWarning: Glyph 9 missing from current font.\n",
            "  font.set_text(s, 0.0, flags=flags)\n",
            "/usr/local/lib/python3.7/dist-packages/matplotlib/backends/backend_agg.py:183: RuntimeWarning: Glyph 9 missing from current font.\n",
            "  font.set_text(s, 0, flags=flags)\n"
          ],
          "name": "stderr"
        },
        {
          "output_type": "display_data",
          "data": {
            "image/png": "[encoded data removed]",
            "text/plain": [
              "<Figure size 720x576 with 1 Axes>"
            ]
          },
          "metadata": {
            "tags": [],
            "needs_background": "light"
          }
        }
      ]
    },
    {
      "cell_type": "markdown",
      "metadata": {
        "id": "tK949fAkDp4x"
      },
      "source": [
        "### (3) Re-fitting without insignificant feature"
      ]
    },
    {
      "cell_type": "code",
      "metadata": {
        "id": "IjeGI3ZyDqTm"
      },
      "source": [
        "# features with feature-weight less than 0.01 are excluded\n",
        "df_train_finalrsf = df_train[['onset_delta', 'fvc_mean',\n",
        "       'mean_Q1_2_3_mouth', 'mean_Q7_Turning_in_Bed',\n",
        "       'slope_Q1_Speech', 'slope_Q3_Swallowing', \n",
        "        'weight_slope', 'status_opt', 'time_opt']]"
      ],
      "execution_count": null,
      "outputs": []
    },
    {
      "cell_type": "code",
      "metadata": {
        "colab": {
          "base_uri": "https://localhost:8080/",
          "height": 153
        },
        "id": "hgp9I3QNSGmg",
        "outputId": "1541fb6e-3955-452c-94f9-8fe2d1f4ab33"
      },
      "source": [
        "rsf = RandomSurvivalForest(n_estimators=100,\n",
        "                           min_samples_split=8,\n",
        "                           min_samples_leaf=18,\n",
        "                           max_features=\"auto\",\n",
        "                           n_jobs=-1,\n",
        "                           random_state=20)\n",
        "rsf.fit(df_train_finalrsf.iloc[:,:-2], y_train_rsf)\n",
        "\n",
        "feature_names = df_train_finalrsf.iloc[:, :-2].columns.tolist()\n",
        "\n",
        "perm = PermutationImportance(rsf, n_iter=15, random_state=20)\n",
        "perm.fit(df_train_finalrsf.iloc[:, :-2], y_train_rsf)\n",
        "\n",
        "eli5.show_weights(perm, feature_names=feature_names)"
      ],
      "execution_count": null,
      "outputs": [
        {
          "output_type": "execute_result",
          "data": {
            "text/html": [
              "\n",
              "    <style>\n",
              "    table.eli5-weights tr:hover {\n",
              "        filter: brightness(85%);\n",
              "    }\n",
              "</style>\n",
              "\n",
              "\n",
              "\n",
              "    \n",
              "\n",
              "    \n",
              "\n",
              "    \n",
              "\n",
              "    \n",
              "\n",
              "    \n",
              "\n",
              "    \n",
              "\n",
              "\n",
              "    \n",
              "\n",
              "    \n",
              "\n",
              "    \n",
              "\n",
              "    \n",
              "\n",
              "    \n",
              "\n",
              "    \n",
              "\n",
              "\n",
              "    \n",
              "\n",
              "    \n",
              "\n",
              "    \n",
              "\n",
              "    \n",
              "\n",
              "    \n",
              "        <table class=\"eli5-weights eli5-feature-importances\" style=\"border-collapse: collapse; border: none; margin-top: 0em; table-layout: auto;\">\n",
              "    <thead>\n",
              "    <tr style=\"border: none;\">\n",
              "        <th style=\"padding: 0 1em 0 0.5em; text-align: right; border: none;\">Weight</th>\n",
              "        <th style=\"padding: 0 0.5em 0 0.5em; text-align: left; border: none;\">Feature</th>\n",
              "    </tr>\n",
              "    </thead>\n",
              "    <tbody>\n",
              "    \n",
              "        <tr style=\"background-color: hsl(120, 100.00%, 80.00%); border: none;\">\n",
              "            <td style=\"padding: 0 1em 0 0.5em; text-align: right; border: none;\">\n",
              "                0.1960\n",
              "                \n",
              "                    &plusmn; 0.0175\n",
              "                \n",
              "            </td>\n",
              "            <td style=\"padding: 0 0.5em 0 0.5em; text-align: left; border: none;\">\n",
              "                mean_Q1_2_3_mouth\n",
              "            </td>\n",
              "        </tr>\n",
              "    \n",
              "        <tr style=\"background-color: hsl(120, 100.00%, 94.62%); border: none;\">\n",
              "            <td style=\"padding: 0 1em 0 0.5em; text-align: right; border: none;\">\n",
              "                0.0300\n",
              "                \n",
              "                    &plusmn; 0.0034\n",
              "                \n",
              "            </td>\n",
              "            <td style=\"padding: 0 0.5em 0 0.5em; text-align: left; border: none;\">\n",
              "                slope_Q3_Swallowing\n",
              "            </td>\n",
              "        </tr>\n",
              "    \n",
              "        <tr style=\"background-color: hsl(120, 100.00%, 94.98%); border: none;\">\n",
              "            <td style=\"padding: 0 1em 0 0.5em; text-align: right; border: none;\">\n",
              "                0.0272\n",
              "                \n",
              "                    &plusmn; 0.0038\n",
              "                \n",
              "            </td>\n",
              "            <td style=\"padding: 0 0.5em 0 0.5em; text-align: left; border: none;\">\n",
              "                mean_Q7_Turning_in_Bed\n",
              "            </td>\n",
              "        </tr>\n",
              "    \n",
              "        <tr style=\"background-color: hsl(120, 100.00%, 95.17%); border: none;\">\n",
              "            <td style=\"padding: 0 1em 0 0.5em; text-align: right; border: none;\">\n",
              "                0.0257\n",
              "                \n",
              "                    &plusmn; 0.0040\n",
              "                \n",
              "            </td>\n",
              "            <td style=\"padding: 0 0.5em 0 0.5em; text-align: left; border: none;\">\n",
              "                onset_delta\n",
              "            </td>\n",
              "        </tr>\n",
              "    \n",
              "        <tr style=\"background-color: hsl(120, 100.00%, 95.30%); border: none;\">\n",
              "            <td style=\"padding: 0 1em 0 0.5em; text-align: right; border: none;\">\n",
              "                0.0248\n",
              "                \n",
              "                    &plusmn; 0.0035\n",
              "                \n",
              "            </td>\n",
              "            <td style=\"padding: 0 0.5em 0 0.5em; text-align: left; border: none;\">\n",
              "                fvc_mean\n",
              "            </td>\n",
              "        </tr>\n",
              "    \n",
              "        <tr style=\"background-color: hsl(120, 100.00%, 96.42%); border: none;\">\n",
              "            <td style=\"padding: 0 1em 0 0.5em; text-align: right; border: none;\">\n",
              "                0.0168\n",
              "                \n",
              "                    &plusmn; 0.0023\n",
              "                \n",
              "            </td>\n",
              "            <td style=\"padding: 0 0.5em 0 0.5em; text-align: left; border: none;\">\n",
              "                weight_slope\n",
              "            </td>\n",
              "        </tr>\n",
              "    \n",
              "        <tr style=\"background-color: hsl(120, 100.00%, 97.28%); border: none;\">\n",
              "            <td style=\"padding: 0 1em 0 0.5em; text-align: right; border: none;\">\n",
              "                0.0113\n",
              "                \n",
              "                    &plusmn; 0.0013\n",
              "                \n",
              "            </td>\n",
              "            <td style=\"padding: 0 0.5em 0 0.5em; text-align: left; border: none;\">\n",
              "                slope_Q1_Speech\n",
              "            </td>\n",
              "        </tr>\n",
              "    \n",
              "    \n",
              "    </tbody>\n",
              "</table>\n",
              "    \n",
              "\n",
              "    \n",
              "\n",
              "\n",
              "    \n",
              "\n",
              "    \n",
              "\n",
              "    \n",
              "\n",
              "    \n",
              "\n",
              "    \n",
              "\n",
              "    \n",
              "\n",
              "\n",
              "\n"
            ],
            "text/plain": [
              "<IPython.core.display.HTML object>"
            ]
          },
          "metadata": {
            "tags": []
          },
          "execution_count": 47
        }
      ]
    },
    {
      "cell_type": "markdown",
      "metadata": {
        "id": "-ffjJowCnbgB"
      },
      "source": [
        "## 2. Evaluating model performances"
      ]
    },
    {
      "cell_type": "markdown",
      "metadata": {
        "id": "V0Z4ulzxnbgC"
      },
      "source": [
        "## 1) Repeated 5-fold cross validation on Training set"
      ]
    },
    {
      "cell_type": "markdown",
      "metadata": {
        "id": "_FqNu3T7I_m6"
      },
      "source": [
        "### (1) Accelerated Failure Time"
      ]
    },
    {
      "cell_type": "code",
      "metadata": {
        "colab": {
          "base_uri": "https://localhost:8080/"
        },
        "id": "HyiFtDvJnbgJ",
        "outputId": "9b86b000-4b7f-410f-c36c-b1c8b9131318"
      },
      "source": [
        "from lifelines import WeibullAFTFitter\n",
        "aft = WeibullAFTFitter(penalizer = 0.2, l1_ratio = 0.2)\n",
        "C_Idx1 = np.array([])\n",
        "random_num_list = [10,20,30,40,50,60,70,80,90,100]\n",
        "\n",
        "for i in random_num_list:\n",
        "    df_train_aft = df_train_finalaft.sample(n=len(df_train_finalaft), random_state=i)\n",
        "    \n",
        "    aft.fit(df_train_aft.iloc[0:2047,:], 'time_opt', event_col='status_opt')\n",
        "    sco_1 = concordance_index(df_train_aft.iloc[2047:,:]['time_opt'], aft.predict_median(df_train_aft.iloc[2047:,:]), df_train_aft.iloc[2047:,:]['status_opt'])\n",
        "    \n",
        "    aft.fit(df_train_aft.iloc[512:,:], 'time_opt', event_col='status_opt')\n",
        "    sco_2 = concordance_index(df_train_aft.iloc[0:512,:]['time_opt'], aft.predict_median(df_train_aft.iloc[0:512,:]), df_train_aft.iloc[0:512,:]['status_opt'])\n",
        "\n",
        "    aft.fit(pd.concat([df_train_aft.iloc[0:512],df_train_aft.iloc[1024:]]), 'time_opt', event_col='status_opt')\n",
        "    sco_3 = concordance_index(df_train_aft.iloc[512:1024,:]['time_opt'], aft.predict_median(df_train_aft.iloc[512:1024,:]), df_train_aft.iloc[512:1024,:]['status_opt'])\n",
        "\n",
        "    aft.fit(pd.concat([df_train_aft.iloc[0:1024],df_train_aft.iloc[1536:]]), 'time_opt', event_col='status_opt')\n",
        "    sco_4 = concordance_index(df_train_aft.iloc[1024:1536,:]['time_opt'], aft.predict_median(df_train_aft.iloc[1024:1536,:]), df_train_aft.iloc[1024:1536,:]['status_opt'])\n",
        "\n",
        "    aft.fit(pd.concat([df_train_aft.iloc[0:1536],df_train_aft.iloc[2047:]]), 'time_opt', event_col='status_opt')\n",
        "    sco_5 = concordance_index(df_train_aft.iloc[1536:2047,:]['time_opt'], aft.predict_median(df_train_aft.iloc[1536:2047,:]), df_train_aft.iloc[1536:2047,:]['status_opt'])\n",
        "    \n",
        "    C_Idx1 = np.append (C_Idx1, [sco_1, sco_2, sco_3, sco_4, sco_5])\n",
        "print(C_Idx1)"
      ],
      "execution_count": null,
      "outputs": [
        {
          "output_type": "stream",
          "text": [
            "[0.82059274 0.84501364 0.84535683 0.84801855 0.83435386 0.83841496\n",
            " 0.82660624 0.83169744 0.84124245 0.85452684 0.85041478 0.82975504\n",
            " 0.84685525 0.85899231 0.79633976 0.81734873 0.85818557 0.8068426\n",
            " 0.8416109  0.85912157 0.81481636 0.85817013 0.84028256 0.83304746\n",
            " 0.83489781 0.82582075 0.84085141 0.82802318 0.84783204 0.84953794\n",
            " 0.81183553 0.85553201 0.85387337 0.83169379 0.8380839  0.87377555\n",
            " 0.81214641 0.82542992 0.84915596 0.8282974  0.84702454 0.81506731\n",
            " 0.84596739 0.83990921 0.83963452 0.83188031 0.84003808 0.85587435\n",
            " 0.82219358 0.8291862 ]\n"
          ],
          "name": "stdout"
        }
      ]
    },
    {
      "cell_type": "markdown",
      "metadata": {
        "id": "ygQZVHxBnbgC"
      },
      "source": [
        "### (2) Cox proportional hazard model"
      ]
    },
    {
      "cell_type": "code",
      "metadata": {
        "id": "tqDJ4_DMc9R4"
      },
      "source": [
        "from lifelines.utils import concordance_index"
      ],
      "execution_count": null,
      "outputs": []
    },
    {
      "cell_type": "code",
      "metadata": {
        "colab": {
          "base_uri": "https://localhost:8080/"
        },
        "id": "VktplsvwYmXS",
        "outputId": "98f3e8ef-436d-4893-ec9b-45ed409f22ba"
      },
      "source": [
        "# 5-fold cross validation is repeated 10 times, 50 C-index values are returned as a result\n",
        "cph = CoxPHFitter(penalizer = 0.1, l1_ratio = 0.2)\n",
        "C_Idx2 = np.array([])\n",
        "random_num_list = [10,20,30,40,50,60,70,80,90,100]\n",
        "\n",
        "for i in random_num_list:\n",
        "    df_train_cox = df_train_finalcox.sample(n=len(df_train_finalcox), random_state=i)\n",
        "    \n",
        "    cph.fit(df_train_cox.iloc[0:2047,:], 'time_opt', event_col='status_opt')\n",
        "    sco_1 = concordance_index(df_train_cox.iloc[2047:,:]['time_opt'], -cph.predict_partial_hazard(df_train_cox.iloc[2047:,:]), df_train_cox.iloc[2047:,:]['status_opt'])\n",
        "    \n",
        "    cph.fit(df_train_cox.iloc[512:,:], 'time_opt', event_col='status_opt')\n",
        "    sco_2 = concordance_index(df_train_cox.iloc[0:512,:]['time_opt'], -cph.predict_partial_hazard(df_train_cox.iloc[0:512,:]), df_train_cox.iloc[0:512,:]['status_opt'])\n",
        "\n",
        "    cph.fit(pd.concat([df_train_cox.iloc[0:512],df_train_cox.iloc[1024:]]), 'time_opt', event_col='status_opt')\n",
        "    sco_3 = concordance_index(df_train_cox.iloc[512:1024,:]['time_opt'], -cph.predict_partial_hazard(df_train_cox.iloc[512:1024,:]), df_train_cox.iloc[512:1024,:]['status_opt'])\n",
        "\n",
        "    cph.fit(pd.concat([df_train_cox.iloc[0:1024],df_train_cox.iloc[1536:]]), 'time_opt', event_col='status_opt')\n",
        "    sco_4 = concordance_index(df_train_cox.iloc[1024:1536,:]['time_opt'], -cph.predict_partial_hazard(df_train_cox.iloc[1024:1536,:]), df_train_cox.iloc[1024:1536,:]['status_opt'])\n",
        "\n",
        "    cph.fit(pd.concat([df_train_cox.iloc[0:1536],df_train_cox.iloc[2047:]]), 'time_opt', event_col='status_opt')\n",
        "    sco_5 = concordance_index(df_train_cox.iloc[1536:2047,:]['time_opt'], -cph.predict_partial_hazard(df_train_cox.iloc[1536:2047,:]), df_train_cox.iloc[1536:2047,:]['status_opt'])\n",
        "    \n",
        "    C_Idx2 = np.append (C_Idx2, [sco_1, sco_2, sco_3, sco_4, sco_5])\n",
        "\n",
        "print(C_Idx2)"
      ],
      "execution_count": null,
      "outputs": [
        {
          "output_type": "stream",
          "text": [
            "[0.8204452  0.84400569 0.84377132 0.84652173 0.83571038 0.83827165\n",
            " 0.82562694 0.83273736 0.84221541 0.85197679 0.84997817 0.82971943\n",
            " 0.84792456 0.85930343 0.79487813 0.81718245 0.85854861 0.80821946\n",
            " 0.84208054 0.85720782 0.81285255 0.85696235 0.84058278 0.83339051\n",
            " 0.83541143 0.82751181 0.84094404 0.82786071 0.84717535 0.84858663\n",
            " 0.81159474 0.85564553 0.85327774 0.83233769 0.83707457 0.8767258\n",
            " 0.81100768 0.82507351 0.85001835 0.82665149 0.84752012 0.81465309\n",
            " 0.84892154 0.83913916 0.83738135 0.83219247 0.84153651 0.85499454\n",
            " 0.82256458 0.8279761 ]\n"
          ],
          "name": "stdout"
        }
      ]
    },
    {
      "cell_type": "markdown",
      "metadata": {
        "id": "glTx_vnpnbgF"
      },
      "source": [
        "### (3) Random Survival Forest"
      ]
    },
    {
      "cell_type": "code",
      "metadata": {
        "colab": {
          "base_uri": "https://localhost:8080/",
          "height": 420
        },
        "id": "aedaI4fTnbgG",
        "outputId": "07e9988c-a261-4e35-8641-ef55fda0d880"
      },
      "source": [
        "df_train_finalrsf2 = df_train_finalrsf.replace({'status_opt':dic})\n",
        "df_train_finalrsf2"
      ],
      "execution_count": null,
      "outputs": [
        {
          "output_type": "execute_result",
          "data": {
            "text/html": [
              "<div>\n",
              "<style scoped>\n",
              "    .dataframe tbody tr th:only-of-type {\n",
              "        vertical-align: middle;\n",
              "    }\n",
              "\n",
              "    .dataframe tbody tr th {\n",
              "        vertical-align: top;\n",
              "    }\n",
              "\n",
              "    .dataframe thead th {\n",
              "        text-align: right;\n",
              "    }\n",
              "</style>\n",
              "<table border=\"1\" class=\"dataframe\">\n",
              "  <thead>\n",
              "    <tr style=\"text-align: right;\">\n",
              "      <th></th>\n",
              "      <th>onset_delta</th>\n",
              "      <th>fvc_mean</th>\n",
              "      <th>mean_Q1_2_3_mouth</th>\n",
              "      <th>mean_Q7_Turning_in_Bed</th>\n",
              "      <th>slope_Q1_Speech</th>\n",
              "      <th>slope_Q3_Swallowing</th>\n",
              "      <th>weight_slope</th>\n",
              "      <th>status_opt</th>\n",
              "      <th>time_opt</th>\n",
              "    </tr>\n",
              "  </thead>\n",
              "  <tbody>\n",
              "    <tr>\n",
              "      <th>0</th>\n",
              "      <td>-56.087671</td>\n",
              "      <td>101.250000</td>\n",
              "      <td>11.000000</td>\n",
              "      <td>2.600000</td>\n",
              "      <td>0.000000</td>\n",
              "      <td>0.000000</td>\n",
              "      <td>-2.703704</td>\n",
              "      <td>False</td>\n",
              "      <td>274</td>\n",
              "    </tr>\n",
              "    <tr>\n",
              "      <th>1</th>\n",
              "      <td>-35.178082</td>\n",
              "      <td>51.000000</td>\n",
              "      <td>8.500000</td>\n",
              "      <td>4.000000</td>\n",
              "      <td>0.000000</td>\n",
              "      <td>-0.334249</td>\n",
              "      <td>-3.309066</td>\n",
              "      <td>True</td>\n",
              "      <td>35</td>\n",
              "    </tr>\n",
              "    <tr>\n",
              "      <th>2</th>\n",
              "      <td>-16.898630</td>\n",
              "      <td>89.600000</td>\n",
              "      <td>11.000000</td>\n",
              "      <td>4.000000</td>\n",
              "      <td>0.000000</td>\n",
              "      <td>0.362103</td>\n",
              "      <td>-0.601648</td>\n",
              "      <td>False</td>\n",
              "      <td>154</td>\n",
              "    </tr>\n",
              "    <tr>\n",
              "      <th>3</th>\n",
              "      <td>-18.739726</td>\n",
              "      <td>71.000000</td>\n",
              "      <td>8.500000</td>\n",
              "      <td>0.500000</td>\n",
              "      <td>-0.633681</td>\n",
              "      <td>0.000000</td>\n",
              "      <td>-1.933900</td>\n",
              "      <td>True</td>\n",
              "      <td>187</td>\n",
              "    </tr>\n",
              "    <tr>\n",
              "      <th>4</th>\n",
              "      <td>-12.000000</td>\n",
              "      <td>114.000000</td>\n",
              "      <td>12.000000</td>\n",
              "      <td>3.000000</td>\n",
              "      <td>0.000000</td>\n",
              "      <td>0.000000</td>\n",
              "      <td>0.000000</td>\n",
              "      <td>False</td>\n",
              "      <td>401</td>\n",
              "    </tr>\n",
              "    <tr>\n",
              "      <th>...</th>\n",
              "      <td>...</td>\n",
              "      <td>...</td>\n",
              "      <td>...</td>\n",
              "      <td>...</td>\n",
              "      <td>...</td>\n",
              "      <td>...</td>\n",
              "      <td>...</td>\n",
              "      <td>...</td>\n",
              "      <td>...</td>\n",
              "    </tr>\n",
              "    <tr>\n",
              "      <th>2558</th>\n",
              "      <td>-20.120548</td>\n",
              "      <td>73.333333</td>\n",
              "      <td>8.333333</td>\n",
              "      <td>4.000000</td>\n",
              "      <td>0.000000</td>\n",
              "      <td>0.000000</td>\n",
              "      <td>1.310900</td>\n",
              "      <td>False</td>\n",
              "      <td>64</td>\n",
              "    </tr>\n",
              "    <tr>\n",
              "      <th>2559</th>\n",
              "      <td>-32.843836</td>\n",
              "      <td>75.000000</td>\n",
              "      <td>10.000000</td>\n",
              "      <td>3.000000</td>\n",
              "      <td>0.010513</td>\n",
              "      <td>0.164577</td>\n",
              "      <td>-3.206060</td>\n",
              "      <td>False</td>\n",
              "      <td>390</td>\n",
              "    </tr>\n",
              "    <tr>\n",
              "      <th>2560</th>\n",
              "      <td>-16.175342</td>\n",
              "      <td>100.800000</td>\n",
              "      <td>8.500000</td>\n",
              "      <td>4.000000</td>\n",
              "      <td>-0.370935</td>\n",
              "      <td>-0.370935</td>\n",
              "      <td>-0.534799</td>\n",
              "      <td>True</td>\n",
              "      <td>91</td>\n",
              "    </tr>\n",
              "    <tr>\n",
              "      <th>2561</th>\n",
              "      <td>-94.191781</td>\n",
              "      <td>50.250000</td>\n",
              "      <td>12.000000</td>\n",
              "      <td>2.800000</td>\n",
              "      <td>0.000000</td>\n",
              "      <td>0.000000</td>\n",
              "      <td>-0.217262</td>\n",
              "      <td>False</td>\n",
              "      <td>266</td>\n",
              "    </tr>\n",
              "    <tr>\n",
              "      <th>2562</th>\n",
              "      <td>-10.882192</td>\n",
              "      <td>85.000000</td>\n",
              "      <td>11.000000</td>\n",
              "      <td>1.333333</td>\n",
              "      <td>0.000000</td>\n",
              "      <td>0.000000</td>\n",
              "      <td>-0.044730</td>\n",
              "      <td>False</td>\n",
              "      <td>126</td>\n",
              "    </tr>\n",
              "  </tbody>\n",
              "</table>\n",
              "<p>2558 rows × 9 columns</p>\n",
              "</div>"
            ],
            "text/plain": [
              "      onset_delta    fvc_mean  ...  status_opt  time_opt\n",
              "0      -56.087671  101.250000  ...       False       274\n",
              "1      -35.178082   51.000000  ...        True        35\n",
              "2      -16.898630   89.600000  ...       False       154\n",
              "3      -18.739726   71.000000  ...        True       187\n",
              "4      -12.000000  114.000000  ...       False       401\n",
              "...           ...         ...  ...         ...       ...\n",
              "2558   -20.120548   73.333333  ...       False        64\n",
              "2559   -32.843836   75.000000  ...       False       390\n",
              "2560   -16.175342  100.800000  ...        True        91\n",
              "2561   -94.191781   50.250000  ...       False       266\n",
              "2562   -10.882192   85.000000  ...       False       126\n",
              "\n",
              "[2558 rows x 9 columns]"
            ]
          },
          "metadata": {
            "tags": []
          },
          "execution_count": 53
        }
      ]
    },
    {
      "cell_type": "code",
      "metadata": {
        "colab": {
          "base_uri": "https://localhost:8080/"
        },
        "id": "OuGjlb75nbgG",
        "outputId": "ab18cbbd-45ec-4659-e881-effa6d3eea15"
      },
      "source": [
        "C_Idx3 = np.array([])\n",
        "random_num_list = [10,20,30,40,50,60,70,80,90,100]\n",
        "\n",
        "for i in random_num_list:\n",
        "    df_train_rsf = df_train_finalrsf2.sample(n=len(df_train_finalrsf2), random_state=i)\n",
        "    \n",
        "    y_train_rsf_1 = np.array(list(tuple(x) for x in df_train_rsf.iloc[:2047,-2:].to_records(index=False)), dtype=dt)\n",
        "    y_test_rsf_1 = np.array(list(tuple(x) for x in df_train_rsf.iloc[2047:,-2:].to_records(index=False)), dtype=dt)\n",
        "    \n",
        "    y_train_rsf_2 = np.array(list(tuple(x) for x in df_train_rsf.iloc[512:,-2:].to_records(index=False)), dtype=dt)\n",
        "    y_test_rsf_2 = np.array(list(tuple(x) for x in df_train_rsf.iloc[0:512,-2:].to_records(index=False)), dtype=dt)\n",
        "    \n",
        "    y_train_rsf_3 = np.array(list(tuple(x) for x in pd.concat([df_train_rsf.iloc[0:512,-2:],df_train_rsf.iloc[1024:,-2:]]).to_records(index=False)), dtype=dt)\n",
        "    y_test_rsf_3 = np.array(list(tuple(x) for x in df_train_rsf.iloc[512:1024,-2:].to_records(index=False)), dtype=dt)\n",
        "    \n",
        "    y_train_rsf_4 = np.array(list(tuple(x) for x in pd.concat([df_train_rsf.iloc[0:1024,-2:],df_train_rsf.iloc[1536:,-2:]]).to_records(index=False)), dtype=dt)\n",
        "    y_test_rsf_4 = np.array(list(tuple(x) for x in df_train_rsf.iloc[1024:1536,-2:].to_records(index=False)), dtype=dt)\n",
        "    \n",
        "    y_train_rsf_5 = np.array(list(tuple(x) for x in pd.concat([df_train_rsf.iloc[0:1536,-2:],df_train_rsf.iloc[2047:,-2:]]).to_records(index=False)), dtype=dt)\n",
        "    y_test_rsf_5 = np.array(list(tuple(x) for x in df_train_rsf.iloc[1536:2047,-2:].to_records(index=False)), dtype=dt)\n",
        "    \n",
        "    \n",
        "    rsf.fit(df_train_rsf.iloc[0:2047,:-2], y_train_rsf_1)\n",
        "    sco_1 = rsf.score(df_train_rsf.iloc[2047:,:-2], y_test_rsf_1)\n",
        "    \n",
        "    rsf.fit(df_train_rsf.iloc[512:,:-2], y_train_rsf_2)\n",
        "    sco_2 = rsf.score(df_train_rsf.iloc[0:512,:-2], y_test_rsf_2)\n",
        "    \n",
        "    rsf.fit(pd.concat([df_train_rsf.iloc[0:512,:-2],df_train_rsf.iloc[1024:,:-2]]), y_train_rsf_3)\n",
        "    sco_3 = rsf.score(df_train_rsf.iloc[512:1024,:-2], y_test_rsf_3)\n",
        "    \n",
        "    rsf.fit(pd.concat([df_train_rsf.iloc[0:1024,:-2],df_train_rsf.iloc[1536:,:-2]]), y_train_rsf_4)\n",
        "    sco_4 = rsf.score(df_train_rsf.iloc[1024:1536,:-2], y_test_rsf_4)\n",
        "    \n",
        "    rsf.fit(pd.concat([df_train_rsf.iloc[0:1536,:-2],df_train_rsf.iloc[2047:,:-2]]), y_train_rsf_5)\n",
        "    sco_5 = rsf.score(df_train_rsf.iloc[1536:2047,:-2], y_test_rsf_5)\n",
        "    \n",
        "    C_Idx3 = np.append (C_Idx3, [sco_1, sco_2, sco_3, sco_4, sco_5])\n",
        "\n",
        "print(C_Idx3)"
      ],
      "execution_count": null,
      "outputs": [
        {
          "output_type": "stream",
          "text": [
            "[0.83424008 0.85971778 0.83765049 0.85117646 0.83644516 0.85124145\n",
            " 0.83294289 0.82604174 0.84605217 0.85392446 0.85142087 0.8280282\n",
            " 0.86483912 0.85854291 0.80247447 0.82998614 0.85138337 0.82148743\n",
            " 0.84149348 0.87265045 0.83560356 0.85777992 0.83532009 0.83405756\n",
            " 0.83642096 0.83087449 0.83925826 0.84668845 0.85656956 0.84629572\n",
            " 0.81194666 0.85994021 0.85497437 0.84419603 0.84236344 0.87738141\n",
            " 0.81943064 0.83188096 0.85746789 0.83421047 0.85790747 0.81876079\n",
            " 0.86181756 0.82967556 0.83942163 0.84652947 0.85562176 0.85173599\n",
            " 0.82043622 0.82850552]\n"
          ],
          "name": "stdout"
        }
      ]
    },
    {
      "cell_type": "markdown",
      "metadata": {
        "id": "VQmcA8gjnbgK"
      },
      "source": [
        "### (4) Comparing C-index values between Cox & AFT & RSF"
      ]
    },
    {
      "cell_type": "code",
      "metadata": {
        "colab": {
          "base_uri": "https://localhost:8080/",
          "height": 307
        },
        "id": "52Me3qrrnbgL",
        "outputId": "4b5acc61-3745-4b84-ea98-b9acc036e616"
      },
      "source": [
        "df = pd.DataFrame([C_Idx1, C_Idx2,C_Idx3], index=['CoxPH', 'RSF','AFT'])\n",
        "df2 = df.transpose()\n",
        "\n",
        "colors = ['#000000', '#000000', '#ff7f00']\n",
        "colors_setosa = dict(color=colors[0])\n",
        "colors_versicolor = dict(color=colors[1])\n",
        "colors_versicolor2 = dict(color=colors[2])\n",
        "\n",
        "aft_median = np.median(df2['AFT'])\n",
        "cox_median = np.median(df2['CoxPH'])\n",
        "rsf_median = np.median(df2['RSF'])\n",
        "aft_std = np.std(df2['AFT'])\n",
        "cox_std = np.std(df2['CoxPH'])\n",
        "rsf_std = np.std(df2['RSF'])\n",
        "\n",
        "fig, ax = plt.subplots(figsize=(9,4.5))\n",
        "ax = df2.boxplot(column=[ 'RSF', 'CoxPH', 'AFT'], vert=False, color = 'k')\n",
        "plt.annotate(str(np.round(aft_median,3)), xy=(aft_median, 0.8)\n",
        "                , xytext=(aft_median, 3.205) , fontsize=12)\n",
        "plt.annotate(str(np.round(cox_median,3)), xy=(aft_median, 0.8)\n",
        "                , xytext=(cox_median, 2.205) , fontsize=12)\n",
        "plt.annotate(str(np.round(rsf_median,3)), xy=(aft_median, 0.8)\n",
        "                , xytext=(rsf_median, 1.205) , fontsize=12)\n",
        "plt.xlim([.6,1.0])\n",
        "plt.xlabel('Concordance index')\n",
        "plt.show()"
      ],
      "execution_count": null,
      "outputs": [
        {
          "output_type": "display_data",
          "data": {
            "image/png": "[encoded data removed]",
            "text/plain": [
              "<Figure size 648x324 with 1 Axes>"
            ]
          },
          "metadata": {
            "tags": [],
            "needs_background": "light"
          }
        }
      ]
    },
    {
      "cell_type": "code",
      "metadata": {
        "colab": {
          "base_uri": "https://localhost:8080/"
        },
        "id": "OAx-0y9wYBlt",
        "outputId": "bb5d297d-016c-4b15-9889-b89622248add"
      },
      "source": [
        "print(aft_median)\n",
        "print(cox_median)\n",
        "print(rsf_median)\n",
        "print(aft_std)\n",
        "print(cox_std)\n",
        "print(rsf_std)"
      ],
      "execution_count": null,
      "outputs": [
        {
          "output_type": "stream",
          "text": [
            "0.8397718696552205\n",
            "0.8387054032830821\n",
            "0.8419284608948359\n",
            "0.015582818151902366\n",
            "0.015743934222872714\n",
            "0.015482766596636164\n"
          ],
          "name": "stdout"
        }
      ]
    },
    {
      "cell_type": "markdown",
      "metadata": {
        "id": "Q71cLLEEceuP"
      },
      "source": [
        "## 2) Demonstrations: Individual Prediction on Test set"
      ]
    },
    {
      "cell_type": "code",
      "metadata": {
        "colab": {
          "base_uri": "https://localhost:8080/",
          "height": 224
        },
        "id": "5AjnWKcbfh87",
        "outputId": "548dc89a-a3bf-4073-efdc-b37429ac25e1"
      },
      "source": [
        "df_test"
      ],
      "execution_count": null,
      "outputs": [
        {
          "output_type": "execute_result",
          "data": {
            "text/html": [
              "<div>\n",
              "<style scoped>\n",
              "    .dataframe tbody tr th:only-of-type {\n",
              "        vertical-align: middle;\n",
              "    }\n",
              "\n",
              "    .dataframe tbody tr th {\n",
              "        vertical-align: top;\n",
              "    }\n",
              "\n",
              "    .dataframe thead th {\n",
              "        text-align: right;\n",
              "    }\n",
              "</style>\n",
              "<table border=\"1\" class=\"dataframe\">\n",
              "  <thead>\n",
              "    <tr style=\"text-align: right;\">\n",
              "      <th></th>\n",
              "      <th>SubjectID</th>\n",
              "      <th>Age</th>\n",
              "      <th>onset_delta</th>\n",
              "      <th>fvc_mean</th>\n",
              "      <th>Creatinine_slope</th>\n",
              "      <th>mean_Q1_2_3_mouth</th>\n",
              "      <th>mean_Q5_Cutting</th>\n",
              "      <th>mean_Q7_Turning_in_Bed</th>\n",
              "      <th>slope_Q1_Speech</th>\n",
              "      <th>slope_Q2_Salivation</th>\n",
              "      <th>slope_Q3_Swallowing</th>\n",
              "      <th>slope_Q10_Respiratory</th>\n",
              "      <th>weight_slope</th>\n",
              "      <th>status_opt</th>\n",
              "      <th>time_opt</th>\n",
              "    </tr>\n",
              "  </thead>\n",
              "  <tbody>\n",
              "    <tr>\n",
              "      <th>405</th>\n",
              "      <td>112610.0</td>\n",
              "      <td>9.0</td>\n",
              "      <td>-21.933333</td>\n",
              "      <td>45.055197</td>\n",
              "      <td>-5.586735</td>\n",
              "      <td>11.0</td>\n",
              "      <td>2.0</td>\n",
              "      <td>2.00</td>\n",
              "      <td>0.000000</td>\n",
              "      <td>0.000000</td>\n",
              "      <td>0.0</td>\n",
              "      <td>0.000000</td>\n",
              "      <td>0.000000</td>\n",
              "      <td>0</td>\n",
              "      <td>595</td>\n",
              "    </tr>\n",
              "    <tr>\n",
              "      <th>2635</th>\n",
              "      <td>778226.0</td>\n",
              "      <td>7.0</td>\n",
              "      <td>-5.600000</td>\n",
              "      <td>83.500000</td>\n",
              "      <td>0.000000</td>\n",
              "      <td>12.0</td>\n",
              "      <td>2.5</td>\n",
              "      <td>3.00</td>\n",
              "      <td>0.000000</td>\n",
              "      <td>0.000000</td>\n",
              "      <td>0.0</td>\n",
              "      <td>0.000000</td>\n",
              "      <td>-1.126543</td>\n",
              "      <td>1</td>\n",
              "      <td>510</td>\n",
              "    </tr>\n",
              "    <tr>\n",
              "      <th>1695</th>\n",
              "      <td>509699.0</td>\n",
              "      <td>7.0</td>\n",
              "      <td>-26.066667</td>\n",
              "      <td>83.500000</td>\n",
              "      <td>-2.966297</td>\n",
              "      <td>10.5</td>\n",
              "      <td>3.5</td>\n",
              "      <td>3.75</td>\n",
              "      <td>0.668498</td>\n",
              "      <td>0.334249</td>\n",
              "      <td>0.0</td>\n",
              "      <td>-0.334249</td>\n",
              "      <td>0.896704</td>\n",
              "      <td>1</td>\n",
              "      <td>119</td>\n",
              "    </tr>\n",
              "    <tr>\n",
              "      <th>2645</th>\n",
              "      <td>781188.0</td>\n",
              "      <td>3.0</td>\n",
              "      <td>-17.133333</td>\n",
              "      <td>72.666667</td>\n",
              "      <td>0.000000</td>\n",
              "      <td>12.0</td>\n",
              "      <td>3.0</td>\n",
              "      <td>3.00</td>\n",
              "      <td>0.000000</td>\n",
              "      <td>0.000000</td>\n",
              "      <td>0.0</td>\n",
              "      <td>0.000000</td>\n",
              "      <td>-0.342723</td>\n",
              "      <td>0</td>\n",
              "      <td>372</td>\n",
              "    </tr>\n",
              "    <tr>\n",
              "      <th>1980</th>\n",
              "      <td>585359.0</td>\n",
              "      <td>9.0</td>\n",
              "      <td>-31.500000</td>\n",
              "      <td>97.666667</td>\n",
              "      <td>-3.787089</td>\n",
              "      <td>11.0</td>\n",
              "      <td>4.0</td>\n",
              "      <td>3.00</td>\n",
              "      <td>0.000000</td>\n",
              "      <td>0.000000</td>\n",
              "      <td>0.0</td>\n",
              "      <td>0.000000</td>\n",
              "      <td>0.171362</td>\n",
              "      <td>1</td>\n",
              "      <td>322</td>\n",
              "    </tr>\n",
              "  </tbody>\n",
              "</table>\n",
              "</div>"
            ],
            "text/plain": [
              "      SubjectID  Age  onset_delta  ...  weight_slope  status_opt  time_opt\n",
              "405    112610.0  9.0   -21.933333  ...      0.000000           0       595\n",
              "2635   778226.0  7.0    -5.600000  ...     -1.126543           1       510\n",
              "1695   509699.0  7.0   -26.066667  ...      0.896704           1       119\n",
              "2645   781188.0  3.0   -17.133333  ...     -0.342723           0       372\n",
              "1980   585359.0  9.0   -31.500000  ...      0.171362           1       322\n",
              "\n",
              "[5 rows x 15 columns]"
            ]
          },
          "metadata": {
            "tags": []
          },
          "execution_count": 61
        }
      ]
    },
    {
      "cell_type": "code",
      "metadata": {
        "id": "Wzy-vOleceIW"
      },
      "source": [
        "test_1 = df_test.drop(columns=['SubjectID','time_opt', 'status_opt'])"
      ],
      "execution_count": null,
      "outputs": []
    },
    {
      "cell_type": "code",
      "metadata": {
        "colab": {
          "base_uri": "https://localhost:8080/",
          "height": 476
        },
        "id": "EYZG33XqVdE0",
        "outputId": "e89ae1cb-2f96-4676-9967-e56e5a02d36b"
      },
      "source": [
        "tes_1_aft = test_1[['Age', 'onset_delta', 'fvc_mean',\n",
        "       'mean_Q1_2_3_mouth', 'mean_Q7_Turning_in_Bed',\n",
        "       'slope_Q1_Speech', 'slope_Q3_Swallowing', \n",
        "        'weight_slope']]\n",
        "\n",
        "aft = WeibullAFTFitter(penalizer = 0.2, l1_ratio = 0.2)\n",
        "aft.fit(df_train_finalaft, duration_col='time_opt', event_col='status_opt', ancillary=False)\n",
        "\n",
        "fig, ax = plt.subplots(figsize=(13,7))\n",
        "result_aft = aft.predict_survival_function(tes_1_aft)\n",
        "ax = sns.lineplot(data = result_aft)\n",
        "ax.set(xlabel='Time in days', ylabel='Survival probability')\n",
        "ax.set_title(\"AFT\")"
      ],
      "execution_count": null,
      "outputs": [
        {
          "output_type": "execute_result",
          "data": {
            "text/plain": [
              "Text(0.5, 1.0, 'AFT')"
            ]
          },
          "metadata": {
            "tags": []
          },
          "execution_count": 63
        },
        {
          "output_type": "display_data",
          "data": {
            "image/png": "[encoded data removed]",
            "text/plain": [
              "<Figure size 936x504 with 1 Axes>"
            ]
          },
          "metadata": {
            "tags": [],
            "needs_background": "light"
          }
        }
      ]
    },
    {
      "cell_type": "code",
      "metadata": {
        "colab": {
          "base_uri": "https://localhost:8080/",
          "height": 476
        },
        "id": "5k3zVJ3lcd8x",
        "outputId": "38bb9fd1-bf73-4675-bdd0-a766696ef52c"
      },
      "source": [
        "tes_1_cox = test_1[['Age', 'onset_delta', 'fvc_mean',\n",
        "       'mean_Q1_2_3_mouth', 'mean_Q7_Turning_in_Bed',\n",
        "       'slope_Q1_Speech', 'slope_Q3_Swallowing', \n",
        "        'weight_slope']]\n",
        "\n",
        "cph = CoxPHFitter(penalizer=0.1, l1_ratio = 0.2)\n",
        "cph.fit(df_train_finalcox, 'time_opt', event_col='status_opt')\n",
        "\n",
        "fig, ax = plt.subplots(figsize=(13,7))\n",
        "result_cph = cph.predict_survival_function(tes_1_cox)\n",
        "ax = sns.lineplot(data = result_cph)\n",
        "ax.set(xlabel='Time in days', ylabel='Survival probability')\n",
        "ax.set_title(\"COXPH\")"
      ],
      "execution_count": null,
      "outputs": [
        {
          "output_type": "execute_result",
          "data": {
            "text/plain": [
              "Text(0.5, 1.0, 'COXPH')"
            ]
          },
          "metadata": {
            "tags": []
          },
          "execution_count": 62
        },
        {
          "output_type": "display_data",
          "data": {
            "image/png": "[encoded data removed]",
            "text/plain": [
              "<Figure size 936x504 with 1 Axes>"
            ]
          },
          "metadata": {
            "tags": [],
            "needs_background": "light"
          }
        }
      ]
    },
    {
      "cell_type": "code",
      "metadata": {
        "colab": {
          "base_uri": "https://localhost:8080/",
          "height": 458
        },
        "id": "m-o1V4ypnbgX",
        "outputId": "17e732a3-c166-40ce-f877-c01978ab7a53"
      },
      "source": [
        "tes_1_rsf = test_1[['onset_delta', 'fvc_mean',\n",
        "       'mean_Q1_2_3_mouth', 'mean_Q7_Turning_in_Bed',\n",
        "       'slope_Q1_Speech', 'slope_Q3_Swallowing', \n",
        "        'weight_slope']]\n",
        "\n",
        "rsf = RandomSurvivalForest(n_estimators=100,\n",
        "                           min_samples_split=8,\n",
        "                           min_samples_leaf=18,\n",
        "                           max_features=\"auto\",\n",
        "                           n_jobs=-1,\n",
        "                           random_state=20)\n",
        "rsf.fit(df_train_finalrsf.iloc[:,:-2], y_train_rsf)\n",
        "\n",
        "result_rsf = rsf.predict_survival_function(tes_1_rsf, return_array=True)\n",
        "fig, ax = plt.subplots(figsize=(13,7))\n",
        "for i, s in enumerate(result_rsf):\n",
        "    plt.step(rsf.event_times_, s, where=\"post\")\n",
        "    \n",
        "plt.legend(labels = list(test_1.index))\n",
        "plt.ylabel(\"Survival probability\")\n",
        "plt.xlabel(\"Time in days\")\n",
        "plt.title(\"RSF\")\n",
        "plt.show()"
      ],
      "execution_count": null,
      "outputs": [
        {
          "output_type": "display_data",
          "data": {
            "image/png": "[encoded data removed]",
            "text/plain": [
              "<Figure size 936x504 with 1 Axes>"
            ]
          },
          "metadata": {
            "tags": [],
            "needs_background": "light"
          }
        }
      ]
    },
    {
      "cell_type": "markdown",
      "metadata": {
        "id": "ftDLnW5_PATl"
      },
      "source": [
        "# 3) Group Stratification by median predicted time"
      ]
    },
    {
      "cell_type": "markdown",
      "metadata": {
        "id": "fycusz-SPcyT"
      },
      "source": [
        "## (1) Accelerated Failure Time model"
      ]
    },
    {
      "cell_type": "code",
      "metadata": {
        "colab": {
          "base_uri": "https://localhost:8080/",
          "height": 423
        },
        "id": "3FBZnWx0G7uQ",
        "outputId": "2abd5d06-bbc5-446e-8831-e1f293e9255b"
      },
      "source": [
        "# Extract median probability time\n",
        "aft_median = pd.concat([opt_data['SubjectID'],aft.predict_median(df_train_finalaft)], axis=1)\n",
        "aft_median"
      ],
      "execution_count": null,
      "outputs": [
        {
          "output_type": "execute_result",
          "data": {
            "text/html": [
              "<div>\n",
              "<style scoped>\n",
              "    .dataframe tbody tr th:only-of-type {\n",
              "        vertical-align: middle;\n",
              "    }\n",
              "\n",
              "    .dataframe tbody tr th {\n",
              "        vertical-align: top;\n",
              "    }\n",
              "\n",
              "    .dataframe thead th {\n",
              "        text-align: right;\n",
              "    }\n",
              "</style>\n",
              "<table border=\"1\" class=\"dataframe\">\n",
              "  <thead>\n",
              "    <tr style=\"text-align: right;\">\n",
              "      <th></th>\n",
              "      <th>SubjectID</th>\n",
              "      <th>0</th>\n",
              "    </tr>\n",
              "  </thead>\n",
              "  <tbody>\n",
              "    <tr>\n",
              "      <th>0</th>\n",
              "      <td>329.0</td>\n",
              "      <td>876.166439</td>\n",
              "    </tr>\n",
              "    <tr>\n",
              "      <th>1</th>\n",
              "      <td>708.0</td>\n",
              "      <td>260.573105</td>\n",
              "    </tr>\n",
              "    <tr>\n",
              "      <th>2</th>\n",
              "      <td>902.0</td>\n",
              "      <td>641.042546</td>\n",
              "    </tr>\n",
              "    <tr>\n",
              "      <th>3</th>\n",
              "      <td>1736.0</td>\n",
              "      <td>204.024693</td>\n",
              "    </tr>\n",
              "    <tr>\n",
              "      <th>4</th>\n",
              "      <td>2492.0</td>\n",
              "      <td>814.025135</td>\n",
              "    </tr>\n",
              "    <tr>\n",
              "      <th>...</th>\n",
              "      <td>...</td>\n",
              "      <td>...</td>\n",
              "    </tr>\n",
              "    <tr>\n",
              "      <th>2558</th>\n",
              "      <td>998756.0</td>\n",
              "      <td>294.341634</td>\n",
              "    </tr>\n",
              "    <tr>\n",
              "      <th>2559</th>\n",
              "      <td>999166.0</td>\n",
              "      <td>445.889760</td>\n",
              "    </tr>\n",
              "    <tr>\n",
              "      <th>2560</th>\n",
              "      <td>999823.0</td>\n",
              "      <td>261.686931</td>\n",
              "    </tr>\n",
              "    <tr>\n",
              "      <th>2561</th>\n",
              "      <td>999880.0</td>\n",
              "      <td>1197.536223</td>\n",
              "    </tr>\n",
              "    <tr>\n",
              "      <th>2562</th>\n",
              "      <td>999990.0</td>\n",
              "      <td>460.505237</td>\n",
              "    </tr>\n",
              "  </tbody>\n",
              "</table>\n",
              "<p>2558 rows × 2 columns</p>\n",
              "</div>"
            ],
            "text/plain": [
              "      SubjectID            0\n",
              "0         329.0   876.166439\n",
              "1         708.0   260.573105\n",
              "2         902.0   641.042546\n",
              "3        1736.0   204.024693\n",
              "4        2492.0   814.025135\n",
              "...         ...          ...\n",
              "2558   998756.0   294.341634\n",
              "2559   999166.0   445.889760\n",
              "2560   999823.0   261.686931\n",
              "2561   999880.0  1197.536223\n",
              "2562   999990.0   460.505237\n",
              "\n",
              "[2558 rows x 2 columns]"
            ]
          },
          "metadata": {
            "tags": []
          },
          "execution_count": 49
        }
      ]
    },
    {
      "cell_type": "code",
      "metadata": {
        "colab": {
          "base_uri": "https://localhost:8080/"
        },
        "id": "TcvkgnffG7oC",
        "outputId": "d48123a3-0d45-4c65-b9d1-2f0c597d09c5"
      },
      "source": [
        "# Check how many subjects have infinity values on median prob time\n",
        "print('There are ' + str(aft_median.replace([np.inf,-np.inf], np.nan).isnull().sum(axis = 0).iloc[1]) + ' inf values in aft_median')"
      ],
      "execution_count": null,
      "outputs": [
        {
          "output_type": "stream",
          "text": [
            "There are 0 inf values in aft_median\n"
          ],
          "name": "stdout"
        }
      ]
    },
    {
      "cell_type": "code",
      "metadata": {
        "colab": {
          "base_uri": "https://localhost:8080/",
          "height": 298
        },
        "id": "4wDMLdUPG7dI",
        "outputId": "19bc8edf-572d-4fbd-b0d2-389c83ace136"
      },
      "source": [
        "sns.histplot(x = aft_median[0])"
      ],
      "execution_count": null,
      "outputs": [
        {
          "output_type": "execute_result",
          "data": {
            "text/plain": [
              "<matplotlib.axes._subplots.AxesSubplot at 0x7f825623bed0>"
            ]
          },
          "metadata": {
            "tags": []
          },
          "execution_count": 51
        },
        {
          "output_type": "display_data",
          "data": {
            "image/png": "[encoded data removed]",
            "text/plain": [
              "<Figure size 432x288 with 1 Axes>"
            ]
          },
          "metadata": {
            "tags": [],
            "needs_background": "light"
          }
        }
      ]
    },
    {
      "cell_type": "code",
      "metadata": {
        "colab": {
          "base_uri": "https://localhost:8080/",
          "height": 300
        },
        "id": "eWiIH8KpHYFb",
        "outputId": "24755fb0-39dd-43f3-c1c2-46a5e1d498e2"
      },
      "source": [
        "# Find 25 and 75 percentile range of median prob time\n",
        "aft_median.describe()"
      ],
      "execution_count": null,
      "outputs": [
        {
          "output_type": "execute_result",
          "data": {
            "text/html": [
              "<div>\n",
              "<style scoped>\n",
              "    .dataframe tbody tr th:only-of-type {\n",
              "        vertical-align: middle;\n",
              "    }\n",
              "\n",
              "    .dataframe tbody tr th {\n",
              "        vertical-align: top;\n",
              "    }\n",
              "\n",
              "    .dataframe thead th {\n",
              "        text-align: right;\n",
              "    }\n",
              "</style>\n",
              "<table border=\"1\" class=\"dataframe\">\n",
              "  <thead>\n",
              "    <tr style=\"text-align: right;\">\n",
              "      <th></th>\n",
              "      <th>SubjectID</th>\n",
              "      <th>0</th>\n",
              "    </tr>\n",
              "  </thead>\n",
              "  <tbody>\n",
              "    <tr>\n",
              "      <th>count</th>\n",
              "      <td>2558.000000</td>\n",
              "      <td>2558.000000</td>\n",
              "    </tr>\n",
              "    <tr>\n",
              "      <th>mean</th>\n",
              "      <td>510459.784206</td>\n",
              "      <td>585.730483</td>\n",
              "    </tr>\n",
              "    <tr>\n",
              "      <th>std</th>\n",
              "      <td>291454.772392</td>\n",
              "      <td>274.097541</td>\n",
              "    </tr>\n",
              "    <tr>\n",
              "      <th>min</th>\n",
              "      <td>329.000000</td>\n",
              "      <td>29.539911</td>\n",
              "    </tr>\n",
              "    <tr>\n",
              "      <th>25%</th>\n",
              "      <td>264231.750000</td>\n",
              "      <td>351.769077</td>\n",
              "    </tr>\n",
              "    <tr>\n",
              "      <th>50%</th>\n",
              "      <td>517427.500000</td>\n",
              "      <td>593.170346</td>\n",
              "    </tr>\n",
              "    <tr>\n",
              "      <th>75%</th>\n",
              "      <td>770337.750000</td>\n",
              "      <td>793.393296</td>\n",
              "    </tr>\n",
              "    <tr>\n",
              "      <th>max</th>\n",
              "      <td>999990.000000</td>\n",
              "      <td>1553.761420</td>\n",
              "    </tr>\n",
              "  </tbody>\n",
              "</table>\n",
              "</div>"
            ],
            "text/plain": [
              "           SubjectID            0\n",
              "count    2558.000000  2558.000000\n",
              "mean   510459.784206   585.730483\n",
              "std    291454.772392   274.097541\n",
              "min       329.000000    29.539911\n",
              "25%    264231.750000   351.769077\n",
              "50%    517427.500000   593.170346\n",
              "75%    770337.750000   793.393296\n",
              "max    999990.000000  1553.761420"
            ]
          },
          "metadata": {
            "tags": []
          },
          "execution_count": 50
        }
      ]
    },
    {
      "cell_type": "code",
      "metadata": {
        "id": "pSOFKxYVHYoG"
      },
      "source": [
        "# Categorize into 3 group based on interquartile range\n",
        "aft_slow_list = list(aft_median[aft_median[0] >= 793.393296]['SubjectID'])\n",
        "aft_intermediate_list = list(aft_median[(aft_median[0] >= 351.769077) & (cph_median[0.5] < 793.393296)]['SubjectID'])\n",
        "aft_rapid_list = list(aft_median[aft_median[0]  < 351.769077]['SubjectID'])\n",
        "X_aft_slow = opt_data[opt_data['SubjectID'].isin(aft_slow_list)]\n",
        "X_aft_intermediate = opt_data[opt_data['SubjectID'].isin(aft_intermediate_list)]\n",
        "X_aft_rapid = opt_data[opt_data['SubjectID'].isin(aft_rapid_list)]"
      ],
      "execution_count": null,
      "outputs": []
    },
    {
      "cell_type": "code",
      "metadata": {
        "id": "zPNaqW0tHrGt"
      },
      "source": [
        "# Create a representative virtual patient with each feature's mean value\n",
        "VIRT_aft_slow = pd.DataFrame(X_aft_slow.mean()).transpose().iloc[:, 1:-2][finalaft_feature_list]\n",
        "VIRT_aft_intermediate = pd.DataFrame(X_aft_intermediate.mean()).transpose().iloc[:, 1:-2][finalaft_feature_list]\n",
        "VIRT_aft_rapid = pd.DataFrame(X_aft_rapid.mean()).transpose().iloc[:, 1:-2][finalaft_feature_list]"
      ],
      "execution_count": null,
      "outputs": []
    },
    {
      "cell_type": "code",
      "metadata": {
        "id": "E2FWpQmLHrrL"
      },
      "source": [
        "result_aft_slow = aft.predict_survival_function(VIRT_aft_slow)\n",
        "result_aft_intermediate = aft.predict_survival_function(VIRT_aft_intermediate)\n",
        "result_aft_rapid = aft.predict_survival_function(VIRT_aft_rapid)"
      ],
      "execution_count": null,
      "outputs": []
    },
    {
      "cell_type": "code",
      "metadata": {
        "colab": {
          "base_uri": "https://localhost:8080/",
          "height": 493
        },
        "id": "OBJX6iH-HzlK",
        "outputId": "24176e28-cf4b-441d-90ad-f60bb4d969c6"
      },
      "source": [
        "# Compare KM curve and AFT-prediction curve in each group\n",
        "# KM in solid lines, pred curve in dotted lines\n",
        "plt.figure(figsize=(25, 7))\n",
        "\n",
        "plt.subplot(131)\n",
        "OPT = kmf.fit(X_aft_slow[\"time_opt\"], X_aft_slow[\"status_opt\"], label='Optimal time to gastrostomy', alpha=1)\n",
        "ax_kmf = OPT.plot(color='#3359cc', linewidth=1.5)\n",
        "plt.title(\"Slow\")\n",
        "plt.plot(result_aft_slow.index, result_aft_slow[0], marker='None', color='#80b5ff', linestyle=\"--\", linewidth=1.8)\n",
        "plt.title(\"AFT\")\n",
        "plt.xlim([-40,2000])\n",
        "plt.ylim([0,1.05])\n",
        "\n",
        "plt.subplot(132)\n",
        "OPT = kmf.fit(X_aft_intermediate[\"time_opt\"], X_aft_intermediate[\"status_opt\"], label='Optimal time to gastrostomy', alpha=1)\n",
        "ax_kmf = OPT.plot(color='#3359cc', linewidth=1.5)\n",
        "plt.title(\"Intermediate\")\n",
        "plt.plot(result_aft_intermediate.index, result_aft_intermediate[0], marker='None', color='#80b5ff', linestyle=\"--\", linewidth=1.8)\n",
        "plt.title(\"AFT\")\n",
        "plt.xlim([-40,2000])\n",
        "plt.ylim([0,1.05])\n",
        "\n",
        "plt.subplot(133)\n",
        "OPT = kmf.fit(X_aft_rapid[\"time_opt\"], X_aft_rapid[\"status_opt\"], label='Optimal time to gastrostomy', alpha=1)\n",
        "ax_kmf = OPT.plot(color='#3359cc', linewidth=1.5)\n",
        "plt.title(\"Rapid\")\n",
        "plt.plot(result_aft_rapid.index, result_aft_rapid[0], marker='None', color='#80b5ff', linestyle=\"--\", linewidth=1.8)\n",
        "plt.title(\"AFT\")\n",
        "plt.xlim([-40,2000])\n",
        "plt.ylim([0,1.05])\n",
        "\n",
        "plt.suptitle('Prediction on a virtual subject filled with mean values: AFT', fontsize=20)\n",
        "\n",
        "plt.show()"
      ],
      "execution_count": null,
      "outputs": [
        {
          "output_type": "display_data",
          "data": {
            "image/png": "[encoded data removed]",
            "text/plain": [
              "<Figure size 1800x504 with 3 Axes>"
            ]
          },
          "metadata": {
            "tags": [],
            "needs_background": "light"
          }
        }
      ]
    },
    {
      "cell_type": "markdown",
      "metadata": {
        "id": "9TSzwue_PXOE"
      },
      "source": [
        "## (2) Cox proportional hazard model"
      ]
    },
    {
      "cell_type": "code",
      "metadata": {
        "colab": {
          "base_uri": "https://localhost:8080/",
          "height": 423
        },
        "id": "uWt7mBSD2Ghd",
        "outputId": "8975e579-6207-415d-bcbe-69a39d52b4d7"
      },
      "source": [
        "# Extract median probability time\n",
        "cph_median = pd.concat([opt_data['SubjectID'],cph.predict_median(df_train_finalcox)], axis=1)\n",
        "cph_median"
      ],
      "execution_count": null,
      "outputs": [
        {
          "output_type": "execute_result",
          "data": {
            "text/html": [
              "<div>\n",
              "<style scoped>\n",
              "    .dataframe tbody tr th:only-of-type {\n",
              "        vertical-align: middle;\n",
              "    }\n",
              "\n",
              "    .dataframe tbody tr th {\n",
              "        vertical-align: top;\n",
              "    }\n",
              "\n",
              "    .dataframe thead th {\n",
              "        text-align: right;\n",
              "    }\n",
              "</style>\n",
              "<table border=\"1\" class=\"dataframe\">\n",
              "  <thead>\n",
              "    <tr style=\"text-align: right;\">\n",
              "      <th></th>\n",
              "      <th>SubjectID</th>\n",
              "      <th>0.5</th>\n",
              "    </tr>\n",
              "  </thead>\n",
              "  <tbody>\n",
              "    <tr>\n",
              "      <th>0</th>\n",
              "      <td>329.0</td>\n",
              "      <td>909.0</td>\n",
              "    </tr>\n",
              "    <tr>\n",
              "      <th>1</th>\n",
              "      <td>708.0</td>\n",
              "      <td>270.0</td>\n",
              "    </tr>\n",
              "    <tr>\n",
              "      <th>2</th>\n",
              "      <td>902.0</td>\n",
              "      <td>614.0</td>\n",
              "    </tr>\n",
              "    <tr>\n",
              "      <th>3</th>\n",
              "      <td>1736.0</td>\n",
              "      <td>189.0</td>\n",
              "    </tr>\n",
              "    <tr>\n",
              "      <th>4</th>\n",
              "      <td>2492.0</td>\n",
              "      <td>867.0</td>\n",
              "    </tr>\n",
              "    <tr>\n",
              "      <th>...</th>\n",
              "      <td>...</td>\n",
              "      <td>...</td>\n",
              "    </tr>\n",
              "    <tr>\n",
              "      <th>2558</th>\n",
              "      <td>998756.0</td>\n",
              "      <td>299.0</td>\n",
              "    </tr>\n",
              "    <tr>\n",
              "      <th>2559</th>\n",
              "      <td>999166.0</td>\n",
              "      <td>417.0</td>\n",
              "    </tr>\n",
              "    <tr>\n",
              "      <th>2560</th>\n",
              "      <td>999823.0</td>\n",
              "      <td>273.0</td>\n",
              "    </tr>\n",
              "    <tr>\n",
              "      <th>2561</th>\n",
              "      <td>999880.0</td>\n",
              "      <td>1647.0</td>\n",
              "    </tr>\n",
              "    <tr>\n",
              "      <th>2562</th>\n",
              "      <td>999990.0</td>\n",
              "      <td>417.0</td>\n",
              "    </tr>\n",
              "  </tbody>\n",
              "</table>\n",
              "<p>2558 rows × 2 columns</p>\n",
              "</div>"
            ],
            "text/plain": [
              "      SubjectID     0.5\n",
              "0         329.0   909.0\n",
              "1         708.0   270.0\n",
              "2         902.0   614.0\n",
              "3        1736.0   189.0\n",
              "4        2492.0   867.0\n",
              "...         ...     ...\n",
              "2558   998756.0   299.0\n",
              "2559   999166.0   417.0\n",
              "2560   999823.0   273.0\n",
              "2561   999880.0  1647.0\n",
              "2562   999990.0   417.0\n",
              "\n",
              "[2558 rows x 2 columns]"
            ]
          },
          "metadata": {
            "tags": []
          },
          "execution_count": 13
        }
      ]
    },
    {
      "cell_type": "code",
      "metadata": {
        "colab": {
          "base_uri": "https://localhost:8080/"
        },
        "id": "0_APpAhquCiC",
        "outputId": "b131cde8-e455-492e-ed00-29633a5f83e5"
      },
      "source": [
        "# Check how many subjects have infinity values on median prob time\n",
        "print('There are ' + str(cph_median.replace([np.inf,-np.inf], np.nan).isnull().sum(axis = 0).iloc[1]) + ' inf values in cph_median')"
      ],
      "execution_count": null,
      "outputs": [
        {
          "output_type": "stream",
          "text": [
            "There are 10 inf values in cph_median\n"
          ],
          "name": "stdout"
        }
      ]
    },
    {
      "cell_type": "code",
      "metadata": {
        "id": "6E7hb4Xjyshj"
      },
      "source": [
        "# For classification purpose, inf values are replaced to 'max + 200'\n",
        "cph_median_max = cph_median.replace([np.inf,-np.inf], np.nan).dropna(subset=[0.5],how='all')[0.5].max()\n",
        "cph_inf = cph_median_max + 200\n",
        "cph_median = cph_median.replace([np.inf,-np.inf], cph_inf)"
      ],
      "execution_count": null,
      "outputs": []
    },
    {
      "cell_type": "code",
      "metadata": {
        "colab": {
          "base_uri": "https://localhost:8080/",
          "height": 298
        },
        "id": "vPErX1v1w-Zv",
        "outputId": "a82d3df3-f614-4b6e-cc35-cf394e567cb8"
      },
      "source": [
        "sns.histplot(x = cph_median[0.5])"
      ],
      "execution_count": null,
      "outputs": [
        {
          "output_type": "execute_result",
          "data": {
            "text/plain": [
              "<matplotlib.axes._subplots.AxesSubplot at 0x7f40dc36ff90>"
            ]
          },
          "metadata": {
            "tags": []
          },
          "execution_count": 16
        },
        {
          "output_type": "display_data",
          "data": {
            "image/png": "[encoded data removed]",
            "text/plain": [
              "<Figure size 432x288 with 1 Axes>"
            ]
          },
          "metadata": {
            "tags": [],
            "needs_background": "light"
          }
        }
      ]
    },
    {
      "cell_type": "code",
      "metadata": {
        "colab": {
          "base_uri": "https://localhost:8080/",
          "height": 300
        },
        "id": "_dm4CbyP0pk4",
        "outputId": "093fdc40-cff5-4b43-b528-17d2121ab86a"
      },
      "source": [
        "# Find 25 and 75 percentile range of median prob time\n",
        "cph_median.describe()"
      ],
      "execution_count": null,
      "outputs": [
        {
          "output_type": "execute_result",
          "data": {
            "text/html": [
              "<div>\n",
              "<style scoped>\n",
              "    .dataframe tbody tr th:only-of-type {\n",
              "        vertical-align: middle;\n",
              "    }\n",
              "\n",
              "    .dataframe tbody tr th {\n",
              "        vertical-align: top;\n",
              "    }\n",
              "\n",
              "    .dataframe thead th {\n",
              "        text-align: right;\n",
              "    }\n",
              "</style>\n",
              "<table border=\"1\" class=\"dataframe\">\n",
              "  <thead>\n",
              "    <tr style=\"text-align: right;\">\n",
              "      <th></th>\n",
              "      <th>SubjectID</th>\n",
              "      <th>0.5</th>\n",
              "    </tr>\n",
              "  </thead>\n",
              "  <tbody>\n",
              "    <tr>\n",
              "      <th>count</th>\n",
              "      <td>2558.000000</td>\n",
              "      <td>2558.000000</td>\n",
              "    </tr>\n",
              "    <tr>\n",
              "      <th>mean</th>\n",
              "      <td>510459.784206</td>\n",
              "      <td>590.405395</td>\n",
              "    </tr>\n",
              "    <tr>\n",
              "      <th>std</th>\n",
              "      <td>291454.772392</td>\n",
              "      <td>316.393906</td>\n",
              "    </tr>\n",
              "    <tr>\n",
              "      <th>min</th>\n",
              "      <td>329.000000</td>\n",
              "      <td>37.000000</td>\n",
              "    </tr>\n",
              "    <tr>\n",
              "      <th>25%</th>\n",
              "      <td>264231.750000</td>\n",
              "      <td>361.000000</td>\n",
              "    </tr>\n",
              "    <tr>\n",
              "      <th>50%</th>\n",
              "      <td>517427.500000</td>\n",
              "      <td>519.000000</td>\n",
              "    </tr>\n",
              "    <tr>\n",
              "      <th>75%</th>\n",
              "      <td>770337.750000</td>\n",
              "      <td>820.000000</td>\n",
              "    </tr>\n",
              "    <tr>\n",
              "      <th>max</th>\n",
              "      <td>999990.000000</td>\n",
              "      <td>1902.000000</td>\n",
              "    </tr>\n",
              "  </tbody>\n",
              "</table>\n",
              "</div>"
            ],
            "text/plain": [
              "           SubjectID          0.5\n",
              "count    2558.000000  2558.000000\n",
              "mean   510459.784206   590.405395\n",
              "std    291454.772392   316.393906\n",
              "min       329.000000    37.000000\n",
              "25%    264231.750000   361.000000\n",
              "50%    517427.500000   519.000000\n",
              "75%    770337.750000   820.000000\n",
              "max    999990.000000  1902.000000"
            ]
          },
          "metadata": {
            "tags": []
          },
          "execution_count": 17
        }
      ]
    },
    {
      "cell_type": "code",
      "metadata": {
        "id": "IjbJLkTk7cL3"
      },
      "source": [
        "# Categorize into 3 group based on interquartile range\n",
        "cph_slow_list = list(cph_median[cph_median[0.5] >= 820]['SubjectID'])\n",
        "cph_intermediate_list = list(cph_median[(cph_median[0.5] >= 361) & (cph_median[0.5] < 820)]['SubjectID'])\n",
        "cph_rapid_list = list(cph_median[cph_median[0.5]  < 361]['SubjectID'])\n",
        "X_cph_slow = opt_data[opt_data['SubjectID'].isin(cph_slow_list)]\n",
        "X_cph_intermediate = opt_data[opt_data['SubjectID'].isin(cph_intermediate_list)]\n",
        "X_cph_rapid = opt_data[opt_data['SubjectID'].isin(cph_rapid_list)]"
      ],
      "execution_count": null,
      "outputs": []
    },
    {
      "cell_type": "code",
      "metadata": {
        "id": "rCbfyPrw-NMr"
      },
      "source": [
        "# Create a representative virtual patient with each feature's mean value\n",
        "VIRT_cph_slow = pd.DataFrame(X_cph_slow.mean()).transpose().iloc[:, 1:-2][finalcox_feature_list]\n",
        "VIRT_cph_intermediate = pd.DataFrame(X_cph_intermediate.mean()).transpose().iloc[:, 1:-2][finalcox_feature_list]\n",
        "VIRT_cph_rapid = pd.DataFrame(X_cph_rapid.mean()).transpose().iloc[:, 1:-2][finalcox_feature_list]"
      ],
      "execution_count": null,
      "outputs": []
    },
    {
      "cell_type": "code",
      "metadata": {
        "id": "dSR5f6U2Bz9z"
      },
      "source": [
        "result_cph_slow = cph.predict_survival_function(VIRT_cph_slow)\n",
        "result_cph_intermediate = cph.predict_survival_function(VIRT_cph_intermediate)\n",
        "result_cph_rapid = cph.predict_survival_function(VIRT_cph_rapid)"
      ],
      "execution_count": null,
      "outputs": []
    },
    {
      "cell_type": "code",
      "metadata": {
        "id": "ndvFviFuFRtP"
      },
      "source": [
        "from lifelines import KaplanMeierFitter\n",
        "kmf = KaplanMeierFitter()\n",
        "\n",
        "from lifelines.utils import median_survival_times"
      ],
      "execution_count": null,
      "outputs": []
    },
    {
      "cell_type": "code",
      "metadata": {
        "colab": {
          "base_uri": "https://localhost:8080/",
          "height": 457
        },
        "id": "Cjt45a7kB0mM",
        "outputId": "6f55de2b-70c4-44b9-9c22-310e494d08b7"
      },
      "source": [
        "# Compare KM curve and Cox-prediction curve in each group\n",
        "# KM in solid lines, pred curve in dotted lines\n",
        "plt.figure(figsize=(25, 7))\n",
        "\n",
        "plt.subplot(131)\n",
        "OPT = kmf.fit(X_cph_slow[\"time_opt\"], X_cph_slow[\"status_opt\"], label='Optimal time to gastrostomy', alpha=1)\n",
        "ax_kmf = OPT.plot(color='#853C3C', linewidth=1.5)\n",
        "plt.title(\"Slow\")\n",
        "plt.plot(result_cph_slow.index, result_cph_slow, marker='None', color='#CD7070', linestyle='--', linewidth=1.8)\n",
        "plt.xlim([-40,2000])\n",
        "plt.ylim([0,1.05])\n",
        "\n",
        "\n",
        "plt.subplot(132)\n",
        "OPT = kmf.fit(X_cph_intermediate[\"time_opt\"], X_cph_intermediate[\"status_opt\"], label='Optimal time to gastrostomy', alpha=1)\n",
        "ax_kmf = OPT.plot(color='#853C3C', linewidth=1.5)\n",
        "plt.title(\"Intermediate\")\n",
        "plt.plot(result_cph_intermediate.index, result_cph_intermediate, marker='None', color='#CD7070', linestyle='--', linewidth=1.8)\n",
        "plt.xlim([-40,2000])\n",
        "plt.ylim([0,1.05])\n",
        "\n",
        "\n",
        "plt.subplot(133)\n",
        "OPT = kmf.fit(X_cph_rapid[\"time_opt\"], X_cph_rapid[\"status_opt\"], label='Optimal time to gastrostomy', alpha=1)\n",
        "ax_kmf = OPT.plot(color='#853C3C', linewidth=1.8)\n",
        "plt.title(\"Rapid\")\n",
        "plt.plot(result_cph_rapid.index, result_cph_rapid, marker='None', color='#CD7070', linestyle='--',linewidth=1.8)\n",
        "plt.xlim([-40,2000])\n",
        "plt.ylim([0,1.05])\n",
        "\n",
        "plt.suptitle('Group Stratification: CoxPH', fontsize=20)\n",
        "plt.show()"
      ],
      "execution_count": null,
      "outputs": [
        {
          "output_type": "display_data",
          "data": {
            "image/png": "[encoded data removed]",
            "text/plain": [
              "<Figure size 1800x504 with 3 Axes>"
            ]
          },
          "metadata": {
            "tags": [],
            "needs_background": "light"
          }
        }
      ]
    },
    {
      "cell_type": "markdown",
      "metadata": {
        "id": "T6pf7t-iPdEP"
      },
      "source": [
        "## (3) Random Survival Forests model"
      ]
    },
    {
      "cell_type": "code",
      "metadata": {
        "id": "EPM-MIVPDxAQ"
      },
      "source": [
        "def predict_rsf_median(data):\n",
        "  result = rsf.predict_survival_function(data.to_numpy().reshape(1, -1), return_array = True)\n",
        "  result = np.squeeze(result)\n",
        "  time_result = pd.DataFrame({'time' : rsf.event_times_, 'p' : result })\n",
        "\n",
        "  if time_result[time_result['p'] <= 0.5].count()['time'] == 0:\n",
        "    median = np.inf\n",
        "  else:\n",
        "    median = time_result[time_result['p'] <= 0.5].iloc[0,0]\n",
        "\n",
        "  return median"
      ],
      "execution_count": null,
      "outputs": []
    },
    {
      "cell_type": "code",
      "metadata": {
        "id": "D6TrilxCMT9X"
      },
      "source": [
        "# Extract median probability time\n",
        "rsf_median_list = []\n",
        "for i in range(df_train_finalrsf.shape[0]):\n",
        "  rsf_median_list.append(predict_rsf_median(df_train_finalrsf.iloc[i,:-2]))\n",
        "\n",
        "rsf_median_list"
      ],
      "execution_count": null,
      "outputs": []
    },
    {
      "cell_type": "code",
      "metadata": {
        "colab": {
          "base_uri": "https://localhost:8080/"
        },
        "id": "rlWI7JH-70Ea",
        "outputId": "38c51a30-1712-49f9-a7f6-f0e148ef9395"
      },
      "source": [
        "subjectID = opt_data['SubjectID'].copy()\n",
        "subjectID.index = range(len(subjectID))\n",
        "subjectID"
      ],
      "execution_count": null,
      "outputs": [
        {
          "output_type": "execute_result",
          "data": {
            "text/plain": [
              "0          329.0\n",
              "1          708.0\n",
              "2          902.0\n",
              "3         1736.0\n",
              "4         2492.0\n",
              "          ...   \n",
              "2553    998756.0\n",
              "2554    999166.0\n",
              "2555    999823.0\n",
              "2556    999880.0\n",
              "2557    999990.0\n",
              "Name: SubjectID, Length: 2558, dtype: float64"
            ]
          },
          "metadata": {
            "tags": []
          },
          "execution_count": 38
        }
      ]
    },
    {
      "cell_type": "code",
      "metadata": {
        "colab": {
          "base_uri": "https://localhost:8080/",
          "height": 423
        },
        "id": "ciRO8YmGOF7x",
        "outputId": "714d6b9a-8364-42d4-95de-2005ea89e740"
      },
      "source": [
        "rsf_median = pd.concat([subjectID, pd.Series(rsf_median_list)], axis=1)\n",
        "rsf_median"
      ],
      "execution_count": null,
      "outputs": [
        {
          "output_type": "execute_result",
          "data": {
            "text/html": [
              "<div>\n",
              "<style scoped>\n",
              "    .dataframe tbody tr th:only-of-type {\n",
              "        vertical-align: middle;\n",
              "    }\n",
              "\n",
              "    .dataframe tbody tr th {\n",
              "        vertical-align: top;\n",
              "    }\n",
              "\n",
              "    .dataframe thead th {\n",
              "        text-align: right;\n",
              "    }\n",
              "</style>\n",
              "<table border=\"1\" class=\"dataframe\">\n",
              "  <thead>\n",
              "    <tr style=\"text-align: right;\">\n",
              "      <th></th>\n",
              "      <th>SubjectID</th>\n",
              "      <th>0</th>\n",
              "    </tr>\n",
              "  </thead>\n",
              "  <tbody>\n",
              "    <tr>\n",
              "      <th>0</th>\n",
              "      <td>329.0</td>\n",
              "      <td>inf</td>\n",
              "    </tr>\n",
              "    <tr>\n",
              "      <th>1</th>\n",
              "      <td>708.0</td>\n",
              "      <td>99.0</td>\n",
              "    </tr>\n",
              "    <tr>\n",
              "      <th>2</th>\n",
              "      <td>902.0</td>\n",
              "      <td>903.0</td>\n",
              "    </tr>\n",
              "    <tr>\n",
              "      <th>3</th>\n",
              "      <td>1736.0</td>\n",
              "      <td>180.0</td>\n",
              "    </tr>\n",
              "    <tr>\n",
              "      <th>4</th>\n",
              "      <td>2492.0</td>\n",
              "      <td>520.0</td>\n",
              "    </tr>\n",
              "    <tr>\n",
              "      <th>...</th>\n",
              "      <td>...</td>\n",
              "      <td>...</td>\n",
              "    </tr>\n",
              "    <tr>\n",
              "      <th>2553</th>\n",
              "      <td>998756.0</td>\n",
              "      <td>252.0</td>\n",
              "    </tr>\n",
              "    <tr>\n",
              "      <th>2554</th>\n",
              "      <td>999166.0</td>\n",
              "      <td>484.0</td>\n",
              "    </tr>\n",
              "    <tr>\n",
              "      <th>2555</th>\n",
              "      <td>999823.0</td>\n",
              "      <td>126.0</td>\n",
              "    </tr>\n",
              "    <tr>\n",
              "      <th>2556</th>\n",
              "      <td>999880.0</td>\n",
              "      <td>inf</td>\n",
              "    </tr>\n",
              "    <tr>\n",
              "      <th>2557</th>\n",
              "      <td>999990.0</td>\n",
              "      <td>461.0</td>\n",
              "    </tr>\n",
              "  </tbody>\n",
              "</table>\n",
              "<p>2558 rows × 2 columns</p>\n",
              "</div>"
            ],
            "text/plain": [
              "      SubjectID      0\n",
              "0         329.0    inf\n",
              "1         708.0   99.0\n",
              "2         902.0  903.0\n",
              "3        1736.0  180.0\n",
              "4        2492.0  520.0\n",
              "...         ...    ...\n",
              "2553   998756.0  252.0\n",
              "2554   999166.0  484.0\n",
              "2555   999823.0  126.0\n",
              "2556   999880.0    inf\n",
              "2557   999990.0  461.0\n",
              "\n",
              "[2558 rows x 2 columns]"
            ]
          },
          "metadata": {
            "tags": []
          },
          "execution_count": 39
        }
      ]
    },
    {
      "cell_type": "code",
      "metadata": {
        "colab": {
          "base_uri": "https://localhost:8080/"
        },
        "id": "-taDd5ZGRvFV",
        "outputId": "1934a640-2502-4d30-885c-61159a7868eb"
      },
      "source": [
        "# Check how many subjects have infinity values on median prob time\n",
        "print('There are ' + str(rsf_median.replace([np.inf,-np.inf], np.nan).isnull().sum(axis = 0).iloc[1]) + ' inf values in rsf_median')"
      ],
      "execution_count": null,
      "outputs": [
        {
          "output_type": "stream",
          "text": [
            "There are 449 inf values in rsf_median\n"
          ],
          "name": "stdout"
        }
      ]
    },
    {
      "cell_type": "code",
      "metadata": {
        "id": "SRqG9q30Ru8C"
      },
      "source": [
        "# For classification purpose, inf values are replaced to 'max + 200'\n",
        "rsf_median_max = rsf_median.replace([np.inf,-np.inf], np.nan).dropna(subset=[0],how='all')[0].max()\n",
        "rsf_inf = rsf_median_max + 200\n",
        "rsf_median = rsf_median.replace([np.inf,-np.inf], rsf_inf)"
      ],
      "execution_count": null,
      "outputs": []
    },
    {
      "cell_type": "code",
      "metadata": {
        "colab": {
          "base_uri": "https://localhost:8080/",
          "height": 298
        },
        "id": "49tj0E58Ruzr",
        "outputId": "3905efda-1625-490a-ef39-e96d761a0d0e"
      },
      "source": [
        "sns.histplot(x = rsf_median[0])"
      ],
      "execution_count": null,
      "outputs": [
        {
          "output_type": "execute_result",
          "data": {
            "text/plain": [
              "<matplotlib.axes._subplots.AxesSubplot at 0x7f3834549290>"
            ]
          },
          "metadata": {
            "tags": []
          },
          "execution_count": 27
        },
        {
          "output_type": "display_data",
          "data": {
            "image/png": "[encoded data removed]",
            "text/plain": [
              "<Figure size 432x288 with 1 Axes>"
            ]
          },
          "metadata": {
            "tags": [],
            "needs_background": "light"
          }
        }
      ]
    },
    {
      "cell_type": "code",
      "metadata": {
        "colab": {
          "base_uri": "https://localhost:8080/",
          "height": 300
        },
        "id": "8uFj4BT2RusX",
        "outputId": "98b452ea-ad41-4b24-9db6-0877efe47001"
      },
      "source": [
        "# Find 25 and 75 percentile range of median prob time\n",
        "rsf_median.describe()"
      ],
      "execution_count": null,
      "outputs": [
        {
          "output_type": "execute_result",
          "data": {
            "text/html": [
              "<div>\n",
              "<style scoped>\n",
              "    .dataframe tbody tr th:only-of-type {\n",
              "        vertical-align: middle;\n",
              "    }\n",
              "\n",
              "    .dataframe tbody tr th {\n",
              "        vertical-align: top;\n",
              "    }\n",
              "\n",
              "    .dataframe thead th {\n",
              "        text-align: right;\n",
              "    }\n",
              "</style>\n",
              "<table border=\"1\" class=\"dataframe\">\n",
              "  <thead>\n",
              "    <tr style=\"text-align: right;\">\n",
              "      <th></th>\n",
              "      <th>SubjectID</th>\n",
              "      <th>0</th>\n",
              "    </tr>\n",
              "  </thead>\n",
              "  <tbody>\n",
              "    <tr>\n",
              "      <th>count</th>\n",
              "      <td>2558.000000</td>\n",
              "      <td>2558.000000</td>\n",
              "    </tr>\n",
              "    <tr>\n",
              "      <th>mean</th>\n",
              "      <td>510459.784206</td>\n",
              "      <td>822.044175</td>\n",
              "    </tr>\n",
              "    <tr>\n",
              "      <th>std</th>\n",
              "      <td>291454.772392</td>\n",
              "      <td>627.289694</td>\n",
              "    </tr>\n",
              "    <tr>\n",
              "      <th>min</th>\n",
              "      <td>329.000000</td>\n",
              "      <td>48.000000</td>\n",
              "    </tr>\n",
              "    <tr>\n",
              "      <th>25%</th>\n",
              "      <td>264231.750000</td>\n",
              "      <td>309.000000</td>\n",
              "    </tr>\n",
              "    <tr>\n",
              "      <th>50%</th>\n",
              "      <td>517427.500000</td>\n",
              "      <td>525.000000</td>\n",
              "    </tr>\n",
              "    <tr>\n",
              "      <th>75%</th>\n",
              "      <td>770337.750000</td>\n",
              "      <td>1234.000000</td>\n",
              "    </tr>\n",
              "    <tr>\n",
              "      <th>max</th>\n",
              "      <td>999990.000000</td>\n",
              "      <td>1902.000000</td>\n",
              "    </tr>\n",
              "  </tbody>\n",
              "</table>\n",
              "</div>"
            ],
            "text/plain": [
              "           SubjectID            0\n",
              "count    2558.000000  2558.000000\n",
              "mean   510459.784206   822.044175\n",
              "std    291454.772392   627.289694\n",
              "min       329.000000    48.000000\n",
              "25%    264231.750000   309.000000\n",
              "50%    517427.500000   525.000000\n",
              "75%    770337.750000  1234.000000\n",
              "max    999990.000000  1902.000000"
            ]
          },
          "metadata": {
            "tags": []
          },
          "execution_count": 44
        }
      ]
    },
    {
      "cell_type": "code",
      "metadata": {
        "id": "O6or5pHySE_X"
      },
      "source": [
        "# Categorize into 3 group based on interquartile range\n",
        "rsf_slow_list = list(rsf_median[rsf_median[0] >= 1234]['SubjectID'])\n",
        "rsf_intermediate_list = list(rsf_median[(rsf_median[0] >= 309) & (rsf_median[0] < 1234)]['SubjectID'])\n",
        "rsf_rapid_list = list(rsf_median[rsf_median[0]  < 309]['SubjectID'])\n",
        "X_rsf_slow = opt_data[opt_data['SubjectID'].isin(rsf_slow_list)]\n",
        "X_rsf_intermediate = opt_data[opt_data['SubjectID'].isin(rsf_intermediate_list)]\n",
        "X_rsf_rapid = opt_data[opt_data['SubjectID'].isin(rsf_rapid_list)]"
      ],
      "execution_count": null,
      "outputs": []
    },
    {
      "cell_type": "code",
      "metadata": {
        "id": "dZNqssOuSEv2"
      },
      "source": [
        "# Create a representative virtual patient with each feature's mean value\n",
        "VIRT_rsf_slow = pd.DataFrame(X_rsf_slow.mean()).transpose().iloc[:, 1:-2][finalrsf_feature_list]\n",
        "VIRT_rsf_intermediate = pd.DataFrame(X_rsf_intermediate.mean()).transpose().iloc[:, 1:-2][finalrsf_feature_list]\n",
        "VIRT_rsf_rapid = pd.DataFrame(X_rsf_rapid.mean()).transpose().iloc[:, 1:-2][finalrsf_feature_list]"
      ],
      "execution_count": null,
      "outputs": []
    },
    {
      "cell_type": "code",
      "metadata": {
        "id": "M_kK-IROSEfK"
      },
      "source": [
        "result_rsf_slow = rsf.predict_survival_function(VIRT_rsf_slow, return_array=True)\n",
        "result_rsf_intermediate = rsf.predict_survival_function(VIRT_rsf_intermediate, return_array=True)\n",
        "result_rsf_rapid = rsf.predict_survival_function(VIRT_rsf_rapid, return_array=True)"
      ],
      "execution_count": null,
      "outputs": []
    },
    {
      "cell_type": "code",
      "metadata": {
        "colab": {
          "base_uri": "https://localhost:8080/",
          "height": 457
        },
        "id": "V_WVrbiqSeCd",
        "outputId": "b4c661ee-daae-41f3-c093-1e9621cd29fb"
      },
      "source": [
        "# Compare KM curve and RSF-prediction curve in each group\n",
        "# KM in solid lines, pred curve in dotted lines\n",
        "plt.figure(figsize=(25, 7))\n",
        "\n",
        "plt.subplot(131)\n",
        "OPT = kmf.fit(X_rsf_slow[\"time_opt\"], X_rsf_slow[\"status_opt\"], label='Optimal time to gastrostomy', alpha=1)\n",
        "ax_kmf = OPT.plot(color='#009000', linewidth=1.5)\n",
        "plt.title(\"Slow\")\n",
        "for i, s in enumerate(result_rsf_slow):\n",
        "    plt.step(rsf.event_times_, s, where=\"post\", color='#8FCC52', linestyle='--', linewidth=1.8)\n",
        "plt.xlim([-40,2000])\n",
        "plt.ylim([0,1.05])\n",
        "\n",
        "\n",
        "plt.subplot(132)\n",
        "OPT = kmf.fit(X_rsf_intermediate[\"time_opt\"], X_rsf_intermediate[\"status_opt\"], label='Optimal time to gastrostomy', alpha=1)\n",
        "ax_kmf = OPT.plot(color='#009000', linewidth=1.5)\n",
        "plt.title(\"Intermediate\")\n",
        "for i, s in enumerate(result_rsf_intermediate):\n",
        "    plt.step(rsf.event_times_, s, where=\"post\", color='#8FCC52', linestyle='--', linewidth=1.8)\n",
        "plt.xlim([-40,2000])\n",
        "plt.ylim([0,1.05])\n",
        "\n",
        "\n",
        "plt.subplot(133)\n",
        "OPT = kmf.fit(X_rsf_rapid[\"time_opt\"], X_rsf_rapid[\"status_opt\"], label='Optimal time to gastrostomy', alpha=1)\n",
        "ax_kmf = OPT.plot(color='#009000', linewidth=1.5)\n",
        "plt.title(\"Rapid\")\n",
        "for i, s in enumerate(result_rsf_rapid):\n",
        "    plt.step(rsf.event_times_, s, where=\"post\", color='#8FCC52', linestyle='--', linewidth=1.8)\n",
        "plt.xlim([-40,2000])\n",
        "plt.ylim([0,1.05])\n",
        "\n",
        "plt.suptitle('Group Stratification: RSF', fontsize=20)\n",
        "plt.show()"
      ],
      "execution_count": null,
      "outputs": [
        {
          "output_type": "display_data",
          "data": {
            "image/png": "[encoded data removed]",
            "text/plain": [
              "<Figure size 1800x504 with 3 Axes>"
            ]
          },
          "metadata": {
            "tags": [],
            "needs_background": "light"
          }
        }
      ]
    },
    {
      "cell_type": "markdown",
      "metadata": {
        "id": "UVRTGTHBZcyQ"
      },
      "source": [
        "## (4) Comparison"
      ]
    },
    {
      "cell_type": "code",
      "metadata": {
        "id": "giG-iNhedhRX"
      },
      "source": [
        "# Based on group stratification graphs, 25%, 50%, 75% prob time is calculated in each curve\n",
        "kmf1 = KaplanMeierFitter()\n",
        "kmf2 = KaplanMeierFitter()\n",
        "kmf3 = KaplanMeierFitter()\n",
        "kmf4 = KaplanMeierFitter()\n",
        "kmf5 = KaplanMeierFitter()\n",
        "kmf6 = KaplanMeierFitter()\n",
        "kmf7 = KaplanMeierFitter()\n",
        "kmf8 = KaplanMeierFitter()\n",
        "kmf9 = KaplanMeierFitter()\n",
        "\n",
        "\n",
        "cph_KM_rapid = kmf1.fit(X_cph_fast[\"time_opt\"], X_cph_fast[\"status_opt\"])\n",
        "cph_KM_intermediate = kmf2.fit(X_cph_medium[\"time_opt\"], X_cph_medium[\"status_opt\"])\n",
        "cph_KM_slow = kmf3.fit(X_cph_slow[\"time_opt\"], X_cph_slow[\"status_opt\"])\n",
        "\n",
        "aft_KM_rapid = kmf4.fit(X_aft_fast[\"time_opt\"], X_aft_fast[\"status_opt\"])\n",
        "aft_KM_intermediate = kmf5.fit(X_aft_medium[\"time_opt\"], X_aft_medium[\"status_opt\"])\n",
        "aft_KM_slow = kmf6.fit(X_aft_slow[\"time_opt\"], X_aft_slow[\"status_opt\"])\n",
        "\n",
        "rsf_KM_slow = kmf7.fit(X_rsf_slow[\"time_opt\"], X_rsf_slow[\"status_opt\"])\n",
        "rsf_KM_intermediate = kmf8.fit(X_rsf_medium[\"time_opt\"], X_rsf_medium[\"status_opt\"])\n",
        "rsf_KM_rapid = kmf9.fit(X_rsf_fast[\"time_opt\"], X_rsf_fast[\"status_opt\"])"
      ],
      "execution_count": null,
      "outputs": []
    },
    {
      "cell_type": "code",
      "metadata": {
        "id": "PC1lDwT1Q4rc"
      },
      "source": [
        "def predict_rsf_percentile(data, percentile):\n",
        "  result = rsf.predict_survival_function(data.to_numpy().reshape(1, -1), return_array = True)\n",
        "  result = np.squeeze(result)\n",
        "  time_result = pd.DataFrame({'time' : rsf.event_times_, 'p' : result })\n",
        "\n",
        "  if time_result[time_result['p'] <= percentile].count()['time'] == 0:\n",
        "    per = np.inf\n",
        "  else:\n",
        "    per = time_result[time_result['p'] <= percentile].iloc[0,0]\n",
        "\n",
        "  return per"
      ],
      "execution_count": null,
      "outputs": []
    },
    {
      "cell_type": "code",
      "metadata": {
        "id": "kgaPps1cPqQo"
      },
      "source": [
        "GS_AFT_list = [['KM rapid', aft_KM_rapid.percentile(0.25), aft_KM_rapid.percentile(0.5), aft_KM_rapid.percentile(0.75)],\n",
        "               ['Aft rapid', aft.predict_percentile(df=VIRT_aft_fast, ancillary=None, p=0.25)[0], aft.predict_median(VIRT_aft_fast)[0], aft.predict_percentile(df=VIRT_aft_fast, ancillary=None, p=0.75)[0]],\n",
        "               ['KM intermediate', aft_KM_intermediate.percentile(0.25), aft_KM_intermediate.percentile(0.5), aft_KM_intermediate.percentile(0.75)],\n",
        "               ['Aft intermediate', aft.predict_percentile(df=VIRT_aft_medium, ancillary=None, p=0.25)[0], aft.predict_median(VIRT_aft_medium)[0], aft.predict_percentile(df=VIRT_aft_medium, ancillary=None, p=0.75)[0]],\n",
        "               ['KM slow', aft_KM_slow.percentile(0.25), aft_KM_slow.percentile(0.5), aft_KM_slow.percentile(0.75)],\n",
        "               ['Aft slow', aft.predict_percentile(VIRT_aft_slow, ancillary=None, p=0.25)[0], aft.predict_median(VIRT_aft_slow)[0], aft.predict_percentile(VIRT_aft_slow, ancillary=None, p=0.75)[0]]]\n",
        "\n",
        "GS_COX_list = [['KM rapid', cph_KM_rapid.percentile(0.25), cph_KM_rapid.percentile(0.5), cph_KM_rapid.percentile(0.75)],\n",
        "               ['Cox rapid', cph.predict_percentile(VIRT_cph_fast, 0.25), cph.predict_median(VIRT_cph_fast), cph.predict_percentile(VIRT_cph_fast, 0.75)],\n",
        "               ['KM intermediate', cph_KM_intermediate.percentile(0.25), cph_KM_intermediate.percentile(0.5), cph_KM_intermediate.percentile(0.75)],\n",
        "               ['Cox intermediate', cph.predict_percentile(VIRT_cph_medium, 0.25), cph.predict_median(VIRT_cph_medium), cph.predict_percentile(VIRT_cph_medium, 0.75)],\n",
        "               ['KM slow', cph_KM_slow.percentile(0.25), cph_KM_slow.percentile(0.5), cph_KM_slow.percentile(0.75)],\n",
        "               ['Cox slow', cph.predict_percentile(VIRT_cph_slow, 0.25), cph.predict_median(VIRT_cph_slow), cph.predict_percentile(VIRT_cph_slow, 0.75)]]\n",
        "\n",
        "GS_RSF_list = [['KM rapid', rsf_KM_rapid.percentile(0.25), rsf_KM_rapid.percentile(0.5), rsf_KM_rapid.percentile(0.75)],\n",
        "               ['Rsf rapid', predict_rsf_percentile(VIRT_rsf_fast, 0.25), predict_rsf_percentile(VIRT_rsf_fast, 0.5), predict_rsf_percentile(VIRT_rsf_fast, 0.75)],\n",
        "               ['KM intermediate', rsf_KM_intermediate.percentile(0.25), rsf_KM_intermediate.percentile(0.5), rsf_KM_intermediate.percentile(0.75)],\n",
        "               ['Rsf intermediate', predict_rsf_percentile(VIRT_rsf_medium, 0.25), predict_rsf_percentile(VIRT_rsf_medium, 0.5), predict_rsf_percentile(VIRT_rsf_medium, 0.75)],\n",
        "               ['KM slow', rsf_KM_slow.percentile(0.25), rsf_KM_slow.percentile(0.5), rsf_KM_slow.percentile(0.75)],\n",
        "               ['Rsf slow', predict_rsf_percentile(VIRT_rsf_slow, 0.25), predict_rsf_percentile(VIRT_rsf_slow, 0.5), predict_rsf_percentile(VIRT_rsf_slow, 0.75)]]\n",
        "\n",
        "GS_AFT = pd.DataFrame(GS_AFT_list,columns=['model','25%','50%','75%'])\n",
        "GS_COX = pd.DataFrame(GS_COX_list,columns=['model','25%','50%','75%'])\n",
        "GS_RSF = pd.DataFrame(GS_RSF_list,columns=['model','25%','50%','75%'])"
      ],
      "execution_count": null,
      "outputs": []
    },
    {
      "cell_type": "code",
      "metadata": {
        "colab": {
          "base_uri": "https://localhost:8080/",
          "height": 237
        },
        "id": "QKwM2wHJVO81",
        "outputId": "1fd07f24-b444-47d8-8c8f-728ac46f7a35"
      },
      "source": [
        "GS_AFT"
      ],
      "execution_count": null,
      "outputs": [
        {
          "output_type": "execute_result",
          "data": {
            "text/html": [
              "<div>\n",
              "<style scoped>\n",
              "    .dataframe tbody tr th:only-of-type {\n",
              "        vertical-align: middle;\n",
              "    }\n",
              "\n",
              "    .dataframe tbody tr th {\n",
              "        vertical-align: top;\n",
              "    }\n",
              "\n",
              "    .dataframe thead th {\n",
              "        text-align: right;\n",
              "    }\n",
              "</style>\n",
              "<table border=\"1\" class=\"dataframe\">\n",
              "  <thead>\n",
              "    <tr style=\"text-align: right;\">\n",
              "      <th></th>\n",
              "      <th>model</th>\n",
              "      <th>25%</th>\n",
              "      <th>50%</th>\n",
              "      <th>75%</th>\n",
              "    </tr>\n",
              "  </thead>\n",
              "  <tbody>\n",
              "    <tr>\n",
              "      <th>0</th>\n",
              "      <td>KM rapid</td>\n",
              "      <td>344.000000</td>\n",
              "      <td>182.000000</td>\n",
              "      <td>91.000000</td>\n",
              "    </tr>\n",
              "    <tr>\n",
              "      <th>1</th>\n",
              "      <td>Aft rapid</td>\n",
              "      <td>353.848221</td>\n",
              "      <td>221.527878</td>\n",
              "      <td>122.290296</td>\n",
              "    </tr>\n",
              "    <tr>\n",
              "      <th>2</th>\n",
              "      <td>KM intermediate</td>\n",
              "      <td>884.000000</td>\n",
              "      <td>495.000000</td>\n",
              "      <td>336.000000</td>\n",
              "    </tr>\n",
              "    <tr>\n",
              "      <th>3</th>\n",
              "      <td>Aft intermediate</td>\n",
              "      <td>894.407155</td>\n",
              "      <td>559.946630</td>\n",
              "      <td>309.108001</td>\n",
              "    </tr>\n",
              "    <tr>\n",
              "      <th>4</th>\n",
              "      <td>KM slow</td>\n",
              "      <td>1295.000000</td>\n",
              "      <td>1037.000000</td>\n",
              "      <td>649.000000</td>\n",
              "    </tr>\n",
              "    <tr>\n",
              "      <th>5</th>\n",
              "      <td>Aft slow</td>\n",
              "      <td>1487.609145</td>\n",
              "      <td>931.322746</td>\n",
              "      <td>514.119197</td>\n",
              "    </tr>\n",
              "  </tbody>\n",
              "</table>\n",
              "</div>"
            ],
            "text/plain": [
              "              model          25%          50%         75%\n",
              "0          KM rapid   344.000000   182.000000   91.000000\n",
              "1         Aft rapid   353.848221   221.527878  122.290296\n",
              "2   KM intermediate   884.000000   495.000000  336.000000\n",
              "3  Aft intermediate   894.407155   559.946630  309.108001\n",
              "4           KM slow  1295.000000  1037.000000  649.000000\n",
              "5          Aft slow  1487.609145   931.322746  514.119197"
            ]
          },
          "metadata": {
            "tags": []
          },
          "execution_count": 124
        }
      ]
    },
    {
      "cell_type": "code",
      "metadata": {
        "colab": {
          "base_uri": "https://localhost:8080/",
          "height": 502
        },
        "id": "eHaKwODRUS3q",
        "outputId": "4c9b169e-ccbc-4ce9-852c-5ad40e8006c2"
      },
      "source": [
        "# Thick colored lines represent the interquartile range time to event\n",
        "# Black dots in the middle represent median probability time to event\n",
        "import matplotlib as mp\n",
        "fig, ax = plt.subplots(figsize=(6,8))\n",
        "\n",
        "plt.xlim([0,2000])\n",
        "plt.ylim([0,7])\n",
        "rect1 = mp.patches.Rectangle((GS_AFT.iloc[0,3],5.8), (GS_AFT.iloc[0,1]-GS_AFT.iloc[0,3]), 0.4, edgecolor='white', facecolor='#3359CC')\n",
        "rect2 = mp.patches.Rectangle((GS_AFT.iloc[1,3],4.8), (GS_AFT.iloc[1,1]-GS_AFT.iloc[1,3]), 0.4, edgecolor='white', facecolor='#80b5ff')\n",
        "rect3 = mp.patches.Rectangle((GS_AFT.iloc[2,3],3.8), (GS_AFT.iloc[2,1]-GS_AFT.iloc[2,3]), 0.4, edgecolor='white', facecolor='#3359CC')\n",
        "rect4 = mp.patches.Rectangle((GS_AFT.iloc[3,3],2.8), (GS_AFT.iloc[3,1]-GS_AFT.iloc[3,3]), 0.4, edgecolor='white', facecolor='#80b5ff')\n",
        "rect5 = mp.patches.Rectangle((GS_AFT.iloc[4,3],1.8), (GS_AFT.iloc[4,1]-GS_AFT.iloc[4,3]), 0.4, edgecolor='white', facecolor='#3359CC')\n",
        "rect6 = mp.patches.Rectangle((GS_AFT.iloc[5,3],0.8), (GS_AFT.iloc[5,1]-GS_AFT.iloc[5,3]), 0.4, edgecolor='white', facecolor='#80b5ff')\n",
        "plt.plot(GS_AFT.iloc[0,2],6,'ko')\n",
        "plt.plot(GS_AFT.iloc[1,2],5,'ko')\n",
        "plt.plot(GS_AFT.iloc[2,2],4,'ko')\n",
        "plt.plot(GS_AFT.iloc[3,2],3,'ko')\n",
        "plt.plot(GS_AFT.iloc[4,2],2,'ko')\n",
        "plt.plot(GS_AFT.iloc[5,2],1,'ko')\n",
        "\n",
        "ax.yaxis.set_visible(False)\n",
        "ax.add_patch(rect1)\n",
        "ax.add_patch(rect2)\n",
        "ax.add_patch(rect3)\n",
        "ax.add_patch(rect4)\n",
        "ax.add_patch(rect5)\n",
        "ax.add_patch(rect6)"
      ],
      "execution_count": null,
      "outputs": [
        {
          "output_type": "execute_result",
          "data": {
            "text/plain": [
              "<matplotlib.patches.Rectangle at 0x7f824c8e7350>"
            ]
          },
          "metadata": {
            "tags": []
          },
          "execution_count": 127
        },
        {
          "output_type": "display_data",
          "data": {
            "image/png": "[encoded data removed]",
            "text/plain": [
              "<Figure size 432x576 with 1 Axes>"
            ]
          },
          "metadata": {
            "tags": [],
            "needs_background": "light"
          }
        }
      ]
    },
    {
      "cell_type": "code",
      "metadata": {
        "colab": {
          "base_uri": "https://localhost:8080/",
          "height": 237
        },
        "id": "AQUQbvGTQ9zX",
        "outputId": "fa7d888b-602c-4b26-d375-3ac42adb4ded"
      },
      "source": [
        "GS_COX"
      ],
      "execution_count": null,
      "outputs": [
        {
          "output_type": "execute_result",
          "data": {
            "text/html": [
              "<div>\n",
              "<style scoped>\n",
              "    .dataframe tbody tr th:only-of-type {\n",
              "        vertical-align: middle;\n",
              "    }\n",
              "\n",
              "    .dataframe tbody tr th {\n",
              "        vertical-align: top;\n",
              "    }\n",
              "\n",
              "    .dataframe thead th {\n",
              "        text-align: right;\n",
              "    }\n",
              "</style>\n",
              "<table border=\"1\" class=\"dataframe\">\n",
              "  <thead>\n",
              "    <tr style=\"text-align: right;\">\n",
              "      <th></th>\n",
              "      <th>model</th>\n",
              "      <th>25%</th>\n",
              "      <th>50%</th>\n",
              "      <th>75%</th>\n",
              "    </tr>\n",
              "  </thead>\n",
              "  <tbody>\n",
              "    <tr>\n",
              "      <th>0</th>\n",
              "      <td>KM rapid</td>\n",
              "      <td>309.0</td>\n",
              "      <td>182.0</td>\n",
              "      <td>91.0</td>\n",
              "    </tr>\n",
              "    <tr>\n",
              "      <th>1</th>\n",
              "      <td>Cox rapid</td>\n",
              "      <td>355.0</td>\n",
              "      <td>219.0</td>\n",
              "      <td>122.0</td>\n",
              "    </tr>\n",
              "    <tr>\n",
              "      <th>2</th>\n",
              "      <td>KM intermediate</td>\n",
              "      <td>884.0</td>\n",
              "      <td>497.0</td>\n",
              "      <td>338.0</td>\n",
              "    </tr>\n",
              "    <tr>\n",
              "      <th>3</th>\n",
              "      <td>Cox intermediate</td>\n",
              "      <td>909.0</td>\n",
              "      <td>497.0</td>\n",
              "      <td>308.0</td>\n",
              "    </tr>\n",
              "    <tr>\n",
              "      <th>4</th>\n",
              "      <td>KM slow</td>\n",
              "      <td>1234.0</td>\n",
              "      <td>1037.0</td>\n",
              "      <td>614.0</td>\n",
              "    </tr>\n",
              "    <tr>\n",
              "      <th>5</th>\n",
              "      <td>Cox slow</td>\n",
              "      <td>inf</td>\n",
              "      <td>946.0</td>\n",
              "      <td>483.0</td>\n",
              "    </tr>\n",
              "  </tbody>\n",
              "</table>\n",
              "</div>"
            ],
            "text/plain": [
              "              model     25%     50%    75%\n",
              "0          KM rapid   309.0   182.0   91.0\n",
              "1         Cox rapid   355.0   219.0  122.0\n",
              "2   KM intermediate   884.0   497.0  338.0\n",
              "3  Cox intermediate   909.0   497.0  308.0\n",
              "4           KM slow  1234.0  1037.0  614.0\n",
              "5          Cox slow     inf   946.0  483.0"
            ]
          },
          "metadata": {
            "tags": []
          },
          "execution_count": 113
        }
      ]
    },
    {
      "cell_type": "code",
      "metadata": {
        "colab": {
          "base_uri": "https://localhost:8080/",
          "height": 502
        },
        "id": "rvK_KBMIUKhO",
        "outputId": "cb3c2ee3-0c81-4a0f-abf4-dd9c277f7122"
      },
      "source": [
        "# Thick colored lines represent the interquartile range time to event\n",
        "# Black dots in the middle represent median probability time to event\n",
        "fig, ax = plt.subplots(figsize=(6,8))\n",
        "\n",
        "plt.xlim([0,2000])\n",
        "plt.ylim([0,7])\n",
        "rect1 = mp.patches.Rectangle((GS_COX.iloc[0,3],5.8), (GS_COX.iloc[0,1]-GS_COX.iloc[0,3]), 0.4, edgecolor='white', facecolor='#853C3C')\n",
        "rect2 = mp.patches.Rectangle((GS_COX.iloc[1,3],4.8), (GS_COX.iloc[1,1]-GS_COX.iloc[1,3]), 0.4, edgecolor='white', facecolor='#CD7070')\n",
        "rect3 = mp.patches.Rectangle((GS_COX.iloc[2,3],3.8), (GS_COX.iloc[2,1]-GS_COX.iloc[2,3]), 0.4, edgecolor='white', facecolor='#853C3C')\n",
        "rect4 = mp.patches.Rectangle((GS_COX.iloc[3,3],2.8), (GS_COX.iloc[3,1]-GS_COX.iloc[3,3]), 0.4, edgecolor='white', facecolor='#CD7070')\n",
        "rect5 = mp.patches.Rectangle((GS_COX.iloc[4,3],1.8), (GS_COX.iloc[4,1]-GS_COX.iloc[4,3]), 0.4, edgecolor='white', facecolor='#853C3C')\n",
        "rect6 = mp.patches.Rectangle((GS_COX.iloc[5,3],0.8), 2000, 0.4, edgecolor='white', facecolor='#CD7070')\n",
        "plt.plot(GS_COX.iloc[0,2],6,'ko')\n",
        "plt.plot(GS_COX.iloc[1,2],5,'ko')\n",
        "plt.plot(GS_COX.iloc[2,2],4,'ko')\n",
        "plt.plot(GS_COX.iloc[3,2],3,'ko')\n",
        "plt.plot(GS_COX.iloc[4,2],2,'ko')\n",
        "plt.plot(GS_COX.iloc[5,2],1,'ko')\n",
        "\n",
        "ax.yaxis.set_visible(False)\n",
        "ax.add_patch(rect1)\n",
        "ax.add_patch(rect2)\n",
        "ax.add_patch(rect3)\n",
        "ax.add_patch(rect4)\n",
        "ax.add_patch(rect5)\n",
        "ax.add_patch(rect6)"
      ],
      "execution_count": null,
      "outputs": [
        {
          "output_type": "execute_result",
          "data": {
            "text/plain": [
              "<matplotlib.patches.Rectangle at 0x7f8247a1ab50>"
            ]
          },
          "metadata": {
            "tags": []
          },
          "execution_count": 115
        },
        {
          "output_type": "display_data",
          "data": {
            "image/png": "[encoded data removed]",
            "text/plain": [
              "<Figure size 432x576 with 1 Axes>"
            ]
          },
          "metadata": {
            "tags": [],
            "needs_background": "light"
          }
        }
      ]
    },
    {
      "cell_type": "code",
      "metadata": {
        "colab": {
          "base_uri": "https://localhost:8080/",
          "height": 237
        },
        "id": "385EwLKtYVmc",
        "outputId": "8c742ab0-a4ff-4285-84d9-c0ae07644842"
      },
      "source": [
        "GS_RSF"
      ],
      "execution_count": null,
      "outputs": [
        {
          "output_type": "execute_result",
          "data": {
            "text/html": [
              "<div>\n",
              "<style scoped>\n",
              "    .dataframe tbody tr th:only-of-type {\n",
              "        vertical-align: middle;\n",
              "    }\n",
              "\n",
              "    .dataframe tbody tr th {\n",
              "        vertical-align: top;\n",
              "    }\n",
              "\n",
              "    .dataframe thead th {\n",
              "        text-align: right;\n",
              "    }\n",
              "</style>\n",
              "<table border=\"1\" class=\"dataframe\">\n",
              "  <thead>\n",
              "    <tr style=\"text-align: right;\">\n",
              "      <th></th>\n",
              "      <th>model</th>\n",
              "      <th>25%</th>\n",
              "      <th>50%</th>\n",
              "      <th>75%</th>\n",
              "    </tr>\n",
              "  </thead>\n",
              "  <tbody>\n",
              "    <tr>\n",
              "      <th>0</th>\n",
              "      <td>KM rapid</td>\n",
              "      <td>281.0</td>\n",
              "      <td>174.0</td>\n",
              "      <td>89.0</td>\n",
              "    </tr>\n",
              "    <tr>\n",
              "      <th>1</th>\n",
              "      <td>Rsf rapid</td>\n",
              "      <td>416.0</td>\n",
              "      <td>212.0</td>\n",
              "      <td>112.0</td>\n",
              "    </tr>\n",
              "    <tr>\n",
              "      <th>2</th>\n",
              "      <td>KM intermediate</td>\n",
              "      <td>751.0</td>\n",
              "      <td>484.0</td>\n",
              "      <td>355.0</td>\n",
              "    </tr>\n",
              "    <tr>\n",
              "      <th>3</th>\n",
              "      <td>Rsf intermediate</td>\n",
              "      <td>inf</td>\n",
              "      <td>502.0</td>\n",
              "      <td>413.0</td>\n",
              "    </tr>\n",
              "    <tr>\n",
              "      <th>4</th>\n",
              "      <td>KM slow</td>\n",
              "      <td>1702.0</td>\n",
              "      <td>1234.0</td>\n",
              "      <td>1073.0</td>\n",
              "    </tr>\n",
              "    <tr>\n",
              "      <th>5</th>\n",
              "      <td>Rsf slow</td>\n",
              "      <td>inf</td>\n",
              "      <td>inf</td>\n",
              "      <td>1188.0</td>\n",
              "    </tr>\n",
              "  </tbody>\n",
              "</table>\n",
              "</div>"
            ],
            "text/plain": [
              "              model     25%     50%     75%\n",
              "0          KM rapid   281.0   174.0    89.0\n",
              "1         Rsf rapid   416.0   212.0   112.0\n",
              "2   KM intermediate   751.0   484.0   355.0\n",
              "3  Rsf intermediate     inf   502.0   413.0\n",
              "4           KM slow  1702.0  1234.0  1073.0\n",
              "5          Rsf slow     inf     inf  1188.0"
            ]
          },
          "metadata": {
            "tags": []
          },
          "execution_count": 116
        }
      ]
    },
    {
      "cell_type": "code",
      "metadata": {
        "colab": {
          "base_uri": "https://localhost:8080/",
          "height": 502
        },
        "id": "kTt05bk2YNG-",
        "outputId": "e489c3c8-1f7e-45a2-da7c-a4f7f79c9bd1"
      },
      "source": [
        "# Thick colored lines represent the interquartile range time to event\n",
        "# Black dots in the middle represent median probability time to event\n",
        "fig, ax = plt.subplots(figsize=(6,8))\n",
        "\n",
        "plt.xlim([0,2000])\n",
        "plt.ylim([0,7])\n",
        "rect1 = mp.patches.Rectangle((GS_RSF.iloc[0,3],5.8), (GS_RSF.iloc[0,1]-GS_RSF.iloc[0,3]), 0.4, edgecolor='white', facecolor='#009000')\n",
        "rect2 = mp.patches.Rectangle((GS_RSF.iloc[1,3],4.8), (GS_RSF.iloc[1,1]-GS_RSF.iloc[1,3]), 0.4, edgecolor='white', facecolor='#8FCC52')\n",
        "rect3 = mp.patches.Rectangle((GS_RSF.iloc[2,3],3.8), (GS_RSF.iloc[2,1]-GS_RSF.iloc[2,3]), 0.4, edgecolor='white', facecolor='#009000')\n",
        "rect4 = mp.patches.Rectangle((GS_RSF.iloc[3,3],2.8), 2000, 0.4, edgecolor='white', facecolor='#8FCC52')\n",
        "rect5 = mp.patches.Rectangle((GS_RSF.iloc[4,3],1.8), (GS_RSF.iloc[4,1]-GS_RSF.iloc[4,3]), 0.4, edgecolor='white', facecolor='#009000')\n",
        "rect6 = mp.patches.Rectangle((GS_RSF.iloc[5,3],0.8), 2000, 0.4, edgecolor='white', facecolor='#8FCC52')\n",
        "plt.plot(GS_RSF.iloc[0,2],6,'ko')\n",
        "plt.plot(GS_RSF.iloc[1,2],5,'ko')\n",
        "plt.plot(GS_RSF.iloc[2,2],4,'ko')\n",
        "plt.plot(GS_RSF.iloc[3,2],3,'ko')\n",
        "plt.plot(GS_RSF.iloc[4,2],2,'ko')\n",
        "\n",
        "ax.yaxis.set_visible(False)\n",
        "ax.add_patch(rect1)\n",
        "ax.add_patch(rect2)\n",
        "ax.add_patch(rect3)\n",
        "ax.add_patch(rect4)\n",
        "ax.add_patch(rect5)\n",
        "ax.add_patch(rect6)"
      ],
      "execution_count": null,
      "outputs": [
        {
          "output_type": "execute_result",
          "data": {
            "text/plain": [
              "<matplotlib.patches.Rectangle at 0x7f824cab3b90>"
            ]
          },
          "metadata": {
            "tags": []
          },
          "execution_count": 123
        },
        {
          "output_type": "display_data",
          "data": {
            "image/png": "[encoded data removed]",
            "text/plain": [
              "<Figure size 432x576 with 1 Axes>"
            ]
          },
          "metadata": {
            "tags": [],
            "needs_background": "light"
          }
        }
      ]
    }
  ]
}